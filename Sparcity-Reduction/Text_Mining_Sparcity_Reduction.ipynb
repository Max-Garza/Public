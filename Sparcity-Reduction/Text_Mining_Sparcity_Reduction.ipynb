{
  "cells": [
    {
      "cell_type": "markdown",
      "metadata": {
        "id": "IPlEy85Q0JMf"
      },
      "source": [
        "# **TEXT MINING SPARCITY REDUCTION**"
      ]
    },
    {
      "cell_type": "markdown",
      "metadata": {
        "id": "rh463gPPupWc"
      },
      "source": [
        "## **Project Purpose**\n",
        "In text mining, analysts often remove words based on how many documents they occur in, i.e. removing words occurring in 1% of documents. However, this does not guarantee that models are being fed important words.\n",
        "\n",
        "This project examines alternatives to document-frequency-based word selection, namely through the identification of \"important words.\" Different techniques ranks words differently, and these ranks may allow one to select words that ensure models have only the information needed to perform well.\n",
        "\n",
        "Ideally, this will reveal a process that selects words in a manner that enhances supervised classification model performance. The findings of this work could improve text mining practices going forward. For instance, it could help models classify IT support tickets, review topics, and project descriptions more accurately."
      ]
    },
    {
      "cell_type": "markdown",
      "metadata": {
        "id": "-WQseuOr0PL3"
      },
      "source": [
        "## **Project Goal**\n",
        "Determine which approach to text feature selection produces the best multinomial naive-bayes model:\n",
        "* Selecting words based on feature importances determined by TF-IDF rankings.\n",
        "* Selecting words based on feature importances determined by KS test rankings.\n",
        "* Selecting words based on the mean of TF-IDF and KS test feature importance rankings."
      ]
    },
    {
      "cell_type": "markdown",
      "metadata": {
        "id": "SdC_arcd2Ajo"
      },
      "source": [
        "## **Data Used**\n",
        "This project uses a collection of Amazon fashion product reviews scraped in 2018. Several products are included in the review set. Further information on products is provided in a metadata file. Both files are in JSON format.\n",
        "\n",
        "\n",
        "---\n",
        "\n",
        "\n",
        "**Citation**\n",
        "\n",
        "Justifying recommendations using distantly-labeled reviews and fined-grained aspects\n",
        "\n",
        "Jianmo Ni, Jiacheng Li, Julian McAuley\n",
        "\n",
        "Empirical Methods in Natural Language Processing (EMNLP), 2019"
      ]
    },
    {
      "cell_type": "markdown",
      "metadata": {
        "id": "GhX-Q4rj3D0T"
      },
      "source": [
        "## **Project Design**\n",
        "This project was ran in Python version 3.11.5.\n",
        "\n",
        "Prior to testing various sparcity reduction methods, a number of standard text preprocessing techniques are used on the review texts:\n",
        "* Lowercasing\n",
        "* Removal of punctuation and special characters\n",
        "* Removal of stop words\n",
        "* Removal of noise, like URLs and HTML tags\n",
        "* Lemmatization\n",
        "* Tokenization\n",
        "\n",
        "Sparcity reduction via various word ranking techniques was tested at the following word counts:\n",
        "* 272 words\n",
        "* 334 words\n",
        "* 404 words\n",
        "* 553 words\n",
        "* 834 words\n",
        "\n",
        "At each word count, data loss was tested by checking the number of non-null entries after filtering the entire review text column to the top x words. Review text training and testing sets were filtered to the top x words. Then, said sets were given to a multinomial naive-bayes model for classification. Specifically, the model tries to predict the topic of review texts as identified through LDA. No over or undersampling was performed and no parameters were adjusted in the model."
      ]
    },
    {
      "cell_type": "markdown",
      "metadata": {
        "id": "ICJ-ARFF3fJC"
      },
      "source": [
        "# **IMPORTS**"
      ]
    },
    {
      "cell_type": "code",
      "execution_count": 1,
      "metadata": {
        "colab": {
          "base_uri": "https://localhost:8080/"
        },
        "id": "aPsnqhio0H0V",
        "outputId": "ecda69b5-85f0-4dfc-ad5a-7ac11d65d7f2"
      },
      "outputs": [
        {
          "name": "stdout",
          "output_type": "stream",
          "text": [
            "Requirement already satisfied: swifter in c:\\users\\maxwe\\appdata\\local\\programs\\python\\python311\\lib\\site-packages (1.4.0)\n",
            "Requirement already satisfied: pandas>=1.0.0 in c:\\users\\maxwe\\appdata\\local\\programs\\python\\python311\\lib\\site-packages (from swifter) (2.1.1)\n",
            "Requirement already satisfied: psutil>=5.6.6 in c:\\users\\maxwe\\appdata\\local\\programs\\python\\python311\\lib\\site-packages (from swifter) (5.9.8)\n",
            "Requirement already satisfied: dask>=2.10.0 in c:\\users\\maxwe\\appdata\\local\\programs\\python\\python311\\lib\\site-packages (from dask[dataframe]>=2.10.0->swifter) (2024.5.0)\n",
            "Requirement already satisfied: tqdm>=4.33.0 in c:\\users\\maxwe\\appdata\\local\\programs\\python\\python311\\lib\\site-packages (from swifter) (4.66.4)\n",
            "Requirement already satisfied: click>=8.1 in c:\\users\\maxwe\\appdata\\local\\programs\\python\\python311\\lib\\site-packages (from dask>=2.10.0->dask[dataframe]>=2.10.0->swifter) (8.1.7)\n",
            "Requirement already satisfied: cloudpickle>=1.5.0 in c:\\users\\maxwe\\appdata\\local\\programs\\python\\python311\\lib\\site-packages (from dask>=2.10.0->dask[dataframe]>=2.10.0->swifter) (3.0.0)\n",
            "Requirement already satisfied: fsspec>=2021.09.0 in c:\\users\\maxwe\\appdata\\local\\programs\\python\\python311\\lib\\site-packages (from dask>=2.10.0->dask[dataframe]>=2.10.0->swifter) (2024.3.1)\n",
            "Requirement already satisfied: packaging>=20.0 in c:\\users\\maxwe\\appdata\\local\\programs\\python\\python311\\lib\\site-packages (from dask>=2.10.0->dask[dataframe]>=2.10.0->swifter) (23.1)\n",
            "Requirement already satisfied: partd>=1.2.0 in c:\\users\\maxwe\\appdata\\local\\programs\\python\\python311\\lib\\site-packages (from dask>=2.10.0->dask[dataframe]>=2.10.0->swifter) (1.4.2)\n",
            "Requirement already satisfied: pyyaml>=5.3.1 in c:\\users\\maxwe\\appdata\\local\\programs\\python\\python311\\lib\\site-packages (from dask>=2.10.0->dask[dataframe]>=2.10.0->swifter) (6.0.1)\n",
            "Requirement already satisfied: toolz>=0.10.0 in c:\\users\\maxwe\\appdata\\local\\programs\\python\\python311\\lib\\site-packages (from dask>=2.10.0->dask[dataframe]>=2.10.0->swifter) (0.12.1)\n",
            "Requirement already satisfied: importlib-metadata>=4.13.0 in c:\\users\\maxwe\\appdata\\local\\programs\\python\\python311\\lib\\site-packages (from dask>=2.10.0->dask[dataframe]>=2.10.0->swifter) (7.1.0)\n",
            "Requirement already satisfied: dask-expr<1.2,>=1.1 in c:\\users\\maxwe\\appdata\\local\\programs\\python\\python311\\lib\\site-packages (from dask[dataframe]>=2.10.0->swifter) (1.1.0)\n",
            "Requirement already satisfied: numpy>=1.23.2 in c:\\users\\maxwe\\appdata\\local\\programs\\python\\python311\\lib\\site-packages (from pandas>=1.0.0->swifter) (1.26.0)\n",
            "Requirement already satisfied: python-dateutil>=2.8.2 in c:\\users\\maxwe\\appdata\\local\\programs\\python\\python311\\lib\\site-packages (from pandas>=1.0.0->swifter) (2.8.2)\n",
            "Requirement already satisfied: pytz>=2020.1 in c:\\users\\maxwe\\appdata\\local\\programs\\python\\python311\\lib\\site-packages (from pandas>=1.0.0->swifter) (2023.3.post1)\n",
            "Requirement already satisfied: tzdata>=2022.1 in c:\\users\\maxwe\\appdata\\local\\programs\\python\\python311\\lib\\site-packages (from pandas>=1.0.0->swifter) (2023.3)\n",
            "Requirement already satisfied: colorama in c:\\users\\maxwe\\appdata\\local\\programs\\python\\python311\\lib\\site-packages (from tqdm>=4.33.0->swifter) (0.4.6)\n",
            "Requirement already satisfied: pyarrow>=7.0.0 in c:\\users\\maxwe\\appdata\\local\\programs\\python\\python311\\lib\\site-packages (from dask-expr<1.2,>=1.1->dask[dataframe]>=2.10.0->swifter) (16.0.0)\n",
            "Requirement already satisfied: zipp>=0.5 in c:\\users\\maxwe\\appdata\\local\\programs\\python\\python311\\lib\\site-packages (from importlib-metadata>=4.13.0->dask>=2.10.0->dask[dataframe]>=2.10.0->swifter) (3.18.1)\n",
            "Requirement already satisfied: locket in c:\\users\\maxwe\\appdata\\local\\programs\\python\\python311\\lib\\site-packages (from partd>=1.2.0->dask>=2.10.0->dask[dataframe]>=2.10.0->swifter) (1.0.0)\n",
            "Requirement already satisfied: six>=1.5 in c:\\users\\maxwe\\appdata\\local\\programs\\python\\python311\\lib\\site-packages (from python-dateutil>=2.8.2->pandas>=1.0.0->swifter) (1.16.0)\n",
            "Note: you may need to restart the kernel to use updated packages.\n"
          ]
        },
        {
          "name": "stderr",
          "output_type": "stream",
          "text": [
            "c:\\Users\\maxwe\\AppData\\Local\\Programs\\Python\\Python311\\Lib\\site-packages\\tqdm\\auto.py:21: TqdmWarning: IProgress not found. Please update jupyter and ipywidgets. See https://ipywidgets.readthedocs.io/en/stable/user_install.html\n",
            "  from .autonotebook import tqdm as notebook_tqdm\n"
          ]
        },
        {
          "name": "stdout",
          "output_type": "stream",
          "text": [
            "Requirement already satisfied: nltk in c:\\users\\maxwe\\appdata\\local\\programs\\python\\python311\\lib\\site-packages (3.8.1)\n",
            "Requirement already satisfied: click in c:\\users\\maxwe\\appdata\\local\\programs\\python\\python311\\lib\\site-packages (from nltk) (8.1.7)\n",
            "Requirement already satisfied: joblib in c:\\users\\maxwe\\appdata\\local\\programs\\python\\python311\\lib\\site-packages (from nltk) (1.3.2)\n",
            "Requirement already satisfied: regex>=2021.8.3 in c:\\users\\maxwe\\appdata\\local\\programs\\python\\python311\\lib\\site-packages (from nltk) (2024.4.28)\n",
            "Requirement already satisfied: tqdm in c:\\users\\maxwe\\appdata\\local\\programs\\python\\python311\\lib\\site-packages (from nltk) (4.66.4)\n",
            "Requirement already satisfied: colorama in c:\\users\\maxwe\\appdata\\local\\programs\\python\\python311\\lib\\site-packages (from click->nltk) (0.4.6)\n",
            "Note: you may need to restart the kernel to use updated packages.\n"
          ]
        },
        {
          "name": "stderr",
          "output_type": "stream",
          "text": [
            "[nltk_data] Downloading package stopwords to\n",
            "[nltk_data]     C:\\Users\\maxwe\\AppData\\Roaming\\nltk_data...\n",
            "[nltk_data]   Package stopwords is already up-to-date!\n",
            "[nltk_data] Downloading package wordnet to\n",
            "[nltk_data]     C:\\Users\\maxwe\\AppData\\Roaming\\nltk_data...\n",
            "[nltk_data]   Package wordnet is already up-to-date!\n",
            "[nltk_data] Downloading package punkt to\n",
            "[nltk_data]     C:\\Users\\maxwe\\AppData\\Roaming\\nltk_data...\n",
            "[nltk_data]   Package punkt is already up-to-date!\n"
          ]
        },
        {
          "name": "stdout",
          "output_type": "stream",
          "text": [
            "Requirement already satisfied: gensim in c:\\users\\maxwe\\appdata\\local\\programs\\python\\python311\\lib\\site-packages (4.3.2)\n",
            "Requirement already satisfied: numpy>=1.18.5 in c:\\users\\maxwe\\appdata\\local\\programs\\python\\python311\\lib\\site-packages (from gensim) (1.26.0)\n",
            "Requirement already satisfied: scipy>=1.7.0 in c:\\users\\maxwe\\appdata\\local\\programs\\python\\python311\\lib\\site-packages (from gensim) (1.11.2)\n",
            "Requirement already satisfied: smart-open>=1.8.1 in c:\\users\\maxwe\\appdata\\local\\programs\\python\\python311\\lib\\site-packages (from gensim) (7.0.4)\n",
            "Requirement already satisfied: wrapt in c:\\users\\maxwe\\appdata\\local\\programs\\python\\python311\\lib\\site-packages (from smart-open>=1.8.1->gensim) (1.16.0)\n",
            "Note: you may need to restart the kernel to use updated packages.\n"
          ]
        }
      ],
      "source": [
        "# Parallelization\n",
        "%pip install swifter\n",
        "import swifter\n",
        "\n",
        "# Data access and manipulation\n",
        "import pandas as pd\n",
        "import numpy as np\n",
        "from sklearn.model_selection import train_test_split\n",
        "\n",
        "# Text preprocessing\n",
        "import re\n",
        "%pip install nltk\n",
        "import nltk\n",
        "nltk.download('stopwords')\n",
        "nltk.download('wordnet')\n",
        "from nltk.corpus import stopwords\n",
        "from nltk.stem import WordNetLemmatizer\n",
        "from nltk.tokenize import word_tokenize\n",
        "nltk.download('punkt')\n",
        "\n",
        "# Topic modeling\n",
        "%pip install gensim\n",
        "import gensim\n",
        "import gensim.corpora as corpora\n",
        "from gensim.models import CoherenceModel\n",
        "from pprint import pprint\n",
        "\n",
        "# Sparcity reduction techniques\n",
        "from sklearn.feature_extraction.text import CountVectorizer\n",
        "from scipy import stats\n",
        "\n",
        "# TF-IDF vectorization\n",
        "from sklearn.feature_extraction.text import TfidfVectorizer as tfidf\n",
        "\n",
        "# Classification model\n",
        "from sklearn.naive_bayes import MultinomialNB\n",
        "from sklearn.metrics import classification_report"
      ]
    },
    {
      "cell_type": "markdown",
      "metadata": {
        "id": "w9nk_RA_Bo_A"
      },
      "source": [
        "# **DATA PREPARATION**"
      ]
    },
    {
      "cell_type": "markdown",
      "metadata": {
        "id": "vM-YOi4iC1s-"
      },
      "source": [
        "## **Fetching Data**"
      ]
    },
    {
      "cell_type": "code",
      "execution_count": 2,
      "metadata": {
        "colab": {
          "base_uri": "https://localhost:8080/",
          "height": 362
        },
        "id": "x-N0NFgq0C_F",
        "outputId": "bd9297a9-d1ff-4482-9d6a-247cb5cce1e5"
      },
      "outputs": [
        {
          "data": {
            "text/html": [
              "<div>\n",
              "<style scoped>\n",
              "    .dataframe tbody tr th:only-of-type {\n",
              "        vertical-align: middle;\n",
              "    }\n",
              "\n",
              "    .dataframe tbody tr th {\n",
              "        vertical-align: top;\n",
              "    }\n",
              "\n",
              "    .dataframe thead th {\n",
              "        text-align: right;\n",
              "    }\n",
              "</style>\n",
              "<table border=\"1\" class=\"dataframe\">\n",
              "  <thead>\n",
              "    <tr style=\"text-align: right;\">\n",
              "      <th></th>\n",
              "      <th>overall</th>\n",
              "      <th>verified</th>\n",
              "      <th>reviewTime</th>\n",
              "      <th>reviewerID</th>\n",
              "      <th>asin</th>\n",
              "      <th>reviewerName</th>\n",
              "      <th>reviewText</th>\n",
              "      <th>summary</th>\n",
              "      <th>unixReviewTime</th>\n",
              "      <th>vote</th>\n",
              "      <th>style</th>\n",
              "      <th>image</th>\n",
              "    </tr>\n",
              "  </thead>\n",
              "  <tbody>\n",
              "    <tr>\n",
              "      <th>0</th>\n",
              "      <td>5</td>\n",
              "      <td>True</td>\n",
              "      <td>10 20, 2014</td>\n",
              "      <td>A1D4G1SNUZWQOT</td>\n",
              "      <td>7106116521</td>\n",
              "      <td>Tracy</td>\n",
              "      <td>Exactly what I needed.</td>\n",
              "      <td>perfect replacements!!</td>\n",
              "      <td>1413763200</td>\n",
              "      <td>NaN</td>\n",
              "      <td>NaN</td>\n",
              "      <td>NaN</td>\n",
              "    </tr>\n",
              "    <tr>\n",
              "      <th>1</th>\n",
              "      <td>2</td>\n",
              "      <td>True</td>\n",
              "      <td>09 28, 2014</td>\n",
              "      <td>A3DDWDH9PX2YX2</td>\n",
              "      <td>7106116521</td>\n",
              "      <td>Sonja Lau</td>\n",
              "      <td>I agree with the other review, the opening is ...</td>\n",
              "      <td>I agree with the other review, the opening is ...</td>\n",
              "      <td>1411862400</td>\n",
              "      <td>3.0</td>\n",
              "      <td>NaN</td>\n",
              "      <td>NaN</td>\n",
              "    </tr>\n",
              "    <tr>\n",
              "      <th>2</th>\n",
              "      <td>4</td>\n",
              "      <td>False</td>\n",
              "      <td>08 25, 2014</td>\n",
              "      <td>A2MWC41EW7XL15</td>\n",
              "      <td>7106116521</td>\n",
              "      <td>Kathleen</td>\n",
              "      <td>Love these... I am going to order another pack...</td>\n",
              "      <td>My New 'Friends' !!</td>\n",
              "      <td>1408924800</td>\n",
              "      <td>NaN</td>\n",
              "      <td>NaN</td>\n",
              "      <td>NaN</td>\n",
              "    </tr>\n",
              "    <tr>\n",
              "      <th>3</th>\n",
              "      <td>2</td>\n",
              "      <td>True</td>\n",
              "      <td>08 24, 2014</td>\n",
              "      <td>A2UH2QQ275NV45</td>\n",
              "      <td>7106116521</td>\n",
              "      <td>Jodi Stoner</td>\n",
              "      <td>too tiny an opening</td>\n",
              "      <td>Two Stars</td>\n",
              "      <td>1408838400</td>\n",
              "      <td>NaN</td>\n",
              "      <td>NaN</td>\n",
              "      <td>NaN</td>\n",
              "    </tr>\n",
              "    <tr>\n",
              "      <th>4</th>\n",
              "      <td>3</td>\n",
              "      <td>False</td>\n",
              "      <td>07 27, 2014</td>\n",
              "      <td>A89F3LQADZBS5</td>\n",
              "      <td>7106116521</td>\n",
              "      <td>Alexander D.</td>\n",
              "      <td>Okay</td>\n",
              "      <td>Three Stars</td>\n",
              "      <td>1406419200</td>\n",
              "      <td>NaN</td>\n",
              "      <td>NaN</td>\n",
              "      <td>NaN</td>\n",
              "    </tr>\n",
              "  </tbody>\n",
              "</table>\n",
              "</div>"
            ],
            "text/plain": [
              "   overall  verified   reviewTime      reviewerID        asin  reviewerName  \\\n",
              "0        5      True  10 20, 2014  A1D4G1SNUZWQOT  7106116521         Tracy   \n",
              "1        2      True  09 28, 2014  A3DDWDH9PX2YX2  7106116521     Sonja Lau   \n",
              "2        4     False  08 25, 2014  A2MWC41EW7XL15  7106116521      Kathleen   \n",
              "3        2      True  08 24, 2014  A2UH2QQ275NV45  7106116521   Jodi Stoner   \n",
              "4        3     False  07 27, 2014   A89F3LQADZBS5  7106116521  Alexander D.   \n",
              "\n",
              "                                          reviewText  \\\n",
              "0                             Exactly what I needed.   \n",
              "1  I agree with the other review, the opening is ...   \n",
              "2  Love these... I am going to order another pack...   \n",
              "3                                too tiny an opening   \n",
              "4                                               Okay   \n",
              "\n",
              "                                             summary  unixReviewTime  vote  \\\n",
              "0                             perfect replacements!!      1413763200   NaN   \n",
              "1  I agree with the other review, the opening is ...      1411862400   3.0   \n",
              "2                                My New 'Friends' !!      1408924800   NaN   \n",
              "3                                          Two Stars      1408838400   NaN   \n",
              "4                                        Three Stars      1406419200   NaN   \n",
              "\n",
              "  style image  \n",
              "0   NaN   NaN  \n",
              "1   NaN   NaN  \n",
              "2   NaN   NaN  \n",
              "3   NaN   NaN  \n",
              "4   NaN   NaN  "
            ]
          },
          "execution_count": 2,
          "metadata": {},
          "output_type": "execute_result"
        }
      ],
      "source": [
        "# Fetch data files\n",
        "df = pd.read_json('AMAZON_FASHION.json', lines = True)\n",
        "\n",
        "# Show first 5 rows of \"df\"\n",
        "df.head()"
      ]
    },
    {
      "cell_type": "code",
      "execution_count": 3,
      "metadata": {
        "id": "LEBsxENGG6ji",
        "outputId": "d837cfa3-a546-4bcc-c437-6f7c52437c01"
      },
      "outputs": [
        {
          "data": {
            "text/plain": [
              "asin\n",
              "B000V0IBDM    4384\n",
              "B000KPIHQ4    4375\n",
              "B00I0VHS10    3889\n",
              "B00RLSCLJM    3638\n",
              "B000PHANNM    2572\n",
              "              ... \n",
              "B00VQHSOE0       1\n",
              "B00VQH61O0       1\n",
              "B00VQGEHII       1\n",
              "B00VQGZT76       1\n",
              "B01HJG5NMW       1\n",
              "Name: count, Length: 186189, dtype: int64"
            ]
          },
          "execution_count": 3,
          "metadata": {},
          "output_type": "execute_result"
        }
      ],
      "source": [
        "# Find most commonly reviewed item\n",
        "df['asin'].value_counts()"
      ]
    },
    {
      "cell_type": "code",
      "execution_count": 4,
      "metadata": {
        "colab": {
          "base_uri": "https://localhost:8080/"
        },
        "id": "LgKI_2HxIaiN",
        "outputId": "159e40de-57c0-4892-85f8-06ef5b39f45a"
      },
      "outputs": [
        {
          "name": "stdout",
          "output_type": "stream",
          "text": [
            "<class 'pandas.core.series.Series'>\n",
            "Index: 4384 entries, 24715 to 402442\n",
            "Series name: reviewText\n",
            "Non-Null Count  Dtype \n",
            "--------------  ----- \n",
            "4380 non-null   object\n",
            "dtypes: object(1)\n",
            "memory usage: 68.5+ KB\n"
          ]
        }
      ],
      "source": [
        "# Filter to the most commonly reviewed item\n",
        "df = df.loc[df['asin'] == 'B000V0IBDM']\n",
        "df = df['reviewText']\n",
        "# Get information on the resulting dataset\n",
        "df.info()"
      ]
    },
    {
      "cell_type": "code",
      "execution_count": 5,
      "metadata": {
        "colab": {
          "base_uri": "https://localhost:8080/"
        },
        "id": "MrPOVTI-JTb3",
        "outputId": "1cfe9063-a1cb-46d5-c4f1-202b4be9dbcd"
      },
      "outputs": [
        {
          "name": "stdout",
          "output_type": "stream",
          "text": [
            "<class 'pandas.core.series.Series'>\n",
            "Index: 4380 entries, 24715 to 402442\n",
            "Series name: reviewText\n",
            "Non-Null Count  Dtype \n",
            "--------------  ----- \n",
            "4380 non-null   object\n",
            "dtypes: object(1)\n",
            "memory usage: 68.4+ KB\n"
          ]
        }
      ],
      "source": [
        "# Drop null entries\n",
        "df.dropna(inplace=True)\n",
        "\n",
        "# Confirm dropping\n",
        "df.info()"
      ]
    },
    {
      "cell_type": "code",
      "execution_count": 6,
      "metadata": {
        "colab": {
          "base_uri": "https://localhost:8080/",
          "height": 206
        },
        "id": "4_rdBufoJfo5",
        "outputId": "37eb1c1a-7573-47da-c3d9-c8a3034737c0"
      },
      "outputs": [
        {
          "data": {
            "text/plain": [
              "24715    I  lo ed the old style but these are so much b...\n",
              "24716                                      Average insole.\n",
              "24717    I buy a new pair of these every six months. I ...\n",
              "24718    My podiatrist recommended these Powerstep Inso...\n",
              "24719    They worked well for the first few weeks and t...\n",
              "Name: reviewText, dtype: object"
            ]
          },
          "execution_count": 6,
          "metadata": {},
          "output_type": "execute_result"
        }
      ],
      "source": [
        "# Show first five rows of \"df\"\n",
        "df.head()"
      ]
    },
    {
      "cell_type": "markdown",
      "metadata": {
        "id": "qwWCD5XsK4K8"
      },
      "source": [
        "## **Text Preprocessing**"
      ]
    },
    {
      "cell_type": "markdown",
      "metadata": {
        "id": "EnsNAIosK_Po"
      },
      "source": [
        "### **LOWERCASING**"
      ]
    },
    {
      "cell_type": "code",
      "execution_count": 7,
      "metadata": {
        "id": "KB607RPxKuYw"
      },
      "outputs": [],
      "source": [
        "# Convert all words to lowercase\n",
        "df = df.str.lower()"
      ]
    },
    {
      "cell_type": "markdown",
      "metadata": {
        "id": "eKQz8HanLSnO"
      },
      "source": [
        "### **REMOVAL OF PUNCTUATION AND SPECIAL CHARACTERS**"
      ]
    },
    {
      "cell_type": "code",
      "execution_count": 8,
      "metadata": {
        "colab": {
          "base_uri": "https://localhost:8080/",
          "height": 49,
          "referenced_widgets": [
            "440b867d9e58498c8121e3ee5ac26094",
            "5136e433a02b497badf9c644402312e3",
            "d739d93c60814afda606b3624ab1047b",
            "4b1ffb41fbcb4841a0adf679258b23ab",
            "a181662a1d9f4c51a0bfad9b2d782df1",
            "bb02a666708d4c0996ad3c606f1147f8",
            "61220a4d7a1743388a903c57554453ee",
            "2d51d4cbca2e4097bad2427c4210f84f",
            "7a422cbe75e54737851ee5e58ad30805",
            "f4a7909ef83f4896983d0f07d897e29a",
            "d40dfe2785f34cbd9c6773fe07fce7b6"
          ]
        },
        "id": "tEKIKrpHLQXr",
        "outputId": "cd7579bd-7256-44c7-ca53-c16c4aa82ce0"
      },
      "outputs": [
        {
          "name": "stderr",
          "output_type": "stream",
          "text": [
            "Pandas Apply: 100%|██████████| 4380/4380 [00:00<00:00, 163660.47it/s]\n"
          ]
        }
      ],
      "source": [
        "# Remove punctuation and special characters\n",
        "df = df.swifter.apply(lambda x: re.sub(r'[^\\w\\s]', '', x))"
      ]
    },
    {
      "cell_type": "markdown",
      "metadata": {
        "id": "n7DjJwOERMWD"
      },
      "source": [
        "### **REMOVAL OF STOPWORDS**"
      ]
    },
    {
      "cell_type": "code",
      "execution_count": 9,
      "metadata": {
        "colab": {
          "base_uri": "https://localhost:8080/",
          "height": 49,
          "referenced_widgets": [
            "95b68d56d37a4e50b739c96d5098b6af",
            "a3401c7fd4504995bcb855cf37e68364",
            "b61bafdf577044c386aa74d4e132dd70",
            "88766c982934473ab91738c7c05267d1",
            "7e22824ab1204d0fa1b89ea0168f9657",
            "e70995b76e2d4a799b7d30e84fb291f9",
            "8692b00241154234b57c157468edaf19",
            "902cba575e6e40509508876d24c9d100",
            "3e7c56fa9de04082af4a36bf900565a5",
            "2c51b54fe291450391815bc0a179584e",
            "36ebd1af045b47b88bc19aa9ebf1a119"
          ]
        },
        "id": "SH58VAD0RO9Q",
        "outputId": "85cddbb0-c580-4387-fee4-ecc62392cb80"
      },
      "outputs": [
        {
          "name": "stderr",
          "output_type": "stream",
          "text": [
            "Pandas Apply: 100%|██████████| 4380/4380 [00:00<00:00, 17000.02it/s]\n"
          ]
        }
      ],
      "source": [
        "# Define stopwords\n",
        "stpwrds = stopwords.words('english')\n",
        "\n",
        "# Remove stopwords\n",
        "df = df.swifter.apply(lambda x: ' '.join(word for word in x.split() if word not in (stpwrds)))"
      ]
    },
    {
      "cell_type": "markdown",
      "metadata": {
        "id": "-_P6-mr6Mqug"
      },
      "source": [
        "### **REMOVAL OF URLS AND HTML TAGS**"
      ]
    },
    {
      "cell_type": "code",
      "execution_count": 10,
      "metadata": {
        "colab": {
          "base_uri": "https://localhost:8080/",
          "height": 49,
          "referenced_widgets": [
            "ab3c80b69ad54c1e8a3b6bb7bd61d29f",
            "768449b55bf44583a997388feec5cb9b",
            "21043fc38794453aa8382df80eadcf19",
            "511f134cf5ee4be1b860af8b0af2b2d0",
            "8366da818b9143939c4434d149b0c001",
            "0afa5bb993e74462945a2f885b675692",
            "f6250fe7e2b642c9a8833de0cf026b69",
            "65387119632249b897fe1cdc8459b832",
            "de0450c5524245319fb8c5367b99b7cf",
            "856e9bc629024d24926b745f06ced03a",
            "18f5ea948b234e4cb01a8aa8deb81ea4"
          ]
        },
        "id": "h1Lih-VyMplz",
        "outputId": "a8ad2144-327d-47a2-f649-a78286ac6cb5"
      },
      "outputs": [
        {
          "name": "stderr",
          "output_type": "stream",
          "text": [
            "Pandas Apply: 100%|██████████| 4380/4380 [00:00<00:00, 296992.28it/s]\n"
          ]
        }
      ],
      "source": [
        "# Remove URLs\n",
        "def remove_urls(text):\n",
        "  url_pattern = re.compile(r'https?://\\S+|www\\.\\S+')\n",
        "  return url_pattern.sub(r'', text)\n",
        "df = df.swifter.apply(remove_urls)"
      ]
    },
    {
      "cell_type": "markdown",
      "metadata": {
        "id": "cOJuDs9ONlw6"
      },
      "source": [
        "### **LEMMATIZATION**"
      ]
    },
    {
      "cell_type": "code",
      "execution_count": 11,
      "metadata": {
        "colab": {
          "base_uri": "https://localhost:8080/",
          "height": 49,
          "referenced_widgets": [
            "63ef4f8111084666af74f73089f78f4e",
            "53c80816e0654ea6a3d0e6acb2f901cb",
            "6c2b891e65714d37a779779b34aa09ed",
            "123c73ae1c72499696014ab5af1cafbb",
            "878d784308684b26b4196a2765a3d0b9",
            "c8001c9e209548c49e3a6919b1895c49",
            "39f44c8a5db9462ca93114c57a3b4a72",
            "f84abca565d340f8bb98c3a0771f9de7",
            "ebae845039964f908f92c08acb670cf1",
            "8f9f04192a75456b8f47c1cf28de95ae",
            "6116d87341e74ba48e90336c65321392"
          ]
        },
        "id": "LVXmDE5sNlXM",
        "outputId": "da757de6-f7ae-4c58-cf6a-1b5350cead3a"
      },
      "outputs": [
        {
          "name": "stderr",
          "output_type": "stream",
          "text": [
            "Pandas Apply: 100%|██████████| 4380/4380 [00:00<00:00, 12463.31it/s]\n"
          ]
        }
      ],
      "source": [
        "# Define lemmatizer\n",
        "lemmatize = WordNetLemmatizer()\n",
        "\n",
        "# Lemmatize\n",
        "def lemmatizer(text):\n",
        "  words = text.split()\n",
        "  words = [lemmatize.lemmatize(word, pos='v') for word in words]\n",
        "  return ' '.join(words)\n",
        "df = df.swifter.apply(lemmatizer)"
      ]
    },
    {
      "cell_type": "markdown",
      "metadata": {
        "id": "VfcwJKijODc1"
      },
      "source": [
        "### **REMOVE ALPHANUMERIC WORDS**"
      ]
    },
    {
      "cell_type": "code",
      "execution_count": 12,
      "metadata": {
        "colab": {
          "base_uri": "https://localhost:8080/",
          "height": 49,
          "referenced_widgets": [
            "c1622f4aa04d4b2abc6168d576c9227f",
            "26b4285d170448f5b2b4c54485bc7b9d",
            "68778e907bce4e67a3d86e587241bfea",
            "f512725356d14c729091e7d7204b71f3",
            "1ac56df948504df0b710b271fc3d7aa5",
            "c1725fa0f9094123a9324c2d52ccf07a",
            "a3983e3c772545078688724f1c86dc15",
            "180cb58c9a3241599862ed5d0be0197b",
            "bf8b132a7abc4cb588d9e52760e1b0d1",
            "1cbd3fac1c02409d96d14061f5b10b88",
            "3da3e8e200cd4273bcc6d9826243dae6"
          ]
        },
        "id": "K6qcPWUtOGsy",
        "outputId": "0992c4b5-0db0-4154-bd51-12ed804e77ee"
      },
      "outputs": [
        {
          "name": "stderr",
          "output_type": "stream",
          "text": [
            "Pandas Apply: 100%|██████████| 4380/4380 [00:00<00:00, 55554.03it/s]\n"
          ]
        }
      ],
      "source": [
        "# Define alphanumeric word removal function\n",
        "def remove_alphanumeric(text):\n",
        "  return ' '.join(word for word in text.split() if not any(char.isdigit() for char in word))\n",
        "\n",
        "# Remove alphanumeric words\n",
        "df = df.swifter.apply(remove_alphanumeric)"
      ]
    },
    {
      "cell_type": "markdown",
      "metadata": {
        "id": "wPiMD-trOqbC"
      },
      "source": [
        "### **TOKENIZATION**"
      ]
    },
    {
      "cell_type": "code",
      "execution_count": 13,
      "metadata": {
        "colab": {
          "base_uri": "https://localhost:8080/",
          "height": 49,
          "referenced_widgets": [
            "8d4745811cd84c0d8bebf62930276d1b",
            "ccb2d27114fc4e499d902bf79a6a1123",
            "1114adec70de4f4796c92d28670e11f9",
            "ecbb1e3d8e0f42b3a32dce0bfb7f4ffc",
            "45ae689a0d034edea5f7432ada630bc4",
            "4661b62f52b14156a2819fdc058f8f7a",
            "78dc08bbc4c74710adbbc50eb490082d",
            "a923f57ea7a54e8da95f3b9eab33cc1d",
            "4a88e0b8a7204d74b964fef496b8460e",
            "7fe26e8500744b528217bcc50a736e66",
            "549b232439194347a0873aa1a6aa687f"
          ]
        },
        "id": "mkI-5kgsNkLP",
        "outputId": "197d6918-a35d-43ab-944e-15531044fcaf"
      },
      "outputs": [
        {
          "name": "stderr",
          "output_type": "stream",
          "text": [
            "Pandas Apply: 100%|██████████| 4380/4380 [00:00<00:00, 8426.95it/s] \n"
          ]
        }
      ],
      "source": [
        "# Tokenize\n",
        "def tokenize_text(text):\n",
        "  tokens = word_tokenize(text)\n",
        "  return tokens\n",
        "df = df.swifter.apply(tokenize_text)"
      ]
    },
    {
      "cell_type": "markdown",
      "metadata": {
        "id": "kKL2EYEYaSuJ"
      },
      "source": [
        "### **FINAL CONFIRMATIONS**"
      ]
    },
    {
      "cell_type": "code",
      "execution_count": 14,
      "metadata": {
        "colab": {
          "base_uri": "https://localhost:8080/"
        },
        "id": "R3VvzA8GaW4q",
        "outputId": "89991ba3-d843-41a4-c316-79356de49a66"
      },
      "outputs": [
        {
          "name": "stdout",
          "output_type": "stream",
          "text": [
            "<class 'pandas.core.series.Series'>\n",
            "Index: 4380 entries, 24715 to 402442\n",
            "Series name: reviewText\n",
            "Non-Null Count  Dtype \n",
            "--------------  ----- \n",
            "4380 non-null   object\n",
            "dtypes: object(1)\n",
            "memory usage: 197.5+ KB\n"
          ]
        }
      ],
      "source": [
        "# Check for null values\n",
        "df.info()"
      ]
    },
    {
      "cell_type": "code",
      "execution_count": 15,
      "metadata": {
        "id": "faOimMEOG6jl",
        "outputId": "2efacabd-5dec-4527-9661-e928d8afdb2b"
      },
      "outputs": [
        {
          "data": {
            "text/plain": [
              "24715            [lo, ed, old, style, much, better, thank]\n",
              "24716                                    [average, insole]\n",
              "24717    [buy, new, pair, every, six, months, feet, lot...\n",
              "24718    [podiatrist, recommend, powerstep, insoles, of...\n",
              "24719    [work, well, first, weeks, go, little, hill, e...\n",
              "Name: reviewText, dtype: object"
            ]
          },
          "execution_count": 15,
          "metadata": {},
          "output_type": "execute_result"
        }
      ],
      "source": [
        "# Show dataframe\n",
        "df.head()"
      ]
    },
    {
      "cell_type": "markdown",
      "metadata": {
        "id": "Skdr3wl6G6jl"
      },
      "source": [
        "# **TOPIC MODELING**"
      ]
    },
    {
      "cell_type": "markdown",
      "metadata": {
        "id": "hBbGhtlwG6jl"
      },
      "source": [
        "## **Preparing Data for LDA**"
      ]
    },
    {
      "cell_type": "code",
      "execution_count": 16,
      "metadata": {
        "id": "LN3yglzSG6jm",
        "outputId": "9c51ce5a-08c4-426e-b8cd-c8e848db5864"
      },
      "outputs": [
        {
          "name": "stdout",
          "output_type": "stream",
          "text": [
            "[[(0, 1), (1, 1), (2, 1), (3, 1), (4, 1), (5, 1), (6, 1)], [(7, 1), (8, 1)], [(9, 1), (10, 1), (11, 1), (12, 1), (13, 1), (14, 1), (15, 1), (16, 1), (17, 1), (18, 1), (19, 1), (20, 1), (21, 1), (22, 1)], [(8, 1), (11, 1), (23, 1), (24, 1), (25, 1), (26, 1), (27, 1), (28, 1), (29, 1), (30, 1), (31, 1), (32, 1), (33, 1), (34, 1), (35, 1), (36, 1), (37, 1)], [(8, 1), (38, 1), (39, 1), (40, 1), (41, 2), (42, 1), (43, 1), (44, 1), (45, 1), (46, 1), (47, 1), (48, 1), (49, 1), (50, 1), (51, 1), (52, 1), (53, 2), (54, 1), (55, 2), (56, 1), (57, 1), (58, 1), (59, 1), (60, 2), (61, 1), (62, 2), (63, 1), (64, 1)], [(23, 1), (65, 1)], [(12, 2), (19, 1), (21, 1), (30, 1), (35, 1), (43, 1), (48, 1), (50, 1), (55, 1), (66, 1), (67, 1), (68, 2), (69, 1), (70, 1), (71, 1), (72, 1), (73, 3), (74, 1), (75, 2), (76, 1), (77, 2), (78, 1), (79, 1), (80, 1), (81, 1), (82, 2)], [(23, 1), (83, 1), (84, 1), (85, 1), (86, 1), (87, 1), (88, 1), (89, 1), (90, 1), (91, 1), (92, 1), (93, 1)], [(13, 1), (19, 1), (26, 1), (30, 1), (55, 1), (94, 1), (95, 1), (96, 1), (97, 1), (98, 1), (99, 1), (100, 2), (101, 1)], [(54, 1), (61, 1), (102, 1), (103, 1), (104, 1)], [(64, 1), (105, 1)], [(39, 1), (55, 1), (63, 1), (94, 1), (96, 1), (106, 1), (107, 1), (108, 1), (109, 1), (110, 1), (111, 1), (112, 1), (113, 1), (114, 1), (115, 1), (116, 2), (117, 1), (118, 1)], [(55, 1), (62, 1), (70, 1), (100, 1), (119, 1), (120, 1), (121, 1), (122, 1), (123, 1), (124, 1), (125, 1), (126, 1), (127, 1)], [(12, 1), (13, 1), (19, 1), (33, 1), (128, 1), (129, 1), (130, 1), (131, 1), (132, 1), (133, 1)], [(55, 1), (68, 1), (73, 1), (77, 1), (78, 1), (80, 1), (102, 1), (134, 1), (135, 1), (136, 1), (137, 1), (138, 1), (139, 2), (140, 1)], [(20, 1), (25, 1), (41, 1), (45, 1), (73, 2), (74, 1), (88, 1), (141, 1), (142, 1), (143, 1), (144, 1)], [(35, 1), (46, 1), (66, 1), (116, 1), (145, 1), (146, 1)], [(9, 1), (20, 2), (26, 2), (30, 1), (31, 2), (33, 1), (53, 1), (55, 1), (64, 1), (68, 1), (77, 1), (93, 1), (94, 2), (98, 1), (101, 1), (137, 2), (142, 1), (147, 1), (148, 1), (149, 1), (150, 1), (151, 1), (152, 1), (153, 1), (154, 1), (155, 1), (156, 1), (157, 1), (158, 1), (159, 1), (160, 1), (161, 1), (162, 1), (163, 1), (164, 1), (165, 1), (166, 1), (167, 1), (168, 1), (169, 1), (170, 1)], [(12, 1), (13, 1), (17, 1), (19, 1), (26, 1), (50, 1), (58, 1), (59, 1), (72, 1), (74, 1), (93, 1), (133, 1), (143, 1), (150, 1), (171, 1), (172, 1), (173, 1), (174, 1), (175, 1), (176, 1), (177, 1), (178, 1), (179, 2), (180, 1)], [(12, 1), (21, 1), (35, 2), (45, 1), (55, 1), (66, 1), (75, 1), (82, 1), (94, 1), (102, 1), (103, 1), (181, 1), (182, 1), (183, 1), (184, 1)], [(64, 1)], [(46, 1), (94, 1)], [(12, 1), (35, 1), (46, 1), (66, 1), (77, 1), (105, 1), (139, 1), (145, 1), (185, 1), (186, 1), (187, 1)], [(20, 1), (96, 1), (132, 1), (142, 1), (188, 1)], [(12, 1), (16, 1), (50, 1), (66, 1), (189, 1)], [(15, 1), (20, 1), (27, 1), (44, 1), (46, 1), (55, 1), (60, 1), (64, 3), (73, 2), (82, 1), (88, 1), (111, 1), (190, 1), (191, 1), (192, 1), (193, 1), (194, 1), (195, 1), (196, 1), (197, 1), (198, 1), (199, 1), (200, 1), (201, 1), (202, 1), (203, 1), (204, 2), (205, 1), (206, 1), (207, 1), (208, 1), (209, 2), (210, 1), (211, 1), (212, 1), (213, 1)], [(9, 1), (20, 1), (26, 2), (35, 1), (45, 1), (46, 1), (55, 4), (66, 1), (97, 1), (170, 2), (214, 1), (215, 1), (216, 1), (217, 1), (218, 1), (219, 1), (220, 2), (221, 2), (222, 2)], [(9, 3), (12, 1), (19, 2), (26, 3), (39, 1), (44, 1), (48, 1), (53, 1), (55, 4), (64, 1), (68, 1), (71, 1), (77, 1), (78, 3), (79, 1), (100, 1), (102, 1), (107, 1), (121, 1), (180, 1), (211, 1), (212, 1), (223, 1), (224, 1), (225, 1), (226, 1), (227, 1), (228, 1), (229, 1), (230, 1), (231, 1), (232, 1), (233, 1), (234, 1), (235, 1), (236, 1), (237, 1), (238, 1), (239, 1)], [(6, 1), (9, 1), (12, 2), (19, 3), (30, 1), (33, 1), (44, 1), (55, 2), (59, 2), (70, 1), (71, 3), (73, 1), (120, 1), (123, 1), (125, 1), (131, 1), (170, 1), (215, 1), (225, 2), (239, 1), (240, 1), (241, 1), (242, 1), (243, 1), (244, 1), (245, 1), (246, 1), (247, 1), (248, 1), (249, 1), (250, 1)], [(9, 1), (11, 1), (12, 2), (19, 4), (59, 1), (60, 2), (64, 1), (68, 1), (71, 1), (72, 2), (77, 1), (82, 2), (107, 1), (133, 1), (158, 1), (162, 1), (170, 1), (209, 1), (210, 1), (223, 1), (228, 1), (251, 1), (252, 1), (253, 3), (254, 1), (255, 1), (256, 1), (257, 1), (258, 1), (259, 1), (260, 2), (261, 1), (262, 1), (263, 1), (264, 1), (265, 1), (266, 1), (267, 1), (268, 1), (269, 2), (270, 2), (271, 1), (272, 1), (273, 1), (274, 1), (275, 1)], [(9, 1), (19, 1), (20, 1), (96, 1), (276, 1), (277, 1), (278, 1)], [(9, 1), (185, 1)], [(23, 1), (26, 1)], [(46, 1), (66, 1), (68, 1), (77, 1), (189, 1), (279, 1)], [(12, 1), (46, 1), (48, 1), (73, 1), (96, 1), (127, 1), (170, 1), (280, 1)], [(20, 1), (23, 1), (26, 1), (27, 1), (71, 1), (75, 1), (82, 1)], [(12, 1), (19, 1), (20, 1), (41, 1), (71, 1), (99, 1), (228, 1), (243, 1)], [(26, 1), (35, 1), (39, 1), (46, 1), (54, 1), (61, 1), (67, 1), (71, 1), (100, 1), (111, 1), (138, 1), (154, 1), (186, 1), (198, 1), (251, 1), (269, 1), (281, 1), (282, 1), (283, 1), (284, 1), (285, 1), (286, 1), (287, 2)], [(45, 1), (70, 1), (212, 1), (288, 1), (289, 1)], [(290, 1)], [(23, 1), (27, 1), (36, 1), (291, 1)], [(31, 1), (189, 1), (228, 2), (265, 1), (269, 1), (292, 1), (293, 1), (294, 1), (295, 1), (296, 3), (297, 1)], [(9, 1), (12, 2), (35, 1), (43, 1), (46, 1), (66, 1), (68, 1), (70, 1), (72, 1), (77, 1), (224, 1), (298, 1), (299, 1), (300, 1), (301, 1), (302, 1), (303, 1)], [(46, 1), (55, 1), (103, 1), (211, 1), (304, 1), (305, 1), (306, 1)], [(46, 1), (132, 1)], [(33, 2), (46, 1), (55, 1), (71, 1), (100, 1), (102, 1), (115, 1), (116, 1), (137, 1), (149, 2), (296, 1), (307, 1), (308, 1), (309, 1)], [(16, 1), (21, 1), (35, 1), (46, 1), (55, 1), (68, 1), (77, 1), (94, 1), (100, 1)], [(23, 1), (35, 1), (44, 1), (55, 1), (66, 1), (67, 1), (310, 1), (311, 1), (312, 1)], [(13, 1), (18, 1), (20, 1), (44, 1), (55, 2), (70, 2), (71, 1), (100, 2), (211, 1), (215, 1), (313, 1), (314, 1), (315, 1), (316, 1), (317, 1), (318, 1), (319, 1), (320, 1)], [(19, 1), (26, 1), (35, 1), (60, 1), (66, 1), (72, 1), (75, 2), (77, 1), (105, 1), (115, 2), (130, 1), (197, 1), (238, 1), (274, 1), (277, 1), (280, 1), (321, 1), (322, 1), (323, 2), (324, 1), (325, 2), (326, 1), (327, 1), (328, 2)], [(21, 1), (23, 1), (26, 1), (33, 1), (48, 1), (77, 1), (329, 1), (330, 1), (331, 1), (332, 1), (333, 1)], [(315, 1)], [(12, 1), (13, 1), (67, 1), (132, 1), (181, 1), (224, 1), (241, 1), (261, 1), (269, 1), (316, 1), (323, 1), (334, 1), (335, 1), (336, 1), (337, 1), (338, 1), (339, 1), (340, 1), (341, 1), (342, 1), (343, 1), (344, 1), (345, 1)], [(46, 1)], [(12, 1), (19, 1), (346, 1)], [(3, 1), (12, 1), (24, 1), (25, 1), (26, 2), (27, 2), (35, 1), (36, 1), (55, 1), (64, 2), (106, 1), (122, 1), (170, 1), (211, 1), (220, 1), (238, 1), (261, 1), (280, 1), (328, 1), (338, 1), (347, 1), (348, 1), (349, 1), (350, 1), (351, 1), (352, 1), (353, 1), (354, 1), (355, 1), (356, 1), (357, 1), (358, 1), (359, 1), (360, 1)], [(9, 1), (11, 1), (17, 1), (19, 1), (23, 1), (27, 1), (48, 1), (71, 2), (73, 1), (74, 1), (75, 1), (90, 1), (101, 1), (170, 2), (211, 1), (361, 1), (362, 1), (363, 1), (364, 1), (365, 1)], [(26, 2), (35, 1), (39, 1), (46, 1), (55, 1), (66, 1), (71, 1), (78, 1), (122, 1), (125, 1), (191, 1), (215, 1), (238, 1), (366, 1), (367, 1), (368, 1), (369, 1), (370, 1), (371, 1), (372, 1), (373, 1), (374, 1), (375, 1), (376, 1)], [(9, 2), (19, 1), (20, 1), (21, 1), (25, 1), (26, 1), (33, 1), (35, 2), (36, 1), (39, 1), (41, 3), (48, 2), (52, 2), (53, 1), (55, 3), (58, 1), (59, 2), (63, 1), (66, 9), (70, 1), (71, 3), (78, 1), (82, 1), (88, 1), (95, 1), (98, 1), (99, 2), (102, 3), (103, 1), (107, 1), (123, 1), (131, 1), (133, 2), (142, 1), (145, 1), (147, 2), (170, 4), (189, 3), (197, 1), (211, 1), (215, 1), (238, 1), (249, 1), (253, 1), (263, 2), (277, 4), (278, 2), (287, 1), (314, 1), (316, 1), (321, 1), (353, 1), (354, 1), (377, 1), (378, 1), (379, 1), (380, 1), (381, 2), (382, 1), (383, 3), (384, 1), (385, 1), (386, 1), (387, 1), (388, 1), (389, 1), (390, 1), (391, 1), (392, 1), (393, 1), (394, 1), (395, 1), (396, 1), (397, 1), (398, 1), (399, 1), (400, 1), (401, 3), (402, 1), (403, 2), (404, 2), (405, 1), (406, 2), (407, 1), (408, 1), (409, 2), (410, 1), (411, 1), (412, 1)], [(16, 1), (26, 1), (45, 1), (46, 1), (55, 1), (64, 1), (70, 1), (73, 1), (79, 1), (81, 1), (116, 2), (123, 1), (222, 1), (413, 1), (414, 1), (415, 1), (416, 1)], [(35, 1), (46, 1), (55, 1), (132, 1), (191, 1), (417, 1), (418, 1), (419, 1), (420, 1), (421, 1)], [(46, 1), (64, 1)], [(45, 1), (64, 1), (422, 1)], [(70, 1), (73, 1), (102, 1), (134, 1), (423, 1)], [(46, 1), (70, 1), (94, 1)], [(3, 1), (13, 1), (50, 1), (66, 1), (70, 1), (132, 1), (197, 1), (225, 1), (272, 1), (424, 1), (425, 1), (426, 1), (427, 1)], [(9, 1), (17, 1), (19, 3), (20, 1), (26, 3), (33, 1), (44, 1), (53, 1), (55, 1), (64, 1), (82, 1), (90, 1), (98, 1), (100, 1), (101, 1), (104, 1), (143, 1), (151, 1), (152, 1), (158, 1), (160, 2), (191, 1), (241, 4), (275, 1), (296, 1), (331, 1), (377, 1), (428, 1), (429, 1), (430, 1), (431, 1), (432, 3), (433, 1), (434, 1), (435, 1), (436, 1)], [(27, 1), (64, 1), (126, 1), (280, 1), (437, 1), (438, 1), (439, 1)], [(11, 1), (13, 1), (26, 4), (55, 1), (60, 1), (61, 1), (70, 1), (90, 1), (94, 1), (107, 1), (130, 1), (148, 1), (162, 1), (170, 1), (290, 1), (415, 1), (440, 1), (441, 1), (442, 1), (443, 1), (444, 1), (445, 1), (446, 1), (447, 1), (448, 1), (449, 1), (450, 1), (451, 1)], [(26, 1), (46, 1), (55, 1), (63, 1), (191, 1), (261, 1), (370, 1), (404, 1), (452, 1), (453, 1)], [(26, 1), (46, 1), (55, 1), (191, 1)], [(42, 1), (68, 1), (77, 1)], [(46, 1)], [(12, 1), (48, 1), (50, 1), (64, 1), (66, 1), (67, 1), (354, 1), (413, 1)], [(29, 1), (33, 1), (46, 1)], [(46, 1), (132, 1)], [(11, 1), (12, 1), (18, 1), (20, 1), (55, 1), (60, 1), (70, 1), (71, 1), (75, 1), (82, 1), (162, 1), (165, 1), (167, 1), (205, 2), (206, 1), (276, 1), (340, 1), (443, 1), (454, 1), (455, 1), (456, 1), (457, 1), (458, 1), (459, 1), (460, 1), (461, 1), (462, 1), (463, 1)], [(55, 1), (70, 1), (103, 1)], [(0, 1), (3, 1), (9, 1), (12, 2), (17, 1), (18, 1), (26, 1), (36, 1), (54, 1), (55, 1), (58, 1), (59, 1), (66, 2), (78, 1), (93, 1), (100, 2), (101, 2), (107, 1), (125, 1), (152, 1), (189, 1), (197, 1), (261, 1), (272, 1), (273, 1), (464, 1), (465, 2), (466, 1), (467, 1), (468, 1), (469, 1), (470, 1)], [(50, 1), (58, 1), (152, 1), (170, 1), (442, 1), (471, 1), (472, 1), (473, 1)], [(17, 1), (20, 1), (26, 2), (27, 2), (36, 1), (71, 1), (75, 1), (82, 1), (100, 2), (101, 1), (137, 1), (378, 1), (444, 1), (474, 1)], [(19, 2), (20, 1), (26, 1), (36, 1), (55, 1), (64, 1), (79, 1), (132, 1), (256, 1), (298, 1), (428, 1), (475, 1), (476, 1), (477, 1)], [(55, 1), (63, 1), (70, 1), (94, 1), (137, 1), (149, 1), (191, 1), (404, 1), (425, 1), (478, 1)], [(31, 1), (132, 1), (185, 1), (479, 1)], [(10, 1), (12, 1), (16, 1), (94, 1)], [(39, 1), (68, 1), (75, 1), (102, 1), (107, 2), (113, 2), (115, 1), (132, 1), (170, 2), (171, 1), (356, 3), (480, 1), (481, 1), (482, 1), (483, 1), (484, 1), (485, 1), (486, 2), (487, 1)], [(10, 1), (11, 1), (12, 1), (19, 2), (26, 1), (33, 1), (35, 1), (41, 1), (48, 2), (66, 1), (67, 1), (82, 1), (94, 1), (98, 1), (102, 1), (105, 1), (107, 2), (132, 1), (133, 1), (162, 1), (170, 1), (210, 1), (253, 3), (290, 1), (293, 1), (364, 1), (377, 1), (380, 1), (389, 1), (394, 1), (488, 2), (489, 1), (490, 1), (491, 2), (492, 1), (493, 1), (494, 1), (495, 1), (496, 1), (497, 1), (498, 1), (499, 2), (500, 1)], [(35, 1), (46, 1), (55, 1), (66, 1), (70, 1), (94, 1), (105, 1), (107, 1), (116, 1), (501, 1)], [(0, 1), (11, 1), (16, 1), (20, 1), (44, 1), (55, 2), (70, 1), (73, 1), (94, 1), (100, 2), (101, 1), (107, 1), (133, 1), (312, 1)], [(46, 1)], [(46, 1), (70, 1), (106, 1), (502, 1), (503, 1)], [(12, 1), (19, 1), (21, 1), (45, 1), (48, 1), (102, 1), (253, 1)], [(9, 1), (20, 1), (35, 1), (46, 1), (55, 3), (66, 1), (138, 1), (293, 1), (328, 1), (370, 1), (504, 1), (505, 1), (506, 1), (507, 1), (508, 1)], [(54, 1), (55, 2), (106, 1), (132, 1), (147, 1), (274, 1), (509, 1), (510, 1), (511, 1)], [(10, 1), (16, 1), (21, 1), (31, 1), (64, 1), (71, 1), (75, 1), (102, 1), (103, 1), (187, 1), (239, 1), (276, 1), (280, 1), (312, 1), (400, 1), (406, 1), (512, 1), (513, 1), (514, 1), (515, 1)], [(8, 1), (36, 2), (48, 1), (68, 1), (77, 1), (295, 1), (516, 1), (517, 1), (518, 1), (519, 1), (520, 1)], [(64, 1), (80, 1), (178, 1), (211, 1), (268, 1), (453, 1), (521, 1)], [(0, 2), (3, 1), (8, 1), (9, 1), (13, 1), (20, 1), (35, 1), (44, 1), (45, 2), (55, 1), (58, 1), (63, 1), (70, 1), (79, 1), (100, 1), (102, 1), (111, 1), (208, 1), (214, 1), (438, 1), (522, 1), (523, 1)], [(94, 1), (197, 1), (524, 1)], [(46, 1), (132, 1)], [(46, 1), (55, 1), (59, 1), (60, 1), (77, 1), (82, 1), (100, 2), (101, 1), (115, 1), (312, 1), (390, 1), (392, 1), (423, 1), (425, 2), (482, 1), (517, 1), (525, 1), (526, 1), (527, 1), (528, 1)], [(0, 1), (13, 1), (55, 1), (70, 1), (72, 1), (73, 2), (100, 1), (123, 1), (145, 1), (215, 1), (312, 1), (320, 1), (365, 1), (504, 1), (529, 1), (530, 1), (531, 1), (532, 1)], [(9, 1), (13, 1), (19, 4), (20, 1), (26, 1), (33, 1), (36, 2), (41, 1), (45, 1), (55, 1), (59, 1), (60, 1), (64, 1), (66, 2), (68, 1), (72, 1), (77, 1), (78, 2), (102, 1), (107, 1), (131, 1), (139, 2), (149, 1), (170, 1), (181, 1), (191, 2), (198, 1), (214, 1), (261, 1), (269, 1), (275, 1), (328, 2), (359, 1), (434, 1), (507, 1), (533, 1), (534, 1), (535, 1), (536, 1), (537, 1), (538, 1), (539, 1), (540, 1), (541, 1), (542, 1)], [(45, 1), (64, 1), (265, 1), (371, 1)], [(8, 1), (9, 1), (21, 1), (23, 1), (25, 1), (33, 1), (68, 1), (70, 1), (77, 1), (105, 1), (514, 1), (543, 1)], [(9, 1), (20, 1), (27, 1), (46, 1), (65, 1), (80, 1), (111, 1), (392, 2), (497, 1), (544, 1), (545, 1)], [(20, 1), (46, 1), (142, 1)], [(31, 1), (45, 1), (64, 1), (546, 1)], [(12, 1), (16, 1), (45, 1), (102, 1)], [(12, 1), (31, 1), (35, 1), (55, 1), (64, 1), (66, 1), (96, 1), (107, 1), (111, 1), (170, 2), (305, 1), (435, 1), (497, 1), (547, 1), (548, 1), (549, 1), (550, 1)], [(12, 1), (55, 1), (63, 2), (66, 1), (70, 2), (115, 1), (189, 1), (551, 1), (552, 1)], [(12, 1), (41, 2), (100, 2), (103, 1), (107, 2), (128, 1), (132, 1), (243, 1), (553, 1)], [(8, 1), (55, 2), (70, 2), (115, 1), (137, 1), (312, 1), (452, 1), (554, 1), (555, 1), (556, 1), (557, 1)], [(0, 1), (19, 1), (46, 1), (59, 1), (73, 2), (90, 1), (132, 1), (161, 1), (263, 1), (473, 1), (558, 2), (559, 1), (560, 1), (561, 1), (562, 1), (563, 1), (564, 1), (565, 1), (566, 1), (567, 1)], [(10, 1), (27, 1), (46, 1), (55, 2), (78, 1), (94, 1), (100, 2), (215, 1), (568, 1), (569, 1), (570, 1)], [(45, 1), (107, 1), (197, 1), (210, 1), (348, 1)], [(19, 1), (35, 1), (91, 1), (94, 1), (101, 1), (138, 1), (241, 1), (361, 1), (465, 1), (549, 1), (571, 1), (572, 1)], [(94, 1), (184, 1)], [(0, 1), (9, 1), (13, 1), (26, 1), (50, 1), (54, 1), (61, 1), (88, 2), (119, 1), (122, 1), (148, 1), (195, 1), (298, 1), (427, 1), (435, 1), (514, 1), (535, 1), (573, 1), (574, 1), (575, 1), (576, 1), (577, 1)], [(8, 1), (23, 1), (25, 1), (35, 1), (46, 1), (55, 3), (70, 1), (130, 1), (170, 2), (231, 1), (235, 1), (261, 1), (328, 1), (578, 1), (579, 1)], [(12, 1), (35, 1), (55, 1), (66, 1), (72, 1), (109, 1), (206, 1), (446, 1), (549, 1)], [(12, 1), (15, 1), (48, 1), (107, 1), (198, 1), (210, 1)], [(35, 1), (45, 1), (53, 1), (55, 1), (63, 1), (66, 1), (70, 1), (94, 1), (116, 1), (170, 1), (186, 1), (215, 1), (501, 1), (580, 1), (581, 1)], [(45, 1)], [(0, 1), (26, 1), (45, 1), (55, 1), (63, 1), (70, 1), (106, 1), (132, 1), (299, 1), (582, 1)], [(12, 2), (26, 1), (41, 1), (45, 1), (54, 1), (63, 1), (64, 1), (68, 1), (75, 1), (77, 1), (82, 1), (96, 1), (100, 1), (128, 1), (160, 1), (239, 1), (276, 1), (389, 1), (473, 1), (583, 1), (584, 1), (585, 1), (586, 1), (587, 1), (588, 1)], [(12, 1), (26, 1), (31, 1), (33, 1), (125, 1), (131, 1), (239, 1)], [(0, 3), (3, 2), (8, 1), (12, 7), (16, 3), (19, 3), (20, 1), (26, 1), (35, 1), (36, 2), (41, 1), (44, 1), (45, 2), (50, 2), (55, 4), (58, 2), (63, 1), (64, 2), (65, 1), (70, 2), (88, 1), (90, 1), (94, 1), (100, 3), (103, 1), (107, 3), (120, 1), (121, 1), (133, 1), (145, 3), (147, 1), (171, 1), (198, 1), (212, 3), (240, 1), (251, 1), (275, 2), (277, 3), (298, 1), (309, 1), (386, 1), (389, 2), (465, 1), (513, 3), (527, 1), (539, 1), (549, 1), (572, 2), (585, 1), (589, 1), (590, 1), (591, 1), (592, 1), (593, 1), (594, 1), (595, 1), (596, 1), (597, 1), (598, 1), (599, 1), (600, 1), (601, 2), (602, 1), (603, 1), (604, 1)], [(23, 1), (25, 1), (26, 1), (148, 1), (368, 1), (605, 1), (606, 1), (607, 1)], [(12, 1), (26, 1), (46, 1), (50, 1), (67, 1), (353, 1), (607, 1)], [(6, 1), (483, 1)], [(13, 1), (19, 1), (48, 1), (53, 1), (55, 1), (232, 1), (321, 1), (608, 1)], [(94, 1), (609, 1)], [(72, 1), (77, 1), (139, 1), (329, 1), (610, 1)], [(17, 1), (74, 1), (96, 1), (158, 1), (177, 1)], [(20, 1), (24, 1), (31, 1), (32, 1), (35, 1), (45, 1), (46, 1), (66, 1), (139, 1), (145, 2), (611, 1), (612, 1), (613, 1)], [(12, 1), (15, 1), (19, 1), (46, 1), (52, 1), (64, 1), (111, 1), (121, 1), (132, 1), (170, 2), (253, 2), (277, 1), (379, 1), (482, 1), (614, 1)], [(11, 1), (19, 1), (33, 1), (73, 2), (79, 1), (90, 1), (101, 1), (152, 1), (170, 1), (218, 1), (239, 1), (450, 1), (613, 1), (615, 1), (616, 1), (617, 1)], [(13, 1), (33, 1), (188, 1), (618, 1), (619, 1), (620, 1), (621, 1), (622, 1)], [(55, 1), (59, 1), (70, 1), (116, 1), (148, 1), (170, 1), (249, 1), (345, 1), (527, 1), (623, 1), (624, 1), (625, 1), (626, 1)], [(10, 1), (16, 1), (20, 1), (45, 1), (91, 1), (149, 1), (162, 1)], [(94, 1)], [(94, 1)], [(12, 1), (19, 1), (43, 1), (48, 1), (55, 1), (63, 1), (70, 1), (170, 1), (276, 1)], [(24, 1), (35, 1), (45, 1), (46, 2), (55, 1), (70, 1), (73, 1), (101, 1), (138, 1), (170, 1)], [(3, 1), (9, 1), (26, 1), (64, 1), (94, 1), (104, 1), (125, 1), (147, 1), (191, 2), (627, 1)], [(64, 1), (315, 1)], [(9, 1), (12, 1), (15, 1), (26, 1), (27, 1), (43, 1), (48, 1), (64, 2), (107, 1), (111, 1), (175, 1), (198, 1), (210, 1), (298, 2), (482, 1)], [(8, 1), (80, 1), (184, 1), (385, 1), (529, 1), (628, 1)], [(9, 1), (13, 1), (73, 2), (86, 1), (132, 1), (133, 1), (143, 1), (312, 1), (479, 1), (588, 1), (629, 1), (630, 1), (631, 1), (632, 1)], [(48, 1), (55, 1), (66, 1), (73, 1), (116, 2), (189, 1), (249, 1), (426, 1), (633, 1)], [(64, 1)], [(19, 1), (60, 1), (63, 1), (70, 1), (74, 1), (75, 1), (80, 1), (100, 1), (126, 1), (162, 1), (325, 1)], [(13, 1), (71, 1), (152, 1), (212, 1)], [(9, 1), (13, 1), (16, 1), (55, 1), (60, 1), (103, 2), (133, 1), (149, 1), (316, 1), (404, 1), (414, 1), (634, 1), (635, 1), (636, 1), (637, 1), (638, 1), (639, 1), (640, 1), (641, 1)], [(8, 1), (13, 1), (26, 1), (27, 1), (30, 1), (33, 1), (41, 1), (45, 1), (53, 1), (68, 1), (77, 1), (82, 1), (96, 1), (129, 1), (133, 1), (249, 2), (316, 1), (320, 1), (405, 1), (425, 1), (438, 1), (547, 1), (642, 1), (643, 1)], [(9, 1), (46, 1), (48, 1), (68, 1), (77, 1), (202, 1), (644, 1)], [(48, 1), (328, 1), (645, 1)], [(184, 1)], [(9, 1), (27, 1), (55, 1), (105, 1)], [(33, 1), (130, 1), (132, 1), (133, 1)], [(3, 1), (13, 1), (35, 1), (44, 1), (66, 2), (103, 1), (145, 1), (264, 1), (389, 1), (425, 1), (451, 1), (646, 1), (647, 1), (648, 1)], [(35, 1), (46, 1), (53, 1), (80, 1), (116, 1), (425, 1), (649, 1), (650, 1), (651, 1), (652, 1)], [(13, 1), (27, 1), (29, 1), (36, 1), (55, 1), (63, 1), (64, 1), (91, 1), (101, 1), (170, 1), (394, 1), (627, 1), (630, 1), (631, 1), (653, 1), (654, 1)], [(36, 1), (655, 1), (656, 1)], [(23, 1), (657, 1)], [(13, 2), (16, 1), (24, 1), (39, 1), (45, 1), (55, 1), (59, 1), (60, 1), (65, 1), (66, 2), (95, 1), (102, 1), (103, 1), (123, 1), (133, 2), (186, 1), (211, 1), (222, 1), (477, 1), (549, 1), (658, 1), (659, 1), (660, 1), (661, 1), (662, 1), (663, 1), (664, 1), (665, 1), (666, 1), (667, 1), (668, 1), (669, 1)], [(33, 2), (60, 1), (68, 1), (71, 1), (77, 1), (129, 1), (133, 1), (670, 1)], [(0, 1), (9, 1), (17, 1), (20, 3), (21, 2), (27, 4), (46, 1), (55, 1), (58, 1), (63, 1), (71, 1), (73, 1), (82, 2), (88, 1), (106, 3), (109, 1), (119, 1), (126, 1), (132, 1), (165, 1), (169, 1), (170, 1), (174, 1), (195, 1), (197, 1), (229, 1), (274, 1), (315, 1), (354, 1), (394, 1), (445, 1), (464, 2), (671, 1), (672, 2), (673, 3), (674, 1), (675, 2), (676, 2), (677, 1), (678, 2), (679, 1), (680, 1), (681, 1), (682, 1), (683, 1), (684, 1)], [(31, 1), (41, 1), (45, 1), (77, 1), (82, 2), (132, 1), (142, 1), (148, 1), (249, 1), (273, 1), (685, 1), (686, 1), (687, 1), (688, 1)], [(13, 1), (50, 1), (53, 1), (66, 1), (148, 1), (152, 1), (197, 1), (238, 1), (482, 2), (689, 1), (690, 1), (691, 3), (692, 1), (693, 1)], [(20, 1), (29, 1), (46, 1), (214, 1), (249, 2), (330, 1)], [(19, 1), (48, 1), (145, 1), (293, 1)], [(35, 1), (186, 1), (197, 1), (239, 1), (261, 1), (315, 1), (549, 1), (578, 1), (694, 1), (695, 1), (696, 1), (697, 1), (698, 1), (699, 1)], [(45, 1), (437, 1), (700, 1)], [(70, 1), (94, 1), (105, 1)], [(23, 1), (25, 1), (26, 1), (55, 1)], [(8, 1), (20, 1), (26, 2), (41, 1), (58, 1), (80, 1), (100, 1), (107, 1), (111, 1), (133, 1), (265, 1), (464, 1), (560, 1), (582, 1), (598, 1), (609, 1), (616, 1), (701, 1), (702, 1), (703, 1), (704, 2), (705, 1), (706, 1), (707, 1), (708, 1), (709, 1), (710, 1), (711, 1), (712, 1), (713, 1), (714, 1), (715, 1), (716, 1)], [(70, 1), (315, 1)], [(24, 1), (35, 1), (46, 1), (55, 2), (66, 1), (70, 1), (100, 1), (116, 2), (118, 1), (123, 1), (167, 1), (203, 1), (261, 1), (378, 1), (717, 1), (718, 1), (719, 1), (720, 1), (721, 1), (722, 1)], [(0, 1), (13, 1), (73, 1), (103, 1), (152, 1), (162, 1), (170, 1), (723, 1), (724, 1)], [(31, 1), (46, 1), (132, 1), (539, 1)], [(20, 1), (29, 1), (33, 1), (46, 1), (73, 1), (249, 1), (473, 1), (549, 1), (725, 1)], [(45, 1), (101, 1), (170, 1)], [(23, 1), (26, 1), (29, 1), (33, 1), (36, 1), (45, 1), (90, 1), (94, 1), (186, 1), (624, 1), (717, 1), (726, 1), (727, 1)], [(45, 1), (53, 1), (55, 1), (59, 1), (64, 1), (70, 1), (71, 1), (103, 1), (170, 1)], [(0, 1), (3, 1), (8, 1), (12, 2), (16, 1), (21, 1), (30, 1), (50, 1), (55, 1), (102, 1), (132, 1), (167, 1), (222, 1), (435, 1), (626, 1), (720, 1)], [(8, 2), (54, 1), (55, 1), (67, 1), (71, 1), (103, 1), (132, 1), (164, 1), (170, 2), (191, 1), (272, 1), (284, 1), (486, 1), (626, 1), (728, 1), (729, 1), (730, 1), (731, 1), (732, 1), (733, 1), (734, 1)], [(12, 1), (29, 1), (33, 1), (43, 1), (48, 1), (73, 1), (216, 1), (241, 1), (251, 1), (258, 1), (394, 1), (482, 1), (510, 1), (542, 1), (549, 1), (568, 1), (735, 1), (736, 1), (737, 1), (738, 1)], [(0, 1), (13, 1), (33, 1), (86, 1), (90, 1), (289, 1), (449, 1)], [(94, 1)], [(13, 1), (19, 2), (44, 1), (55, 1), (75, 1), (100, 1), (105, 1), (116, 1), (145, 1), (249, 2), (253, 1), (281, 1), (314, 1), (739, 1), (740, 1), (741, 1), (742, 1)], [(26, 1), (82, 1), (371, 1), (743, 1), (744, 1), (745, 1), (746, 1)], [(12, 1), (24, 1), (35, 1), (107, 1), (111, 1)], [(437, 1), (595, 1), (746, 1)], [(46, 1), (55, 1), (64, 1), (70, 1), (216, 1), (276, 1), (356, 1), (557, 1)], [(8, 2), (12, 1), (13, 1), (16, 1), (17, 2), (19, 1), (27, 1), (33, 1), (36, 1), (63, 1), (66, 1), (68, 1), (74, 1), (77, 1), (80, 1), (93, 1), (99, 1), (107, 1), (109, 1), (111, 1), (143, 1), (145, 2), (149, 1), (151, 1), (170, 1), (180, 1), (218, 1), (243, 1), (254, 1), (263, 1), (314, 1), (328, 1), (364, 1), (451, 1), (467, 3), (468, 1), (500, 1), (508, 1), (514, 1), (522, 1), (539, 2), (747, 1), (748, 1), (749, 1), (750, 1), (751, 1), (752, 1), (753, 1), (754, 1), (755, 1), (756, 1), (757, 1), (758, 1), (759, 1), (760, 1), (761, 1), (762, 1), (763, 1), (764, 1), (765, 1), (766, 1), (767, 1), (768, 1), (769, 1)], [(9, 1), (82, 1), (97, 1), (100, 1), (106, 1), (132, 1), (180, 1), (182, 1), (394, 1), (514, 1), (530, 1), (689, 2), (770, 1), (771, 1), (772, 1), (773, 1), (774, 1), (775, 1)], [(12, 2), (15, 1), (25, 1), (35, 1), (46, 2), (66, 1), (78, 1), (99, 1), (138, 1), (191, 1), (389, 1), (776, 1), (777, 1), (778, 1)], [(13, 1), (19, 1), (21, 1), (48, 1)], [(20, 1), (26, 1), (29, 1), (33, 1), (142, 1), (576, 1)], [(11, 1), (17, 1), (22, 1), (33, 1), (68, 1), (73, 2), (77, 1), (96, 1), (100, 3), (107, 1), (131, 1), (132, 1), (145, 1), (211, 1), (477, 1), (488, 1), (489, 1), (758, 1), (779, 1), (780, 1), (781, 1)], [(23, 1), (44, 1), (73, 1)], [(31, 1), (45, 1), (63, 1), (64, 1)], [(6, 1), (8, 1), (12, 2), (19, 1), (26, 2), (28, 1), (35, 3), (44, 1), (45, 1), (46, 1), (55, 2), (66, 2), (71, 1), (77, 1), (98, 1), (101, 1), (102, 1), (111, 1), (130, 1), (139, 1), (145, 1), (189, 1), (312, 2), (354, 1), (373, 1), (380, 1), (428, 1), (475, 1), (549, 1), (680, 1), (751, 1), (782, 1), (783, 1), (784, 1), (785, 1), (786, 1), (787, 1), (788, 1), (789, 1), (790, 1), (791, 1), (792, 1), (793, 1)], [(3, 2), (12, 2), (26, 3), (36, 2), (39, 1), (55, 1), (66, 1), (82, 1), (97, 1), (101, 1), (115, 1), (170, 2), (273, 1), (345, 1), (377, 1), (384, 2), (588, 1), (622, 2), (626, 1), (627, 1), (726, 1), (757, 1), (794, 1), (795, 1), (796, 1)], [(6, 1), (9, 2), (12, 2), (13, 1), (16, 2), (17, 1), (19, 3), (20, 1), (26, 3), (30, 3), (31, 1), (35, 2), (36, 1), (39, 1), (41, 2), (45, 3), (51, 1), (62, 1), (64, 2), (71, 3), (72, 1), (81, 1), (94, 2), (98, 1), (106, 1), (107, 1), (132, 1), (148, 1), (167, 1), (170, 2), (198, 1), (207, 1), (210, 1), (211, 1), (218, 1), (253, 1), (257, 1), (261, 2), (269, 2), (293, 2), (316, 2), (354, 3), (357, 1), (384, 2), (387, 1), (389, 1), (392, 1), (394, 1), (442, 1), (476, 1), (482, 1), (535, 2), (539, 1), (545, 1), (547, 1), (630, 1), (749, 1), (765, 3), (797, 2), (798, 1), (799, 1), (800, 1), (801, 1), (802, 1), (803, 1), (804, 1), (805, 1), (806, 1), (807, 1), (808, 1), (809, 1), (810, 1), (811, 1), (812, 1), (813, 1), (814, 2), (815, 1), (816, 1)], [(12, 1), (48, 1), (54, 1), (61, 1), (397, 1), (662, 1)], [(36, 1), (48, 1), (73, 1), (104, 1), (121, 1), (194, 1), (489, 1), (545, 1), (817, 1), (818, 1), (819, 1)], [(16, 1), (45, 1), (46, 1), (70, 1), (97, 1), (100, 1), (143, 1), (174, 1), (315, 1), (386, 1), (467, 1), (514, 1), (820, 1)], [(3, 1), (8, 1), (9, 2), (11, 3), (12, 3), (17, 2), (18, 1), (21, 1), (26, 1), (30, 1), (31, 1), (35, 1), (46, 3), (55, 3), (59, 1), (60, 2), (63, 2), (64, 1), (66, 1), (67, 1), (73, 3), (74, 1), (100, 1), (107, 1), (108, 1), (116, 1), (122, 1), (138, 1), (139, 1), (151, 1), (160, 1), (170, 1), (209, 1), (290, 1), (365, 1), (377, 1), (423, 1), (549, 2), (560, 1), (821, 1), (822, 1), (823, 1), (824, 1), (825, 1), (826, 1), (827, 1)], [(12, 1), (26, 1), (31, 1), (36, 1), (45, 2), (67, 1), (72, 1), (80, 1), (102, 1), (514, 1), (594, 1), (668, 1), (828, 1), (829, 1)], [(12, 1), (50, 1)], [(10, 1), (12, 1), (15, 1), (16, 1), (149, 1), (549, 1)], [(27, 1), (46, 1), (77, 1), (99, 1), (170, 1), (830, 1)], [(35, 1), (66, 1), (371, 1)], [(48, 1), (77, 1), (80, 1), (831, 1)], [(9, 1), (11, 1), (13, 1), (19, 1), (21, 2), (23, 1), (26, 1), (36, 1), (48, 1), (55, 1), (66, 1), (102, 1), (189, 1), (202, 1)], [(35, 1), (66, 1), (539, 1), (658, 1), (832, 1)], [(16, 1), (26, 1), (100, 1), (255, 1), (267, 1), (278, 1), (356, 1), (833, 1), (834, 1)], [(12, 1), (19, 1), (105, 1), (198, 1)], [(16, 1), (35, 1), (55, 2), (70, 1), (123, 1), (138, 1), (387, 1), (507, 1), (549, 1), (604, 1)], [(41, 1), (45, 1), (82, 1), (100, 1), (438, 1), (498, 1), (835, 1), (836, 1)], [(9, 1), (11, 1), (33, 1), (46, 1), (55, 1), (70, 1), (82, 1), (132, 2), (133, 1), (155, 1), (293, 1), (837, 1), (838, 1)], [(31, 1), (35, 1), (45, 1), (48, 1), (145, 1), (167, 1), (305, 1), (839, 1)], [(26, 1), (93, 1), (227, 1)], [(3, 1), (8, 1), (20, 1), (35, 1), (44, 1), (54, 1), (61, 1), (67, 1), (97, 1), (103, 1), (162, 1), (253, 1), (265, 1), (296, 1), (316, 1), (451, 1), (522, 1), (528, 1), (539, 1), (567, 1), (765, 1), (840, 1), (841, 1), (842, 1)], [(31, 2), (46, 2), (167, 1), (692, 1)], [(9, 1), (55, 1), (78, 1), (197, 1), (500, 1)], [(8, 1), (55, 1), (100, 1), (184, 1), (843, 1)], [(10, 1), (15, 2), (16, 1), (20, 1), (21, 1), (24, 1), (27, 1), (59, 1), (60, 1), (64, 1), (74, 1), (100, 1), (101, 1), (111, 1), (162, 1), (175, 1), (261, 1), (280, 1), (404, 1), (844, 1), (845, 1), (846, 1), (847, 1)], [(12, 1), (17, 1), (20, 3), (35, 1), (41, 1), (46, 1), (50, 1), (59, 1), (71, 1), (74, 1), (100, 1), (102, 1), (126, 1), (142, 1), (148, 1), (172, 1), (183, 3), (243, 1), (249, 1), (314, 1), (464, 1), (468, 1), (559, 2), (690, 1), (719, 1), (744, 1), (848, 2), (849, 1), (850, 1), (851, 1), (852, 1), (853, 1), (854, 1), (855, 1)], [(3, 1), (9, 2), (12, 1), (20, 1), (21, 1), (48, 3), (58, 1), (66, 2), (74, 1), (77, 1), (107, 1), (143, 1), (177, 1), (326, 1), (781, 1), (856, 1), (857, 1)], [(20, 1), (27, 1), (55, 2), (59, 1), (62, 1), (67, 1), (68, 1), (70, 2), (77, 1), (100, 1), (111, 1), (126, 1), (162, 1), (171, 1), (174, 1), (189, 1), (268, 1), (269, 1), (299, 1), (378, 1), (388, 1), (407, 1), (591, 1), (626, 1), (668, 1), (737, 1), (858, 1), (859, 1), (860, 1)], [(35, 1), (46, 1), (55, 1), (72, 1), (115, 1), (170, 1)], [(6, 1), (30, 1), (96, 1)], [(46, 1), (132, 1)], [(26, 1), (35, 1), (60, 1), (102, 1)], [(15, 1), (33, 1), (48, 1), (68, 1), (77, 1), (88, 1), (184, 1), (188, 1), (377, 1), (861, 1)], [(105, 2), (132, 1), (802, 1), (862, 1)], [(64, 1), (66, 1), (747, 1), (757, 1), (863, 1)], [(13, 1), (28, 1), (31, 1), (33, 1), (35, 1), (45, 1), (73, 1), (74, 1), (75, 1), (82, 1), (103, 1), (105, 1), (116, 1), (225, 1), (288, 1), (354, 1), (864, 1)], [(16, 1), (35, 1), (45, 1), (55, 1), (66, 1), (73, 1), (94, 1), (145, 1), (166, 1), (211, 1)], [(45, 1), (65, 1), (219, 1), (263, 1), (265, 2), (842, 1), (865, 1), (866, 1), (867, 1)], [(6, 1), (16, 1), (94, 1), (162, 1), (606, 1)], [(13, 1), (36, 1), (54, 1), (55, 2), (61, 1), (70, 1), (80, 1), (104, 1), (149, 1), (171, 1), (215, 1), (254, 1), (265, 1), (296, 2), (299, 1), (357, 1), (473, 1), (497, 1), (560, 1), (582, 1), (737, 1), (868, 1), (869, 1)], [(12, 1), (27, 1), (29, 1), (68, 1), (73, 2), (77, 1), (101, 1), (107, 1), (122, 1), (170, 1), (198, 1), (253, 1), (364, 1), (431, 2), (434, 2), (453, 1), (470, 1), (475, 1), (533, 1), (870, 1), (871, 1), (872, 1), (873, 1), (874, 1), (875, 1), (876, 1), (877, 1), (878, 1), (879, 1), (880, 1), (881, 1)], [(12, 2), (16, 1), (35, 1), (66, 1), (138, 1), (256, 1), (312, 1), (385, 1), (567, 1), (882, 1), (883, 1)], [(35, 1), (45, 1), (55, 1), (64, 1), (66, 1), (70, 1), (71, 1), (91, 1), (145, 1), (315, 1), (478, 1), (549, 2), (642, 1), (757, 1), (884, 1), (885, 1), (886, 1)], [(20, 1), (33, 1), (45, 1), (55, 1), (77, 1), (86, 1), (91, 2), (131, 1), (170, 1), (290, 1), (435, 1), (444, 1), (477, 1), (571, 1), (887, 1), (888, 1)], [(48, 1), (55, 1), (60, 1), (100, 1), (107, 1), (475, 1)], [(10, 1), (20, 2), (55, 1), (149, 1), (179, 1), (249, 1), (280, 1)], [(13, 1), (16, 1), (19, 1), (52, 1), (55, 1), (64, 1), (100, 1), (107, 1), (158, 1), (160, 1), (209, 1), (215, 1), (234, 1), (253, 1), (312, 1), (386, 1), (428, 1), (492, 1), (720, 1), (889, 1), (890, 1), (891, 1)], [(16, 1), (35, 1), (53, 1), (55, 1), (103, 1), (170, 1), (476, 1), (549, 1), (892, 1), (893, 1)], [(23, 1), (25, 1)], [(12, 1), (19, 1), (145, 1), (759, 1)], [(35, 1), (55, 1), (66, 2), (70, 1), (78, 1), (79, 1), (133, 1), (188, 1), (315, 2), (377, 1), (511, 1), (658, 1), (894, 1), (895, 1)], [(55, 1), (94, 1), (115, 1), (162, 1)], [(9, 2), (12, 2), (13, 2), (16, 3), (20, 1), (46, 1), (55, 7), (63, 1), (66, 1), (70, 3), (71, 2), (73, 3), (78, 1), (80, 1), (81, 2), (88, 1), (94, 1), (100, 1), (106, 1), (113, 1), (116, 1), (123, 1), (149, 2), (181, 1), (183, 5), (191, 1), (213, 1), (237, 1), (251, 2), (315, 1), (319, 1), (328, 1), (356, 1), (377, 1), (414, 1), (438, 1), (452, 1), (482, 1), (514, 1), (557, 1), (594, 1), (633, 1), (658, 1), (668, 1), (690, 1), (765, 1), (826, 1), (856, 1), (865, 1), (885, 1), (895, 1), (896, 2), (897, 1), (898, 1), (899, 1), (900, 1), (901, 1), (902, 1), (903, 1), (904, 1), (905, 1), (906, 1), (907, 2), (908, 1), (909, 1), (910, 1), (911, 1), (912, 1), (913, 1), (914, 1), (915, 1), (916, 1)], [(53, 1), (426, 1)], [(12, 1), (20, 1), (26, 1), (27, 1), (55, 2), (60, 1), (78, 1), (211, 1), (319, 1), (377, 1), (388, 1), (473, 1), (548, 1), (557, 1), (591, 1), (850, 1), (880, 1), (917, 1), (918, 1), (919, 1)], [(23, 1), (547, 1), (920, 1), (921, 1)], [(132, 1), (371, 1), (776, 1), (922, 1)], [(70, 1), (105, 1)], [(11, 1), (19, 1), (20, 2), (55, 2), (57, 1), (68, 1), (70, 1), (77, 1), (108, 1), (563, 1), (923, 1)], [(12, 1), (46, 1), (91, 1), (138, 1), (489, 1), (749, 1)], [(70, 1), (105, 1)], [(4, 1), (9, 2), (19, 1), (20, 1), (23, 1), (27, 1), (30, 1), (36, 1), (55, 4), (63, 1), (64, 1), (66, 2), (68, 2), (70, 1), (72, 2), (73, 2), (74, 1), (77, 2), (78, 1), (90, 1), (116, 1), (139, 1), (142, 1), (143, 2), (147, 1), (162, 1), (170, 1), (189, 2), (214, 1), (215, 1), (218, 1), (261, 1), (314, 1), (321, 1), (331, 1), (345, 1), (356, 1), (486, 1), (536, 1), (559, 1), (610, 1), (726, 1), (924, 1), (925, 1), (926, 1), (927, 1), (928, 1)], [(16, 1), (35, 1), (45, 1), (63, 1)], [(929, 1), (930, 1), (931, 1), (932, 1)], [(6, 1), (30, 1), (33, 1), (55, 1), (62, 1), (64, 1), (71, 1), (73, 1), (82, 1), (100, 1), (102, 1), (103, 1), (126, 1), (131, 1), (169, 1), (170, 1), (191, 1), (205, 1), (230, 1), (273, 1), (312, 1), (507, 1), (536, 1), (598, 1), (775, 1)], [(101, 1), (170, 1)], [(171, 1), (865, 1), (933, 1), (934, 1), (935, 1)], [(549, 1), (725, 1)], [(13, 1), (19, 1), (26, 1), (30, 1), (35, 1), (45, 1), (48, 1), (63, 1), (64, 1), (66, 1), (98, 1), (138, 1), (145, 1), (377, 1)], [(23, 1), (26, 1), (46, 1), (68, 1), (74, 1), (77, 1), (82, 1), (101, 1), (132, 2), (162, 1)], [(13, 1), (19, 1), (21, 1), (26, 1), (45, 1), (48, 1), (80, 1), (103, 1)], [(20, 1), (312, 1), (500, 1)], [(24, 1), (46, 1), (138, 1)], [(0, 1), (9, 1), (21, 1), (26, 1), (36, 1), (44, 1), (46, 1), (48, 3), (55, 1), (62, 1), (67, 1), (68, 1), (70, 2), (73, 1), (77, 1), (92, 1), (105, 1), (116, 2), (117, 1), (120, 1), (133, 1), (162, 1), (174, 1), (208, 1), (209, 1), (214, 1), (249, 2), (269, 1), (371, 1), (384, 1), (392, 1), (442, 1), (473, 1), (522, 1), (725, 1), (768, 1), (921, 1), (936, 1), (937, 1), (938, 1), (939, 1), (940, 1), (941, 1), (942, 1), (943, 1)], [(9, 1), (17, 1), (18, 1), (19, 2), (20, 2), (55, 1), (73, 1), (130, 1), (145, 1), (162, 1), (191, 1), (438, 1), (493, 1), (726, 1), (944, 1), (945, 1), (946, 1), (947, 1)], [(9, 1), (65, 1), (116, 2), (120, 1), (364, 1), (497, 1), (745, 1), (867, 1)], [(15, 1), (26, 2), (55, 2), (59, 1), (70, 1), (317, 1), (407, 1), (446, 1), (591, 1), (948, 1), (949, 1)], [(0, 1), (20, 1), (55, 1), (70, 1), (86, 1), (123, 1), (126, 1), (249, 1), (588, 1), (950, 1)], [(45, 1), (70, 1)], [(9, 1), (12, 2), (23, 1), (25, 1), (26, 2), (27, 1), (46, 1), (64, 1), (96, 1), (102, 1), (107, 1), (280, 1), (353, 1), (354, 1), (890, 1)], [(12, 1), (15, 1), (16, 2), (33, 1), (55, 3), (67, 1), (82, 1), (90, 1), (125, 1), (171, 1), (183, 1), (249, 1), (261, 1), (444, 1), (450, 1), (834, 1), (951, 1), (952, 1), (953, 1)], [(185, 1), (594, 1), (954, 1), (955, 1)], [(58, 1), (73, 1), (77, 1), (96, 2), (99, 1), (101, 1), (126, 1), (170, 1), (296, 1), (326, 1), (361, 1)], [(0, 1), (3, 1), (9, 1), (13, 1), (19, 1), (55, 1), (66, 1), (82, 1), (102, 1), (105, 1), (109, 1), (179, 1), (180, 1), (256, 1), (280, 1), (956, 1), (957, 1), (958, 1), (959, 1)], [(21, 1), (48, 1), (68, 1), (77, 1), (130, 1), (265, 1)], [(27, 1), (35, 1), (45, 1), (74, 1), (75, 1), (82, 1), (90, 1), (93, 1), (101, 1), (103, 1), (170, 1), (186, 1), (549, 1), (624, 1), (931, 1)], [(0, 1), (9, 1), (11, 1), (12, 2), (16, 1), (48, 2), (50, 1), (54, 1), (55, 1), (60, 1), (61, 1), (82, 1), (99, 1), (133, 1), (162, 2), (174, 1), (209, 1), (265, 1), (268, 1), (273, 1), (296, 2), (475, 1), (504, 1), (541, 1), (549, 1), (574, 1), (626, 1), (899, 1), (960, 1), (961, 1), (962, 1), (963, 1), (964, 1), (965, 1), (966, 1), (967, 1), (968, 1), (969, 1)], [(0, 1), (12, 2), (30, 1), (31, 1), (44, 1), (64, 2), (71, 1), (100, 1), (133, 1), (178, 1), (179, 1), (225, 1), (251, 1), (275, 1), (280, 1), (284, 1), (285, 1), (338, 1), (465, 1), (514, 1), (536, 1), (803, 1), (812, 1), (970, 1), (971, 1), (972, 1), (973, 1), (974, 1), (975, 1), (976, 1), (977, 1), (978, 1), (979, 1), (980, 1)], [(15, 1), (26, 1), (27, 1), (48, 1), (60, 1), (63, 1), (74, 1), (75, 1), (107, 1), (208, 1), (348, 1), (474, 1), (981, 1), (982, 1), (983, 1), (984, 1)], [(170, 1), (197, 1), (527, 1)], [(64, 1), (884, 1)], [(59, 1), (64, 1), (71, 1), (82, 1), (170, 1), (394, 1), (985, 1)], [(19, 1), (59, 1), (122, 1), (225, 1), (253, 1), (491, 1), (986, 1)], [(35, 1), (45, 1), (48, 1), (185, 1), (253, 1)], [(15, 1), (19, 1), (46, 1), (68, 1), (77, 1), (101, 1), (132, 1), (162, 1), (218, 1), (219, 1), (238, 1), (361, 1), (560, 1)], [(19, 2), (26, 1), (36, 1), (44, 1), (48, 1), (90, 1), (94, 1), (107, 1), (145, 1), (482, 1)], [(12, 1), (13, 1), (19, 1), (43, 1), (46, 1), (132, 1), (560, 1), (563, 1)], [(10, 1), (13, 1), (16, 1), (19, 1), (293, 1), (987, 1)], [(9, 1), (29, 1), (44, 2), (64, 1), (71, 1), (73, 3), (132, 1), (152, 1), (170, 1), (225, 2), (278, 1), (289, 1), (398, 1), (410, 2), (415, 1), (440, 1), (445, 1), (449, 1), (473, 2), (482, 2), (988, 1), (989, 1), (990, 1), (991, 1), (992, 1), (993, 1)], [(36, 1), (103, 1), (274, 1), (296, 1), (475, 1), (514, 1), (994, 1)], [(0, 1), (3, 2), (9, 1), (13, 1), (19, 1), (20, 1), (31, 1), (46, 1), (66, 1), (174, 1), (189, 1), (240, 1), (725, 1), (932, 1), (995, 1), (996, 1), (997, 1), (998, 1)], [(8, 2), (9, 1), (24, 1), (28, 1), (103, 1), (133, 2), (162, 1), (194, 1), (206, 1), (211, 1), (219, 1), (238, 1), (249, 1), (268, 1), (392, 1), (482, 3), (549, 1), (625, 1), (712, 1), (976, 1), (999, 1)], [(6, 1), (31, 1), (45, 1), (64, 1)], [(19, 1), (20, 1), (42, 1), (50, 1), (100, 1), (137, 1), (191, 1), (261, 1), (465, 1), (588, 1)], [(12, 1), (15, 1), (21, 1), (29, 1), (33, 2), (48, 1), (60, 1), (68, 1), (77, 1), (88, 1), (129, 1), (133, 1), (148, 1), (210, 1), (293, 1), (364, 1), (406, 1), (692, 1), (706, 1), (717, 1), (996, 1)], [(13, 1), (31, 1), (33, 2), (44, 1), (152, 2), (170, 1), (273, 1), (316, 1), (473, 1), (476, 1), (547, 1), (837, 1), (1000, 1), (1001, 1)], [(33, 1), (63, 1), (64, 1), (308, 1), (309, 1)], [(9, 2), (19, 1), (20, 1), (44, 1), (48, 1), (54, 1), (63, 1), (74, 1), (77, 1), (100, 1), (208, 1), (214, 2), (468, 2), (482, 2), (588, 1), (836, 1), (1002, 1), (1003, 1), (1004, 1), (1005, 1), (1006, 1), (1007, 1)], [(315, 1), (725, 1)], [(31, 1), (45, 1)], [(55, 1), (68, 1), (70, 1), (77, 1), (94, 1), (100, 1), (105, 1), (132, 1), (311, 1), (314, 1), (402, 1), (450, 1), (817, 1), (1008, 1), (1009, 1), (1010, 1)], [(0, 1), (3, 1), (26, 1), (45, 1), (55, 1), (106, 1), (162, 1), (265, 1), (514, 1), (1011, 1)], [(188, 1)], [(68, 1), (70, 1), (73, 1), (77, 1), (95, 1), (105, 1), (118, 1), (477, 1)], [(9, 1), (33, 1), (36, 1), (55, 1), (67, 1), (70, 1), (78, 1), (84, 1), (170, 1), (296, 1), (475, 1), (500, 1), (585, 1), (1012, 1), (1013, 1)], [(73, 1), (96, 1), (101, 1), (170, 1), (1014, 1)], [(9, 1), (31, 1), (33, 1), (45, 1), (133, 1), (309, 1), (447, 1), (1015, 1), (1016, 1)], [(31, 1), (45, 1), (71, 1), (315, 1)], [(0, 1), (13, 1), (18, 1), (27, 1), (35, 1), (46, 1), (55, 3), (67, 1), (82, 1), (86, 1), (88, 1), (197, 1), (238, 1), (377, 1), (389, 1), (447, 1), (456, 1), (465, 1), (473, 1), (476, 1), (497, 1), (549, 1), (855, 1), (1017, 1), (1018, 1), (1019, 1), (1020, 1), (1021, 2)], [(45, 1)], [(16, 1), (20, 1), (63, 2), (64, 1), (68, 1), (77, 1), (138, 1), (139, 1), (142, 1), (249, 1), (528, 1)], [(21, 1), (48, 1)], [(8, 1), (9, 1), (21, 1), (33, 1), (36, 1), (55, 1), (64, 1), (129, 1), (148, 1), (171, 1), (185, 1), (214, 1), (482, 1), (569, 1), (717, 1)], [(0, 1), (9, 1), (12, 1), (35, 1), (36, 2), (45, 1), (48, 1), (55, 2), (66, 1), (71, 1), (78, 1), (82, 1), (84, 1), (103, 1), (138, 1), (148, 2), (162, 1), (167, 1), (179, 1), (186, 2), (197, 1), (208, 1), (222, 1), (261, 1), (263, 1), (265, 1), (285, 1), (296, 1), (313, 1), (438, 1), (446, 2), (473, 1), (497, 1), (549, 1), (705, 1), (744, 1), (1022, 1)], [(26, 1), (45, 1), (512, 1)], [(46, 1), (70, 1), (837, 1)], [(11, 1), (17, 1), (58, 1), (71, 1), (107, 1), (378, 1), (1023, 1)], [(23, 1), (27, 1), (35, 1), (36, 1), (66, 1), (72, 1), (103, 1), (547, 1)], [(73, 1), (96, 1), (249, 1), (1024, 1), (1025, 1)], [(3, 1), (9, 1), (16, 1), (18, 1), (55, 1), (66, 1), (73, 2), (94, 1), (103, 1), (132, 1), (133, 1), (148, 2), (174, 1), (189, 1), (197, 1), (228, 1), (296, 2), (298, 1), (315, 1), (473, 1), (669, 1), (706, 1), (868, 2), (885, 1), (886, 1), (926, 1), (1026, 1), (1027, 1), (1028, 1), (1029, 1), (1030, 1)], [(364, 1), (450, 1), (1031, 1)], [(16, 1), (45, 1), (55, 1), (70, 1), (211, 1), (604, 1), (1032, 1)], [(105, 1)], [(70, 1), (123, 1)], [(71, 1), (276, 1), (392, 1)], [(20, 1), (31, 1), (46, 1), (63, 1), (64, 1), (68, 1), (73, 1), (74, 1), (77, 1), (96, 1), (143, 1), (162, 1), (321, 1), (447, 1)], [(103, 1), (162, 1), (170, 1), (251, 1), (389, 1), (392, 1)], [(20, 1), (96, 1), (508, 1)], [(35, 1), (46, 1)], [(13, 1), (35, 2), (45, 1), (66, 1), (68, 1), (72, 1), (73, 1), (77, 1), (103, 1), (145, 1), (149, 1), (261, 1), (1033, 1), (1034, 1)], [(46, 1), (132, 1)], [(6, 1), (70, 1), (82, 1), (315, 1), (582, 1)], [(13, 2), (19, 1), (68, 1), (70, 1), (77, 1), (94, 1), (105, 1), (116, 2), (120, 1), (305, 1), (315, 1)], [(26, 1), (103, 1), (185, 1), (453, 1)], [(26, 1), (46, 1)], [(35, 1), (46, 1), (66, 1)], [(12, 1), (1035, 1)], [(16, 1), (19, 1), (20, 1), (26, 2), (30, 1), (34, 1), (46, 1), (66, 1), (70, 2), (73, 1), (76, 1), (98, 1), (100, 2), (103, 1), (111, 1), (121, 1), (126, 1), (162, 1), (255, 1), (256, 1), (265, 1), (267, 1), (273, 1), (296, 1), (374, 1), (569, 1), (574, 1), (592, 1), (598, 1), (603, 1), (626, 1), (684, 1), (886, 1), (1036, 1), (1037, 1), (1038, 2), (1039, 1)], [(9, 1), (12, 1), (13, 1), (18, 2), (20, 1), (29, 1), (39, 1), (55, 2), (60, 2), (86, 1), (90, 1), (101, 1), (111, 1), (116, 1), (120, 1), (126, 1), (137, 1), (170, 1), (186, 1), (258, 1), (261, 1), (316, 1), (328, 1), (356, 1), (425, 1), (482, 1), (495, 1), (498, 1), (516, 1), (625, 2), (773, 1), (822, 1), (1023, 1), (1040, 1), (1041, 1), (1042, 1), (1043, 1), (1044, 1), (1045, 1), (1046, 1), (1047, 1), (1048, 1), (1049, 1), (1050, 1), (1051, 1), (1052, 1)], [(16, 1), (29, 1), (30, 2), (33, 1), (91, 1), (92, 1), (100, 1), (137, 1), (143, 1), (145, 1), (186, 1), (269, 1), (280, 2), (315, 1), (406, 1), (465, 2), (467, 1), (568, 1), (636, 1), (744, 1), (751, 1), (1007, 1), (1053, 1), (1054, 1), (1055, 1), (1056, 1)], [(9, 2), (10, 1), (44, 1), (67, 1), (100, 1), (101, 1), (119, 1), (147, 1), (148, 3), (208, 1), (215, 1), (255, 1), (267, 1), (280, 1), (296, 3), (527, 1), (548, 1), (624, 1), (662, 1), (685, 1), (840, 1), (1013, 3), (1057, 1), (1058, 1), (1059, 1), (1060, 1), (1061, 1), (1062, 1), (1063, 1), (1064, 1), (1065, 1)], [(9, 1), (13, 1), (20, 1), (24, 1), (26, 2), (29, 1), (30, 1), (35, 1), (36, 1), (37, 1), (44, 1), (55, 1), (66, 1), (68, 1), (72, 1), (74, 1), (75, 2), (77, 1), (98, 1), (100, 2), (101, 1), (105, 2), (109, 1), (115, 1), (116, 1), (118, 1), (133, 2), (164, 1), (171, 1), (202, 1), (208, 1), (210, 1), (239, 1), (305, 1), (312, 1), (384, 1), (392, 1), (397, 1), (435, 1), (438, 1), (440, 1), (473, 1), (514, 1), (528, 2), (549, 1), (574, 1), (627, 2), (737, 1), (904, 1), (923, 1), (992, 1), (1008, 1), (1012, 1), (1060, 1), (1066, 1), (1067, 1), (1068, 1), (1069, 1), (1070, 1), (1071, 1), (1072, 1)], [(9, 1), (10, 1), (14, 1), (16, 1), (209, 1), (224, 1), (426, 1), (834, 1)], [(9, 1), (13, 2), (16, 1), (19, 2), (26, 1), (94, 1), (221, 1), (255, 1), (261, 1), (267, 1), (296, 1), (535, 1), (814, 1), (1030, 1)], [(10, 1), (33, 1), (55, 1), (64, 1), (73, 1), (102, 1), (107, 1), (210, 1), (371, 1), (837, 1), (1073, 1), (1074, 1)], [(24, 1), (35, 1), (63, 2), (77, 1), (109, 1), (132, 1), (138, 1), (151, 1), (170, 1), (239, 1), (326, 1), (627, 1), (1075, 1), (1076, 1)], [(17, 1), (53, 1), (93, 1), (158, 1), (238, 1), (444, 1), (549, 1)], [(42, 1), (296, 1), (662, 1)], [(17, 1), (26, 2), (36, 1), (44, 1), (48, 2), (68, 2), (77, 2), (100, 1), (122, 1), (126, 1), (453, 1), (879, 1), (932, 1)], [(27, 1), (45, 1), (82, 1), (100, 1), (200, 1), (253, 1), (438, 1), (522, 1), (775, 1), (1077, 1)], [(19, 1), (23, 1), (73, 1), (563, 1)], [(21, 1), (23, 1), (35, 1), (55, 2), (59, 1), (63, 1), (64, 1), (70, 2), (73, 1), (116, 1), (146, 1), (377, 1), (478, 1), (557, 1), (658, 1), (668, 1), (669, 1), (908, 1), (1078, 1), (1079, 1), (1080, 1)], [(19, 1), (29, 1), (33, 1), (77, 1), (181, 1), (280, 1), (296, 1), (563, 1), (831, 1), (1081, 1), (1082, 1)], [(12, 1), (13, 1), (19, 1), (23, 1), (55, 1), (170, 1), (278, 1)], [(3, 1), (15, 1), (20, 1), (71, 1), (96, 1), (100, 1), (170, 1), (210, 1), (214, 1), (350, 1), (1083, 1), (1084, 1), (1085, 1)], [(46, 1), (64, 1), (68, 1), (77, 1)], [(12, 1), (35, 1), (43, 1), (63, 1), (66, 1), (171, 1), (253, 1), (270, 1), (276, 1), (549, 2), (1086, 1)], [(53, 1), (63, 1), (103, 1), (170, 1), (215, 1), (249, 1), (425, 1), (482, 1), (642, 1)], [(105, 1), (133, 1), (378, 1), (405, 1), (1087, 1)], [(13, 1), (19, 1), (26, 1), (48, 1), (107, 1), (121, 1), (186, 1), (305, 1), (451, 1), (504, 1), (1088, 1), (1089, 1)], [(803, 1), (1090, 1)], [(12, 1), (26, 1), (46, 1), (55, 2), (64, 2), (66, 1), (68, 1), (79, 1), (100, 1), (107, 1), (133, 2), (519, 1), (522, 1), (535, 1), (787, 1), (814, 1), (897, 1), (955, 1), (1091, 1)], [(1092, 1), (1093, 1)], [(9, 1), (35, 1), (45, 1), (55, 1), (63, 1), (64, 1), (66, 1), (80, 1), (102, 1), (130, 1), (145, 1), (356, 1), (438, 2), (751, 1), (863, 1), (1068, 1), (1094, 1)], [(9, 1), (20, 1), (45, 1), (46, 1), (55, 1), (82, 1), (214, 1), (249, 1), (275, 1), (438, 1), (870, 1), (1095, 1), (1096, 1)], [(20, 1), (27, 1), (31, 1), (44, 1), (45, 1), (55, 3), (68, 1), (77, 1), (88, 1), (94, 1), (99, 1), (101, 1), (122, 1), (167, 1), (170, 1), (202, 1), (231, 2), (255, 1), (261, 1), (267, 1), (305, 1), (627, 1), (986, 1), (998, 1), (1097, 1), (1098, 1), (1099, 1), (1100, 1)], [(9, 1), (27, 1), (29, 1), (55, 1), (63, 1), (70, 1), (73, 1), (78, 1), (249, 1), (293, 1), (321, 1), (440, 1), (527, 1), (836, 1), (1101, 1)], [(31, 1), (46, 1), (54, 1), (55, 1), (167, 1), (207, 1), (311, 1), (447, 1), (482, 1), (717, 1)], [(35, 1), (66, 1), (104, 1), (206, 1), (867, 1)], [(19, 2), (23, 1), (49, 2), (101, 1), (140, 1), (169, 1), (170, 1), (559, 1), (1102, 1), (1103, 2)], [(3, 1), (9, 1), (12, 1), (13, 1), (55, 2), (66, 1), (189, 1), (195, 1), (557, 1), (705, 1), (911, 1), (1104, 1), (1105, 1), (1106, 1)], [(3, 1), (16, 1), (26, 1), (29, 1), (33, 1), (45, 1), (64, 1), (86, 1), (91, 1), (130, 1), (137, 1), (219, 1), (377, 1), (514, 1), (627, 1), (1107, 1), (1108, 1)], [(94, 1), (184, 1)], [(12, 1), (19, 2), (29, 1), (30, 1), (33, 1), (35, 1), (44, 1), (55, 2), (62, 1), (70, 1), (77, 2), (94, 2), (98, 1), (138, 1), (170, 2), (186, 1), (264, 1), (314, 1), (385, 1), (435, 1), (452, 2), (476, 1), (528, 1), (529, 1), (548, 1), (633, 2), (699, 1), (785, 2), (812, 1), (886, 1), (938, 1), (1109, 3), (1110, 1), (1111, 1), (1112, 1)], [(15, 1), (103, 1), (111, 1)], [(36, 1), (55, 1), (59, 1), (65, 1), (67, 1), (269, 1), (273, 1), (438, 1), (442, 1), (763, 1), (768, 1), (850, 1), (1113, 1)], [(116, 1), (249, 1), (305, 1)], [(0, 1), (3, 1), (9, 1), (13, 2), (15, 1), (16, 1), (20, 1), (44, 1), (46, 1), (55, 7), (58, 1), (59, 1), (64, 1), (67, 1), (71, 2), (73, 2), (74, 1), (86, 1), (90, 1), (91, 2), (94, 1), (100, 2), (101, 3), (102, 1), (115, 1), (116, 1), (138, 1), (143, 1), (170, 2), (185, 1), (186, 2), (194, 1), (211, 2), (223, 1), (261, 1), (320, 1), (354, 3), (361, 1), (394, 1), (416, 2), (447, 1), (476, 1), (527, 1), (533, 1), (539, 1), (591, 1), (722, 1), (789, 1), (1114, 1), (1115, 1), (1116, 1), (1117, 2), (1118, 1), (1119, 1), (1120, 1), (1121, 1)], [(0, 1), (3, 1), (12, 1), (31, 1), (32, 1), (102, 1)], [(30, 1), (60, 1), (68, 1), (73, 3), (77, 1), (98, 1), (138, 1), (139, 1), (186, 1), (290, 1), (447, 1), (466, 1), (478, 1), (677, 1)], [(62, 1), (74, 1), (970, 1), (1122, 1)], [(3, 1), (70, 1), (158, 1), (444, 1), (535, 1), (989, 1), (996, 1)], [(9, 1), (10, 2), (14, 1), (16, 1), (18, 1), (27, 1), (36, 1), (44, 1), (64, 1), (70, 1), (102, 1), (117, 1), (143, 1), (170, 1), (191, 1), (200, 1), (253, 1), (442, 1), (451, 1), (533, 1), (539, 1), (547, 1), (549, 1), (727, 1), (834, 1), (1123, 1), (1124, 1), (1125, 1)], [(23, 1), (25, 1), (26, 1), (27, 1)], [(20, 1), (55, 1), (91, 1), (94, 1), (191, 1), (906, 1), (1047, 1), (1126, 1)], [(19, 1), (127, 1), (136, 1), (139, 1), (277, 1), (280, 1), (395, 1), (548, 1)], [(33, 1), (35, 1), (52, 1), (55, 1), (63, 1), (64, 1), (66, 1), (78, 1), (94, 1), (96, 1), (162, 1), (253, 1), (308, 1), (309, 1), (321, 1), (394, 1), (491, 1), (1006, 1), (1127, 1), (1128, 1)], [(9, 1), (39, 1), (44, 1), (53, 1), (103, 1), (109, 1), (116, 3), (133, 1), (305, 1), (489, 1), (706, 1), (775, 1), (1129, 1), (1130, 1), (1131, 1)], [(35, 1), (45, 1), (55, 2), (66, 1), (70, 2), (111, 1), (191, 2), (197, 1), (209, 1), (296, 1), (298, 1), (316, 1), (412, 1), (451, 1), (557, 1), (1132, 1)], [(35, 1), (45, 1), (80, 1), (94, 1), (356, 1)], [(20, 1), (35, 1), (46, 1), (73, 1), (142, 1), (338, 1)], [(0, 1), (3, 1), (11, 1), (12, 2), (15, 1), (17, 1), (19, 1), (20, 1), (27, 1), (33, 1), (43, 1), (55, 1), (63, 1), (74, 2), (75, 2), (78, 1), (80, 1), (82, 2), (100, 2), (101, 1), (102, 1), (103, 1), (115, 1), (138, 1), (167, 1), (185, 1), (186, 1), (239, 1), (256, 1), (442, 1), (444, 1), (497, 2), (627, 1), (720, 1), (722, 1), (744, 1), (848, 1), (1133, 1)], [(162, 1), (903, 1), (1134, 1), (1135, 1)], [(9, 1), (64, 1), (66, 1), (71, 2), (99, 1), (102, 1), (103, 1), (111, 1), (132, 1), (217, 1), (225, 1), (228, 1), (243, 1), (253, 1), (272, 1), (296, 3), (371, 1), (424, 2), (438, 1), (446, 1), (473, 1), (482, 2), (616, 1), (662, 1), (719, 1), (834, 1), (854, 1), (882, 1), (963, 1), (1136, 1), (1137, 1), (1138, 1), (1139, 1), (1140, 1), (1141, 1), (1142, 1)], [(100, 1), (180, 1), (280, 1), (467, 1), (616, 1), (1143, 1)], [(46, 1), (70, 1), (123, 1)], [(18, 1), (58, 1), (73, 1), (90, 1), (100, 1), (101, 1), (106, 1), (132, 1), (137, 1), (170, 1), (180, 1), (249, 1), (312, 1), (514, 2), (626, 1), (674, 1), (930, 1), (943, 1)], [(12, 1), (33, 1), (35, 1), (48, 1), (55, 1), (59, 1), (64, 1), (71, 1), (107, 1), (133, 1), (138, 1), (148, 1), (155, 1), (167, 1), (191, 1), (215, 1), (249, 2), (275, 1), (293, 1), (314, 1), (406, 1), (838, 1), (851, 1), (1144, 1), (1145, 1), (1146, 1)], [(35, 1), (45, 1), (66, 1), (70, 1), (123, 1)], [(26, 1), (45, 2), (58, 1), (70, 1), (71, 1), (72, 1), (121, 1), (170, 1), (273, 1), (315, 1), (473, 1), (943, 1)], [(275, 1), (764, 1)], [(13, 1), (55, 1), (72, 1), (100, 1), (143, 1), (152, 1), (458, 1)], [(3, 1), (16, 1), (21, 1), (35, 1), (36, 1), (46, 1), (55, 1), (66, 2), (78, 1), (107, 1), (133, 1), (189, 1), (191, 1), (210, 1), (251, 1), (253, 1), (256, 1), (290, 1), (328, 2), (357, 1), (438, 1), (504, 1), (519, 1), (541, 1), (578, 1), (616, 1), (662, 1), (706, 1), (1147, 1), (1148, 1), (1149, 1), (1150, 1), (1151, 1), (1152, 1), (1153, 1)], [(6, 1), (12, 1), (18, 1), (23, 1), (46, 1), (55, 1), (73, 1), (88, 1), (90, 1), (96, 1), (305, 1), (320, 1), (392, 1), (497, 1), (862, 1), (998, 1)], [(36, 1), (46, 1), (102, 1), (162, 2), (191, 2), (219, 1), (251, 1), (257, 1), (514, 1), (585, 1), (768, 1), (927, 1), (984, 1), (1100, 1), (1154, 1), (1155, 1), (1156, 1)], [(46, 1), (48, 1), (64, 1)], [(55, 1), (66, 1), (78, 1), (94, 1), (147, 1), (189, 1), (191, 1)], [(3, 1), (60, 1), (132, 1), (499, 1), (1148, 1)], [(8, 1), (9, 1), (19, 1), (46, 1), (55, 2), (68, 1), (70, 1), (71, 1), (77, 1), (79, 1), (106, 1), (133, 1), (183, 1), (197, 1), (533, 1), (633, 1), (662, 1), (1157, 1), (1158, 1), (1159, 1), (1160, 1)], [(3, 1), (29, 1), (88, 1), (170, 1), (392, 1), (717, 1)], [(19, 1), (48, 1), (73, 2), (105, 1), (170, 1), (253, 1), (293, 1), (394, 1), (491, 1)], [(3, 1), (19, 1), (33, 2), (35, 1), (41, 1), (44, 1), (55, 1), (63, 1), (68, 1), (77, 2), (88, 1), (99, 1), (100, 1), (101, 1), (115, 1), (131, 1), (145, 1), (152, 1), (162, 1), (180, 1), (235, 1), (361, 1), (414, 1), (438, 1), (442, 1), (451, 1), (613, 2), (669, 1), (720, 1), (813, 1), (975, 1), (1012, 1), (1079, 2), (1161, 1), (1162, 1), (1163, 1), (1164, 1), (1165, 1), (1166, 1), (1167, 1), (1168, 1), (1169, 1), (1170, 1)], [(10, 1), (12, 1), (19, 1), (20, 1), (30, 1), (33, 2), (43, 1), (46, 1), (55, 4), (64, 1), (67, 1), (70, 2), (77, 1), (79, 1), (82, 2), (84, 1), (86, 1), (91, 5), (98, 1), (100, 1), (101, 1), (103, 1), (116, 1), (120, 1), (123, 1), (131, 1), (132, 1), (152, 1), (160, 1), (162, 1), (179, 1), (361, 1), (415, 1), (434, 1), (442, 1), (452, 1), (470, 1), (501, 1), (528, 2), (549, 1), (563, 1), (602, 1), (625, 1), (627, 1), (726, 1), (785, 1), (869, 1), (1171, 1), (1172, 1)], [(45, 1), (70, 1), (132, 1), (315, 1)], [(12, 1), (45, 1), (46, 1), (64, 1), (102, 1)], [(105, 1)], [(162, 1), (392, 1)], [(19, 1), (45, 1), (63, 1), (70, 1), (186, 1), (211, 1), (385, 1), (580, 1), (616, 1)], [(12, 1), (13, 1), (18, 1), (19, 1), (20, 1), (23, 1), (26, 3), (29, 1), (41, 2), (55, 4), (59, 1), (64, 2), (65, 1), (71, 1), (77, 1), (82, 1), (91, 1), (94, 1), (100, 3), (107, 2), (169, 1), (172, 1), (182, 1), (198, 2), (212, 1), (249, 1), (377, 1), (407, 2), (477, 1), (549, 3), (574, 1), (606, 1), (627, 1), (689, 1), (831, 1), (896, 1), (944, 1), (963, 1), (1119, 1), (1173, 1), (1174, 1), (1175, 1), (1176, 1), (1177, 1), (1178, 1), (1179, 1), (1180, 1), (1181, 1), (1182, 1), (1183, 1), (1184, 1)], [(10, 1), (12, 1), (14, 1), (16, 1), (60, 2), (111, 1), (170, 2), (210, 1), (248, 1), (386, 1), (513, 1), (1185, 2), (1186, 1)], [(13, 1), (15, 2), (16, 1), (19, 1), (23, 1), (36, 1), (43, 1), (46, 1), (55, 1), (59, 1), (66, 1), (73, 3), (125, 1), (202, 1), (365, 1), (438, 1), (834, 1), (1055, 1)], [(71, 1), (96, 1), (1187, 1)], [(8, 2), (16, 1), (55, 2), (57, 1), (60, 1), (70, 1), (73, 2), (104, 1), (115, 2), (116, 1), (118, 1), (256, 1), (305, 1), (328, 1), (482, 1), (549, 1), (553, 1), (559, 1), (775, 2), (923, 1), (1130, 1), (1150, 1), (1188, 1), (1189, 1), (1190, 1)], [(46, 1), (132, 1)], [(31, 1), (35, 1), (45, 1), (48, 1), (55, 1), (72, 1), (73, 1), (115, 1), (138, 1), (178, 1), (447, 1), (959, 1), (1007, 1), (1191, 1), (1192, 1), (1193, 1), (1194, 1), (1195, 1)], [(13, 1), (35, 1), (66, 1), (72, 1), (105, 1), (832, 1)], [(13, 2), (17, 1), (19, 3), (39, 1), (44, 1), (48, 1), (58, 1), (60, 1), (64, 1), (65, 1), (71, 4), (73, 1), (107, 1), (133, 1), (200, 1), (210, 2), (211, 1), (253, 1), (527, 1), (548, 1), (719, 1), (1196, 1), (1197, 1)], [(13, 1), (15, 1), (111, 1), (162, 1), (265, 1), (388, 1), (392, 1), (565, 1), (720, 1), (995, 1), (998, 1), (1198, 1)], [(26, 1), (45, 1), (55, 1), (64, 1), (75, 1), (78, 1), (607, 1)], [(9, 1), (29, 1), (35, 1), (46, 1), (55, 1), (99, 1), (434, 1), (514, 1), (616, 1), (658, 1), (692, 1), (927, 1), (1026, 1), (1199, 1), (1200, 1), (1201, 1)], [(9, 1), (64, 1), (70, 1), (96, 1), (99, 1), (123, 1), (547, 1), (549, 1), (861, 1), (1202, 1)], [(11, 1), (12, 2), (33, 1), (45, 1), (46, 1), (50, 1), (52, 1), (55, 1), (59, 1), (60, 2), (64, 3), (78, 1), (121, 1), (198, 2), (253, 3), (377, 1), (473, 1), (527, 1), (586, 1), (607, 1), (837, 1), (1203, 1)], [(12, 1), (31, 1), (43, 1), (45, 1), (55, 1), (70, 1), (71, 1), (95, 1), (115, 1), (153, 1), (170, 2), (177, 1), (312, 1), (514, 1), (1204, 1), (1205, 1)], [(68, 1), (77, 1), (96, 1)], [(35, 1), (46, 1), (55, 1), (70, 1), (71, 1), (96, 1), (273, 1), (371, 1)], [(54, 1), (61, 1), (82, 1), (101, 1), (132, 1), (170, 2), (180, 1), (211, 1), (251, 1), (464, 1), (482, 1), (726, 1), (790, 1), (852, 1), (1062, 1), (1206, 1), (1207, 1), (1208, 1), (1209, 1)], [(63, 1), (64, 1), (106, 1), (265, 1), (437, 1)], [(437, 1), (725, 1)], [(23, 1), (26, 2), (27, 1), (31, 1), (32, 1), (35, 1), (36, 1), (70, 1), (86, 1), (90, 1), (94, 1), (98, 1), (101, 1), (130, 1), (186, 1), (345, 1), (476, 1), (626, 1), (1210, 1), (1211, 1)], [(23, 1), (932, 1), (942, 1), (1212, 1), (1213, 1)], [(37, 1), (65, 1), (170, 1), (276, 1), (296, 1), (392, 1), (706, 1), (1214, 1)], [(9, 1), (12, 1), (13, 1), (15, 1), (20, 1), (31, 1), (33, 1), (46, 1), (55, 2), (60, 1), (69, 1), (100, 1), (126, 1), (129, 1), (131, 1), (132, 2), (151, 1), (158, 1), (170, 1), (210, 1), (477, 1), (482, 1), (507, 1), (720, 1), (891, 1), (1215, 1)], [(12, 1), (20, 1), (23, 1), (25, 1), (44, 1), (55, 2), (60, 1), (64, 2), (73, 1), (78, 2), (107, 1), (147, 1), (162, 1), (202, 1), (488, 1), (932, 1), (1216, 1)], [(73, 1), (82, 2), (100, 1), (127, 1), (180, 1), (182, 1), (251, 1), (673, 1), (674, 1), (734, 1), (852, 1)], [(3, 1), (13, 1), (19, 1), (55, 3), (70, 1), (100, 1), (171, 1), (191, 1), (224, 1), (255, 1), (267, 1), (345, 1), (452, 1), (507, 1), (563, 1), (568, 1), (932, 1)], [(31, 1), (70, 1), (776, 1), (1217, 1), (1218, 1)], [(15, 1), (17, 1), (20, 1), (60, 2), (71, 1), (84, 1), (122, 1), (312, 1), (338, 1), (879, 1)], [(0, 1), (20, 1), (21, 1), (35, 2), (43, 1), (48, 1), (55, 2), (60, 2), (66, 2), (70, 1), (78, 1), (88, 1), (115, 1), (116, 2), (118, 1), (138, 1), (189, 1), (211, 1), (251, 1), (308, 1), (309, 1), (312, 1), (340, 1), (398, 1), (404, 1), (412, 1), (497, 1), (549, 1), (668, 1), (842, 1), (948, 1), (989, 1), (1219, 1), (1220, 1)], [(46, 1), (50, 1), (58, 1), (60, 2), (62, 1), (80, 1), (103, 1), (145, 1), (539, 1), (1221, 1)], [(23, 1), (26, 1), (438, 1), (535, 1), (814, 1), (902, 1), (931, 1), (1221, 1)], [(66, 1), (76, 1), (100, 1), (296, 1), (662, 1), (748, 1), (1222, 1)], [(19, 1), (48, 1), (65, 1), (67, 1), (77, 1), (563, 1), (616, 1), (686, 1), (828, 1)], [(12, 1), (27, 1), (48, 1), (68, 1), (77, 1), (100, 1), (101, 1), (425, 1), (726, 1), (1101, 1)], [(46, 1), (55, 1), (70, 1), (71, 2), (116, 3), (120, 1), (132, 1), (1223, 1), (1224, 1), (1225, 1)], [(12, 1), (15, 1), (19, 1), (33, 1), (41, 1), (46, 1), (48, 1), (53, 1), (67, 1), (77, 1), (100, 1), (107, 1), (111, 1), (198, 1), (228, 1), (326, 1), (836, 1), (890, 1), (1226, 1), (1227, 1), (1228, 1), (1229, 1), (1230, 1)], [(9, 1), (12, 1), (13, 1), (18, 2), (21, 1), (26, 1), (33, 1), (36, 1), (50, 1), (55, 4), (63, 1), (64, 2), (65, 1), (70, 1), (73, 1), (90, 1), (106, 1), (119, 1), (167, 3), (170, 1), (202, 1), (211, 1), (214, 2), (249, 1), (295, 1), (394, 1), (435, 1), (482, 2), (539, 2), (547, 1), (569, 1), (596, 1), (598, 2), (662, 1), (721, 1), (745, 1), (1231, 1), (1232, 1), (1233, 1), (1234, 1), (1235, 1)], [(26, 1), (94, 1)], [(12, 1), (96, 1), (1236, 1), (1237, 1), (1238, 1)], [(9, 1), (13, 1), (18, 1), (20, 2), (55, 1), (57, 1), (63, 1), (64, 1), (70, 2), (94, 1), (119, 1), (191, 2), (238, 1), (356, 1), (404, 1), (423, 1), (622, 1), (822, 1), (865, 1), (1239, 1), (1240, 1)], [(13, 1), (17, 1), (19, 3), (33, 2), (36, 1), (44, 1), (54, 1), (61, 1), (62, 1), (67, 1), (68, 2), (73, 1), (77, 2), (86, 1), (91, 1), (127, 1), (129, 1), (131, 1), (152, 1), (169, 1), (444, 1), (496, 1), (622, 1), (1241, 1), (1242, 1), (1243, 1), (1244, 1)], [(20, 1), (142, 1), (576, 1)], [(13, 1), (19, 1), (99, 1), (100, 1), (331, 1), (370, 1), (475, 1)], [(46, 1), (102, 1)], [(23, 1), (36, 1)], [(13, 1), (16, 1), (46, 1), (53, 1), (55, 1), (67, 1), (68, 1), (73, 1), (86, 1), (149, 1), (180, 1), (273, 1), (415, 1), (483, 1), (496, 1), (588, 1), (680, 1), (1245, 1), (1246, 1)], [(70, 1), (103, 1), (109, 1), (208, 1), (522, 1)], [(3, 1), (9, 2), (20, 1), (103, 1), (214, 1), (482, 1)], [(20, 1), (55, 1), (100, 1), (170, 1), (202, 1), (354, 1), (547, 1), (789, 1), (1247, 1), (1248, 1)], [(70, 1), (105, 1)], [(3, 1), (19, 1), (78, 1), (102, 1), (103, 1), (145, 1), (158, 1), (404, 1), (1086, 1)], [(24, 1), (35, 1), (46, 3), (750, 1)], [(13, 1), (26, 1), (33, 1), (41, 1), (55, 3), (59, 2), (67, 1), (73, 1), (78, 1), (90, 3), (131, 1), (132, 1), (152, 1), (162, 1), (170, 1), (218, 1), (996, 1), (1249, 1), (1250, 1)], [(9, 1), (46, 1), (152, 1), (717, 1), (996, 1)], [(12, 1), (21, 1), (75, 1), (125, 1), (205, 1), (210, 1)], [(19, 1), (48, 1), (613, 1), (1251, 1), (1252, 1)], [(31, 1), (45, 1), (46, 1), (132, 1), (746, 1), (1253, 1)], [(3, 2), (8, 1), (9, 1), (11, 1), (12, 3), (23, 1), (26, 1), (35, 1), (50, 1), (55, 1), (64, 1), (66, 1), (96, 1), (102, 1), (106, 1), (107, 2), (111, 1), (138, 1), (170, 2), (180, 1), (186, 2), (198, 1), (327, 1), (356, 1), (464, 1), (482, 1), (549, 1), (624, 1), (658, 1), (680, 1), (706, 1), (856, 1), (989, 1), (1254, 2), (1255, 1), (1256, 1), (1257, 1), (1258, 1), (1259, 1), (1260, 1), (1261, 1), (1262, 1), (1263, 1)], [(3, 1), (4, 1), (12, 2), (20, 1), (26, 2), (30, 2), (35, 1), (36, 1), (43, 2), (45, 1), (55, 2), (63, 1), (64, 1), (66, 1), (72, 1), (74, 1), (80, 2), (98, 1), (101, 1), (103, 1), (126, 1), (138, 1), (143, 2), (162, 1), (170, 1), (183, 1), (184, 1), (202, 2), (221, 2), (222, 2), (293, 1), (365, 1), (385, 1), (476, 1), (514, 1), (594, 1), (668, 1), (773, 1), (984, 1), (1056, 1), (1242, 1), (1264, 1), (1265, 1), (1266, 1), (1267, 1), (1268, 1), (1269, 1)], [(46, 1), (68, 1), (77, 1)], [(0, 1), (8, 1), (12, 1), (17, 1), (19, 1), (24, 1), (30, 1), (35, 3), (36, 1), (44, 1), (55, 1), (63, 1), (64, 2), (65, 1), (66, 5), (74, 1), (99, 1), (107, 1), (132, 2), (170, 2), (181, 1), (183, 2), (189, 2), (253, 1), (256, 2), (275, 1), (298, 1), (314, 1), (385, 2), (444, 1), (514, 1), (717, 1), (744, 1), (867, 1), (908, 1), (969, 1), (1140, 1), (1270, 1), (1271, 2), (1272, 2), (1273, 1)], [(105, 1)], [(26, 1), (45, 1), (66, 1), (86, 1), (147, 1), (781, 1)], [(35, 1), (45, 1), (46, 2), (70, 1), (88, 2), (91, 1), (94, 2), (100, 1), (170, 1), (186, 1), (1200, 1), (1274, 1), (1275, 1)], [(9, 1), (11, 1), (12, 1), (18, 2), (20, 2), (46, 1), (55, 1), (71, 1), (82, 1), (312, 1), (338, 1), (345, 1)], [(45, 1), (64, 1)], [(31, 1), (46, 1), (94, 1), (622, 1)], [(64, 1), (478, 1)], [(12, 1), (348, 1), (569, 1), (1062, 1)], [(26, 1), (94, 1), (105, 1)], [(29, 1), (33, 1), (68, 1), (77, 1), (96, 1), (142, 1), (1276, 1)], [(20, 1), (26, 2), (115, 1), (127, 1), (162, 1), (253, 1), (358, 1), (473, 1), (519, 1), (527, 1), (657, 1), (1277, 1), (1278, 1), (1279, 2), (1280, 1), (1281, 1), (1282, 1), (1283, 1)], [(20, 1), (23, 1), (25, 1), (26, 1), (60, 1), (68, 2), (77, 2), (93, 1), (111, 1), (285, 1), (937, 1), (1013, 1), (1030, 1), (1284, 1), (1285, 1), (1286, 1), (1287, 1), (1288, 2)], [(133, 1), (765, 1), (1151, 1)], [(11, 1), (55, 1)], [(20, 1), (46, 1), (132, 1), (589, 1), (1175, 1)], [(9, 1), (35, 1), (45, 1), (167, 1), (314, 1), (444, 1), (482, 1), (1289, 1), (1290, 1), (1291, 1)], [(48, 1), (68, 1), (77, 1), (520, 1)], [(12, 1), (13, 1), (26, 1), (35, 1), (43, 1), (45, 1), (53, 1), (68, 2), (77, 2), (100, 1), (101, 1), (169, 1), (171, 1), (189, 1), (191, 1), (482, 1), (549, 2), (1088, 1), (1204, 1), (1292, 1), (1293, 1)], [(104, 1), (197, 1)], [(23, 1)], [(4, 1), (27, 1), (44, 1), (55, 1), (64, 1), (90, 1), (91, 1), (100, 1), (101, 1), (116, 2), (146, 1), (170, 1), (181, 1), (261, 1), (475, 1), (1294, 1)], [(70, 1), (105, 1)], [(20, 1), (55, 1), (170, 1), (726, 1)], [(103, 1)], [(44, 1), (221, 1), (253, 1), (535, 1), (865, 1), (1295, 1)], [(0, 2), (9, 1), (12, 2), (15, 1), (16, 1), (19, 1), (20, 1), (26, 1), (27, 1), (35, 1), (36, 1), (46, 2), (48, 1), (55, 3), (58, 1), (68, 1), (70, 1), (73, 2), (75, 1), (77, 1), (94, 1), (99, 1), (101, 1), (102, 1), (105, 1), (132, 1), (133, 1), (170, 1), (202, 1), (435, 1), (476, 1), (482, 1), (553, 1), (829, 1), (836, 1), (1107, 1), (1296, 1), (1297, 1), (1298, 1), (1299, 1), (1300, 1), (1301, 1)], [(48, 1), (55, 1), (68, 1), (77, 1), (191, 1), (370, 1)], [(0, 1), (16, 1), (86, 1), (91, 1), (96, 1), (528, 1)], [(33, 1), (63, 2), (64, 1), (77, 1), (170, 1), (831, 1), (1302, 1), (1303, 1)], [(0, 2), (19, 1), (65, 1), (66, 1), (70, 1), (75, 1), (103, 1), (145, 2), (171, 1), (438, 1), (515, 1), (751, 1), (1304, 1), (1305, 1)], [(43, 1), (127, 1), (275, 1)], [(13, 1), (23, 1), (35, 2), (36, 1), (54, 1), (63, 2), (64, 1), (66, 1), (72, 1), (73, 1), (223, 1), (239, 1), (316, 1), (539, 1), (1306, 1)], [(12, 2), (13, 1), (26, 1), (33, 1), (69, 1), (84, 1), (102, 1), (111, 2), (147, 1), (198, 1), (224, 2), (275, 1), (385, 1), (1307, 1), (1308, 1), (1309, 1)], [(0, 1), (9, 1), (13, 1), (15, 1), (27, 1), (55, 2), (58, 1), (64, 1), (72, 1), (78, 1), (119, 1), (133, 1), (261, 1), (290, 1), (386, 1), (415, 1), (449, 1), (463, 1), (473, 2), (497, 1), (519, 1), (522, 1)], [(35, 1), (55, 1), (63, 1), (64, 1), (170, 1), (186, 1), (387, 1), (1310, 1), (1311, 1), (1312, 1)], [(3, 1), (8, 1), (12, 1), (16, 1), (19, 1), (26, 2), (48, 1), (53, 1), (55, 2), (59, 2), (68, 1), (70, 1), (71, 2), (77, 1), (105, 1), (111, 2), (139, 1), (145, 1), (170, 1), (230, 1), (254, 1), (268, 1), (269, 1), (328, 1), (354, 1), (365, 1), (384, 1), (389, 1), (459, 1), (475, 1), (557, 1), (606, 1), (613, 1), (836, 1), (911, 1), (1019, 1)], [(55, 1), (116, 1), (549, 1), (911, 1), (1313, 1)], [(18, 1), (19, 1), (20, 1), (36, 1), (46, 1), (55, 3), (59, 1), (63, 1), (70, 1), (115, 1), (116, 1), (146, 1), (166, 1), (216, 1), (256, 1), (456, 1), (523, 1)], [(16, 1), (21, 1), (48, 1), (68, 1), (77, 1), (96, 1), (100, 1), (455, 1), (461, 1), (1004, 1)], [(12, 1), (21, 1), (48, 1), (55, 1), (64, 1), (71, 1), (73, 1), (159, 1), (223, 1), (579, 1), (1314, 1)], [(70, 1), (105, 1)], [(8, 1), (88, 1), (116, 1), (154, 1), (378, 1), (482, 1), (1315, 1), (1316, 1)], [(132, 1), (249, 1), (402, 1), (1140, 1)], [(1317, 1), (1318, 1)], [(46, 1), (55, 1), (67, 1), (70, 1), (312, 1)], [(26, 1), (48, 1), (55, 1), (94, 1)], [(35, 1), (46, 1)], [(3, 1), (12, 1), (33, 1), (55, 1), (70, 1), (91, 1), (94, 2), (123, 1), (133, 1), (741, 1)], [(4, 1), (12, 1), (16, 1), (18, 1), (33, 1), (55, 1), (60, 1), (102, 1), (103, 1), (107, 1), (128, 1), (131, 1), (314, 1), (458, 1), (1302, 1)], [(26, 1), (94, 1), (184, 1), (1319, 1)], [(24, 1), (479, 1)], [(9, 1), (19, 1), (20, 1), (21, 1), (48, 1), (55, 1), (59, 1), (68, 1), (71, 1), (77, 1), (100, 1), (170, 1), (280, 1), (438, 1), (476, 1), (563, 1)], [(12, 2), (27, 1), (48, 1), (60, 1), (64, 1), (68, 1), (77, 1), (100, 1), (111, 2), (198, 1), (256, 1), (275, 1), (348, 1), (427, 1), (592, 1), (622, 1), (1203, 1), (1320, 1), (1321, 1), (1322, 1), (1323, 1)], [(55, 1), (104, 1), (149, 1)], [(33, 1)], [(9, 2), (20, 1), (26, 1), (55, 1), (68, 1), (73, 1), (77, 1), (94, 1), (106, 1), (139, 1), (438, 1), (466, 1), (496, 1), (677, 1), (1324, 1), (1325, 1)], [(13, 1), (19, 1), (44, 1), (54, 1), (63, 1), (225, 1), (239, 1)], [(9, 2), (18, 1), (55, 1), (82, 1), (143, 1), (547, 1), (726, 1), (1326, 1)], [(12, 1), (19, 1), (23, 1), (25, 1), (26, 1), (27, 1), (44, 1), (450, 1), (851, 1), (1327, 1)], [(0, 1), (3, 1), (10, 1), (12, 1), (24, 1), (25, 1), (33, 1), (35, 1), (36, 1), (91, 1), (102, 1), (131, 1), (185, 1), (186, 1), (765, 1), (893, 1), (1328, 1), (1329, 1)], [(12, 1), (21, 1), (48, 1), (133, 1), (162, 1)], [(3, 3), (9, 1), (12, 1), (13, 1), (17, 1), (19, 1), (20, 3), (26, 2), (27, 1), (36, 1), (41, 2), (44, 1), (45, 1), (48, 1), (50, 1), (52, 1), (54, 1), (60, 1), (63, 1), (64, 1), (67, 1), (84, 1), (90, 2), (93, 1), (128, 1), (142, 1), (148, 1), (162, 1), (167, 2), (191, 1), (198, 1), (210, 1), (239, 1), (277, 1), (293, 1), (312, 1), (348, 1), (377, 1), (384, 1), (438, 1), (442, 1), (473, 1), (476, 1), (482, 1), (527, 1), (549, 1), (606, 1), (720, 1), (1092, 1), (1228, 1), (1291, 1), (1330, 1), (1331, 1), (1332, 1), (1333, 1), (1334, 1), (1335, 1), (1336, 1), (1337, 1), (1338, 1), (1339, 1), (1340, 1)], [(77, 1), (354, 1), (1341, 1)], [(68, 1), (71, 1), (77, 1), (1197, 1)], [(0, 1), (53, 1), (186, 1), (222, 1), (296, 1), (316, 1), (354, 1), (397, 1), (522, 1), (721, 1)], [(21, 1), (26, 1), (48, 1), (62, 1), (68, 1), (77, 1), (145, 1), (170, 1), (464, 1), (539, 1), (633, 1), (689, 1), (834, 1), (1342, 1), (1343, 1)], [(33, 1), (55, 1), (64, 1), (68, 1), (70, 1), (77, 1), (80, 1), (105, 1), (152, 1)], [(15, 1), (17, 1), (26, 1), (60, 1), (88, 1), (100, 1), (134, 1), (649, 1), (1344, 1), (1345, 1)], [(3, 1), (12, 1), (16, 1), (19, 1), (25, 1), (100, 1), (103, 1), (107, 1), (122, 2), (162, 2), (170, 1), (197, 1), (198, 1), (218, 1), (317, 1), (389, 1), (527, 1), (1030, 2), (1059, 1), (1240, 1), (1346, 1), (1347, 1), (1348, 1), (1349, 1), (1350, 1), (1351, 1)], [(31, 1), (46, 1), (68, 1), (70, 1), (77, 1), (123, 1)], [(31, 1), (45, 1)], [(3, 1), (12, 1), (36, 1), (43, 1), (55, 1), (63, 2), (64, 2), (90, 2), (91, 1), (100, 1), (158, 1), (202, 1), (204, 1), (249, 1), (444, 3), (569, 1), (871, 1), (1352, 1), (1353, 1)], [(53, 2), (55, 2), (70, 1), (100, 2), (123, 1), (170, 1), (314, 1), (404, 1), (775, 2), (789, 1), (1354, 2)], [(16, 1), (19, 1), (44, 1), (225, 1)], [(0, 1), (44, 1), (55, 1), (58, 1), (60, 1), (63, 1), (64, 1), (66, 1), (70, 1), (73, 2), (78, 1), (79, 1), (106, 1), (159, 1), (180, 1), (189, 1), (225, 1), (365, 1), (377, 1), (444, 1), (447, 2), (507, 1), (1355, 2)], [(0, 1), (15, 1), (19, 1), (41, 1), (53, 1), (55, 1), (64, 1), (66, 1), (78, 1), (103, 1), (133, 1), (184, 1), (186, 1), (209, 1), (253, 1), (633, 1), (658, 1), (822, 1), (1131, 1), (1193, 1), (1315, 1), (1356, 1)], [(8, 1), (12, 2), (16, 1), (17, 1), (19, 1), (20, 1), (23, 1), (26, 1), (34, 1), (39, 1), (41, 1), (58, 1), (64, 1), (65, 1), (71, 2), (82, 2), (83, 1), (100, 1), (107, 1), (122, 1), (145, 1), (189, 1), (191, 1), (211, 3), (215, 1), (249, 1), (255, 1), (256, 1), (261, 1), (267, 1), (354, 1), (368, 1), (387, 1), (468, 1), (539, 1), (569, 1), (648, 1), (690, 1), (721, 1), (744, 1), (768, 1), (775, 1), (824, 1), (856, 1), (981, 1), (984, 1), (1047, 1), (1254, 1), (1357, 1), (1358, 1), (1359, 1), (1360, 1), (1361, 1), (1362, 1), (1363, 1)], [(13, 1), (15, 1), (19, 1), (48, 1), (72, 1), (74, 1), (133, 1), (178, 1), (241, 1), (321, 1), (363, 1), (459, 1), (1287, 1), (1325, 1), (1351, 1), (1364, 1)], [(8, 1), (13, 1), (16, 1), (20, 1), (30, 2), (33, 1), (37, 1), (46, 1), (58, 1), (63, 1), (64, 1), (65, 1), (67, 1), (68, 1), (75, 1), (82, 1), (98, 1), (100, 1), (104, 1), (137, 1), (145, 2), (148, 1), (170, 1), (179, 1), (202, 1), (206, 1), (208, 2), (210, 1), (280, 1), (285, 1), (290, 1), (298, 1), (394, 1), (442, 1), (450, 1), (470, 1), (473, 1), (574, 1), (597, 1), (633, 1), (675, 1), (692, 1), (702, 1), (744, 1), (751, 2), (802, 2), (835, 1), (862, 1), (943, 1), (1007, 1), (1365, 1), (1366, 1), (1367, 1), (1368, 1), (1369, 1), (1370, 1), (1371, 1), (1372, 1), (1373, 1), (1374, 1), (1375, 1), (1376, 1)], [(9, 1), (19, 1), (21, 1), (35, 1), (44, 1), (48, 1), (55, 1), (58, 1), (60, 1), (63, 1), (64, 1), (66, 1), (100, 1), (170, 1), (225, 1), (275, 1), (482, 1), (677, 1), (1377, 1)], [(9, 1), (72, 1), (77, 1), (132, 1), (139, 1), (612, 1), (686, 1), (1085, 1), (1378, 1)], [(9, 1), (20, 2), (45, 2), (55, 2), (64, 2), (93, 1), (121, 1), (214, 2), (385, 2)], [(3, 1), (12, 1), (33, 1), (48, 1), (65, 1), (133, 1), (527, 1), (535, 1)], [(33, 1), (45, 1), (55, 1), (64, 1), (78, 1), (152, 1)], [(35, 2), (73, 1), (101, 1), (138, 1), (162, 1), (392, 1), (514, 1), (726, 1)], [(12, 1), (13, 1), (20, 1), (23, 1), (25, 1), (33, 1), (50, 1), (52, 1), (54, 1), (64, 1), (67, 1), (83, 1), (84, 1), (86, 1), (91, 1), (99, 1), (107, 1), (152, 1), (170, 1), (171, 1), (214, 1), (249, 1), (353, 1), (588, 1), (1338, 1)], [(0, 1), (3, 1), (66, 1), (106, 1), (162, 1), (264, 1), (385, 1), (468, 1), (514, 1), (849, 1), (1279, 1), (1379, 1), (1380, 1), (1381, 1)], [(70, 1), (100, 1), (105, 1), (116, 1), (118, 1), (121, 1)], [(453, 1), (514, 1)], [(21, 1), (23, 1), (28, 1), (139, 1), (489, 1), (1382, 1)], [(0, 1), (12, 1), (21, 1), (102, 1), (103, 1)], [(24, 1)], [(9, 1), (70, 1), (116, 1), (133, 1), (219, 1)], [(3, 1), (66, 1), (80, 1), (119, 1), (191, 1), (467, 1), (715, 1), (961, 1), (1021, 1), (1383, 1)], [(46, 1), (70, 1)], [(23, 1), (25, 1), (27, 1), (63, 1), (73, 2), (86, 1), (109, 1), (627, 1), (631, 1), (1384, 1), (1385, 1)], [(35, 1), (68, 1), (72, 1), (77, 1), (96, 1), (296, 1), (354, 1), (496, 1), (549, 1)], [(18, 1), (46, 1), (82, 1), (132, 1), (316, 1), (547, 1), (803, 1)], [(3, 1), (45, 1), (100, 1), (215, 1), (280, 1), (316, 1), (413, 1), (850, 1), (932, 1), (1124, 1), (1229, 1)], [(276, 1), (392, 1)], [(0, 1), (36, 1), (64, 1), (96, 1), (170, 1), (204, 1), (545, 1)], [(3, 1), (35, 1), (66, 1), (80, 1), (103, 2), (132, 1), (189, 1), (514, 1)], [(3, 1), (11, 1), (16, 2), (19, 1), (33, 2), (46, 1), (59, 1), (60, 1), (71, 1), (80, 1), (131, 1), (132, 2), (133, 1), (152, 1), (225, 1), (255, 1), (261, 1), (267, 1), (348, 1), (444, 1), (535, 1), (547, 2), (587, 1), (624, 1), (814, 1), (906, 1), (997, 1), (1145, 1), (1386, 1), (1387, 1), (1388, 1), (1389, 1), (1390, 1), (1391, 1), (1392, 1), (1393, 1)], [(0, 1), (100, 1), (107, 1), (137, 1), (188, 1), (389, 1), (1394, 1), (1395, 1), (1396, 1), (1397, 1)], [(863, 1)], [(11, 1), (13, 1), (15, 1), (20, 1), (23, 1), (27, 1), (54, 1), (86, 1), (91, 1), (96, 1), (162, 1), (239, 1), (290, 1), (588, 1), (617, 1), (1398, 1)], [(46, 1), (64, 1)], [(0, 1), (13, 1), (15, 1), (19, 1), (54, 1), (63, 1), (64, 1), (68, 1), (77, 1), (91, 2), (97, 1), (100, 1), (147, 1), (170, 1), (444, 1), (588, 1)], [(55, 1), (60, 1), (94, 1), (170, 1)], [(16, 1), (50, 1), (145, 1), (208, 1), (296, 1), (298, 1), (684, 1), (868, 1), (1399, 1)], [(9, 1), (13, 1), (96, 1), (133, 1), (280, 1), (314, 1), (387, 1), (394, 1), (459, 1), (504, 1), (539, 1), (1251, 1), (1400, 1)], [(24, 1), (58, 1), (62, 1), (169, 1), (371, 1), (673, 1), (675, 1), (852, 1), (1401, 1)], [(20, 1), (29, 1), (63, 1), (64, 1), (70, 1), (91, 1), (162, 1), (627, 1), (630, 1), (1402, 1)], [(17, 1), (20, 1), (22, 1), (55, 1), (68, 1), (71, 1), (73, 1), (77, 1), (101, 1), (139, 1), (170, 1), (181, 1), (454, 1), (1248, 1)], [(0, 1), (3, 1), (12, 1), (26, 1), (35, 4), (36, 1), (59, 1), (63, 1), (64, 2), (65, 1), (66, 4), (71, 1), (80, 1), (94, 1), (104, 1), (133, 1), (206, 1), (298, 1), (378, 1), (385, 1), (407, 1), (426, 1), (428, 1), (451, 1), (552, 1), (567, 1), (648, 1), (691, 2), (807, 1), (856, 1), (984, 1), (1214, 1), (1403, 1), (1404, 1), (1405, 1), (1406, 1), (1407, 1)], [(46, 1), (63, 1), (64, 1), (74, 1), (75, 1), (356, 1), (609, 1), (660, 1), (765, 1), (834, 1), (1229, 1), (1408, 1)], [(3, 2), (12, 1), (13, 5), (15, 1), (16, 1), (19, 3), (20, 1), (26, 2), (28, 1), (29, 1), (35, 5), (39, 2), (45, 1), (55, 6), (58, 1), (59, 1), (60, 2), (62, 1), (64, 1), (66, 3), (71, 1), (73, 1), (80, 1), (82, 3), (93, 2), (100, 3), (104, 1), (106, 2), (107, 1), (111, 1), (122, 1), (126, 1), (136, 1), (152, 1), (162, 1), (182, 2), (186, 1), (206, 1), (211, 1), (215, 1), (234, 1), (253, 1), (256, 1), (265, 1), (271, 1), (275, 1), (280, 1), (283, 1), (300, 2), (311, 2), (337, 1), (358, 1), (370, 1), (387, 1), (414, 1), (440, 1), (445, 2), (452, 1), (454, 2), (465, 1), (493, 1), (531, 1), (549, 1), (563, 1), (567, 1), (616, 1), (618, 2), (620, 1), (629, 1), (648, 2), (679, 1), (706, 1), (726, 2), (832, 2), (850, 2), (882, 2), (919, 1), (922, 1), (944, 1), (976, 1), (996, 1), (1009, 1), (1075, 2), (1097, 2), (1114, 1), (1144, 1), (1145, 1), (1161, 1), (1251, 1), (1360, 1), (1384, 1), (1391, 2), (1395, 1), (1409, 1), (1410, 1), (1411, 1), (1412, 1), (1413, 1), (1414, 1), (1415, 1), (1416, 1), (1417, 2), (1418, 1), (1419, 1), (1420, 1), (1421, 1), (1422, 1), (1423, 1), (1424, 1), (1425, 1), (1426, 2), (1427, 1), (1428, 1), (1429, 1), (1430, 1), (1431, 1), (1432, 1), (1433, 1), (1434, 1), (1435, 1), (1436, 2)], [(10, 1), (12, 1), (16, 1), (96, 1), (102, 1), (149, 1), (451, 1)], [(239, 1), (709, 1), (1437, 1)], [(0, 1), (29, 1), (33, 2), (91, 1), (103, 1), (289, 1)], [(35, 1), (45, 1), (46, 1), (66, 1), (80, 1), (170, 1), (249, 1), (280, 1), (371, 1), (1315, 1)], [(9, 1), (18, 1), (26, 1), (36, 1), (55, 1), (59, 1), (82, 1), (143, 2), (155, 1), (170, 1), (298, 1), (527, 1), (928, 1), (981, 1), (1438, 1)], [(0, 1), (3, 1), (80, 1), (94, 1), (102, 1), (253, 1)], [(12, 2), (16, 2), (21, 1), (36, 1), (55, 1), (60, 1), (94, 1), (96, 1), (102, 1), (149, 2), (219, 1), (316, 1), (527, 1), (549, 1), (633, 1), (1439, 1)], [(3, 1), (16, 1), (50, 1), (67, 3), (71, 1), (75, 1), (79, 1), (81, 1), (82, 1), (96, 1), (100, 6), (103, 1), (105, 1), (111, 2), (170, 1), (198, 1), (208, 2), (209, 1), (215, 1), (261, 1), (273, 1), (285, 1), (316, 1), (333, 1), (432, 1), (699, 1), (730, 1), (790, 1), (820, 1), (836, 1), (1236, 1), (1440, 1), (1441, 1), (1442, 1), (1443, 1), (1444, 1), (1445, 1), (1446, 1), (1447, 2), (1448, 1), (1449, 1)], [(3, 1), (13, 1), (71, 1), (96, 3), (249, 1), (276, 1), (394, 1), (861, 2), (1083, 1), (1450, 1)], [(18, 1), (30, 1), (33, 1), (34, 1), (36, 2), (48, 1), (55, 1), (65, 1), (78, 1), (91, 2), (94, 1), (106, 1), (133, 1), (146, 1), (148, 1), (195, 1), (253, 1), (311, 1), (377, 1), (424, 1), (447, 1), (456, 1), (476, 1), (522, 1), (547, 1), (591, 1), (857, 1), (1451, 1), (1452, 1), (1453, 1), (1454, 1), (1455, 1), (1456, 1)], [(8, 1), (9, 1), (12, 2), (19, 1), (26, 2), (36, 1), (39, 1), (44, 1), (46, 2), (50, 1), (60, 1), (64, 1), (88, 1), (100, 1), (106, 1), (107, 3), (116, 1), (133, 1), (162, 1), (191, 1), (212, 1), (223, 2), (225, 1), (253, 1), (263, 1), (314, 1), (328, 1), (359, 1), (527, 1), (539, 1), (648, 1), (1457, 1)], [(9, 1), (20, 1), (63, 1), (64, 1), (70, 1), (142, 1)], [(26, 1), (33, 1), (94, 1), (185, 1), (1458, 1)], [(64, 1), (922, 1), (923, 1), (1459, 1)], [(8, 1), (17, 1), (20, 1), (25, 1), (55, 1), (59, 1), (64, 1), (68, 1), (74, 1), (93, 1), (99, 1), (101, 1), (115, 1), (143, 2), (170, 3), (191, 1), (239, 1), (482, 2), (483, 1), (548, 1), (1460, 1), (1461, 1)], [(490, 1), (1462, 1)], [(12, 1), (50, 1), (73, 1), (100, 1), (107, 1), (482, 1)], [(9, 1), (12, 1), (13, 2), (15, 1), (18, 1), (19, 1), (20, 1), (31, 1), (35, 1), (45, 2), (46, 1), (48, 1), (55, 2), (63, 1), (78, 1), (82, 1), (86, 1), (91, 2), (100, 2), (128, 1), (210, 1), (215, 1), (218, 1), (311, 1), (312, 1), (348, 1), (456, 1), (535, 1), (538, 1), (594, 1), (609, 1), (789, 1), (814, 1), (908, 1), (1421, 1), (1463, 1)], [(9, 1), (12, 1), (16, 1), (18, 1), (20, 1), (35, 1), (45, 2), (50, 1), (55, 2), (63, 1), (66, 1), (70, 1), (94, 1), (103, 1), (142, 1), (256, 1)], [(9, 1), (836, 1), (931, 1)], [(17, 1), (27, 1), (36, 1), (46, 1), (55, 1), (70, 1), (73, 1), (74, 1), (105, 1), (107, 1), (115, 1), (169, 1), (186, 1), (305, 1), (381, 1), (468, 1), (804, 1), (1313, 1), (1325, 1), (1426, 1), (1464, 1)], [(9, 1), (13, 2), (16, 1), (26, 1), (36, 1), (55, 5), (60, 1), (67, 1), (103, 1), (115, 1), (145, 1), (170, 1), (180, 1), (189, 1), (191, 1), (219, 1), (253, 1), (269, 1), (507, 1), (680, 1), (749, 1), (914, 1), (941, 1), (1465, 1), (1466, 1), (1467, 1), (1468, 1), (1469, 1)], [(55, 1), (68, 1), (77, 1), (100, 1), (101, 1), (202, 1), (496, 1), (517, 1)], [(64, 1), (103, 1), (1470, 1)], [(48, 1), (74, 1), (75, 1), (208, 1)], [(55, 1), (66, 1), (191, 1), (394, 1), (404, 1), (517, 1), (545, 1)], [(132, 1), (576, 1)], [(11, 1), (13, 2), (19, 2), (39, 1), (44, 1), (50, 1), (60, 2), (66, 1), (100, 1), (103, 1), (133, 2), (135, 2), (145, 1), (147, 1), (211, 1), (223, 1), (225, 1), (275, 1), (459, 1), (538, 1), (1322, 1), (1471, 1), (1472, 1), (1473, 1), (1474, 1), (1475, 1)], [(31, 1), (46, 1), (55, 1), (73, 2), (158, 1), (167, 1), (305, 1)], [(94, 1), (456, 1), (1111, 1)], [(73, 1), (139, 1), (389, 1), (610, 1)], [(3, 1), (12, 2), (16, 1), (21, 1), (24, 1), (26, 3), (27, 1), (41, 1), (42, 2), (55, 4), (57, 1), (64, 1), (66, 1), (72, 1), (75, 1), (96, 1), (111, 2), (119, 1), (137, 2), (147, 1), (162, 1), (170, 1), (178, 2), (189, 1), (191, 1), (194, 1), (208, 1), (229, 1), (269, 1), (280, 1), (312, 1), (473, 1), (559, 1), (633, 1), (689, 3), (817, 1), (836, 1), (848, 1), (852, 2), (857, 1), (887, 1), (905, 1), (1055, 1), (1266, 1), (1476, 3), (1477, 1), (1478, 1), (1479, 1), (1480, 1), (1481, 1), (1482, 1), (1483, 1), (1484, 1), (1485, 1), (1486, 1)], [(0, 2), (9, 1), (36, 1), (44, 1), (64, 1), (67, 1), (71, 3), (82, 1), (106, 1), (132, 2), (152, 1), (167, 1), (178, 1), (180, 1), (186, 2), (197, 1), (198, 1), (219, 1), (269, 1), (285, 1), (296, 1), (497, 1), (522, 1), (527, 1), (622, 1), (626, 1), (674, 1), (691, 1), (699, 1), (721, 1), (749, 1), (814, 1), (868, 1), (960, 1), (1007, 1), (1013, 1), (1248, 1), (1399, 1), (1487, 1), (1488, 1), (1489, 1)], [(63, 1), (64, 1), (73, 1), (158, 1), (204, 1), (249, 1), (514, 1), (627, 1), (1200, 1)], [(26, 1), (46, 1), (152, 1), (162, 1), (340, 1), (998, 1)], [(9, 1), (33, 1), (77, 1), (105, 1), (326, 1), (1490, 1)], [(13, 1), (39, 1), (66, 2), (99, 1), (104, 1), (118, 1), (120, 1), (137, 1), (189, 1), (249, 1), (290, 1), (296, 1), (476, 1), (482, 1), (726, 1), (865, 1), (878, 1), (1117, 1), (1224, 1), (1275, 1), (1491, 1), (1492, 1)], [(3, 1), (9, 1), (18, 1), (74, 1), (143, 1), (148, 1), (167, 1), (456, 1), (482, 1), (717, 1)], [(33, 1), (55, 1), (57, 1), (68, 1), (70, 1), (77, 1), (118, 1), (288, 1), (415, 1), (446, 1), (539, 1), (1493, 1)], [(9, 1), (35, 1), (46, 1), (66, 1), (133, 1), (189, 1), (293, 1)], [(26, 1), (46, 1)], [(26, 1), (67, 1), (75, 1), (100, 1)], [(0, 1), (3, 1), (9, 1), (12, 1), (15, 1), (19, 1), (26, 1), (39, 1), (45, 1), (54, 1), (60, 1), (64, 2), (66, 1), (67, 1), (70, 1), (100, 1), (102, 1), (103, 1), (115, 1), (116, 1), (123, 1), (152, 1), (186, 1), (191, 1), (239, 1), (280, 1), (317, 1), (323, 1), (328, 2), (406, 1), (423, 1), (425, 1), (426, 1), (446, 1), (501, 2), (515, 1), (560, 1), (633, 1), (649, 1), (814, 1), (960, 1), (1006, 1), (1153, 1), (1329, 1), (1438, 1), (1494, 1), (1495, 1)], [(12, 1), (15, 1), (46, 1), (100, 1), (102, 1), (120, 1)], [(26, 3), (27, 1), (30, 2), (55, 1), (75, 1), (82, 1), (97, 1), (106, 1), (116, 2), (209, 1), (219, 1), (225, 1), (249, 2), (254, 1), (272, 1), (274, 1), (294, 2), (344, 1), (385, 1), (402, 1), (426, 1), (427, 1), (450, 1), (539, 1), (557, 1), (666, 2), (730, 1), (776, 1), (842, 1), (850, 1), (901, 1), (1496, 1), (1497, 1), (1498, 1)], [(9, 1), (133, 1), (183, 1), (356, 1), (392, 1)], [(48, 1), (77, 1), (102, 1), (103, 1), (744, 1), (1499, 1), (1500, 1)], [(35, 1), (63, 1), (70, 1), (72, 1), (130, 1)], [(13, 1), (33, 1), (35, 1), (45, 1), (55, 1), (64, 1), (72, 1), (132, 1), (152, 1), (170, 1), (186, 1), (377, 1), (385, 1)], [(12, 1), (13, 1), (23, 1), (24, 1), (29, 1), (33, 1), (36, 1), (48, 1), (60, 1), (91, 1), (180, 1), (202, 1), (454, 1), (520, 1), (1195, 1), (1501, 1)], [(53, 1), (911, 1)], [(96, 1), (223, 1)], [(0, 1), (15, 1), (16, 1), (53, 2), (65, 1), (66, 1), (70, 2), (73, 1), (80, 1), (86, 1), (118, 1), (133, 2), (219, 1), (253, 1), (314, 1), (438, 1), (549, 1), (627, 1), (662, 1), (668, 1), (750, 1), (1146, 1), (1364, 1)], [(0, 1), (3, 1), (103, 1), (211, 1), (368, 1), (431, 1), (434, 1), (723, 1), (1038, 1), (1068, 1)], [(13, 1), (19, 2), (44, 1), (64, 1), (73, 1), (170, 1), (278, 1), (280, 1), (331, 1), (389, 1), (504, 1), (539, 1), (863, 1), (874, 1), (1227, 1), (1502, 1), (1503, 1)], [(20, 1), (35, 1), (46, 1), (508, 1)], [(53, 1), (55, 1), (66, 1), (70, 1), (104, 1), (189, 1), (197, 1), (356, 1), (412, 1), (865, 1)], [(863, 1)], [(13, 1), (99, 1), (101, 1), (132, 1), (170, 2), (202, 1), (290, 1)], [(26, 1), (27, 1), (30, 1), (46, 1), (64, 1), (77, 1), (98, 1), (101, 1), (170, 1), (329, 1), (394, 1)], [(96, 1)], [(96, 1)], [(292, 1), (1504, 1)], [(55, 1), (68, 1), (71, 1), (77, 1), (312, 1), (1505, 1)], [(12, 1), (16, 1), (31, 1), (33, 1), (35, 1), (43, 1), (46, 1), (55, 1), (66, 1), (70, 1), (90, 1), (103, 1), (105, 1), (131, 1), (138, 1), (295, 1), (364, 1), (444, 1), (609, 1), (1399, 1), (1506, 1), (1507, 1), (1508, 1), (1509, 1)], [(12, 1), (43, 1), (46, 1), (94, 1)], [(13, 1), (19, 1), (48, 1), (60, 1), (312, 1)], [(18, 1), (19, 1), (26, 2), (36, 1), (44, 1), (50, 1), (54, 1), (63, 1), (65, 1), (67, 1), (68, 2), (71, 1), (77, 2), (100, 1), (101, 1), (126, 1), (127, 1), (147, 1), (215, 1), (219, 1), (228, 1), (236, 1), (280, 1), (312, 1), (413, 1), (459, 1), (496, 2), (528, 1), (588, 1), (848, 1), (1510, 1), (1511, 1), (1512, 1), (1513, 1)], [(371, 1)], [(14, 1), (48, 1), (224, 1)], [(41, 1), (58, 1), (106, 1), (275, 1), (284, 1), (622, 1), (1254, 1), (1270, 1)], [(21, 1), (50, 1), (54, 3), (61, 2), (66, 1), (67, 1), (171, 1), (197, 1), (206, 1), (253, 1), (273, 1), (867, 1), (1236, 1), (1514, 1)], [(12, 1), (14, 1), (24, 1), (45, 1), (48, 1), (53, 1), (64, 1), (111, 1), (191, 1), (434, 1), (438, 1), (563, 1), (883, 1), (1515, 1), (1516, 1)], [(19, 1), (20, 1), (28, 1), (35, 1), (55, 3), (64, 1), (96, 1), (100, 1), (103, 1), (105, 1), (145, 1), (151, 1), (162, 2), (201, 1), (214, 1), (269, 1), (292, 1), (293, 1), (321, 1), (475, 1), (476, 1), (482, 3), (491, 1), (505, 1), (547, 1), (757, 1), (895, 1), (904, 1), (910, 1), (1006, 1), (1291, 1), (1312, 1), (1517, 1), (1518, 1), (1519, 1), (1520, 1)], [(55, 1), (1062, 1)], [(23, 1), (26, 1), (27, 1), (36, 1), (202, 1), (476, 1), (488, 1)], [(55, 1), (70, 1), (132, 1), (261, 1), (296, 1), (473, 1), (662, 1), (1399, 1), (1452, 1)], [(35, 1), (36, 1), (55, 1), (65, 1), (66, 1), (68, 1), (72, 1), (73, 1), (77, 1), (80, 3), (115, 1), (133, 1), (170, 1), (186, 1), (264, 1), (293, 1), (305, 1), (314, 2), (356, 1), (377, 1), (407, 1), (426, 1), (464, 1), (765, 2), (863, 1), (1140, 1), (1150, 1), (1211, 1), (1329, 1)], [(21, 1), (29, 1), (33, 1), (53, 1), (70, 1), (80, 1), (115, 1), (118, 1), (137, 1), (153, 1), (319, 1), (414, 1)], [(9, 1), (20, 2), (27, 1), (29, 1), (58, 1), (91, 1), (96, 1), (101, 1), (170, 1), (290, 1), (545, 1), (563, 1), (726, 1), (1429, 1), (1435, 1), (1487, 1), (1521, 1)], [(55, 1), (70, 1), (74, 1), (80, 1), (100, 1), (101, 1), (315, 1), (316, 1), (527, 1), (559, 1), (629, 1), (726, 1)], [(27, 1), (82, 1), (96, 1), (126, 1), (142, 1), (162, 1), (249, 1)], [(14, 1), (17, 1), (53, 1), (55, 1), (68, 1), (77, 1), (153, 2), (160, 1), (183, 1), (191, 1), (392, 1), (501, 1), (507, 1), (548, 1), (557, 1), (846, 1), (908, 1), (1345, 1), (1522, 1), (1523, 1), (1524, 1), (1525, 1)], [(13, 1), (66, 1), (147, 1), (263, 1), (394, 1), (1108, 1), (1468, 1)], [(33, 1), (46, 1), (309, 1)], [(35, 1), (70, 1), (94, 1), (116, 1), (146, 1)], [(105, 1)], [(64, 1), (70, 1), (1526, 1)], [(20, 1), (48, 1), (55, 1), (71, 1), (96, 1), (115, 1), (142, 1), (273, 1), (821, 1), (1229, 1), (1527, 1), (1528, 1), (1529, 1), (1530, 1)], [(82, 1), (315, 1), (377, 1), (842, 1)], [(12, 1), (24, 1), (27, 1), (33, 1), (55, 1), (70, 1), (100, 1), (111, 2), (133, 1), (275, 1), (280, 1), (293, 1), (353, 1), (377, 1), (392, 1), (438, 1), (473, 1), (475, 1), (476, 1), (595, 1), (842, 1), (1531, 1)], [(35, 1), (72, 1), (170, 1), (235, 1), (425, 1), (549, 1)], [(20, 1), (26, 1), (70, 1), (78, 1), (94, 1), (123, 1), (1291, 1), (1532, 2)], [(7, 1), (15, 1), (35, 1), (66, 1), (425, 1), (580, 1), (616, 1), (699, 1)], [(13, 1), (19, 1), (26, 1), (36, 1), (44, 1), (45, 1), (68, 1), (77, 1), (111, 1), (119, 1), (162, 1), (171, 1), (195, 1), (209, 1), (211, 1), (269, 1), (331, 1), (473, 1), (560, 1)], [(101, 1), (170, 1), (547, 1), (576, 1)], [(6, 1), (45, 1), (82, 1), (438, 1), (582, 1), (923, 1), (1533, 1)], [(0, 1), (10, 1), (12, 1), (16, 1), (26, 1), (29, 1), (33, 2), (41, 1), (55, 1), (70, 1), (100, 1), (101, 1), (116, 1), (123, 1), (131, 1), (170, 1), (198, 1), (249, 1), (389, 1), (424, 1), (527, 1), (539, 1), (582, 1), (1144, 1), (1513, 1), (1534, 1)], [(64, 1), (105, 1)], [(923, 1)], [(479, 1)], [(20, 1), (27, 1), (48, 1), (77, 1), (82, 1), (101, 1), (152, 1), (170, 1), (249, 1), (481, 1), (1429, 1), (1499, 1)], [(0, 1), (3, 2), (13, 1), (19, 1), (20, 2), (21, 1), (33, 1), (36, 1), (41, 1), (44, 1), (48, 2), (55, 3), (68, 1), (71, 1), (73, 1), (77, 1), (91, 1), (94, 1), (100, 1), (111, 1), (116, 1), (118, 1), (131, 1), (139, 1), (166, 1), (184, 1), (216, 1), (249, 2), (263, 1), (274, 1), (312, 1), (370, 2), (480, 1), (497, 1), (539, 1), (568, 1), (813, 1), (842, 1), (984, 1), (1221, 1), (1487, 1), (1535, 1), (1536, 1)], [(20, 1), (94, 1), (142, 1), (162, 1), (184, 1)], [(9, 1), (35, 1), (55, 4), (66, 1), (73, 2), (118, 1), (130, 1), (138, 2), (186, 1), (202, 1), (371, 1), (377, 1), (394, 1), (452, 1), (557, 1), (677, 1), (706, 1), (710, 2), (878, 1), (880, 1), (1130, 1), (1142, 1), (1384, 1), (1439, 2), (1537, 1), (1538, 1), (1539, 1), (1540, 1), (1541, 1)], [(42, 1), (45, 1), (62, 1), (100, 1), (137, 1), (209, 1), (548, 1), (744, 1), (1254, 2), (1542, 2)], [(70, 1), (105, 1)], [(27, 1), (71, 1), (219, 1), (223, 1), (315, 1), (932, 1)], [(20, 1), (26, 1), (55, 1), (61, 1), (63, 1), (82, 1), (142, 1), (162, 1), (214, 1), (482, 1), (927, 1), (1047, 1), (1543, 1)], [(26, 1), (29, 1), (45, 1), (133, 1), (219, 1), (236, 1), (238, 1)], [(19, 1), (46, 1), (48, 1), (65, 1), (91, 1), (277, 1)], [(12, 1), (20, 1), (26, 1), (31, 1), (55, 1), (59, 1), (64, 1), (65, 1), (88, 1), (94, 1), (106, 1), (107, 1), (173, 1), (198, 1), (209, 1), (253, 1), (312, 1), (316, 1), (757, 1), (765, 1), (922, 1), (1200, 1), (1544, 1)], [(19, 1), (48, 1), (53, 1), (115, 2), (277, 1), (423, 1), (1545, 1)], [(29, 1), (33, 1), (392, 1)], [(0, 1), (12, 2), (16, 1), (31, 1), (36, 2), (39, 1), (44, 1), (48, 1), (55, 5), (66, 1), (67, 2), (72, 1), (73, 3), (79, 1), (84, 1), (88, 1), (90, 1), (93, 1), (94, 2), (100, 1), (104, 1), (106, 1), (148, 1), (166, 3), (189, 1), (191, 1), (273, 1), (312, 1), (316, 1), (353, 1), (384, 1), (409, 1), (425, 2), (428, 2), (454, 2), (507, 1), (668, 1), (717, 1), (983, 1), (992, 1), (1214, 1), (1425, 1), (1546, 1), (1547, 1), (1548, 1), (1549, 1), (1550, 1)], [(0, 1), (9, 2), (12, 4), (23, 2), (27, 2), (31, 2), (36, 1), (45, 1), (50, 1), (60, 1), (64, 2), (65, 1), (75, 1), (90, 1), (142, 1), (167, 1), (170, 2), (197, 1), (280, 1), (359, 1), (377, 4), (378, 1), (379, 1), (438, 1), (482, 3), (500, 1), (508, 1), (519, 2), (622, 3), (624, 1), (755, 1), (1186, 1), (1430, 1), (1551, 1), (1552, 1), (1553, 2), (1554, 1), (1555, 1), (1556, 1), (1557, 1)], [(29, 1), (31, 1), (63, 1), (66, 1), (84, 1), (371, 1), (425, 1), (516, 1), (576, 1), (616, 1), (650, 1), (668, 1), (908, 1), (1558, 1), (1559, 1)], [(0, 1), (3, 2), (16, 1), (71, 1), (77, 1), (100, 1), (102, 1), (234, 1), (326, 1), (1006, 1), (1193, 1)], [(48, 1), (1193, 1), (1560, 1), (1561, 1)], [(17, 1), (58, 1), (74, 1), (96, 1), (133, 1), (145, 2), (180, 1), (238, 1), (378, 1), (393, 1), (405, 1), (459, 1), (674, 1), (708, 1), (1229, 1), (1562, 1)], [(62, 1), (74, 1), (126, 1), (1254, 1), (1542, 1)], [(45, 1)], [(0, 1), (3, 1), (26, 1), (35, 2), (46, 1), (55, 2), (70, 1), (373, 1), (478, 1)], [(8, 1), (9, 1), (16, 1), (20, 3), (27, 1), (33, 2), (35, 3), (46, 2), (55, 5), (60, 3), (63, 1), (64, 1), (66, 2), (68, 2), (70, 1), (72, 1), (77, 2), (91, 1), (96, 2), (116, 1), (118, 1), (126, 1), (131, 1), (133, 1), (152, 1), (186, 1), (214, 1), (249, 3), (319, 1), (377, 1), (378, 1), (385, 1), (387, 1), (394, 1), (482, 1), (496, 1), (499, 1), (549, 1), (557, 1), (588, 1), (630, 1), (631, 1), (813, 1), (911, 1), (1542, 1), (1563, 1), (1564, 1), (1565, 1), (1566, 1), (1567, 1), (1568, 1)], [(12, 1), (122, 1), (986, 1)], [(315, 1)], [(4, 1), (16, 1), (18, 2), (20, 2), (54, 1), (55, 4), (63, 1), (65, 1), (78, 1), (103, 1), (115, 1), (126, 1), (130, 1), (133, 1), (170, 1), (239, 1), (249, 1), (280, 1), (882, 1), (992, 1), (1312, 1), (1569, 1), (1570, 1)], [(3, 1), (15, 1), (21, 1), (55, 1), (111, 1), (116, 4), (120, 1), (148, 1), (249, 1), (264, 1), (265, 1), (296, 1), (414, 1), (444, 1), (1007, 1), (1061, 1), (1192, 1), (1225, 2), (1440, 1), (1571, 1)], [(9, 1), (12, 1), (17, 1), (46, 1), (60, 1), (64, 1), (96, 1), (100, 1), (107, 2), (170, 1), (211, 1), (276, 1), (357, 1), (434, 1), (488, 1), (524, 1), (1202, 2)], [(9, 1), (21, 1), (23, 1), (26, 1), (63, 1), (64, 1), (94, 1), (101, 1)], [(20, 1), (46, 1), (64, 1)], [(8, 2), (9, 2), (13, 2), (15, 1), (16, 1), (19, 2), (20, 1), (35, 1), (45, 1), (48, 2), (53, 1), (55, 2), (65, 1), (66, 1), (116, 3), (118, 2), (137, 1), (149, 1), (304, 1), (316, 1), (319, 1), (328, 1), (339, 2), (378, 1), (404, 2), (443, 1), (451, 1), (452, 1), (473, 1), (517, 1), (557, 1), (563, 1), (624, 1), (647, 1), (848, 1), (919, 1), (948, 1), (1130, 1), (1572, 1)], [(12, 1), (18, 1), (19, 2), (30, 1), (33, 1), (55, 2), (60, 2), (67, 1), (73, 1), (79, 1), (82, 1), (91, 1), (94, 1), (98, 1), (100, 2), (102, 2), (121, 1), (130, 1), (131, 1), (183, 1), (186, 1), (198, 1), (218, 1), (261, 1), (331, 1), (365, 1), (479, 1), (554, 1), (604, 1), (726, 1), (789, 1), (942, 1), (943, 1), (1051, 1), (1488, 1), (1573, 1), (1574, 1)], [(0, 1), (3, 1), (12, 1), (13, 1), (19, 1), (26, 1), (44, 1), (98, 1), (102, 1), (225, 1)], [(230, 1), (397, 1), (863, 1), (1575, 1)], [(94, 1)], [(16, 1), (21, 1), (46, 1), (66, 1), (104, 1), (111, 1), (169, 1), (178, 1), (186, 1), (189, 1), (253, 1), (261, 1), (296, 1), (438, 1), (569, 1), (609, 1), (716, 1), (834, 1), (1455, 1), (1576, 1), (1577, 1)], [(45, 1), (132, 1)], [(35, 1), (46, 1), (72, 1)], [(35, 1), (45, 1), (70, 1), (123, 1)], [(24, 1), (65, 1), (66, 1), (73, 1), (86, 1), (91, 1), (97, 1), (100, 1), (101, 1), (115, 1), (170, 1), (189, 1), (560, 1), (1248, 1), (1578, 1)], [(12, 1), (35, 1), (48, 1), (90, 1), (103, 1), (170, 1)], [(8, 1), (17, 1), (33, 1), (54, 1), (61, 1), (74, 1), (84, 1), (121, 1), (132, 1), (197, 1), (261, 1), (539, 1), (854, 1), (1579, 1)], [(6, 1), (549, 1), (595, 1), (776, 1)], [(315, 1)], [(26, 1), (45, 1), (96, 1), (177, 1)], [(12, 1), (15, 1), (20, 1), (27, 1), (46, 1), (78, 1), (102, 1), (107, 1), (111, 1), (142, 1), (191, 1), (211, 1), (249, 1), (363, 1), (370, 2), (479, 1), (1580, 1), (1581, 1), (1582, 1)], [(7, 1), (55, 2), (63, 3), (64, 2), (66, 1), (77, 1), (88, 1), (126, 1), (191, 1), (370, 1), (381, 1), (452, 1), (831, 1), (856, 1), (1543, 1), (1583, 1)], [(12, 1), (55, 1), (64, 1), (121, 1), (328, 1), (1584, 1)], [(21, 1), (64, 1)], [(10, 1), (16, 1), (20, 1), (170, 1), (404, 1), (1170, 1)], [(63, 1), (94, 1), (132, 1), (170, 1), (425, 1)], [(12, 1), (26, 1), (88, 1), (125, 1), (324, 1), (1585, 1)], [(63, 1), (64, 1), (580, 1)], [(8, 1), (11, 1), (12, 1), (13, 1), (19, 1), (20, 2), (21, 1), (26, 2), (30, 1), (36, 1), (55, 4), (65, 1), (70, 3), (123, 1), (166, 1), (170, 1), (238, 1), (239, 1), (278, 1), (315, 2), (379, 1), (414, 1), (426, 1), (472, 1), (507, 2), (528, 1), (837, 1), (1241, 1), (1242, 1), (1586, 1), (1587, 1), (1588, 1)], [(3, 1), (11, 1), (16, 1), (20, 2), (55, 3), (64, 1), (71, 1), (82, 1), (93, 1), (94, 1), (101, 1), (116, 1), (170, 1), (174, 1), (206, 1), (328, 1), (359, 1), (446, 1), (1589, 1)], [(8, 1), (16, 1), (55, 4), (60, 1), (71, 1), (75, 1), (78, 1), (79, 1), (93, 1), (94, 2), (95, 1), (180, 1), (188, 1), (205, 1), (210, 1), (256, 1), (315, 1), (365, 1), (539, 1), (549, 1), (633, 1), (825, 1), (1281, 1), (1590, 1)], [(35, 1), (46, 1), (55, 1), (78, 1), (115, 1), (185, 1)], [(29, 1), (33, 2), (77, 1), (84, 1), (107, 1), (152, 1), (215, 1), (385, 1), (831, 1), (1423, 1), (1498, 1), (1591, 1), (1592, 1)], [(13, 1), (21, 1), (45, 1), (48, 1), (54, 1), (68, 1), (95, 1), (447, 1), (955, 1), (1593, 1), (1594, 1)], [(70, 1), (123, 1), (1595, 1)], [(0, 1), (13, 1), (35, 1), (73, 1), (90, 1), (466, 1), (489, 1), (514, 1), (1199, 1), (1260, 1)], [(9, 1), (10, 1), (27, 1), (46, 1), (70, 1), (82, 1), (101, 1), (142, 1), (361, 1), (1596, 1)], [(9, 2), (11, 1), (26, 1), (46, 1), (64, 1), (143, 1), (191, 1), (354, 1), (927, 1)], [(10, 1), (26, 1), (102, 1), (106, 1), (275, 1), (404, 1)], [(0, 1), (13, 1), (19, 2), (33, 1), (63, 1), (241, 1), (253, 1), (265, 1), (277, 1), (321, 1), (472, 1), (789, 1), (930, 1), (1538, 1), (1597, 1), (1598, 1), (1599, 1), (1600, 1), (1601, 1), (1602, 1), (1603, 1), (1604, 1), (1605, 1)], [(26, 1), (35, 1), (44, 1), (46, 1), (66, 1), (70, 1), (74, 1), (75, 1), (119, 1), (120, 1), (121, 1), (208, 1), (1011, 1), (1144, 1), (1606, 1), (1607, 1)], [(9, 2), (15, 1), (17, 1), (18, 1), (20, 1), (27, 1), (29, 1), (33, 1), (35, 1), (60, 1), (99, 1), (101, 1), (219, 1), (320, 1), (522, 1), (726, 1), (1608, 1)], [(19, 1), (23, 1), (25, 1), (26, 1), (82, 1), (170, 1), (179, 1), (182, 1), (251, 1), (775, 1), (1609, 1)], [(0, 1), (12, 1), (21, 1), (389, 1)], [(149, 1), (305, 1), (307, 1), (314, 1), (328, 1), (378, 1), (863, 1), (911, 1), (1130, 1)], [(8, 1), (31, 1), (33, 1), (46, 1), (63, 1), (77, 2), (100, 1), (101, 1), (131, 1), (184, 1), (296, 1), (326, 2), (507, 1), (517, 1), (609, 1), (1610, 1)], [(15, 1), (30, 1), (73, 1), (101, 1), (103, 1), (170, 1)], [(13, 1), (42, 1), (46, 1), (394, 1), (1019, 1)], [(19, 1), (68, 1), (70, 1), (77, 1), (94, 1), (145, 1), (162, 1), (256, 1), (392, 1), (477, 1), (1423, 1)], [(29, 1), (33, 1), (60, 1), (100, 1), (107, 1), (185, 1), (348, 1)], [(21, 1), (26, 1), (48, 1), (68, 1), (77, 1), (1611, 1)], [(3, 1), (6, 1), (19, 1), (26, 3), (33, 1), (55, 1), (60, 2), (68, 1), (103, 1), (107, 1), (115, 1), (129, 1), (131, 1), (133, 1), (149, 1), (162, 1), (317, 1), (381, 1), (454, 1), (475, 1), (483, 1), (499, 1), (598, 1), (616, 1), (1426, 1), (1612, 1), (1613, 1), (1614, 1), (1615, 1)], [(46, 1), (55, 1), (66, 1), (70, 1), (94, 1), (132, 1), (184, 1), (214, 1), (505, 1), (1616, 1)], [(13, 1), (18, 2), (23, 1), (55, 1), (64, 1), (578, 1), (879, 1)], [(10, 1), (14, 1), (16, 1), (24, 1)], [(19, 1), (21, 1), (48, 1), (66, 1), (1617, 1)], [(70, 1), (105, 1), (116, 1), (120, 1)], [(23, 1), (25, 1), (26, 1)], [(27, 1), (132, 1), (170, 1), (1003, 1), (1005, 1)], [(46, 1), (70, 1)], [(55, 1), (84, 1), (100, 1), (932, 1)], [(0, 1), (24, 1), (26, 1), (55, 1), (106, 1), (191, 2), (370, 1), (451, 1), (529, 1), (624, 1), (658, 1), (1270, 1)], [(0, 1), (16, 1), (31, 1), (45, 1), (55, 1), (78, 1), (82, 1), (90, 1), (91, 2), (115, 1), (202, 1), (398, 1), (802, 1), (1328, 1), (1618, 1)], [(12, 1), (46, 1), (96, 1), (102, 1)], [(96, 1), (276, 1)], [(13, 1), (19, 2), (44, 1), (73, 1), (99, 1), (170, 1), (180, 1), (225, 1)], [(10, 1), (24, 1), (35, 1), (55, 1), (70, 1), (576, 1), (612, 1)], [(45, 1), (100, 1), (101, 1), (148, 1), (1221, 1)], [(19, 1), (24, 1), (29, 1), (33, 1), (72, 1), (91, 1), (477, 1), (616, 1), (859, 1), (1279, 1), (1619, 1), (1620, 1)], [(16, 1), (46, 1), (50, 1), (58, 1), (64, 1), (107, 1), (191, 1), (305, 1), (598, 1), (604, 1), (1383, 1)], [(16, 1), (24, 1), (30, 1), (41, 1), (55, 1), (70, 2), (91, 2), (94, 1), (98, 1), (107, 1), (126, 1), (249, 1), (404, 1), (549, 1), (927, 1), (1173, 1), (1487, 1), (1621, 1)], [(45, 1)], [(19, 1), (27, 1), (30, 1), (36, 1), (63, 1), (64, 1), (88, 1), (98, 1), (101, 1), (115, 1), (170, 1), (312, 1), (317, 1), (454, 1), (547, 2), (817, 1), (1338, 1)], [(12, 1), (24, 1), (26, 1), (31, 1), (36, 1), (60, 1), (67, 1), (77, 1), (204, 1), (224, 1), (239, 1), (256, 1), (263, 1), (312, 1), (394, 1), (438, 1), (1021, 1), (1297, 1), (1329, 1), (1426, 1), (1622, 1), (1623, 1), (1624, 1), (1625, 1)], [(26, 1), (94, 1), (170, 1), (745, 1)], [(70, 1), (96, 1), (105, 1), (133, 1), (249, 1)], [(130, 1), (132, 1), (249, 1)], [(26, 1), (33, 1), (46, 1), (94, 1), (131, 1), (132, 1), (254, 1), (539, 1)], [(9, 1), (20, 2), (41, 1), (58, 2), (62, 1), (103, 1), (148, 1), (180, 1), (263, 1), (464, 1), (548, 2), (674, 1), (848, 1), (856, 2), (963, 1), (1254, 1), (1626, 1), (1627, 1)], [(96, 1)], [(46, 1), (64, 1)], [(16, 1), (19, 1), (60, 1), (210, 1), (277, 1), (472, 1), (1148, 1)], [(8, 1), (23, 1), (25, 1), (27, 1), (162, 1)], [(46, 1), (64, 1), (70, 1)], [(45, 1)], [(20, 3), (70, 1), (100, 1), (103, 1), (191, 1), (249, 1), (276, 1), (473, 1), (989, 1), (1154, 1), (1628, 1)], [(55, 1), (70, 1)], [(94, 1), (96, 1), (1057, 1), (1629, 1), (1630, 1)], [(9, 1), (12, 3), (19, 1), (30, 2), (35, 1), (36, 2), (41, 1), (43, 1), (50, 1), (53, 1), (58, 1), (64, 1), (65, 1), (66, 1), (68, 1), (71, 2), (77, 1), (82, 1), (100, 1), (102, 1), (103, 1), (107, 1), (139, 1), (142, 2), (170, 1), (181, 1), (198, 1), (210, 1), (254, 1), (261, 1), (280, 1), (296, 1), (314, 1), (388, 1), (406, 1), (434, 1), (473, 1), (519, 1), (522, 2), (549, 2), (559, 1), (642, 2), (789, 1), (866, 1), (908, 1), (927, 2), (1221, 1), (1631, 1), (1632, 1), (1633, 1)], [(16, 1), (44, 1), (55, 1), (94, 1), (102, 1), (103, 1), (106, 1), (145, 1), (307, 1)], [(8, 1), (12, 1), (19, 1), (33, 1), (46, 1), (48, 1), (50, 1), (133, 1), (145, 1), (386, 1), (400, 1), (459, 1), (564, 1), (625, 1)], [(64, 1), (71, 1), (96, 1), (191, 1), (1292, 1)], [(70, 1), (90, 1), (162, 1), (167, 1), (305, 1), (627, 1), (720, 1)], [(0, 1), (12, 1), (60, 1), (147, 1), (263, 1), (275, 1), (389, 1), (594, 1), (1426, 1), (1634, 1), (1635, 1)], [(11, 1), (13, 1), (16, 1), (34, 1), (73, 1), (219, 1), (296, 1), (539, 2), (822, 1), (834, 2), (840, 1), (1248, 1), (1568, 1)], [(16, 1), (31, 1), (46, 1), (63, 1), (70, 1), (102, 1), (239, 1), (315, 1), (377, 1), (1000, 1), (1636, 1), (1637, 1), (1638, 1), (1639, 1)], [(224, 1)], [(12, 1), (21, 1), (48, 1), (60, 1), (68, 1), (77, 1), (103, 1), (107, 1), (210, 1), (354, 1), (454, 1), (496, 1)], [(33, 1), (46, 1), (102, 1), (103, 1)], [(12, 1), (16, 1), (19, 1), (43, 1), (55, 1), (96, 1), (107, 1), (228, 1), (243, 1), (328, 2), (392, 1), (475, 1), (578, 1), (645, 1), (927, 1), (1054, 1), (1251, 1), (1640, 1)], [(3, 1), (8, 1), (13, 1), (19, 2), (26, 1), (30, 1), (48, 1), (482, 1), (612, 1), (824, 1), (1501, 1), (1641, 1)], [(3, 1), (9, 1), (20, 2), (33, 1), (35, 1), (48, 1), (55, 2), (66, 1), (67, 1), (70, 1), (72, 1), (94, 1), (123, 1), (133, 1), (142, 1), (189, 1), (211, 1), (214, 1), (447, 1), (549, 1), (576, 1), (668, 1), (1185, 1), (1438, 1), (1457, 1)], [(9, 1), (26, 1), (39, 1), (53, 1), (70, 1), (77, 1), (90, 1), (100, 1), (328, 1), (386, 1), (549, 1), (616, 1), (1411, 1), (1572, 1), (1642, 1), (1643, 1)], [(9, 1), (20, 1), (45, 3), (55, 1), (88, 1), (214, 1), (452, 1), (1229, 1), (1644, 1)], [(12, 1), (16, 1), (45, 1), (64, 1), (67, 1), (75, 1), (102, 1), (107, 1), (121, 1), (174, 1), (184, 1), (195, 1), (197, 1), (260, 1), (269, 1), (315, 1), (388, 1), (497, 1), (721, 1), (767, 1), (822, 1), (1021, 1), (1026, 1), (1455, 1)], [(26, 1), (402, 1)], [(12, 1), (20, 1), (21, 1), (27, 1), (43, 1), (48, 1), (63, 1), (64, 1), (162, 1), (576, 1)], [(36, 1), (53, 1), (55, 1), (98, 1), (115, 1), (238, 1), (557, 1), (1645, 1)], [(9, 1), (13, 1), (35, 1), (45, 1), (53, 1), (55, 1), (66, 1), (70, 1), (73, 1), (102, 1), (103, 1), (105, 1), (145, 1), (239, 1), (744, 1), (855, 1), (1646, 1), (1647, 1), (1648, 1), (1649, 1)], [(8, 1), (72, 1), (170, 1), (178, 1), (180, 1), (251, 1), (280, 1), (514, 1), (548, 1), (626, 1), (674, 1), (852, 1)], [(80, 1), (84, 2), (94, 1), (102, 1), (106, 2), (120, 1), (133, 1), (154, 1), (180, 1), (191, 3), (215, 1), (275, 2), (295, 1), (356, 1), (438, 1), (468, 1), (473, 1), (482, 2), (549, 1), (673, 1), (768, 2), (775, 1), (1150, 2), (1233, 1), (1650, 1), (1651, 1), (1652, 1)], [(35, 1), (371, 1)], [(35, 1), (45, 1), (94, 1), (356, 1), (371, 1), (1487, 1), (1653, 1)], [(12, 1), (46, 1), (103, 1)], [(12, 1), (16, 1), (55, 1), (73, 1), (94, 1), (138, 1), (139, 1)], [(170, 1), (547, 1), (717, 1)], [(25, 1), (26, 1), (27, 1), (59, 1), (67, 1), (68, 1), (77, 1), (81, 1), (88, 1), (90, 1), (137, 1), (145, 1), (152, 1), (172, 1), (218, 1), (219, 1), (285, 1), (323, 1), (442, 1), (473, 1), (522, 1), (883, 1), (1147, 1), (1221, 1), (1654, 1), (1655, 1)], [(45, 1), (55, 2), (80, 1), (84, 1), (145, 2), (170, 1), (189, 1), (345, 1), (514, 1), (976, 1)], [(21, 1), (26, 1), (31, 1), (36, 1), (45, 2), (78, 1), (102, 1), (103, 1), (111, 1), (170, 1), (202, 1), (316, 1), (405, 1), (438, 1), (476, 1), (592, 1), (755, 1), (765, 1), (1426, 1), (1656, 1), (1657, 1), (1658, 1)], [(27, 1), (105, 1), (116, 1), (120, 1), (170, 1), (260, 1), (364, 1), (378, 1), (908, 1), (950, 1), (1659, 1)], [(12, 1), (15, 1), (21, 1), (33, 1), (48, 1), (64, 1), (77, 1), (101, 1), (133, 1), (361, 1), (726, 1), (890, 1), (1660, 1)], [(12, 1), (15, 1), (24, 1), (48, 1), (64, 1), (99, 1), (107, 1), (111, 1), (1661, 1)], [(80, 1), (989, 1)], [(0, 1), (68, 1), (77, 1), (91, 1), (202, 1), (625, 1), (1662, 1)], [(19, 1), (33, 1), (36, 1), (48, 2), (63, 1), (68, 1), (77, 1), (86, 1), (88, 1), (91, 2), (101, 1), (131, 1), (155, 1), (170, 1), (186, 1), (202, 1), (218, 1), (241, 1), (277, 1), (354, 1), (365, 1), (401, 1), (520, 1), (871, 1), (886, 1), (996, 1), (999, 1), (1038, 1), (1068, 1), (1341, 1), (1438, 1), (1638, 1), (1663, 1)], [(12, 1), (13, 1), (21, 1), (26, 1), (66, 1), (128, 1), (145, 1), (438, 1), (504, 1), (563, 1)], [(8, 1), (13, 1), (24, 1), (31, 1), (35, 1), (46, 1), (105, 1), (130, 1), (377, 1), (425, 1), (499, 1), (734, 1), (1664, 1)], [(0, 1), (13, 1), (41, 1), (59, 1), (60, 1), (63, 1), (64, 2), (66, 1), (86, 1), (91, 1), (189, 1), (269, 1), (290, 1), (370, 1), (548, 1), (585, 1), (1426, 1), (1535, 1), (1665, 1)], [(13, 1), (46, 1), (68, 1), (77, 1), (438, 1), (770, 1), (1126, 1)], [(13, 1), (46, 1), (58, 1), (100, 1), (836, 1), (1666, 1), (1667, 1)], [(6, 1), (12, 3), (13, 1), (18, 2), (19, 3), (21, 1), (31, 1), (45, 2), (46, 1), (48, 2), (59, 1), (62, 1), (63, 1), (64, 1), (68, 2), (70, 1), (77, 2), (80, 1), (91, 1), (100, 1), (102, 1), (103, 1), (134, 1), (152, 1), (170, 1), (191, 1), (280, 1), (378, 1), (414, 1), (415, 1), (425, 3), (438, 1), (456, 2), (477, 2), (539, 1), (549, 1), (571, 1), (613, 1), (616, 1), (723, 1), (1668, 1), (1669, 1), (1670, 1)], [(46, 1), (64, 1), (162, 1), (392, 1)], [(12, 1), (16, 1), (19, 1), (26, 1), (45, 1), (80, 1), (95, 1), (145, 1), (218, 1), (280, 1), (354, 1), (370, 1), (438, 1), (549, 1), (598, 1), (1400, 1), (1671, 1), (1672, 1)], [(0, 1), (3, 1), (30, 1), (71, 1), (103, 1), (133, 1), (167, 1), (174, 1), (207, 1), (524, 1), (699, 1), (1274, 1), (1673, 1)], [(6, 1), (11, 1), (16, 1), (26, 1), (30, 1), (36, 1), (39, 1), (46, 1), (55, 3), (60, 2), (68, 1), (77, 1), (78, 1), (100, 1), (103, 1), (106, 1), (107, 1), (111, 1), (133, 1), (135, 1), (170, 2), (215, 1), (219, 1), (231, 1), (235, 1), (253, 1), (261, 1), (295, 1), (310, 1), (314, 1), (371, 1), (451, 1), (473, 1), (496, 2), (527, 2), (528, 1), (560, 1), (624, 1), (671, 1), (692, 1), (857, 1), (932, 1), (1097, 1), (1426, 1), (1437, 1), (1674, 1), (1675, 1), (1676, 1), (1677, 1), (1678, 1), (1679, 1), (1680, 1), (1681, 1), (1682, 1), (1683, 1), (1684, 1), (1685, 1), (1686, 1), (1687, 1)], [(63, 1), (64, 1), (356, 1)], [(9, 1), (20, 1), (26, 2), (35, 1), (36, 1), (65, 1), (72, 1), (97, 1), (214, 1), (1070, 1)], [(10, 1), (41, 1), (55, 1), (70, 1), (105, 1), (107, 1), (135, 1), (170, 1), (402, 1), (850, 1), (878, 1), (1439, 1)], [(45, 1), (132, 1)], [(55, 2), (59, 1), (63, 1), (64, 1), (73, 1), (378, 1), (407, 1), (1178, 1), (1179, 1), (1329, 1), (1688, 1)], [(3, 1), (12, 1), (46, 1), (72, 1), (84, 1), (96, 1), (132, 1), (139, 1), (253, 1), (491, 1), (568, 1)], [(31, 1), (46, 1), (132, 1), (923, 1)], [(13, 2), (35, 1), (46, 1), (66, 1)], [(13, 1), (35, 1), (44, 1), (53, 1), (65, 1), (66, 1), (70, 1), (72, 1), (86, 1), (102, 1), (132, 1), (189, 1), (312, 1), (385, 1), (504, 1), (514, 1), (531, 1), (574, 1), (727, 1), (991, 1), (1007, 1), (1218, 1), (1399, 1), (1689, 1)], [(16, 1), (23, 1), (91, 1)], [(94, 1)], [(94, 1), (105, 1), (118, 1), (549, 1), (1690, 1)], [(18, 1), (20, 2), (21, 1), (48, 1), (55, 2), (70, 1), (77, 1), (82, 1), (100, 1), (103, 1), (111, 1), (191, 1), (214, 1), (215, 1), (249, 1), (378, 1), (443, 1), (549, 1), (831, 1), (836, 1), (1273, 1), (1329, 1), (1518, 1), (1679, 1), (1691, 1), (1692, 1)], [(26, 1), (46, 1)], [(18, 2), (20, 1), (21, 1), (48, 1), (53, 1), (55, 2), (68, 1), (71, 2), (73, 2), (78, 1), (79, 1), (80, 1), (251, 1), (464, 1), (549, 1), (955, 1), (1693, 1), (1694, 1)], [(12, 1), (13, 1), (19, 1), (35, 1), (55, 2), (59, 1), (64, 2), (71, 1), (79, 1), (82, 1), (88, 1), (94, 1), (100, 1), (171, 1), (253, 1), (261, 1), (269, 1), (278, 1), (298, 1), (305, 1), (425, 1), (465, 2), (468, 1), (522, 1), (524, 1), (527, 1), (690, 1), (856, 1), (1055, 1), (1254, 1), (1309, 1), (1430, 1), (1495, 1), (1695, 1), (1696, 1), (1697, 2), (1698, 1)], [(3, 2), (8, 1), (18, 2), (26, 4), (30, 2), (36, 1), (44, 1), (55, 4), (65, 1), (88, 1), (94, 1), (98, 2), (104, 1), (106, 1), (115, 1), (133, 1), (221, 1), (296, 1), (373, 1), (405, 1), (560, 1), (699, 1), (730, 1), (1699, 1), (1700, 1)], [(46, 1), (70, 1), (102, 1), (105, 1)], [(9, 1), (35, 1), (45, 1), (55, 2), (60, 1), (70, 1), (94, 1), (123, 1), (145, 1), (221, 1), (311, 1), (1426, 1)], [(63, 1), (65, 1), (186, 1), (197, 1), (264, 1), (438, 1), (1701, 1), (1702, 1)], [(4, 1), (12, 2), (13, 1), (15, 1), (19, 1), (26, 3), (30, 2), (33, 1), (35, 3), (43, 1), (48, 1), (55, 1), (66, 5), (70, 1), (158, 1), (166, 2), (170, 1), (186, 1), (241, 1), (249, 1), (294, 1), (308, 1), (309, 1), (314, 1), (344, 1), (371, 1), (447, 1), (490, 1), (492, 1), (504, 1), (531, 1), (557, 1), (616, 1), (791, 1), (822, 1), (908, 1), (1645, 1), (1703, 1), (1704, 1), (1705, 1)], [(55, 2), (70, 2), (91, 2), (98, 2), (116, 2), (132, 1), (148, 1), (162, 1), (296, 1), (431, 1), (452, 1), (557, 1), (560, 1), (965, 2), (1012, 1), (1150, 1), (1492, 1), (1651, 1), (1706, 1), (1707, 1), (1708, 1), (1709, 1), (1710, 1)], [(0, 1), (26, 2), (29, 1), (33, 1), (35, 3), (44, 1), (45, 1), (55, 1), (58, 1), (71, 1), (72, 1), (90, 1), (146, 1), (170, 1), (356, 1), (415, 1), (466, 2), (476, 1), (497, 1), (519, 1), (547, 2), (549, 1), (556, 1), (662, 1), (781, 1), (837, 1), (1230, 1), (1383, 1), (1488, 1), (1711, 1), (1712, 1)], [(9, 1), (23, 1), (26, 1), (29, 1), (30, 1), (31, 1), (33, 2), (68, 1), (77, 1), (91, 1), (98, 1), (576, 1), (1629, 1)], [(94, 1), (96, 1)], [(33, 1), (94, 1)], [(48, 2), (68, 1), (75, 1), (77, 1), (384, 1), (385, 1), (1713, 1)], [(35, 1), (46, 2), (66, 1), (72, 1), (132, 1), (404, 1), (549, 1), (862, 1)], [(58, 1), (82, 1), (94, 1), (170, 1), (171, 1), (1714, 1), (1715, 1), (1716, 1), (1717, 1)], [(12, 1), (16, 1), (19, 1), (55, 1), (71, 1), (102, 1), (116, 2), (198, 1), (210, 1), (224, 1), (539, 1), (549, 1), (834, 1), (1021, 1), (1432, 1), (1691, 1), (1718, 1)], [(9, 1), (35, 1), (84, 1), (116, 2), (133, 1), (146, 1), (185, 1), (314, 1), (328, 1), (412, 1), (626, 1), (775, 1), (908, 1), (1719, 1), (1720, 1)], [(74, 1), (75, 1), (82, 1), (101, 1), (170, 1), (249, 1), (726, 1), (747, 1), (1721, 1)], [(0, 1), (86, 1), (90, 1), (185, 1), (591, 1)], [(3, 1), (9, 1), (10, 1), (21, 2), (26, 1), (29, 1), (30, 1), (67, 2), (71, 1), (103, 1), (184, 1), (208, 1), (293, 1), (312, 1), (689, 1), (998, 1), (1177, 3), (1548, 1), (1629, 1), (1722, 2)], [(21, 1), (55, 1), (70, 2), (74, 1), (75, 1), (82, 1), (116, 2), (123, 1), (223, 1), (305, 1), (315, 1), (377, 1), (1225, 1)], [(19, 1), (48, 1), (55, 1), (66, 1), (67, 1), (71, 1), (115, 1), (170, 1), (328, 1), (699, 1), (865, 1), (1560, 1), (1723, 1)], [(392, 1)], [(64, 1), (315, 1)], [(371, 1)], [(21, 1), (63, 1), (64, 1), (91, 1), (121, 1), (276, 1), (290, 1), (989, 1), (1411, 1)], [(45, 1), (70, 1), (102, 1), (162, 1), (989, 1)], [(9, 1), (15, 1), (19, 2), (20, 1), (25, 1), (27, 1), (33, 1), (39, 1), (77, 1), (99, 1), (100, 1), (125, 1), (228, 1), (231, 1), (326, 1), (377, 1), (535, 1), (548, 1), (948, 1), (1724, 1)], [(21, 1), (63, 1), (70, 1), (73, 1), (94, 1), (371, 1)], [(0, 1), (20, 1)], [(9, 1), (35, 1), (63, 1), (66, 1), (70, 1), (123, 1), (186, 1), (371, 1), (522, 1), (549, 1)], [(13, 3), (19, 5), (20, 1), (36, 1), (39, 1), (41, 1), (48, 1), (50, 1), (53, 1), (54, 1), (55, 2), (60, 3), (63, 1), (66, 3), (67, 1), (70, 1), (71, 1), (73, 4), (78, 1), (80, 2), (95, 1), (99, 1), (101, 1), (105, 1), (116, 1), (135, 1), (137, 1), (142, 1), (147, 1), (149, 1), (167, 1), (222, 1), (239, 1), (249, 1), (261, 1), (263, 1), (274, 1), (312, 1), (315, 1), (325, 1), (328, 1), (361, 1), (370, 1), (377, 1), (465, 1), (475, 1), (504, 1), (508, 1), (538, 1), (548, 1), (598, 1), (648, 1), (834, 1), (850, 1), (897, 1), (1357, 1), (1359, 1), (1411, 1), (1425, 1), (1426, 1), (1457, 1), (1487, 1), (1725, 1), (1726, 2), (1727, 1), (1728, 1), (1729, 1), (1730, 1), (1731, 1), (1732, 1)], [(46, 1), (55, 1)], [(46, 1), (70, 1), (72, 1), (139, 1), (483, 1), (610, 1), (954, 1)], [(10, 1), (64, 1), (66, 1), (70, 1), (263, 1), (389, 1), (616, 1), (923, 1)], [(94, 1)], [(20, 1), (44, 1), (88, 1), (171, 1), (214, 1), (243, 1), (275, 1), (914, 1), (1013, 1), (1733, 1), (1734, 1)], [(60, 1), (94, 1), (107, 1), (348, 1), (982, 1)], [(29, 1), (33, 1), (100, 1), (101, 1), (340, 1)], [(11, 1), (15, 1), (23, 1), (26, 2), (36, 1), (45, 1), (55, 1), (60, 1), (64, 1), (74, 2), (76, 1), (88, 1), (107, 1), (133, 1), (147, 1), (173, 1), (204, 1), (210, 1), (211, 1), (238, 1), (249, 1), (280, 1), (459, 2), (508, 1), (927, 2), (1248, 1), (1735, 1)], [(12, 1), (19, 1), (29, 1), (50, 1), (64, 1), (239, 1), (249, 1), (256, 1), (497, 1), (653, 1), (1412, 1), (1736, 1)], [(18, 1), (26, 1), (30, 2), (36, 1), (55, 1), (94, 1), (98, 1), (314, 1), (365, 2), (370, 1), (549, 1), (886, 1), (1737, 1), (1738, 1)], [(20, 1), (29, 1), (35, 1), (41, 1), (46, 1), (96, 1), (100, 1), (106, 1), (138, 1), (235, 1)], [(21, 1), (64, 1), (105, 1), (130, 1), (549, 1), (582, 1), (595, 1), (802, 1), (862, 1), (1739, 1)], [(19, 1), (24, 1), (35, 1), (45, 1), (48, 1), (73, 1), (116, 1), (416, 1), (616, 1), (859, 1), (995, 1), (1740, 1), (1741, 1), (1742, 1)], [(46, 1), (130, 1), (132, 1), (862, 1)], [(35, 1), (45, 1), (46, 1), (54, 1), (265, 1), (668, 1)], [(46, 1), (102, 1)], [(17, 1), (126, 1), (170, 1), (1122, 1), (1254, 1), (1542, 1)], [(45, 1), (102, 1)], [(392, 1)], [(6, 1), (517, 1)], [(12, 1), (19, 1), (26, 1), (35, 1), (45, 2), (55, 1), (64, 1), (66, 2), (67, 1), (100, 1), (256, 1), (296, 1), (298, 1), (354, 1), (371, 1), (507, 1), (514, 1), (522, 1), (633, 1), (757, 1), (819, 1), (1455, 1), (1538, 1), (1743, 1), (1744, 1)], [(10, 1), (16, 2), (19, 1), (27, 1), (45, 1), (55, 1), (62, 1), (65, 1), (68, 1), (73, 1), (77, 1), (80, 1), (100, 1), (111, 1), (126, 1), (143, 1), (149, 1), (170, 2), (172, 1), (228, 1), (298, 1), (385, 1), (451, 1), (533, 1), (586, 1), (658, 1), (880, 1), (957, 2), (1107, 1), (1338, 1), (1561, 1), (1745, 1), (1746, 1), (1747, 2), (1748, 1)], [(0, 1), (8, 1), (44, 2), (59, 1), (78, 1), (81, 1), (100, 1), (164, 1), (175, 1), (191, 2), (251, 1), (257, 1), (273, 1), (275, 1), (316, 1), (325, 1), (370, 1), (378, 1), (416, 2), (511, 1), (721, 1), (834, 1), (1203, 1), (1749, 1), (1750, 1), (1751, 1)], [(17, 1), (42, 1), (64, 1), (68, 1), (74, 1), (77, 1), (82, 1), (137, 1), (170, 1), (202, 1), (296, 1), (392, 1), (442, 1)], [(35, 1), (45, 3), (53, 1), (66, 2), (102, 1), (111, 1), (128, 1), (191, 1), (312, 1), (356, 1), (378, 1), (385, 1), (438, 1), (832, 1), (1034, 1), (1752, 1), (1753, 1)], [(12, 1), (30, 1), (35, 1), (46, 1), (58, 1), (98, 1), (101, 1), (130, 1), (170, 1), (186, 1), (817, 1), (1645, 1), (1754, 1), (1755, 1)], [(185, 1)], [(4, 1), (17, 2), (20, 2), (31, 2), (35, 1), (41, 1), (45, 1), (48, 1), (52, 1), (55, 2), (63, 1), (70, 1), (74, 1), (75, 2), (82, 1), (83, 1), (91, 1), (94, 1), (96, 2), (100, 1), (118, 1), (158, 1), (162, 1), (170, 1), (186, 1), (219, 1), (298, 1), (305, 1), (312, 1), (316, 1), (406, 1), (412, 1), (435, 1), (438, 1), (446, 1), (507, 2), (528, 1), (539, 1), (547, 1), (765, 1), (773, 1), (1012, 1), (1114, 1), (1145, 1), (1610, 1), (1756, 1)], [(18, 1), (20, 1), (27, 1), (55, 1), (78, 1), (101, 1), (162, 2), (170, 1), (948, 1), (1630, 1)], [(11, 1), (15, 1), (16, 1), (17, 2), (20, 1), (26, 1), (46, 1), (55, 1), (58, 1), (60, 1), (67, 1), (71, 2), (74, 3), (75, 1), (82, 1), (100, 1), (103, 2), (104, 2), (107, 1), (121, 1), (142, 1), (151, 1), (170, 1), (194, 1), (197, 1), (206, 1), (221, 1), (304, 1), (312, 1), (371, 1), (385, 1), (426, 1), (489, 1), (530, 1), (609, 1), (811, 1), (829, 1), (883, 1), (1021, 1), (1028, 1), (1338, 1), (1508, 1), (1757, 1), (1758, 1), (1759, 1), (1760, 1), (1761, 1), (1762, 1), (1763, 1)], [(24, 1), (31, 1), (45, 1), (46, 1), (60, 1), (70, 1), (75, 1), (261, 1), (325, 1), (539, 1), (1111, 1)], [(64, 1), (989, 1)], [(31, 1), (66, 1), (70, 1), (105, 1), (189, 1)], [(16, 1), (20, 1), (21, 1), (41, 1), (46, 1), (48, 1), (55, 1), (66, 1), (72, 1), (73, 1), (75, 1), (94, 1), (145, 1), (162, 1), (170, 1), (184, 1), (328, 1), (572, 1), (817, 1), (908, 1), (1452, 1), (1764, 1), (1765, 1), (1766, 1), (1767, 1), (1768, 1)], [(9, 1), (20, 1), (55, 2), (60, 1), (64, 1), (151, 1)], [(17, 1), (41, 1), (62, 1), (94, 1), (305, 1), (465, 1), (510, 1), (689, 1), (848, 1), (1539, 1), (1542, 1)], [(66, 1), (68, 1), (77, 1), (94, 1), (364, 1), (856, 1)], [(35, 2), (55, 1), (63, 1), (66, 1), (94, 1), (549, 1)], [(3, 1), (10, 1), (12, 1), (14, 1), (16, 1), (20, 2), (26, 1), (35, 1), (55, 1), (100, 1), (162, 1), (276, 1), (406, 1), (482, 1), (508, 1)], [(26, 1), (46, 1), (64, 1), (93, 1), (106, 1), (158, 1), (404, 1), (1506, 1)], [(3, 1), (19, 1), (68, 1), (77, 1), (94, 1), (116, 1), (145, 1), (174, 1), (371, 1), (427, 1), (517, 1), (585, 1), (721, 1), (984, 1)], [(13, 1), (29, 1), (33, 1), (137, 1), (158, 1), (223, 1), (249, 1), (378, 1), (444, 1), (582, 1), (932, 1), (1253, 1)], [(9, 1), (13, 1), (19, 1), (48, 1), (63, 1), (96, 1), (105, 1), (170, 1), (547, 1), (563, 1), (1769, 1)], [(54, 1), (61, 1)], [(8, 1), (378, 1), (598, 1), (1770, 1)], [(45, 1), (59, 1), (71, 1), (102, 1), (170, 1), (280, 1)], [(45, 1), (356, 1), (497, 1), (557, 1)], [(11, 1), (23, 1), (29, 1), (46, 1), (55, 1), (64, 1), (70, 1), (116, 1), (133, 1), (146, 1), (179, 1), (473, 1), (535, 1), (834, 1), (1771, 1), (1772, 1), (1773, 1)], [(46, 1), (364, 1)], [(35, 1), (45, 1)], [(35, 1), (55, 1), (70, 1), (102, 1), (103, 1), (118, 1), (545, 1), (1707, 1), (1774, 1)], [(130, 1)], [(19, 1), (33, 1), (35, 1), (44, 1), (50, 1), (55, 1), (58, 1), (60, 2), (66, 1), (71, 1), (107, 1), (131, 1), (145, 1), (179, 1), (225, 1), (280, 1), (375, 1), (434, 1), (549, 1), (560, 1), (598, 1), (1429, 1), (1650, 1), (1775, 1), (1776, 1), (1777, 1)], [(35, 1), (45, 1), (66, 1), (130, 1), (132, 1), (392, 1)], [(0, 1), (13, 1), (19, 1), (46, 1), (132, 1)], [(15, 1), (60, 1), (66, 1), (73, 1), (82, 1), (210, 1), (496, 1), (588, 1), (856, 1), (1778, 1)], [(14, 1), (20, 1), (48, 2), (55, 3), (67, 1), (68, 1), (70, 1), (77, 1), (86, 1), (91, 1), (100, 1), (151, 1), (507, 1), (549, 1), (603, 1), (658, 1), (1312, 1), (1779, 1), (1780, 1), (1781, 1)], [(5, 1), (8, 1), (20, 1), (21, 1), (46, 1), (48, 1), (55, 3), (68, 1), (77, 1), (121, 1), (162, 1), (164, 1), (374, 1), (789, 1)], [(53, 1), (105, 1), (184, 1), (425, 1), (1274, 1)], [(9, 1), (96, 1), (276, 1), (438, 1)], [(20, 1), (70, 1), (74, 2), (94, 1), (101, 1), (123, 1)], [(13, 1), (19, 1), (24, 1), (27, 1), (48, 1), (80, 1), (145, 1), (275, 1), (1782, 1)], [(35, 1), (45, 1), (80, 1), (100, 1), (138, 1), (1001, 1)], [(18, 1), (35, 1), (63, 1), (64, 1), (73, 1), (94, 1), (456, 1), (609, 1), (668, 1)], [(46, 1), (48, 1), (55, 1), (64, 1), (68, 1), (77, 1), (107, 1), (158, 1), (210, 1), (275, 1), (348, 1), (563, 1), (758, 1)], [(6, 1), (96, 1)], [(33, 1), (35, 3), (45, 1), (66, 2), (70, 1), (105, 1), (130, 1), (131, 1), (927, 1), (936, 1), (1007, 1), (1200, 1), (1230, 1), (1254, 1), (1327, 1)], [(48, 1), (63, 1), (70, 1), (174, 1)], [(35, 1), (70, 1), (105, 1), (722, 1)], [(44, 1), (75, 1), (82, 2), (170, 1), (817, 1), (820, 1)], [(17, 1), (33, 1), (35, 1), (45, 1), (66, 1), (70, 1), (93, 1), (118, 1), (121, 1), (123, 1), (143, 1), (152, 2), (170, 1), (261, 1), (473, 1), (482, 1), (554, 1), (618, 1), (1251, 1), (1783, 1)], [(63, 1), (77, 1), (100, 1), (563, 1), (1784, 1)], [(10, 1), (13, 1), (77, 1), (136, 1), (139, 1), (263, 1), (1093, 1), (1133, 1), (1785, 1)], [(11, 1), (18, 1), (20, 2), (55, 1), (82, 1), (96, 1), (132, 1), (1653, 2)], [(0, 1), (8, 1), (9, 1), (16, 1), (71, 1), (83, 1), (86, 1), (100, 1), (275, 1), (500, 1)], [(13, 1), (19, 1), (21, 1), (27, 1), (35, 1), (46, 1), (101, 1), (132, 1), (170, 1), (328, 1), (1359, 1)], [(19, 1), (145, 1), (1062, 1)], [(16, 2), (17, 1), (20, 1), (24, 1), (44, 1), (46, 1), (55, 1), (60, 1), (67, 2), (70, 1), (71, 1), (74, 1), (82, 1), (104, 1), (106, 1), (118, 1), (121, 1), (126, 2), (154, 1), (170, 1), (180, 1), (183, 3), (208, 1), (215, 1), (225, 1), (229, 1), (251, 1), (261, 1), (275, 1), (311, 1), (319, 1), (364, 2), (438, 1), (482, 1), (531, 1), (553, 1), (595, 1), (633, 1), (673, 2), (674, 1), (832, 1), (852, 1), (996, 2), (1055, 1), (1150, 1), (1153, 1), (1429, 1), (1488, 1), (1574, 1), (1786, 1), (1787, 1), (1788, 1), (1789, 1)], [(26, 1), (33, 1), (131, 1), (133, 1), (521, 1), (576, 1), (582, 1)], [(75, 1), (82, 1), (96, 1), (132, 1), (170, 1), (361, 1), (545, 1)], [(8, 1), (23, 1), (36, 1), (55, 1), (68, 1), (70, 1), (77, 1), (312, 1), (394, 1), (563, 1)], [(16, 1), (106, 1), (146, 1), (1790, 1), (1791, 1)], [(12, 1), (19, 1), (66, 1), (99, 1), (425, 1), (549, 1), (648, 1), (856, 1), (1379, 1)], [(96, 1)], [(46, 1), (132, 1)], [(45, 1), (101, 1), (132, 1), (170, 1)], [(3, 1), (9, 1), (11, 1), (20, 1), (23, 1), (36, 1), (55, 1), (60, 2), (71, 1), (75, 1), (88, 1), (95, 1), (96, 1), (107, 2), (115, 1), (145, 1), (197, 1), (202, 1), (459, 1), (482, 1), (545, 1), (594, 1), (595, 1), (932, 1), (1226, 1), (1229, 1), (1230, 1), (1426, 1), (1792, 1), (1793, 1)], [(7, 1), (15, 1), (16, 1), (26, 2), (27, 1), (44, 2), (55, 3), (59, 1), (60, 1), (64, 3), (67, 1), (94, 1), (100, 2), (103, 2), (107, 1), (115, 1), (170, 1), (180, 1), (191, 6), (261, 1), (364, 1), (386, 1), (434, 1), (438, 1), (473, 1), (475, 1), (549, 1), (826, 1), (981, 1), (1021, 1), (1116, 1), (1486, 1), (1566, 1), (1794, 1), (1795, 1)], [(26, 1), (27, 1), (39, 1), (55, 1), (57, 1), (67, 1), (99, 1), (101, 1), (103, 1), (170, 1), (181, 1), (392, 1), (529, 1), (726, 1), (908, 1), (1248, 1)], [(9, 1), (11, 1), (17, 1), (19, 2), (20, 1), (36, 1), (41, 1), (44, 1), (55, 2), (59, 1), (63, 1), (67, 1), (68, 1), (77, 1), (86, 1), (91, 1), (145, 1), (152, 1), (179, 1), (310, 1), (312, 1), (444, 1), (548, 1), (927, 1), (1004, 1), (1068, 1), (1796, 1)], [(13, 1), (16, 1), (19, 1), (46, 1), (70, 1), (346, 1)], [(29, 1), (90, 1), (103, 1), (725, 1), (1797, 1)], [(44, 1), (46, 1), (64, 2), (94, 1), (97, 1), (100, 1), (116, 1), (123, 1), (314, 1), (328, 1), (1050, 1), (1250, 1)], [(0, 1), (3, 1), (26, 1), (45, 2), (53, 1), (65, 1), (82, 1), (100, 1), (261, 1), (432, 1), (438, 1), (627, 1), (1657, 1), (1798, 1), (1799, 1), (1800, 1)], [(20, 1), (46, 3), (70, 1), (91, 1), (102, 1)], [(70, 1), (94, 1), (105, 1)], [(48, 1), (68, 1), (77, 1), (106, 1), (122, 2), (253, 2), (377, 1), (464, 1), (692, 1), (725, 1), (734, 1), (879, 1), (1694, 2), (1801, 1), (1802, 1), (1803, 1), (1804, 1), (1805, 1)], [(11, 1), (46, 1), (70, 1), (100, 1), (107, 1)], [(73, 1), (103, 1), (142, 1), (558, 1), (643, 1), (918, 1), (927, 1), (1806, 1), (1807, 1)], [(0, 1), (3, 1), (12, 1), (46, 1), (48, 1), (70, 1), (100, 1), (102, 1), (107, 1), (174, 1), (314, 1), (831, 1), (1372, 1)], [(31, 1), (33, 1), (46, 3), (132, 1), (162, 1), (204, 1), (392, 1), (834, 1), (862, 1)], [(130, 1)], [(96, 1), (249, 1)], [(9, 1), (10, 1), (18, 1), (20, 2), (30, 2), (31, 1), (55, 4), (59, 2), (63, 1), (64, 1), (73, 8), (78, 1), (106, 1), (206, 2), (384, 1), (456, 1), (468, 1), (476, 1), (491, 1), (505, 1), (528, 1), (650, 1), (1405, 1), (1411, 1), (1430, 1), (1436, 1), (1598, 1), (1808, 1), (1809, 1), (1810, 1), (1811, 2), (1812, 1), (1813, 1), (1814, 1), (1815, 1)], [(46, 1), (91, 1), (101, 1), (162, 1), (170, 1), (726, 1), (1816, 1)], [(171, 1), (624, 1), (673, 1), (1817, 1)], [(19, 1), (42, 1), (66, 1), (224, 1), (848, 1), (1398, 1)], [(8, 2), (12, 1), (15, 1), (17, 1), (18, 1), (20, 1), (26, 1), (36, 2), (44, 2), (45, 2), (64, 1), (80, 1), (82, 1), (88, 2), (90, 1), (109, 1), (253, 1), (384, 1), (527, 1), (539, 1), (545, 1), (547, 2), (568, 1), (1062, 1)], [(9, 1), (15, 1), (23, 1), (30, 1), (36, 1), (41, 1), (70, 1), (92, 1), (98, 3), (102, 1), (162, 1), (169, 1), (186, 3), (201, 1), (210, 1), (365, 1), (549, 1), (557, 1), (832, 1), (875, 1), (1818, 1), (1819, 1), (1820, 1), (1821, 1), (1822, 1)], [(9, 1), (12, 3), (13, 1), (21, 2), (26, 2), (28, 1), (35, 1), (36, 1), (43, 2), (48, 1), (50, 1), (55, 1), (66, 1), (78, 1), (82, 1), (100, 3), (103, 1), (133, 1), (171, 1), (172, 1), (206, 1), (263, 1), (268, 1), (269, 1), (312, 1), (320, 1), (404, 1), (569, 1), (582, 1), (598, 2), (1106, 1), (1823, 1), (1824, 3), (1825, 1), (1826, 1)], [(41, 1), (48, 1), (68, 1), (77, 1), (81, 1), (94, 1), (170, 1), (172, 1), (299, 1), (569, 1), (873, 1), (943, 1), (983, 1), (1144, 1)], [(8, 1), (12, 1), (20, 1), (21, 1), (43, 1), (46, 1), (48, 1), (68, 1), (77, 1), (142, 1), (394, 1)], [(16, 1), (63, 1), (64, 1), (152, 1), (447, 1), (996, 1)], [(12, 2), (19, 1), (48, 1), (107, 1), (228, 1), (354, 1)], [(3, 1), (10, 1), (19, 1), (59, 1), (64, 1), (82, 2), (100, 1), (116, 1), (136, 1), (178, 1), (208, 2), (211, 1), (269, 1), (298, 1), (442, 1), (498, 1), (539, 1), (721, 1), (768, 1), (922, 1), (1097, 1), (1827, 1), (1828, 1)], [(8, 4), (12, 1), (13, 4), (16, 2), (45, 1), (46, 1), (50, 2), (64, 1), (66, 2), (71, 1), (133, 1), (145, 2), (152, 1), (392, 1), (413, 2), (425, 2), (451, 1), (571, 1), (883, 1), (1390, 1), (1574, 2), (1829, 1), (1830, 1), (1831, 1)], [(12, 1), (46, 1), (66, 1), (73, 1), (105, 1), (186, 1), (189, 1), (348, 1), (537, 1), (557, 1), (1302, 1), (1824, 1), (1832, 1)], [(19, 1), (26, 1), (46, 1), (64, 1), (77, 1), (477, 1), (685, 1), (1215, 1), (1833, 1), (1834, 1)], [(0, 1), (19, 1), (20, 1), (31, 1), (35, 1), (46, 1), (60, 1), (64, 1), (66, 1), (96, 1), (210, 1), (305, 2), (541, 1), (563, 1), (576, 1), (607, 1), (1001, 1), (1133, 1), (1835, 1)], [(23, 1), (35, 1), (45, 1), (66, 1), (71, 1), (77, 1), (88, 1), (91, 1), (170, 1), (312, 1), (569, 1), (1836, 1)], [(60, 1), (103, 1), (1212, 1)], [(46, 1), (58, 1), (63, 1), (64, 1), (70, 1), (158, 1), (389, 1), (468, 1), (607, 1), (856, 1), (960, 1), (1254, 1), (1697, 1)], [(9, 1), (18, 2), (20, 1), (30, 1), (31, 1), (35, 1), (36, 2), (46, 2), (53, 1), (64, 2), (74, 1), (82, 1), (94, 1), (100, 1), (103, 1), (106, 1), (116, 1), (154, 1), (162, 1), (180, 1), (197, 1), (211, 1), (214, 1), (229, 1), (253, 1), (316, 1), (385, 1), (438, 1), (459, 1), (464, 1), (468, 3), (490, 1), (527, 1), (547, 2), (625, 1), (690, 1), (702, 1), (706, 1), (734, 1), (768, 1), (832, 1), (856, 1), (1254, 1), (1380, 1), (1548, 1), (1837, 1)], [(0, 1), (3, 1), (12, 3), (13, 1), (16, 1), (21, 1), (26, 1), (27, 1), (33, 1), (35, 1), (36, 1), (41, 1), (46, 1), (50, 1), (66, 1), (67, 1), (81, 1), (88, 1), (96, 2), (115, 3), (133, 1), (158, 1), (214, 1), (218, 1), (287, 1), (320, 1), (378, 1), (459, 1), (531, 1), (547, 1), (549, 1), (789, 1), (910, 1), (1426, 1), (1542, 1), (1589, 1), (1838, 1), (1839, 1), (1840, 1), (1841, 1), (1842, 1), (1843, 1)], [(9, 1), (19, 1), (48, 1), (55, 1), (66, 1), (73, 1), (80, 1), (111, 1), (145, 1), (328, 1), (402, 1), (438, 2), (444, 1), (717, 1), (1021, 1), (1569, 1), (1844, 1)], [(27, 1), (73, 1), (96, 1), (100, 1), (101, 1)], [(26, 1), (46, 1)], [(0, 1), (23, 1), (45, 2), (98, 1), (103, 1), (385, 1), (431, 1), (434, 1), (822, 1), (1456, 1), (1845, 1)], [(9, 1), (20, 1), (55, 1), (65, 1), (94, 1), (100, 1), (111, 1), (151, 1), (1405, 1)], [(12, 2), (19, 1), (48, 2), (71, 1), (91, 1), (96, 5), (107, 1), (130, 1), (197, 1), (210, 1), (514, 1), (549, 1), (609, 1), (1327, 1), (1438, 1), (1598, 1), (1846, 1)], [(9, 1), (19, 1), (64, 1), (139, 1), (191, 1), (549, 1), (610, 1)], [(31, 1), (46, 2), (132, 1)], [(9, 1), (13, 1), (46, 1), (64, 1), (1847, 1), (1848, 1)], [(3, 1), (12, 1), (19, 2), (41, 1), (53, 1), (66, 1), (71, 1), (104, 1), (158, 1), (170, 1), (189, 1), (253, 1), (293, 1), (491, 1), (560, 1), (572, 1), (829, 1), (1849, 1)], [(63, 1), (64, 1)], [(20, 1), (48, 1), (55, 1), (68, 1), (77, 1), (126, 1), (249, 1), (1282, 1)], [(9, 1), (12, 1), (41, 1), (60, 1), (64, 1), (78, 1), (107, 1), (111, 1), (122, 1), (128, 1), (132, 1), (179, 1), (191, 2), (353, 2), (442, 1), (607, 1), (1593, 1), (1850, 1), (1851, 1), (1852, 1)], [(19, 1), (60, 1), (73, 1), (99, 1), (158, 1), (170, 1), (325, 1)], [(0, 3), (3, 1), (12, 2), (15, 1), (20, 1), (50, 1), (55, 1), (64, 3), (78, 1), (102, 3), (162, 1), (170, 1), (191, 1), (257, 1), (275, 1), (315, 1), (878, 1), (1458, 1), (1853, 1), (1854, 1), (1855, 1), (1856, 1), (1857, 1), (1858, 1)], [(3, 1), (19, 1), (72, 1), (139, 1), (145, 1), (170, 1)], [(4, 1), (6, 1), (9, 1), (12, 1), (55, 1), (60, 2), (62, 1), (72, 1), (100, 1), (107, 2), (125, 1), (143, 1), (170, 1), (243, 1), (290, 1), (375, 2), (482, 1), (553, 1), (811, 1), (1044, 1), (1325, 1), (1426, 1), (1532, 1), (1539, 1), (1859, 1), (1860, 1), (1861, 1), (1862, 1), (1863, 1), (1864, 1), (1865, 1)], [(46, 1), (132, 1)], [(45, 1), (55, 1), (1866, 1)], [(12, 1), (20, 1), (35, 1), (66, 1), (96, 1), (167, 1), (221, 1), (273, 1), (392, 1), (582, 1), (725, 1), (1026, 1), (1867, 1), (1868, 1), (1869, 1)], [(15, 1), (20, 1), (48, 1), (55, 1), (162, 1)], [(64, 1), (662, 1)], [(68, 1), (96, 1), (101, 1), (170, 1), (517, 1), (1870, 1), (1871, 1)], [(70, 1), (1083, 1)], [(20, 1), (46, 1), (132, 1), (170, 1), (508, 1)], [(48, 1), (68, 1), (77, 1), (96, 1)], [(9, 1), (21, 1), (33, 1), (70, 1), (123, 1), (155, 1), (157, 1), (191, 1), (280, 1), (300, 1), (501, 1), (510, 1), (548, 1), (845, 1), (1872, 1)], [(9, 1), (10, 1), (16, 1), (33, 1), (35, 1), (45, 1), (55, 2), (66, 1), (90, 1), (129, 1), (133, 1), (142, 1), (149, 1), (189, 1), (314, 1), (927, 1), (1047, 1), (1354, 1), (1873, 1)], [(19, 1), (33, 1), (46, 1), (68, 1), (77, 1), (131, 1), (139, 1)], [(0, 1), (64, 1), (68, 1), (77, 1), (86, 1), (91, 1)], [(13, 1), (33, 1), (142, 1), (152, 1), (927, 1)], [(10, 1), (12, 2), (48, 1), (60, 1), (64, 2), (75, 1), (96, 2), (107, 1), (149, 1), (353, 1), (406, 1), (487, 3), (607, 1)], [(46, 2), (70, 1), (102, 1)], [(33, 1), (288, 1), (289, 1)], [(9, 1), (20, 1), (55, 1), (63, 1), (64, 1), (121, 1), (126, 1), (435, 1)], [(105, 1), (162, 1), (223, 1)], [(11, 1), (107, 1), (170, 1)], [(9, 1), (46, 1), (265, 1)], [(33, 1), (45, 1), (68, 1), (77, 1), (152, 1), (438, 1), (1874, 1)], [(130, 1)], [(35, 1), (46, 1), (82, 1), (170, 1)], [(3, 1), (103, 1), (438, 1)], [(94, 1), (371, 1), (931, 1)], [(25, 1), (29, 1), (55, 1), (71, 1), (77, 1), (99, 1), (170, 1), (585, 1), (831, 1)], [(6, 1), (9, 1), (19, 2), (20, 1), (48, 1), (68, 1), (73, 2), (77, 1), (132, 1), (145, 1), (185, 1), (214, 1), (305, 1), (459, 1), (1221, 1)], [(0, 1), (20, 1), (29, 1), (996, 1)], [(20, 1), (26, 1), (27, 1), (32, 1), (33, 1), (62, 1), (71, 1), (74, 1), (82, 1), (111, 1), (126, 1), (143, 1), (162, 1), (164, 2), (170, 1), (200, 1), (201, 1), (261, 1), (295, 1), (316, 1), (385, 1), (473, 1), (527, 1), (675, 1), (721, 1), (808, 1), (848, 1), (1047, 1), (1116, 1), (1124, 3), (1132, 1), (1229, 2), (1291, 1), (1325, 1), (1875, 1), (1876, 1), (1877, 1), (1878, 1), (1879, 1)], [(35, 1), (46, 1), (64, 1), (66, 1), (70, 1), (189, 1), (650, 1)], [(3, 2), (8, 1), (13, 1), (20, 1), (27, 1), (29, 1), (30, 1), (60, 1), (63, 1), (68, 1), (73, 3), (77, 1), (82, 1), (86, 2), (90, 2), (91, 1), (94, 2), (100, 1), (101, 1), (102, 1), (130, 1), (133, 1), (138, 1), (145, 2), (147, 1), (162, 1), (170, 1), (175, 1), (208, 1), (218, 1), (223, 1), (239, 1), (249, 1), (268, 1), (269, 1), (299, 1), (323, 1), (445, 1), (447, 2), (451, 1), (470, 1), (528, 1), (563, 1), (591, 1), (627, 2), (630, 1), (631, 1), (851, 1), (908, 1), (941, 1), (1029, 1), (1279, 1), (1429, 1), (1594, 1), (1657, 1), (1880, 1), (1881, 2), (1882, 1), (1883, 1), (1884, 1), (1885, 1), (1886, 1), (1887, 1), (1888, 1)], [(46, 1), (238, 1), (644, 1), (1570, 1)], [(8, 1), (33, 1), (35, 1), (55, 1), (66, 1), (91, 1), (93, 1), (98, 1), (105, 1), (129, 1), (131, 1), (133, 1), (183, 2), (345, 1), (412, 1), (463, 1), (464, 1), (501, 1), (626, 1), (1006, 1), (1889, 1), (1890, 1), (1891, 1), (1892, 1)], [(45, 1), (133, 1), (473, 1), (482, 1), (1893, 1)], [(13, 1), (55, 1), (66, 1), (71, 1), (82, 1), (145, 1), (215, 1), (539, 1), (865, 1), (908, 1), (934, 1), (1088, 1), (1894, 1)], [(31, 1), (45, 1), (73, 1)], [(19, 1), (55, 1), (70, 1), (78, 1), (123, 1), (507, 1)], [(19, 1), (73, 1), (253, 1), (277, 1)], [(745, 1)], [(24, 1), (70, 1), (315, 1), (1895, 1)], [(0, 1), (9, 1), (45, 1), (73, 1), (90, 1), (167, 1), (451, 1)], [(0, 1), (10, 1), (12, 1), (26, 3), (27, 1), (33, 1), (53, 2), (70, 1), (100, 1), (167, 1), (255, 1), (267, 1), (280, 1), (287, 1), (402, 1), (443, 1), (488, 1), (514, 2), (535, 1), (596, 1), (599, 1), (626, 1), (814, 1), (829, 1), (848, 1), (850, 1), (998, 1), (1043, 1), (1325, 1), (1896, 1)], [(55, 1), (70, 1), (77, 1), (249, 1), (290, 1), (498, 1), (1897, 1), (1898, 1), (1899, 1)], [(46, 1), (265, 1)], [(45, 1), (48, 1), (132, 1), (137, 1)], [(0, 1), (3, 1), (45, 1), (64, 1), (152, 1), (167, 1), (261, 1), (996, 1), (1221, 1), (1677, 1), (1900, 1)], [(0, 1), (13, 1), (24, 1), (31, 1), (45, 1), (64, 1), (72, 1), (82, 1), (100, 1), (102, 1), (105, 1), (145, 2), (158, 1), (189, 1), (261, 1), (476, 1), (492, 1), (535, 1), (549, 1), (591, 1), (613, 2), (627, 2), (919, 1), (963, 1), (1438, 1), (1901, 1)], [(96, 1)], [(12, 1), (42, 1), (45, 1), (46, 1), (102, 1), (219, 1), (1902, 1)], [(26, 1), (46, 1)], [(46, 1), (55, 1), (66, 1), (73, 1), (189, 1), (285, 1)], [(12, 1), (50, 1), (60, 1)], [(27, 1), (36, 1), (73, 1), (94, 1), (717, 1)], [(26, 1), (111, 1), (269, 1), (285, 1), (356, 1), (834, 1), (998, 1), (1392, 1)], [(35, 1), (66, 1), (96, 1), (100, 2), (101, 1), (386, 1)], [(10, 1), (16, 1), (471, 1), (1170, 1)], [(20, 2), (33, 1), (35, 1), (41, 1), (45, 1), (60, 1), (68, 1), (77, 1), (152, 1), (202, 1), (211, 1), (415, 1), (726, 1), (1426, 1)], [(96, 1)], [(86, 1), (90, 1), (103, 1), (170, 1), (186, 1), (215, 1)], [(12, 1), (18, 2), (20, 2), (55, 1), (71, 1), (91, 1), (93, 2), (102, 1), (170, 1), (179, 1), (223, 1), (377, 1), (528, 1), (549, 1), (1903, 1)], [(16, 1), (55, 2), (70, 1), (100, 1), (104, 1), (116, 1), (145, 1), (183, 1), (328, 1), (426, 1), (668, 1), (1904, 1)], [(8, 1), (23, 1)], [(20, 1), (29, 1), (33, 1), (64, 1), (142, 1), (249, 1), (315, 1)], [(10, 1), (16, 1), (20, 1), (55, 2), (104, 1), (170, 2), (290, 1)], [(132, 1), (1287, 1)], [(23, 1), (25, 1), (70, 1), (102, 1)], [(13, 1), (43, 1), (63, 1), (64, 1), (70, 1), (80, 1), (371, 1)], [(45, 2), (70, 1), (132, 1)], [(9, 1), (13, 1), (48, 1), (55, 2), (70, 1), (84, 1), (94, 1), (123, 1), (179, 1), (251, 1), (261, 1), (299, 1), (394, 1), (482, 1), (507, 1), (542, 1)], [(0, 2), (11, 1), (45, 1), (111, 1), (261, 1), (378, 1), (519, 1), (765, 1), (1594, 1), (1905, 1)], [(55, 1), (63, 1), (70, 1), (94, 1), (100, 1), (151, 1)], [(223, 1)], [(4, 1), (17, 1), (44, 1), (46, 1), (58, 1), (64, 1), (74, 1), (90, 1), (101, 1), (103, 1), (171, 1), (251, 1), (547, 1), (856, 1), (1254, 1), (1906, 1)], [(48, 1), (182, 1), (775, 1), (1174, 1), (1193, 1), (1560, 1), (1561, 1)], [(21, 1), (70, 1), (71, 1), (105, 1), (116, 1), (249, 1), (545, 1), (549, 1), (576, 1), (927, 1)], [(9, 1), (132, 1), (133, 1), (834, 1)], [(12, 1), (19, 1), (21, 1), (35, 1), (48, 1), (64, 1), (130, 1)], [(96, 1)], [(0, 1), (3, 1), (18, 1), (20, 1), (71, 1), (102, 1), (223, 1)], [(27, 1), (68, 1), (77, 1), (165, 1), (170, 1), (189, 1), (514, 1), (535, 1), (1907, 1), (1908, 1)], [(33, 1), (35, 1), (66, 1), (96, 1), (145, 1), (152, 1), (186, 1), (189, 1)], [(35, 1), (46, 1)], [(20, 1), (46, 1)], [(45, 1), (70, 1), (77, 1), (121, 1), (137, 1), (139, 1), (145, 1), (186, 1), (385, 1), (598, 1), (668, 1), (734, 1), (919, 1), (1399, 1), (1909, 1)], [(31, 1), (46, 1), (64, 1), (76, 1), (100, 1), (101, 1), (191, 1), (198, 1), (276, 1), (548, 2), (1910, 1), (1911, 1)], [(315, 1)], [(0, 1), (26, 1), (29, 1), (35, 1), (44, 1), (45, 1), (46, 1), (55, 1), (66, 1), (100, 2), (102, 1), (208, 1), (263, 1), (473, 1), (528, 1), (572, 1), (606, 1), (1438, 1)], [(103, 1)], [(35, 1), (66, 1), (70, 1), (73, 1), (116, 1), (138, 1), (146, 1), (371, 1), (387, 1)], [(13, 1), (19, 1), (48, 1), (73, 1), (1912, 1), (1913, 1)], [(68, 1), (70, 1), (105, 1), (167, 1), (273, 1), (720, 1), (932, 1), (955, 1)], [(11, 1), (12, 1), (15, 1), (17, 1), (23, 2), (24, 1), (35, 1), (55, 2), (66, 1), (100, 1), (107, 1), (442, 1), (443, 1), (446, 1), (493, 1), (890, 1), (1116, 1), (1469, 1), (1914, 1), (1915, 1), (1916, 1)], [(45, 1), (55, 1), (71, 1), (74, 1), (84, 1), (102, 1), (184, 1), (315, 1), (579, 1), (1119, 1), (1160, 1), (1564, 1)], [(104, 1), (1917, 1)], [(64, 1), (66, 1), (100, 1), (145, 1), (154, 1), (328, 1), (501, 1), (1720, 1)], [(70, 1), (539, 1)], [(12, 1), (15, 1), (23, 1), (24, 1), (26, 1), (39, 3), (45, 1), (46, 2), (55, 3), (57, 2), (60, 1), (64, 1), (81, 2), (100, 1), (102, 1), (103, 2), (132, 1), (186, 1), (215, 1), (222, 3), (243, 1), (282, 2), (328, 1), (386, 1), (443, 1), (446, 1), (451, 1), (473, 1), (535, 2), (547, 1), (674, 1), (722, 1), (984, 1), (1029, 1), (1047, 1), (1106, 1), (1270, 1), (1599, 1), (1918, 1), (1919, 2)], [(63, 1), (64, 1), (94, 1)], [(3, 1), (13, 1), (19, 1), (26, 1), (33, 1), (35, 1), (45, 3), (46, 1), (55, 1), (60, 1), (66, 1), (68, 1), (70, 1), (77, 1), (80, 1), (92, 1), (94, 1), (118, 1), (121, 1), (133, 1), (145, 1), (186, 1), (328, 1), (394, 2), (444, 1), (507, 1), (540, 1), (574, 1), (989, 1)], [(96, 1)], [(3, 1), (12, 1), (20, 1), (21, 2), (33, 1), (35, 1), (36, 1), (41, 1), (46, 1), (55, 1), (60, 2), (65, 1), (66, 1), (100, 1), (102, 3), (103, 1), (131, 1), (142, 1), (249, 1), (253, 1), (298, 1), (315, 1), (345, 1), (405, 1), (489, 1), (539, 1), (594, 1), (824, 1), (1047, 1), (1055, 1), (1091, 1), (1111, 1), (1748, 1), (1792, 1)], [(315, 1)], [(21, 1), (35, 1), (46, 1), (66, 1), (1534, 1)], [(48, 1), (68, 1), (132, 1), (149, 1), (955, 1)], [(3, 1), (10, 1), (12, 1), (33, 1), (45, 1), (55, 1), (73, 2), (75, 1), (93, 1), (94, 1), (131, 1), (225, 1), (354, 1), (389, 1), (513, 1), (539, 1), (722, 1), (1436, 1), (1920, 1), (1921, 1), (1922, 2)], [(9, 1), (12, 1), (55, 1), (64, 1), (70, 1), (82, 1), (166, 1), (626, 1), (1187, 1), (1923, 1), (1924, 1)], [(3, 1), (19, 1), (23, 1), (48, 1), (50, 1), (55, 1), (67, 1), (73, 1), (145, 1), (224, 1), (438, 1), (472, 1), (572, 1), (1452, 1)], [(9, 1), (23, 1), (96, 1), (99, 1), (594, 1), (1487, 1)], [(19, 1), (27, 1), (44, 1), (46, 1), (70, 1), (99, 1), (170, 1), (225, 1), (253, 1), (491, 1), (984, 1), (1021, 1), (1106, 1), (1925, 1)], [(10, 2), (16, 2), (20, 2), (35, 1), (55, 1), (60, 1), (68, 1), (73, 3), (224, 1), (249, 1), (311, 1), (415, 1), (428, 1), (483, 1), (507, 1), (548, 1), (927, 1), (1610, 1), (1926, 1)], [(12, 1), (45, 2), (102, 1)], [(55, 1), (80, 1), (552, 1), (775, 1), (1055, 1)], [(9, 1), (19, 1), (45, 1), (48, 1), (55, 5), (68, 1), (70, 2), (73, 4), (77, 1), (78, 1), (79, 1), (88, 1), (99, 1), (100, 1), (106, 1), (115, 1), (116, 1), (121, 3), (145, 1), (149, 2), (170, 1), (188, 1), (194, 1), (269, 1), (333, 1), (377, 1), (378, 2), (505, 1), (604, 1), (626, 2), (737, 1), (749, 1), (846, 1), (850, 1), (1190, 1), (1233, 1), (1312, 1), (1329, 1), (1927, 1), (1928, 1), (1929, 1), (1930, 1)], [(20, 1), (71, 1), (152, 2), (305, 1), (627, 1), (1125, 1), (1521, 1)], [(45, 1), (59, 1), (227, 1), (425, 1)], [(4, 1), (13, 1), (41, 1), (46, 1), (91, 1), (93, 1), (100, 1), (107, 1), (138, 1), (174, 1), (312, 1), (387, 1), (394, 1), (425, 2), (475, 1), (504, 1)], [(9, 1), (18, 1), (19, 1), (20, 1), (23, 1), (28, 1), (33, 1), (45, 1), (48, 1), (55, 2), (67, 1), (74, 1), (77, 1), (100, 2), (133, 1), (275, 1), (293, 1), (370, 1), (386, 1), (388, 1), (493, 1), (510, 1), (875, 1), (932, 1), (942, 1), (1931, 1), (1932, 1), (1933, 1)], [(26, 1), (96, 1)], [(12, 1), (35, 4), (55, 2), (74, 1), (79, 1), (130, 1), (183, 3), (364, 1), (459, 1), (489, 1), (549, 1), (633, 1), (1270, 1), (1934, 1), (1935, 1)], [(35, 1), (45, 1)], [(36, 1), (55, 1), (64, 2), (67, 1), (93, 1), (132, 1), (170, 1), (183, 1), (276, 1), (315, 1), (364, 1), (473, 1), (475, 1), (633, 1), (859, 1), (1096, 1), (1936, 1)], [(12, 1), (16, 1), (102, 1), (499, 1)], [(35, 1), (46, 1), (55, 1), (66, 1), (96, 1), (101, 1), (115, 1), (170, 1), (189, 1), (202, 1), (1455, 1)], [(20, 1), (96, 1), (508, 1)], [(18, 1), (19, 1), (44, 1), (55, 1), (68, 1), (75, 1), (77, 1), (100, 1), (115, 1), (158, 1), (208, 1), (275, 1), (438, 1), (1229, 1), (1920, 1)], [(27, 1), (29, 1), (55, 1), (170, 1), (330, 1), (660, 1), (1429, 1), (1539, 1)], [(0, 1), (10, 1), (45, 1), (55, 1), (68, 1), (70, 1), (77, 1), (102, 1)], [(0, 1), (3, 1), (8, 4), (24, 1), (35, 1), (45, 1), (55, 1), (59, 3), (67, 1), (70, 1), (78, 1), (100, 1), (106, 1), (164, 1), (225, 1), (312, 1), (315, 1), (482, 1), (721, 1), (981, 1), (1367, 1), (1469, 1)], [(29, 1), (71, 1), (90, 1), (514, 1)], [(3, 1), (6, 1), (46, 1), (265, 1), (595, 1), (746, 1)], [(48, 1), (438, 1)], [(46, 1), (64, 1)], [(16, 1), (55, 1), (94, 1), (549, 1)], [(45, 1), (132, 1), (184, 1), (549, 1)], [(0, 1), (11, 1), (13, 1), (20, 1), (46, 1), (48, 2), (55, 1), (60, 1), (63, 1), (71, 1), (102, 1), (107, 1), (191, 1), (253, 2), (370, 1), (394, 1), (1042, 1), (1436, 1), (1937, 1)], [(24, 1), (35, 1), (66, 1), (73, 1), (101, 1), (107, 1), (132, 1), (170, 1), (371, 1), (1146, 1), (1405, 1)], [(12, 1), (46, 1), (48, 1), (59, 1), (96, 1), (364, 1), (1187, 1), (1938, 1), (1939, 1)], [(12, 2), (13, 1), (20, 1), (66, 1), (77, 1), (96, 2), (125, 1), (183, 1), (298, 1), (726, 1), (831, 1)], [(12, 1), (21, 1), (41, 1), (48, 1), (59, 1), (68, 1), (71, 1), (77, 1), (82, 1), (100, 1), (107, 1), (170, 1), (531, 1), (1508, 1), (1940, 1)], [(64, 1), (107, 1), (210, 1), (216, 1), (312, 1)], [(12, 1), (33, 1), (55, 1), (60, 1), (71, 1), (73, 1), (94, 1), (167, 1), (316, 1), (1140, 1), (1941, 1)], [(18, 1), (24, 1)], [(53, 1), (80, 1), (191, 1), (370, 1), (557, 1)], [(863, 1)], [(19, 2), (20, 2), (31, 1), (44, 1), (46, 1), (55, 2), (64, 1), (68, 1), (75, 1), (77, 1), (101, 1), (107, 1), (132, 1), (142, 1), (147, 1), (191, 1), (200, 1), (211, 1), (231, 1), (371, 1), (507, 1), (528, 1), (529, 1), (781, 1), (1218, 1)], [(8, 1), (10, 1), (13, 1), (19, 1), (35, 2), (41, 1), (55, 1), (66, 1), (100, 2), (102, 1), (106, 1), (133, 1), (184, 1), (186, 1), (244, 1), (276, 2), (280, 1), (365, 1), (385, 1), (392, 1), (467, 1), (548, 1), (648, 1), (649, 1), (691, 1), (721, 1), (781, 1), (948, 1), (1204, 1), (1455, 1), (1942, 1)], [(224, 1)], [(46, 1), (75, 1), (82, 1), (205, 1), (210, 1), (928, 1)], [(26, 1), (46, 1), (101, 1), (170, 1), (293, 1), (726, 1)], [(46, 1), (132, 1)], [(0, 1), (12, 1), (26, 1), (55, 1), (62, 1), (100, 1), (102, 2), (103, 1), (174, 1), (394, 1), (726, 1), (1111, 1), (1943, 1)], [(12, 1), (15, 1), (20, 1), (48, 1), (50, 1), (71, 1), (93, 1), (100, 1), (103, 1), (183, 1), (219, 1), (251, 1), (290, 1), (453, 1), (473, 1)], [(45, 1), (927, 1)], [(13, 2), (27, 1), (33, 2), (44, 1), (55, 2), (60, 1), (71, 2), (73, 1), (111, 1), (137, 1), (152, 1), (167, 1), (261, 1), (616, 1), (927, 1), (1944, 1), (1945, 1)], [(0, 1), (16, 1), (68, 1), (77, 1), (86, 1), (91, 1), (431, 1), (434, 1)], [(64, 1)], [(26, 1), (70, 1), (94, 1), (121, 1), (315, 1), (338, 1), (1946, 1)], [(12, 1), (45, 1), (65, 1), (514, 1), (539, 1)], [(9, 1), (223, 1)], [(371, 1), (1947, 1)], [(9, 1), (31, 1), (55, 1), (100, 1), (101, 1), (148, 1), (167, 1), (475, 1), (482, 1), (720, 1)], [(10, 1), (16, 1), (46, 1)], [(46, 1), (414, 1)], [(26, 1), (46, 1), (66, 1), (690, 1), (1948, 1)], [(5, 1), (12, 1), (20, 1), (27, 1), (46, 2), (63, 1), (64, 1), (70, 1), (73, 1), (74, 1), (88, 1), (528, 1), (726, 1)], [(3, 1), (9, 1), (12, 2), (16, 2), (18, 1), (19, 1), (23, 1), (24, 1), (25, 1), (26, 4), (33, 1), (36, 5), (41, 1), (48, 1), (55, 8), (58, 1), (61, 1), (64, 3), (66, 1), (67, 2), (70, 2), (72, 1), (73, 4), (79, 1), (82, 1), (88, 2), (93, 1), (94, 2), (98, 3), (100, 1), (102, 1), (103, 1), (104, 1), (121, 1), (131, 1), (137, 1), (138, 1), (148, 1), (158, 1), (162, 2), (170, 1), (177, 1), (180, 1), (181, 1), (184, 1), (186, 2), (206, 1), (209, 2), (211, 1), (223, 1), (234, 1), (249, 1), (253, 1), (261, 1), (273, 1), (296, 1), (311, 1), (312, 3), (316, 1), (365, 1), (399, 1), (400, 1), (409, 1), (414, 1), (425, 2), (428, 1), (431, 1), (434, 1), (444, 2), (464, 1), (472, 1), (476, 1), (496, 1), (501, 1), (527, 1), (531, 1), (547, 1), (604, 1), (625, 1), (630, 1), (631, 1), (658, 1), (666, 2), (706, 1), (742, 2), (744, 1), (746, 1), (812, 1), (814, 1), (918, 1), (943, 1), (998, 1), (1012, 1), (1037, 1), (1047, 1), (1081, 1), (1111, 1), (1200, 1), (1212, 1), (1219, 1), (1229, 1), (1563, 1), (1629, 1), (1686, 1), (1735, 1), (1949, 1), (1950, 1), (1951, 1), (1952, 1), (1953, 1), (1954, 1), (1955, 1), (1956, 1), (1957, 1), (1958, 1), (1959, 1), (1960, 1)], [(45, 1), (53, 1), (70, 1), (186, 1), (215, 1)], [(45, 1), (402, 1)], [(19, 1), (145, 1), (613, 1), (1593, 1)], [(46, 1), (132, 1)], [(46, 1), (70, 1)], [(64, 1), (78, 1), (132, 1), (191, 1), (253, 1), (316, 1), (479, 1), (585, 1)], [(9, 1), (20, 1), (73, 1), (106, 1), (107, 2), (162, 1), (170, 1), (197, 1), (214, 1), (392, 1), (463, 1), (464, 1), (511, 1), (598, 1), (690, 1), (1346, 1)], [(12, 1), (20, 1), (29, 1), (33, 1), (48, 1), (52, 1), (64, 1), (73, 2), (100, 1), (101, 1), (128, 1), (167, 1), (228, 1), (253, 1), (275, 1), (280, 1), (348, 1), (361, 1), (364, 1), (491, 1), (508, 1), (558, 1), (926, 1), (976, 1), (982, 1), (1729, 1)], [(0, 1), (21, 1), (24, 2), (35, 1), (36, 2), (45, 2), (53, 1), (55, 1), (63, 1), (66, 1), (67, 1), (80, 1), (94, 1), (98, 4), (100, 1), (109, 1), (126, 2), (133, 1), (170, 1), (186, 1), (197, 1), (211, 1), (216, 1), (239, 1), (293, 1), (311, 1), (316, 1), (356, 1), (385, 1), (409, 1), (473, 1), (500, 1), (568, 1), (581, 1), (765, 3), (811, 1), (1407, 1), (1564, 1), (1610, 1), (1653, 1), (1961, 1), (1962, 1)], [(70, 1), (989, 1)], [(254, 1), (261, 1), (1963, 1), (1964, 1)], [(9, 1), (19, 2), (26, 1), (30, 1), (33, 2), (44, 1), (55, 1), (62, 1), (68, 1), (77, 1), (131, 1), (145, 1), (560, 1), (817, 1), (837, 1), (1004, 1)], [(0, 1), (3, 1), (12, 1), (622, 1)], [(3, 1), (13, 1), (16, 1), (26, 1), (29, 1), (33, 1), (55, 2), (70, 1), (72, 1), (94, 1), (100, 1), (103, 2), (104, 1), (121, 1), (123, 1), (178, 1), (180, 1), (319, 1), (598, 1), (604, 1), (817, 1), (1055, 1), (1178, 1), (1179, 1), (1474, 1), (1518, 1)], [(35, 1), (46, 2), (70, 1), (102, 1), (105, 1)], [(20, 1), (119, 1), (130, 1), (132, 1), (195, 1), (345, 1), (1965, 1)], [(8, 1), (9, 1), (20, 1), (48, 1), (54, 1), (125, 1), (264, 1), (1966, 1)], [(12, 1), (21, 1), (28, 1), (35, 1), (45, 1), (46, 1), (48, 1), (68, 1), (77, 1), (102, 1)], [(9, 4), (11, 3), (17, 1), (20, 1), (26, 1), (55, 3), (64, 1), (93, 1), (98, 2), (101, 2), (105, 1), (143, 1), (170, 2), (225, 1), (253, 1), (272, 1), (856, 1), (981, 1), (1254, 1), (1815, 1), (1967, 1)], [(96, 1)], [(26, 1), (45, 1)], [(46, 1), (64, 1)], [(15, 1), (20, 1), (23, 1), (45, 1), (55, 1), (60, 1), (66, 1), (73, 1), (88, 1), (96, 1), (175, 1), (186, 1), (189, 1), (214, 1), (370, 1), (482, 1), (1047, 1)], [(23, 1), (26, 1), (77, 1), (170, 1), (1968, 1)], [(94, 1)], [(19, 1), (27, 1), (73, 1), (106, 1), (275, 1), (307, 1), (392, 1), (427, 1), (477, 1), (539, 1), (719, 1), (1215, 1), (1969, 1), (1970, 1)], [(80, 1), (989, 1)], [(12, 2), (20, 1), (26, 1), (30, 1), (36, 2), (46, 1), (72, 1), (91, 1), (98, 1), (100, 1), (214, 1), (249, 1), (293, 1), (306, 1), (378, 1), (384, 1), (473, 1), (476, 1), (522, 1), (622, 2), (1971, 1)], [(9, 1), (223, 1)], [(9, 2), (27, 1), (31, 1), (46, 1), (94, 1), (522, 1)], [(0, 1), (3, 1), (12, 1), (16, 1), (31, 1), (45, 1), (91, 1), (96, 1), (101, 1), (389, 1), (585, 1), (1107, 1), (1149, 1), (1972, 1)], [(0, 1), (3, 1), (8, 1), (12, 2), (15, 1), (27, 1), (31, 1), (35, 1), (36, 1), (46, 1), (53, 1), (54, 1), (64, 1), (65, 1), (66, 1), (102, 1), (106, 2), (107, 1), (132, 1), (133, 1), (148, 1), (152, 1), (161, 1), (186, 1), (198, 1), (202, 1), (348, 1), (377, 1), (392, 1), (491, 1), (524, 1), (588, 1), (643, 1), (675, 1), (806, 1), (982, 1), (1221, 1), (1311, 1), (1641, 1), (1973, 1), (1974, 1), (1975, 1), (1976, 1)], [(46, 1), (55, 1), (64, 1)], [(13, 1), (16, 1), (26, 2), (35, 2), (36, 1), (64, 1), (66, 2), (70, 1), (79, 1), (100, 1), (107, 2), (126, 1), (132, 1), (189, 1), (243, 1), (316, 1), (345, 1), (357, 1), (519, 1), (560, 1), (690, 1), (914, 1), (1013, 1), (1385, 1), (1455, 1), (1559, 1), (1677, 1), (1977, 1), (1978, 1), (1979, 1)], [(24, 1), (53, 1), (70, 1), (105, 1), (207, 1), (307, 1), (607, 1), (615, 1), (911, 1)], [(9, 1), (45, 1), (55, 1), (70, 1), (116, 1), (133, 1)], [(9, 2), (12, 1), (17, 2), (19, 1), (20, 1), (26, 2), (35, 1), (41, 2), (67, 1), (74, 1), (107, 1), (111, 2), (127, 1), (138, 1), (139, 1), (142, 1), (198, 1), (295, 1), (361, 1), (364, 1), (385, 1), (497, 1), (627, 1), (679, 1), (834, 1), (890, 1), (1006, 1), (1671, 1), (1980, 1), (1981, 1), (1982, 1), (1983, 1), (1984, 1), (1985, 1), (1986, 1), (1987, 1)], [(12, 1), (19, 1), (20, 1), (43, 1), (55, 3), (66, 1), (111, 1), (115, 1), (182, 1), (191, 1), (290, 1), (312, 1), (314, 1), (354, 1), (370, 1), (465, 1), (476, 1), (721, 1), (1227, 1), (1988, 1), (1989, 1), (1990, 1)], [(3, 1), (9, 1), (10, 1), (12, 2), (13, 1), (16, 1), (19, 1), (23, 1), (27, 1), (50, 2), (55, 1), (60, 2), (64, 3), (65, 1), (71, 1), (73, 2), (82, 1), (88, 1), (102, 1), (103, 1), (116, 1), (128, 1), (145, 1), (216, 1), (253, 1), (261, 1), (263, 1), (305, 1), (320, 1), (378, 1), (426, 1), (448, 1), (482, 1), (519, 1), (539, 1), (586, 1), (658, 1), (848, 1), (850, 3), (883, 1), (942, 1), (984, 1), (1197, 1), (1430, 1), (1568, 1), (1846, 1), (1904, 1), (1991, 1), (1992, 1)], [(13, 1), (28, 1), (35, 1), (63, 1), (111, 1), (535, 1), (626, 1), (706, 1), (814, 1), (1130, 1)], [(0, 1), (3, 1), (9, 1), (12, 1), (13, 1), (16, 1), (19, 1), (24, 1), (26, 2), (27, 1), (35, 1), (39, 1), (46, 1), (55, 2), (64, 3), (75, 1), (82, 1), (86, 1), (93, 1), (99, 1), (100, 2), (102, 1), (107, 1), (115, 1), (170, 2), (191, 2), (205, 1), (314, 1), (789, 1), (859, 1), (1993, 1), (1994, 1), (1995, 1)], [(12, 2), (24, 1), (35, 1), (41, 1), (82, 1), (102, 1), (107, 1), (136, 1), (198, 1), (210, 1), (211, 2), (280, 1), (364, 1), (378, 1), (406, 1), (548, 1), (598, 1), (1329, 1)], [(9, 1), (15, 1), (20, 1), (27, 1), (44, 1), (55, 1), (73, 1), (74, 1), (82, 1), (115, 1), (195, 1), (214, 1), (223, 1), (249, 2), (310, 1), (392, 1), (717, 1), (726, 1)], [(45, 1)], [(9, 1), (35, 1), (55, 1), (67, 1), (70, 1), (100, 1), (116, 3), (145, 1), (175, 1), (404, 1), (547, 1), (549, 1), (846, 1), (1225, 1), (1344, 1)], [(3, 1), (12, 1), (27, 1), (54, 1), (55, 1), (61, 1), (73, 3), (90, 1), (99, 1), (100, 2), (106, 1), (162, 1), (180, 1), (208, 2), (261, 1), (269, 1), (320, 1), (406, 1), (444, 1), (464, 1), (465, 1), (490, 1), (504, 1), (527, 1), (533, 1), (624, 1), (650, 1), (673, 1), (715, 1), (764, 1), (799, 1), (808, 1), (1144, 2), (1262, 1), (1330, 1), (1371, 1), (1598, 1), (1626, 1), (1662, 1), (1692, 1), (1707, 1), (1752, 1), (1996, 1), (1997, 1), (1998, 1), (1999, 1), (2000, 1), (2001, 1), (2002, 1), (2003, 1)], [(9, 1), (18, 1), (20, 1), (55, 1), (70, 1), (123, 1), (456, 1)], [(45, 1), (75, 1), (186, 1), (280, 1), (549, 1), (863, 1), (2004, 1)], [(0, 1), (10, 1), (12, 2), (14, 1), (20, 1), (26, 2), (35, 1), (44, 1), (55, 3), (64, 2), (68, 2), (71, 1), (77, 2), (100, 1), (106, 1), (107, 2), (110, 1), (130, 1), (132, 1), (139, 1), (170, 1), (183, 1), (198, 2), (214, 1), (249, 2), (389, 1), (451, 1), (482, 1), (496, 1), (533, 1), (609, 1), (648, 1), (668, 1), (677, 1), (699, 1), (942, 1), (957, 1), (1006, 1), (1518, 1), (2005, 1), (2006, 1)], [(3, 1), (4, 1), (9, 1), (10, 1), (12, 1), (13, 4), (17, 1), (18, 2), (19, 3), (20, 1), (33, 1), (35, 3), (45, 1), (46, 2), (55, 8), (58, 1), (59, 1), (64, 3), (66, 4), (73, 2), (78, 1), (79, 1), (90, 1), (91, 2), (94, 1), (96, 1), (100, 4), (102, 1), (103, 1), (137, 1), (145, 2), (151, 1), (158, 1), (167, 1), (185, 1), (211, 1), (214, 1), (249, 1), (255, 1), (256, 1), (263, 1), (267, 1), (312, 1), (365, 1), (377, 2), (444, 1), (505, 1), (507, 2), (523, 1), (531, 1), (536, 1), (559, 1), (580, 1), (588, 1), (656, 1), (691, 1), (751, 1), (847, 1), (856, 1), (908, 1), (1200, 1), (1359, 1), (1405, 1), (1455, 1), (1558, 1), (1938, 1), (2007, 1), (2008, 1), (2009, 1), (2010, 1), (2011, 1), (2012, 1)], [(60, 1), (107, 1), (348, 1), (425, 1), (691, 1)], [(105, 1)], [(0, 1), (3, 1), (12, 1), (33, 1), (88, 1), (101, 1), (152, 1), (238, 1), (361, 1), (1534, 1)], [(0, 1), (3, 2), (13, 1), (16, 1), (26, 1), (27, 1), (46, 1), (55, 1), (70, 1), (74, 1), (75, 1), (101, 1), (123, 1), (167, 1), (170, 1), (364, 1), (394, 1), (497, 1), (717, 1), (720, 1), (726, 1), (1248, 1), (2013, 1)], [(9, 1), (15, 1), (19, 1), (20, 1), (36, 1), (41, 1), (46, 1), (55, 4), (59, 3), (70, 2), (73, 1), (82, 1), (88, 1), (106, 1), (116, 1), (137, 1), (143, 1), (145, 1), (147, 1), (170, 1), (198, 1), (228, 1), (261, 1), (298, 2), (425, 1), (437, 1), (473, 1), (482, 1), (499, 1), (514, 1), (549, 1), (604, 1), (648, 1), (847, 1), (989, 1), (1282, 1), (1302, 1), (1589, 1), (1887, 1), (2014, 1), (2015, 1)], [(29, 1), (33, 1), (55, 1), (64, 1), (68, 1), (77, 1), (100, 1), (169, 1), (235, 1), (499, 1), (1144, 1), (1460, 1), (2016, 1)], [(12, 1), (19, 1), (228, 1), (354, 1)], [(9, 1), (12, 2), (13, 1), (19, 1), (23, 1), (33, 1), (36, 1), (44, 2), (46, 2), (53, 1), (55, 1), (63, 1), (64, 1), (71, 2), (73, 1), (82, 1), (99, 1), (100, 1), (102, 1), (107, 1), (191, 1), (215, 1), (249, 1), (386, 2), (406, 1), (522, 1), (535, 1), (624, 1), (942, 1), (998, 1), (1012, 1), (1807, 1), (1991, 1), (2017, 1), (2018, 1), (2019, 1), (2020, 1)], [(48, 1), (96, 1), (394, 1), (616, 1)], [(10, 1), (12, 2), (14, 1), (16, 2), (30, 1), (35, 1), (50, 2), (73, 1), (91, 1), (138, 1), (208, 1), (611, 1), (649, 1), (924, 1), (1204, 1), (1314, 2), (1610, 1), (2021, 1), (2022, 1), (2023, 1), (2024, 1), (2025, 1), (2026, 1)], [(9, 1), (15, 1), (54, 1), (60, 1), (125, 1)], [(45, 1), (103, 1)], [(70, 1), (105, 1)], [(13, 1), (20, 2), (30, 1), (33, 1), (41, 1), (63, 1), (74, 1), (82, 1), (91, 1), (100, 1), (142, 1), (152, 1), (908, 1), (2027, 1)], [(20, 1), (45, 1), (68, 1), (73, 1), (77, 1), (142, 1)], [(63, 1), (101, 1), (109, 1), (170, 1)], [(13, 1), (19, 1), (26, 1), (33, 1), (131, 1), (496, 1), (1287, 1), (1501, 1)], [(94, 1), (116, 1), (146, 1), (328, 1), (378, 1), (775, 1), (989, 1), (1439, 1)], [(15, 1), (19, 1), (20, 2), (21, 1), (29, 1), (48, 1), (54, 1), (61, 1), (68, 1), (72, 1), (77, 1), (78, 1), (115, 2), (121, 1), (170, 1), (191, 1), (219, 1), (278, 1), (370, 1), (377, 1), (535, 1), (547, 1), (715, 1), (814, 1), (829, 1), (873, 1)], [(64, 1)], [(12, 1), (35, 1), (46, 1), (48, 1), (50, 1), (138, 1), (404, 1), (1193, 1)], [(13, 1), (20, 1), (24, 1), (46, 2), (55, 1), (70, 1), (162, 1), (169, 1), (384, 1), (452, 1), (482, 1), (1310, 1)], [(45, 1), (60, 1), (102, 1), (115, 1)], [(20, 1), (91, 1), (214, 1), (249, 1), (549, 1)], [(6, 1), (46, 1), (64, 1)], [(46, 1), (55, 1), (70, 2), (103, 1), (116, 1), (2028, 1)], [(8, 1), (10, 1), (12, 1), (16, 1), (29, 1), (30, 1), (33, 1), (46, 1), (98, 1), (102, 1), (149, 1), (170, 1), (365, 1), (1047, 1)], [(19, 1), (80, 1), (118, 1), (328, 1), (378, 1), (563, 1), (668, 1), (1088, 1)], [(3, 1), (12, 2), (39, 1), (55, 2), (59, 1), (60, 1), (70, 1), (72, 1), (73, 2), (94, 2), (96, 1), (100, 1), (103, 1), (107, 2), (133, 1), (139, 1), (215, 1), (261, 1), (312, 1), (314, 1), (316, 2), (407, 1), (519, 1), (865, 1), (1237, 1), (1426, 1), (2029, 1)], [(9, 1), (55, 1), (63, 1), (70, 2), (98, 1), (116, 2), (123, 1), (133, 1), (149, 1), (209, 1), (261, 1), (308, 1), (309, 2), (471, 1), (510, 1), (770, 1), (1111, 1), (1435, 1), (2030, 1)], [(20, 2), (41, 2), (70, 1), (103, 1), (152, 2), (834, 1), (998, 1)], [(0, 1), (4, 1), (9, 1), (13, 1), (19, 2), (20, 3), (23, 1), (26, 2), (27, 1), (36, 1), (55, 1), (60, 1), (64, 1), (67, 1), (68, 1), (71, 1), (77, 1), (100, 1), (101, 1), (107, 1), (122, 1), (135, 1), (214, 1), (228, 1), (261, 1), (312, 1), (354, 1), (442, 1), (454, 1), (482, 1), (508, 1), (547, 1), (789, 1), (942, 1), (970, 1), (1047, 1), (1510, 1), (1580, 1), (1724, 1)], [(0, 1), (58, 1), (100, 1), (336, 1), (498, 1), (2031, 1)], [(46, 1), (70, 1), (1594, 1)], [(19, 1), (46, 1), (55, 1), (59, 1), (73, 1), (115, 2), (132, 1), (183, 1), (312, 1), (381, 1), (613, 1), (1251, 1), (2004, 1), (2032, 1)], [(12, 1), (16, 1), (46, 1), (50, 1), (60, 1), (126, 1), (298, 1), (443, 1), (497, 1), (927, 1)], [(8, 2), (13, 1), (35, 1), (53, 1), (66, 2), (84, 1), (94, 1), (133, 1), (151, 1), (186, 1), (293, 1), (315, 1), (1061, 1), (1379, 1), (1421, 1), (1510, 1), (1711, 1), (1918, 1)], [(26, 1), (35, 1), (45, 1), (46, 1), (55, 1), (59, 1), (64, 1), (66, 1), (71, 1), (116, 1), (170, 1), (365, 1), (995, 1), (1366, 1)], [(20, 1), (44, 1), (71, 1), (111, 1), (548, 1)], [(46, 1), (116, 1), (130, 1), (862, 1)], [(8, 2), (12, 1), (20, 1), (26, 3), (31, 1), (63, 1), (64, 1), (70, 1), (71, 1), (75, 1), (107, 1), (130, 1), (132, 2), (147, 1), (167, 1), (170, 1), (180, 1), (198, 1), (249, 2), (251, 1), (269, 1), (290, 2), (383, 1), (384, 2), (392, 1), (451, 1), (465, 1), (531, 1), (539, 1), (549, 1), (633, 1), (660, 1), (673, 1), (674, 1), (717, 1), (720, 1), (842, 2), (848, 1), (1429, 1), (1489, 1), (1575, 1), (2033, 1), (2034, 1), (2035, 1), (2036, 1), (2037, 1), (2038, 1)], [(11, 1), (12, 1), (16, 1), (50, 1), (55, 1), (60, 1), (73, 1), (75, 1), (94, 1), (107, 2), (211, 1)], [(55, 1), (63, 1), (70, 1), (121, 1), (296, 1)], [(4, 1), (12, 1), (21, 1), (48, 1), (1908, 1)], [(96, 1), (100, 1), (155, 1)], [(9, 1), (23, 1), (26, 1)], [(54, 1), (239, 1)], [(137, 1), (1108, 1)], [(9, 2), (13, 1), (15, 1), (36, 1), (55, 1), (73, 1), (170, 1), (236, 1), (238, 1), (473, 1), (528, 1), (535, 1), (549, 1)], [(10, 1), (12, 1), (14, 1), (16, 1), (18, 1), (19, 1), (20, 1), (24, 1), (27, 1), (36, 1), (58, 1), (71, 1), (101, 1), (115, 4), (117, 1), (133, 1), (162, 1), (218, 1), (293, 1), (361, 1), (404, 1), (726, 1), (789, 1), (825, 1), (1326, 1), (1560, 1)], [(35, 1), (55, 1), (60, 1), (105, 1)], [(13, 1), (15, 1), (19, 2), (44, 1), (48, 1), (60, 1), (64, 1), (68, 1), (77, 1), (210, 1), (473, 1), (563, 1), (2039, 1)], [(13, 1), (1315, 1), (2040, 1)], [(34, 1), (36, 1), (45, 1), (55, 1), (67, 1), (70, 2), (98, 1), (120, 1), (132, 1), (211, 1), (522, 1), (539, 1), (642, 1)], [(26, 1), (46, 1)], [(20, 1), (23, 1), (59, 1), (71, 1), (107, 1), (126, 1), (170, 1), (249, 1), (305, 1), (644, 1)], [(10, 1), (11, 1), (16, 1), (17, 1), (19, 1), (29, 1), (33, 1), (44, 1), (58, 1), (63, 1), (68, 1), (71, 1), (77, 1), (88, 1), (93, 1), (122, 1), (132, 2), (139, 1), (143, 1), (170, 1), (239, 1), (312, 1), (496, 1), (549, 1), (612, 1), (1013, 1), (1073, 1), (1670, 1), (2041, 1)], [(12, 1), (64, 1), (67, 1), (68, 1), (71, 1), (77, 1), (100, 1), (101, 1), (107, 1), (111, 1), (187, 1), (313, 1), (406, 1), (479, 1), (548, 1)], [(9, 1), (20, 1), (46, 1), (63, 1), (64, 1), (68, 1), (77, 1), (86, 1), (88, 1), (91, 2), (101, 1), (202, 1), (258, 1), (264, 1), (1221, 1), (2042, 1)], [(64, 1), (110, 1), (1664, 1)], [(9, 1), (26, 2), (55, 2), (84, 1), (96, 1), (100, 1), (312, 1), (415, 1), (444, 1), (1153, 1), (1248, 1)], [(70, 1), (123, 1)], [(8, 1), (35, 1), (46, 1), (56, 1), (59, 1), (66, 1), (145, 1), (150, 1), (189, 1), (514, 1), (581, 1), (887, 1), (1094, 2), (1421, 1), (1653, 1), (2043, 1), (2044, 1), (2045, 1)], [(10, 1), (46, 1), (94, 1), (238, 1), (799, 1)], [(12, 1), (46, 1), (107, 1), (185, 1), (378, 1), (668, 1), (1540, 1), (2046, 1)], [(10, 1), (63, 1), (70, 1), (71, 1), (73, 2), (121, 1), (145, 1), (197, 1), (365, 1), (426, 1), (690, 1), (770, 2), (2047, 1), (2048, 1)], [(60, 1), (75, 1), (101, 1), (133, 1), (170, 1), (210, 1), (312, 1), (473, 1), (475, 1), (941, 1), (1912, 1)], [(35, 1), (201, 1), (249, 1)], [(0, 1), (16, 2), (20, 1), (26, 1), (31, 1), (55, 6), (63, 1), (64, 1), (70, 1), (86, 1), (91, 1), (101, 1), (126, 1), (170, 1), (264, 1), (361, 1), (377, 1), (457, 1), (482, 1), (488, 1), (505, 1), (507, 1), (508, 1), (528, 1), (598, 1), (726, 1), (1004, 1), (1047, 1), (1291, 1), (2049, 1), (2050, 1)], [(19, 1), (20, 1), (29, 1), (31, 1), (33, 1), (55, 1), (63, 1), (73, 1), (96, 1), (170, 1), (239, 1), (314, 1), (507, 1), (609, 1), (817, 1), (1117, 1), (1491, 1)], [(2051, 1), (2052, 1), (2053, 1)], [(0, 1), (13, 1), (36, 1), (39, 1), (55, 1), (60, 2), (63, 1), (84, 1), (104, 1), (106, 1), (170, 1), (183, 1), (229, 2), (312, 2), (464, 1), (549, 1), (715, 1), (981, 1), (1047, 1), (1411, 1), (1430, 1), (1810, 1), (2054, 1), (2055, 2)], [(48, 1), (68, 1), (96, 1), (195, 1), (397, 1), (483, 1)], [(31, 1), (46, 2), (77, 1), (394, 1), (447, 1), (466, 1), (547, 1), (2056, 1)], [(10, 1), (12, 1), (16, 1), (19, 1), (20, 1), (44, 1), (55, 1), (71, 2), (145, 1), (149, 1), (158, 1), (300, 1), (451, 1), (539, 1), (883, 1), (1201, 1), (1933, 1)], [(15, 1), (48, 1)], [(8, 1), (20, 2), (27, 1), (31, 1), (33, 1), (45, 1), (74, 1), (100, 1), (101, 1), (157, 1), (169, 2), (170, 1), (223, 1), (280, 2), (459, 1), (464, 1), (527, 1), (673, 1), (726, 1), (764, 1), (848, 1)], [(20, 1), (27, 1), (36, 1), (142, 1), (185, 1), (202, 1), (204, 1), (249, 1), (269, 1), (334, 1), (2057, 1)], [(19, 1), (26, 1), (35, 1), (68, 1), (77, 1), (138, 1), (256, 1), (563, 1), (885, 1), (2050, 1), (2058, 1)], [(11, 1), (12, 1), (26, 1), (78, 1), (82, 1), (102, 1), (106, 1), (180, 1), (674, 1), (719, 1), (989, 1), (2059, 1), (2060, 1)], [(23, 1), (26, 2), (27, 1), (33, 1), (85, 1), (130, 1), (131, 1), (162, 1), (170, 1), (2061, 1), (2062, 1)], [(20, 1), (68, 1), (71, 1), (77, 1), (139, 1), (214, 1), (249, 1), (1006, 1)], [(13, 1), (19, 1), (20, 1), (71, 1), (74, 1), (93, 1), (143, 1), (239, 1), (305, 1), (2063, 1)], [(12, 1), (33, 1), (86, 1), (91, 1), (125, 1), (139, 1), (406, 1), (444, 1), (2004, 1)], [(12, 4), (26, 1), (44, 1), (46, 2), (50, 1), (57, 1), (67, 1), (71, 1), (102, 1), (107, 1), (230, 1), (290, 1), (539, 1), (821, 1)], [(46, 1), (70, 1), (94, 1), (130, 1)], [(9, 1), (31, 1), (46, 2), (64, 1)], [(45, 1), (55, 1), (64, 1), (72, 1), (122, 1), (387, 1), (438, 1)], [(29, 1), (33, 1), (64, 1), (66, 1), (80, 1), (94, 1), (856, 1), (989, 1)], [(20, 1), (29, 1), (70, 1), (72, 1), (251, 1), (451, 1)], [(9, 1), (31, 1), (46, 1), (63, 1), (64, 2), (71, 1), (81, 1), (365, 1), (476, 1), (1205, 1), (1344, 1), (2064, 1)], [(44, 1), (55, 1), (62, 1), (68, 1), (77, 1), (86, 1), (91, 1), (100, 1), (111, 1), (121, 1), (225, 1), (548, 1), (588, 1), (606, 1)], [(9, 1), (32, 1), (45, 1), (63, 1), (70, 1), (102, 1), (522, 1), (627, 1)], [(46, 1), (73, 1)], [(10, 1), (16, 1), (21, 2), (48, 1), (137, 1), (149, 1), (162, 1), (392, 1), (434, 1), (625, 1), (1943, 1), (2065, 1)], [(19, 1), (21, 1), (36, 1), (48, 1), (53, 1), (55, 1), (64, 2), (239, 1), (536, 1), (730, 1), (744, 1), (865, 1), (1062, 1), (2066, 1)], [(0, 1), (29, 1), (31, 1), (71, 1), (725, 1)], [(9, 1), (26, 1), (54, 1), (96, 1), (296, 1), (488, 1), (675, 1), (834, 1), (1153, 1)], [(13, 1), (48, 1), (64, 1), (121, 1), (145, 1), (613, 1), (2067, 1)], [(10, 1), (12, 2), (16, 1), (33, 1), (64, 1), (68, 1), (77, 1), (91, 1), (100, 1), (107, 1), (128, 1), (132, 1), (149, 1), (158, 1), (415, 1), (496, 1), (513, 1), (837, 1), (1073, 1)], [(9, 1), (16, 1), (26, 1), (28, 1), (55, 2), (63, 1), (64, 1), (70, 1), (84, 1), (100, 1), (119, 1), (186, 1), (224, 1), (404, 1), (846, 1), (895, 1), (1936, 1), (2068, 1), (2069, 1), (2070, 1)], [(9, 1), (20, 1), (39, 1), (55, 3), (64, 2), (73, 1), (78, 1), (115, 1), (142, 1), (276, 1), (507, 1), (1202, 1)], [(12, 1), (15, 1), (19, 2), (35, 1), (66, 1), (68, 1), (70, 1), (107, 1), (111, 1), (138, 2), (139, 1), (145, 1), (186, 1), (256, 1), (385, 1), (745, 1), (1025, 1), (1286, 1), (2071, 1)], [(12, 2), (13, 2), (19, 2), (30, 1), (35, 1), (45, 1), (48, 1), (54, 1), (58, 1), (60, 1), (63, 2), (64, 1), (66, 2), (70, 1), (73, 4), (106, 1), (107, 1), (116, 2), (128, 1), (130, 1), (138, 1), (145, 1), (146, 1), (186, 1), (191, 2), (198, 1), (239, 1), (280, 1), (321, 1), (348, 1), (388, 1), (542, 1), (560, 1), (569, 1), (588, 1), (598, 2), (947, 1), (982, 1), (1790, 1), (2072, 1), (2073, 1), (2074, 1)], [(31, 1), (46, 1), (239, 1)], [(3, 2), (19, 1), (23, 1), (25, 1), (60, 1), (71, 1), (99, 1), (158, 1), (170, 1), (241, 1), (447, 1), (470, 1), (2075, 1), (2076, 1), (2077, 1)], [(19, 1), (45, 2), (48, 1), (102, 1), (253, 1), (438, 1), (491, 1)], [(45, 1), (46, 1), (438, 1), (2078, 1), (2079, 1)], [(23, 1), (27, 1), (30, 1), (33, 1), (91, 1), (101, 1), (133, 1), (170, 1), (202, 1), (536, 1)], [(41, 1), (68, 1), (77, 1), (105, 1), (139, 1), (389, 1), (601, 1), (836, 1)], [(19, 1), (48, 1), (55, 1), (70, 1), (94, 1), (107, 1), (123, 1), (210, 1), (493, 1), (982, 1), (1251, 1), (1425, 1), (2080, 1)], [(20, 1), (2081, 1), (2082, 1)], [(5, 1), (9, 1), (12, 1), (18, 1), (20, 2), (23, 1), (26, 4), (39, 1), (45, 1), (54, 1), (55, 1), (60, 2), (64, 1), (71, 3), (78, 1), (82, 1), (83, 1), (90, 1), (94, 1), (96, 2), (98, 1), (100, 3), (102, 1), (103, 1), (107, 1), (113, 1), (116, 1), (162, 1), (170, 2), (179, 1), (191, 4), (216, 1), (236, 1), (392, 1), (397, 1), (406, 1), (447, 1), (524, 1), (539, 1), (545, 2), (588, 1), (622, 1), (624, 1), (684, 1), (727, 1), (1457, 1), (1641, 1), (2083, 1), (2084, 1), (2085, 1)], [(26, 1), (46, 1)], [(0, 1), (3, 1), (13, 1), (23, 1), (27, 2), (36, 2), (42, 1), (64, 1), (65, 1), (73, 1), (88, 1), (105, 1), (111, 1), (145, 1), (202, 1), (204, 2), (209, 1), (211, 1), (239, 1), (261, 1), (438, 1), (522, 1), (539, 1), (549, 1), (563, 1), (668, 2), (669, 1), (767, 1), (883, 1), (1021, 1), (1070, 1), (1140, 1), (2086, 1), (2087, 1)], [(70, 1), (94, 1), (105, 1)], [(5, 1), (19, 1), (55, 1), (96, 1), (101, 1), (170, 2), (190, 1), (276, 1), (311, 1), (312, 1), (572, 1), (726, 1)], [(12, 1), (20, 1), (55, 1), (79, 1), (90, 1), (91, 1), (93, 1), (98, 1), (106, 1), (116, 1), (138, 1), (142, 1), (219, 1), (249, 1), (387, 1), (425, 2), (963, 1), (1070, 1), (1291, 1), (1739, 1), (2088, 1)], [(0, 1), (13, 1), (26, 1), (30, 1), (35, 2), (66, 1), (67, 1), (86, 1), (91, 1), (98, 1), (119, 1), (130, 1), (162, 1), (167, 1), (215, 1), (549, 1)], [(3, 1), (8, 1), (12, 1), (19, 1), (21, 1), (26, 1), (30, 1), (48, 1), (60, 1), (66, 1), (70, 1), (98, 1), (189, 1), (389, 1), (447, 1), (478, 1), (563, 1), (1148, 1), (1989, 1), (2072, 1)], [(101, 1), (130, 1), (132, 1), (170, 1), (202, 1)], [(70, 1), (315, 1)], [(105, 1)], [(0, 2), (8, 3), (13, 2), (16, 1), (19, 1), (21, 1), (27, 2), (36, 2), (39, 1), (44, 1), (55, 2), (57, 1), (58, 1), (60, 2), (62, 1), (65, 1), (67, 1), (68, 1), (70, 1), (74, 1), (77, 1), (78, 2), (79, 1), (82, 1), (100, 1), (102, 3), (103, 1), (109, 1), (111, 2), (116, 2), (119, 1), (123, 1), (135, 1), (145, 1), (158, 1), (174, 1), (179, 1), (198, 1), (210, 1), (211, 1), (219, 1), (241, 1), (253, 1), (261, 1), (269, 1), (312, 1), (318, 1), (328, 1), (353, 1), (365, 1), (378, 1), (384, 1), (387, 1), (389, 1), (394, 1), (412, 1), (421, 1), (442, 1), (472, 1), (477, 1), (482, 1), (498, 1), (522, 2), (525, 1), (539, 1), (559, 1), (568, 1), (569, 1), (572, 1), (586, 1), (598, 1), (604, 1), (610, 1), (726, 1), (768, 1), (836, 1), (847, 1), (960, 1), (982, 1), (1077, 1), (1151, 1), (1229, 1), (1391, 1), (1400, 1), (1438, 1), (1478, 1), (1510, 1), (1745, 1), (1943, 1), (1989, 1), (2072, 1), (2073, 1), (2089, 1), (2090, 1), (2091, 1), (2092, 1), (2093, 1), (2094, 1), (2095, 1), (2096, 1), (2097, 1), (2098, 1), (2099, 1), (2100, 1), (2101, 1), (2102, 2)], [(0, 1), (12, 2), (13, 1), (19, 2), (21, 1), (25, 1), (48, 1), (55, 1), (60, 1), (68, 1), (73, 1), (77, 1), (78, 1), (102, 1), (145, 1), (213, 1), (231, 1), (235, 1), (261, 1), (263, 1), (337, 1), (527, 1), (602, 1), (2103, 1)], [(70, 1), (105, 1), (595, 1), (862, 1)], [(33, 1), (46, 1), (55, 1), (70, 1), (108, 1), (535, 1), (1887, 1), (2104, 1)], [(130, 1)], [(96, 1)], [(13, 1), (35, 1), (66, 1), (94, 1), (99, 1), (145, 1), (170, 1), (171, 1), (370, 1), (387, 2), (425, 3), (476, 1), (551, 1), (574, 1), (642, 1), (691, 1), (884, 1), (886, 1), (914, 1), (1752, 1), (1822, 1)], [(9, 1), (18, 1), (20, 1), (40, 1), (55, 1), (71, 1)], [(35, 1), (186, 1), (549, 1), (725, 1)], [(26, 1), (35, 1), (66, 1), (71, 1), (93, 1), (364, 1), (378, 1), (421, 1), (2105, 1)], [(9, 1), (64, 1), (70, 1), (315, 1), (989, 1)], [(3, 1), (9, 1), (11, 1), (27, 1), (29, 1), (33, 1), (45, 1), (48, 1), (70, 1), (82, 1), (107, 1), (123, 1), (208, 1), (211, 1), (438, 1), (451, 1), (465, 1), (473, 2), (508, 1), (549, 1), (582, 1), (717, 1), (1028, 1), (1144, 1), (1487, 1)], [(9, 1), (13, 1), (15, 1), (24, 1), (26, 1), (53, 2), (65, 1), (80, 1), (120, 1), (133, 1), (149, 1), (191, 1), (300, 1), (314, 1), (387, 1), (392, 1), (426, 1), (547, 1), (658, 1), (1145, 1), (1510, 1), (1933, 1), (2106, 1), (2107, 1)], [(45, 1), (132, 1)], [(96, 1), (132, 1)], [(26, 1), (46, 1), (64, 1), (152, 1), (249, 1)], [(46, 1), (60, 1), (216, 1), (249, 1), (261, 1), (273, 1)], [(12, 1), (13, 1), (19, 1), (23, 1), (24, 1), (33, 1), (43, 1), (46, 1), (131, 1), (132, 1), (145, 1), (151, 1), (170, 1), (482, 1), (613, 1), (848, 1), (1007, 1), (1359, 1), (1646, 1), (2108, 1)], [(29, 1), (55, 1), (86, 1), (91, 2), (94, 1), (96, 1), (100, 2), (101, 1), (170, 1)], [(9, 1), (19, 1), (46, 1), (68, 1), (77, 1), (451, 1), (563, 1)], [(9, 1), (12, 1), (13, 1), (33, 1), (45, 2), (46, 1), (55, 1), (64, 1), (70, 1), (73, 2), (100, 1), (152, 1), (264, 1), (311, 1), (392, 1), (444, 1), (539, 1), (2109, 1)], [(94, 1), (222, 1), (378, 1), (848, 1)], [(46, 1)], [(105, 1)], [(16, 1), (55, 1), (102, 1), (103, 1), (296, 1), (426, 1)], [(12, 1), (21, 1), (26, 1), (48, 1), (64, 1), (94, 1)], [(9, 2), (35, 1), (44, 1), (55, 1), (65, 1), (66, 1), (70, 2), (72, 1), (78, 1), (82, 1), (100, 1), (105, 1), (116, 1), (123, 1), (241, 1), (251, 1), (293, 1), (404, 1), (475, 1), (482, 1), (744, 1), (944, 1), (1302, 1), (1431, 1), (1789, 1), (2110, 1), (2111, 1)], [(105, 1)], [(55, 1), (100, 1), (446, 1), (865, 1)], [(20, 1), (24, 1), (27, 1), (35, 1), (55, 2), (66, 1), (78, 1), (94, 1), (101, 1), (130, 1), (170, 1), (527, 1), (548, 1), (624, 1)], [(26, 4), (30, 1), (35, 1), (46, 1), (53, 1), (59, 1), (66, 1), (70, 3), (93, 1), (103, 1), (118, 1), (123, 1), (149, 1), (160, 1), (170, 1), (180, 1), (191, 3), (194, 1), (206, 1), (365, 2), (370, 1), (501, 1), (549, 1), (699, 1), (945, 2), (1795, 1), (2028, 2), (2112, 1), (2113, 1), (2114, 1)], [(315, 1), (465, 1), (1589, 1), (2115, 1)], [(13, 1), (17, 1), (20, 1), (27, 1), (30, 1), (36, 3), (55, 2), (64, 4), (68, 1), (77, 1), (82, 1), (98, 1), (99, 1), (100, 2), (115, 1), (121, 2), (137, 1), (167, 1), (183, 1), (194, 1), (202, 1), (211, 1), (285, 1), (290, 1), (459, 1), (473, 1), (547, 1), (576, 1), (588, 1), (720, 1), (749, 2), (755, 1), (765, 2), (1221, 1), (1628, 1), (1670, 1), (1677, 1), (1900, 1), (2116, 1), (2117, 1), (2118, 1), (2119, 1)], [(35, 1), (46, 1), (162, 1), (293, 1)], [(24, 1), (26, 3), (35, 2), (55, 1), (60, 1), (66, 1), (91, 1), (93, 1), (138, 1), (170, 1), (365, 1), (404, 1), (1645, 1), (2120, 1)], [(0, 1), (12, 1), (21, 1), (45, 1), (48, 1), (55, 1), (60, 1), (71, 1), (73, 1), (241, 1), (261, 1), (365, 1), (378, 1), (423, 1), (2121, 1)], [(33, 1), (131, 1), (132, 1), (479, 1)], [(0, 1), (86, 1), (950, 1)], [(20, 1), (126, 1), (387, 1), (549, 1)], [(70, 1), (273, 1), (315, 1)], [(3, 1), (24, 1), (53, 1), (100, 1), (387, 1), (425, 1), (658, 1), (662, 1), (699, 1), (1747, 1)], [(0, 1), (11, 1), (36, 1), (53, 1), (132, 1), (516, 1), (518, 1), (535, 1), (588, 1), (814, 1)], [(12, 1), (186, 1)], [(13, 1), (19, 1), (20, 1), (21, 1), (48, 1), (55, 1), (70, 1), (73, 1), (111, 1), (142, 1), (371, 1)], [(33, 1), (46, 1), (55, 2), (60, 2), (67, 1), (77, 1), (78, 1), (80, 1), (94, 1), (131, 1), (170, 1), (189, 1), (255, 1), (267, 1), (682, 1), (686, 1), (710, 1), (824, 1), (1312, 1), (1389, 1), (2122, 1), (2123, 1)], [(13, 1), (19, 1), (26, 1), (46, 1), (69, 1), (253, 1), (491, 1)], [(55, 1), (73, 1), (328, 2), (645, 1), (1033, 1), (1133, 1), (2124, 1), (2125, 1)], [(3, 1), (15, 1), (16, 2), (17, 1), (26, 2), (27, 1), (55, 2), (67, 1), (77, 1), (79, 1), (94, 1), (97, 1), (106, 1), (107, 1), (132, 1), (170, 1), (326, 1), (356, 1), (365, 1), (548, 1), (622, 1), (834, 1), (847, 1), (865, 1), (902, 1), (1485, 1)], [(31, 1), (46, 1), (132, 1)], [(8, 1), (19, 2), (26, 1), (36, 1), (44, 2), (70, 1), (71, 1), (90, 1), (93, 1), (100, 1), (103, 1), (106, 1), (115, 1), (137, 1), (167, 1), (212, 1), (253, 1), (389, 1), (491, 1), (567, 1), (720, 1), (836, 1), (1108, 1), (1152, 1), (2126, 1), (2127, 1), (2128, 1), (2129, 1), (2130, 1)], [(0, 1), (3, 1), (20, 1), (21, 4), (26, 2), (35, 1), (44, 1), (46, 3), (55, 5), (60, 1), (66, 1), (71, 1), (73, 2), (93, 1), (94, 1), (102, 1), (164, 1), (170, 1), (180, 1), (186, 1), (191, 1), (261, 1), (354, 1), (365, 1), (370, 1), (373, 1), (378, 1), (400, 1), (490, 1), (505, 1), (726, 1), (748, 1), (1385, 1), (1679, 1), (2131, 2), (2132, 1), (2133, 1), (2134, 1)], [(21, 1), (48, 1), (55, 3), (63, 1), (68, 1), (70, 1), (77, 1), (96, 1), (100, 1), (493, 1), (1178, 1)], [(9, 1), (17, 1), (20, 1), (27, 1), (35, 1), (53, 1), (66, 1), (73, 1), (78, 1), (101, 1), (130, 1), (138, 1), (149, 1), (170, 1), (190, 1), (238, 1), (328, 1), (529, 1), (530, 1), (539, 1), (548, 1), (821, 1), (1116, 1), (1291, 2), (1606, 1)], [(94, 1)], [(105, 1)], [(29, 1), (30, 1), (33, 1), (53, 1), (55, 1), (68, 1), (71, 1), (72, 1), (77, 1), (91, 2), (98, 1), (111, 1), (116, 1), (120, 1), (132, 1), (139, 1), (249, 1), (261, 1), (414, 1), (475, 1), (499, 1), (606, 1), (832, 1), (1021, 1), (1218, 1), (2135, 1)], [(21, 1), (48, 1), (52, 1), (53, 1), (212, 1), (308, 1), (309, 1), (539, 1), (567, 1), (1228, 1)], [(453, 1), (989, 1)], [(16, 1), (23, 1), (26, 1), (44, 1), (46, 1), (55, 3), (66, 1), (96, 1), (102, 1), (119, 1), (189, 1), (195, 1), (202, 1), (234, 1), (452, 1)], [(20, 1), (48, 1), (55, 1), (70, 1), (77, 1), (94, 1), (123, 1), (214, 1), (249, 1), (326, 1), (983, 1)], [(9, 1), (91, 1), (316, 1), (725, 1), (2136, 1)], [(20, 1), (29, 1), (45, 1), (71, 1), (74, 1), (91, 1), (96, 1), (143, 1), (147, 1), (214, 1), (249, 1), (444, 1)], [(46, 1), (64, 1), (923, 1)], [(46, 1)], [(23, 1), (27, 1), (71, 1), (183, 1), (438, 1)], [(17, 1), (58, 1), (100, 1), (132, 1), (133, 1), (178, 1), (185, 1), (307, 1), (856, 1), (1254, 1)], [(46, 1), (64, 1)], [(70, 1), (88, 1), (98, 1), (118, 1), (184, 1), (261, 1), (312, 1), (404, 1), (431, 1), (434, 1), (1315, 1), (1648, 1), (2137, 1)], [(94, 1)], [(68, 1), (77, 1), (91, 1), (101, 1), (164, 1), (170, 1), (402, 1), (2138, 1)], [(46, 1), (132, 1)], [(9, 1), (20, 1), (46, 1), (55, 2), (70, 1), (214, 1), (238, 1), (451, 1), (482, 1), (604, 1), (721, 1), (1273, 1), (2139, 1)], [(9, 1), (20, 1), (36, 1), (55, 2), (64, 1), (70, 1), (94, 1), (123, 1), (142, 1), (280, 1), (311, 1)], [(13, 1), (23, 1), (24, 1), (932, 1)], [(70, 1), (130, 1), (132, 1), (392, 1)], [(12, 1), (48, 1), (74, 1), (75, 1), (94, 1), (871, 1), (948, 1), (2140, 1)], [(16, 1), (63, 1), (64, 1), (86, 1), (91, 1), (1221, 1), (1390, 1)], [(16, 1), (26, 1), (45, 1), (55, 1), (209, 1), (316, 1), (413, 1), (604, 1), (633, 1), (1273, 1)], [(13, 1), (19, 1), (33, 1), (35, 1), (77, 1), (191, 1), (326, 1), (354, 1), (377, 1), (496, 1), (658, 1), (950, 1), (1423, 1), (1593, 1), (2141, 1), (2142, 1), (2143, 1)], [(9, 1), (23, 1), (31, 1), (48, 1), (75, 1), (82, 1), (148, 1), (170, 1), (186, 1), (206, 1), (834, 1)], [(9, 1), (13, 1), (20, 1), (41, 1), (152, 1), (249, 1), (470, 1), (932, 1), (996, 1), (998, 1)], [(0, 1), (3, 1), (27, 1), (36, 1), (48, 1), (73, 1), (177, 1), (394, 1), (535, 1), (564, 1), (814, 1), (1706, 1), (2144, 1)], [(12, 1), (45, 1), (107, 1), (111, 1), (389, 1), (392, 1), (399, 1), (409, 1), (842, 1), (1047, 1), (1754, 1), (2145, 1), (2146, 1)], [(19, 1), (48, 1), (94, 1), (170, 1), (241, 1), (431, 1), (434, 1), (918, 1)], [(12, 1), (26, 1), (70, 1), (80, 1), (137, 1), (170, 2), (290, 1), (298, 1), (941, 1), (989, 1), (1203, 1), (2147, 1)], [(44, 1), (70, 1), (73, 1), (77, 1), (101, 1), (132, 1), (145, 1), (170, 2), (214, 1), (225, 1), (296, 1), (315, 1), (316, 1), (361, 1), (482, 1), (517, 1), (726, 1), (1530, 1), (1642, 1)], [(13, 1), (19, 1), (29, 1), (33, 1), (72, 1), (101, 1), (132, 1), (139, 1), (170, 1), (377, 1)], [(31, 1), (33, 1), (45, 1), (63, 1), (68, 1), (73, 2), (86, 1), (100, 1), (147, 1), (371, 1), (444, 1), (514, 1), (1149, 1), (2148, 1)], [(9, 1), (46, 2), (48, 1), (59, 1), (64, 2), (71, 1), (77, 1), (80, 1), (152, 1), (170, 1), (473, 1), (785, 1)], [(9, 1), (10, 1), (13, 1), (16, 2), (55, 1), (260, 1), (394, 1), (528, 1), (539, 1), (1291, 1), (2149, 1), (2150, 1), (2151, 1)], [(19, 1), (27, 1), (46, 1), (68, 1), (75, 1), (77, 1), (82, 1), (170, 1), (496, 1)], [(16, 1), (20, 1), (45, 2), (63, 1), (70, 1), (86, 1), (91, 1), (103, 1), (211, 1), (303, 1), (356, 1), (497, 1), (542, 1), (668, 2), (1194, 1), (1988, 1), (2152, 1), (2153, 1)], [(13, 1), (35, 1), (66, 1), (94, 1), (116, 1), (249, 1), (293, 1), (323, 1), (428, 1), (539, 2), (927, 1), (1011, 1)], [(9, 2), (13, 1), (24, 1), (80, 1), (96, 1), (121, 1), (126, 1), (138, 1), (152, 2), (626, 1), (633, 1), (996, 1)], [(4, 1), (12, 1), (26, 1), (35, 1), (45, 1), (64, 1), (66, 1), (88, 1), (95, 1), (101, 1), (107, 1), (138, 1), (165, 1), (186, 1), (198, 1), (364, 1), (563, 1), (658, 1), (805, 1), (1154, 1), (1901, 1), (1928, 1)], [(13, 1), (35, 2), (36, 1), (48, 2), (72, 1), (91, 1), (98, 1), (116, 1), (138, 1), (139, 1), (146, 1), (371, 1), (549, 1), (817, 1), (1738, 1)], [(9, 1), (12, 1), (18, 1), (20, 2), (48, 1), (55, 2), (94, 1), (100, 1), (104, 1), (107, 1), (214, 1), (216, 1), (247, 1), (598, 1), (826, 1), (976, 1), (2154, 1)], [(8, 1), (21, 1), (39, 1), (48, 1), (53, 1), (55, 1), (60, 1), (63, 1), (64, 1), (68, 1), (77, 1), (102, 1), (1185, 1), (2155, 1)], [(8, 1), (41, 1), (80, 1), (94, 1), (107, 1), (170, 1), (180, 1), (275, 1), (514, 1), (673, 1), (674, 1), (764, 1), (848, 1), (1539, 1), (2156, 1)], [(9, 1), (20, 1), (36, 1), (48, 1), (60, 1), (65, 1), (71, 1), (103, 1), (214, 1), (239, 1), (270, 1), (301, 1), (375, 2), (378, 1), (410, 1), (473, 1), (496, 1), (520, 1), (558, 1), (861, 1), (1501, 1), (2157, 1), (2158, 1), (2159, 1)], [(23, 1), (25, 1), (27, 1), (170, 1), (447, 1)], [(46, 1), (321, 1), (2004, 1)], [(10, 1), (14, 1), (16, 1), (55, 1), (115, 1), (444, 1)], [(31, 1), (239, 1), (2160, 1)], [(3, 1), (27, 1), (71, 1), (97, 1), (152, 1), (170, 1), (295, 1), (717, 1), (998, 1), (1001, 1), (1645, 1)], [(45, 1), (438, 1)], [(13, 1), (48, 1), (598, 1), (625, 1)], [(24, 1), (30, 1), (35, 2), (36, 1), (41, 1), (54, 1), (63, 1), (65, 1), (66, 1), (70, 1), (82, 1), (98, 1), (100, 1), (101, 1), (125, 1), (149, 1), (162, 1), (180, 1), (223, 1), (339, 1), (464, 1), (511, 1), (529, 1), (556, 1), (726, 1), (829, 1), (848, 1), (1007, 1), (1099, 1), (1345, 1), (1476, 1), (2161, 1), (2162, 1), (2163, 1), (2164, 1), (2165, 1)], [(19, 1), (42, 1), (46, 1), (64, 1), (70, 1), (77, 1), (107, 1), (169, 1), (180, 1), (229, 1), (253, 1), (307, 1), (427, 1), (673, 1), (785, 1), (857, 1), (930, 1), (947, 1), (948, 1), (1144, 1), (1179, 1), (1504, 1), (2166, 1)], [(7, 1), (8, 3), (13, 1), (17, 1), (26, 3), (35, 4), (44, 1), (48, 1), (55, 3), (59, 1), (63, 1), (66, 4), (72, 1), (78, 1), (96, 1), (100, 1), (103, 1), (132, 1), (145, 1), (169, 1), (170, 1), (178, 1), (186, 2), (189, 1), (197, 1), (208, 1), (215, 1), (219, 1), (269, 1), (273, 1), (316, 1), (323, 1), (340, 1), (377, 1), (378, 1), (382, 1), (427, 1), (475, 1), (482, 1), (531, 1), (539, 3), (604, 1), (616, 1), (668, 1), (690, 1), (708, 2), (832, 1), (834, 1), (847, 1), (848, 1), (874, 1), (1130, 1), (1254, 2), (1325, 1), (1542, 2), (1748, 1), (1789, 1), (2167, 1), (2168, 1), (2169, 1), (2170, 1), (2171, 1), (2172, 1), (2173, 1), (2174, 1), (2175, 1), (2176, 1)], [(296, 1)], [(30, 1), (31, 1), (63, 1), (91, 1), (96, 1), (98, 1), (189, 1), (239, 1), (514, 1), (545, 1)], [(23, 1), (73, 1)], [(9, 1), (12, 1), (15, 1), (41, 1), (48, 1), (55, 1), (70, 1), (90, 1), (106, 1), (162, 1), (167, 1), (720, 1), (2177, 1)], [(0, 1), (3, 1), (55, 1), (59, 1), (73, 1), (81, 1), (82, 1), (94, 1), (102, 1), (312, 1), (465, 1), (755, 1), (765, 1)], [(3, 1), (12, 1), (23, 1), (94, 1), (102, 1), (305, 1), (622, 1), (627, 1)], [(46, 1), (132, 1)], [(8, 1), (44, 1), (46, 1), (133, 1), (152, 1), (208, 1), (249, 1)], [(130, 1), (132, 1), (370, 1), (1148, 1)], [(0, 1), (3, 2), (12, 1), (35, 1), (60, 1), (66, 1), (73, 1), (75, 1), (115, 2), (170, 1), (2178, 1), (2179, 1), (2180, 1)], [(12, 1), (16, 1), (392, 1)], [(35, 1), (46, 1), (63, 1), (64, 1), (66, 1), (68, 1), (955, 1)], [(9, 1), (27, 2), (41, 1), (55, 1), (66, 1), (78, 1), (80, 1), (82, 1), (99, 1), (101, 1), (102, 1), (103, 1), (115, 1), (170, 1), (189, 1), (206, 1), (223, 1), (271, 1), (527, 1), (727, 1), (867, 1), (2181, 1), (2182, 1)], [(21, 1), (48, 1), (137, 1), (323, 1), (497, 1), (1425, 1)], [(30, 1), (33, 1), (35, 1), (55, 1), (63, 1), (66, 1), (68, 1), (70, 1), (77, 1), (98, 1), (100, 1), (131, 1), (133, 1), (314, 1), (390, 1), (549, 2), (748, 1)], [(35, 1), (45, 1), (65, 1), (66, 1), (73, 1), (80, 1), (88, 1), (100, 1), (138, 1), (145, 1), (251, 1), (280, 1), (339, 1), (464, 1), (479, 1), (633, 1), (674, 1), (829, 1), (852, 1), (865, 1)], [(45, 1), (64, 1), (116, 1), (191, 1), (280, 1), (438, 1), (2183, 1)], [(13, 1), (16, 1), (55, 2), (170, 1), (296, 1), (541, 1), (757, 1), (878, 1), (1589, 1)], [(21, 1), (29, 1), (33, 1), (35, 1), (45, 2), (66, 1), (131, 1), (400, 1), (438, 1), (549, 1)], [(20, 2), (55, 1), (214, 1), (249, 1), (1184, 1), (2184, 1)], [(20, 1), (35, 1), (130, 1), (508, 1)], [(20, 1), (55, 1), (64, 1), (116, 1), (214, 1), (249, 1), (557, 1), (857, 1), (908, 1), (1225, 1)], [(27, 1), (53, 1), (63, 1), (132, 1), (214, 1), (239, 1), (547, 1), (627, 1)], [(12, 1), (50, 1)], [(27, 1), (29, 1), (71, 1), (90, 1), (97, 1), (170, 1), (466, 1), (2185, 1), (2186, 1)], [(35, 1), (46, 2), (64, 1), (94, 1), (984, 1)], [(35, 1), (63, 1), (66, 1), (94, 1), (102, 1)], [(31, 1), (45, 2), (514, 1)], [(46, 1), (132, 1), (686, 1), (955, 1)], [(12, 1), (55, 1), (60, 1), (66, 1), (103, 1), (145, 1), (170, 1), (197, 1), (296, 1), (406, 1), (1391, 1), (2187, 1)], [(45, 1), (1315, 1)], [(20, 1), (59, 1), (91, 1), (100, 1), (103, 1), (132, 1), (254, 2), (265, 1), (316, 1), (746, 1), (928, 1), (1139, 1), (1140, 1), (1455, 1), (2188, 1)], [(35, 1), (43, 1), (62, 1), (66, 1), (145, 1), (211, 1), (548, 1), (1021, 1), (2189, 1)], [(35, 1), (45, 1), (66, 1), (70, 1), (371, 1), (447, 1)], [(12, 1), (64, 1), (77, 1), (188, 1), (290, 1), (394, 1), (400, 1), (1062, 1), (2190, 1)], [(11, 1), (20, 1), (55, 1), (162, 1), (2191, 1)], [(0, 1), (3, 1), (9, 1), (12, 1), (18, 1), (20, 1), (48, 1), (50, 1), (55, 1), (70, 1), (75, 1), (90, 1), (100, 1), (103, 1), (107, 1), (116, 1), (118, 1), (123, 1), (165, 1), (211, 1), (261, 1), (2192, 1)], [(16, 1), (66, 1), (128, 1), (863, 1)], [(53, 1), (186, 1), (315, 1)], [(101, 1), (126, 1), (613, 1), (870, 1), (893, 1), (2193, 1), (2194, 1), (2195, 1)], [(31, 1), (46, 2), (70, 1)], [(13, 1), (48, 1), (132, 1), (394, 1), (549, 1), (725, 1)], [(9, 1), (21, 1), (30, 1), (71, 1), (100, 2), (101, 1), (251, 1), (459, 1), (482, 1), (527, 1), (616, 1), (856, 1), (998, 1), (1254, 1), (1364, 1), (2196, 1)], [(10, 1), (16, 1), (18, 1), (21, 1), (24, 1), (33, 1), (45, 2), (55, 1), (84, 1), (102, 2), (106, 1), (131, 1), (149, 1), (425, 1), (438, 1), (516, 1), (817, 1), (2197, 1), (2198, 1)], [(0, 2), (13, 4), (15, 1), (16, 2), (23, 1), (27, 3), (36, 3), (45, 1), (63, 2), (66, 1), (70, 3), (73, 6), (96, 1), (113, 1), (130, 1), (145, 1), (180, 1), (186, 1), (202, 1), (243, 1), (258, 1), (345, 1), (357, 3), (426, 1), (476, 1), (482, 2), (673, 1), (674, 1), (691, 1), (726, 3), (744, 1), (848, 1), (927, 1), (1093, 1), (1126, 1), (1192, 1), (1829, 1), (2199, 1), (2200, 1), (2201, 1), (2202, 1)], [(20, 2), (21, 1), (26, 4), (27, 1), (35, 1), (54, 1), (55, 1), (63, 1), (70, 2), (116, 3), (118, 2), (123, 1), (138, 2), (160, 1), (162, 2), (165, 2), (191, 3), (202, 1), (239, 1), (298, 1), (370, 1), (371, 1), (428, 1), (438, 1), (482, 2), (497, 1), (557, 1), (588, 1), (627, 1), (628, 1), (859, 1), (932, 1), (1070, 1), (1140, 1), (1730, 1), (1739, 1), (1786, 1), (2203, 1), (2204, 1), (2205, 1)], [(26, 1), (48, 1), (68, 1), (77, 1)], [(45, 1), (315, 1), (438, 1)], [(30, 1), (102, 1), (132, 1), (201, 1), (365, 1), (476, 1), (1811, 1), (2015, 1), (2206, 1), (2207, 1)], [(45, 1), (70, 1), (105, 1), (132, 1)], [(15, 1), (29, 1), (33, 1), (48, 1), (68, 1), (77, 1)], [(46, 1), (64, 1), (86, 1), (91, 1), (293, 1), (298, 1), (812, 1), (1151, 1), (1629, 1)], [(0, 2), (3, 1), (4, 1), (10, 1), (12, 2), (16, 1), (21, 1), (31, 1), (33, 1), (41, 1), (44, 1), (50, 1), (53, 1), (63, 1), (64, 1), (71, 1), (107, 1), (111, 2), (133, 2), (143, 1), (162, 1), (208, 1), (211, 1), (293, 1), (305, 1), (312, 1), (333, 1), (364, 1), (406, 1), (453, 1), (473, 2), (476, 1), (536, 2), (583, 1), (586, 1), (765, 1), (973, 1), (1184, 1), (1325, 1), (1402, 1), (1670, 1), (1892, 1), (2008, 1), (2208, 1), (2209, 1), (2210, 1), (2211, 1), (2212, 1), (2213, 1)], [(26, 1), (30, 1), (65, 1), (70, 1), (133, 1), (1038, 1), (1225, 1)], [(186, 1), (519, 1), (549, 1), (863, 1)], [(9, 3), (11, 1), (12, 1), (18, 2), (20, 2), (21, 1), (23, 1), (34, 1), (41, 2), (45, 1), (64, 1), (67, 1), (78, 2), (88, 1), (90, 1), (98, 1), (100, 1), (102, 3), (107, 1), (170, 1), (198, 1), (200, 1), (202, 1), (255, 1), (267, 1), (275, 1), (280, 1), (312, 1), (345, 1), (404, 3), (465, 1), (482, 1), (548, 1), (586, 1), (627, 1), (677, 1), (855, 1), (998, 1), (1430, 1), (1538, 1), (1687, 1), (1918, 1), (2214, 1), (2215, 1), (2216, 1), (2217, 1), (2218, 1), (2219, 2)], [(20, 1), (30, 1), (93, 1), (183, 1), (227, 1), (404, 1), (1685, 1)], [(13, 1), (28, 1), (82, 1), (137, 1), (139, 1), (583, 1), (857, 1)], [(64, 1), (69, 1), (107, 1), (563, 1)], [(13, 1), (19, 1), (48, 1), (70, 1), (989, 1)], [(16, 1), (18, 1), (26, 1), (30, 1), (39, 1), (64, 1), (70, 1), (101, 1), (102, 1), (121, 1), (191, 4), (195, 1), (214, 1), (224, 1), (225, 1), (249, 1), (263, 1), (272, 1), (446, 1), (453, 1), (465, 1), (989, 1), (1047, 1), (1286, 1), (1373, 1), (2220, 1)], [(21, 1), (23, 1), (35, 1), (66, 1), (549, 1)], [(12, 1), (21, 1), (48, 1), (171, 1)], [(13, 1), (19, 1), (26, 1), (29, 1), (33, 1), (63, 1), (64, 1), (218, 1)], [(19, 1), (35, 1), (46, 1), (54, 1), (55, 1), (63, 1), (64, 1), (66, 1), (67, 2), (73, 2), (77, 1), (103, 1), (111, 1), (116, 1), (138, 1), (145, 1), (224, 1), (239, 1), (316, 1), (353, 1), (425, 1), (607, 1), (831, 1), (1214, 1), (1273, 1), (2221, 1), (2222, 1)], [(0, 1), (16, 1), (27, 1), (35, 1), (70, 1), (86, 1), (88, 1), (94, 1), (162, 1), (204, 1), (491, 1), (950, 1), (1098, 1), (2223, 1), (2224, 1), (2225, 1)], [(27, 1), (162, 1), (726, 1)], [(19, 1), (132, 1), (312, 1), (454, 1), (2226, 1)], [(63, 1), (64, 1), (186, 1), (371, 1), (400, 1)], [(9, 1), (19, 2), (26, 2), (31, 1), (35, 2), (44, 1), (46, 1), (55, 1), (59, 1), (64, 2), (66, 1), (71, 1), (72, 1), (77, 1), (107, 1), (132, 1), (133, 1), (139, 2), (181, 1), (261, 1), (268, 1), (269, 1), (274, 1), (276, 1), (280, 1), (316, 1), (331, 1), (353, 1), (356, 1), (384, 1), (389, 1), (477, 1), (490, 1), (497, 1), (539, 1), (542, 1), (612, 2), (691, 1), (831, 1), (1029, 1), (1055, 1), (1082, 1), (1202, 1), (1214, 1), (1423, 1), (1430, 1), (1431, 1), (1887, 1), (2004, 1), (2227, 1), (2228, 1), (2229, 1), (2230, 1), (2231, 1), (2232, 1)], [(12, 1), (19, 1), (28, 1), (35, 1), (46, 1), (48, 1), (68, 1), (73, 1), (77, 1), (477, 1)], [(35, 1), (45, 1), (94, 1), (371, 1)], [(170, 1), (2233, 1)], [(162, 1), (392, 1)], [(13, 1), (19, 1), (45, 1), (563, 1)], [(19, 1), (31, 1), (35, 4), (45, 2), (46, 1), (48, 1), (66, 1), (72, 1), (73, 1), (132, 2), (133, 1), (138, 1), (186, 2), (218, 1), (307, 1), (315, 1), (316, 2), (476, 1), (489, 1), (1215, 1), (1432, 1), (1469, 1), (1560, 1), (2204, 1), (2234, 1)], [(8, 1), (23, 1), (39, 1), (68, 1), (77, 1), (261, 1), (2235, 1)], [(6, 1), (12, 2), (26, 1), (39, 1), (44, 1), (50, 1), (60, 2), (98, 1), (102, 1), (103, 1), (107, 1), (206, 1), (1284, 1), (2236, 1)], [(13, 1), (43, 1), (79, 1), (107, 1), (132, 1), (371, 1), (1153, 1)], [(70, 1)], [(46, 1), (59, 1), (71, 1), (77, 1), (137, 1), (170, 1), (312, 1), (500, 1), (1108, 1), (2237, 1)], [(9, 1), (13, 1), (18, 1), (35, 1), (44, 1), (46, 1), (55, 1), (59, 1), (67, 1), (121, 1), (137, 1), (225, 1), (354, 1), (367, 1), (394, 1), (927, 1), (1108, 1)], [(35, 1), (130, 1)], [(46, 1), (66, 1), (70, 1), (94, 1), (189, 1)], [(70, 1), (94, 1), (539, 1)], [(3, 1), (12, 2), (13, 3), (15, 1), (18, 1), (28, 1), (29, 1), (33, 2), (35, 3), (36, 1), (39, 1), (45, 1), (53, 1), (66, 4), (72, 1), (73, 1), (74, 1), (86, 1), (91, 1), (137, 1), (145, 2), (152, 1), (153, 1), (161, 1), (186, 1), (210, 1), (214, 1), (256, 1), (287, 1), (290, 1), (346, 1), (356, 1), (371, 1), (408, 1), (434, 1), (444, 1), (473, 1), (489, 2), (504, 1), (574, 1), (662, 1), (699, 1), (712, 1), (751, 2), (796, 1), (916, 2), (1021, 1), (1047, 1), (1248, 2), (1251, 1), (1329, 1), (1444, 1), (1488, 1), (1558, 1), (1748, 2), (2091, 1), (2095, 1), (2101, 1), (2172, 1), (2238, 1), (2239, 1), (2240, 1), (2241, 1), (2242, 1), (2243, 1), (2244, 1)], [(26, 1), (55, 2), (70, 2), (116, 1), (121, 3), (147, 1), (149, 1), (162, 1), (170, 1), (197, 1), (249, 2), (296, 1), (311, 1), (315, 1), (328, 1), (446, 1), (505, 1), (557, 2), (677, 1), (885, 1), (995, 1), (1440, 1), (2058, 1), (2245, 1), (2246, 1), (2247, 1), (2248, 1), (2249, 1)], [(21, 1), (48, 1), (130, 1), (132, 1)], [(12, 1), (50, 1), (60, 2), (65, 1), (67, 1), (211, 1), (215, 1), (312, 1), (473, 1), (802, 1), (1426, 2)], [(55, 1), (191, 1), (497, 1), (557, 1)], [(45, 1), (60, 1), (70, 1), (102, 1), (123, 1), (549, 1), (1125, 1)], [(479, 1)], [(15, 1), (105, 1), (158, 1), (932, 1), (2250, 1)], [(6, 1), (70, 1), (315, 1)], [(8, 1), (46, 1)], [(10, 1), (21, 1), (46, 1), (48, 1), (70, 1), (102, 1), (170, 1), (210, 1), (215, 1), (225, 1), (364, 1), (402, 1), (438, 1), (539, 1), (857, 1)], [(9, 1), (12, 1), (35, 1), (36, 1), (41, 1), (46, 1), (55, 1), (72, 1), (73, 1), (82, 3), (107, 1), (111, 2), (142, 1), (219, 1), (224, 1), (397, 1), (434, 1), (435, 1), (466, 1), (515, 1), (789, 1), (967, 1), (968, 1), (2251, 1)], [(20, 3), (41, 1), (45, 1), (55, 3), (111, 1), (116, 1), (142, 2), (153, 1), (211, 1), (273, 1), (357, 1), (374, 1), (385, 1), (390, 1), (478, 1), (2252, 1)], [(9, 2), (20, 2), (26, 1), (31, 2), (36, 1), (44, 1), (45, 1), (46, 1), (54, 1), (55, 2), (64, 1), (65, 1), (67, 1), (71, 2), (72, 1), (90, 1), (91, 1), (100, 1), (111, 1), (130, 1), (133, 2), (178, 1), (215, 1), (239, 1), (311, 1), (315, 1), (354, 1), (435, 1), (515, 1), (548, 1), (606, 1), (762, 1), (885, 1), (1006, 1), (1012, 1), (1431, 1), (1463, 1), (2253, 1)], [(31, 1), (46, 1), (91, 1), (130, 1), (514, 1)], [(3, 1), (53, 1), (55, 1), (70, 1), (96, 1), (118, 1), (249, 1), (549, 1)], [(35, 1), (46, 1), (1425, 1)], [(70, 1), (102, 1), (130, 1)], [(3, 1), (16, 1), (33, 1), (35, 1), (55, 1), (66, 1), (70, 2), (72, 1), (86, 1), (90, 1), (96, 1), (101, 1), (116, 1), (118, 1), (162, 1), (191, 1), (209, 1), (239, 1), (253, 1), (254, 1), (328, 1), (370, 1), (378, 1), (385, 1), (446, 1), (447, 1), (475, 1), (476, 1), (482, 1), (497, 1), (539, 1), (547, 1), (557, 2), (748, 1), (1021, 1), (1777, 1), (1810, 1), (2064, 1), (2254, 1), (2255, 1), (2256, 1)], [(0, 1), (3, 2), (9, 1), (12, 3), (15, 2), (33, 2), (36, 2), (41, 2), (44, 1), (45, 1), (46, 1), (48, 1), (58, 1), (60, 1), (63, 2), (64, 1), (65, 2), (66, 1), (70, 1), (71, 2), (72, 1), (73, 6), (75, 1), (77, 2), (88, 3), (95, 2), (103, 2), (107, 1), (111, 1), (115, 2), (131, 2), (132, 1), (133, 2), (137, 1), (151, 1), (158, 1), (167, 2), (175, 1), (248, 1), (253, 1), (275, 1), (280, 2), (312, 2), (321, 1), (330, 1), (339, 1), (340, 2), (364, 1), (413, 1), (438, 1), (454, 1), (458, 2), (459, 2), (473, 1), (475, 1), (549, 1), (560, 1), (588, 1), (627, 2), (668, 2), (713, 1), (725, 1), (755, 1), (765, 2), (775, 1), (813, 2), (831, 1), (837, 1), (1189, 1), (1221, 1), (1227, 1), (1455, 1), (1535, 2), (1539, 1), (1606, 1), (1628, 1), (2038, 1), (2257, 1), (2258, 2), (2259, 1), (2260, 1), (2261, 1), (2262, 1), (2263, 1), (2264, 1), (2265, 1)], [(46, 1), (265, 1), (438, 1)], [(15, 1), (48, 1), (438, 1), (2266, 1), (2267, 1)], [(132, 1), (539, 1)], [(46, 1), (64, 1), (96, 1)], [(35, 1), (53, 2), (66, 1), (70, 1), (71, 1), (72, 1), (103, 1), (133, 1), (170, 1), (211, 1), (238, 1), (315, 1), (425, 1), (428, 1), (549, 2), (904, 1), (944, 1), (2268, 1)], [(8, 1), (12, 1), (35, 1), (43, 1), (66, 1), (105, 1), (142, 1), (371, 1), (385, 1), (578, 1), (642, 1), (668, 1), (773, 1), (875, 1), (1744, 1), (1822, 1)], [(9, 1), (73, 2), (94, 1), (98, 1), (642, 2), (2269, 1)], [(45, 1), (64, 1), (275, 1), (438, 1)], [(12, 1), (20, 1), (68, 1), (71, 1), (77, 1), (125, 1), (726, 1)], [(35, 1), (45, 2), (66, 1), (70, 1)], [(19, 1), (46, 1), (145, 1)], [(12, 1), (19, 1), (26, 1), (48, 1), (99, 1), (100, 1), (115, 1), (145, 1), (564, 1), (1042, 1), (1779, 1), (2023, 1), (2270, 1)], [(315, 1)], [(46, 1), (64, 1), (116, 1), (120, 1), (249, 1)], [(31, 1), (46, 1), (315, 1)], [(46, 1), (55, 1), (70, 1), (73, 2), (93, 1), (94, 1), (98, 1), (100, 1), (102, 1), (107, 1), (123, 1), (184, 1), (431, 1), (434, 1), (549, 1), (739, 1), (923, 1), (1540, 1)], [(44, 1), (63, 1), (453, 1)], [(13, 2), (26, 1), (71, 1), (127, 1), (145, 1), (149, 1), (170, 1), (249, 1), (273, 1), (328, 1), (407, 1), (428, 1), (482, 1), (556, 1), (679, 1), (775, 1), (842, 1), (908, 1), (944, 1), (1150, 1), (1250, 1), (2271, 1), (2272, 1), (2273, 1), (2274, 1), (2275, 1), (2276, 1)], [(21, 1), (55, 1), (63, 1), (70, 1), (94, 1), (96, 1), (315, 1)], [(9, 1), (12, 1), (23, 1), (25, 1), (26, 1), (64, 1), (68, 1), (77, 1), (84, 1), (107, 1), (179, 1), (454, 1), (2277, 1), (2278, 1), (2279, 1), (2280, 1)], [(55, 1), (73, 1), (2281, 1), (2282, 1)], [(21, 1), (77, 1), (78, 1), (91, 1), (96, 1), (170, 1), (188, 1), (482, 2), (497, 1), (831, 1), (1188, 1), (2283, 1)], [(96, 1)], [(44, 1), (84, 1), (312, 1)], [(9, 1), (39, 1), (55, 3), (70, 2), (116, 5), (118, 2), (121, 1), (123, 1), (162, 1), (249, 1), (482, 1), (549, 2), (633, 1), (829, 1), (1047, 1)], [(46, 1)], [(74, 1), (94, 1), (238, 1), (459, 1)], [(94, 1)], [(217, 1)], [(0, 1), (102, 1), (107, 1), (126, 1), (158, 1), (171, 1), (187, 1), (275, 1), (1083, 1)], [(46, 1), (77, 1), (329, 1)], [(31, 1), (134, 1), (514, 1), (1315, 1)], [(46, 1), (102, 1)], [(19, 1), (26, 1), (145, 1), (354, 1), (371, 1), (1068, 1)], [(8, 1), (9, 1), (55, 1), (58, 1), (64, 1), (77, 1), (142, 1), (145, 1), (308, 1), (326, 1), (354, 1), (476, 1), (548, 1), (569, 1), (613, 1), (881, 1), (927, 1), (1364, 1), (1587, 1), (2072, 1), (2100, 1)], [(3, 1), (15, 1), (94, 1), (103, 1), (249, 1), (545, 1), (549, 1), (613, 1), (726, 1), (927, 1), (1251, 1)], [(11, 1), (55, 1), (71, 1), (78, 1), (96, 1), (101, 1), (115, 1), (170, 1)], [(70, 1), (863, 1)], [(26, 1), (36, 1), (94, 1), (362, 1)], [(55, 1), (70, 1)], [(46, 1), (132, 1), (549, 1), (725, 1)], [(20, 2), (41, 1), (44, 1), (152, 1), (270, 1), (290, 1), (301, 1), (312, 1), (415, 1), (527, 1), (692, 1), (1560, 1), (1989, 2)], [(46, 1), (70, 1)], [(12, 1), (15, 1), (19, 2), (21, 1), (43, 1), (59, 1), (73, 1), (225, 1), (592, 1)], [(65, 1), (145, 1), (186, 1), (431, 1), (434, 1), (723, 1), (886, 1), (1151, 1), (2284, 1)], [(19, 1), (145, 1), (563, 1)], [(45, 1)], [(46, 1), (64, 1)], [(0, 1), (133, 1), (290, 1), (438, 1), (1356, 1), (2285, 1)], [(29, 1), (33, 1)], [(863, 1)], [(12, 1), (35, 1), (45, 1), (66, 1), (82, 1), (94, 1), (107, 1), (108, 1), (170, 1), (465, 1)], [(19, 1), (52, 1), (253, 1), (256, 1), (558, 1), (1128, 1), (2286, 1)], [(55, 2), (67, 1), (70, 2), (94, 1), (96, 1), (116, 1), (181, 1), (191, 1), (211, 1), (478, 1), (904, 1), (1248, 1), (1416, 1), (1510, 1), (2287, 1)], [(1031, 1)], [(55, 1), (65, 1), (70, 2), (84, 1), (120, 2), (215, 1), (865, 1), (1726, 1)], [(9, 1), (23, 1), (27, 1), (74, 1), (101, 1), (1007, 1), (1200, 1)], [(0, 1), (3, 1), (13, 1), (19, 1), (33, 2), (102, 1), (131, 1), (133, 1), (152, 1), (278, 1), (539, 1), (547, 1)], [(45, 1), (70, 1), (82, 1), (132, 1), (315, 1), (582, 1)], [(33, 1), (55, 1), (64, 1), (103, 1), (133, 1), (293, 1), (505, 1), (2288, 1), (2289, 1)], [(9, 2), (12, 3), (13, 2), (16, 1), (23, 1), (26, 2), (27, 1), (31, 1), (43, 1), (55, 3), (70, 1), (78, 1), (82, 1), (100, 1), (101, 1), (102, 2), (103, 1), (107, 1), (111, 2), (170, 1), (181, 1), (194, 1), (286, 1), (305, 1), (309, 1), (378, 1), (497, 1), (513, 1), (514, 1), (557, 1), (586, 1), (643, 1), (750, 1), (813, 1), (880, 1), (1025, 1), (1488, 1), (2290, 1), (2291, 1), (2292, 1), (2293, 1), (2294, 1)], [(19, 1), (24, 1), (46, 1), (48, 1), (55, 1), (201, 1), (211, 1), (228, 1), (507, 1), (1221, 1)], [(549, 1), (557, 1), (625, 1), (668, 1), (908, 1), (928, 1)], [(60, 1), (784, 1)], [(8, 1), (9, 2), (19, 1), (29, 1), (45, 1), (55, 3), (64, 2), (70, 1), (71, 1), (145, 1), (170, 1), (180, 2), (191, 1), (195, 1), (209, 1), (256, 1), (314, 1), (328, 1), (330, 1), (446, 1), (463, 1), (531, 1), (680, 1), (865, 1), (908, 1), (989, 2), (1178, 1), (1179, 1), (1444, 1), (1859, 1), (2295, 1), (2296, 1), (2297, 1), (2298, 1), (2299, 1), (2300, 1)], [(23, 1), (26, 1), (55, 1)], [(4, 1), (8, 1), (55, 1), (59, 1), (60, 1), (70, 1), (105, 1), (116, 1), (120, 1), (121, 1)], [(26, 1), (29, 1), (33, 1), (41, 1), (55, 2), (70, 1), (77, 1), (98, 2), (100, 1), (102, 1), (116, 1), (123, 1), (218, 1), (249, 2), (258, 1), (425, 1), (547, 1), (677, 1), (817, 1), (2301, 1), (2302, 1), (2303, 1)], [(0, 1), (26, 1), (103, 1), (183, 1), (863, 1)], [(21, 1), (46, 1), (48, 1), (64, 2), (96, 1), (100, 1), (249, 1), (303, 1), (386, 1), (415, 1), (440, 1), (565, 1), (1988, 1), (2304, 1)], [(290, 1), (585, 1), (863, 1)], [(26, 1), (31, 1), (46, 1), (239, 1)], [(46, 1), (55, 1), (64, 1), (94, 1), (184, 1), (862, 1), (1307, 1)], [(46, 1), (102, 1)], [(29, 1), (33, 1), (63, 1), (73, 1), (95, 1), (363, 1), (364, 1), (438, 1), (563, 1), (1989, 1), (2305, 1)], [(6, 1), (2306, 1)], [(13, 1), (41, 1), (63, 1), (64, 1), (73, 1), (81, 1), (94, 1), (100, 1), (172, 1), (191, 1), (276, 1), (357, 1), (428, 1), (438, 1), (473, 1), (489, 1), (2143, 1)], [(12, 1), (21, 1), (45, 1), (46, 1), (70, 1), (102, 1)], [(19, 1), (35, 2), (46, 1), (66, 2), (71, 1), (88, 1), (145, 1), (162, 1), (189, 1), (218, 1), (260, 1), (539, 1), (789, 1), (2307, 1)], [(12, 1), (29, 1), (35, 1), (45, 2), (66, 1), (71, 1), (100, 1), (107, 1), (134, 1), (186, 1), (357, 1), (377, 1), (378, 1), (385, 1), (393, 1), (549, 1), (742, 1), (863, 1), (1338, 1), (2308, 1)], [(45, 1), (438, 1)], [(46, 1)], [(96, 1)], [(19, 1), (68, 1), (77, 1), (94, 1), (121, 1), (278, 1), (633, 1)], [(70, 1), (116, 1), (189, 1), (296, 1), (1279, 1)], [(26, 1), (35, 1), (45, 1), (46, 1), (97, 1), (186, 1), (444, 1), (726, 1)], [(64, 1), (2309, 1)], [(35, 1), (45, 1), (70, 1), (102, 1), (105, 1)], [(12, 1), (26, 1), (29, 1), (33, 1), (36, 1), (48, 1), (55, 1), (63, 1), (68, 1), (70, 1), (71, 1), (77, 1), (86, 2), (90, 1), (91, 1), (111, 1), (155, 1), (212, 1), (249, 1), (273, 1), (330, 1), (557, 1), (606, 1), (744, 1), (1629, 1), (2310, 1)], [(12, 2), (23, 1), (26, 1), (63, 1), (64, 2), (66, 1), (68, 1), (77, 1), (189, 1), (394, 1), (459, 1)], [(9, 1), (26, 1), (55, 1), (67, 1), (100, 1), (224, 1), (261, 1), (313, 1), (763, 1), (1116, 1), (2311, 1)], [(35, 1), (145, 1), (385, 1), (414, 1)], [(70, 1), (123, 1), (595, 1), (776, 1)], [(45, 1), (63, 1), (80, 1), (94, 1), (438, 1), (2312, 1)], [(23, 1), (26, 1), (2313, 1)], [(0, 1), (70, 1), (71, 1), (91, 1), (1508, 1)], [(13, 1), (101, 1), (170, 1), (290, 1), (527, 1)], [(21, 1), (64, 1)], [(12, 1), (18, 1), (20, 2), (50, 1), (55, 2), (71, 1), (73, 2), (93, 2), (103, 1), (225, 1), (272, 1), (778, 1)], [(0, 1), (9, 1), (16, 1), (20, 1), (29, 1), (31, 1), (46, 1), (68, 1), (74, 1), (75, 1), (77, 1), (86, 2), (91, 1), (97, 1), (100, 1), (101, 1), (132, 1), (162, 1), (185, 1), (202, 1), (298, 1), (394, 1), (447, 1), (482, 1), (725, 1), (726, 1), (886, 1)], [(863, 1)], [(12, 1), (46, 1), (96, 1), (497, 1)], [(35, 1), (46, 1), (66, 1), (100, 1), (101, 1)], [(24, 1), (60, 1), (1111, 1)], [(45, 1), (132, 1), (145, 1), (170, 1), (202, 1), (613, 1), (2314, 1)], [(15, 1), (16, 1), (17, 1), (26, 1), (29, 1), (60, 1), (86, 1), (91, 1), (93, 1), (122, 1), (161, 1), (169, 1), (549, 1), (874, 1), (1189, 1), (1211, 1), (2315, 1)], [(20, 1), (46, 1), (55, 1)], [(9, 2), (13, 1), (15, 2), (23, 1), (26, 5), (30, 5), (33, 1), (35, 3), (36, 1), (41, 1), (46, 2), (48, 2), (52, 1), (55, 5), (59, 1), (60, 1), (65, 1), (66, 1), (71, 1), (72, 1), (73, 1), (77, 1), (98, 1), (131, 1), (167, 1), (212, 1), (311, 3), (389, 1), (531, 1), (894, 1), (989, 1), (1178, 1), (1179, 1), (1302, 1), (1836, 1)], [(0, 1), (3, 1), (9, 1), (19, 1), (68, 1), (73, 1), (77, 1), (96, 1), (170, 1), (848, 1), (1305, 1), (1359, 1)], [(20, 1), (23, 1), (91, 1), (101, 1), (132, 1), (202, 1), (207, 1), (882, 1), (991, 1), (1230, 1)], [(105, 1), (549, 1), (2316, 1)], [(16, 1), (21, 1), (23, 1), (26, 1), (35, 1), (55, 3), (64, 2), (75, 1), (80, 1), (100, 2), (106, 1), (116, 1), (170, 1), (211, 1), (345, 1), (365, 1), (378, 1), (596, 1), (604, 1), (1344, 1)], [(31, 1), (35, 1), (45, 1), (66, 1), (426, 1)], [(12, 1), (46, 1), (132, 1)], [(0, 3), (3, 4), (4, 1), (5, 1), (8, 7), (9, 3), (10, 1), (11, 2), (12, 1), (13, 4), (16, 2), (18, 2), (19, 10), (20, 1), (21, 4), (23, 1), (24, 1), (26, 8), (27, 6), (33, 1), (35, 2), (36, 9), (41, 1), (44, 4), (45, 1), (53, 1), (54, 1), (55, 15), (59, 1), (60, 1), (63, 4), (64, 4), (65, 3), (66, 1), (67, 1), (70, 7), (71, 3), (72, 1), (73, 1), (77, 1), (78, 2), (79, 1), (80, 2), (84, 3), (99, 2), (100, 5), (101, 2), (102, 1), (103, 4), (106, 1), (107, 3), (111, 5), (113, 1), (115, 4), (116, 5), (118, 3), (119, 1), (120, 2), (121, 3), (123, 1), (125, 1), (126, 1), (129, 1), (131, 1), (132, 1), (133, 2), (137, 1), (145, 1), (153, 1), (160, 1), (162, 1), (165, 1), (166, 2), (170, 3), (175, 1), (180, 1), (183, 1), (185, 1), (186, 1), (189, 1), (191, 1), (197, 6), (202, 1), (204, 2), (206, 1), (208, 1), (210, 1), (211, 1), (213, 1), (214, 1), (216, 1), (219, 1), (224, 2), (225, 2), (253, 8), (256, 2), (261, 2), (270, 1), (271, 1), (272, 2), (275, 3), (280, 2), (285, 1), (286, 1), (308, 6), (309, 1), (312, 2), (315, 1), (319, 1), (320, 2), (339, 1), (340, 1), (354, 3), (364, 1), (365, 2), (377, 4), (378, 2), (384, 1), (387, 1), (389, 1), (391, 1), (394, 1), (407, 1), (412, 1), (424, 2), (442, 1), (444, 2), (446, 1), (463, 2), (473, 1), (475, 1), (482, 1), (490, 1), (491, 4), (492, 1), (497, 1), (505, 1), (523, 1), (524, 1), (527, 1), (538, 1), (539, 4), (547, 2), (549, 5), (553, 1), (559, 1), (568, 1), (569, 1), (572, 1), (576, 1), (585, 1), (588, 1), (594, 1), (610, 1), (625, 1), (648, 1), (661, 2), (675, 1), (684, 2), (706, 1), (727, 2), (811, 2), (822, 1), (856, 1), (857, 1), (860, 1), (863, 1), (878, 2), (880, 1), (881, 5), (882, 1), (922, 1), (942, 2), (957, 2), (963, 1), (984, 1), (999, 1), (1004, 1), (1077, 1), (1107, 1), (1111, 1), (1192, 1), (1205, 1), (1214, 1), (1229, 1), (1230, 1), (1275, 1), (1282, 1), (1294, 1), (1317, 1), (1331, 1), (1338, 1), (1341, 1), (1371, 1), (1429, 3), (1430, 2), (1438, 1), (1439, 2), (1488, 1), (1510, 1), (1534, 1), (1593, 1), (1598, 2), (1662, 1), (1667, 1), (1669, 1), (1679, 2), (1702, 1), (1704, 1), (1707, 2), (1747, 2), (1786, 1), (1848, 1), (1894, 1), (1928, 4), (1971, 2), (2004, 10), (2028, 1), (2103, 2), (2142, 1), (2147, 1), (2187, 1), (2223, 1), (2317, 1), (2318, 1), (2319, 1), (2320, 1), (2321, 1), (2322, 1), (2323, 1), (2324, 1), (2325, 1), (2326, 1), (2327, 2), (2328, 1), (2329, 1), (2330, 1), (2331, 1), (2332, 1), (2333, 1), (2334, 1), (2335, 1), (2336, 1), (2337, 1), (2338, 1), (2339, 1), (2340, 1), (2341, 1), (2342, 1), (2343, 1), (2344, 1), (2345, 2), (2346, 1), (2347, 1), (2348, 1), (2349, 1), (2350, 1), (2351, 1), (2352, 1), (2353, 1), (2354, 1), (2355, 1), (2356, 1), (2357, 1), (2358, 2), (2359, 1), (2360, 1), (2361, 1), (2362, 1), (2363, 1), (2364, 1), (2365, 1), (2366, 1), (2367, 1), (2368, 1), (2369, 1), (2370, 1), (2371, 1), (2372, 1), (2373, 1), (2374, 1)], [(46, 1), (132, 1)], [(71, 1), (103, 1), (116, 1), (146, 1), (225, 1), (249, 1), (426, 1), (451, 1), (626, 1), (715, 1), (1186, 1)], [(26, 1), (103, 1), (105, 1), (627, 1)], [(0, 1), (3, 1), (13, 1), (35, 1), (71, 1), (102, 1), (251, 1), (286, 1), (479, 1), (535, 1), (542, 1), (2375, 1)], [(45, 1), (438, 1)], [(12, 1), (15, 1), (48, 1), (473, 1), (545, 1), (2376, 1)], [(96, 1)], [(9, 1), (13, 3), (18, 2), (20, 2), (36, 1), (46, 1), (55, 1), (58, 1), (66, 1), (67, 1), (68, 1), (91, 1), (101, 1), (133, 1), (137, 1), (170, 2), (197, 1), (212, 1), (276, 2), (290, 1), (483, 1), (489, 1), (490, 1), (540, 1), (1248, 1), (1435, 1), (1714, 1), (1792, 1)], [(8, 1), (41, 1), (65, 1), (70, 1), (96, 1), (102, 1), (118, 1), (123, 1), (133, 1), (319, 1), (1187, 1)], [(8, 1), (9, 1), (11, 1), (17, 1), (20, 3), (27, 1), (55, 3), (63, 1), (68, 1), (70, 1), (77, 1), (88, 2), (96, 1), (100, 1), (105, 1), (118, 1), (191, 1), (312, 1), (451, 1), (496, 1), (527, 1), (539, 1), (1019, 1), (1580, 1), (2377, 1), (2378, 1)], [(8, 1), (12, 1), (19, 1), (20, 1), (26, 2), (46, 1), (55, 2), (64, 2), (73, 1), (75, 1), (92, 1), (108, 1), (116, 2), (130, 2), (145, 1), (162, 1), (185, 1), (191, 2), (249, 1), (253, 1), (269, 1), (594, 1), (606, 1), (625, 1), (692, 1), (995, 1), (1203, 1), (1315, 1), (2379, 1)], [(46, 1), (59, 1), (152, 1), (473, 1), (692, 1), (1291, 1), (2380, 1), (2381, 1)], [(11, 1), (20, 2), (21, 1), (23, 1), (25, 1), (26, 1), (35, 1), (45, 2), (55, 2), (66, 1), (70, 1), (72, 1), (100, 1), (108, 1), (118, 1), (123, 1), (142, 1), (160, 1), (162, 1), (170, 1), (261, 1), (312, 1), (549, 1), (608, 1), (658, 1), (1288, 1), (2382, 1), (2383, 1), (2384, 1), (2385, 1), (2386, 1)], [(31, 1), (35, 1), (46, 1), (55, 1), (265, 1), (658, 1), (1248, 1)], [(35, 1), (45, 1), (66, 1), (138, 1)], [(132, 1), (392, 1), (438, 1)], [(29, 1), (33, 1), (46, 1), (53, 1), (70, 1), (94, 1), (100, 1), (115, 1), (116, 1), (132, 1), (249, 1), (426, 1), (547, 1), (576, 1)], [(3, 1), (16, 1), (18, 1), (33, 1), (88, 1), (90, 1), (152, 1), (167, 1), (198, 1), (206, 1), (247, 1), (384, 1), (392, 1), (451, 1), (549, 1), (638, 1), (650, 1), (804, 1), (998, 1), (1011, 1), (1125, 1), (1338, 1), (1929, 1), (2387, 1), (2388, 1), (2389, 1), (2390, 1), (2391, 1), (2392, 1), (2393, 1), (2394, 1)], [(12, 1), (55, 1), (71, 2), (78, 1), (96, 1), (216, 1), (264, 1), (296, 1), (699, 1)], [(63, 1), (70, 1), (142, 1), (364, 1), (2395, 1)], [(96, 1)], [(70, 1), (100, 1), (116, 1), (305, 1), (553, 1), (775, 1), (1150, 1)], [(21, 1), (48, 1)], [(35, 1), (66, 1), (94, 1), (130, 1), (145, 1), (188, 1)], [(33, 1), (105, 1), (565, 1)], [(13, 2), (27, 1), (53, 1), (60, 1), (111, 1), (143, 1), (170, 1), (208, 1), (251, 1), (280, 1), (361, 1), (388, 1), (470, 1), (482, 1), (569, 1), (598, 1), (859, 1), (1704, 1), (2396, 1), (2397, 1), (2398, 1), (2399, 1)], [(17, 1), (548, 1)], [(13, 1), (19, 1), (36, 1), (48, 1), (208, 1), (211, 1)], [(31, 1), (35, 1), (45, 1)], [(3, 1), (4, 1), (9, 1), (11, 1), (12, 1), (20, 3), (26, 2), (28, 3), (35, 3), (36, 2), (41, 1), (45, 1), (46, 1), (48, 1), (55, 2), (66, 2), (68, 1), (72, 2), (88, 1), (99, 1), (100, 1), (101, 1), (106, 1), (143, 2), (179, 1), (202, 1), (211, 2), (219, 1), (261, 1), (270, 1), (306, 1), (323, 1), (397, 1), (438, 1), (473, 1), (482, 1), (530, 1), (576, 1), (578, 1), (955, 1), (1241, 1), (1242, 1), (1670, 2), (1851, 1), (2377, 2), (2400, 1)], [(10, 1), (16, 1), (45, 1), (66, 1), (101, 1), (138, 1), (170, 1), (1398, 1)], [(105, 1)], [(94, 1)], [(15, 1), (19, 1), (29, 1), (33, 1), (68, 1), (88, 1), (122, 1), (132, 1), (148, 1), (224, 1), (278, 1), (717, 1), (848, 1), (955, 1), (986, 1), (1229, 1)], [(96, 1)], [(12, 1), (33, 1), (96, 1), (125, 1), (253, 1), (837, 1)], [(9, 1), (13, 1), (19, 1), (20, 2), (46, 2), (55, 1), (64, 1), (249, 1)], [(23, 1), (27, 1), (36, 1), (102, 1), (204, 1), (1315, 1), (2401, 1)], [(70, 1), (94, 1), (123, 1)], [(9, 1), (70, 1), (116, 1), (315, 1)], [(18, 1), (33, 1), (35, 1), (36, 1), (48, 1), (66, 1), (86, 1), (91, 2), (102, 1), (115, 1), (145, 1), (170, 1), (185, 1), (189, 1), (370, 1), (371, 1), (377, 1), (447, 1), (456, 1), (489, 1), (539, 1), (620, 1), (773, 1), (783, 1), (787, 1), (890, 1), (918, 1), (1140, 1), (1155, 1), (1193, 1), (1286, 1), (1510, 1), (1707, 1), (1974, 1), (2402, 1), (2403, 1), (2404, 1), (2405, 1), (2406, 1), (2407, 2), (2408, 1), (2409, 1)], [(9, 1), (46, 1), (102, 1)], [(15, 1), (19, 1), (103, 1), (312, 1), (388, 1), (489, 1), (1593, 1), (2154, 1), (2410, 1)], [(20, 2), (26, 1), (46, 2), (76, 1), (99, 1), (102, 1), (142, 1), (162, 1), (186, 1), (244, 1), (482, 1), (531, 1), (673, 1), (1381, 1), (1606, 1), (2294, 1), (2411, 1)], [(11, 1), (20, 1), (27, 1), (35, 1), (39, 1), (55, 1), (68, 1), (77, 1), (97, 1), (111, 1), (115, 1), (132, 1), (138, 1), (191, 1), (239, 1), (388, 1), (435, 1), (617, 1), (1007, 1), (1012, 1), (1421, 1), (2412, 1), (2413, 1)], [(64, 1), (81, 1), (90, 1), (251, 1), (476, 1), (829, 1), (989, 1)], [(6, 1), (19, 1), (26, 1), (33, 1), (35, 1), (36, 1), (60, 1), (67, 1), (68, 1), (77, 1), (95, 1), (103, 1), (148, 1), (175, 1), (269, 1), (443, 1), (476, 1), (517, 1), (536, 1), (590, 1), (878, 1), (880, 1), (1327, 1), (1670, 1), (1747, 1), (2064, 1), (2414, 1), (2415, 1), (2416, 1), (2417, 1), (2418, 1), (2419, 1), (2420, 1), (2421, 1), (2422, 2), (2423, 1), (2424, 1), (2425, 1)], [(6, 1)], [(27, 1), (55, 1), (63, 2), (64, 1), (70, 1), (74, 2), (75, 1), (82, 2), (101, 1), (126, 1), (142, 1), (249, 1), (354, 1), (434, 1), (452, 1), (528, 1), (2216, 1), (2426, 1)], [(0, 1), (9, 2), (12, 1), (15, 1), (19, 2), (26, 1), (54, 1), (58, 1), (70, 1), (86, 2), (91, 1), (125, 1), (132, 1), (264, 1), (444, 1), (997, 1), (1490, 1), (1609, 1), (2427, 1)], [(64, 1), (149, 1), (451, 1), (1137, 1)], [(20, 1), (31, 1), (46, 2), (96, 1), (132, 1)], [(21, 1), (63, 1), (70, 1)], [(23, 1), (25, 1), (26, 1), (27, 1), (182, 1)], [(45, 1), (55, 1), (70, 1), (94, 1), (100, 1), (446, 1)], [(46, 1), (96, 1), (102, 1)], [(21, 1), (48, 1), (77, 1), (170, 1), (278, 1), (527, 1), (686, 1), (1221, 1)], [(12, 1), (66, 1), (73, 2), (77, 1), (86, 1), (96, 2), (100, 2), (189, 1), (290, 1), (435, 1), (2428, 1)], [(9, 1), (17, 1), (20, 1), (23, 1), (26, 1), (30, 1), (48, 1), (98, 1), (126, 1), (132, 1), (249, 1), (276, 1), (361, 1), (501, 1), (726, 1), (1158, 1), (1652, 1), (2429, 1), (2430, 1)], [(0, 1), (3, 1), (19, 1), (35, 1), (48, 1), (55, 1), (66, 1), (106, 1), (466, 1), (477, 1), (616, 1)], [(8, 1), (35, 1), (46, 1), (105, 1), (186, 1), (239, 1), (444, 1), (510, 1), (832, 1)], [(27, 1), (35, 1), (46, 2), (60, 1), (64, 1), (71, 1), (99, 1), (138, 1), (668, 1), (1426, 1)], [(9, 1), (44, 1), (55, 1), (70, 1), (90, 1), (96, 1), (102, 1), (103, 2), (116, 1), (123, 1), (249, 1), (927, 1)], [(9, 1), (12, 2), (20, 1), (26, 1), (33, 1), (45, 3), (60, 1), (102, 2), (107, 1), (219, 1), (293, 1), (397, 1), (519, 1), (1202, 2), (2431, 1), (2432, 1), (2433, 1)], [(9, 1), (20, 1), (26, 1), (224, 1), (726, 1)], [(48, 1), (293, 1), (483, 1), (2434, 1)], [(8, 2), (9, 1), (11, 2), (12, 3), (26, 5), (28, 1), (35, 2), (36, 3), (45, 2), (46, 1), (55, 9), (64, 4), (70, 4), (75, 1), (78, 1), (88, 1), (100, 1), (102, 1), (107, 2), (133, 2), (138, 1), (145, 1), (166, 2), (174, 1), (180, 1), (191, 1), (220, 1), (248, 1), (256, 1), (315, 1), (328, 2), (356, 1), (359, 1), (477, 1), (505, 1), (507, 2), (586, 1), (591, 1), (662, 1), (743, 1), (865, 1), (1101, 1), (1121, 1), (1329, 1), (1979, 1), (2043, 1), (2069, 1), (2435, 1), (2436, 1), (2437, 1), (2438, 1)], [(12, 1), (48, 1), (251, 1)], [(9, 2), (35, 1), (55, 1), (66, 1), (125, 1), (311, 1), (371, 1), (549, 1), (630, 1), (719, 1)], [(31, 1), (45, 1), (132, 1)], [(45, 1), (70, 1)], [(5, 1), (13, 1), (16, 1), (19, 1), (55, 1), (64, 1), (67, 1), (73, 1), (100, 1), (111, 1), (133, 1), (160, 1), (218, 1), (476, 1), (507, 1), (549, 1), (604, 1), (745, 1), (789, 1), (834, 1), (846, 2), (1248, 1), (2439, 1)], [(64, 1), (437, 1)], [(19, 1), (46, 1), (48, 1), (94, 1), (100, 1), (102, 2), (132, 1), (241, 1), (377, 1), (507, 1), (1592, 1), (1610, 2), (2440, 1)], [(55, 1), (70, 1), (103, 1), (123, 1)], [(3, 1), (55, 1), (59, 1), (407, 1), (451, 1)], [(45, 1), (53, 1), (709, 1)], [(96, 1)], [(13, 1), (19, 1), (64, 1), (211, 1), (219, 1), (497, 1), (848, 1), (1252, 1), (1425, 1), (2103, 1)], [(0, 1), (3, 1), (13, 1), (24, 1), (30, 1), (35, 1), (46, 1), (55, 3), (62, 1), (66, 1), (67, 1), (68, 1), (70, 1), (73, 2), (77, 1), (78, 1), (88, 1), (90, 1), (91, 1), (100, 1), (116, 2), (123, 1), (128, 1), (189, 1), (249, 3), (308, 2), (311, 1), (354, 1), (389, 1), (412, 1), (435, 1), (482, 1), (560, 1), (606, 1), (881, 2), (1043, 1), (1329, 1), (1457, 1), (1989, 1), (2072, 1)], [(9, 1), (45, 1), (1894, 1)], [(35, 1), (48, 1), (63, 1), (66, 1), (75, 1), (94, 1), (115, 1), (138, 1), (151, 1), (170, 1), (325, 1), (401, 1), (1421, 1)], [(9, 1), (12, 1), (45, 1), (102, 1), (269, 1), (514, 1), (535, 1), (662, 1), (815, 1), (1199, 1), (1919, 1), (2324, 1), (2441, 1)], [(130, 1), (132, 1)], [(19, 1), (35, 1), (46, 1), (53, 1), (64, 1), (68, 1), (77, 1), (133, 1), (186, 1), (312, 1), (475, 1), (1151, 1)], [(35, 1), (45, 1), (66, 1), (70, 1), (649, 1)], [(33, 1), (71, 1), (99, 1), (162, 1), (195, 1), (209, 1), (263, 1), (316, 1), (345, 1), (371, 1), (429, 1), (488, 2), (578, 2), (847, 1), (1139, 1), (1877, 2), (2442, 1), (2443, 1), (2444, 1), (2445, 1)], [(364, 1)], [(473, 1), (750, 1), (1034, 1), (1286, 1)], [(402, 1)], [(16, 1), (23, 1), (25, 1), (26, 1), (27, 1), (55, 1), (67, 1), (70, 1), (94, 1), (96, 1), (120, 1), (170, 2)], [(8, 1), (13, 1), (55, 2), (78, 2), (94, 1), (108, 1), (139, 1), (389, 1), (2072, 1), (2172, 1)], [(9, 1), (10, 1), (12, 1), (13, 1), (19, 1), (20, 1), (21, 1), (26, 1), (44, 1), (48, 1), (55, 4), (64, 1), (68, 2), (70, 1), (71, 1), (73, 1), (77, 2), (78, 1), (115, 1), (116, 1), (191, 1), (305, 1), (345, 1), (354, 1), (370, 1), (517, 1), (789, 1), (880, 1), (1143, 1), (1185, 1), (1302, 1), (1469, 1), (1534, 1), (1589, 1), (1593, 1), (1786, 1), (2036, 1), (2217, 1), (2386, 1), (2446, 1), (2447, 1), (2448, 1), (2449, 1), (2450, 1)], [(16, 1), (45, 1), (94, 1), (149, 1), (191, 1), (2451, 1)], [(21, 1), (63, 1), (64, 1)], [(45, 1), (102, 1), (275, 1), (438, 1)], [(63, 1), (70, 1), (409, 1)], [(0, 1), (3, 1), (85, 1), (91, 1), (580, 1), (691, 1), (2401, 1)], [(45, 1), (94, 1), (776, 1), (922, 1), (1594, 1)], [(62, 1), (68, 1), (77, 1), (127, 1), (137, 1), (1108, 1)], [(8, 1), (46, 1)], [(45, 1), (102, 1)], [(35, 1), (45, 1), (77, 1), (2452, 1), (2453, 1)], [(21, 2), (30, 1), (34, 1), (35, 2), (36, 1), (48, 1), (55, 4), (59, 1), (62, 1), (63, 1), (64, 1), (66, 2), (70, 2), (73, 1), (77, 1), (93, 1), (116, 1), (123, 1), (138, 1), (251, 1), (377, 1), (421, 1), (434, 1), (505, 1), (547, 1), (563, 1), (591, 1), (602, 1), (1291, 1), (1702, 1), (2454, 1), (2455, 1), (2456, 1), (2457, 1)], [(12, 1), (55, 2), (60, 1), (66, 1), (70, 1), (78, 1), (94, 1), (106, 1), (328, 1), (507, 1), (658, 1), (883, 1), (904, 1), (1430, 1)], [(2458, 1)], [(3, 1), (13, 1), (64, 2), (133, 2), (137, 1), (152, 1), (179, 1), (549, 1), (610, 1), (625, 1)], [(29, 1), (45, 1), (94, 1), (514, 1), (516, 1), (932, 1), (996, 1), (998, 1)], [(19, 1), (55, 1), (99, 1), (100, 1), (145, 1)], [(9, 1), (15, 1), (91, 1), (96, 1), (123, 1), (170, 1), (263, 1), (293, 1), (339, 1), (488, 1), (717, 1), (842, 1), (1011, 1), (1870, 1), (2459, 1)], [(132, 1), (133, 1), (437, 1), (743, 1)], [(44, 1), (55, 1), (73, 1), (106, 1), (133, 1), (137, 1), (225, 1), (253, 1), (272, 1), (370, 1), (479, 1), (1108, 1), (1859, 1), (2460, 1)], [(13, 1), (15, 1), (20, 1), (26, 1), (30, 1), (35, 1), (44, 1), (60, 1), (63, 1), (70, 1), (101, 1), (138, 1), (152, 1), (170, 1), (330, 1), (549, 1), (626, 1), (726, 1), (2461, 1)], [(16, 1), (55, 1), (70, 1), (145, 1), (184, 1), (328, 1), (844, 1), (865, 1)], [(12, 1), (46, 1), (75, 1), (107, 1), (170, 1), (276, 1), (932, 1)], [(26, 1), (31, 1), (33, 1), (46, 2), (55, 1), (68, 1), (77, 1), (152, 1), (167, 1), (368, 1), (466, 1), (2462, 1)], [(12, 1), (15, 1), (26, 1), (35, 1), (46, 2), (55, 1), (60, 1), (64, 1), (66, 1), (70, 1), (96, 1), (123, 1), (132, 1), (210, 1), (214, 2), (269, 1), (275, 1), (316, 1), (364, 1), (392, 1), (616, 1), (725, 1), (802, 1), (2463, 1)], [(3, 1), (13, 1), (19, 1), (31, 2), (46, 1), (64, 1), (71, 1), (88, 1), (96, 1), (152, 1), (185, 1), (212, 1), (305, 1), (525, 1), (539, 1), (692, 1), (757, 1), (996, 1), (1221, 1)], [(9, 1), (11, 1), (35, 1), (44, 1), (46, 1), (52, 1), (55, 3), (58, 2), (66, 1), (70, 1), (71, 1), (73, 1), (76, 1), (99, 1), (100, 1), (107, 1), (123, 1), (128, 2), (138, 2), (165, 1), (170, 1), (183, 1), (186, 2), (223, 1), (225, 1), (277, 1), (364, 1), (452, 2), (699, 1), (850, 1), (942, 1), (1430, 1)], [(16, 1), (55, 1), (63, 1), (70, 1), (116, 1), (123, 1)], [(3, 1), (35, 1), (66, 1), (923, 1)], [(12, 1), (13, 1), (16, 1), (20, 1), (35, 1), (43, 1), (45, 1), (46, 1), (55, 2), (60, 1), (66, 1), (84, 1), (100, 1), (132, 2), (180, 1), (238, 1), (307, 1), (387, 1), (404, 1), (407, 1), (482, 1), (834, 1), (894, 1), (1142, 1), (1355, 1), (2464, 1)], [(48, 1), (989, 1), (1185, 1)], [(63, 1), (64, 1)], [(12, 1), (35, 1), (60, 1), (91, 1), (94, 1), (102, 1), (105, 1), (400, 1), (910, 1)], [(46, 1), (55, 1), (70, 1), (102, 1), (116, 1), (123, 1), (158, 1), (275, 1), (421, 1), (438, 1)], [(9, 1), (24, 1), (28, 1), (31, 1), (35, 1), (45, 1), (46, 1), (63, 1), (66, 1), (70, 1), (71, 1), (80, 1), (164, 1), (300, 1), (765, 1), (1211, 1), (1641, 1), (2465, 1)], [(3, 1), (11, 1), (20, 1), (27, 1), (29, 1), (31, 1), (33, 1), (48, 1), (55, 1), (72, 1), (73, 2), (77, 1), (93, 1), (148, 1), (162, 1), (185, 1), (208, 1), (249, 1), (354, 1), (356, 1), (368, 1), (511, 1), (549, 1), (606, 1), (726, 1), (918, 1), (1341, 1), (1379, 1), (1836, 1)], [(35, 1), (104, 1), (105, 1), (197, 1), (385, 1), (1559, 1)], [(35, 1), (45, 1), (66, 1), (77, 1), (128, 1), (145, 1), (186, 1), (326, 1), (477, 1), (569, 1), (751, 1), (876, 1), (880, 1), (1534, 1), (2466, 1), (2467, 1)], [(94, 1), (96, 1), (132, 1), (142, 1), (162, 1)], [(3, 1), (12, 1), (20, 1), (26, 1), (36, 1), (39, 1), (44, 1), (55, 2), (60, 1), (66, 1), (94, 1), (102, 1), (107, 1), (276, 1), (446, 1), (475, 1), (1379, 1), (1457, 1), (2468, 1)], [(0, 1), (3, 1), (19, 1), (63, 1), (66, 1), (99, 1), (100, 1), (102, 1), (253, 1), (413, 1), (472, 1), (1022, 1), (1227, 1), (2469, 1), (2470, 1)], [(171, 1)], [(9, 1), (12, 1), (13, 8), (19, 2), (46, 1), (48, 2), (55, 2), (66, 5), (67, 1), (70, 1), (73, 3), (94, 1), (103, 1), (106, 1), (115, 2), (133, 1), (137, 1), (165, 1), (170, 2), (189, 4), (214, 1), (215, 1), (256, 1), (293, 1), (316, 1), (333, 1), (371, 1), (394, 2), (439, 1), (447, 3), (482, 1), (531, 1), (539, 3), (549, 1), (551, 2), (598, 4), (633, 1), (679, 2), (692, 1), (894, 1), (1425, 1), (2028, 1), (2203, 1), (2471, 1), (2472, 1), (2473, 1), (2474, 1)], [(12, 1), (48, 1), (69, 1), (354, 1), (513, 1)], [(12, 1), (19, 1), (26, 1), (30, 1), (55, 1), (58, 1), (68, 1), (77, 1), (88, 1), (99, 1), (170, 1), (547, 1), (742, 1), (1308, 1), (2475, 1)], [(19, 1), (26, 2), (41, 1), (46, 1), (60, 1), (64, 1), (71, 1), (111, 1), (116, 1), (145, 1), (178, 1), (222, 1), (277, 1), (321, 1), (1748, 1), (1860, 1), (2154, 1), (2412, 1), (2476, 1), (2477, 1)], [(55, 1), (414, 1), (560, 1), (880, 1), (961, 2), (2478, 1)], [(3, 1), (19, 2), (20, 2), (26, 3), (33, 1), (44, 1), (73, 1), (74, 2), (101, 1), (129, 1), (131, 1), (142, 1), (145, 2), (147, 1), (225, 1), (459, 1), (508, 1), (524, 1), (848, 1), (1221, 1)], [(9, 1), (45, 1), (63, 1), (64, 1), (86, 1), (121, 1), (214, 1), (273, 1), (438, 1), (447, 1), (1440, 1)], [(20, 1), (46, 1), (64, 1), (142, 1), (162, 1)], [(64, 1), (184, 1), (549, 1)], [(35, 1), (42, 1), (66, 1), (105, 1), (186, 1), (400, 1), (832, 1)], [(9, 1), (13, 1), (35, 1), (46, 1), (55, 1), (66, 1), (72, 1), (82, 1), (123, 1), (170, 1), (223, 1), (386, 1), (2479, 1)], [(28, 1), (39, 1), (66, 1), (94, 1), (102, 1), (154, 1), (184, 1), (189, 1), (296, 1), (328, 1), (385, 1), (425, 1), (506, 1), (557, 1), (911, 1), (1651, 1), (2480, 1), (2481, 1)], [(46, 2), (132, 1), (862, 1)], [(63, 1), (64, 1), (118, 1), (315, 1), (378, 1), (1589, 1), (2482, 1)], [(23, 1), (26, 1), (85, 1)], [(3, 1), (9, 1), (16, 1), (23, 1), (24, 1), (26, 1), (63, 1), (64, 1), (74, 1), (80, 2), (82, 1), (100, 1), (164, 1), (202, 1), (438, 1), (459, 1), (476, 1), (549, 1), (775, 1)], [(8, 1), (12, 1), (39, 1), (45, 1), (46, 1), (53, 1), (55, 3), (60, 1), (70, 1), (72, 1), (102, 1), (103, 1), (105, 1), (107, 1), (116, 1), (132, 2), (167, 1), (197, 1), (214, 1), (218, 1), (234, 1), (257, 1), (316, 1), (345, 1), (438, 2), (482, 1), (557, 1), (626, 1), (1203, 1), (1305, 1), (1662, 1), (1729, 1), (2483, 1), (2484, 1), (2485, 1), (2486, 1)], [(185, 1)], [(96, 1)], [(12, 1), (21, 1), (46, 1), (48, 1), (63, 1), (109, 1), (1007, 1)], [(0, 1), (26, 1), (54, 1), (63, 1), (97, 1), (170, 1), (239, 1)], [(9, 2), (26, 1), (27, 2), (41, 1), (70, 1), (82, 1), (100, 1), (101, 1), (103, 1), (148, 1), (167, 1), (626, 1)], [(13, 1), (19, 1), (45, 1), (66, 1), (70, 1), (105, 1), (145, 1), (404, 1), (563, 1)], [(9, 1), (19, 1), (20, 1), (26, 1), (35, 1), (46, 1), (48, 1), (64, 1), (107, 1), (138, 1), (158, 1), (187, 1), (214, 1), (377, 1), (389, 1), (472, 1), (513, 1), (563, 1)], [(31, 1), (46, 1), (132, 1), (185, 1)], [(70, 1), (130, 1)], [(48, 1), (77, 1), (499, 1), (686, 1)], [(63, 1), (64, 1), (101, 1), (132, 1), (170, 1), (726, 1)], [(3, 1), (16, 1), (36, 1), (50, 1), (63, 2), (64, 2), (70, 1), (121, 2), (145, 1), (253, 2), (273, 1), (389, 1), (592, 1), (597, 1), (657, 1), (904, 1), (1021, 1), (1080, 1), (1806, 1), (2487, 2)], [(3, 1), (12, 1), (36, 1), (43, 1), (46, 1), (68, 1), (77, 1), (94, 1), (95, 1), (182, 1), (263, 1), (321, 1), (393, 1), (465, 2), (528, 1), (549, 1)], [(12, 1), (19, 1), (26, 1), (35, 1), (45, 2), (66, 1), (67, 1), (68, 1), (77, 1), (102, 2), (103, 1), (204, 1), (218, 1), (356, 1), (438, 1), (1501, 1), (2488, 1), (2489, 1)], [(46, 1), (184, 1), (529, 1), (1186, 1), (1229, 1)], [(0, 1), (3, 1), (12, 2), (16, 1), (20, 1), (26, 1), (33, 1), (35, 1), (66, 1), (96, 1), (102, 1), (107, 1), (116, 1), (131, 1), (508, 1), (1834, 1)], [(16, 1), (45, 1), (50, 1), (132, 1), (253, 1), (278, 1)], [(3, 1), (27, 1), (31, 1), (73, 1), (88, 1), (100, 1), (101, 1), (105, 1), (491, 1), (1452, 1), (2168, 1)], [(35, 1), (82, 1), (94, 1), (100, 1), (130, 1), (507, 1), (548, 1), (1610, 1)], [(3, 1), (26, 1), (35, 1), (46, 1), (48, 1), (66, 1), (67, 1), (68, 1), (71, 1), (77, 1), (94, 1), (102, 1), (111, 1), (174, 1), (219, 1), (312, 1), (371, 1), (497, 1), (559, 1), (767, 1), (824, 1), (1055, 1), (1111, 1), (1193, 1), (1564, 1), (2490, 1), (2491, 1)], [(12, 1), (70, 1), (74, 1), (75, 1), (82, 2), (101, 1), (111, 1), (132, 1), (155, 1), (170, 1), (181, 1), (315, 1), (364, 1), (392, 1), (890, 1)], [(26, 1), (64, 1), (88, 1), (94, 1), (191, 1)], [(3, 1), (9, 2), (11, 1), (17, 1), (19, 2), (21, 1), (39, 1), (48, 1), (55, 3), (68, 1), (75, 1), (77, 1), (83, 1), (86, 1), (91, 1), (100, 1), (148, 1), (167, 1), (235, 1), (253, 1), (277, 1), (354, 2), (356, 1), (549, 1), (692, 1), (763, 1), (1341, 1), (1786, 1), (2001, 1), (2492, 1), (2493, 1)], [(0, 1), (86, 1), (91, 1), (130, 1)], [(3, 1), (46, 1), (48, 1), (74, 1), (106, 1), (145, 1), (153, 1), (158, 1), (194, 1), (444, 1), (451, 1), (468, 1), (497, 3), (598, 1), (613, 1), (674, 1), (727, 1), (852, 1), (932, 1), (940, 1), (1056, 1), (1254, 2), (1364, 1), (1492, 1), (2494, 1), (2495, 1)], [(23, 1), (27, 1), (28, 1), (35, 1), (36, 1), (130, 1), (984, 1)], [(70, 1), (478, 1)], [(19, 1), (27, 1), (45, 1), (55, 1), (73, 1), (95, 1), (132, 1), (161, 1), (230, 1), (377, 1), (483, 1), (533, 1), (686, 1), (881, 1), (1359, 1)], [(46, 1), (64, 1)], [(45, 1), (132, 1)], [(12, 1), (46, 1)], [(45, 1), (55, 2), (63, 1), (70, 2), (73, 1), (237, 1), (243, 1), (256, 1), (356, 1), (378, 1), (921, 1), (961, 1), (1344, 1)], [(94, 1)], [(0, 1), (12, 1), (24, 1), (48, 1), (55, 1), (67, 1), (70, 1), (73, 1), (94, 1), (116, 1), (123, 1), (356, 1), (496, 1), (535, 1), (814, 1), (1501, 3), (1799, 1)], [(20, 1), (55, 1), (70, 1), (94, 1), (162, 1), (209, 1), (508, 1), (522, 1), (2276, 1), (2496, 1)], [(9, 1), (130, 1), (132, 1), (1006, 1)], [(0, 1), (12, 1), (26, 2), (45, 1), (55, 2), (63, 1), (71, 1), (110, 1), (115, 1), (210, 1), (371, 1), (468, 1), (475, 1), (607, 1), (2050, 1), (2497, 1), (2498, 1), (2499, 1)], [(402, 1), (437, 1)], [(35, 1), (45, 1), (66, 1), (97, 1), (132, 1), (162, 1)], [(45, 1), (2500, 1)], [(12, 1), (48, 1), (64, 1), (923, 1)], [(46, 1), (132, 1), (595, 1), (862, 1)], [(13, 1), (19, 1), (20, 1), (29, 1), (36, 1), (41, 1), (54, 1), (55, 1), (73, 1), (79, 1), (86, 1), (125, 1), (145, 1), (425, 1), (549, 1), (567, 1), (874, 1), (1119, 1), (1697, 1)], [(15, 1), (24, 1), (70, 1), (316, 1), (658, 1), (725, 1), (1302, 1), (2501, 1)], [(46, 1), (68, 1), (77, 1)], [(9, 1), (12, 1), (20, 1), (50, 1), (55, 2), (63, 1), (64, 1), (67, 1), (96, 1), (170, 2), (191, 1), (1565, 1)], [(45, 1), (46, 1), (514, 1), (2502, 1)], [(78, 1), (434, 1), (2503, 1)], [(1315, 1)], [(70, 1), (101, 1), (170, 1), (989, 1), (2379, 1), (2504, 1)], [(12, 2), (19, 1), (20, 1), (41, 2), (45, 1), (50, 2), (55, 2), (64, 1), (71, 1), (77, 1), (78, 1), (100, 3), (103, 1), (107, 2), (126, 1), (198, 1), (210, 1), (214, 1), (253, 1), (269, 1), (276, 1), (378, 1), (392, 1), (445, 1), (473, 1), (507, 1), (586, 1), (662, 2), (679, 1), (834, 1), (836, 1), (857, 1), (1475, 1), (1760, 1), (2273, 1), (2505, 1)], [(12, 1), (27, 1), (48, 1), (162, 1)], [(18, 1), (20, 1), (71, 1), (74, 1), (90, 1), (100, 1), (130, 1), (132, 1), (170, 1), (2506, 1)], [(54, 1), (239, 1)], [(55, 1), (64, 1), (78, 1), (2507, 1)], [(23, 1)], [(103, 1), (251, 1), (254, 1), (316, 1), (1139, 1), (2002, 1), (2508, 1)], [(46, 1), (102, 1)], [(35, 2), (45, 1), (66, 1), (67, 1), (103, 1), (132, 1), (133, 1), (208, 1), (356, 1), (476, 1), (757, 1), (773, 1), (819, 1), (1126, 1), (2509, 1)], [(63, 1), (67, 1), (70, 1), (94, 1), (100, 1), (261, 1), (313, 1), (850, 1), (1961, 1)], [(24, 1), (46, 1), (96, 1)], [(4, 1), (12, 2), (15, 1), (26, 3), (33, 1), (55, 2), (58, 1), (59, 1), (70, 1), (71, 1), (78, 1), (94, 1), (99, 1), (100, 1), (123, 1), (131, 1), (132, 1), (133, 1), (187, 1), (406, 1), (479, 1), (588, 1), (591, 1), (906, 1), (1154, 1), (1399, 1), (1574, 1), (2510, 1)], [(45, 1), (64, 1), (70, 1), (123, 1), (208, 1), (272, 1), (498, 1), (1478, 1)], [(716, 1), (1315, 1), (2511, 1)], [(3, 1), (12, 1), (13, 1), (43, 1), (59, 1), (66, 1), (100, 1), (111, 1), (128, 1), (218, 1), (225, 1), (275, 1), (450, 1), (821, 1), (1670, 1)], [(23, 1), (26, 1), (36, 1), (162, 1), (202, 1), (438, 1), (476, 1), (549, 1)], [(16, 1), (53, 1), (63, 1), (70, 1), (103, 1), (106, 1), (178, 1), (223, 1), (254, 1), (316, 1), (365, 1), (482, 1), (690, 1), (1645, 1), (1950, 1), (2371, 1), (2512, 1), (2513, 1)], [(315, 1)], [(11, 1), (59, 1), (64, 1), (90, 1), (107, 1), (191, 1), (261, 1), (293, 1), (308, 1), (314, 1), (370, 1), (371, 1), (516, 1), (757, 1), (1070, 1), (1314, 1), (1679, 1), (2514, 1)], [(26, 1), (64, 1), (103, 1), (130, 1), (132, 1), (415, 1)], [(71, 1), (514, 1), (998, 1), (1121, 1), (1538, 1)], [(73, 1), (96, 1), (196, 1), (525, 1)], [(3, 1), (48, 1), (55, 1), (70, 1), (81, 2), (96, 1), (117, 1), (123, 1), (147, 1), (224, 1), (482, 1), (488, 1), (497, 1), (539, 1), (1225, 1)], [(0, 2), (3, 1), (9, 1), (11, 1), (12, 2), (19, 2), (39, 1), (45, 1), (46, 1), (58, 1), (60, 1), (64, 1), (74, 1), (75, 1), (102, 2), (107, 3), (128, 1), (132, 1), (170, 1), (178, 1), (198, 1), (210, 1), (482, 1), (857, 1), (1175, 1), (1203, 1), (1243, 1), (1325, 1), (1488, 1), (2370, 1), (2515, 1)], [(3, 1), (12, 1), (46, 1), (48, 1), (50, 1), (73, 1), (75, 1), (607, 1)], [(3, 1), (13, 4), (43, 1), (50, 2), (100, 1), (107, 1), (198, 2), (210, 2), (305, 1), (364, 1), (482, 1), (539, 1), (650, 1), (989, 1), (2516, 1), (2517, 1)], [(70, 1), (94, 1)], [(26, 1), (46, 1), (55, 1), (60, 1), (64, 1), (671, 1)], [(9, 1), (12, 1), (50, 1), (385, 1), (459, 1), (468, 1), (473, 1)], [(41, 1), (64, 1), (82, 1), (162, 1)], [(55, 1), (70, 2), (71, 1), (102, 1), (120, 1), (121, 2), (253, 1), (270, 1), (273, 1), (539, 1), (1708, 1)], [(23, 1)], [(10, 1), (13, 2), (19, 3), (20, 1), (27, 1), (29, 1), (35, 1), (53, 1), (55, 2), (65, 1), (67, 1), (68, 1), (77, 1), (91, 2), (100, 2), (102, 1), (103, 1), (111, 1), (126, 1), (145, 2), (158, 1), (162, 2), (218, 1), (251, 1), (275, 1), (330, 1), (354, 1), (482, 1), (497, 1), (563, 1), (594, 2), (668, 1), (817, 2), (850, 1), (943, 1), (1006, 1), (1047, 1), (1629, 1), (1713, 1), (1934, 1), (2518, 1)], [(19, 1), (21, 1), (29, 1), (33, 1), (48, 1), (1501, 1)], [(19, 1), (48, 1), (78, 1), (145, 1), (231, 1), (235, 1)], [(44, 1), (67, 1), (310, 1), (312, 1)], [(53, 1), (55, 1), (70, 1), (123, 1), (162, 1), (315, 1), (340, 1), (404, 1), (452, 1), (961, 1)], [(13, 1), (26, 1), (70, 1), (94, 1), (162, 1), (186, 1), (315, 1), (428, 1), (504, 1), (829, 1), (887, 1), (943, 1), (1151, 1), (1424, 1), (2519, 1)], [(105, 1)], [(31, 1), (46, 1), (132, 1), (514, 1)], [(96, 1)], [(48, 1), (68, 1), (276, 1), (955, 1)], [(9, 1), (43, 1), (70, 1), (77, 1), (105, 1), (123, 1), (133, 1), (139, 1), (404, 1), (452, 1), (612, 1), (842, 1), (908, 1), (1836, 1), (1971, 1), (2520, 1), (2521, 1)], [(23, 1), (26, 1), (33, 1), (67, 1), (68, 1), (77, 1), (88, 1), (106, 1), (116, 1), (120, 1), (131, 1), (371, 1), (549, 1), (908, 1), (2435, 1)], [(16, 1), (55, 2), (184, 1), (507, 1)], [(64, 1), (121, 1)], [(70, 1), (123, 1), (152, 1), (717, 1), (2522, 1)], [(3, 1), (9, 1), (12, 2), (29, 1), (33, 1), (44, 1), (45, 2), (48, 1), (64, 1), (67, 1), (158, 1), (167, 1), (444, 1)], [(66, 1), (253, 1), (389, 1), (438, 1)], [(19, 1), (101, 1), (145, 1), (170, 2), (278, 1), (613, 1), (1917, 1), (2523, 1)], [(105, 1)], [(12, 1), (29, 1), (43, 1), (53, 1), (64, 1), (71, 1), (91, 1), (161, 1), (312, 1), (353, 1), (607, 1), (717, 1), (996, 1), (998, 1), (1062, 1), (1148, 1), (1169, 1), (2524, 1)], [(12, 1), (19, 1), (26, 1), (27, 1), (31, 1), (64, 1), (66, 1), (88, 2), (96, 1), (125, 1), (145, 1), (148, 1), (184, 1), (197, 1), (215, 1), (353, 1), (394, 1), (607, 1), (2525, 1)], [(3, 1), (12, 1), (16, 1), (43, 1), (46, 1), (55, 1), (70, 1), (94, 1), (107, 1)], [(105, 1)], [(16, 2), (35, 1), (45, 1), (55, 3), (64, 1), (66, 1), (67, 1), (70, 1), (133, 2), (174, 1), (186, 1), (197, 1), (298, 1), (312, 1), (356, 1), (414, 1), (549, 1), (604, 1), (658, 1), (1021, 1), (1739, 1)], [(45, 1), (66, 1), (222, 1), (2526, 1)], [(21, 1), (24, 1), (48, 1), (55, 1), (70, 1), (261, 1), (1111, 1)], [(23, 1), (36, 1), (64, 1), (70, 1), (100, 1), (101, 1), (105, 1), (116, 1), (170, 1), (204, 1), (483, 1), (1457, 1), (1968, 1), (2527, 1)], [(15, 1), (35, 1), (45, 1), (70, 1), (138, 1), (315, 1), (447, 1), (514, 1), (1266, 1), (1405, 1), (2528, 1)], [(36, 1), (65, 3), (73, 2), (100, 1), (101, 1), (108, 1), (133, 2), (186, 1), (197, 2), (296, 1), (434, 1), (677, 2), (723, 1), (829, 1), (867, 2), (2219, 1), (2529, 1)], [(3, 1), (26, 1), (46, 1), (55, 2), (64, 1), (158, 1), (162, 1), (167, 1), (377, 1), (627, 1), (1145, 1), (2530, 1)], [(23, 1), (74, 1), (82, 1), (2531, 1)], [(3, 1), (16, 1), (18, 1), (31, 1), (35, 1), (63, 1), (66, 1), (71, 1), (102, 2), (123, 1), (136, 1), (138, 1), (170, 1), (316, 1), (456, 1), (594, 2), (998, 1), (1886, 1)], [(9, 1), (35, 1), (45, 1), (66, 2), (72, 2), (133, 1), (170, 1), (191, 1), (293, 1), (404, 1), (482, 1), (489, 1), (648, 1)], [(6, 1), (35, 2), (73, 2), (94, 1), (96, 1), (100, 1), (105, 1), (107, 1), (133, 1), (138, 1), (162, 1), (170, 1), (235, 3), (273, 1), (312, 1), (372, 1), (549, 1), (649, 1), (1121, 1), (2077, 1), (2532, 1), (2533, 1), (2534, 1)], [(96, 1)], [(8, 1), (55, 1), (63, 1), (64, 1), (170, 1), (438, 1), (444, 1), (559, 1)], [(0, 1), (3, 1), (35, 1), (46, 1), (55, 3), (66, 2), (70, 1), (137, 1), (138, 1), (189, 1), (311, 1), (1047, 1)], [(3, 1), (12, 1), (43, 1), (46, 1), (48, 1), (132, 1), (162, 1), (167, 1), (340, 1), (717, 1), (720, 1), (1073, 1)], [(116, 1), (120, 1)], [(15, 1), (19, 2), (60, 1), (66, 1), (71, 1), (100, 1), (102, 1), (145, 1), (170, 2), (241, 1), (253, 1), (275, 1), (348, 1), (477, 1), (488, 1), (563, 1), (1018, 1), (1080, 1), (1329, 1), (1385, 1), (2057, 1), (2535, 1)], [(35, 1), (45, 1), (55, 1), (66, 1), (91, 1), (186, 1), (658, 1)], [(10, 1), (13, 2), (14, 1), (19, 2), (20, 5), (29, 1), (30, 1), (31, 1), (33, 1), (36, 1), (41, 1), (44, 2), (48, 1), (55, 2), (63, 1), (64, 1), (71, 2), (72, 1), (82, 1), (88, 2), (90, 1), (91, 1), (98, 1), (100, 1), (103, 1), (107, 1), (115, 1), (126, 1), (142, 2), (148, 1), (149, 1), (152, 1), (162, 2), (167, 3), (182, 1), (208, 1), (212, 2), (230, 1), (239, 1), (249, 2), (296, 1), (328, 1), (353, 1), (377, 1), (389, 2), (435, 1), (451, 1), (472, 1), (482, 2), (505, 1), (563, 2), (598, 1), (625, 1), (720, 1), (749, 1), (874, 1), (932, 1), (975, 1), (1126, 1), (1174, 1), (1797, 1), (2106, 1), (2536, 1), (2537, 1), (2538, 1), (2539, 2), (2540, 1), (2541, 1), (2542, 2)], [(3, 1), (12, 1), (15, 1), (19, 2), (43, 1), (48, 1), (60, 1), (145, 1), (321, 1), (648, 1)], [(13, 1), (19, 1), (278, 1), (504, 1)], [(9, 2), (132, 1), (276, 1), (392, 2), (717, 1), (2543, 2)], [(77, 1), (1836, 1), (2544, 1)], [(10, 1), (16, 1), (149, 1)], [(13, 1), (16, 1), (23, 1), (26, 1), (27, 1), (35, 1), (36, 1), (46, 1), (66, 1), (72, 1), (86, 1), (138, 1), (145, 1), (162, 2), (186, 1), (249, 1), (312, 1), (377, 2), (431, 1), (434, 1), (438, 1), (531, 1), (547, 1), (549, 2), (726, 1), (817, 1), (1230, 1), (1497, 1), (1748, 1), (1886, 1)], [(45, 1), (55, 1), (66, 1), (70, 1), (71, 1), (73, 1), (106, 1), (116, 1), (834, 1), (989, 1), (2545, 1), (2546, 1)], [(9, 1), (13, 1), (55, 1), (75, 1), (120, 1), (170, 1), (197, 1), (206, 1), (377, 1), (451, 1), (984, 1), (1150, 1), (2547, 1)], [(11, 1), (16, 1), (27, 1), (35, 1), (48, 1), (55, 1), (68, 1), (70, 1), (71, 2), (77, 1), (78, 1), (105, 1), (143, 1), (147, 1), (170, 1), (191, 1), (386, 1), (1197, 1), (2548, 1), (2549, 1), (2550, 1), (2551, 1)], [(35, 1), (70, 1), (123, 1), (191, 1), (549, 1), (725, 1), (2143, 1)], [(20, 1), (29, 1), (46, 2), (70, 1), (102, 1), (1259, 1)], [(13, 1), (26, 1), (101, 2), (148, 1), (152, 1), (170, 1), (212, 1), (249, 2), (361, 1), (371, 1)], [(35, 1), (46, 1), (70, 1), (539, 1)], [(33, 1), (91, 1), (133, 1)], [(0, 1), (12, 1), (63, 1), (70, 1), (102, 1), (2552, 1)], [(102, 1), (103, 1), (104, 1), (145, 2), (148, 1), (210, 1), (253, 1), (296, 2), (451, 1), (823, 1), (1538, 1), (2553, 1)], [(26, 1), (64, 1), (93, 1), (96, 1), (170, 1), (211, 1), (386, 1)], [(15, 1), (25, 1), (55, 1), (67, 1), (97, 1), (145, 1), (273, 1), (507, 1), (528, 1), (1457, 1), (1610, 1), (2554, 1)], [(9, 1), (13, 1), (19, 1), (25, 1), (26, 1), (58, 1), (99, 1), (101, 1), (170, 1)], [(3, 2), (12, 1), (13, 1), (17, 1), (33, 1), (43, 1), (48, 1), (64, 2), (68, 2), (77, 2), (100, 3), (103, 1), (107, 1), (143, 1), (152, 1), (191, 1), (198, 1), (202, 2), (204, 1), (211, 1), (249, 1), (276, 1), (328, 1), (359, 1), (394, 1), (463, 1), (569, 1), (574, 1), (991, 1), (1353, 1), (1430, 1), (2555, 1), (2556, 1), (2557, 1), (2558, 1), (2559, 1)], [(70, 1), (116, 1), (123, 1), (412, 1)], [(3, 1), (48, 1), (67, 1)], [(8, 1), (11, 1), (13, 1), (48, 1), (60, 1), (101, 1), (107, 1), (170, 1), (277, 1), (547, 1), (726, 1), (1426, 1), (1646, 1)], [(16, 1), (46, 1), (53, 1), (55, 1), (64, 1), (120, 2), (211, 1), (237, 1), (261, 1), (413, 1), (863, 1), (1189, 1), (1548, 1)], [(4, 1), (13, 1), (17, 3), (24, 1), (26, 2), (33, 1), (35, 2), (39, 1), (44, 1), (55, 2), (58, 1), (60, 1), (66, 1), (70, 1), (74, 1), (94, 1), (100, 4), (101, 1), (103, 1), (115, 1), (158, 1), (170, 2), (179, 1), (255, 1), (261, 1), (267, 1), (298, 1), (364, 1), (425, 1), (426, 1), (473, 1), (497, 1), (507, 1), (527, 1), (528, 1), (539, 1), (715, 1), (762, 1), (765, 1), (786, 1), (802, 1), (807, 1), (848, 1), (862, 1), (878, 1), (960, 1), (1021, 1), (1160, 1), (1175, 1), (1184, 1), (1302, 1), (1344, 1), (1478, 1), (1937, 1), (2000, 2), (2195, 2), (2560, 1), (2561, 1), (2562, 1), (2563, 1), (2564, 1)], [(3, 1), (20, 1), (33, 1), (35, 1), (41, 1), (45, 1), (55, 1), (64, 1), (65, 1), (66, 1), (67, 1), (70, 1), (97, 1), (103, 1), (105, 1), (152, 1), (170, 1), (214, 1), (249, 1), (466, 1), (514, 1), (727, 1), (781, 1), (927, 1), (2388, 1), (2565, 1)], [(0, 1), (12, 1), (13, 1), (19, 1), (20, 1), (26, 1), (29, 1), (33, 1), (48, 1), (60, 1), (68, 1), (69, 1), (77, 1), (142, 1), (145, 1), (148, 1), (162, 1), (210, 1), (398, 1), (547, 1), (727, 1), (2566, 1)], [(3, 2), (16, 1), (20, 1), (29, 1), (55, 1), (58, 1), (68, 1), (71, 1), (77, 1), (94, 1), (99, 1), (158, 1), (170, 1), (365, 1), (444, 1), (585, 1), (932, 1)], [(103, 1), (371, 1)], [(20, 2), (55, 1), (70, 1), (91, 1), (94, 1), (123, 1), (133, 1), (142, 1), (162, 1), (184, 1), (322, 1), (549, 1), (1047, 1), (1081, 1)], [(21, 1), (63, 1), (103, 1), (438, 1)], [(12, 1), (29, 1), (33, 2), (55, 1), (68, 1), (77, 1), (101, 1), (126, 1), (127, 1), (131, 1), (163, 1), (202, 1), (253, 1), (280, 1), (297, 1), (361, 1), (476, 1), (536, 1), (878, 1), (1227, 1)], [(10, 1), (16, 1), (33, 1), (53, 1), (55, 2), (59, 1), (62, 1), (64, 1), (71, 2), (73, 1), (75, 1), (94, 1), (102, 1), (116, 1), (136, 1), (170, 1), (253, 1), (285, 1), (293, 1), (304, 1), (305, 1), (389, 2), (451, 1), (519, 1), (549, 1), (604, 1), (607, 1), (743, 1), (1006, 1), (1309, 1), (2058, 1), (2567, 1)], [(9, 1), (12, 1), (20, 1), (21, 1), (29, 1), (48, 1), (74, 1), (143, 1), (265, 1), (394, 1), (996, 1), (998, 1)], [(0, 1), (6, 1), (12, 1), (16, 1), (19, 1), (55, 1), (100, 1), (191, 1), (228, 1), (453, 1), (1544, 1), (2568, 1)], [(35, 1), (46, 1), (68, 1), (70, 1), (77, 1), (622, 1)], [(12, 1), (17, 1), (35, 1), (45, 1), (46, 2), (55, 1), (63, 1), (64, 1), (66, 1), (91, 1), (100, 1), (116, 1), (364, 1), (389, 1), (507, 1), (539, 1), (585, 1), (2562, 1), (2569, 1)], [(23, 1), (39, 1), (73, 1)], [(0, 1), (9, 2), (16, 1), (20, 2), (27, 1), (29, 2), (55, 1), (71, 1), (73, 1), (88, 2), (94, 1), (108, 1), (111, 2), (132, 1), (216, 1), (310, 1), (482, 1), (547, 1), (563, 1), (578, 1), (726, 1), (996, 1), (998, 1), (1378, 1), (1776, 1), (2462, 1), (2570, 1)], [(44, 1), (46, 1), (55, 1), (389, 1), (539, 1)], [(71, 1), (116, 1), (238, 1), (315, 1), (482, 1), (1589, 1), (2571, 1)], [(19, 1), (64, 1), (191, 1), (278, 1), (479, 1), (616, 1)], [(48, 1), (68, 1), (77, 1)], [(12, 2), (20, 1), (23, 1), (25, 1), (55, 1), (60, 1), (68, 1), (73, 1), (77, 1), (90, 1), (107, 1), (142, 1), (154, 1), (170, 1), (197, 1), (249, 1), (427, 1), (482, 1), (523, 1), (680, 1), (690, 1), (882, 1), (932, 1), (1062, 1), (1203, 1), (1275, 1), (1708, 1), (1754, 1), (2140, 1), (2572, 1), (2573, 1)], [(0, 1), (9, 1), (20, 1), (29, 1), (71, 1), (88, 1), (130, 1), (132, 1), (142, 1), (249, 1), (514, 1), (545, 1), (927, 1)], [(26, 1), (30, 1), (148, 1), (158, 1), (162, 1), (576, 1), (669, 1), (720, 1), (891, 1), (2574, 1), (2575, 1), (2576, 1)], [(19, 1), (33, 1), (46, 1), (60, 1), (142, 1), (228, 1), (249, 1), (837, 1), (927, 1), (943, 1), (2577, 1), (2578, 1), (2579, 1)], [(12, 2), (20, 1), (26, 1), (27, 1), (50, 2), (71, 1), (74, 1), (101, 1), (107, 1), (158, 1), (170, 1), (171, 1), (191, 1), (202, 1), (210, 1), (253, 1), (404, 1), (491, 1), (611, 1)], [(4, 1), (9, 1), (16, 1), (18, 2), (55, 1), (75, 1), (82, 1), (101, 1), (170, 1), (624, 1), (2023, 1), (2580, 1)], [(46, 1), (96, 1), (102, 1), (132, 1), (249, 1), (2581, 1)], [(0, 1), (3, 1), (11, 1), (12, 2), (21, 1), (35, 1), (46, 1), (48, 1), (53, 1), (72, 1), (102, 1), (107, 1), (239, 1), (314, 1), (549, 1), (617, 1), (709, 1)], [(20, 1), (23, 1), (35, 1), (44, 1), (45, 1), (55, 1), (63, 1), (66, 1), (70, 1), (170, 1), (186, 1), (984, 1)], [(105, 1), (185, 1)], [(7, 1), (9, 1), (13, 1), (26, 1), (60, 1), (66, 1), (70, 1), (100, 2), (104, 2), (107, 1), (189, 1), (191, 2), (253, 1), (273, 1), (313, 1), (434, 1), (438, 1), (829, 1), (869, 1), (1006, 1), (1608, 1), (1651, 1), (2582, 1), (2583, 1)], [(12, 1), (55, 1), (106, 1), (187, 1), (224, 1), (389, 1), (527, 1), (549, 1), (2584, 1)], [(12, 1), (27, 1), (35, 1), (48, 1), (55, 1), (63, 1), (64, 1), (101, 1), (132, 1), (170, 1), (1486, 1)], [(9, 1), (55, 1), (70, 1), (73, 1), (78, 1), (94, 1), (100, 1), (105, 1), (162, 1), (293, 1), (340, 1), (2492, 1), (2585, 1), (2586, 1)], [(12, 1), (45, 1), (102, 1)], [(46, 1)], [(96, 1), (105, 1)], [(45, 1)], [(0, 1), (9, 1), (12, 1), (18, 3), (26, 1), (35, 1), (36, 1), (45, 2), (50, 2), (53, 1), (55, 3), (66, 1), (67, 1), (102, 2), (103, 1), (111, 1), (115, 4), (211, 1), (223, 1), (224, 1), (261, 1), (316, 1), (363, 1), (456, 1), (473, 1), (547, 1), (633, 1), (721, 1), (737, 1), (1062, 1), (1426, 1), (2587, 1), (2588, 1)], [(26, 1), (27, 1), (36, 1), (1286, 1)], [(26, 1), (45, 1)], [(20, 1), (35, 1), (48, 1), (66, 1), (138, 1), (241, 2), (286, 1), (354, 1), (542, 1), (556, 1), (1711, 1)], [(6, 1), (10, 1), (15, 1), (19, 2), (26, 2), (45, 1), (58, 1), (67, 1), (126, 1), (132, 1), (152, 1), (170, 2), (208, 2), (212, 1), (215, 1), (269, 1), (280, 1), (468, 1), (496, 1), (589, 1), (616, 3), (813, 1), (1628, 1)], [(12, 2), (13, 1), (15, 1), (16, 1), (19, 1), (26, 1), (43, 1), (48, 1), (58, 1), (79, 1), (105, 1), (121, 1), (152, 1), (284, 1), (385, 1), (466, 1), (470, 2), (482, 1), (496, 1), (545, 1), (569, 1), (927, 1), (970, 1), (1133, 2), (1251, 1), (1463, 1), (2589, 1), (2590, 1)], [(26, 1), (36, 1), (64, 1), (88, 1), (202, 1), (476, 1), (482, 1), (1107, 1), (1995, 1)], [(48, 1), (68, 1), (77, 1), (1593, 1)], [(13, 1), (46, 1), (48, 1), (55, 1), (70, 1), (94, 1), (116, 1), (130, 1), (911, 1), (2009, 1), (2591, 1)], [(26, 1), (28, 1), (35, 1), (55, 1), (66, 1), (96, 1), (499, 1)], [(20, 1), (46, 1), (508, 1)], [(12, 1), (16, 1), (94, 1), (107, 1), (137, 1), (472, 1), (535, 1), (828, 1), (976, 1), (2592, 1)], [(0, 1), (451, 1), (1456, 1), (2593, 1)], [(9, 1), (12, 1), (19, 1), (20, 1), (68, 1), (77, 1), (96, 1), (125, 1)], [(0, 1), (4, 1), (7, 1), (26, 5), (45, 1), (55, 1), (59, 1), (60, 1), (64, 1), (66, 1), (70, 1), (71, 3), (74, 1), (79, 1), (88, 1), (93, 1), (100, 1), (101, 1), (107, 1), (127, 1), (139, 1), (143, 1), (145, 1), (170, 2), (348, 1), (465, 1), (489, 1), (593, 1), (613, 1), (667, 1), (668, 1), (865, 1), (1026, 1), (1178, 1), (1179, 1), (1426, 1), (1492, 1), (1525, 1), (2448, 1), (2594, 1)], [(6, 1), (33, 1), (46, 1), (91, 1), (133, 1)], [(35, 1), (66, 1), (897, 1)], [(9, 1), (35, 1), (39, 1), (231, 1), (2110, 1), (2595, 1)], [(549, 1)], [(12, 1), (19, 1), (21, 1), (33, 1), (64, 2), (66, 1), (82, 1), (129, 1), (170, 1), (313, 1), (542, 1), (2596, 1)], [(44, 1), (71, 1), (111, 1)], [(4, 1), (12, 1), (21, 1), (26, 1), (35, 1), (43, 1), (48, 1), (55, 1), (66, 1), (91, 1), (93, 1), (102, 1), (293, 1), (387, 1), (2597, 1)], [(16, 1), (26, 1), (27, 1), (60, 1), (101, 1), (170, 1), (234, 1), (354, 1)], [(0, 1), (3, 1), (13, 1), (19, 1), (33, 1), (71, 1), (96, 1), (152, 1)], [(3, 1), (16, 1), (19, 3), (35, 1), (39, 2), (44, 1), (46, 2), (48, 1), (60, 2), (65, 1), (66, 1), (67, 1), (71, 1), (75, 1), (91, 1), (133, 1), (194, 1), (210, 1), (219, 1), (225, 1), (234, 1), (253, 2), (377, 1), (451, 1), (491, 1), (497, 1), (727, 2), (951, 1), (2428, 1), (2518, 1), (2598, 1), (2599, 1)], [(35, 1), (46, 1), (55, 1), (60, 1), (66, 1), (151, 1), (170, 1), (186, 1), (479, 1)], [(9, 1), (167, 1), (264, 1)], [(96, 1), (1315, 1)], [(49, 1), (107, 1), (1155, 1), (2496, 1)], [(803, 1), (1090, 1)], [(45, 1), (73, 1), (102, 1)], [(20, 1), (23, 1), (26, 1), (55, 1), (447, 1), (726, 1)], [(6, 1), (30, 1), (71, 1), (98, 1), (139, 1), (249, 1), (574, 1), (726, 1), (1007, 1), (2600, 1)], [(0, 1), (3, 1), (12, 1), (16, 1), (19, 1), (26, 1), (60, 1), (102, 1), (228, 1)], [(29, 1), (33, 1), (64, 1), (68, 1), (77, 1), (170, 1), (2293, 1)], [(3, 1), (12, 1), (13, 1), (23, 1), (26, 1), (55, 1), (79, 1), (93, 1), (170, 1), (187, 1), (261, 1), (290, 1), (444, 1), (513, 1), (1248, 1), (2601, 1)], [(23, 1), (54, 1), (91, 1)], [(46, 1), (171, 1), (2602, 1)], [(9, 1), (18, 1), (20, 1), (29, 1), (36, 1), (45, 1), (46, 1), (47, 1), (67, 1), (68, 1), (73, 1), (77, 1), (86, 1), (100, 2), (132, 1), (162, 1), (463, 1), (568, 1), (627, 1), (2236, 1), (2603, 1), (2604, 1)], [(46, 1), (68, 1), (77, 1)], [(35, 1), (52, 1), (66, 1), (68, 1), (77, 1), (569, 1), (726, 1), (928, 1), (1357, 1), (2605, 1)], [(0, 1), (3, 1), (12, 1), (45, 1), (48, 1), (102, 1)], [(35, 1), (130, 1)], [(46, 1), (55, 1), (73, 1)], [(29, 1), (31, 1), (46, 1), (48, 1), (77, 1), (94, 1), (161, 1), (497, 1), (616, 1), (831, 1)], [(4, 1), (16, 1), (18, 1), (20, 1), (21, 1), (35, 1), (46, 1), (55, 1), (102, 1), (103, 1), (392, 1), (1664, 1)], [(9, 2), (11, 1), (12, 1), (13, 1), (19, 1), (20, 5), (26, 2), (33, 1), (36, 2), (44, 1), (46, 1), (50, 1), (55, 6), (62, 1), (67, 1), (71, 2), (79, 1), (88, 1), (100, 1), (107, 1), (113, 1), (115, 2), (167, 2), (170, 2), (179, 3), (197, 2), (210, 1), (225, 1), (253, 1), (312, 1), (345, 1), (365, 1), (377, 1), (436, 1), (463, 1), (483, 1), (507, 3), (576, 1), (604, 1), (692, 2), (699, 1), (720, 1), (837, 1), (982, 1), (1490, 1), (1610, 1), (1756, 1), (2362, 1), (2606, 1), (2607, 1), (2608, 1)], [(12, 1), (23, 1), (25, 1), (27, 1), (48, 1), (85, 1), (170, 1), (447, 1), (520, 1)], [(9, 1), (82, 1), (142, 1), (315, 1)], [(9, 1), (23, 1), (36, 2), (39, 1), (45, 3), (55, 1), (59, 1), (66, 1), (73, 3), (77, 1), (86, 2), (88, 1), (90, 1), (94, 1), (96, 1), (103, 1), (150, 1), (164, 1), (186, 1), (189, 1), (202, 2), (394, 1), (438, 1), (447, 1), (459, 1), (467, 1), (489, 1), (514, 1), (668, 1), (730, 1), (741, 1), (785, 1), (998, 1), (1006, 1), (1177, 1), (1381, 1), (1385, 2), (1612, 1)], [(35, 1), (45, 2), (96, 1), (102, 1), (138, 1)], [(10, 1), (16, 1), (20, 1), (35, 1), (75, 1), (78, 1), (100, 1), (107, 1), (126, 1), (138, 1), (186, 2), (191, 3), (198, 1), (287, 1), (649, 1), (1170, 1), (1577, 1)], [(12, 1), (19, 4), (20, 1), (24, 1), (29, 1), (31, 1), (33, 2), (36, 1), (39, 1), (55, 2), (58, 1), (66, 1), (72, 2), (78, 1), (99, 1), (122, 2), (189, 1), (239, 1), (253, 3), (277, 1), (374, 1), (442, 1), (496, 2), (515, 1), (585, 1), (598, 1), (1327, 1), (1438, 1), (1538, 2), (1974, 1), (2181, 1)], [(26, 1), (45, 1)], [(12, 1), (35, 1), (59, 1), (63, 1), (71, 1), (100, 1), (130, 1), (170, 1), (331, 1), (447, 1), (744, 1), (984, 1)], [(35, 1), (70, 1), (80, 1), (138, 1), (1904, 1), (2002, 1)], [(91, 1), (99, 1), (163, 1), (170, 1), (613, 1), (616, 1), (2609, 1)], [(9, 1), (55, 1), (64, 1), (82, 1), (100, 1), (110, 1), (275, 1), (316, 1), (353, 1), (498, 1), (607, 1), (704, 1), (1429, 1), (2345, 1), (2610, 1)], [(4, 1), (9, 1), (19, 1), (55, 1), (70, 1), (91, 1), (93, 1), (116, 1), (126, 1), (162, 1), (191, 1), (531, 1), (1108, 1), (1338, 1), (1589, 1), (2611, 1)], [(6, 1), (25, 1), (26, 1), (27, 1), (94, 1), (595, 1), (746, 1)], [(9, 2), (27, 1), (48, 1), (55, 1), (80, 1), (116, 1), (241, 1), (304, 1), (400, 1), (520, 1), (531, 1), (549, 1)], [(8, 1), (12, 1), (21, 1), (45, 1), (62, 1), (68, 1), (77, 1), (100, 1), (139, 1), (1427, 1)], [(12, 1), (21, 1), (48, 1), (96, 1)], [(45, 1), (73, 1)], [(27, 1), (55, 1), (63, 1), (70, 1), (73, 2), (100, 1), (101, 1), (109, 1), (116, 1), (123, 1), (170, 2), (386, 1), (726, 1)], [(46, 1), (132, 1), (595, 1), (776, 1)], [(53, 1), (55, 1), (103, 1), (249, 1), (547, 1), (792, 1), (2612, 1)], [(105, 1)], [(12, 1), (15, 1), (35, 2), (45, 2), (46, 1), (55, 6), (64, 1), (68, 1), (70, 1), (72, 1), (73, 1), (77, 1), (88, 1), (94, 1), (100, 1), (132, 1), (206, 1), (215, 1), (253, 1), (268, 2), (269, 1), (273, 1), (354, 1), (437, 1), (452, 1), (507, 1), (515, 1), (557, 1), (892, 1), (911, 1), (1261, 1), (1439, 1), (1455, 1), (1457, 1), (1524, 1), (2037, 1), (2139, 1), (2553, 1), (2613, 1), (2614, 1), (2615, 1), (2616, 1)], [(33, 1), (131, 1)], [(12, 1), (45, 1), (48, 1), (75, 1), (102, 1), (107, 1), (261, 1)], [(19, 1), (73, 1), (77, 1), (82, 1), (326, 1), (378, 1), (470, 1), (517, 1), (563, 1), (568, 1), (668, 1)], [(36, 1), (48, 2), (65, 1), (67, 1), (71, 1), (121, 1), (132, 1), (219, 1), (444, 1), (767, 1), (1001, 1), (1072, 1)], [(20, 1), (74, 2), (101, 2)], [(103, 1), (162, 1), (903, 1), (2617, 1)], [(19, 1), (20, 1), (48, 1), (53, 1), (68, 1), (77, 1), (142, 1), (215, 1), (529, 1)], [(13, 1), (26, 2), (30, 1), (55, 1), (79, 1), (91, 1), (93, 1), (160, 1), (170, 1), (227, 1), (290, 1), (677, 1), (880, 1), (1302, 1), (1359, 1), (2618, 1)], [(45, 1), (48, 1), (80, 1), (170, 1), (280, 1), (438, 1), (874, 1)], [(9, 1), (12, 1), (133, 1), (170, 1), (198, 1), (527, 1), (1203, 1)], [(48, 1), (68, 1), (71, 1), (77, 1), (1197, 1)], [(185, 1)], [(0, 1), (31, 1), (67, 1), (73, 1), (102, 1)], [(9, 1), (10, 1), (16, 1), (18, 1), (20, 2), (21, 1), (27, 1), (55, 1), (66, 1), (71, 1), (101, 1), (170, 1), (189, 1), (726, 1)], [(19, 1), (46, 1), (48, 1), (91, 1), (277, 1)], [(48, 1), (103, 1), (177, 1), (378, 1), (668, 1)], [(26, 1), (96, 1)], [(46, 1), (48, 1), (394, 1)], [(8, 1), (9, 1), (13, 1), (21, 1), (26, 2), (35, 2), (43, 2), (48, 1), (55, 1), (66, 3), (70, 1), (94, 1), (105, 1), (111, 1), (116, 2), (137, 1), (147, 1), (215, 1), (216, 1), (253, 1), (270, 1), (287, 1), (389, 1), (397, 1), (412, 1), (434, 1), (488, 1), (519, 1), (568, 1), (817, 1), (819, 1), (848, 1), (857, 1), (1405, 1), (1542, 1), (1677, 1), (2371, 1)], [(12, 1), (55, 3), (64, 1), (66, 1), (71, 1), (77, 1), (102, 1), (108, 1), (170, 1), (214, 1), (280, 1), (295, 1), (354, 2), (358, 1), (377, 1), (442, 1), (453, 1), (482, 1), (548, 1), (590, 1), (726, 1), (848, 1), (878, 1), (880, 2), (883, 1), (894, 1), (1111, 1), (1229, 1), (1302, 1), (1430, 1), (1679, 1), (2584, 1), (2619, 1), (2620, 1), (2621, 1), (2622, 1)], [(392, 1)], [(70, 1), (100, 1), (123, 1), (404, 1), (2169, 1)], [(3, 1), (12, 3), (16, 1), (60, 1), (73, 1), (94, 1), (107, 2), (111, 1), (162, 1), (210, 1), (261, 1), (377, 1), (406, 1), (499, 1), (1187, 1)], [(96, 1)], [(46, 1), (132, 1)], [(12, 1), (48, 1), (66, 1), (130, 1), (406, 1), (2623, 1)], [(19, 1), (48, 1), (68, 1), (73, 1), (77, 1)], [(45, 1), (170, 1), (547, 1)], [(9, 2), (11, 1), (18, 2), (35, 1), (46, 1), (55, 1), (70, 1), (90, 1), (482, 1)], [(9, 1), (20, 1), (26, 1), (41, 1), (44, 1), (46, 1), (100, 1), (127, 1), (249, 1), (280, 1), (468, 1), (476, 1)], [(0, 1), (3, 1), (12, 2), (64, 2), (71, 1), (73, 1), (107, 1), (198, 1), (207, 1), (348, 1), (1175, 1), (1793, 1)], [(39, 1), (46, 1), (123, 1), (276, 1), (315, 1), (451, 1), (903, 1), (989, 1), (1229, 1), (1837, 1), (2624, 1)], [(3, 1), (6, 1), (19, 1), (26, 1), (46, 1), (55, 1), (64, 1), (71, 1), (77, 1), (170, 2), (321, 1), (329, 1), (410, 1), (507, 1), (549, 1), (569, 1), (854, 1), (1062, 1)], [(0, 1), (3, 2), (8, 1), (9, 2), (16, 1), (20, 1), (26, 4), (55, 1), (58, 1), (71, 1), (82, 1), (86, 1), (100, 4), (101, 2), (103, 1), (109, 1), (122, 1), (133, 2), (143, 1), (145, 1), (149, 1), (211, 2), (220, 1), (238, 1), (244, 1), (315, 1), (328, 1), (361, 2), (364, 1), (377, 1), (414, 1), (459, 1), (465, 1), (482, 2), (519, 1), (530, 2), (576, 1), (598, 1), (668, 1), (708, 1), (1279, 1), (1548, 1), (1739, 1), (2015, 1), (2625, 1), (2626, 1)], [(55, 1), (64, 1), (78, 1), (96, 1), (185, 1)], [(55, 1), (100, 1)], [(96, 1)], [(118, 1), (378, 1)], [(31, 1), (101, 1), (148, 1), (170, 1), (211, 1), (392, 1), (726, 1), (2627, 1)], [(3, 1), (13, 1), (16, 1), (55, 1), (59, 1), (64, 1), (72, 1), (100, 1), (189, 1), (191, 1), (225, 1), (274, 1), (413, 1), (414, 1), (446, 1), (604, 1), (865, 1), (914, 1), (1006, 1), (1073, 1), (1455, 1), (2628, 1), (2629, 1)], [(12, 1), (46, 1), (132, 1), (406, 1)], [(58, 1), (77, 1), (100, 1), (510, 1), (569, 1), (831, 1), (1144, 1), (1194, 1)], [(9, 1), (12, 1), (46, 1), (177, 1), (567, 1)], [(12, 1), (21, 1), (24, 1), (26, 1), (35, 1), (45, 1), (60, 1), (70, 1), (100, 1), (107, 1), (108, 1), (121, 1), (138, 1), (2630, 1)], [(6, 1), (9, 1), (44, 1), (66, 1), (103, 1), (111, 1), (539, 1), (595, 1), (746, 1), (757, 1)], [(55, 1), (116, 1), (149, 1), (184, 1), (378, 1), (557, 1)], [(12, 1), (18, 1), (20, 2), (21, 1), (23, 1), (24, 1), (26, 1), (36, 1), (41, 1), (44, 2), (45, 1), (48, 1), (53, 1), (55, 5), (60, 1), (65, 1), (70, 1), (71, 1), (73, 1), (74, 1), (78, 1), (79, 1), (80, 1), (90, 2), (94, 1), (101, 1), (105, 1), (118, 1), (120, 1), (133, 1), (145, 1), (164, 1), (167, 1), (180, 1), (183, 1), (215, 1), (312, 1), (319, 1), (345, 1), (365, 1), (491, 1), (507, 1), (514, 1), (530, 1), (721, 1), (763, 1), (1107, 1), (1248, 1), (1404, 1), (1417, 1), (1691, 1), (2631, 1)], [(46, 1), (132, 1), (2401, 1)], [(45, 1), (70, 1), (94, 1), (186, 1), (371, 1), (1018, 1)], [(13, 1), (19, 1), (29, 1), (30, 1), (33, 1), (59, 1), (66, 1), (71, 1), (73, 2), (82, 1), (98, 1), (133, 1), (179, 2), (208, 1), (269, 1), (280, 1), (459, 1), (549, 1), (744, 1), (850, 2), (856, 1), (869, 1), (2632, 1)], [(55, 1), (71, 1), (96, 1), (132, 1), (967, 1), (968, 1), (2633, 1), (2634, 1)], [(12, 1), (55, 1), (71, 1), (96, 1), (219, 1), (539, 1), (549, 1)], [(45, 1), (132, 1)], [(13, 1), (23, 1), (33, 1), (35, 1), (46, 1), (55, 1), (66, 1), (152, 1)], [(3, 1), (13, 2), (19, 1), (33, 1), (48, 1), (53, 1), (55, 1), (78, 1), (96, 1), (131, 1), (138, 1), (186, 1), (211, 1), (241, 1), (328, 1), (454, 1), (504, 1), (563, 1), (647, 1), (847, 1), (883, 1), (1014, 2), (1066, 1), (2635, 1), (2636, 1), (2637, 2)], [(63, 1), (70, 1), (108, 1), (109, 1), (162, 1), (315, 1)], [(20, 1), (46, 1), (132, 1), (726, 1)], [(6, 1), (19, 1), (46, 1), (48, 1), (96, 1), (132, 1), (145, 1), (276, 1)], [(9, 1), (11, 2), (16, 1), (17, 3), (18, 1), (20, 1), (26, 2), (27, 1), (44, 2), (48, 1), (53, 1), (55, 1), (60, 1), (63, 1), (64, 1), (66, 2), (68, 2), (74, 1), (77, 2), (97, 1), (100, 3), (101, 2), (107, 2), (133, 1), (143, 1), (153, 1), (162, 1), (170, 2), (178, 1), (204, 1), (208, 1), (211, 1), (225, 1), (238, 2), (260, 1), (272, 1), (315, 1), (392, 1), (495, 1), (499, 1), (517, 1), (522, 1), (726, 1), (727, 1), (757, 2), (768, 1), (781, 1), (884, 1), (927, 1), (932, 1), (989, 1), (1135, 1), (1204, 1), (1329, 1), (1345, 1), (1580, 1), (1650, 1), (1789, 1), (2604, 1), (2638, 1), (2639, 1), (2640, 1)], [(46, 1), (132, 1), (923, 1)], [(12, 1), (20, 1), (33, 1), (48, 1), (55, 2), (68, 1), (69, 1), (70, 1), (77, 1), (78, 1), (91, 1), (102, 1), (107, 1), (123, 1), (131, 1), (210, 1), (249, 1), (549, 1), (726, 1), (817, 1)], [(0, 1), (9, 1), (26, 1), (82, 1), (109, 1), (167, 1), (717, 1)], [(12, 1), (125, 1), (198, 1), (1162, 1), (2211, 1)], [(12, 1), (16, 1), (21, 1), (2641, 1), (2642, 1)], [(12, 2), (23, 1), (28, 1), (35, 1), (43, 1), (60, 1), (66, 1), (68, 1), (77, 1), (91, 1), (105, 1), (128, 1), (145, 1), (186, 1), (224, 1), (312, 1), (325, 1), (496, 1), (529, 1), (539, 1), (613, 1), (667, 1), (832, 1), (1055, 1), (1192, 1), (1251, 1), (2643, 1), (2644, 1)], [(59, 1), (64, 1), (66, 1), (437, 1), (883, 1)], [(0, 1), (13, 1), (19, 1), (35, 1), (39, 1), (55, 1), (63, 1), (64, 1), (66, 2), (68, 1), (71, 1), (77, 1), (88, 1), (91, 2), (100, 1), (115, 1), (119, 1), (130, 1), (145, 3), (152, 1), (189, 1), (191, 1), (195, 1), (261, 1), (354, 1), (400, 1), (425, 1), (438, 1), (443, 1), (473, 1), (497, 1), (551, 2), (563, 1), (580, 1), (751, 1), (787, 1), (882, 1), (914, 1), (1047, 1), (1107, 1), (1169, 1), (1506, 1), (1657, 1), (1903, 1), (2645, 1), (2646, 1), (2647, 1)], [(105, 1)], [(13, 1), (20, 1), (35, 3), (36, 1), (43, 1), (53, 1), (55, 2), (64, 4), (66, 1), (73, 2), (75, 1), (78, 1), (86, 2), (91, 2), (94, 1), (100, 1), (101, 1), (138, 1), (145, 2), (179, 1), (183, 1), (186, 1), (191, 7), (197, 1), (205, 1), (209, 1), (215, 2), (220, 1), (223, 1), (238, 1), (319, 2), (378, 2), (451, 1), (527, 1), (549, 1), (576, 1), (633, 1), (668, 1), (907, 1), (995, 1), (1021, 1), (1150, 1), (1156, 1), (1286, 1), (1353, 1), (1379, 1), (1508, 1), (2156, 1), (2206, 1), (2439, 1), (2648, 1), (2649, 1), (2650, 1), (2651, 3), (2652, 1), (2653, 1)], [(178, 1)], [(8, 1), (31, 1), (33, 1), (46, 1), (130, 1), (131, 1), (132, 2), (167, 1), (482, 1), (998, 1), (2004, 1), (2394, 1), (2654, 1), (2655, 1)], [(9, 5), (12, 3), (13, 1), (16, 1), (19, 1), (20, 2), (21, 1), (23, 2), (36, 3), (41, 1), (44, 1), (46, 2), (50, 2), (51, 1), (55, 6), (58, 1), (60, 4), (64, 2), (67, 2), (71, 1), (72, 1), (73, 1), (74, 1), (75, 1), (78, 1), (82, 2), (88, 1), (100, 4), (111, 1), (119, 1), (132, 1), (135, 2), (147, 1), (170, 1), (171, 1), (175, 1), (178, 1), (183, 2), (197, 1), (198, 1), (211, 2), (214, 1), (215, 1), (219, 1), (221, 1), (249, 2), (299, 1), (361, 1), (377, 4), (404, 1), (438, 1), (468, 1), (482, 2), (483, 2), (517, 1), (521, 1), (563, 1), (699, 1), (726, 1), (737, 1), (743, 1), (775, 1), (847, 1), (865, 1), (869, 1), (932, 1), (962, 1), (966, 1), (975, 1), (1067, 1), (1192, 1), (1235, 1), (1248, 3), (1302, 1), (1412, 1), (1534, 1), (1535, 1), (1539, 1), (1678, 1), (1747, 2), (1754, 1), (1903, 1), (1957, 1), (2011, 1), (2517, 1), (2656, 1), (2657, 1), (2658, 1), (2659, 1), (2660, 1), (2661, 1), (2662, 1), (2663, 1)], [(42, 1), (68, 1), (263, 1), (955, 1)], [(13, 1), (33, 1), (35, 1), (55, 1), (60, 1), (66, 1), (70, 1), (152, 1), (576, 1)], [(94, 1)], [(3, 1), (10, 1), (12, 1), (45, 1), (50, 1), (64, 1), (67, 1), (80, 1), (102, 1), (275, 1), (438, 1), (2664, 1)], [(0, 1), (35, 1), (46, 1), (59, 1), (71, 1), (100, 1), (102, 1), (170, 1), (253, 1), (298, 1), (750, 1), (919, 1), (948, 1), (1513, 1)], [(12, 1), (30, 1), (36, 1), (41, 1), (55, 1), (64, 1), (70, 1), (71, 1), (73, 2), (82, 1), (91, 1), (105, 1), (107, 1), (152, 1), (210, 1), (464, 1), (725, 1), (1148, 1), (1236, 1)], [(6, 1), (9, 1), (12, 1), (26, 1), (30, 1), (50, 1), (60, 1), (82, 1), (83, 1), (88, 1), (91, 1), (98, 1), (107, 1), (116, 1), (179, 1), (209, 1), (215, 1), (314, 1), (363, 1), (384, 1), (385, 1), (387, 1), (473, 1), (549, 1), (850, 1), (903, 1), (1534, 1), (2023, 1), (2642, 2), (2665, 1), (2666, 1), (2667, 1), (2668, 1), (2669, 1), (2670, 1)], [(19, 1), (58, 1), (99, 1), (135, 1), (170, 1), (616, 1), (2671, 1)], [(9, 1), (12, 1), (26, 1), (46, 1), (55, 1), (59, 1), (63, 1), (73, 1), (82, 1), (100, 3), (172, 1), (182, 1), (211, 1), (214, 1), (218, 1), (275, 1), (280, 1), (386, 1), (465, 2), (482, 2), (588, 1), (1941, 1), (2672, 1), (2673, 1)], [(9, 2), (12, 1), (16, 1), (46, 1), (65, 1), (66, 1), (84, 1), (94, 2), (116, 1), (120, 2), (147, 1), (149, 1), (170, 1), (209, 1), (268, 1), (320, 1), (328, 1), (333, 1), (531, 1), (557, 1), (591, 1), (622, 1), (647, 1), (706, 1), (834, 1), (2674, 1), (2675, 2), (2676, 1)], [(13, 1), (55, 1), (66, 1), (100, 1), (115, 1), (128, 1), (137, 1), (482, 1), (539, 1), (747, 1), (1108, 1), (2677, 1)], [(103, 1)], [(3, 1), (9, 1), (12, 1), (13, 1), (16, 2), (19, 1), (20, 1), (29, 1), (30, 3), (33, 1), (36, 1), (39, 1), (54, 1), (55, 2), (60, 1), (65, 1), (68, 1), (71, 2), (72, 1), (73, 1), (86, 1), (91, 1), (92, 1), (98, 2), (100, 2), (101, 1), (122, 1), (130, 1), (132, 1), (133, 1), (139, 1), (145, 1), (158, 2), (170, 1), (186, 2), (214, 1), (223, 1), (231, 1), (290, 1), (378, 2), (423, 1), (443, 1), (447, 1), (470, 1), (549, 1), (571, 1), (613, 1), (669, 1), (723, 1), (955, 1), (1107, 1), (1111, 1), (1378, 1), (1940, 1), (2304, 1), (2341, 1), (2678, 1), (2679, 2), (2680, 1)], [(12, 1), (43, 1), (130, 1), (132, 1)], [(16, 1), (20, 1), (45, 1), (55, 3), (78, 1), (102, 2), (103, 1), (452, 1), (507, 1), (1229, 1), (1641, 1), (1973, 1), (2412, 1), (2681, 1)], [(12, 1), (23, 1), (27, 1), (31, 1), (35, 1), (36, 2), (66, 1), (68, 1), (77, 1), (100, 1), (102, 1), (103, 1), (111, 1), (116, 1), (139, 1), (145, 1), (162, 1), (175, 1), (181, 1), (249, 1), (253, 1), (378, 2), (444, 1), (466, 1), (482, 1), (622, 1), (709, 1), (755, 1), (850, 1), (944, 1), (963, 1), (1130, 1), (1564, 1), (2682, 1)], [(5, 2), (16, 1), (28, 1), (36, 1), (55, 1), (70, 1), (296, 1), (323, 1), (328, 1), (423, 1), (476, 1), (594, 1), (773, 1), (834, 1), (1006, 1), (2448, 1)], [(19, 1), (21, 1), (26, 1), (35, 1), (46, 1), (48, 2), (65, 1), (66, 1), (145, 1), (160, 1), (186, 1), (189, 1), (387, 1)], [(13, 1), (18, 1), (19, 1), (55, 1), (73, 1), (75, 1), (78, 1), (206, 1), (215, 1), (253, 1), (298, 1), (346, 1), (496, 1), (527, 1), (568, 1), (610, 1), (1079, 1), (2683, 1)], [(94, 1), (145, 1), (438, 1), (613, 1), (948, 1)], [(13, 1), (139, 1), (243, 1), (612, 1)], [(12, 1), (13, 1), (15, 1), (19, 2), (21, 2), (26, 1), (48, 1), (53, 1), (55, 3), (60, 3), (65, 1), (67, 1), (71, 1), (100, 2), (162, 1), (178, 1), (180, 1), (198, 1), (215, 1), (224, 1), (284, 1), (287, 1), (314, 1), (319, 1), (328, 2), (360, 1), (378, 2), (394, 1), (406, 1), (488, 1), (527, 1), (531, 1), (578, 1), (602, 1), (633, 1), (679, 1), (680, 1), (865, 1), (960, 1), (1012, 1), (1088, 1), (1117, 2), (1274, 1), (1859, 2), (2296, 1), (2684, 1), (2685, 1), (2686, 1), (2687, 1), (2688, 1), (2689, 1), (2690, 1), (2691, 1), (2692, 1), (2693, 1)], [(13, 1), (19, 1), (48, 1), (72, 1), (121, 1), (178, 1), (179, 1), (293, 1), (521, 1), (529, 1), (1055, 1)], [(5, 1), (9, 1), (12, 2), (19, 2), (26, 1), (30, 1), (58, 1), (63, 1), (77, 1), (93, 1), (101, 2), (102, 1), (103, 1), (132, 1), (180, 1), (202, 2), (249, 1), (258, 1), (361, 1), (364, 1), (394, 2), (400, 1), (464, 1), (482, 1), (527, 1), (625, 2), (719, 1), (750, 1), (1064, 1), (1146, 1), (1210, 1), (1248, 1), (1425, 1), (2430, 1), (2646, 1), (2694, 1)], [(3, 1), (13, 1), (35, 1), (66, 1), (70, 1), (72, 1), (73, 1), (94, 1), (123, 1), (549, 1)], [(16, 1), (50, 1), (66, 1), (145, 1), (189, 1)], [(13, 2), (19, 1), (46, 1), (64, 1), (71, 1), (152, 1), (330, 1)], [(48, 1), (103, 1), (133, 1), (296, 1), (298, 1), (389, 1), (394, 1), (944, 1), (2695, 1), (2696, 1)], [(12, 1), (46, 1)], [(12, 1), (26, 1), (46, 1), (70, 1), (139, 1), (371, 1)], [(13, 1), (33, 2), (44, 1), (55, 2), (70, 1), (73, 3), (106, 1), (118, 1), (133, 1), (191, 1), (206, 1), (261, 1), (265, 1), (273, 1), (311, 1), (414, 1), (518, 1), (578, 1), (690, 1), (984, 1), (1013, 1), (1153, 1), (1234, 1), (1431, 1), (1879, 1), (1917, 1), (2273, 1), (2697, 1), (2698, 1), (2699, 1), (2700, 1), (2701, 1)], [(0, 1), (3, 1), (12, 1), (35, 1), (46, 1), (276, 1), (280, 1), (389, 1), (820, 1), (1458, 1)], [(9, 1), (101, 1), (547, 1)], [(35, 1), (45, 1), (94, 1), (722, 1)], [(45, 1), (60, 1), (438, 1), (1021, 1), (1355, 1)], [(35, 1), (46, 1)], [(9, 1), (10, 1), (12, 1), (24, 1), (35, 1), (46, 1), (50, 1), (59, 1), (60, 1), (66, 1), (67, 1), (96, 1), (133, 1), (137, 1), (166, 1), (225, 1), (404, 1), (475, 1), (483, 1), (539, 2), (831, 1), (850, 1), (1046, 1)], [(45, 1), (46, 1), (70, 1), (102, 1)], [(31, 1), (46, 2), (132, 1)], [(12, 1), (46, 1), (50, 1), (63, 1), (67, 1), (71, 2), (73, 1), (77, 1), (133, 1), (197, 2), (253, 2), (377, 1), (507, 1), (1610, 3), (1657, 1), (1756, 2), (1780, 1), (2143, 1), (2454, 1), (2568, 1), (2702, 1)], [(21, 1), (94, 1)], [(12, 1), (66, 1), (104, 1), (189, 1)], [(66, 1), (71, 1), (102, 2), (103, 1), (149, 2), (170, 1), (197, 1), (209, 1), (322, 1), (819, 1), (2703, 2)], [(12, 2), (46, 1), (48, 1), (64, 1), (70, 1), (107, 1), (111, 1), (1186, 1), (1309, 1)], [(31, 2), (46, 3), (71, 1), (99, 1), (132, 2), (206, 1), (371, 1), (386, 1), (444, 1), (549, 1), (692, 1), (720, 1), (2704, 1)], [(20, 1), (48, 1), (55, 3), (60, 1), (71, 1), (77, 1), (97, 1), (105, 1), (354, 1), (874, 1), (954, 1), (1477, 1), (2069, 1), (2705, 1)], [(55, 1), (73, 1), (84, 1), (414, 1)], [(82, 1), (170, 1)], [(11, 1), (30, 1), (63, 1), (64, 1), (91, 2), (93, 1), (98, 1), (100, 1), (107, 2), (143, 1), (394, 1), (549, 1), (2225, 1), (2706, 1)], [(9, 1), (12, 1), (15, 1), (26, 1), (48, 1), (64, 1), (107, 1), (207, 1)], [(499, 1)], [(0, 1), (3, 1), (12, 1), (16, 1), (45, 1), (102, 2)], [(12, 1), (46, 1), (1062, 1)], [(16, 1), (18, 1), (20, 1), (45, 1), (55, 1), (70, 1), (102, 2), (103, 1), (438, 1), (580, 1), (849, 1), (1474, 1)], [(11, 1), (12, 1), (13, 1), (19, 1), (20, 2), (24, 1), (26, 3), (30, 2), (35, 1), (39, 1), (55, 2), (58, 1), (60, 1), (64, 1), (66, 1), (98, 1), (103, 1), (107, 1), (133, 1), (138, 1), (153, 1), (166, 1), (198, 1), (206, 1), (249, 2), (548, 1), (549, 1), (582, 1), (854, 1), (1140, 1), (1144, 1), (1676, 1), (2707, 1), (2708, 1)], [(20, 1), (55, 1), (68, 1), (77, 1), (82, 1), (137, 1), (170, 1), (400, 1), (549, 1)], [(0, 1), (3, 1), (12, 1), (13, 1), (20, 1), (44, 1), (45, 1), (46, 1), (58, 2), (64, 1), (68, 1), (71, 1), (77, 1), (88, 2), (101, 1), (107, 3), (126, 1), (132, 1), (139, 1), (170, 3), (191, 1), (198, 1), (276, 1), (290, 1), (314, 1), (361, 1), (389, 1), (482, 1), (643, 1), (873, 1), (1503, 1)], [(46, 1), (74, 1), (75, 1), (82, 1)], [(23, 1), (25, 1), (27, 2), (31, 1), (36, 1), (84, 1), (91, 1), (170, 1), (202, 1), (516, 1)], [(35, 1), (45, 1), (66, 1), (77, 1), (2646, 1), (2709, 1)], [(12, 1), (15, 1), (48, 1), (50, 1), (71, 1)], [(9, 1), (30, 1), (33, 1), (35, 1), (66, 1), (91, 1), (98, 1), (131, 1), (138, 1), (549, 1)], [(0, 1), (10, 1), (55, 2), (60, 1), (102, 1), (111, 1), (133, 1), (145, 1), (261, 1), (311, 1), (447, 1), (568, 1), (576, 1), (751, 1), (1934, 1)], [(55, 1), (64, 1), (78, 1), (80, 1), (198, 1), (989, 1), (1477, 1)], [(12, 1), (50, 1), (91, 1), (354, 1), (932, 1)], [(77, 1), (82, 1), (101, 1), (170, 1), (326, 1), (354, 1), (470, 1), (726, 1)], [(33, 1), (63, 1), (64, 1), (111, 1), (392, 1)], [(30, 1), (44, 1), (55, 2), (63, 1), (91, 1), (98, 1), (104, 1), (189, 1), (198, 1), (210, 1), (211, 1), (215, 1), (253, 1), (328, 1), (354, 1), (427, 1), (569, 1), (626, 1), (668, 1), (680, 1), (819, 1), (894, 1), (1437, 1)], [(12, 2), (20, 1), (27, 2), (36, 2), (50, 1), (64, 1), (66, 1), (67, 1), (90, 2), (94, 1), (100, 1), (107, 1), (111, 1), (204, 1), (432, 1), (615, 1), (726, 1), (1013, 1), (1119, 1), (1568, 1)], [(19, 1), (55, 1), (60, 1), (73, 1), (145, 1), (170, 1), (218, 1), (1359, 1)], [(26, 1), (46, 1)], [(21, 1), (55, 1), (64, 1), (67, 1), (100, 2), (104, 1), (219, 1), (273, 1), (285, 1)], [(13, 1), (19, 2), (26, 1), (44, 1), (46, 1), (58, 1), (60, 1), (64, 1), (70, 1), (100, 1), (210, 1), (225, 1), (253, 1), (549, 1), (560, 1), (725, 1), (2710, 1)], [(31, 1), (130, 1), (776, 1), (922, 1), (1007, 1), (1218, 1)], [(48, 1), (68, 1), (70, 1), (77, 1), (105, 1), (857, 1)], [(13, 1), (19, 1), (59, 1), (225, 1)], [(12, 1), (19, 1), (33, 1), (43, 1), (48, 1), (63, 1), (73, 3), (77, 1), (86, 1), (91, 1), (94, 1), (131, 1), (170, 1), (261, 1), (303, 1), (326, 1), (438, 1), (1988, 1), (2304, 1)], [(19, 1), (48, 1), (64, 1), (68, 1), (483, 1), (759, 1), (2711, 1), (2712, 1)], [(12, 1), (30, 1), (48, 1), (73, 1), (75, 1), (107, 1), (128, 1), (750, 1), (834, 1)], [(3, 1), (21, 2), (26, 1), (30, 3), (35, 1), (60, 1), (65, 1), (66, 1), (94, 2), (98, 3), (100, 1), (102, 1), (107, 1), (111, 1), (136, 2), (158, 1), (211, 1), (231, 1), (377, 1), (467, 1), (482, 1), (662, 1), (668, 1), (886, 2), (1004, 1), (1355, 2), (1414, 1), (1822, 1), (2219, 1), (2713, 1), (2714, 1)], [(23, 1), (25, 1), (27, 1), (35, 1), (44, 1), (68, 1), (77, 1), (88, 1), (111, 1), (238, 1), (253, 1), (299, 1), (438, 1), (444, 1), (535, 1), (814, 1), (834, 1), (1568, 1)], [(73, 1), (74, 1), (75, 1), (130, 1), (184, 1)], [(9, 1), (12, 1), (19, 1), (26, 2), (44, 1), (55, 3), (60, 1), (64, 1), (70, 1), (78, 1), (88, 1), (101, 2), (107, 1), (119, 1), (125, 1), (215, 2), (225, 1), (499, 1), (548, 1), (819, 1), (1426, 1), (1938, 1), (2492, 1), (2715, 1)], [(96, 1), (101, 1), (170, 1)], [(23, 1), (25, 1), (26, 1), (35, 1), (55, 1), (66, 1), (70, 1), (120, 1)], [(66, 1), (84, 1), (115, 1), (122, 1), (189, 1), (312, 1), (986, 1)], [(130, 1), (132, 1), (1594, 1)], [(15, 1), (27, 1), (30, 1), (44, 1), (54, 1), (88, 1), (91, 1), (98, 1), (204, 1), (223, 1), (253, 1), (588, 1)], [(60, 1), (75, 1), (205, 1), (451, 1)], [(13, 1), (20, 1), (35, 1), (46, 1), (53, 1), (66, 1), (96, 1), (142, 1), (145, 1), (186, 1), (1882, 1)], [(19, 1), (26, 1), (30, 1), (145, 2), (162, 1), (321, 1), (613, 1)], [(35, 2), (60, 1), (66, 1), (70, 1), (72, 1), (102, 1), (103, 1), (145, 1), (149, 1), (2080, 1)], [(19, 1), (44, 1), (55, 2), (58, 1), (68, 1), (73, 1), (77, 1), (100, 2), (101, 1), (211, 1), (225, 1), (230, 1), (296, 1), (308, 1), (361, 1), (386, 1), (394, 1), (880, 1), (881, 1), (1008, 1), (1917, 1)], [(46, 1), (132, 1)], [(35, 1), (46, 1), (73, 1), (101, 1), (138, 1), (170, 1)], [(0, 1), (4, 1), (20, 1), (36, 1), (55, 3), (71, 1), (88, 1), (99, 1), (103, 1), (115, 1), (857, 1), (865, 1), (2716, 1)], [(0, 1), (4, 2), (16, 1), (17, 1), (20, 3), (21, 1), (30, 1), (55, 1), (60, 1), (96, 1), (100, 1), (101, 1), (107, 1), (132, 1), (143, 1), (150, 1), (162, 2), (215, 1), (280, 2), (296, 1), (316, 1), (451, 1), (519, 1), (539, 1), (598, 1), (632, 1), (702, 1), (726, 1), (1221, 2), (1777, 1), (1789, 1), (2187, 1), (2717, 1), (2718, 1), (2719, 1), (2720, 1)], [(13, 1), (19, 1), (41, 1), (48, 1), (96, 1), (100, 1), (107, 1), (127, 1)], [(9, 1), (70, 1), (130, 1)], [(9, 1), (20, 1), (68, 1), (77, 1), (93, 1), (100, 1), (111, 1), (354, 1), (531, 1), (875, 1), (919, 1), (1216, 1), (1842, 1), (2049, 1)], [(6, 1), (29, 1), (31, 1), (71, 1), (84, 1), (100, 1), (143, 1), (147, 1), (148, 1), (162, 1), (167, 1), (312, 1), (516, 1), (533, 1), (1291, 1), (1412, 1), (2721, 1)], [(4, 1), (12, 1), (20, 1), (39, 1), (46, 1), (50, 1), (58, 1), (64, 1), (71, 1), (78, 1), (90, 1), (183, 2), (230, 1), (320, 1), (353, 1), (498, 1), (1361, 1), (1400, 1)], [(3, 1), (13, 1), (19, 2), (20, 1), (26, 1), (29, 1), (30, 1), (41, 1), (48, 1), (55, 1), (66, 1), (69, 1), (72, 1), (88, 1), (100, 1), (145, 1), (147, 1), (148, 1), (305, 1), (364, 1), (463, 1), (479, 1), (535, 1), (559, 1), (563, 1), (1019, 1), (1521, 1), (2604, 1)], [(46, 1)], [(45, 1), (132, 1), (803, 1), (1144, 1)], [(18, 1), (46, 1), (55, 1), (64, 1), (70, 1), (130, 1), (132, 1), (299, 1), (582, 1), (1144, 1), (2722, 1), (2723, 1)], [(96, 1), (162, 1), (170, 1), (293, 1), (908, 1), (1047, 1), (1354, 1)], [(9, 2), (13, 1), (15, 1), (17, 1), (21, 1), (30, 2), (48, 1), (68, 1), (77, 1), (99, 1), (126, 1), (152, 1), (180, 1), (466, 1), (467, 1), (514, 1), (626, 1), (633, 1), (852, 1), (1038, 1), (1344, 1), (2453, 1), (2724, 1)], [(12, 1), (70, 1), (105, 1), (389, 1), (466, 1), (499, 1)], [(41, 1), (46, 1), (71, 1), (73, 1), (115, 1), (167, 1), (400, 1), (1357, 1), (2725, 1)], [(0, 1), (96, 1), (102, 1), (251, 1)], [(55, 1), (100, 1)], [(15, 1), (16, 1), (60, 1), (210, 1), (2726, 1)], [(23, 1), (29, 1), (70, 2), (71, 1), (216, 1), (249, 1), (261, 1), (539, 1), (1192, 1)], [(46, 1), (70, 1)], [(9, 1), (133, 1)], [(46, 1)], [(0, 2), (3, 1), (12, 1), (31, 1), (58, 1), (102, 2), (121, 1), (209, 1), (363, 1), (535, 1), (814, 1), (998, 1)], [(9, 1), (11, 1), (12, 3), (19, 1), (20, 1), (55, 1), (58, 1), (59, 1), (60, 1), (64, 1), (68, 1), (74, 1), (77, 1), (82, 1), (100, 1), (125, 1), (128, 1), (143, 1), (198, 1), (214, 1), (215, 1), (249, 1), (253, 1), (275, 1), (465, 1), (563, 1), (848, 1), (1088, 1), (1227, 1), (1338, 1), (1364, 1), (1438, 1)], [(12, 1), (16, 1), (19, 1), (33, 1), (35, 2), (41, 1), (44, 1), (46, 1), (52, 1), (55, 1), (59, 1), (60, 1), (66, 2), (71, 1), (102, 3), (132, 3), (170, 1), (198, 1), (202, 1), (225, 1), (536, 1), (558, 1), (595, 1), (616, 2), (662, 1), (1026, 1), (1145, 1), (1307, 1), (1411, 1), (1671, 1), (2657, 2), (2727, 1), (2728, 1), (2729, 1), (2730, 1)], [(3, 1), (12, 2), (55, 1), (65, 2), (70, 1), (71, 1), (100, 1), (111, 1), (123, 1), (170, 1), (185, 1), (248, 1), (297, 1), (435, 1), (438, 1), (538, 1), (918, 1), (1226, 1)], [(96, 1)], [(9, 1), (13, 1), (19, 1), (33, 1), (35, 1), (64, 1), (86, 1), (100, 1), (103, 1), (107, 1), (162, 2), (251, 1), (444, 1), (482, 1), (516, 1), (1144, 1), (1187, 1), (1764, 1), (2707, 1), (2731, 1)], [(31, 1), (46, 3), (115, 1), (132, 1), (144, 1), (167, 1), (207, 1), (613, 1), (616, 1), (998, 1), (2655, 1)], [(3, 1), (12, 1), (15, 1), (16, 1), (17, 1), (19, 2), (21, 1), (31, 1), (44, 1), (48, 1), (58, 1), (63, 1), (64, 1), (73, 1), (88, 2), (100, 3), (106, 1), (107, 1), (139, 2), (148, 1), (198, 1), (225, 1), (230, 1), (269, 1), (275, 1), (276, 2), (280, 1), (316, 1), (382, 1), (384, 1), (392, 1), (448, 1), (477, 1), (539, 1), (737, 1), (832, 1), (957, 1), (1327, 1), (1550, 1), (1747, 1)], [(55, 1), (115, 1), (183, 1), (371, 1), (1708, 1)], [(12, 1), (19, 1), (43, 1), (45, 1), (60, 2), (63, 1), (66, 1), (70, 2), (73, 1), (102, 1), (111, 1), (158, 1), (325, 1), (439, 1), (459, 1), (475, 1), (549, 1), (556, 1), (2732, 1)], [(11, 1), (35, 1), (45, 1), (55, 1), (100, 1), (107, 1), (996, 1)], [(3, 1), (30, 2), (35, 1), (66, 1), (81, 1), (130, 1), (138, 1), (186, 1), (394, 1), (560, 1), (658, 1), (1274, 1), (1456, 2), (2733, 1)], [(45, 1), (64, 1)], [(12, 1), (13, 1), (23, 1), (26, 2), (27, 1), (36, 1), (43, 1), (75, 1), (94, 1), (100, 1), (101, 1), (107, 1), (152, 1), (161, 1), (202, 1), (261, 1), (312, 1), (482, 1), (902, 1), (1679, 1), (2734, 1)], [(116, 1), (249, 1), (296, 1), (2628, 1), (2735, 1)], [(13, 1), (21, 1), (55, 1), (71, 1), (78, 1), (84, 1), (100, 1), (101, 1), (119, 1), (171, 1), (320, 1), (473, 1), (986, 1), (996, 1), (2705, 1), (2736, 1)], [(21, 1), (46, 1), (48, 1), (60, 1), (64, 1), (68, 1), (77, 1), (107, 1), (132, 1)], [(3, 1), (9, 1), (13, 1), (17, 1), (19, 1), (21, 1), (33, 1), (39, 1), (48, 1), (60, 1), (65, 1), (67, 1), (93, 1), (185, 1), (265, 1), (285, 1), (549, 2), (1144, 1), (1607, 1), (2737, 1)], [(9, 1), (13, 1), (16, 2), (18, 1), (30, 1), (35, 1), (36, 1), (48, 1), (55, 6), (64, 1), (65, 1), (70, 1), (91, 2), (100, 1), (105, 1), (108, 1), (133, 1), (145, 1), (153, 1), (216, 1), (249, 1), (296, 1), (447, 1), (456, 1), (658, 1), (846, 1), (865, 1), (908, 1), (932, 1), (1439, 2), (1538, 1), (1972, 1), (2738, 1), (2739, 1), (2740, 1), (2741, 1), (2742, 1)], [(35, 1), (77, 1), (130, 1), (186, 1), (2743, 1), (2744, 1), (2745, 1)], [(59, 1), (71, 1), (75, 1), (249, 1), (451, 1)], [(4, 1), (26, 1), (35, 1), (58, 1), (93, 1), (101, 1), (465, 1), (789, 1)], [(12, 1), (41, 1), (66, 1), (70, 1), (71, 1), (73, 1), (82, 1), (425, 1), (482, 1), (942, 1), (1021, 1), (2746, 1)], [(426, 1)], [(23, 1), (27, 2), (35, 1), (36, 2), (45, 1), (46, 1), (66, 1), (68, 1), (77, 1), (91, 1), (145, 1), (186, 1), (668, 1)], [(35, 1), (45, 1), (70, 1), (130, 1)], [(60, 1), (73, 1), (96, 1)], [(128, 1), (184, 2), (211, 1), (489, 1)], [(35, 1), (66, 1), (115, 1), (134, 1), (170, 1), (238, 1), (328, 1), (425, 1), (744, 1), (1658, 1), (2021, 1), (2747, 1)], [(9, 1), (29, 1), (170, 1), (717, 1), (1148, 1), (2748, 1)], [(9, 1), (12, 1), (33, 1), (35, 1), (45, 1), (55, 1), (65, 1), (66, 1), (70, 2), (98, 1), (116, 2), (118, 1), (162, 1), (183, 1), (186, 1), (223, 1), (304, 1), (305, 1), (412, 1), (501, 1), (552, 1), (633, 1), (712, 1), (775, 1), (1079, 1), (1469, 1), (1889, 1), (1890, 1), (2430, 1), (2448, 1), (2749, 1), (2750, 1), (2751, 1)], [(24, 1), (35, 1), (46, 1), (48, 1), (55, 1), (101, 1), (145, 1), (170, 1), (186, 1), (378, 1), (400, 1), (539, 1), (545, 1), (549, 1), (796, 1), (832, 1), (886, 1), (2294, 1), (2752, 1), (2753, 1), (2754, 1), (2755, 1)], [(0, 1), (9, 2), (15, 1), (55, 1), (63, 2), (64, 1), (70, 1), (116, 1), (126, 1), (170, 1), (371, 1), (475, 1), (476, 1), (535, 1), (814, 1), (1011, 1), (1435, 1), (2756, 1)], [(35, 1), (45, 1), (48, 1), (66, 1), (70, 1)], [(10, 1), (13, 1), (30, 1), (35, 2), (39, 1), (45, 1), (64, 2), (86, 1), (91, 2), (94, 1), (111, 1), (133, 1), (138, 2), (170, 2), (219, 1), (231, 1), (285, 1), (345, 1), (394, 1), (722, 1), (829, 1), (842, 1), (996, 1), (1140, 1), (1364, 1), (1477, 1), (1807, 1), (2757, 1)], [(60, 1), (94, 1), (325, 1), (1111, 1)], [(863, 1)], [(13, 1), (249, 1), (535, 1)], [(45, 1), (91, 1)], [(0, 1), (9, 1), (20, 1), (26, 1), (35, 1), (44, 1), (63, 1), (68, 1), (71, 1), (77, 1), (90, 2), (96, 1), (102, 1), (145, 1), (293, 1), (394, 1), (533, 1), (547, 1), (717, 1), (801, 1), (1007, 1), (1460, 1), (1609, 1), (2245, 1), (2758, 1)], [(0, 1), (12, 1), (26, 1), (50, 1), (64, 1), (198, 1), (211, 1), (2359, 1)], [(15, 1), (26, 1), (48, 1), (60, 1), (96, 1), (107, 1), (348, 1)], [(45, 1), (70, 1)], [(12, 1), (13, 1), (17, 1), (19, 2), (26, 1), (48, 2), (63, 1), (68, 1), (77, 1), (94, 1), (100, 1), (109, 1), (125, 1), (170, 1), (171, 1), (313, 1), (377, 1), (473, 1), (519, 1), (520, 1), (2341, 1)], [(6, 1)], [(15, 1), (23, 1), (25, 1), (48, 1), (132, 1), (831, 1), (1306, 1)], [(15, 1), (33, 1), (35, 1), (48, 1), (55, 3), (66, 2), (72, 1), (86, 1), (100, 1), (132, 1), (167, 1), (185, 1), (189, 2), (191, 1), (253, 1), (285, 1), (507, 1), (804, 1), (878, 1), (998, 1)], [(105, 1)], [(63, 1), (70, 1), (82, 1), (582, 1)], [(19, 1), (90, 1), (132, 1), (133, 1), (145, 1), (186, 2), (201, 1), (249, 1), (290, 1), (482, 1), (757, 1), (820, 1), (1136, 1)], [(45, 1)], [(8, 1), (9, 1), (84, 1), (101, 1), (516, 1), (995, 1)], [(3, 3), (8, 1), (9, 1), (12, 1), (16, 2), (18, 1), (19, 1), (20, 2), (25, 1), (26, 2), (30, 1), (35, 2), (45, 1), (59, 1), (66, 2), (78, 1), (86, 2), (88, 2), (90, 1), (91, 1), (94, 1), (105, 1), (107, 1), (138, 1), (172, 1), (186, 1), (189, 1), (191, 3), (197, 1), (209, 1), (215, 1), (256, 1), (261, 2), (273, 1), (312, 1), (370, 1), (385, 1), (407, 1), (453, 1), (473, 1), (539, 1), (549, 1), (567, 1), (684, 1), (689, 1), (726, 1), (768, 1), (832, 2), (926, 1), (1019, 1), (1021, 1), (1151, 1), (1177, 1), (1550, 1), (1577, 1), (1646, 1), (1878, 1), (2448, 1), (2659, 1), (2759, 2), (2760, 1)], [(23, 1), (26, 1), (46, 1), (68, 1), (77, 1), (93, 1), (101, 1), (132, 1), (559, 1)], [], [(21, 1), (55, 1), (70, 1), (84, 1), (170, 1), (256, 1), (312, 1), (327, 1), (446, 1), (524, 1), (865, 1), (1133, 1), (1752, 1)], [(35, 1), (46, 1), (66, 1)], [(12, 1), (33, 1), (46, 1), (82, 1), (102, 1), (107, 1), (111, 1), (131, 1), (1438, 1), (2761, 1), (2762, 1)], [(13, 1), (19, 1), (46, 1), (64, 1), (563, 1)], [(12, 1), (13, 1), (29, 1), (60, 1), (63, 2), (64, 1), (90, 1), (91, 1), (94, 1), (100, 1), (276, 1), (394, 1), (444, 1), (1044, 1), (1062, 1), (2763, 1)], [(3, 1), (46, 1), (70, 1), (186, 1)], [(8, 1), (65, 1), (116, 1), (2764, 1)], [(16, 2), (23, 1), (45, 1), (46, 1), (67, 1), (71, 1), (73, 1), (86, 2), (91, 1), (133, 1), (444, 1), (447, 1), (473, 1), (578, 1), (627, 1), (784, 1), (1149, 1), (1285, 1), (2765, 1)], [(80, 1), (158, 1), (186, 1), (251, 1), (254, 1), (272, 1), (296, 1), (482, 1), (535, 1), (547, 1), (549, 1), (814, 1), (1141, 1), (1257, 1), (1950, 1), (2705, 1), (2766, 1), (2767, 1), (2768, 1)], [(12, 1), (13, 1), (16, 1), (50, 1), (53, 1), (55, 2), (64, 1), (73, 1), (96, 1), (100, 1), (102, 1), (107, 1), (121, 1), (170, 1), (180, 1), (198, 1), (219, 1), (274, 1), (315, 1), (454, 1), (527, 1), (604, 1), (820, 1), (847, 1), (1011, 1), (1179, 1), (1928, 1), (2438, 1), (2769, 1)], [(46, 1), (49, 1), (102, 1), (138, 1), (186, 1), (2458, 1)], [(43, 1), (55, 1), (185, 1), (249, 1), (438, 1), (446, 1), (549, 1), (677, 1), (725, 1)], [(12, 1), (13, 1), (19, 1), (35, 1), (48, 2), (55, 1), (70, 1), (73, 1), (94, 1), (100, 1), (123, 1), (138, 1), (151, 1), (184, 1), (549, 1)], [(12, 1), (25, 1), (36, 1), (44, 1), (54, 1), (60, 1), (61, 1), (103, 1), (126, 1), (162, 1), (280, 1), (293, 1), (348, 1), (1030, 1), (1083, 1), (1203, 1), (1651, 1), (2770, 1)], [(6, 1)], [(35, 2), (45, 1), (55, 1), (66, 2), (67, 1), (103, 1), (265, 2)], [(35, 1), (55, 1), (66, 1), (84, 1), (94, 1), (989, 1), (1020, 1), (1357, 1), (2206, 1)], [(26, 1), (31, 1), (45, 1), (46, 1)], [(6, 1), (9, 2), (23, 1), (29, 1), (31, 1), (33, 1), (74, 1), (99, 1), (132, 1), (143, 1), (148, 3), (276, 1), (466, 1), (473, 1), (568, 1), (802, 1), (819, 1), (1432, 1), (2036, 1), (2771, 1)], [(35, 1), (43, 1), (44, 1), (66, 1), (78, 1), (648, 1)], [(24, 1), (31, 1)], [(20, 1), (31, 1), (35, 1), (66, 1), (90, 1), (93, 1), (152, 1), (189, 1), (202, 2)], [(29, 1), (33, 1), (35, 1), (46, 1), (55, 1), (60, 1), (66, 1), (94, 1), (138, 1)], [(33, 1), (130, 1), (131, 1), (132, 1), (700, 1)], [(96, 1)], [(64, 1), (107, 1), (130, 1), (191, 1), (210, 1)], [(13, 1), (50, 1), (224, 1), (263, 1), (1667, 1)], [(15, 2), (46, 1), (48, 1), (60, 1), (64, 1), (100, 1), (107, 1), (191, 1), (377, 2), (2772, 1)], [(21, 1), (48, 1), (68, 1), (77, 1)], [(45, 1), (152, 1), (161, 1), (438, 1), (2773, 1), (2774, 1)], [(3, 1), (9, 1), (23, 1), (31, 1), (35, 1), (46, 1), (66, 1), (72, 1), (91, 1), (101, 1), (186, 1), (438, 1), (549, 1), (970, 1), (984, 1), (2775, 1), (2776, 1)], [(0, 2), (3, 3), (9, 1), (12, 1), (16, 1), (23, 1), (29, 1), (31, 1), (33, 1), (55, 3), (63, 2), (64, 1), (70, 1), (86, 1), (91, 2), (102, 1), (249, 1), (328, 1), (412, 1), (491, 1), (514, 1), (535, 1), (557, 1), (717, 1), (1411, 1), (1430, 1), (2777, 1)], [(21, 1), (35, 1), (45, 1), (66, 1), (91, 1), (94, 1), (107, 1), (658, 1), (1540, 1)], [(12, 2), (28, 1), (35, 1), (46, 1), (55, 1), (58, 1), (96, 1), (100, 1), (139, 1), (145, 1), (170, 1), (172, 1), (197, 1), (243, 1), (356, 1), (387, 1), (444, 1), (594, 1), (613, 1), (674, 2), (764, 1), (789, 1), (932, 1), (940, 1), (1144, 2), (1311, 1), (1574, 1), (1826, 2), (2495, 1), (2778, 1), (2779, 1)], [(0, 1), (13, 1), (15, 2), (19, 1), (27, 1), (30, 1), (35, 1), (36, 1), (44, 1), (55, 1), (60, 1), (64, 1), (66, 1), (67, 1), (72, 1), (73, 4), (74, 1), (102, 2), (111, 1), (152, 1), (191, 1), (241, 1), (270, 1), (431, 1), (434, 1), (444, 1), (459, 1), (531, 1), (547, 1), (596, 1), (666, 1), (992, 1), (1679, 1), (2780, 1), (2781, 1), (2782, 1), (2783, 1), (2784, 1), (2785, 1), (2786, 1), (2787, 1)], [(48, 1), (77, 1), (354, 1), (686, 1), (1341, 1)], [(12, 1), (24, 1), (35, 1), (55, 1), (66, 1), (73, 1), (78, 1), (105, 1), (138, 1), (201, 1), (239, 1), (378, 1), (387, 1), (431, 1), (434, 1), (464, 1), (476, 2), (709, 1), (1114, 1), (1810, 1), (2619, 1)], [(20, 1), (46, 1), (55, 1), (132, 1), (354, 1), (726, 1)], [(13, 1), (41, 2), (43, 1), (55, 1), (60, 1), (64, 1), (72, 1), (96, 1), (115, 1), (170, 1), (191, 1), (370, 1), (548, 1), (837, 1), (873, 1), (1477, 1), (1949, 1), (2788, 1), (2789, 1)], [(46, 1), (64, 1)], [(3, 2), (13, 1), (19, 3), (36, 1), (41, 2), (53, 1), (75, 1), (82, 1), (86, 1), (91, 1), (102, 1), (107, 1), (132, 2), (139, 1), (145, 1), (170, 1), (172, 1), (178, 1), (218, 1), (261, 1), (331, 1), (384, 1), (409, 1), (549, 1), (568, 1), (585, 1), (768, 1), (1077, 1), (1234, 1), (1345, 1), (2790, 1), (2791, 1), (2792, 1), (2793, 1), (2794, 1)], [(33, 1), (46, 1), (55, 1), (59, 1), (70, 1), (102, 1), (1903, 1)], [(82, 1), (170, 1)], [(12, 1), (25, 1), (27, 1), (34, 1), (45, 1), (54, 1), (61, 1), (66, 1), (67, 1), (73, 2), (98, 1), (189, 1), (406, 1), (444, 1), (451, 1), (516, 1), (765, 1)], [(24, 1), (35, 1), (70, 1), (130, 1), (138, 1), (499, 1)], [(0, 1), (3, 1), (12, 2), (16, 1), (19, 2), (72, 1), (96, 1), (102, 1), (107, 1), (145, 2), (152, 1), (198, 1), (212, 1), (280, 1), (283, 1), (356, 1), (482, 1), (515, 1), (539, 1), (540, 1), (548, 1), (596, 1), (829, 1), (1608, 1), (2727, 1)], [(35, 1), (55, 1), (63, 1), (66, 1), (70, 1), (116, 1), (186, 1), (371, 1), (412, 1), (1266, 1)], [(8, 1), (24, 1), (26, 1), (35, 1), (45, 1), (66, 1), (71, 1), (81, 1), (100, 1), (107, 1), (170, 1), (191, 1), (210, 1), (273, 1), (353, 1), (382, 1), (406, 1), (519, 1), (591, 1), (744, 1), (1121, 1), (1214, 1), (2795, 1)], [(26, 1), (46, 1)], [(36, 2), (55, 1), (64, 1), (476, 1), (726, 1)], [(12, 1), (15, 1), (20, 1), (26, 1), (35, 1), (39, 1), (45, 1), (46, 1), (53, 2), (55, 2), (64, 1), (66, 1), (74, 2), (93, 1), (100, 1), (108, 1), (118, 1), (130, 1), (143, 1), (170, 1), (204, 1), (459, 1), (727, 1), (744, 2), (1012, 2), (1047, 1), (1114, 1), (1469, 1), (1572, 1), (2796, 1)], [(15, 1), (45, 1), (48, 1), (132, 1)], [(394, 1), (514, 1), (2797, 1)], [(64, 1), (73, 1), (96, 1)], [(12, 1), (21, 1), (60, 1), (100, 1), (107, 1), (125, 1), (2798, 1)], [(16, 1), (27, 1), (28, 2), (35, 1), (36, 1), (55, 2), (60, 1), (65, 1), (91, 1), (94, 1), (102, 1), (145, 2), (166, 1), (186, 1), (377, 1), (385, 1), (414, 1), (447, 1), (514, 1), (1218, 1), (2799, 1)], [(3, 1), (11, 3), (15, 1), (17, 4), (20, 3), (23, 1), (25, 2), (27, 1), (29, 2), (31, 1), (33, 2), (35, 1), (46, 1), (55, 3), (64, 1), (73, 3), (76, 1), (95, 1), (99, 1), (100, 1), (101, 1), (148, 1), (152, 1), (170, 2), (264, 1), (361, 1), (440, 1), (442, 3), (465, 1), (473, 1), (483, 1), (726, 1), (842, 1), (998, 2), (1521, 1), (1968, 1)], [(9, 2), (27, 1), (45, 1), (55, 1), (167, 1), (998, 1), (1291, 1)], [(3, 1), (45, 1), (132, 1), (134, 1), (547, 1), (627, 1), (1001, 1), (1151, 1), (1451, 1), (1594, 1)], [(11, 1), (13, 1), (30, 1), (46, 1), (66, 1), (145, 1), (162, 1), (385, 1), (476, 1), (708, 1), (751, 1), (886, 1), (1356, 1), (1510, 1), (2428, 1)], [(0, 1), (12, 4), (13, 1), (16, 3), (25, 1), (27, 1), (55, 6), (59, 1), (60, 1), (63, 1), (64, 4), (67, 1), (73, 5), (74, 1), (75, 1), (78, 1), (82, 1), (84, 1), (94, 1), (99, 1), (100, 6), (107, 2), (111, 1), (137, 1), (145, 3), (189, 1), (191, 5), (198, 1), (219, 1), (243, 1), (249, 1), (256, 1), (273, 1), (275, 1), (280, 1), (316, 1), (328, 2), (359, 2), (371, 1), (394, 1), (425, 1), (451, 1), (473, 1), (476, 1), (500, 1), (541, 1), (549, 1), (625, 1), (633, 1), (669, 2), (680, 1), (743, 1), (757, 2), (799, 1), (894, 1), (914, 1), (927, 1), (1248, 1), (1361, 1), (1426, 1), (1509, 2), (1829, 1), (2226, 1), (2800, 1), (2801, 1), (2802, 1), (2803, 1), (2804, 1)], [(46, 1), (132, 1)], [(26, 1), (35, 1), (36, 1), (66, 1), (71, 1), (73, 2), (170, 1), (214, 1), (251, 1), (330, 1), (389, 1), (392, 1), (402, 1), (438, 1), (466, 1), (482, 1), (547, 1), (549, 1), (633, 1), (749, 1), (885, 1), (1056, 1), (1200, 1), (1344, 1), (1354, 1), (2087, 1), (2805, 1)], [(10, 1), (13, 1), (18, 1), (20, 2), (21, 1), (23, 1), (26, 1), (38, 1), (41, 3), (44, 1), (48, 1), (53, 2), (55, 3), (57, 1), (59, 3), (63, 1), (66, 1), (70, 2), (71, 3), (81, 1), (93, 1), (100, 3), (101, 1), (102, 1), (107, 2), (109, 1), (118, 1), (126, 2), (133, 1), (143, 1), (170, 3), (180, 1), (183, 1), (186, 1), (225, 1), (280, 1), (286, 1), (305, 1), (307, 1), (364, 1), (377, 2), (378, 1), (386, 1), (406, 1), (476, 1), (479, 1), (482, 1), (531, 2), (591, 1), (604, 1), (633, 1), (821, 1), (850, 1), (1291, 1), (1508, 1), (1590, 1), (1628, 1), (2236, 1), (2439, 1)], [(105, 1), (955, 1), (1968, 1), (2806, 1)], [(130, 1)], [(8, 1), (35, 1), (45, 1), (55, 1), (66, 1), (74, 1), (75, 1), (98, 1), (111, 1), (378, 1), (405, 1), (773, 1), (1095, 1), (1146, 1), (2706, 1)], [(16, 1), (60, 1), (94, 1), (1535, 1)], [(9, 1), (20, 3), (41, 1), (80, 1), (109, 1), (125, 1), (126, 1), (142, 1), (145, 1), (275, 1), (438, 1), (482, 1), (746, 1), (922, 1), (1254, 1), (1542, 1), (2807, 1)], [(33, 1), (63, 1), (64, 1), (91, 1), (133, 1), (333, 1), (737, 1), (927, 1)], [(9, 1), (12, 1), (27, 1), (36, 1), (46, 1), (55, 1), (63, 1), (64, 1), (68, 1), (73, 1), (77, 1), (80, 1), (100, 1), (107, 1), (175, 1), (198, 1), (217, 1), (243, 1), (375, 1), (476, 1), (668, 1), (2296, 1)], [(96, 1)], [(13, 1), (20, 1), (35, 1), (66, 1), (91, 1), (138, 1), (162, 1), (189, 1), (508, 1), (549, 1), (2553, 1), (2808, 1)], [(45, 1), (132, 1)], [(10, 1), (16, 1), (280, 1), (389, 1)], [(0, 1), (3, 3), (8, 1), (9, 6), (11, 1), (12, 8), (13, 3), (15, 1), (16, 2), (18, 1), (19, 4), (20, 3), (23, 2), (25, 2), (26, 1), (29, 1), (31, 1), (32, 1), (33, 1), (35, 6), (36, 1), (38, 1), (39, 1), (41, 2), (43, 3), (44, 1), (45, 4), (46, 2), (48, 3), (50, 2), (55, 9), (63, 2), (64, 1), (65, 2), (66, 5), (67, 2), (70, 5), (71, 3), (72, 2), (73, 4), (79, 2), (80, 1), (81, 2), (85, 1), (93, 1), (94, 2), (96, 2), (98, 2), (99, 3), (100, 3), (101, 1), (102, 3), (103, 4), (104, 1), (107, 2), (109, 1), (113, 1), (116, 4), (118, 1), (120, 3), (122, 1), (133, 4), (137, 1), (138, 1), (142, 1), (150, 1), (155, 1), (170, 1), (181, 1), (186, 1), (208, 1), (209, 1), (210, 2), (214, 1), (223, 1), (227, 1), (239, 1), (244, 3), (253, 1), (261, 1), (265, 1), (269, 2), (274, 1), (275, 1), (278, 1), (285, 1), (290, 1), (293, 1), (298, 2), (300, 1), (301, 1), (307, 1), (312, 2), (314, 1), (316, 4), (328, 2), (334, 1), (356, 3), (358, 2), (377, 3), (384, 1), (387, 2), (392, 2), (394, 3), (397, 1), (406, 1), (407, 1), (409, 1), (411, 1), (434, 3), (435, 1), (437, 1), (438, 1), (446, 1), (451, 1), (454, 1), (467, 1), (482, 1), (491, 2), (496, 2), (500, 2), (501, 1), (519, 6), (527, 1), (545, 2), (548, 1), (549, 1), (558, 1), (578, 1), (582, 1), (591, 1), (592, 1), (596, 1), (602, 1), (604, 1), (627, 1), (658, 1), (662, 2), (679, 1), (684, 1), (757, 1), (759, 1), (781, 1), (783, 1), (786, 1), (789, 1), (832, 1), (838, 1), (840, 1), (860, 1), (908, 1), (919, 1), (932, 2), (941, 1), (942, 2), (944, 1), (960, 1), (988, 1), (998, 1), (1007, 1), (1047, 1), (1062, 1), (1082, 1), (1088, 1), (1111, 1), (1114, 1), (1119, 1), (1121, 1), (1130, 1), (1133, 2), (1229, 1), (1250, 1), (1368, 1), (1399, 1), (1444, 1), (1479, 1), (1558, 1), (1752, 1), (1770, 1), (1905, 1), (1918, 1), (2042, 1), (2046, 1), (2147, 1), (2169, 1), (2179, 1), (2342, 1), (2346, 1), (2362, 1), (2463, 1), (2466, 1), (2509, 1), (2809, 1), (2810, 1), (2811, 1), (2812, 1), (2813, 1), (2814, 1), (2815, 2), (2816, 1), (2817, 1), (2818, 1), (2819, 1), (2820, 2), (2821, 1), (2822, 1), (2823, 1), (2824, 2), (2825, 1), (2826, 1), (2827, 1), (2828, 1), (2829, 1), (2830, 1), (2831, 1), (2832, 1)], [(48, 1), (68, 1), (77, 1), (239, 1), (547, 1)], [(132, 1), (576, 1)], [(21, 1), (31, 1), (46, 2), (64, 1), (66, 1), (276, 1), (595, 1), (776, 1)], [(16, 1), (28, 1), (30, 2), (35, 2), (53, 1), (64, 1), (66, 5), (98, 1), (102, 1), (104, 1), (137, 1), (186, 1), (189, 2), (197, 1), (296, 1), (305, 1), (365, 2), (371, 1), (377, 1), (378, 1), (464, 1), (539, 1), (549, 2), (568, 1), (744, 1), (765, 1), (799, 1), (865, 1), (886, 1), (904, 1), (932, 1), (1538, 2), (2001, 1), (2833, 1)], [(12, 2), (13, 3), (27, 2), (35, 2), (43, 1), (45, 1), (50, 2), (55, 1), (60, 2), (64, 2), (67, 2), (73, 3), (78, 1), (84, 1), (88, 1), (90, 1), (100, 1), (107, 2), (111, 2), (121, 1), (138, 1), (148, 1), (181, 1), (187, 1), (191, 1), (198, 1), (238, 1), (275, 1), (280, 1), (313, 1), (314, 1), (348, 1), (364, 1), (549, 1), (557, 1), (609, 1), (649, 1), (689, 1), (834, 1), (859, 1), (925, 1), (982, 1), (1021, 1), (1295, 1), (1438, 1), (1439, 1), (2834, 1), (2835, 1), (2836, 2), (2837, 1), (2838, 1)], [(35, 1), (45, 2), (94, 1), (186, 1), (576, 1), (1340, 1), (1594, 1)], [(19, 1), (48, 1), (68, 1), (477, 1), (496, 1), (932, 1), (955, 1)], [(46, 1), (55, 1), (167, 1), (717, 1)], [(392, 1)], [(12, 1), (16, 3), (26, 1), (31, 1), (35, 1), (36, 1), (39, 1), (41, 1), (44, 1), (46, 1), (48, 2), (53, 1), (55, 1), (58, 1), (60, 1), (64, 1), (66, 1), (69, 1), (72, 2), (88, 2), (102, 2), (103, 2), (111, 1), (133, 1), (145, 2), (158, 1), (162, 1), (166, 1), (181, 1), (189, 1), (191, 2), (209, 1), (211, 1), (215, 1), (227, 1), (234, 1), (263, 1), (269, 1), (323, 1), (328, 1), (337, 1), (385, 1), (389, 1), (392, 1), (423, 1), (482, 1), (549, 2), (586, 1), (607, 2), (680, 1), (822, 1), (847, 1), (983, 1), (998, 1), (1144, 1), (1214, 1), (1230, 1), (1344, 1), (2475, 1), (2839, 1), (2840, 1), (2841, 1), (2842, 1), (2843, 1), (2844, 1), (2845, 1), (2846, 1), (2847, 1)], [(162, 1), (392, 1)], [(26, 1), (45, 1), (1912, 1), (1913, 1)], [(12, 1), (21, 1), (48, 1), (68, 1), (77, 1), (91, 1), (139, 1), (197, 1), (690, 1), (1248, 1)], [(13, 1), (19, 3), (26, 1), (41, 1), (44, 1), (48, 1), (60, 1), (68, 1), (77, 1), (100, 2), (107, 1), (133, 1), (170, 1), (174, 1), (225, 1), (278, 1), (280, 1), (353, 1), (472, 2), (548, 1), (633, 1), (759, 1), (1227, 1), (2478, 1)], [(36, 1), (64, 1), (67, 1), (68, 1), (77, 1), (93, 1), (100, 1), (137, 1), (145, 1), (204, 1), (238, 1), (467, 1), (500, 2), (789, 1), (1108, 1)], [(9, 1), (15, 1), (103, 1), (268, 1), (269, 1), (2057, 1)], [], [(0, 1), (16, 1), (33, 1), (55, 1), (64, 1), (86, 1), (299, 1), (402, 1), (848, 1), (950, 1), (2848, 1)], [(46, 1), (96, 1)], [(12, 1), (15, 1), (17, 1), (35, 1), (44, 1), (55, 3), (60, 1), (64, 1), (73, 2), (74, 1), (82, 1), (84, 1), (96, 1), (103, 1), (138, 1), (162, 2), (312, 1), (476, 1), (488, 1), (633, 1), (785, 1), (955, 1), (1664, 1), (2849, 1), (2850, 1)], [(138, 1), (549, 1)], [(28, 1), (211, 1), (296, 1), (314, 1), (642, 1), (765, 1), (984, 1), (1274, 1), (2851, 1), (2852, 1)], [(73, 1), (100, 1), (101, 1), (180, 1), (2694, 1)], [(3, 1), (18, 1), (19, 1), (20, 2), (44, 1), (48, 2), (50, 1), (58, 1), (78, 1), (82, 1), (91, 1), (93, 1), (107, 1), (172, 1), (179, 1), (210, 1), (223, 2), (225, 1), (253, 2), (276, 1), (354, 1), (520, 1), (603, 1), (899, 1), (982, 1), (1286, 1), (2277, 1)], [(33, 1), (94, 1), (152, 1)], [(11, 1), (20, 2), (55, 1), (60, 1), (63, 1), (64, 1), (149, 1), (216, 1), (312, 1), (378, 1), (388, 1), (404, 2), (452, 1), (1021, 1)], [(46, 1)], [(46, 1), (437, 1), (862, 1)], [(31, 1), (46, 1), (96, 1), (100, 1), (223, 1)], [(94, 1)], [(1003, 1), (1005, 1)], [(9, 1), (29, 1), (33, 1), (45, 1), (132, 1), (1769, 1)], [(19, 2), (26, 1), (96, 1), (279, 1), (431, 1), (434, 1), (850, 1), (859, 1), (1425, 1), (1609, 1), (1620, 1), (2344, 1)], [(27, 1), (77, 1), (94, 1), (100, 1), (101, 1), (107, 1), (130, 1), (170, 1), (202, 1), (290, 1)], [(0, 1), (11, 1), (13, 1), (27, 1), (31, 1), (35, 2), (39, 1), (45, 2), (46, 1), (55, 2), (66, 2), (70, 1), (71, 2), (73, 1), (82, 1), (86, 1), (88, 2), (100, 1), (116, 2), (121, 1), (145, 1), (165, 1), (170, 1), (184, 1), (221, 1), (222, 1), (231, 1), (378, 1), (482, 1), (490, 1), (539, 1), (560, 1), (741, 1), (751, 1), (803, 1), (832, 1), (932, 1), (1012, 1), (1455, 1), (1809, 1), (1886, 1), (2853, 3), (2854, 1), (2855, 1), (2856, 1)], [(9, 1), (13, 1), (17, 1), (26, 2), (55, 1), (72, 1), (96, 1), (121, 1), (126, 1), (152, 1), (170, 1), (273, 1), (314, 1), (354, 1), (442, 1), (496, 1), (549, 1), (1501, 1)], [(35, 1), (72, 1), (186, 1)], [(55, 1), (98, 1), (216, 1), (312, 1), (499, 1), (1918, 1), (2857, 1)], [(9, 2), (18, 1), (33, 1), (35, 3), (54, 1), (55, 5), (58, 1), (59, 1), (63, 2), (65, 1), (66, 2), (67, 1), (73, 3), (88, 1), (100, 2), (106, 1), (107, 1), (111, 1), (132, 3), (133, 1), (170, 2), (239, 1), (260, 1), (316, 1), (370, 1), (373, 1), (374, 1), (407, 1), (428, 1), (452, 2), (497, 1), (611, 1), (616, 1), (717, 1), (727, 1), (817, 1), (885, 1), (895, 2), (927, 2), (1034, 1), (1047, 1), (1070, 1), (1302, 1), (1331, 1), (1354, 1), (1456, 1), (1704, 1), (1747, 1), (2064, 1), (2181, 1), (2370, 1), (2435, 1), (2858, 1), (2859, 2), (2860, 1), (2861, 1), (2862, 1)], [(55, 1), (78, 1), (241, 1), (438, 1), (882, 1), (1143, 1), (1577, 1)], [(23, 1), (26, 1), (35, 1), (66, 1), (88, 1)], [(12, 1), (20, 1), (55, 1), (73, 1), (96, 2), (214, 1), (249, 1), (431, 1), (434, 1), (535, 1)], [(9, 1), (27, 1), (28, 1), (103, 1), (132, 1), (148, 1), (717, 1)], [(23, 1), (132, 1)], [(0, 1), (7, 1), (11, 2), (17, 1), (30, 1), (36, 1), (55, 1), (63, 1), (68, 1), (73, 2), (77, 1), (80, 1), (93, 1), (98, 1), (100, 2), (103, 1), (107, 1), (115, 1), (186, 1), (189, 1), (240, 1), (276, 1), (379, 1), (547, 1), (594, 1), (613, 2), (763, 1), (821, 1), (1062, 1), (1202, 1), (1251, 2), (1279, 1), (2551, 2), (2863, 1)], [(8, 2), (9, 1), (26, 1), (55, 3), (70, 1), (77, 1), (93, 1), (100, 1), (101, 1), (102, 1), (106, 1), (115, 4), (202, 1), (233, 1), (305, 1), (312, 2), (314, 1), (315, 1), (499, 1), (527, 1), (589, 1), (831, 1), (854, 1), (1073, 1), (1426, 1), (1430, 1), (2864, 1)], [(9, 1), (11, 1), (13, 1), (19, 2), (44, 1), (48, 1), (59, 1), (71, 1), (101, 1), (139, 1), (145, 2), (152, 1), (170, 2), (241, 1), (280, 1), (312, 1), (338, 1), (345, 1), (613, 1), (633, 1), (814, 1), (931, 1), (1014, 1), (2865, 1), (2866, 1)], [(46, 2), (63, 1), (70, 1), (102, 1)], [(12, 1), (16, 1), (21, 1), (28, 1), (35, 1), (50, 1), (64, 1), (80, 1), (121, 1), (222, 1), (261, 1), (2867, 1)], [(23, 1), (73, 1), (88, 1)], [(0, 1), (13, 1), (14, 1), (19, 1), (33, 1), (73, 1), (131, 1), (215, 1), (263, 1), (563, 1), (1918, 1), (2110, 1), (2868, 1)], [(48, 1), (80, 1), (241, 1), (2066, 1), (2072, 1)], [(18, 1), (20, 1), (82, 2), (170, 1), (2504, 1)], [(0, 2), (3, 1), (9, 1), (12, 1), (16, 2), (29, 1), (55, 3), (67, 1), (68, 1), (73, 3), (75, 1), (77, 1), (86, 1), (100, 2), (102, 1), (103, 1), (107, 1), (162, 1), (170, 1), (224, 1), (293, 1), (298, 1), (444, 1), (507, 1), (717, 1), (726, 1), (817, 2), (970, 1), (1062, 1), (2362, 1)], [(21, 1), (27, 1), (35, 1), (46, 1), (48, 1), (53, 1), (65, 1), (66, 1), (94, 1), (95, 1), (100, 1), (101, 1), (102, 1), (170, 1), (186, 1), (299, 1), (387, 1), (1229, 1), (1688, 2)], [(11, 1), (12, 1), (16, 1), (17, 1), (20, 1), (26, 1), (27, 2), (30, 1), (35, 2), (36, 2), (45, 1), (53, 1), (60, 1), (62, 1), (66, 2), (74, 1), (82, 1), (86, 1), (91, 1), (96, 1), (98, 2), (100, 2), (102, 1), (103, 3), (111, 1), (138, 1), (149, 1), (167, 1), (170, 1), (184, 1), (186, 1), (189, 1), (204, 1), (211, 1), (215, 1), (256, 1), (312, 1), (364, 1), (386, 1), (496, 1), (519, 1), (527, 1), (531, 1), (547, 1), (822, 1), (1022, 1), (1154, 1), (1452, 1), (1625, 1), (1716, 1), (1786, 1), (2753, 1)], [(24, 1), (31, 1), (35, 1), (46, 1), (1266, 1)], [(55, 1), (115, 1), (1315, 1)], [(46, 1)], [(0, 1), (3, 1), (27, 1), (31, 1), (71, 1), (91, 1), (96, 1), (100, 1), (167, 1), (219, 1), (273, 1), (725, 1), (2037, 1), (2869, 1)], [(45, 1), (97, 1), (438, 1)], [(9, 1), (11, 1), (13, 1), (17, 1), (18, 1), (19, 3), (20, 3), (30, 2), (33, 1), (36, 1), (44, 1), (45, 1), (48, 1), (55, 4), (59, 1), (64, 1), (71, 2), (73, 2), (81, 1), (97, 1), (98, 3), (100, 5), (101, 1), (107, 1), (122, 1), (135, 1), (166, 1), (191, 1), (211, 1), (253, 1), (256, 1), (277, 1), (354, 1), (431, 1), (496, 1), (586, 1), (719, 1), (834, 1), (857, 1), (879, 1), (880, 2), (981, 1), (1119, 2), (1142, 1), (1510, 1), (1747, 1), (2324, 1), (2342, 1), (2870, 1), (2871, 1), (2872, 1), (2873, 1)], [(12, 1), (132, 1), (170, 1), (364, 1), (678, 1), (2874, 1)], [(0, 1), (12, 2), (23, 1), (29, 1), (48, 1), (55, 1), (91, 1), (101, 1), (107, 1), (119, 1), (128, 1), (170, 1), (195, 1), (198, 1), (202, 2), (518, 1), (519, 1), (547, 1), (588, 1), (890, 1), (930, 1), (1169, 1), (1353, 1), (2875, 1), (2876, 1)], [(103, 1), (132, 1)], [(13, 1), (55, 1), (180, 1), (243, 1), (385, 1), (847, 1), (908, 1), (989, 1), (1178, 1), (1439, 1), (2346, 1)], [(19, 1), (23, 1), (44, 1), (55, 1), (66, 1), (73, 1), (74, 1), (77, 1), (312, 1), (527, 1), (563, 1), (1721, 1), (2877, 1)], [(12, 1), (19, 1), (30, 1), (59, 1), (98, 1), (225, 1), (394, 1), (482, 1), (560, 1), (2878, 1)], [(35, 1), (46, 1)], [(26, 1), (45, 1), (46, 1), (54, 1), (100, 1), (101, 1), (2057, 1)], [(0, 1), (35, 1), (66, 1), (115, 1), (442, 1), (479, 1)], [(3, 1), (13, 2), (35, 2), (44, 1), (46, 1), (60, 1), (64, 1), (66, 2), (105, 1), (110, 1), (130, 1), (132, 1), (145, 1), (152, 1), (185, 1), (186, 1), (253, 1), (353, 1), (489, 1), (504, 1), (531, 1), (549, 1), (607, 1), (1124, 1), (2645, 1), (2879, 1), (2880, 1), (2881, 1), (2882, 1)], [(46, 1), (91, 1)], [(94, 1)], [(185, 1)], [(12, 1), (91, 1), (94, 1), (100, 1), (101, 1), (128, 1), (145, 1), (290, 1), (529, 1), (613, 1), (726, 1), (927, 1), (1108, 1)], [(20, 1), (70, 1), (74, 1), (94, 1), (96, 1), (105, 1), (508, 1)], [(24, 1), (404, 1), (529, 1), (944, 1), (2883, 1)], [(45, 1), (46, 1), (70, 1), (73, 1), (74, 1), (75, 1), (82, 1), (86, 1), (627, 1), (1149, 1)], [(12, 3), (13, 1), (17, 1), (19, 1), (26, 3), (30, 1), (33, 1), (44, 1), (50, 1), (58, 2), (75, 1), (100, 1), (106, 1), (107, 2), (133, 1), (185, 1), (198, 1), (218, 1), (230, 1), (261, 1), (306, 1), (312, 2), (316, 1), (388, 1), (406, 1), (1007, 1), (1125, 1), (1455, 1), (1892, 1), (2817, 1), (2884, 1), (2885, 1)], [(3, 1), (13, 1), (16, 1), (19, 1), (48, 1), (55, 2), (73, 1), (94, 1), (101, 1), (170, 1), (253, 1), (277, 1), (491, 1), (1359, 1), (1427, 1)], [(23, 1), (73, 1), (447, 1), (1192, 1)], [(45, 1), (364, 1), (514, 1)], [(13, 1), (24, 1), (35, 2), (46, 1), (55, 1), (221, 1), (1248, 1), (1702, 1)], [(13, 1), (27, 1), (33, 1), (45, 1), (77, 1), (101, 1), (152, 1), (170, 1), (202, 1), (340, 1), (679, 1), (2476, 1), (2886, 1)], [(3, 1), (8, 1), (9, 1), (19, 2), (26, 1), (36, 1), (55, 1), (68, 1), (72, 1), (77, 1), (78, 1), (80, 1), (100, 1), (103, 1), (135, 1), (200, 1), (202, 1), (211, 1), (268, 1), (269, 1), (275, 1), (517, 1), (528, 1), (727, 1), (1076, 1), (1085, 1), (2004, 1), (2674, 1), (2730, 1), (2887, 1)], [(9, 1), (35, 2), (44, 1), (45, 1), (55, 1), (66, 1), (94, 1), (392, 1), (622, 1), (1748, 1)], [(46, 1), (70, 1)], [(8, 1), (18, 1), (20, 1), (45, 1), (70, 1), (78, 1), (94, 1), (116, 1), (123, 1), (191, 2), (377, 1), (378, 1), (388, 1), (414, 1)], [(3, 1), (26, 1), (50, 1), (55, 2), (59, 1), (60, 1), (64, 1), (71, 1), (82, 1), (102, 1), (103, 1), (106, 1), (115, 1), (145, 1), (170, 3), (211, 1), (280, 1), (371, 1), (493, 1), (533, 1), (1404, 1), (2888, 1)], [(9, 1), (10, 1), (276, 1), (293, 1), (850, 1)], [(9, 1), (13, 1), (17, 2), (39, 1), (59, 1), (60, 2), (67, 1), (70, 1), (100, 2), (107, 1), (126, 1), (315, 1), (345, 1), (356, 1), (377, 1), (482, 1), (584, 1), (616, 1), (1288, 1), (1478, 1), (1574, 1), (1608, 1), (1618, 1), (1860, 1), (2304, 2), (2889, 1), (2890, 1), (2891, 1)], [(130, 1), (132, 1)], [(11, 1), (19, 1), (27, 1), (35, 1), (55, 1), (67, 1), (73, 1), (75, 2), (78, 1), (93, 1), (100, 1), (101, 2), (107, 2), (133, 1), (172, 1), (219, 1), (312, 2), (519, 1), (578, 1), (727, 1), (829, 1), (863, 1), (941, 1), (1640, 1), (2246, 1), (2892, 1)], [(0, 1), (3, 2), (11, 1), (16, 2), (17, 1), (19, 2), (20, 1), (26, 1), (27, 2), (29, 1), (44, 2), (48, 1), (54, 1), (55, 3), (60, 1), (62, 1), (68, 1), (71, 1), (77, 1), (78, 1), (80, 1), (81, 1), (82, 1), (102, 1), (121, 1), (145, 1), (152, 2), (170, 1), (186, 1), (205, 1), (210, 1), (215, 1), (218, 1), (225, 1), (237, 1), (251, 1), (261, 1), (354, 1), (378, 1), (387, 1), (389, 1), (394, 1), (397, 1), (407, 1), (416, 1), (454, 1), (459, 1), (517, 1), (519, 1), (587, 1), (591, 1), (604, 1), (807, 1), (811, 1), (812, 1), (865, 1), (1055, 1), (1169, 1), (1178, 1), (1179, 1), (1221, 1), (1391, 1), (1485, 1), (1589, 1), (1760, 1), (1842, 1), (2089, 1), (2296, 1), (2466, 1), (2645, 1), (2837, 1), (2893, 1), (2894, 1), (2895, 1), (2896, 1), (2897, 1)], [(3, 1), (35, 1), (48, 1), (66, 1), (73, 1), (121, 1), (378, 1), (2000, 1)], [(13, 1), (19, 1), (20, 2), (41, 1), (45, 1), (97, 1), (100, 1), (126, 1), (132, 1), (143, 1), (147, 1), (151, 1), (249, 1), (394, 1), (563, 1), (889, 1)], [(19, 1), (45, 1), (68, 1), (77, 1), (102, 1), (563, 1), (857, 1), (1917, 1)], [(9, 2), (12, 2), (13, 2), (16, 1), (20, 1), (36, 1), (44, 1), (45, 1), (50, 1), (58, 1), (64, 1), (75, 1), (86, 1), (102, 1), (107, 1), (121, 1), (140, 1), (152, 2), (171, 1), (239, 1), (276, 1), (280, 1), (394, 1), (473, 1), (482, 1), (515, 1), (633, 1), (1204, 1), (1413, 2), (2898, 1), (2899, 1)], [(3, 1), (4, 1), (12, 1), (13, 3), (15, 2), (16, 1), (17, 1), (19, 1), (26, 1), (27, 2), (28, 1), (29, 1), (30, 2), (36, 3), (43, 1), (46, 1), (48, 1), (50, 1), (55, 2), (59, 1), (60, 1), (71, 1), (72, 1), (73, 2), (84, 1), (86, 1), (88, 1), (91, 1), (94, 1), (98, 1), (100, 2), (101, 2), (102, 1), (105, 1), (107, 1), (116, 1), (121, 2), (123, 1), (145, 1), (148, 1), (153, 1), (170, 1), (186, 1), (189, 1), (224, 1), (228, 1), (280, 1), (290, 1), (296, 1), (321, 1), (328, 2), (361, 1), (378, 1), (379, 1), (384, 1), (397, 1), (443, 1), (447, 1), (468, 1), (523, 1), (533, 1), (539, 3), (548, 1), (557, 1), (558, 1), (569, 1), (596, 1), (598, 1), (629, 1), (675, 1), (748, 1), (918, 1), (942, 1), (943, 1), (1227, 1), (1351, 1), (1352, 1), (1405, 1), (1608, 1), (1864, 1), (1974, 1), (2160, 1), (2401, 1), (2760, 1), (2900, 1), (2901, 1), (2902, 1), (2903, 1), (2904, 1), (2905, 1), (2906, 1), (2907, 1), (2908, 1)], [(130, 1), (2909, 1)], [(9, 1), (20, 1), (26, 1), (27, 2), (64, 1), (71, 1), (74, 1), (93, 1), (101, 1), (111, 1), (143, 1), (214, 1), (314, 1), (316, 1), (468, 1), (482, 1), (530, 1), (547, 1), (647, 1), (789, 1), (850, 1), (2086, 1), (2910, 1), (2911, 1), (2912, 1), (2913, 1)], [(45, 1)], [(9, 1), (13, 1), (19, 2), (20, 3), (29, 1), (33, 2), (41, 1), (48, 2), (53, 1), (55, 1), (58, 1), (60, 2), (70, 1), (71, 2), (84, 1), (91, 2), (94, 1), (100, 1), (111, 1), (123, 1), (137, 1), (142, 2), (152, 1), (159, 1), (179, 1), (215, 1), (241, 1), (256, 2), (298, 1), (300, 1), (385, 1), (451, 1), (476, 1), (501, 1), (549, 1), (560, 1), (567, 1), (574, 1), (706, 1), (720, 1), (998, 1), (1158, 1), (1228, 1), (1657, 1), (1770, 1), (2002, 1), (2914, 1), (2915, 1)], [(12, 2), (39, 1), (41, 1), (50, 1), (55, 1), (58, 1), (60, 2), (67, 1), (73, 2), (75, 1), (99, 1), (100, 4), (102, 1), (103, 1), (107, 1), (162, 1), (170, 2), (209, 1), (252, 1), (278, 1), (363, 1), (389, 2), (527, 1), (625, 1), (836, 1), (1006, 1), (1894, 1), (2370, 1), (2916, 1), (2917, 1)], [(53, 1), (109, 1), (133, 1), (238, 1), (392, 1), (459, 1), (1504, 1)], [(0, 2), (6, 1), (12, 1), (15, 1), (29, 1), (30, 1), (36, 1), (41, 1), (44, 1), (52, 1), (53, 1), (55, 1), (60, 1), (62, 2), (64, 1), (71, 1), (72, 1), (73, 1), (74, 1), (86, 1), (91, 3), (100, 2), (102, 1), (107, 3), (109, 1), (111, 3), (146, 1), (149, 1), (151, 1), (158, 2), (175, 1), (208, 1), (212, 2), (215, 1), (241, 1), (253, 1), (263, 1), (268, 1), (269, 2), (271, 1), (275, 1), (280, 1), (309, 1), (315, 1), (337, 1), (377, 1), (384, 1), (389, 2), (406, 2), (409, 1), (473, 1), (476, 1), (482, 2), (513, 1), (535, 1), (548, 2), (558, 2), (599, 1), (604, 1), (648, 1), (675, 1), (679, 1), (768, 1), (813, 1), (850, 1), (859, 1), (942, 1), (1302, 1), (1360, 1), (1538, 1), (1704, 1), (2342, 1), (2536, 1), (2613, 1), (2918, 1), (2919, 1), (2920, 1), (2921, 1), (2922, 1), (2923, 1), (2924, 1)], [(20, 1), (48, 1), (55, 1), (59, 1), (67, 1), (70, 1), (78, 1), (91, 1), (451, 1), (483, 1), (578, 1), (831, 1), (1928, 1), (2925, 1)], [(45, 1), (132, 1)], [(33, 1), (45, 1), (55, 2), (64, 2), (132, 1), (133, 1), (191, 1), (328, 1), (403, 1), (721, 1), (729, 1), (1961, 1), (1971, 1), (2926, 1), (2927, 1), (2928, 1), (2929, 1)], [(21, 1), (48, 1), (55, 2), (77, 1), (78, 2), (103, 1), (111, 1), (223, 1), (624, 1), (831, 1), (836, 1), (2578, 1)], [(0, 1), (3, 3), (4, 1), (6, 1), (8, 6), (11, 1), (12, 2), (13, 6), (15, 1), (16, 4), (17, 1), (20, 2), (21, 1), (23, 1), (26, 6), (30, 9), (31, 1), (33, 3), (35, 3), (36, 5), (39, 1), (42, 1), (45, 1), (46, 2), (53, 1), (55, 15), (60, 1), (63, 2), (64, 1), (66, 2), (69, 1), (70, 2), (71, 2), (73, 4), (74, 2), (75, 1), (79, 1), (82, 4), (85, 1), (88, 1), (93, 1), (95, 1), (98, 3), (99, 3), (100, 9), (102, 2), (103, 2), (105, 1), (107, 2), (115, 2), (116, 6), (122, 1), (123, 2), (133, 3), (145, 1), (148, 1), (149, 1), (153, 1), (166, 1), (170, 1), (174, 1), (180, 1), (181, 1), (184, 2), (186, 6), (188, 1), (195, 1), (198, 1), (206, 2), (209, 1), (211, 2), (239, 1), (243, 1), (258, 1), (261, 2), (268, 2), (269, 3), (275, 1), (285, 1), (286, 1), (293, 1), (311, 2), (312, 1), (316, 1), (320, 1), (328, 1), (336, 1), (356, 1), (365, 4), (377, 1), (378, 1), (384, 3), (394, 1), (424, 1), (435, 1), (438, 1), (443, 1), (446, 2), (453, 1), (475, 1), (476, 1), (482, 2), (504, 3), (514, 1), (519, 1), (531, 2), (535, 1), (536, 1), (539, 1), (541, 1), (548, 1), (549, 6), (568, 1), (576, 2), (582, 2), (591, 1), (595, 1), (602, 1), (633, 1), (656, 1), (658, 2), (668, 1), (699, 1), (706, 1), (719, 1), (722, 2), (732, 1), (739, 1), (745, 1), (746, 1), (749, 1), (768, 1), (770, 1), (801, 1), (807, 1), (814, 1), (819, 1), (834, 2), (847, 3), (857, 2), (880, 1), (908, 1), (984, 1), (998, 1), (1011, 1), (1012, 1), (1047, 2), (1087, 1), (1153, 1), (1198, 1), (1230, 1), (1248, 3), (1338, 1), (1417, 2), (1438, 1), (1455, 1), (1540, 1), (1548, 1), (1593, 2), (1647, 1), (1670, 2), (1679, 1), (1747, 1), (1786, 1), (1789, 1), (1799, 1), (1842, 1), (1992, 1), (2160, 1), (2169, 1), (2338, 1), (2371, 1), (2402, 1), (2422, 1), (2435, 1), (2463, 1), (2559, 1), (2614, 1), (2615, 1), (2642, 1), (2930, 1), (2931, 1), (2932, 1), (2933, 1), (2934, 1), (2935, 1), (2936, 1), (2937, 1), (2938, 1), (2939, 1), (2940, 1), (2941, 1), (2942, 1), (2943, 1), (2944, 1), (2945, 1), (2946, 1)], [(26, 1), (46, 1)], [(35, 1), (46, 1), (55, 1), (115, 1)], [(0, 1), (6, 1), (11, 1), (12, 1), (13, 3), (17, 1), (19, 1), (20, 2), (27, 1), (36, 1), (48, 1), (53, 1), (55, 1), (64, 1), (71, 1), (72, 1), (73, 2), (82, 2), (83, 1), (84, 1), (103, 1), (107, 2), (149, 1), (180, 1), (249, 1), (307, 1), (314, 1), (348, 1), (392, 1), (438, 1), (482, 1), (535, 1), (721, 1), (727, 1), (788, 1), (796, 1), (829, 1), (942, 1), (982, 1), (1083, 1), (1268, 1), (1445, 1), (1501, 1), (2236, 1), (2947, 1)], [(3, 1), (4, 1), (9, 1), (10, 1), (12, 3), (13, 1), (14, 1), (16, 1), (19, 2), (30, 1), (36, 1), (44, 2), (48, 1), (50, 1), (59, 1), (60, 2), (64, 1), (68, 2), (71, 1), (73, 3), (77, 2), (88, 2), (90, 1), (98, 1), (103, 1), (106, 1), (107, 2), (111, 1), (121, 1), (122, 1), (125, 3), (143, 1), (162, 2), (175, 2), (179, 1), (198, 2), (204, 1), (207, 1), (209, 1), (211, 1), (215, 1), (224, 1), (230, 1), (261, 1), (269, 1), (275, 1), (280, 1), (285, 1), (312, 1), (364, 1), (384, 1), (412, 1), (426, 1), (482, 1), (514, 1), (527, 1), (554, 1), (559, 1), (648, 1), (713, 1), (770, 1), (789, 1), (813, 1), (832, 3), (848, 1), (1047, 1), (1087, 1), (1107, 2), (1214, 1), (1227, 1), (1360, 1), (1973, 1), (2106, 1), (2948, 1), (2949, 1), (2950, 1), (2951, 1), (2952, 1), (2953, 1), (2954, 1), (2955, 1), (2956, 1), (2957, 1), (2958, 1), (2959, 1), (2960, 1), (2961, 1)], [(46, 1), (132, 1)], [(19, 1), (23, 1), (24, 1), (31, 1), (68, 1), (73, 2), (77, 1), (88, 1), (225, 1), (239, 1), (256, 1), (293, 1), (438, 1), (563, 1), (1107, 1)], [(6, 1), (70, 1), (105, 1), (595, 1), (622, 1), (1459, 1)], [(13, 1), (16, 1), (48, 1), (60, 1), (94, 1), (290, 1)], [(132, 1), (180, 2)], [(3, 1), (13, 1), (19, 1), (33, 1), (44, 1), (46, 1), (48, 1), (66, 1), (152, 1), (1066, 1), (2962, 1)], [(13, 2), (29, 1), (33, 1), (36, 1), (41, 1), (46, 1), (58, 1), (59, 1), (60, 1), (65, 1), (71, 1), (82, 1), (99, 1), (102, 1), (103, 1), (170, 1), (319, 2), (379, 1), (426, 1), (504, 1), (539, 2), (647, 1), (1366, 1), (1477, 1), (1812, 2)], [(70, 1), (223, 1), (315, 1), (434, 1), (595, 1), (746, 1), (1543, 1), (2963, 1)], [(35, 1), (63, 1), (64, 1), (66, 1), (189, 1), (549, 1), (2964, 1)], [(19, 1), (48, 1), (145, 1)], [(12, 1), (19, 1), (26, 1), (31, 1), (41, 1), (45, 1), (48, 1), (58, 1), (66, 1), (82, 1), (100, 2), (126, 1), (198, 1), (212, 2), (269, 1), (280, 1), (308, 1), (309, 1), (473, 1), (504, 1), (616, 1), (726, 1), (776, 1), (856, 1), (1090, 1)], [(15, 1), (103, 1), (132, 1)], [(18, 1), (26, 1), (35, 1), (36, 1), (46, 2), (53, 2), (55, 1), (66, 1), (68, 1), (72, 1), (76, 1), (77, 1), (100, 1), (139, 1), (145, 1), (198, 1), (206, 1), (214, 1), (331, 1), (354, 1), (447, 1), (482, 2), (548, 1), (591, 2), (682, 1), (947, 1), (975, 1), (2965, 1), (2966, 1)], [(0, 1), (12, 2), (19, 1), (43, 1), (45, 1), (53, 1), (55, 1), (60, 1), (102, 1), (103, 1), (171, 1), (210, 1), (557, 1), (1198, 1)], [(9, 1), (20, 1), (142, 1), (519, 1)], [(55, 1), (64, 1), (78, 1), (100, 1), (121, 1), (162, 1), (164, 1), (174, 1), (211, 1), (470, 1), (472, 1)], [(10, 1), (31, 1), (35, 1), (46, 1), (66, 1), (71, 1), (91, 1), (96, 1), (101, 1), (102, 1), (108, 1), (116, 1), (120, 1), (122, 1), (170, 1), (301, 1), (404, 1), (442, 1), (456, 1), (539, 1), (656, 1), (1198, 1), (1534, 1), (1598, 1), (1846, 1), (2967, 1)], [(55, 1), (78, 1), (139, 1), (147, 1), (389, 1), (610, 1)], [(45, 1), (275, 1), (438, 1)], [(25, 1), (35, 1), (36, 1), (41, 1), (45, 1), (46, 1), (62, 1), (66, 1), (71, 1), (99, 1), (100, 1), (126, 1), (132, 1), (215, 1), (354, 1), (404, 1), (435, 1), (538, 1), (547, 2), (807, 1), (885, 1), (2058, 1), (2968, 1), (2969, 1)], [(9, 1), (11, 1), (12, 1), (19, 1), (20, 2), (29, 1), (33, 1), (43, 1), (48, 2), (55, 1), (59, 1), (64, 1), (71, 1), (75, 1), (100, 1), (142, 1), (170, 2), (205, 1), (210, 1), (241, 1), (280, 1), (452, 1), (548, 1), (563, 1), (598, 1), (613, 1), (1184, 1), (1251, 1), (1687, 1), (2970, 1), (2971, 1)], [(31, 1), (46, 2), (132, 1)], [(16, 1), (19, 1), (35, 1), (39, 1), (55, 2), (68, 1), (170, 1), (208, 1), (442, 1), (450, 1), (459, 1), (462, 1), (567, 1), (859, 1), (1306, 1), (1312, 1), (1418, 1), (1419, 1), (1532, 1), (2245, 1), (2971, 1), (2972, 1), (2973, 1)], [(12, 1), (18, 1), (20, 1), (43, 1), (48, 1), (60, 1), (96, 1), (103, 1), (450, 1), (525, 1), (1284, 1)], [(46, 1), (64, 1), (101, 1), (170, 1), (431, 1), (434, 1), (726, 1)], [(12, 1), (19, 1), (29, 1), (33, 1), (46, 1), (64, 1), (560, 1), (629, 1), (1124, 1)], [(15, 1), (19, 1), (77, 1), (121, 1), (517, 1), (563, 1), (831, 1)], [(20, 1), (55, 3), (78, 1), (100, 1), (452, 1), (507, 1)], [(94, 1)], [(29, 1), (33, 2), (55, 1), (60, 1), (63, 1), (91, 1), (94, 1), (109, 1), (131, 1), (132, 1)], [(989, 1)], [(94, 1), (170, 1), (175, 1), (198, 1)], [(12, 1), (35, 1), (43, 1), (46, 1), (364, 1)], [(13, 1), (21, 1), (48, 1), (137, 1), (276, 1)], [(12, 2), (16, 1), (19, 1), (30, 1), (35, 1), (72, 1), (107, 1), (125, 1), (549, 1)], [(46, 1), (189, 1), (2974, 1), (2975, 1)], [(9, 1), (23, 1), (86, 1), (223, 1), (932, 1), (942, 1)], [(55, 1), (67, 1), (100, 1), (312, 1)], [(3, 1), (12, 1), (19, 1), (58, 1), (60, 1), (71, 1), (82, 1), (101, 1), (139, 1), (170, 1), (215, 1), (312, 1), (361, 1), (527, 1), (612, 1), (869, 1)], [(0, 1), (9, 1), (12, 2), (35, 1), (55, 5), (59, 1), (64, 1), (65, 1), (71, 1), (100, 1), (125, 1), (127, 1), (133, 1), (145, 1), (147, 1), (183, 1), (189, 1), (194, 1), (253, 1), (261, 1), (340, 1), (451, 1), (505, 2), (633, 2), (677, 1), (856, 1), (894, 1), (989, 1), (1001, 1), (1239, 1), (1961, 1), (2976, 1), (2977, 1)], [(12, 1), (19, 1), (35, 1), (58, 1), (64, 1), (66, 1), (70, 1), (100, 1), (123, 1), (274, 1), (328, 1), (385, 1), (414, 1), (427, 1), (468, 1), (559, 1), (668, 1), (1484, 1), (2346, 1), (2820, 1)], [(17, 1), (70, 1), (71, 1), (100, 1), (102, 1), (103, 1), (126, 1), (208, 1), (328, 2), (1859, 1), (2345, 1)], [(9, 2), (20, 1), (30, 1), (46, 1), (55, 2), (64, 1), (65, 1), (74, 2), (101, 2), (115, 1), (142, 1), (214, 1), (377, 1), (447, 1), (482, 2), (726, 2), (773, 1), (1055, 1)], [(6, 1), (19, 1), (48, 1), (98, 1), (145, 1), (520, 1)], [(11, 1), (13, 2), (20, 2), (23, 1), (31, 1), (33, 1), (55, 1), (68, 1), (73, 2), (77, 1), (88, 2), (100, 1), (147, 1), (148, 1), (152, 2), (166, 1), (392, 1), (438, 2), (491, 1), (548, 1), (653, 1), (692, 1)], [(12, 1), (16, 1), (48, 1), (100, 2), (197, 1), (269, 1), (280, 2), (548, 1), (568, 1), (874, 1)], [(64, 1), (438, 1)], [(0, 1), (3, 1), (36, 1), (54, 1), (61, 1), (86, 2), (133, 1), (238, 1), (717, 1), (2978, 1)], [(9, 1), (16, 1), (35, 1), (66, 1), (70, 2), (72, 1), (94, 1), (100, 1), (105, 1), (107, 1), (116, 1), (146, 1), (167, 1), (191, 1), (210, 1), (276, 1), (340, 1), (499, 1), (1251, 1)], [(53, 1), (55, 1), (90, 1), (100, 1), (518, 1), (1154, 1), (1274, 1), (1298, 1)], [(16, 1), (35, 1), (45, 1), (55, 4), (60, 1), (66, 1), (100, 1), (116, 1), (137, 1), (311, 1), (452, 1), (557, 1), (727, 1), (1273, 1), (1802, 1), (2979, 1), (2980, 1)], [(35, 1), (66, 1), (397, 1), (856, 1), (1030, 1), (1270, 1)], [(91, 1), (96, 1), (132, 1), (315, 1), (582, 1)], [(68, 1), (77, 1), (101, 1), (137, 1), (170, 1), (1108, 1)], [(23, 1), (31, 1), (35, 1), (66, 1), (101, 1), (138, 1), (148, 1), (170, 1), (189, 1), (387, 1)], [(12, 1), (19, 1), (73, 1), (127, 1), (198, 1), (210, 1), (312, 1), (1013, 1)], [(24, 1), (35, 1), (45, 1), (107, 1), (388, 1)], [(46, 1), (64, 1)], [(12, 1), (43, 1), (94, 1), (137, 1), (177, 1), (184, 1), (473, 1), (1411, 1)], [(20, 1), (23, 1), (25, 1), (1229, 1)], [(12, 1), (13, 1), (16, 1), (23, 1), (25, 1), (26, 1), (128, 1), (132, 1), (215, 1), (312, 1), (1108, 1)], [(26, 1), (35, 1), (46, 1), (93, 1), (100, 1), (387, 1), (549, 1)], [(45, 1), (438, 1)], [(12, 2), (16, 1), (26, 3), (30, 2), (35, 1), (36, 3), (43, 2), (60, 1), (64, 1), (66, 2), (67, 1), (72, 1), (79, 1), (98, 2), (99, 1), (100, 1), (101, 1), (102, 3), (103, 1), (107, 2), (121, 1), (152, 1), (160, 1), (170, 1), (186, 2), (214, 1), (225, 1), (253, 1), (273, 1), (285, 1), (337, 1), (354, 1), (361, 1), (385, 1), (473, 3), (482, 1), (494, 1), (548, 2), (721, 1), (787, 2), (1227, 1), (1379, 1), (1424, 1), (1665, 1), (2124, 4), (2924, 1), (2981, 1), (2982, 1), (2983, 1), (2984, 1), (2985, 1)], [(46, 1), (55, 1), (66, 1), (94, 1), (1477, 1)], [(13, 1), (33, 1), (46, 1), (64, 1), (152, 1), (371, 1)], [(31, 1), (35, 1), (45, 1), (46, 1), (63, 1), (70, 1)], [(4, 1), (12, 1), (143, 1), (371, 1), (2986, 1)], [(8, 1), (19, 1), (26, 1), (35, 2), (36, 1), (44, 1), (50, 1), (55, 1), (60, 1), (63, 1), (66, 5), (86, 1), (100, 1), (109, 2), (115, 1), (138, 1), (145, 1), (179, 1), (189, 2), (204, 3), (221, 1), (241, 1), (298, 1), (331, 1), (356, 1), (364, 1), (365, 1), (383, 1), (385, 1), (387, 1), (394, 1), (438, 1), (447, 1), (482, 1), (489, 1), (500, 1), (516, 1), (547, 1), (558, 1), (567, 1), (616, 1), (668, 2), (727, 1), (1026, 1), (1086, 1), (1194, 1), (1251, 2), (1344, 1), (1432, 1), (1478, 1), (1704, 1), (2154, 1), (2172, 1), (2181, 1), (2478, 1), (2885, 1), (2983, 1), (2987, 1), (2988, 1)], [(29, 1), (48, 1), (80, 1), (132, 1), (162, 1), (179, 1), (394, 1), (2072, 1)], [(3, 1), (9, 2), (152, 1), (717, 1), (996, 1)], [(3, 1), (13, 1), (21, 1), (74, 1), (75, 1), (82, 1), (84, 1), (312, 1), (377, 1), (394, 1), (431, 1), (434, 1), (507, 1), (653, 1), (1610, 1), (2989, 1)], [(20, 1), (31, 1), (33, 1), (46, 1), (73, 1), (131, 1), (142, 1), (148, 1)], [(105, 1), (115, 1)], [(26, 1), (44, 1), (55, 1), (68, 1), (78, 1), (111, 1), (147, 1), (155, 1), (183, 1), (216, 1), (223, 1), (225, 1), (247, 1), (263, 1), (301, 1), (392, 1), (431, 2), (434, 2), (496, 1), (706, 1), (836, 1), (955, 1)], [(96, 1), (354, 1), (368, 1), (549, 1), (576, 1)], [(9, 1), (23, 1), (26, 1), (55, 1), (927, 1)], [(12, 2), (64, 1), (107, 1), (253, 1), (276, 1), (392, 2)], [(35, 1), (66, 1), (186, 1), (2646, 1)], [(27, 1), (30, 1), (91, 2), (94, 1), (101, 1), (170, 2), (497, 1), (527, 1), (1463, 1)], [(13, 1), (36, 1), (72, 1), (345, 1), (394, 1), (2217, 1)], [(31, 1), (33, 1), (68, 1), (71, 1), (77, 1), (100, 4), (107, 3), (148, 1), (170, 1), (188, 1), (198, 1), (209, 1), (251, 1), (305, 1), (539, 1), (585, 1), (720, 1), (727, 1), (891, 1), (1200, 1), (1470, 1), (1521, 1), (2448, 1), (2619, 1), (2823, 1)], [(12, 1), (33, 1), (70, 1), (82, 1), (105, 1), (107, 1), (556, 1), (582, 1), (746, 1), (1062, 1), (2422, 1)], [(12, 1), (23, 1), (25, 1), (27, 1), (55, 1), (78, 1), (99, 1), (126, 1), (363, 1), (482, 1), (932, 1)], [(31, 1), (46, 1), (90, 1), (93, 1), (103, 1), (105, 1), (111, 1), (392, 2), (544, 1), (545, 1), (1107, 1)], [(15, 1), (103, 1)], [(26, 1), (30, 1), (402, 1)], [(29, 1), (33, 1), (82, 1), (138, 1), (139, 1), (179, 1)], [(923, 1)], [(12, 3), (13, 1), (15, 2), (19, 1), (26, 1), (41, 1), (50, 1), (60, 4), (63, 1), (64, 1), (65, 1), (67, 1), (69, 1), (75, 1), (78, 1), (88, 1), (100, 2), (102, 2), (103, 1), (107, 1), (109, 1), (110, 1), (117, 1), (133, 1), (145, 1), (155, 1), (156, 1), (210, 1), (215, 2), (222, 1), (312, 1), (314, 1), (409, 1), (414, 1), (451, 1), (578, 1), (595, 1), (625, 1), (764, 1), (838, 1), (850, 1), (943, 1), (961, 1), (1089, 1), (1106, 1), (1265, 1), (1267, 1), (1364, 1), (1398, 1), (1937, 1), (2232, 1), (2388, 1), (2827, 1)], [(24, 1)], [(12, 2), (16, 1), (46, 1), (64, 1), (102, 1), (107, 1), (111, 1), (123, 1), (133, 1), (312, 1), (404, 1), (527, 1)], [(31, 1), (45, 1), (132, 1), (539, 1)], [(45, 1), (55, 1), (68, 1), (70, 1), (604, 1), (791, 1), (955, 1)], [(16, 1), (63, 1), (94, 1)], [(11, 1), (53, 1), (74, 1), (75, 1), (100, 1), (107, 1), (215, 1), (767, 1), (796, 1), (834, 1)], [(3, 1), (12, 4), (13, 2), (19, 2), (26, 2), (35, 1), (36, 1), (39, 1), (41, 1), (50, 1), (55, 1), (60, 2), (64, 2), (65, 1), (66, 1), (67, 1), (73, 1), (78, 1), (88, 2), (107, 2), (133, 1), (171, 1), (187, 1), (197, 1), (209, 1), (314, 1), (348, 1), (356, 1), (370, 1), (394, 1), (499, 1), (517, 1), (535, 1), (690, 1), (814, 1), (1107, 1), (1219, 1), (1384, 1), (1472, 1), (2990, 1), (2991, 1)], [(9, 2), (12, 1), (18, 1), (35, 1), (44, 1), (48, 1), (55, 5), (59, 1), (63, 1), (66, 2), (67, 1), (71, 1), (72, 1), (75, 1), (82, 1), (91, 1), (93, 2), (100, 2), (101, 1), (103, 1), (115, 5), (137, 1), (143, 2), (175, 1), (197, 2), (204, 1), (221, 1), (256, 1), (275, 1), (280, 1), (316, 1), (320, 1), (323, 1), (383, 1), (384, 1), (400, 1), (405, 1), (425, 1), (426, 1), (442, 1), (451, 1), (465, 1), (531, 1), (549, 3), (560, 1), (595, 1), (616, 1), (633, 1), (658, 1), (690, 2), (703, 1), (734, 1), (737, 1), (789, 1), (841, 1), (1005, 1), (1130, 1), (1151, 1), (1216, 1), (1426, 2), (1535, 1), (1697, 1), (1859, 1), (2002, 1), (2294, 1), (2992, 1), (2993, 1), (2994, 1), (2995, 1), (2996, 1)], [(27, 1), (44, 1), (101, 1), (170, 1), (312, 1), (345, 1)], [(63, 1), (73, 1), (101, 1), (170, 1), (211, 1), (364, 1), (726, 1)], [(8, 1), (9, 1), (11, 2), (12, 1), (13, 1), (20, 2), (26, 3), (27, 2), (30, 1), (31, 1), (35, 1), (36, 1), (41, 2), (46, 1), (53, 2), (55, 11), (58, 1), (59, 2), (63, 1), (65, 1), (67, 3), (70, 2), (71, 3), (78, 1), (82, 2), (94, 2), (100, 3), (102, 1), (104, 1), (107, 1), (109, 2), (116, 1), (133, 1), (142, 1), (143, 1), (147, 1), (180, 1), (191, 1), (198, 1), (211, 1), (213, 1), (238, 1), (312, 1), (315, 1), (377, 1), (395, 1), (397, 1), (473, 1), (497, 2), (519, 1), (536, 1), (604, 1), (682, 1), (767, 1), (842, 1), (880, 2), (896, 1), (903, 1), (927, 2), (989, 1), (1088, 1), (1154, 1), (1488, 1), (1570, 1), (1702, 1), (1721, 1), (1818, 1), (1872, 1), (1905, 1), (2236, 3), (2604, 1), (2812, 1), (2997, 1), (2998, 1), (2999, 1), (3000, 1), (3001, 1)], [(46, 1), (60, 1), (70, 1), (102, 1), (315, 1)], [(12, 2), (29, 1), (33, 1), (35, 1), (66, 1), (77, 1), (107, 1), (111, 1), (125, 1), (198, 1), (224, 1), (831, 1), (890, 1), (1538, 1)], [(24, 1), (35, 1), (46, 1), (66, 1), (115, 1), (211, 1), (370, 1), (385, 1), (1405, 1), (1475, 1)], [(9, 1), (80, 1), (195, 1), (402, 1), (1455, 1)], [(105, 1), (438, 1)], [(60, 1), (188, 1)], [(104, 1)], [(12, 1), (21, 1), (48, 1), (71, 1)], [(0, 2), (3, 1), (12, 2), (26, 1), (46, 1), (60, 1), (64, 1), (68, 1), (77, 1), (78, 1), (102, 1), (132, 1), (147, 1), (191, 1), (263, 1), (348, 1), (389, 1), (622, 2), (1021, 1)], [(13, 1), (33, 1), (41, 1), (46, 1), (132, 1), (152, 1)], [(33, 1), (73, 1), (130, 1), (535, 1)], [(3, 1), (53, 1), (73, 2), (116, 1), (118, 3), (719, 1), (775, 1), (841, 1), (1317, 1)], [(8, 1), (31, 1), (46, 1), (66, 1), (80, 1), (103, 2), (132, 1), (539, 1), (1748, 1), (3002, 1)], [(19, 1), (27, 1), (35, 1), (46, 1), (55, 1), (66, 1), (73, 1), (93, 1), (117, 1), (145, 1), (162, 1), (186, 1), (188, 1), (311, 1), (385, 1), (563, 1), (783, 1), (1159, 1)], [(12, 1), (13, 1), (15, 1), (35, 1), (43, 1), (45, 1), (50, 1), (53, 1), (66, 1), (82, 1), (100, 1), (206, 1), (425, 1), (489, 1), (514, 1), (673, 1), (674, 1), (849, 1), (2779, 1)], [(13, 1), (33, 1), (152, 1)], [(11, 1), (16, 1), (17, 1), (19, 1), (20, 2), (55, 1), (58, 1), (64, 1), (67, 1), (68, 1), (74, 2), (77, 1), (123, 1), (137, 1), (170, 1), (197, 1), (218, 1), (219, 2), (238, 1), (459, 1), (675, 1), (690, 1), (817, 1), (3003, 1)], [(0, 1), (11, 1), (17, 1), (20, 2), (29, 1), (35, 1), (45, 1), (55, 1), (66, 1), (68, 1), (77, 1), (93, 2), (100, 2), (101, 1), (126, 1), (138, 1), (170, 1), (191, 1), (211, 1), (320, 1), (363, 1), (370, 1), (473, 1), (507, 1), (563, 1), (667, 1), (1221, 1), (2050, 1), (3004, 1)], [(18, 1), (20, 2), (35, 1), (46, 2), (48, 1), (55, 5), (72, 1), (73, 3), (100, 3), (109, 1), (126, 1), (143, 1), (186, 1), (211, 1), (261, 1), (311, 1), (340, 1), (385, 1), (675, 1), (717, 1), (828, 1), (1021, 1), (1539, 1), (1640, 1), (2453, 1)], [(12, 1), (19, 1), (27, 1), (33, 1), (39, 1), (46, 1), (55, 1), (60, 1), (63, 2), (64, 1), (68, 2), (77, 2), (91, 1), (101, 2), (107, 1), (170, 3), (181, 1), (261, 1), (296, 1), (348, 1), (528, 1), (588, 1), (726, 1), (886, 1), (908, 2), (1114, 1), (1325, 1), (1463, 1), (1543, 1), (1786, 1), (2837, 1), (3005, 1), (3006, 1), (3007, 1)], [(10, 1), (12, 3), (16, 1), (46, 1), (64, 1), (67, 1), (75, 1), (128, 1), (198, 1), (313, 1), (348, 1), (607, 1), (982, 1), (3008, 1)], [(45, 1), (70, 1)], [(12, 1), (18, 1), (20, 2), (30, 1), (35, 1), (46, 1), (50, 1), (55, 1), (68, 1), (71, 1), (73, 1), (77, 1), (98, 1), (162, 1), (223, 1), (276, 1), (299, 1), (354, 1), (507, 1), (560, 1)], [(46, 1), (70, 1), (82, 1), (106, 1)], [(12, 1), (26, 2), (64, 2), (99, 1), (215, 1), (312, 1), (504, 1), (549, 1), (1117, 1), (2124, 1), (2213, 1), (3009, 1), (3010, 1)], [(10, 1), (12, 1), (14, 1), (16, 1), (24, 1), (30, 1), (44, 1), (55, 2), (68, 1), (73, 1), (77, 1), (99, 1), (100, 1), (101, 1), (310, 1), (312, 1), (361, 1), (726, 1), (873, 1), (3011, 1)], [(21, 1), (45, 1), (55, 2), (64, 1), (70, 2), (72, 1), (73, 1), (80, 1), (82, 1), (103, 1), (137, 1), (145, 1), (170, 1), (442, 1), (451, 1), (459, 1), (482, 1), (539, 1), (989, 1), (1229, 1), (1379, 1), (1444, 1), (1859, 1)], [(13, 1), (26, 1), (55, 1), (70, 1), (116, 1), (123, 1)], [(9, 1), (13, 1), (16, 1), (17, 2), (19, 1), (20, 2), (25, 1), (36, 1), (41, 1), (42, 1), (48, 2), (55, 3), (62, 1), (64, 1), (72, 1), (73, 1), (74, 2), (78, 1), (82, 1), (100, 4), (101, 1), (103, 1), (107, 1), (115, 1), (124, 1), (133, 1), (143, 1), (148, 1), (158, 1), (170, 3), (181, 1), (191, 1), (261, 1), (275, 1), (285, 1), (290, 1), (305, 1), (320, 1), (377, 1), (459, 1), (471, 1), (472, 1), (482, 1), (493, 1), (519, 1), (527, 2), (650, 1), (653, 1), (674, 1), (764, 1), (826, 1), (850, 1), (951, 1), (1254, 1), (1423, 1), (1426, 2), (1560, 1), (1561, 1), (1656, 1), (1859, 1), (1942, 2), (2657, 1), (3012, 1), (3013, 1)], [(19, 1), (20, 1), (63, 1), (68, 1), (77, 1), (91, 1), (162, 1), (364, 1), (874, 1), (1881, 1)], [(96, 1), (105, 1)], [(0, 1), (3, 1), (12, 1), (16, 1), (102, 1)], [(0, 1), (6, 1), (315, 1)], [(20, 1), (142, 1)], [(197, 1), (3014, 1)], [(54, 1), (61, 1), (67, 1)], [(33, 1), (46, 1), (131, 1), (132, 1)], [(46, 1)], [(27, 1), (101, 1), (170, 1), (442, 1), (547, 1), (1006, 1)], [(11, 1), (84, 1), (96, 1), (100, 1), (143, 1), (162, 1), (286, 1), (385, 1), (473, 1), (548, 1), (821, 1), (1310, 1), (1824, 1), (2148, 1), (2778, 1), (3015, 1)], [(46, 1)], [(9, 1), (11, 1), (26, 1), (35, 1), (55, 2), (60, 1), (68, 1), (70, 1), (77, 1), (84, 1), (94, 1), (100, 1), (116, 1), (121, 1), (123, 1), (224, 1), (227, 1), (261, 1), (312, 1), (475, 1), (489, 1), (528, 1), (797, 1), (834, 1), (867, 1), (1226, 1), (3016, 1), (3017, 1)], [(15, 1), (26, 1), (33, 1), (48, 1), (55, 2), (59, 1), (68, 1), (77, 1), (93, 1), (94, 1), (106, 1), (307, 1), (604, 1), (744, 1), (3018, 1)], [(111, 1), (132, 1), (392, 1)], [(84, 1), (115, 1), (312, 1)], [(8, 1), (9, 1), (10, 1), (20, 1), (30, 1), (44, 2), (55, 1), (58, 1), (70, 1), (76, 1), (79, 1), (88, 1), (90, 1), (91, 1), (93, 1), (103, 1), (116, 3), (145, 2), (166, 1), (170, 1), (191, 1), (298, 1), (304, 1), (385, 1), (412, 3), (426, 1), (482, 1), (501, 1), (531, 1), (662, 1), (748, 1), (894, 1), (1326, 1), (1708, 1), (1885, 1), (1992, 1), (2287, 1), (3019, 1), (3020, 1), (3021, 1), (3022, 1), (3023, 1), (3024, 1), (3025, 1), (3026, 1)], [(35, 1), (45, 1), (68, 1), (77, 1), (496, 1), (1455, 1)], [(5, 1), (9, 1), (13, 1), (16, 2), (19, 2), (26, 1), (42, 2), (50, 1), (53, 2), (55, 1), (60, 1), (62, 1), (63, 1), (65, 1), (66, 1), (100, 1), (115, 1), (128, 1), (145, 2), (170, 1), (179, 1), (189, 1), (256, 1), (357, 1), (385, 1), (426, 1), (451, 1), (471, 1), (497, 2), (522, 2), (541, 1), (560, 1), (609, 1), (633, 1), (721, 1), (739, 1), (745, 1), (767, 1), (768, 1), (1140, 1), (1145, 1), (1411, 1), (1425, 1), (1846, 1), (2197, 1), (3027, 1)], [(35, 1), (45, 1), (94, 1), (138, 1)], [(333, 1)], [(29, 1), (35, 1), (45, 2), (80, 1), (91, 1), (94, 1), (158, 1), (170, 1), (275, 1), (293, 1), (444, 1), (1404, 1)], [(12, 1), (45, 1), (63, 1), (73, 1), (108, 1), (389, 1)], [(424, 1), (773, 1), (857, 1), (1335, 1), (2388, 1)], [(3, 1), (9, 1), (10, 1), (12, 1), (16, 2), (17, 1), (20, 1), (29, 1), (33, 1), (45, 1), (64, 1), (77, 1), (82, 1), (93, 1), (100, 1), (102, 1), (261, 1), (549, 1), (657, 1), (717, 1), (828, 1), (1148, 1), (1399, 1), (1642, 1), (2004, 1), (3028, 1)], [(12, 1), (30, 1), (46, 1), (64, 1), (102, 1)], [(3, 1), (11, 1), (12, 1), (13, 1), (16, 1), (20, 1), (26, 2), (29, 1), (33, 1), (35, 2), (39, 1), (48, 1), (55, 1), (66, 2), (68, 1), (74, 1), (77, 1), (96, 1), (103, 1), (109, 1), (145, 2), (206, 1), (221, 1), (276, 1), (323, 1), (354, 2), (470, 1), (516, 1), (613, 1), (751, 1), (857, 1), (927, 1), (1001, 1), (1047, 1), (1214, 1), (1248, 2), (1385, 1), (1444, 1), (2730, 1)], [(9, 1), (12, 1), (15, 1), (19, 1), (44, 1), (48, 1), (60, 1), (115, 1), (170, 1), (223, 1), (253, 1), (817, 1), (878, 1)], [(162, 1), (195, 1), (1455, 1)], [(24, 1), (35, 1), (1070, 1)], [(31, 1), (32, 1), (46, 1), (132, 1)], [(12, 1), (48, 1), (54, 1), (67, 1), (70, 1), (116, 1), (239, 1), (378, 1), (482, 1), (556, 1), (1706, 1), (2023, 1), (3029, 1)], [(19, 1), (256, 1), (1251, 1), (1359, 1), (3030, 1)], [(8, 1), (46, 1)], [(3031, 1)], [(9, 1), (20, 1), (46, 1), (214, 1), (1006, 1)], [(315, 1)], [(101, 1), (132, 1), (170, 1), (483, 1), (3032, 1)], [(35, 1), (46, 1)], [(499, 1)], [(12, 1), (29, 1), (33, 1), (35, 1), (71, 1), (94, 1), (170, 1), (216, 1), (312, 1), (568, 1), (2280, 1), (3033, 1), (3034, 1)], [(8, 1), (9, 1), (13, 1), (19, 1), (20, 2), (26, 2), (31, 1), (33, 1), (44, 1), (48, 1), (55, 3), (64, 1), (70, 1), (71, 2), (77, 1), (82, 1), (99, 1), (100, 1), (142, 1), (148, 1), (167, 1), (170, 1), (191, 1), (249, 1), (276, 1), (459, 1), (625, 1), (1083, 1), (1169, 1), (1569, 1), (2359, 1), (3035, 1)], [(0, 1), (3, 1), (27, 1), (44, 1), (45, 1), (91, 2), (96, 1), (101, 1), (162, 1), (170, 2), (514, 1), (585, 1), (717, 1), (1837, 1), (2056, 1), (3036, 1)], [(23, 1), (48, 1), (73, 1), (145, 1), (394, 1), (482, 1), (851, 1), (1423, 1)], [(45, 1), (90, 1), (162, 1), (3037, 1), (3038, 1)], [(105, 1)], [(24, 1), (63, 1), (70, 1), (138, 1), (612, 1)], [(45, 1)], [(29, 1), (33, 1), (45, 1), (73, 1), (400, 1), (539, 1)], [(9, 1), (13, 1), (15, 1), (66, 1), (103, 1), (133, 1), (189, 1), (519, 1)], [(3, 1), (8, 2), (9, 1), (12, 1), (13, 2), (17, 1), (23, 1), (26, 2), (31, 1), (35, 1), (41, 1), (45, 1), (53, 1), (55, 4), (59, 1), (66, 1), (70, 1), (71, 1), (74, 1), (75, 1), (77, 1), (78, 1), (82, 1), (98, 1), (100, 3), (107, 1), (126, 1), (138, 1), (148, 1), (149, 1), (151, 1), (175, 1), (215, 1), (223, 1), (234, 1), (238, 2), (328, 1), (365, 1), (377, 1), (413, 1), (470, 1), (504, 1), (530, 1), (549, 1), (627, 1), (650, 1), (692, 1), (883, 1), (894, 1), (996, 1), (1248, 1), (1273, 1), (1300, 1), (2753, 1), (2757, 1), (3039, 1), (3040, 1), (3041, 1), (3042, 1)], [(12, 1), (16, 1), (43, 1), (46, 1), (71, 1), (90, 1), (98, 1), (101, 1), (170, 1), (186, 1), (473, 1), (834, 1), (1641, 1), (2219, 1), (3043, 1)], [(8, 1), (35, 1), (66, 1), (94, 1), (103, 1), (118, 1), (121, 1), (315, 1), (393, 1), (549, 1), (989, 1)], [(27, 1), (101, 1), (170, 1), (609, 1), (2110, 1), (3044, 1)], [(0, 1), (12, 1), (46, 1), (64, 1), (255, 1), (267, 1), (765, 1), (1282, 1), (1440, 1)], [(9, 1), (13, 1), (64, 1), (101, 1), (132, 1), (557, 1), (588, 1), (2268, 1), (3045, 1)], [(9, 1), (12, 1), (50, 1), (55, 1), (73, 1), (96, 1), (145, 1), (594, 1), (817, 1)], [(13, 1), (19, 1), (44, 1), (68, 1), (73, 1), (77, 1), (170, 1), (225, 1), (459, 1)], [(46, 1), (132, 1)], [(0, 1), (12, 2), (18, 1), (21, 2), (29, 1), (30, 1), (35, 1), (41, 1), (46, 1), (48, 2), (66, 1), (67, 3), (70, 2), (71, 1), (72, 1), (73, 1), (78, 1), (81, 2), (91, 4), (93, 1), (100, 2), (101, 1), (103, 2), (183, 1), (186, 1), (198, 1), (204, 1), (223, 1), (293, 1), (361, 1), (404, 1), (549, 3), (557, 1), (559, 1), (588, 1), (684, 1), (773, 1), (789, 1), (1200, 1), (1538, 1), (1812, 1), (3046, 1)], [(9, 1), (12, 2), (17, 1), (20, 2), (26, 1), (46, 1), (55, 1), (60, 1), (64, 1), (70, 1), (71, 1), (75, 1), (78, 1), (88, 1), (93, 1), (100, 3), (101, 1), (107, 2), (116, 2), (122, 1), (137, 1), (167, 1), (171, 1), (183, 1), (191, 1), (198, 1), (225, 1), (285, 1), (351, 1), (425, 1), (444, 1), (451, 1), (559, 1), (602, 2), (719, 1), (851, 1), (914, 1), (927, 1), (1041, 1), (1221, 1), (1786, 1), (2387, 1), (2730, 1), (3047, 1), (3048, 1), (3049, 1), (3050, 1), (3051, 1), (3052, 1), (3053, 1)], [(20, 1), (58, 1), (60, 1), (100, 1), (164, 1), (249, 1), (547, 1), (858, 1), (1154, 1), (1426, 1)], [(3, 1), (46, 1), (132, 1), (717, 1), (765, 1)], [(12, 1), (13, 2), (19, 1), (21, 1), (35, 1), (39, 1), (45, 1), (48, 1), (66, 2), (91, 1), (101, 1), (102, 1), (170, 1), (295, 1), (354, 1), (363, 1), (364, 1), (392, 1), (425, 1), (477, 1), (499, 1), (629, 1), (638, 1), (932, 1), (1609, 1), (3054, 1), (3055, 1)], [(11, 1), (13, 1), (16, 1), (20, 1), (23, 1), (299, 1), (528, 1), (3056, 1)], [(63, 1), (64, 1), (108, 1), (116, 1), (118, 1), (625, 1)], [(35, 1), (55, 1), (63, 1), (64, 1), (66, 1), (70, 1), (72, 1), (108, 1), (118, 2), (189, 1), (529, 1), (539, 1), (832, 1)], [(15, 1), (19, 1), (26, 1), (60, 1), (66, 1), (78, 1), (102, 1), (145, 1), (215, 1), (312, 1), (385, 1), (539, 1), (563, 1), (829, 1), (883, 1)], [(4, 1), (12, 1), (48, 1), (60, 1), (211, 1), (1423, 1)], [(1003, 1), (1005, 1)], [(30, 1), (33, 1), (35, 1), (55, 1), (91, 1), (98, 1), (129, 1), (130, 1), (131, 1), (133, 1), (138, 1), (388, 1), (402, 1)], [(1268, 1)], [(46, 1), (64, 1), (191, 1), (328, 1), (359, 1)], [(315, 1)], [(12, 1), (50, 1), (296, 1)], [(55, 1), (63, 1), (68, 1), (77, 1), (99, 1), (101, 1), (170, 2), (1068, 1)], [(9, 2), (26, 1), (44, 1), (46, 1), (59, 2), (65, 1), (66, 1), (67, 1), (68, 1), (71, 1), (77, 1), (158, 1), (170, 1), (253, 1), (257, 1), (280, 1), (320, 1), (356, 1), (444, 1), (547, 1), (548, 1), (709, 1), (765, 2)], [(35, 1), (45, 1), (66, 1), (132, 1), (188, 1)], [(70, 1), (2189, 1)], [(0, 1), (12, 1), (26, 1), (29, 1), (33, 1), (64, 2), (100, 1), (101, 1), (102, 1), (137, 1), (162, 1), (202, 1), (211, 1), (280, 1), (361, 1), (848, 1), (1460, 1), (2197, 1)], [(9, 1), (46, 1), (73, 1)], [(9, 1), (12, 1), (18, 1), (20, 1), (33, 1), (35, 1), (43, 1), (46, 1), (55, 1), (77, 1), (133, 1), (162, 1), (184, 1), (387, 1), (394, 1), (401, 1), (496, 1), (549, 1), (609, 1), (976, 1)], [(103, 1), (3057, 1)], [(18, 1), (35, 1), (55, 1), (60, 1), (70, 1), (147, 1), (151, 1), (273, 1), (456, 1), (576, 1), (1426, 1)], [(73, 1), (130, 1)], [(64, 1), (923, 1)], [(13, 1), (33, 1), (152, 1), (261, 1)], [(9, 1), (94, 1)], [(13, 2), (19, 3), (26, 1), (33, 1), (55, 2), (63, 1), (100, 1), (117, 1), (127, 1), (139, 1), (152, 1), (170, 1), (214, 1), (249, 1), (263, 1), (271, 1), (277, 1), (363, 1), (477, 1), (563, 1), (571, 1), (618, 1), (832, 1), (927, 1), (1215, 1), (1246, 1), (1251, 1), (1620, 1), (1628, 1), (2154, 1), (2181, 1), (2404, 1), (2816, 1), (3058, 1), (3059, 2)], [(27, 1), (29, 1), (33, 1), (55, 1), (60, 1), (101, 1), (170, 1), (726, 1)], [(65, 1), (85, 1), (91, 1), (94, 1), (186, 2), (765, 1)], [(35, 1), (45, 1), (53, 1), (66, 2), (86, 1), (91, 1), (170, 1), (211, 1), (315, 1), (356, 1), (364, 1), (1538, 1), (3060, 1)], [(12, 1), (43, 1), (55, 2), (63, 1), (65, 1), (66, 1), (88, 1), (137, 1), (179, 1), (251, 1), (1357, 1)], [(45, 1), (70, 1), (94, 1), (102, 1)], [(3, 1), (13, 2), (15, 1), (26, 1), (35, 1), (36, 1), (46, 1), (53, 1), (58, 1), (65, 1), (66, 4), (67, 1), (94, 1), (121, 2), (145, 3), (186, 1), (189, 1), (256, 1), (273, 1), (303, 1), (316, 1), (319, 1), (356, 1), (398, 1), (425, 1), (451, 1), (497, 1), (504, 1), (539, 1), (557, 1), (598, 1), (650, 1), (662, 1), (751, 1), (812, 1), (856, 1), (863, 1), (911, 1), (1028, 1), (1344, 1), (1379, 1), (1538, 1), (1707, 1), (1758, 1), (1988, 1), (1989, 1), (3061, 1)], [(73, 1), (100, 1), (276, 1)], [(9, 1), (55, 2), (60, 1), (64, 1), (162, 1)], [(20, 2), (45, 1), (46, 1), (126, 1), (377, 1), (413, 1), (508, 1), (652, 1), (671, 1), (672, 1)], [(15, 1), (21, 1), (31, 1), (55, 1), (70, 1), (167, 1), (315, 1), (371, 1), (491, 1), (1315, 1)], [(12, 2), (21, 1), (23, 1), (25, 1), (26, 1), (35, 1), (48, 1), (55, 1), (60, 1), (64, 1), (94, 1), (100, 1), (170, 1), (175, 1), (198, 1), (328, 1), (353, 1), (434, 1), (489, 1), (607, 2), (625, 1), (984, 1), (1143, 1), (1606, 1), (2820, 1), (3062, 1)], [(3, 1), (13, 1), (20, 3), (29, 1), (35, 1), (41, 1), (46, 2), (55, 3), (67, 1), (70, 1), (96, 1), (100, 1), (138, 1), (148, 1), (159, 1), (168, 1), (169, 1), (249, 2), (312, 1), (313, 1), (345, 1), (354, 1), (435, 1), (496, 1), (574, 1), (785, 1), (955, 1), (970, 1), (1287, 1), (2850, 1), (3028, 1), (3063, 1)], [(63, 1), (80, 1), (206, 1), (363, 1), (429, 1), (539, 1)], [(745, 1)], [(19, 2), (21, 2), (31, 1), (32, 1), (35, 1), (55, 1), (63, 1), (64, 1), (68, 1), (70, 1), (77, 1), (91, 1), (111, 1), (138, 1), (139, 1), (170, 1), (354, 1), (458, 1), (1068, 1), (2050, 1), (2304, 1), (2553, 1)], [(94, 1)], [(4, 1), (12, 1), (20, 1), (21, 1), (24, 1), (26, 4), (35, 2), (41, 1), (55, 2), (58, 1), (100, 1), (107, 3), (138, 1), (143, 1), (169, 1), (182, 1), (198, 2), (275, 2), (280, 1), (320, 1), (353, 1), (354, 1), (459, 1), (463, 1), (548, 1), (658, 1), (927, 1), (1119, 1), (1174, 1), (1175, 1), (1325, 1), (1739, 1), (1818, 1), (3064, 1), (3065, 1)], [(4, 1), (20, 1), (26, 2), (30, 1), (55, 3), (70, 1), (98, 1), (100, 1), (105, 1), (113, 1), (116, 2), (122, 1), (147, 1), (365, 1), (432, 1), (447, 1), (459, 1), (501, 1), (505, 1), (995, 1), (1286, 1), (1439, 1), (1580, 1), (1766, 1), (1800, 1), (2160, 1), (3066, 1), (3067, 1)], [(26, 1), (29, 1), (33, 1), (46, 1), (63, 1), (64, 1), (80, 1)], [(45, 1), (70, 1), (94, 1)], [(35, 1), (66, 1), (94, 1), (96, 1), (100, 1), (116, 1), (138, 1), (334, 1), (2050, 1)], [(12, 1), (139, 1), (479, 1)], [(9, 1), (13, 1), (18, 1), (19, 1), (20, 2), (26, 1), (36, 1), (55, 1), (68, 1), (71, 1), (77, 1), (88, 1), (91, 1), (96, 1), (101, 1), (112, 1), (153, 1), (361, 1), (438, 1), (482, 1), (496, 1), (548, 1), (624, 1), (921, 1), (1070, 1), (1326, 1), (3068, 1)], [(35, 1), (66, 1), (451, 1), (549, 1), (627, 1), (658, 1), (948, 1), (1421, 1)], [(0, 1), (16, 1), (33, 1), (35, 1), (55, 1), (78, 1), (107, 1), (130, 1), (131, 1), (261, 1), (1286, 1)], [(35, 1), (46, 1), (73, 1), (93, 1), (535, 1), (3069, 1)], [(20, 1), (35, 1), (214, 1), (249, 1), (499, 1)], [(35, 1), (46, 1), (66, 1), (96, 1)], [(35, 1), (46, 1), (91, 1), (130, 1)], [(0, 1), (7, 1), (15, 1), (21, 1), (35, 2), (44, 1), (55, 1), (65, 1), (66, 2), (103, 2), (106, 1), (119, 1), (133, 1), (476, 1), (568, 1), (609, 1), (829, 1), (863, 1), (886, 1), (897, 1)], [(33, 1), (35, 1), (46, 2), (64, 1)], [(9, 1), (31, 1), (45, 1), (55, 1), (66, 1), (70, 2), (80, 2), (103, 1), (113, 1), (133, 1), (311, 1), (574, 1), (725, 1), (1492, 1)], [(3070, 1)], [(35, 1), (66, 1), (73, 1), (94, 1), (499, 1)], [(13, 1), (48, 1), (152, 1), (170, 1), (3071, 1)], [(8, 1), (23, 1), (25, 1), (27, 1), (851, 1)], [(23, 1), (25, 1), (26, 1), (46, 1), (70, 1)], [(46, 1), (66, 1), (139, 1), (189, 1)], [(9, 1), (31, 1), (46, 1), (64, 1), (74, 1), (100, 1), (126, 1), (143, 1), (386, 1), (482, 1), (996, 1), (998, 1), (2757, 1)], [(8, 1), (10, 1), (12, 1), (16, 1), (43, 1), (55, 2), (60, 1), (94, 1), (96, 1), (373, 1), (567, 1), (1170, 1), (3072, 1)], [(0, 1), (12, 1), (13, 2), (15, 1), (16, 1), (20, 1), (21, 2), (27, 1), (33, 1), (35, 1), (48, 1), (53, 1), (55, 4), (66, 5), (67, 1), (70, 1), (73, 1), (75, 1), (101, 1), (109, 1), (111, 2), (183, 1), (189, 2), (194, 1), (209, 1), (272, 1), (316, 1), (355, 1), (356, 1), (357, 1), (377, 1), (490, 1), (516, 1), (528, 1), (548, 1), (691, 1), (717, 1), (882, 1), (883, 1), (911, 1), (918, 1), (993, 1), (1095, 1), (1114, 1), (1118, 1), (1193, 1), (1272, 1), (2294, 1), (2536, 1), (2626, 1), (3073, 1), (3074, 3), (3075, 1), (3076, 1)], [(0, 1), (11, 1), (12, 1), (19, 1), (26, 1), (33, 1), (55, 2), (60, 2), (71, 1), (107, 1), (121, 1), (170, 2), (275, 1), (276, 1), (290, 1), (389, 1), (476, 1), (565, 1), (606, 1), (1214, 1), (1426, 1), (1859, 1), (2685, 1), (3077, 1), (3078, 1)], [(8, 1), (45, 1), (184, 1), (1210, 1), (1305, 1)], [(23, 1), (2004, 1)], [(46, 1), (70, 1), (132, 1), (437, 1), (995, 1)], [(9, 1), (20, 2), (55, 1), (67, 1), (70, 2), (85, 1), (86, 1), (94, 1), (103, 1), (142, 1), (215, 1), (219, 1), (404, 1), (447, 1), (451, 1), (1047, 1)], [(15, 1), (28, 1), (35, 1), (39, 1), (46, 1), (162, 1), (186, 1), (269, 1), (316, 1), (626, 1), (669, 1), (749, 1), (1487, 1), (1497, 1)], [(13, 2), (19, 1), (20, 1), (23, 1), (25, 1), (26, 2), (36, 3), (63, 1), (64, 2), (70, 1), (72, 1), (101, 1), (116, 1), (120, 1), (123, 1), (128, 1), (132, 1), (155, 1), (172, 1), (175, 1), (179, 1), (191, 1), (202, 1), (210, 1), (249, 1), (253, 1), (261, 1), (288, 1), (295, 1), (317, 1), (321, 1), (348, 1), (353, 2), (364, 1), (394, 1), (473, 1), (476, 1), (482, 1), (515, 1), (518, 1), (535, 1), (591, 1), (606, 1), (607, 2), (814, 1), (838, 1), (1231, 1), (1580, 1), (1597, 1), (1815, 1), (2294, 2), (2388, 1), (2626, 1), (2960, 1), (3079, 1)], [(64, 1), (68, 1), (73, 1), (100, 1), (101, 1), (170, 1), (191, 1), (394, 1), (452, 1), (505, 1), (507, 1), (955, 1), (1291, 1), (1359, 1), (3080, 1)], [(12, 1), (13, 1), (19, 1), (29, 1), (33, 1), (64, 1), (73, 1), (96, 1), (101, 1), (125, 1), (210, 1), (286, 1), (348, 1), (361, 1), (513, 1)], [(12, 2), (36, 1), (66, 1), (71, 1), (96, 1), (105, 1), (171, 1), (189, 1), (1229, 1), (1641, 1)], [(3, 1), (9, 1), (13, 1), (20, 2), (46, 1), (55, 1), (63, 1), (67, 1), (70, 1), (73, 1), (82, 1), (100, 1), (132, 1), (147, 1), (162, 1), (214, 1), (215, 1), (354, 1), (507, 1), (549, 1), (554, 1), (1236, 1), (3081, 1), (3082, 1), (3083, 1)], [(27, 1), (45, 1), (101, 1), (170, 1), (726, 1)], [(9, 1), (17, 1), (27, 2), (33, 1), (48, 2), (64, 1), (65, 1), (67, 1), (74, 1), (115, 2), (152, 1), (286, 1), (415, 1), (542, 1), (548, 1), (568, 1), (572, 1), (1011, 1), (1193, 3), (1535, 1), (1855, 1), (3084, 1), (3085, 3), (3086, 1)], [(48, 1), (60, 1), (64, 1), (77, 1), (107, 1), (191, 1), (348, 1), (1045, 1), (1426, 1), (1933, 1)], [(9, 1), (12, 2), (50, 1), (72, 1), (139, 1), (170, 1), (174, 1), (189, 1), (269, 1), (280, 1), (387, 1), (406, 1), (427, 1), (465, 1), (548, 1), (549, 1), (591, 1), (3087, 1), (3088, 1)], [(16, 1), (20, 1), (71, 1), (95, 1), (145, 1), (477, 1), (2576, 1)], [(9, 1), (17, 1), (19, 2), (20, 1), (26, 1), (55, 1), (66, 1), (71, 1), (109, 1), (170, 1), (200, 1), (211, 2), (214, 1), (263, 1), (296, 1), (346, 1), (544, 2), (545, 1), (833, 1), (1112, 1), (1197, 1), (2023, 1), (3089, 1)], [(9, 1), (55, 1), (115, 1), (170, 1), (276, 1), (2730, 1)], [(20, 1), (21, 1), (35, 1), (45, 1), (54, 1), (55, 1), (66, 1), (68, 2), (74, 1), (77, 2), (91, 1), (111, 1), (138, 1), (170, 2), (191, 1), (239, 1), (248, 2), (261, 1), (299, 1), (377, 2), (651, 1), (775, 1), (789, 1), (926, 1), (1021, 1), (1155, 1), (1193, 1), (1194, 1), (1227, 2), (3090, 1), (3091, 1), (3092, 1)], [(9, 1), (10, 1), (19, 1), (20, 1), (33, 1), (36, 1), (43, 1), (55, 2), (60, 1), (64, 4), (68, 1), (72, 1), (73, 1), (77, 1), (90, 2), (96, 1), (100, 1), (107, 1), (132, 1), (152, 1), (159, 1), (179, 1), (191, 1), (202, 1), (249, 2), (280, 2), (285, 1), (299, 1), (339, 1), (377, 1), (382, 1), (394, 1), (459, 1), (539, 1), (571, 1), (624, 1), (726, 2), (1302, 1), (1426, 1), (1629, 1), (1686, 1), (1936, 1), (2377, 1), (3093, 1), (3094, 1), (3095, 1)], [(45, 1), (70, 1), (108, 1), (116, 1), (146, 1), (170, 1), (254, 1), (438, 1), (539, 1), (1504, 1)], [(9, 1), (12, 1), (20, 1), (21, 1), (35, 1), (48, 1), (68, 1), (77, 1), (95, 1), (142, 1), (563, 1)], [(45, 1), (66, 1), (70, 1), (189, 1)], [(55, 1), (58, 1), (68, 1), (99, 1), (170, 1), (379, 1), (955, 1)], [(12, 1), (20, 1), (27, 1), (45, 2), (46, 1), (55, 2), (60, 1), (63, 1), (64, 2), (68, 1), (74, 1), (77, 1), (80, 2), (82, 1), (100, 1), (102, 1), (142, 1), (179, 1), (198, 1), (214, 1), (249, 1), (280, 1), (354, 1), (356, 1), (385, 1), (514, 1), (682, 1), (927, 1)], [(20, 1), (27, 1), (44, 1), (55, 2), (73, 1), (78, 1), (82, 1), (100, 1), (101, 1), (170, 1), (182, 1), (231, 1), (261, 1), (1062, 1), (1469, 1), (2077, 1), (2169, 1)], [(19, 1), (27, 1), (36, 1), (44, 1), (64, 1), (66, 1), (204, 1), (392, 1), (438, 1), (569, 1)], [(45, 1)], [(13, 1), (15, 1), (20, 2), (41, 1), (46, 1), (102, 1), (107, 1), (142, 1), (152, 1), (315, 1), (377, 1), (717, 1), (842, 1), (1570, 1)], [(21, 1), (48, 1), (80, 1)], [(9, 1), (48, 1), (77, 1), (94, 1), (177, 1), (329, 1), (400, 1)], [(0, 1), (4, 1), (8, 1), (12, 1), (13, 2), (15, 1), (20, 1), (26, 1), (27, 2), (30, 5), (34, 1), (35, 1), (42, 1), (46, 1), (58, 1), (64, 1), (65, 1), (67, 1), (68, 3), (71, 1), (73, 2), (75, 1), (77, 4), (93, 2), (98, 1), (100, 1), (103, 1), (133, 3), (170, 1), (172, 1), (186, 1), (238, 1), (253, 1), (256, 1), (286, 1), (290, 1), (312, 1), (317, 1), (365, 1), (384, 1), (387, 1), (406, 1), (425, 2), (435, 1), (465, 1), (468, 1), (482, 1), (539, 1), (560, 1), (578, 1), (598, 2), (616, 2), (643, 1), (658, 1), (765, 1), (771, 1), (775, 1), (785, 1), (857, 1), (928, 2), (940, 1), (995, 1), (1235, 1), (1503, 1), (1795, 1), (1889, 1), (1890, 1), (2455, 1), (3026, 1), (3096, 1), (3097, 1), (3098, 1), (3099, 1)], [(9, 2), (13, 1), (20, 1), (48, 1), (63, 1), (70, 1), (96, 1), (133, 1), (253, 1), (290, 2), (293, 1), (520, 1), (1538, 1)], [(20, 1)], [(12, 2), (13, 1), (15, 1), (19, 1), (26, 1), (35, 1), (43, 1), (50, 1), (58, 1), (66, 1), (67, 1), (99, 1), (100, 1), (138, 1), (186, 1), (189, 1), (943, 1)], [(21, 1), (48, 1), (68, 1), (71, 1), (77, 1), (100, 1), (107, 1), (133, 1), (212, 1), (308, 1), (309, 1), (482, 1), (890, 1), (1295, 1), (1435, 1)], [(9, 1), (36, 1), (44, 2), (46, 1), (55, 1), (64, 1), (111, 1), (191, 1), (545, 1), (3100, 1)], [(8, 1), (13, 1), (26, 1), (48, 2), (191, 1), (315, 1), (425, 1), (504, 1), (549, 1), (557, 1)], [(8, 1), (35, 1), (45, 1), (130, 1)], [(3, 1), (9, 1), (12, 1), (21, 1), (29, 1), (33, 1), (43, 1), (63, 1), (64, 1), (132, 1), (148, 1), (152, 1), (171, 1), (717, 1), (996, 1), (1034, 1)], [(45, 1), (132, 1)], [(35, 2), (66, 2), (94, 1), (130, 1), (145, 1), (186, 1), (296, 1), (357, 1), (451, 1), (459, 1), (557, 1), (633, 1), (751, 1), (765, 1), (3101, 1)], [(19, 1), (26, 1), (48, 1), (60, 1), (64, 1), (68, 1), (77, 1), (102, 1), (122, 1), (541, 1), (569, 1), (873, 1), (986, 1), (3102, 1)], [(6, 1)], [(9, 1), (43, 1), (55, 2), (67, 1), (70, 2), (452, 1), (507, 1)], [(10, 1), (12, 2), (16, 1), (19, 1), (33, 1), (36, 1), (41, 1), (45, 2), (50, 1), (60, 1), (71, 1), (75, 1), (80, 1), (100, 1), (107, 1), (133, 1), (135, 1), (167, 1), (210, 1), (280, 1), (293, 1), (312, 1), (363, 1), (378, 1), (397, 1), (438, 1), (459, 1), (588, 1), (627, 1), (828, 1), (919, 1), (1228, 1), (1538, 1)], [(9, 1), (31, 1), (45, 1), (94, 1), (100, 1), (1424, 1)], [(12, 1), (26, 1), (31, 1), (32, 1), (46, 1), (50, 1), (55, 1), (58, 1), (66, 1), (67, 1), (559, 1), (1124, 1)], [(17, 2), (24, 1), (45, 1), (59, 1), (60, 1), (64, 1), (70, 1), (72, 1), (82, 1), (126, 2), (145, 1), (170, 1), (178, 1), (225, 1), (251, 1), (261, 1), (272, 1), (280, 1), (323, 1), (392, 1), (530, 1), (588, 1), (633, 1), (668, 1), (768, 1), (803, 1), (807, 1), (1185, 1), (1227, 1), (1877, 1), (2558, 1), (3103, 1)], [(26, 1), (45, 1), (931, 1)], [(46, 1), (48, 2), (77, 1), (101, 1), (145, 1), (298, 1), (515, 1), (831, 1), (872, 1), (1221, 1)], [(10, 1), (12, 1), (41, 1), (46, 1), (82, 1), (102, 1), (107, 2), (198, 1), (215, 1), (588, 1), (1882, 1), (3104, 1)], [(10, 1), (12, 1), (14, 1), (19, 2), (33, 1), (43, 1), (44, 1), (60, 1), (68, 1), (77, 1), (82, 1), (100, 2), (102, 1), (103, 2), (129, 1), (133, 1), (179, 1), (208, 1), (215, 1), (224, 1), (241, 1), (256, 1), (274, 1), (275, 1), (293, 1), (394, 1), (482, 1), (817, 1), (848, 1), (859, 1), (878, 1), (1111, 1), (1200, 1), (1400, 1), (1423, 1), (1670, 1)], [(13, 1), (19, 1), (44, 1), (55, 3), (74, 1), (122, 1), (143, 1), (152, 1), (170, 1), (179, 1), (261, 1), (328, 1), (442, 2), (497, 1), (540, 1), (645, 1), (717, 1), (996, 1)], [(73, 1), (130, 1), (152, 1), (161, 1), (415, 1)], [(26, 1), (41, 1), (55, 4), (59, 1), (66, 1), (68, 1), (70, 1), (77, 1), (84, 1), (100, 1), (145, 1), (170, 1), (188, 1), (189, 1), (224, 1), (312, 1), (345, 1), (489, 1), (751, 1), (882, 1), (906, 1), (1315, 1), (1928, 2), (3105, 1)], [(12, 2), (15, 1), (16, 1), (17, 1), (30, 1), (33, 1), (35, 2), (36, 1), (67, 1), (68, 2), (72, 1), (73, 3), (74, 1), (77, 2), (98, 1), (100, 1), (101, 1), (109, 1), (129, 1), (131, 1), (175, 1), (179, 1), (249, 2), (276, 1), (386, 1), (387, 1), (549, 1), (594, 1), (1148, 1)], [(3, 1), (12, 1), (19, 1), (36, 1), (46, 1), (48, 1), (68, 1), (71, 2), (77, 1), (82, 1), (170, 1), (202, 1), (211, 1), (253, 1), (275, 2), (278, 1), (331, 1), (475, 1), (507, 1), (517, 1), (560, 1), (876, 1), (1197, 1), (1221, 1), (1470, 1), (1610, 2), (1756, 1), (3106, 1)], [(46, 1), (63, 1), (100, 1), (132, 1)], [(17, 1), (35, 1), (45, 1), (60, 1), (100, 2), (386, 1)], [(29, 1), (33, 1), (46, 1), (102, 1), (547, 1)], [(103, 1)], [(23, 1), (25, 1), (29, 1), (33, 1)], [(46, 1), (77, 1), (686, 1)], [(23, 1), (26, 1), (27, 2), (101, 1), (170, 2)], [(13, 1), (33, 1), (35, 2), (36, 2), (66, 2), (68, 1), (72, 1), (73, 2), (77, 1), (88, 1), (94, 1), (101, 1), (104, 1), (131, 1), (145, 1), (202, 1), (388, 1), (541, 2), (578, 1), (726, 1), (826, 1), (1007, 1), (1421, 1), (3107, 1)], [(3, 1), (4, 1), (11, 1), (13, 3), (17, 2), (19, 2), (21, 2), (41, 1), (44, 4), (50, 1), (55, 3), (58, 1), (60, 1), (64, 1), (66, 1), (71, 1), (72, 1), (74, 1), (75, 1), (80, 1), (81, 1), (82, 1), (90, 2), (93, 2), (100, 6), (101, 2), (103, 1), (104, 1), (107, 2), (109, 1), (115, 1), (121, 2), (122, 1), (127, 1), (133, 1), (162, 1), (170, 2), (174, 1), (180, 1), (211, 1), (216, 1), (225, 1), (253, 1), (261, 1), (273, 1), (293, 1), (310, 1), (314, 1), (315, 1), (320, 1), (340, 1), (370, 1), (385, 1), (389, 1), (409, 1), (434, 1), (441, 1), (444, 1), (459, 1), (482, 1), (504, 1), (519, 1), (530, 1), (537, 1), (548, 1), (633, 2), (717, 1), (737, 1), (745, 1), (775, 1), (821, 1), (856, 1), (950, 1), (1153, 1), (1198, 2), (1262, 1), (1344, 1), (1379, 1), (1440, 1), (1504, 1), (1525, 1), (1610, 1), (1799, 1), (2111, 1), (2131, 1), (2294, 1), (2300, 1), (2387, 1), (3108, 1), (3109, 1), (3110, 1), (3111, 1), (3112, 1), (3113, 1), (3114, 1)], [(20, 1), (27, 1), (55, 2), (100, 1), (101, 1), (111, 1), (115, 2), (151, 2), (170, 1), (354, 1), (392, 1), (435, 1), (447, 1), (478, 1), (528, 1), (531, 1), (627, 1), (726, 1), (948, 1), (1282, 1), (1881, 1), (2796, 1), (3115, 1)], [(13, 1), (33, 1), (39, 1), (55, 1), (57, 1), (63, 2), (68, 1), (70, 1), (77, 1), (94, 1), (129, 1), (133, 1), (184, 1), (447, 1), (984, 1)], [(12, 1), (46, 1), (73, 1), (96, 1), (102, 1), (210, 1), (758, 1)], [(101, 1), (170, 1), (527, 1), (626, 1)], [(45, 1), (63, 1), (64, 1), (118, 1), (132, 1), (312, 1)], [(0, 1), (13, 1), (35, 1), (72, 1)], [(315, 1)], [(3, 1), (48, 1), (66, 1), (68, 1), (77, 1), (78, 1), (96, 1), (179, 1), (215, 1), (225, 1), (539, 1), (757, 1)], [(13, 1), (30, 1), (33, 1), (35, 1), (44, 1), (46, 1), (55, 4), (60, 1), (63, 1), (64, 1), (66, 1), (72, 1), (73, 1), (86, 1), (98, 1), (99, 1), (100, 1), (102, 1), (152, 1), (161, 1), (162, 1), (370, 1), (447, 1), (499, 1), (507, 2), (1197, 1), (3113, 1), (3116, 2), (3117, 1)], [(44, 1), (191, 1), (370, 1), (412, 1), (446, 1), (539, 1)], [(35, 1), (46, 1), (48, 1), (66, 1), (68, 1), (77, 1), (138, 1), (616, 1)], [(12, 1), (13, 1), (29, 2), (33, 2), (35, 1), (48, 1), (64, 1), (68, 1), (77, 1), (101, 2), (138, 1), (200, 1), (214, 1), (253, 1), (261, 1), (361, 1), (465, 1), (1501, 1), (2971, 1)], [(6, 1), (12, 1), (15, 1), (29, 2), (33, 1), (35, 1), (44, 2), (46, 2), (50, 1), (71, 1), (111, 1), (131, 1), (132, 2), (402, 1), (450, 1), (451, 1), (473, 1), (558, 1), (624, 1), (717, 1), (1296, 1)], [(4, 1), (19, 1), (21, 1), (23, 1), (25, 1), (26, 1), (27, 1), (33, 1), (35, 2), (41, 1), (48, 1), (53, 1), (58, 1), (65, 1), (66, 2), (68, 2), (77, 2), (82, 1), (94, 1), (100, 2), (111, 1), (131, 1), (138, 1), (139, 1), (143, 1), (145, 3), (186, 1), (222, 1), (261, 1), (489, 1), (496, 1), (497, 2), (519, 1), (549, 2), (588, 1), (661, 1), (699, 1), (817, 1), (822, 1), (1019, 1), (1075, 2), (1107, 1), (1137, 1), (1564, 1), (1973, 1), (2824, 1), (3118, 1)], [(8, 2), (9, 1), (10, 1), (13, 1), (16, 1), (20, 2), (24, 1), (26, 2), (35, 3), (45, 1), (48, 1), (55, 5), (62, 1), (66, 1), (98, 1), (99, 1), (100, 3), (143, 1), (159, 1), (191, 1), (223, 1), (253, 1), (390, 1), (473, 1), (533, 1), (535, 1), (542, 1), (549, 4), (616, 1), (726, 1), (928, 2), (1062, 1), (1227, 1), (1250, 1), (1286, 1), (1398, 1), (1606, 1), (1889, 1), (1890, 1), (1989, 2), (2072, 1), (3026, 1), (3119, 1), (3120, 1)], [(0, 1), (6, 1), (9, 3), (12, 1), (13, 3), (15, 1), (18, 1), (20, 4), (21, 1), (23, 1), (26, 1), (45, 2), (46, 1), (54, 1), (55, 2), (63, 3), (64, 6), (78, 1), (80, 1), (86, 1), (88, 2), (91, 1), (132, 1), (138, 2), (158, 1), (170, 1), (204, 1), (206, 1), (209, 1), (214, 1), (276, 1), (482, 1), (507, 2), (539, 1), (556, 1), (927, 1), (1107, 1), (1510, 2), (1641, 1), (1679, 1), (1711, 1), (1748, 1), (2168, 1), (3121, 1), (3122, 1)], [(20, 1), (93, 1), (118, 1), (162, 1), (315, 1), (1154, 1)], [(0, 1), (13, 1), (19, 1), (21, 1), (39, 1), (48, 2), (66, 1), (149, 1), (290, 1), (531, 1), (624, 1), (1400, 1)], [(12, 2), (25, 1), (46, 1), (50, 1), (71, 1), (72, 1), (73, 1), (96, 1), (97, 1), (179, 1), (198, 1), (224, 1), (280, 1), (316, 1), (378, 1), (865, 1), (890, 1), (1012, 1), (1138, 1), (1234, 1), (1769, 1), (2264, 1), (2359, 1), (2730, 1), (3123, 1), (3124, 1), (3125, 1)], [(12, 2), (13, 1), (19, 1), (33, 1), (35, 1), (36, 1), (58, 1), (60, 1), (64, 3), (66, 1), (68, 1), (71, 2), (75, 1), (77, 1), (100, 1), (107, 3), (121, 1), (132, 1), (170, 1), (181, 1), (198, 1), (211, 1), (224, 1), (249, 1), (308, 1), (324, 1), (325, 1), (367, 1), (508, 1), (881, 1), (1302, 1), (1539, 1), (1617, 1), (1661, 1), (3099, 1), (3126, 1), (3127, 1)], [(70, 1), (100, 1), (103, 1), (111, 1)], [(9, 2), (46, 1), (55, 1), (59, 1), (116, 1), (125, 1), (133, 1), (137, 1), (212, 1), (305, 1), (533, 1), (1357, 1), (1589, 1), (2684, 1)], [(35, 1), (36, 1), (46, 1), (55, 3), (100, 1), (170, 1), (311, 1), (438, 1), (452, 1), (836, 1), (1001, 1)], [(64, 1), (70, 1), (116, 1), (191, 1), (315, 1), (1543, 1)], [(5, 1), (33, 1), (35, 1), (55, 1), (60, 1), (66, 1), (75, 1), (94, 1), (138, 1), (152, 1), (364, 1), (497, 2)], [(12, 1), (23, 1), (30, 1), (31, 1), (32, 1), (36, 1), (64, 2), (73, 1), (92, 1), (280, 1), (353, 1), (765, 1), (878, 1), (1307, 1), (1309, 1), (3128, 1)], [(3, 1), (27, 1), (44, 1), (62, 2), (72, 1), (80, 1), (82, 1), (132, 3), (162, 1), (170, 2), (179, 1), (208, 1), (269, 1), (273, 2), (290, 2), (336, 1), (413, 1), (458, 1), (473, 1), (548, 1), (549, 2), (576, 1), (625, 1), (725, 1), (768, 1), (842, 1), (848, 1), (851, 1), (1021, 1), (1708, 1), (1797, 1), (2847, 1), (2883, 1), (2954, 1), (3129, 1), (3130, 1), (3131, 1), (3132, 1)], [(26, 1), (35, 1), (45, 1), (55, 1), (88, 1), (100, 1), (104, 1), (569, 1), (1062, 1)], [(23, 1), (25, 1), (36, 1), (41, 1), (50, 1), (53, 1), (73, 1), (96, 1), (465, 1)], [(467, 1), (781, 1), (1003, 1), (1005, 1)], [(16, 1), (48, 1), (684, 1), (737, 1), (1004, 1), (3133, 1), (3134, 1)], [(33, 1), (35, 1), (46, 1), (66, 1), (94, 1), (415, 1), (449, 1), (470, 1), (3135, 1), (3136, 1), (3137, 1)], [(46, 1)], [(18, 1), (20, 1), (23, 1), (30, 1), (35, 2), (41, 1), (55, 2), (64, 1), (66, 1), (79, 1), (88, 1), (93, 1), (98, 1), (101, 1), (162, 1), (482, 1), (549, 1), (658, 1), (726, 1), (1229, 1), (1326, 1)], [(20, 1), (26, 1), (28, 1), (30, 1), (35, 1), (46, 1), (66, 1), (103, 1), (189, 1), (726, 1)], [(0, 1), (9, 1), (11, 1), (20, 1), (23, 1), (25, 1), (55, 1), (58, 1), (88, 1), (100, 1), (101, 1), (115, 1), (170, 1), (209, 1), (361, 1), (817, 1)], [(0, 1), (3, 1), (9, 1), (16, 1), (18, 1), (20, 1), (36, 1), (55, 1), (65, 1), (72, 1), (370, 1), (829, 1)], [(13, 1), (33, 1), (36, 1), (43, 1), (73, 2), (96, 1), (101, 1), (133, 1), (170, 1), (473, 1), (476, 1), (547, 2), (721, 1), (941, 1)], [(923, 1)], [(0, 1), (21, 1), (48, 1), (55, 1), (64, 1), (507, 1)], [(13, 1), (19, 1), (30, 1), (91, 1), (96, 1), (98, 1), (3138, 1)], [(10, 1), (16, 1), (58, 1), (68, 1), (73, 1), (77, 1), (149, 1), (170, 1), (706, 1), (3139, 1), (3140, 1), (3141, 1)], [(0, 1), (8, 1), (9, 2), (12, 1), (13, 3), (21, 1), (26, 1), (35, 3), (46, 1), (55, 1), (66, 2), (67, 1), (70, 1), (79, 1), (137, 1), (138, 1), (145, 1), (194, 1), (206, 1), (219, 1), (238, 1), (243, 1), (312, 1), (365, 1), (425, 2), (437, 1), (446, 1), (475, 1), (478, 1), (500, 1), (519, 1), (524, 1), (549, 1), (855, 1), (989, 1), (1130, 1), (1147, 2), (1329, 1), (2217, 1), (3142, 1)], [(16, 1), (46, 1), (50, 1), (52, 1), (71, 1), (132, 1), (253, 1), (278, 1), (558, 1), (824, 1), (1620, 1), (3143, 1)], [(46, 1), (70, 1)], [(0, 1), (35, 1), (66, 2), (99, 1), (133, 1), (189, 2), (385, 1), (757, 1), (863, 1)], [(12, 1), (26, 2), (31, 1), (35, 1), (55, 2), (103, 1), (107, 1), (115, 1), (134, 1), (137, 1), (138, 1), (210, 1), (251, 1), (307, 1), (314, 1), (315, 1), (407, 1), (549, 1), (604, 1), (717, 1), (2813, 1), (3144, 1), (3145, 1), (3146, 1)], [(0, 1), (3, 1), (26, 1), (31, 1), (88, 1), (132, 1), (162, 1), (167, 1), (311, 1), (371, 1), (510, 1), (679, 1), (1098, 1)], [(26, 1), (130, 1)], [(12, 1), (46, 1), (64, 1), (91, 1), (94, 1), (107, 1), (111, 1), (668, 1), (981, 1)], [(26, 1), (46, 1), (66, 1), (189, 1)], [(46, 1), (132, 1)], [(0, 1), (12, 1), (25, 1), (35, 1), (44, 1), (45, 1), (59, 1), (71, 1), (82, 1), (170, 1), (253, 1), (280, 1), (312, 1), (527, 1), (535, 1), (598, 1), (611, 1), (814, 1)], [(46, 1), (115, 1), (167, 1), (717, 1), (1221, 1)], [(23, 1), (90, 1)], [(46, 1), (102, 1)], [(3, 1), (19, 1), (41, 1), (55, 1), (68, 1), (77, 1), (96, 1), (100, 1), (107, 1), (145, 1), (249, 1), (273, 1), (276, 1), (473, 1)], [(8, 1), (29, 1), (45, 1), (65, 1), (71, 2), (103, 1), (159, 1), (162, 1), (192, 1), (431, 1), (434, 1), (438, 1), (476, 1), (482, 6), (535, 2), (775, 1), (834, 1), (998, 1), (1070, 1), (1169, 1), (1344, 1), (1506, 1), (3147, 1), (3148, 1), (3149, 1)], [(3, 1), (48, 1), (55, 1), (68, 1), (77, 1), (100, 1), (101, 1), (170, 1), (1008, 1), (1628, 1)], [(0, 1), (3, 1), (13, 1), (21, 1), (30, 4), (33, 1), (35, 1), (36, 1), (41, 1), (44, 1), (46, 1), (55, 2), (58, 3), (60, 3), (62, 6), (73, 4), (74, 1), (82, 1), (84, 2), (90, 1), (98, 1), (102, 1), (103, 1), (106, 1), (111, 1), (115, 1), (132, 1), (133, 2), (138, 1), (145, 1), (170, 2), (171, 1), (174, 1), (195, 1), (200, 1), (209, 1), (215, 1), (249, 2), (261, 2), (275, 1), (312, 1), (316, 2), (328, 1), (339, 2), (356, 1), (377, 2), (388, 1), (394, 1), (465, 3), (490, 3), (500, 1), (511, 2), (514, 2), (539, 2), (549, 1), (553, 1), (568, 1), (591, 1), (598, 1), (642, 1), (715, 3), (727, 2), (739, 1), (775, 1), (823, 1), (867, 1), (998, 2), (1004, 2), (1007, 1), (1031, 1), (1067, 1), (1130, 1), (1153, 1), (1364, 1), (1440, 1), (1460, 1), (1702, 1), (2558, 1), (3150, 1), (3151, 1), (3152, 1), (3153, 1), (3154, 1), (3155, 1), (3156, 1), (3157, 1), (3158, 1)], [(9, 1), (12, 1), (17, 1), (35, 1), (48, 1), (53, 1), (64, 1), (66, 3), (78, 1), (102, 2), (103, 2), (111, 1), (130, 1), (133, 1), (134, 1), (170, 1), (174, 2), (189, 1), (191, 1), (198, 1), (209, 1), (211, 2), (261, 1), (314, 1), (316, 1), (371, 1), (489, 1), (514, 1), (531, 1), (547, 1), (633, 1), (690, 1), (721, 1), (757, 1), (883, 1), (976, 2), (999, 1), (1203, 1), (1356, 1), (1529, 1), (2692, 1), (3159, 1), (3160, 1), (3161, 1), (3162, 1)], [(27, 1), (60, 1), (65, 1), (100, 1), (101, 1), (290, 1), (312, 1), (400, 1), (500, 1), (517, 1), (528, 1), (1864, 1)], [(55, 1), (70, 1), (118, 1), (123, 1), (312, 1)], [(0, 1), (3, 1), (26, 2), (30, 1), (31, 1), (71, 1), (88, 1), (93, 1), (101, 1), (115, 1), (170, 1), (378, 1), (442, 1), (557, 1), (574, 1), (715, 1), (1061, 1), (1247, 1), (1430, 1), (3036, 2), (3163, 1), (3164, 1)], [(48, 1), (68, 1), (77, 1), (354, 1), (1341, 1)], [(12, 1), (64, 1), (107, 1), (145, 1), (454, 1), (613, 1), (3165, 1)], [(63, 1), (64, 1), (191, 1), (594, 1), (609, 1)], [(0, 1), (9, 1), (16, 1), (20, 2), (26, 1), (55, 1), (64, 2), (86, 1), (100, 1), (385, 1), (507, 1)], [(12, 1), (26, 1), (35, 1), (41, 1), (43, 1), (46, 1), (48, 1), (50, 1), (55, 1), (66, 1), (71, 1), (170, 1), (520, 1)], [(45, 1), (70, 1)], [(0, 1), (9, 1), (13, 1), (31, 1), (35, 1), (63, 1), (70, 1), (111, 1), (116, 1), (122, 1), (148, 1), (158, 1), (167, 1), (170, 1), (223, 1), (294, 1), (356, 1), (482, 1), (669, 1), (932, 1), (1310, 1), (1311, 1), (1312, 1), (2110, 1), (2251, 1), (2252, 1), (2321, 1), (2394, 1), (3166, 1), (3167, 1)], [(46, 1), (55, 1), (64, 1)], [(12, 1), (19, 1), (46, 1), (48, 1), (63, 1), (132, 1), (277, 1), (354, 1), (567, 1)], [(3, 1), (12, 1), (13, 1), (25, 1), (35, 1), (45, 2), (48, 1), (53, 1), (55, 2), (59, 1), (64, 1), (67, 1), (70, 1), (71, 1), (74, 1), (75, 1), (94, 1), (100, 1), (118, 1), (170, 2), (172, 1), (191, 3), (312, 2), (345, 1), (531, 1), (1760, 1), (3168, 1), (3169, 1)], [(20, 1), (26, 2), (30, 1), (36, 1), (64, 1), (68, 1), (77, 1), (86, 1), (91, 1), (94, 1), (101, 1), (115, 2), (151, 1), (152, 1), (167, 1), (170, 1), (171, 1), (186, 1), (189, 1), (190, 1), (218, 1), (224, 1), (273, 1), (316, 1), (354, 1), (361, 1), (440, 1), (473, 1), (475, 1), (531, 1), (591, 1), (720, 1), (824, 1), (1012, 1), (1568, 1), (1597, 1)], [(3, 1), (12, 1), (20, 1), (26, 1), (35, 1), (44, 1), (46, 1), (64, 1), (66, 1), (100, 1), (103, 1), (107, 1), (126, 1), (145, 1), (170, 1), (249, 1), (251, 1), (253, 1), (275, 1), (314, 1), (410, 1), (477, 1), (527, 1), (584, 1), (2004, 1), (2192, 1)], [(8, 1), (10, 1), (16, 1), (46, 1), (53, 1), (55, 1), (59, 1), (78, 1), (82, 1), (100, 1), (102, 1), (183, 1), (225, 1), (237, 1), (265, 1), (365, 1), (539, 1), (757, 1)], [(19, 1), (55, 1), (60, 1), (68, 1), (77, 1), (88, 1), (100, 1), (139, 1), (216, 1), (312, 1), (475, 1), (616, 1), (1917, 1)], [(53, 1), (55, 1), (73, 2), (91, 1), (102, 1), (134, 1), (149, 1), (154, 1), (328, 1), (633, 1), (911, 1), (1506, 1), (1971, 1), (3170, 1), (3171, 1)], [(3, 2), (12, 1), (31, 1), (50, 1), (58, 1), (60, 1), (63, 1), (67, 2), (170, 1), (239, 1), (826, 1), (1338, 1)], [(35, 2), (44, 1), (46, 1), (55, 7), (60, 1), (65, 1), (66, 2), (68, 1), (70, 1), (77, 1), (78, 1), (95, 1), (100, 3), (102, 1), (106, 1), (107, 1), (115, 1), (121, 2), (133, 1), (145, 1), (180, 1), (189, 2), (197, 1), (198, 1), (208, 1), (215, 2), (256, 1), (261, 1), (263, 1), (273, 1), (307, 1), (370, 2), (379, 1), (381, 1), (389, 1), (451, 1), (452, 1), (457, 1), (480, 1), (507, 1), (548, 1), (563, 1), (649, 1), (812, 1), (850, 1), (942, 1), (989, 1), (1381, 1), (1492, 1), (1860, 1), (1879, 1), (2681, 2), (3172, 1), (3173, 1), (3174, 1), (3175, 1)], [(3, 1), (12, 1), (20, 1), (26, 1), (39, 1), (48, 1), (154, 1), (156, 1), (251, 1), (834, 1), (3176, 1)], [(0, 1), (9, 1), (11, 1), (15, 1), (18, 1), (20, 2), (55, 1), (64, 1), (73, 1), (82, 1), (115, 1), (165, 1), (198, 1), (210, 1), (364, 1), (588, 1), (627, 1)], [(68, 1), (77, 1), (145, 1), (152, 1), (249, 1), (613, 1)], [(46, 1), (223, 1)], [(53, 1), (73, 1), (88, 1), (96, 1), (158, 1), (606, 1)], [(3, 1), (19, 3), (35, 1), (44, 1), (48, 2), (60, 1), (64, 1), (66, 2), (139, 1), (145, 1), (170, 1), (198, 1), (210, 1), (225, 1), (607, 1), (848, 1), (984, 1)], [(9, 1), (11, 1), (12, 2), (19, 1), (35, 1), (39, 1), (43, 1), (45, 1), (47, 1), (59, 1), (71, 1), (100, 1), (102, 2), (107, 1), (116, 1), (146, 1), (158, 1), (170, 2), (175, 1), (183, 1), (205, 1), (210, 1), (211, 1), (269, 1), (280, 1), (459, 1), (496, 1), (514, 1), (749, 1), (850, 1), (1338, 1), (1886, 1), (3177, 1)], [(46, 1)], [(13, 1), (16, 1), (19, 1), (44, 1), (64, 1), (90, 1), (225, 1), (315, 1)], [(46, 1), (55, 1), (132, 1), (148, 1), (167, 1), (677, 1), (717, 1)], [(13, 1), (125, 1), (470, 1), (483, 1), (932, 1)], [(63, 1), (64, 1), (444, 1), (2219, 1)], [(12, 1), (43, 1), (549, 1), (725, 1)], [(45, 1), (132, 1)], [(21, 1), (27, 1), (33, 1), (35, 1), (45, 1), (55, 2), (63, 1), (64, 2), (66, 2), (73, 1), (88, 1), (100, 1), (115, 2), (138, 1), (170, 1), (186, 2), (189, 1), (293, 1), (388, 1), (475, 1), (549, 1), (551, 1)], [(70, 1), (94, 1), (116, 1), (315, 1)], [(11, 1), (12, 1), (20, 1), (35, 1), (55, 1), (72, 1), (101, 1), (170, 1), (290, 1), (326, 1), (549, 1), (1160, 1), (1306, 1)], [(45, 1), (77, 1), (831, 1)], [(101, 1), (361, 1)], [(19, 2), (21, 1), (48, 1), (55, 1), (66, 2), (99, 1), (100, 1), (132, 1), (856, 1), (873, 1)], [(31, 1), (46, 1)], [(96, 1), (100, 1), (101, 1), (223, 1), (528, 1), (842, 1), (1144, 1)], [(55, 1), (64, 1), (101, 1), (170, 1), (185, 1), (726, 1)], [(19, 1), (23, 1), (35, 1), (48, 1), (66, 1), (130, 1), (145, 1), (1359, 1)], [(16, 1), (64, 1), (84, 1), (107, 1), (312, 1), (3095, 1)], [(16, 1), (20, 1), (21, 1), (48, 1), (55, 1), (94, 1), (2049, 1)], [(12, 1), (25, 1), (26, 1), (64, 1), (107, 1)], [(19, 1), (55, 1), (63, 1), (70, 1), (99, 1), (170, 1), (559, 1), (1609, 1)], [(9, 1), (46, 1), (55, 1), (64, 1), (77, 1), (100, 1), (312, 1), (345, 1), (3178, 1)], [(46, 1), (55, 1), (68, 1), (100, 1), (107, 1), (452, 1), (955, 1)], [(3, 1), (13, 1), (19, 1), (48, 1), (276, 1)], [(13, 1), (35, 2), (46, 1), (66, 1), (73, 1), (94, 1), (1882, 1), (3179, 1)], [(9, 1), (19, 1), (26, 1), (46, 1), (64, 1), (94, 1), (293, 1), (312, 1)], [(12, 1), (33, 1), (35, 1), (46, 1), (66, 1), (70, 1), (73, 1), (75, 1), (82, 1), (86, 1), (138, 1), (170, 1), (205, 1), (293, 1), (447, 1), (522, 1)], [(20, 1), (29, 1), (55, 1), (74, 1), (75, 1), (258, 1), (547, 1), (3180, 1)], [(11, 1), (12, 2), (35, 1), (46, 1), (50, 1), (64, 1), (96, 1), (107, 2), (191, 1), (354, 1), (549, 1), (750, 1), (3181, 1), (3182, 1)], [(46, 1), (55, 2), (59, 1), (60, 1), (63, 1), (68, 1), (77, 1), (96, 1), (255, 1), (267, 1), (280, 1), (312, 1), (370, 1), (465, 1), (507, 1), (548, 1)], [(10, 1), (12, 1), (24, 1), (55, 3), (65, 1), (67, 1), (78, 2), (100, 1), (115, 1), (149, 1), (167, 1), (171, 1), (180, 1), (183, 1), (211, 1), (274, 1), (312, 1), (594, 1), (633, 1), (719, 1), (850, 1), (1290, 1), (1597, 1), (2823, 1), (3183, 1), (3184, 1), (3185, 1)], [(24, 1), (28, 1), (35, 2), (45, 1), (46, 1), (66, 1), (72, 1), (75, 1), (100, 2), (789, 1), (812, 1), (1125, 1), (1221, 1), (1629, 1)], [(65, 1), (103, 1), (116, 4), (133, 1), (249, 1), (270, 1), (412, 1), (414, 1), (501, 2), (1140, 1), (1211, 1)], [(9, 1), (35, 1), (46, 2), (48, 1), (55, 1), (66, 1), (77, 1), (1019, 1), (1836, 1)], [(19, 1), (20, 2), (29, 1), (33, 1), (55, 2), (68, 1), (73, 1), (77, 1), (78, 1), (116, 1), (130, 1), (158, 1), (214, 2), (249, 1), (316, 1), (346, 1), (402, 1), (444, 1), (497, 1), (514, 1), (873, 1), (949, 1), (1158, 1), (1452, 1), (2004, 1), (2782, 1), (3186, 1)], [(48, 1), (66, 1), (290, 1), (483, 1), (726, 1), (954, 1)], [(8, 1), (35, 1), (46, 1), (66, 1), (549, 1)], [(13, 1), (19, 1), (23, 1), (517, 1)], [(29, 1), (33, 1), (46, 1), (99, 1), (100, 2), (101, 2), (312, 1), (338, 1), (361, 1), (547, 1)], [(35, 1), (45, 1), (73, 1), (96, 1), (186, 1)], [(9, 1), (17, 1), (22, 1), (29, 1), (31, 1), (35, 1), (48, 2), (62, 1), (63, 1), (64, 1), (68, 1), (77, 2), (84, 1), (100, 2), (139, 1), (179, 1), (214, 1), (397, 1), (531, 1), (535, 1), (549, 1), (568, 1), (726, 1), (1007, 1), (3187, 1), (3188, 1), (3189, 1)], [(13, 1), (31, 1), (33, 1), (35, 1), (39, 1), (55, 2), (66, 1), (70, 1), (103, 2), (107, 1), (134, 1), (215, 1), (297, 1), (378, 1), (549, 1), (602, 1), (757, 1), (824, 1), (1047, 1), (1329, 1), (1792, 1), (1882, 1), (3190, 1)], [(0, 1), (13, 1), (17, 1), (19, 1), (26, 3), (29, 1), (30, 1), (33, 2), (55, 3), (58, 1), (62, 1), (68, 1), (73, 1), (77, 1), (78, 2), (79, 1), (84, 1), (93, 1), (100, 2), (109, 1), (111, 1), (127, 1), (151, 1), (170, 2), (181, 1), (210, 1), (216, 1), (253, 1), (261, 1), (312, 1), (331, 1), (356, 1), (365, 2), (385, 1), (475, 1), (499, 1), (528, 1), (588, 1), (648, 1), (763, 1), (876, 1), (880, 1), (884, 1), (992, 1), (1020, 1), (1107, 1), (1302, 2), (1326, 1), (1400, 1), (1684, 1), (2234, 1), (3191, 1), (3192, 1), (3193, 1), (3194, 2), (3195, 1), (3196, 1), (3197, 1)], [(26, 1), (96, 1)], [(8, 1), (9, 1), (12, 2), (25, 1), (27, 1), (30, 1), (31, 1), (35, 1), (44, 1), (50, 1), (65, 1), (67, 1), (75, 1), (93, 1), (97, 1), (102, 1), (111, 2), (143, 1), (170, 1), (187, 1), (214, 1), (354, 1), (451, 1), (522, 1), (586, 1), (1192, 1), (2412, 1), (3198, 1), (3199, 1)], [(12, 1), (20, 1), (23, 1), (30, 1), (44, 1), (60, 2), (68, 1), (73, 2), (77, 1), (78, 1), (88, 2), (98, 1), (100, 1), (101, 1), (102, 1), (103, 1), (105, 1), (117, 1), (170, 1), (183, 1), (186, 1), (365, 1), (386, 1), (404, 1), (490, 1), (492, 1), (576, 1), (596, 1), (626, 1), (648, 1), (649, 1), (653, 1), (744, 1), (819, 1), (943, 1), (1284, 1), (1324, 1), (1487, 1), (1525, 1), (1762, 1), (1806, 1), (2172, 1), (2189, 1), (2504, 1), (3200, 1), (3201, 1)], [(55, 7), (70, 3), (73, 1), (90, 1), (116, 3), (123, 1), (249, 1), (276, 1), (304, 1), (377, 1), (412, 1), (437, 1), (438, 1), (451, 1), (501, 2), (737, 1), (905, 1), (965, 1), (1589, 1), (2920, 1)], [(0, 1), (9, 1), (13, 1), (20, 1), (133, 1), (152, 1)], [(9, 1), (45, 1), (54, 1), (55, 1), (167, 1), (1185, 1)], [(15, 1), (55, 1), (60, 1), (66, 1), (91, 1), (96, 1), (100, 1), (149, 1), (186, 1), (189, 1), (211, 1), (323, 1), (328, 1), (385, 2), (390, 1), (549, 1), (668, 1), (848, 1)], [(3, 1), (8, 1), (55, 1), (149, 1), (857, 1), (2816, 1)], [(46, 1), (447, 1)], [(20, 1), (46, 1), (64, 1), (162, 1)], [(105, 1)], [(18, 1), (21, 1), (48, 1), (73, 1), (191, 2), (524, 1), (624, 1), (2143, 1), (3202, 1)], [(863, 1)], [(66, 1), (189, 1)], [(26, 1), (29, 1), (33, 1), (35, 1), (45, 1), (55, 3), (58, 1), (63, 1), (64, 1), (67, 1), (68, 1), (71, 1), (73, 3), (77, 1), (78, 1), (79, 1), (91, 2), (100, 1), (107, 1), (111, 1), (138, 1), (162, 1), (170, 2), (198, 1), (213, 1), (299, 1), (300, 1), (307, 1), (330, 1), (377, 1), (382, 1), (387, 1), (424, 1), (440, 1), (576, 1), (593, 1), (604, 1), (616, 1), (679, 1), (737, 1), (884, 1), (1035, 1), (1136, 1), (1279, 1), (1340, 1), (1631, 1), (1746, 1), (1760, 1), (2752, 1), (3203, 1), (3204, 1), (3205, 1)], [(46, 1), (64, 1)], [(3, 1), (36, 2), (46, 1), (55, 1), (66, 1), (74, 1), (101, 1), (115, 1), (126, 1), (131, 1), (133, 1), (189, 2), (202, 1), (204, 1), (297, 1), (552, 1), (633, 1), (1020, 1), (1279, 1), (1436, 1), (3206, 1), (3207, 1), (3208, 1)], [(12, 1), (35, 1), (94, 1), (107, 2)], [(0, 1), (12, 1), (16, 1), (27, 1), (48, 2), (60, 1), (71, 1), (122, 1), (142, 1), (162, 1), (363, 1), (442, 1), (927, 1), (1004, 1), (2213, 1)], [(0, 1), (3, 1), (12, 2), (23, 1), (30, 1), (35, 3), (55, 1), (66, 2), (71, 1), (88, 1), (96, 1), (145, 1), (170, 1), (211, 1), (251, 1), (261, 1), (339, 1), (429, 1), (491, 1), (549, 1), (622, 2), (642, 1), (706, 1), (757, 1), (765, 1), (878, 1), (1138, 1), (1425, 1), (1519, 1), (1679, 2), (2216, 1)], [(12, 1), (13, 1), (19, 2), (29, 1), (33, 1), (44, 1), (46, 1), (64, 1), (73, 1), (107, 1), (111, 1), (198, 1), (230, 1), (314, 1), (321, 1), (348, 1), (607, 1), (982, 1)], [(13, 1), (20, 1), (48, 1), (55, 1), (70, 1), (137, 1), (290, 1), (482, 1), (932, 1)], [(9, 1), (20, 1), (96, 1), (1012, 1)], [(11, 1), (12, 1), (16, 1), (17, 1), (26, 3), (35, 1), (55, 1), (66, 3), (68, 1), (77, 1), (83, 1), (93, 1), (101, 1), (107, 1), (128, 1), (138, 1), (147, 1), (164, 1), (170, 1), (198, 1), (255, 1), (267, 1), (381, 1), (385, 1), (435, 1), (459, 1), (522, 1), (860, 1), (890, 1), (981, 1), (1018, 1), (2232, 1), (3209, 1), (3210, 1), (3211, 1)], [(45, 1), (132, 1)], [(12, 1), (26, 3), (33, 1), (36, 2), (46, 1), (102, 1), (133, 1), (293, 1), (726, 1), (2109, 1), (3212, 1)], [(12, 1), (15, 2), (20, 1), (23, 1), (33, 1), (35, 1), (39, 1), (44, 2), (53, 1), (55, 2), (58, 1), (59, 1), (66, 1), (67, 1), (68, 1), (71, 1), (73, 1), (77, 1), (84, 2), (100, 2), (101, 1), (107, 1), (111, 2), (131, 1), (169, 1), (170, 1), (179, 1), (312, 1), (328, 1), (359, 1), (361, 1), (368, 1), (378, 1), (434, 1), (508, 1), (516, 1), (517, 1), (585, 1), (626, 1), (691, 1), (932, 1)], [(46, 1)], [(19, 1), (33, 1), (66, 1), (73, 1), (125, 1), (331, 1), (2064, 1), (2341, 1)], [(9, 1), (11, 1), (12, 1), (18, 1), (20, 2), (27, 3), (36, 1), (43, 1), (44, 1), (48, 1), (55, 1), (60, 1), (70, 1), (73, 3), (79, 1), (90, 1), (93, 1), (95, 1), (100, 1), (111, 1), (116, 1), (122, 1), (123, 1), (137, 1), (208, 1), (328, 1), (444, 1), (490, 1), (497, 1), (501, 1), (530, 1), (539, 1), (622, 1), (726, 1), (829, 1), (851, 1), (1040, 1), (1055, 1), (1151, 1), (1426, 1), (1582, 1), (1697, 1), (2001, 1), (2662, 1), (2691, 1), (3213, 1), (3214, 1)], [(19, 1), (77, 1), (147, 1), (263, 1), (278, 1)], [(10, 1), (13, 2), (15, 1), (16, 3), (21, 1), (39, 1), (44, 1), (45, 1), (55, 2), (70, 1), (71, 3), (73, 1), (106, 1), (116, 1), (132, 1), (133, 1), (145, 1), (180, 1), (211, 1), (237, 1), (314, 1), (328, 2), (387, 1), (467, 1), (662, 1), (826, 1), (1157, 1), (1225, 1), (1620, 1), (1726, 1), (2438, 1), (3215, 1), (3216, 1)], [(11, 1), (12, 1), (15, 1), (16, 1), (17, 1), (19, 1), (27, 1), (29, 1), (30, 1), (33, 1), (35, 2), (36, 1), (46, 1), (52, 1), (53, 1), (60, 1), (64, 1), (66, 1), (93, 1), (100, 1), (101, 1), (145, 1), (210, 1), (364, 1), (406, 1), (438, 1), (444, 1), (547, 1), (1353, 1), (1864, 1), (2087, 1), (3217, 1)], [(0, 1), (9, 1), (15, 1), (26, 1), (30, 1), (33, 1), (35, 3), (60, 1), (64, 1), (66, 2), (70, 1), (91, 1), (98, 1), (100, 1), (103, 1), (107, 1), (133, 1), (170, 1), (189, 2), (208, 1), (253, 1), (256, 1), (269, 1), (270, 1), (275, 1), (482, 1), (549, 3), (765, 3), (1073, 1), (1266, 1), (1445, 1), (1670, 1), (2542, 2), (2590, 1), (2819, 2), (3183, 1)], [(12, 1), (13, 1), (19, 2), (35, 2), (45, 2), (64, 2), (66, 1), (67, 1), (72, 1), (81, 1), (103, 1), (107, 1), (133, 1), (178, 1), (438, 1), (1062, 1)], [(12, 1), (107, 1), (1062, 1)], [(45, 1), (249, 1), (514, 1), (527, 1), (626, 1)], [(45, 1), (73, 1), (1594, 1)], [(0, 1), (16, 1), (19, 1), (26, 2), (30, 1), (96, 1), (122, 1), (137, 1), (219, 1), (255, 1), (267, 1), (312, 1), (454, 1), (516, 1), (817, 1), (1291, 1), (1580, 1), (1943, 1)], [(23, 1), (25, 1), (26, 1), (33, 1), (96, 1), (101, 1), (160, 1), (170, 2), (3099, 1)], [(19, 1), (100, 1), (145, 1), (276, 1), (321, 1), (1423, 1)], [(75, 1), (118, 1)], [(130, 1)], [(9, 1), (25, 1), (45, 1), (55, 1), (73, 2), (94, 1), (100, 1), (106, 1), (170, 1), (180, 1), (184, 1), (311, 1), (339, 1), (719, 1)], [(45, 1), (94, 1)], [(16, 1), (35, 1), (46, 1), (54, 1), (55, 1), (66, 1), (67, 1), (86, 1), (273, 1), (549, 1), (588, 1), (919, 1)], [(94, 1)], [(9, 1), (11, 1), (12, 1), (20, 1), (33, 1), (50, 2), (55, 3), (68, 1), (73, 1), (77, 1), (84, 1), (100, 2), (278, 1), (385, 1), (3028, 1)], [(26, 1), (96, 1), (223, 1)], [(19, 1), (55, 1), (96, 1), (228, 1), (354, 1)], [(28, 1), (35, 1), (45, 1), (55, 1), (554, 1)], [(8, 1), (46, 1), (72, 1), (178, 1), (180, 1), (673, 1), (674, 1), (852, 1)], [(48, 1), (68, 1), (73, 1), (96, 1), (482, 1), (483, 1), (520, 1), (539, 1), (549, 1), (2280, 1)], [(48, 1), (67, 1), (68, 1), (77, 1), (82, 2), (100, 1), (261, 1), (298, 1), (549, 1)], [(12, 1), (35, 1), (46, 1), (48, 1), (70, 1), (71, 1), (115, 2), (167, 1), (720, 1)], [(55, 1), (70, 1), (73, 1), (102, 1), (392, 1), (1014, 1)], [(12, 2), (13, 1), (15, 1), (16, 1), (19, 1), (20, 1), (29, 1), (33, 2), (43, 1), (48, 1), (64, 1), (68, 1), (73, 1), (77, 1), (90, 1), (91, 1), (98, 1), (107, 1), (110, 1), (131, 1), (247, 1), (377, 1), (464, 1), (482, 2), (517, 1), (828, 1), (1929, 1), (2004, 1)], [(64, 1), (123, 1)], [(0, 1), (12, 1), (13, 1), (19, 1), (20, 1), (21, 1), (27, 1), (36, 1), (41, 1), (55, 1), (64, 1), (67, 1), (70, 1), (77, 1), (99, 1), (100, 1), (102, 1), (116, 2), (142, 1), (517, 1), (535, 1), (557, 1), (814, 1), (831, 1), (984, 1), (989, 1), (2023, 1), (2116, 1)], [(12, 4), (13, 1), (16, 2), (19, 1), (21, 1), (33, 1), (36, 2), (55, 1), (64, 5), (67, 1), (72, 1), (73, 1), (82, 1), (94, 3), (100, 1), (107, 1), (119, 1), (121, 1), (128, 1), (132, 1), (133, 1), (170, 1), (171, 1), (202, 2), (211, 1), (257, 1), (273, 2), (328, 1), (359, 1), (391, 1), (427, 1), (482, 1), (834, 1), (837, 1), (1510, 1), (2578, 1), (2811, 1)], [(36, 1), (44, 1), (214, 1), (482, 1)], [(23, 1), (223, 1)], [(13, 1), (19, 1), (46, 1), (653, 1)], [(3218, 1)], [(3, 1), (13, 1), (19, 1), (48, 1), (63, 1), (64, 1), (86, 1), (91, 1), (130, 1), (218, 1), (285, 1), (444, 1), (476, 1), (477, 1), (531, 1), (616, 1), (1440, 1)], [(11, 1), (17, 1), (29, 1), (33, 1), (86, 1), (93, 1), (188, 1), (549, 1), (950, 1)], [(21, 1), (46, 1), (48, 1), (73, 1), (82, 1), (137, 1), (315, 1), (803, 1), (918, 1), (1133, 1), (2820, 1)], [(0, 2), (3, 1), (9, 1), (12, 1), (26, 2), (30, 1), (48, 2), (68, 1), (77, 1), (101, 1), (102, 1), (137, 2), (194, 1), (347, 1), (361, 1), (553, 1), (585, 1), (765, 1), (863, 1), (1108, 1), (1746, 1), (3219, 1)], [(9, 1), (26, 1), (28, 1), (35, 1), (55, 1), (116, 1), (137, 1), (149, 1), (224, 1), (305, 1), (721, 1), (1108, 1)], [(19, 2), (20, 1), (21, 1), (33, 1), (41, 1), (48, 1), (66, 2), (71, 1), (74, 1), (101, 1), (133, 2), (170, 1), (211, 1), (519, 1), (563, 1), (2431, 1), (3220, 1)], [(9, 1), (63, 1), (64, 1)], [(12, 1), (18, 1), (20, 1), (27, 3), (35, 1), (55, 2), (66, 1), (71, 1), (72, 1), (82, 1), (88, 1), (115, 1), (132, 1), (158, 1), (162, 2), (170, 2), (196, 1), (202, 1), (288, 1), (453, 1), (817, 1), (1007, 1), (1107, 1), (2189, 1), (3150, 1), (3176, 1), (3221, 1)], [(3, 1), (8, 2), (30, 4), (35, 1), (45, 1), (55, 9), (64, 1), (66, 1), (73, 3), (82, 1), (98, 2), (116, 2), (133, 1), (145, 2), (162, 1), (170, 1), (172, 1), (186, 1), (189, 1), (249, 2), (311, 2), (323, 1), (365, 2), (441, 1), (452, 3), (482, 1), (489, 1), (519, 1), (589, 1), (668, 1), (691, 1), (841, 1), (1281, 1), (1405, 2), (1492, 2), (1539, 1), (1589, 1), (2188, 1), (2197, 1), (2488, 1), (2816, 1), (3222, 1), (3223, 1)], [(35, 1), (45, 1), (46, 1), (66, 1), (72, 1), (83, 1), (91, 1), (255, 1), (267, 1), (801, 1)], [(20, 1), (27, 1), (29, 1), (31, 1), (34, 1), (36, 2), (43, 1), (53, 1), (55, 2), (65, 1), (66, 2), (71, 2), (91, 1), (94, 2), (170, 1), (189, 1), (224, 1), (311, 1), (388, 1), (442, 1), (488, 1), (514, 1), (522, 1), (531, 1), (587, 1), (744, 1), (757, 1), (789, 1), (829, 1), (886, 1), (992, 1), (1023, 1), (1344, 1), (1463, 1), (1469, 1), (1487, 1), (3224, 1), (3225, 1)], [(55, 1), (290, 1), (616, 1)], [(3, 1), (9, 1), (21, 1), (35, 1), (48, 1), (55, 2), (66, 1), (67, 1), (68, 1), (79, 1), (82, 1), (100, 2), (121, 1), (145, 1), (170, 1), (183, 1), (273, 1), (313, 1), (365, 1), (377, 1), (379, 1), (394, 1), (539, 1), (865, 1), (955, 1), (1153, 1)], [(437, 1)], [(19, 1), (26, 1), (33, 1), (35, 1), (66, 1), (74, 2), (101, 1), (138, 1), (145, 1), (155, 1), (1193, 1), (1230, 1)], [(20, 2), (33, 1), (48, 1), (55, 1), (67, 1), (152, 1), (162, 1), (442, 1), (476, 1), (520, 1)], [(63, 1), (64, 1), (68, 1), (77, 1)], [(8, 1), (48, 1), (77, 1), (545, 1), (954, 1)], [(70, 1), (94, 1), (130, 1), (153, 1), (1594, 1), (3061, 1)], [(23, 1), (88, 1), (812, 1), (2904, 1)], [(9, 1), (96, 1), (101, 1)], [(1003, 1), (1005, 1)], [(9, 1), (18, 1), (21, 2), (26, 1), (36, 1), (44, 1), (55, 2), (63, 1), (64, 2), (68, 1), (70, 2), (77, 1), (79, 1), (86, 1), (90, 1), (91, 1), (111, 1), (118, 1), (137, 1), (145, 2), (191, 1), (255, 1), (261, 2), (267, 1), (273, 1), (365, 1), (403, 1), (497, 1), (505, 1), (557, 1), (846, 1), (1928, 1), (3176, 1), (3226, 1)], [(0, 2), (12, 1), (20, 2), (25, 1), (26, 1), (36, 1), (44, 1), (48, 1), (55, 6), (60, 1), (63, 2), (64, 3), (71, 2), (77, 1), (78, 1), (80, 1), (99, 1), (100, 4), (102, 3), (107, 1), (126, 1), (145, 1), (152, 1), (253, 1), (275, 1), (293, 1), (381, 1), (384, 1), (421, 2), (434, 1), (438, 1), (473, 1), (606, 1), (613, 1), (616, 1), (622, 1), (927, 1), (1026, 3), (1055, 1), (1251, 1), (2138, 1), (2197, 1), (2597, 1), (3035, 1), (3227, 1), (3228, 1), (3229, 1)], [(3, 1), (9, 1), (12, 1), (20, 1), (23, 1), (43, 1), (66, 1), (67, 1), (73, 4), (93, 1), (103, 1), (186, 2), (189, 1), (244, 1), (249, 1), (266, 1), (489, 1), (536, 1), (668, 1), (811, 1), (1451, 1), (1488, 1), (3036, 1)], [(27, 1), (46, 1), (101, 1), (170, 1)], [(46, 1), (68, 1), (77, 1), (145, 1), (613, 1)], [(55, 1), (78, 1), (191, 1), (847, 1), (3230, 1)], [(3, 1), (9, 1), (16, 1), (19, 1), (20, 2), (23, 1), (29, 1), (31, 1), (45, 2), (55, 3), (60, 1), (71, 1), (73, 2), (88, 1), (107, 1), (148, 1), (152, 1), (158, 2), (170, 1), (239, 1), (263, 1), (312, 1), (348, 1), (444, 2), (447, 1), (497, 1), (507, 1), (563, 1), (583, 1), (1338, 1), (1463, 1), (1597, 1), (2078, 1), (2439, 1), (3231, 1), (3232, 1)], [(3, 2), (8, 1), (10, 1), (12, 3), (16, 1), (20, 3), (26, 4), (30, 1), (35, 2), (45, 2), (46, 1), (59, 1), (64, 2), (66, 1), (70, 1), (78, 1), (80, 1), (84, 1), (98, 2), (100, 1), (102, 1), (103, 1), (107, 2), (111, 1), (118, 1), (121, 2), (126, 1), (132, 1), (133, 2), (148, 1), (151, 1), (170, 2), (178, 1), (179, 1), (191, 3), (247, 1), (261, 1), (275, 1), (314, 1), (322, 1), (384, 2), (409, 1), (473, 2), (509, 1), (514, 1), (547, 1), (549, 1), (594, 1), (622, 2), (755, 2), (758, 1), (817, 1), (834, 1), (836, 1), (848, 1), (850, 1), (893, 1), (927, 1), (932, 1), (975, 1), (1169, 1), (1234, 1), (1610, 1), (1639, 1), (2183, 1), (2324, 1), (3233, 1), (3234, 1), (3235, 1), (3236, 1), (3237, 1), (3238, 1), (3239, 1), (3240, 1), (3241, 1)], [(9, 1), (13, 1), (19, 1), (27, 1), (48, 1), (71, 1), (77, 1), (99, 1), (100, 1), (211, 1), (686, 1), (690, 1), (744, 1), (849, 1), (1034, 1), (1124, 1), (1508, 1), (2478, 1), (3242, 1), (3243, 1)], [(9, 1), (45, 1), (862, 1)], [(103, 1)], [(70, 1), (121, 1), (170, 1), (216, 1), (556, 1)], [(3, 1), (9, 1), (11, 1), (12, 1), (19, 1), (20, 1), (33, 1), (48, 1), (55, 1), (65, 1), (107, 2), (131, 1), (214, 1)], [(9, 1), (35, 2), (46, 1), (55, 1), (71, 1), (170, 1), (387, 1), (479, 1), (507, 1), (1144, 1), (1816, 1), (3244, 1), (3245, 1)], [(13, 1), (21, 1), (35, 2), (41, 2), (45, 1), (48, 1), (60, 1), (66, 2), (73, 1), (75, 1), (80, 1), (102, 1), (126, 1), (130, 1), (170, 1), (178, 1), (208, 1), (269, 1), (290, 1), (370, 1), (378, 1), (388, 1), (405, 1), (429, 1), (458, 1), (489, 1), (496, 1), (500, 1), (508, 1), (522, 1), (556, 1), (585, 1), (668, 1), (811, 1), (1011, 1), (1033, 1), (1075, 1), (1325, 1), (1329, 1), (1433, 1), (1501, 1), (1727, 1), (2908, 1), (3106, 1), (3246, 1), (3247, 1)], [(26, 1), (31, 1), (46, 1), (74, 1), (1721, 1)], [(29, 1), (33, 1), (55, 1), (66, 1), (70, 1), (73, 1), (118, 1), (123, 1), (214, 1), (371, 1), (559, 1), (856, 1), (932, 1)], [(48, 1), (66, 1), (77, 1), (94, 1), (189, 1), (215, 1), (413, 1), (451, 1), (539, 1), (596, 1), (831, 1), (1062, 1), (1229, 1), (1532, 1), (3248, 1)], [(13, 1), (17, 1), (19, 1), (33, 1), (35, 1), (726, 1), (848, 1), (1359, 1), (1989, 1), (3249, 1)], [(96, 1)], [(0, 1), (17, 1), (102, 1), (107, 1), (145, 1), (198, 1), (269, 1), (445, 1), (465, 1), (3250, 1)], [(19, 1), (59, 1), (225, 1)], [(9, 1), (28, 1), (35, 1), (46, 1), (66, 1)], [(13, 1), (19, 1), (26, 1), (55, 1), (84, 1), (100, 1), (563, 1), (904, 1)], [(15, 1), (19, 1), (35, 1), (45, 1), (48, 1), (66, 1), (68, 1), (77, 1), (145, 2), (186, 1), (385, 1)], [(12, 1), (48, 1), (55, 1), (70, 1), (73, 1), (107, 1), (187, 1), (3251, 1)], [(31, 1), (65, 1), (211, 1)], [(6, 1), (265, 1), (595, 1), (3252, 1)], [(21, 1), (48, 1), (68, 1), (77, 1), (158, 1), (238, 1), (627, 1)], [(1315, 1)], [(9, 1), (12, 2), (43, 1), (48, 1), (64, 1), (94, 1), (100, 1), (111, 1), (198, 1), (622, 1)], [(0, 2), (3, 1), (8, 2), (9, 1), (12, 1), (13, 1), (16, 1), (17, 1), (18, 2), (19, 4), (20, 2), (34, 1), (35, 2), (36, 1), (41, 1), (44, 2), (45, 1), (46, 2), (48, 1), (55, 2), (59, 1), (63, 1), (64, 2), (66, 1), (67, 2), (68, 1), (71, 2), (72, 1), (77, 1), (78, 1), (88, 2), (100, 3), (102, 3), (107, 1), (115, 1), (179, 1), (209, 1), (211, 1), (219, 2), (224, 1), (225, 1), (269, 1), (316, 2), (371, 1), (392, 1), (443, 1), (451, 1), (452, 2), (493, 1), (496, 2), (515, 1), (549, 1), (559, 1), (581, 1), (584, 1), (594, 1), (706, 1), (836, 1), (947, 1), (1110, 1), (1144, 1), (1534, 1), (1629, 1), (1701, 1), (2177, 1), (2437, 1), (3080, 1), (3253, 2), (3254, 1), (3255, 1)], [(31, 1), (46, 1), (595, 1), (776, 1)], [(55, 1), (170, 1)], [(21, 1), (33, 1), (46, 3), (48, 1), (86, 1), (91, 1), (130, 1), (131, 1), (132, 1), (162, 1), (177, 1), (211, 1), (241, 1), (394, 1), (594, 1), (711, 1), (802, 1), (862, 1), (1006, 1), (1440, 1), (2982, 1), (3256, 1)], [(31, 1), (45, 2), (132, 1)], [(19, 1), (31, 1), (44, 1), (64, 1), (66, 1), (71, 2), (82, 1), (91, 1), (316, 1), (482, 2), (509, 1), (942, 1), (1187, 2), (1204, 1), (3256, 1), (3257, 1), (3258, 1), (3259, 1)], [(35, 1), (45, 1), (66, 1)], [(21, 1), (31, 1), (35, 2), (45, 1), (46, 1), (55, 2), (66, 1), (67, 1), (70, 1), (72, 1), (73, 2), (79, 1), (100, 1), (143, 1), (167, 1), (219, 1), (276, 1), (312, 1), (446, 1), (466, 1), (529, 1), (549, 1), (856, 1), (931, 1), (2226, 1), (2382, 1), (3260, 1)], [(19, 1), (23, 1), (31, 1), (33, 1), (48, 1), (55, 1), (101, 1), (152, 1), (162, 1), (207, 1), (253, 1), (451, 1), (719, 1), (726, 1), (1001, 1), (1121, 1)], [(55, 1), (70, 1), (94, 1), (123, 1)], [(0, 1), (908, 1), (989, 1)], [(9, 1), (13, 1), (18, 1), (19, 2), (20, 1), (26, 1), (29, 1), (41, 1), (55, 2), (74, 1), (75, 1), (82, 1), (140, 1), (161, 1), (365, 1), (602, 1), (807, 1), (932, 1), (1468, 1)], [(12, 1), (23, 1), (35, 1), (96, 1)], [(6, 1), (8, 1), (12, 3), (13, 1), (30, 1), (35, 1), (39, 1), (45, 1), (46, 2), (55, 2), (66, 1), (68, 1), (73, 3), (75, 2), (77, 1), (82, 1), (98, 2), (128, 1), (145, 1), (185, 1), (186, 1), (290, 1), (338, 1), (353, 1), (412, 1), (464, 1), (501, 1), (527, 1), (541, 1), (563, 1), (633, 1), (669, 1), (999, 1), (1057, 1), (1066, 1), (1326, 1), (1630, 1), (1681, 1), (1882, 1), (1889, 1), (1890, 1), (2795, 1), (2934, 1), (3261, 1), (3262, 1), (3263, 1), (3264, 1), (3265, 1)], [(46, 1), (132, 1)], [(6, 1), (46, 1), (273, 1), (364, 1), (725, 1)], [(46, 1), (64, 1)], [(12, 1), (26, 1), (45, 1), (55, 1), (106, 1), (147, 1), (243, 1), (261, 1), (406, 1), (598, 1), (1146, 1), (1154, 1), (2187, 1)], [(70, 1), (105, 1)], [(19, 1), (35, 1), (48, 1), (66, 1), (68, 1), (77, 1), (293, 1), (563, 1), (1597, 1)], [(3, 2), (13, 2), (16, 1), (19, 3), (21, 1), (26, 1), (29, 2), (48, 2), (65, 2), (67, 1), (82, 1), (158, 1), (175, 1), (197, 1), (204, 1), (212, 1), (238, 1), (273, 1), (413, 1), (444, 1), (466, 1), (473, 1), (476, 1), (522, 1), (535, 1), (588, 1), (633, 1), (689, 1), (744, 1), (817, 1), (850, 1), (859, 2), (1177, 1), (1192, 1), (1364, 1), (2205, 1), (2214, 1), (3266, 1), (3267, 1)], [(46, 1), (68, 1), (77, 1), (101, 1), (132, 1), (170, 1)], [(11, 1), (17, 1), (26, 1), (45, 1), (48, 1), (107, 1), (170, 1), (285, 1), (345, 1), (1793, 1), (2000, 1), (2551, 1)], [(989, 1)], [(20, 1), (70, 1), (90, 1), (96, 1), (106, 1), (118, 1), (142, 1), (162, 1), (527, 1), (539, 1), (1432, 1), (3268, 1), (3269, 1)], [(132, 1), (170, 1), (276, 1), (499, 1)], [(16, 1), (17, 2), (20, 1), (30, 1), (60, 2), (74, 3), (88, 1), (97, 1), (98, 1), (100, 1), (101, 1), (111, 1), (115, 1), (133, 1), (149, 1), (151, 1), (158, 1), (170, 2), (175, 1), (194, 2), (197, 1), (316, 1), (317, 1), (328, 1), (385, 1), (392, 1), (413, 1), (425, 1), (436, 1), (444, 1), (451, 1), (514, 1), (530, 1), (721, 1), (730, 1), (829, 1), (1265, 1), (1333, 1), (1368, 1), (1440, 1), (1590, 1), (2417, 1), (2606, 1), (2808, 1), (3260, 1), (3270, 1), (3271, 1), (3272, 1), (3273, 1), (3274, 1), (3275, 1), (3276, 1)], [(33, 1), (35, 1), (36, 1), (45, 3), (70, 1), (71, 1), (73, 2), (86, 2), (93, 1), (208, 1), (356, 2), (438, 1), (444, 1), (476, 1), (668, 1), (720, 1), (773, 1), (1210, 1), (2064, 1)], [(0, 1), (8, 1), (9, 1), (31, 1), (33, 1), (85, 1), (131, 1), (132, 1), (133, 2), (212, 1), (444, 1), (757, 1), (1452, 1), (3277, 1)], [(13, 1), (19, 1), (263, 1), (559, 1), (947, 1)], [(46, 1), (132, 1)], [(10, 1), (12, 1), (21, 1), (64, 1), (96, 1), (115, 1), (179, 1), (381, 1), (404, 1), (1106, 1), (2037, 1), (2833, 1), (3278, 1)], [(26, 1), (35, 1), (46, 1), (94, 1), (184, 1), (781, 1), (1594, 1), (3279, 1)], [(46, 1), (73, 1), (529, 1)], [(23, 1), (55, 2), (184, 1), (1905, 1)], [(12, 1), (21, 1), (35, 1), (43, 1), (46, 1), (70, 1), (72, 1), (1070, 1)], [(26, 1), (30, 1), (35, 1), (72, 1), (101, 1), (170, 1), (576, 1), (668, 1)], [(12, 1), (16, 1), (19, 1), (20, 1), (45, 1), (55, 1), (73, 1), (96, 1), (100, 1), (102, 1), (107, 1)], [(74, 1), (75, 1), (94, 1)], [(5, 1), (8, 1), (10, 1), (16, 1), (26, 2), (28, 1), (35, 2), (36, 1), (45, 1), (46, 1), (55, 2), (63, 1), (64, 1), (66, 1), (67, 1), (68, 1), (74, 1), (78, 1), (80, 1), (88, 1), (106, 1), (143, 1), (166, 1), (167, 1), (170, 1), (181, 2), (191, 1), (223, 1), (249, 1), (371, 1), (392, 1), (452, 1), (908, 2), (927, 1), (955, 1), (976, 1), (1011, 1), (1170, 1), (1923, 1), (2204, 1), (2926, 1), (3102, 1)], [(23, 1), (26, 1), (35, 1), (45, 1), (63, 1), (72, 1), (94, 1), (98, 1), (101, 1), (109, 1), (170, 1), (431, 1), (434, 1), (726, 1)], [(19, 1), (20, 2), (55, 1), (63, 1), (64, 1), (67, 2), (91, 1), (214, 2), (354, 1), (356, 1), (435, 1), (482, 1), (519, 1), (563, 1), (848, 1)], [(10, 1), (66, 1), (186, 1), (365, 1), (378, 1), (727, 1), (3280, 1)], [(0, 1), (9, 1), (26, 1), (35, 1), (36, 1), (45, 1), (72, 1), (81, 1), (96, 1), (158, 1), (175, 1), (185, 1), (186, 1), (211, 1), (223, 1), (354, 1), (378, 1), (384, 1), (385, 1), (405, 1), (444, 1), (458, 1), (489, 1), (765, 1), (3281, 1)], [(12, 1), (16, 1), (26, 1), (45, 1), (46, 1), (55, 1), (75, 1), (102, 1), (107, 1), (382, 1)], [(0, 1), (12, 1), (16, 1), (45, 1), (102, 1), (132, 1), (595, 1), (746, 1)], [(35, 1), (46, 1)], [(31, 1), (46, 2), (55, 1), (64, 1), (68, 1), (101, 1), (133, 1), (170, 1), (312, 1), (955, 1)], [(25, 1), (52, 1), (55, 1), (66, 1), (115, 1), (170, 1), (189, 1), (290, 1), (482, 1), (558, 2), (1312, 1), (2863, 1), (2908, 1), (3282, 1)], [(8, 1), (10, 1), (13, 1), (27, 1), (30, 1), (35, 1), (103, 1), (211, 1), (378, 1), (598, 1), (773, 1), (850, 1), (1021, 1), (1104, 1), (2294, 1), (3283, 1)], [(46, 1), (132, 1)], [(44, 1), (96, 1), (249, 1)], [(392, 1)], [(64, 1)], [(9, 1), (15, 1), (20, 1), (26, 1), (28, 1), (31, 1), (35, 1), (36, 1), (55, 1), (186, 1), (214, 1), (317, 1), (452, 1)], [(13, 1), (16, 1), (19, 1), (20, 1), (21, 1), (27, 1), (35, 1), (46, 2), (48, 1), (55, 2), (64, 1), (74, 2), (77, 1), (102, 1), (143, 1), (152, 1), (181, 1), (329, 1), (505, 1), (507, 1), (822, 1), (842, 1), (1532, 1), (3284, 1)], [(11, 1), (12, 1), (17, 1), (19, 1), (20, 1), (26, 1), (36, 2), (44, 1), (48, 1), (55, 2), (67, 1), (68, 1), (73, 1), (77, 1), (78, 1), (90, 1), (95, 2), (100, 1), (115, 1), (145, 1), (170, 1), (212, 1), (280, 1), (1455, 1), (1650, 1), (2626, 1)], [(0, 1), (12, 1), (43, 1), (45, 1), (48, 1), (102, 1), (132, 1), (931, 1)], [(16, 1), (19, 1), (33, 1), (55, 1), (68, 1), (72, 1), (77, 1), (102, 1), (116, 3), (249, 2), (576, 1), (625, 1), (775, 1), (812, 1), (834, 1), (837, 1), (842, 1), (925, 1), (2698, 1), (3285, 2), (3286, 1), (3287, 1)], [(96, 1)], [(12, 1), (36, 1), (43, 1), (46, 1), (202, 1), (499, 1), (1534, 1), (3288, 1)], [(23, 1)], [(9, 2), (11, 1), (20, 1), (41, 1), (45, 1), (55, 1), (63, 1), (71, 2), (73, 1), (102, 1), (107, 1), (181, 1), (183, 1), (356, 1), (444, 1), (569, 1), (668, 1), (826, 1), (1106, 1), (1513, 1)], [(31, 1), (46, 1), (82, 1), (437, 1), (582, 1)], [(9, 1), (46, 1), (132, 1), (133, 1)], [(12, 1), (50, 1), (1667, 1)], [(16, 1), (45, 1), (54, 1), (63, 1), (64, 1), (65, 1), (133, 1), (170, 1), (191, 1), (368, 1), (370, 1), (377, 1), (627, 1), (633, 1), (648, 1), (717, 1), (1106, 1), (1404, 1), (2164, 1), (2665, 1), (3289, 1), (3290, 1), (3291, 1), (3292, 1)], [(12, 1), (23, 1), (68, 1), (77, 1), (88, 1), (228, 1), (354, 1), (392, 1)], [(46, 1), (64, 1)], [(6, 1), (48, 1), (293, 1), (296, 1), (829, 1)], [(8, 2), (9, 1), (12, 1), (13, 2), (16, 2), (18, 1), (20, 6), (26, 2), (29, 1), (30, 1), (31, 1), (33, 1), (35, 3), (41, 1), (45, 1), (53, 1), (55, 3), (62, 1), (65, 1), (66, 3), (70, 1), (71, 3), (80, 1), (81, 1), (82, 1), (86, 3), (91, 2), (93, 1), (100, 4), (101, 1), (102, 2), (103, 1), (105, 1), (115, 1), (118, 1), (126, 1), (137, 1), (142, 1), (143, 1), (151, 1), (170, 1), (181, 1), (209, 1), (215, 1), (218, 1), (264, 1), (300, 1), (312, 1), (330, 1), (357, 2), (377, 1), (378, 1), (385, 2), (386, 1), (389, 2), (454, 1), (459, 1), (467, 1), (482, 1), (490, 3), (519, 1), (527, 1), (536, 1), (556, 1), (557, 1), (560, 1), (569, 1), (598, 1), (668, 1), (689, 3), (855, 2), (919, 1), (1083, 1), (1094, 1), (1116, 1), (1149, 1), (1362, 1), (1405, 2), (1429, 1), (1440, 1), (1469, 1), (1572, 1), (1606, 1), (1669, 1), (1745, 1), (1841, 2), (1881, 2), (2087, 1), (2273, 1), (2346, 1), (2486, 1), (2801, 1), (3080, 1), (3293, 1), (3294, 1), (3295, 1), (3296, 1), (3297, 1), (3298, 1), (3299, 1), (3300, 1), (3301, 1)], [(13, 1), (19, 1), (46, 1), (48, 1), (55, 1), (96, 3), (115, 1), (189, 1), (248, 1), (261, 1), (277, 1), (312, 1), (314, 1)], [(46, 1)], [(9, 1), (11, 1), (19, 1), (100, 1), (468, 1), (1131, 1)], [(12, 1), (44, 1), (50, 1), (67, 1), (68, 1), (77, 1), (105, 1), (170, 1), (225, 1), (451, 1)], [(94, 1)], [(12, 1), (13, 1), (25, 1), (29, 1), (31, 1), (33, 2), (36, 1), (44, 1), (64, 1), (72, 1), (103, 1), (131, 1), (152, 1), (162, 1), (271, 1), (312, 1), (340, 1), (527, 1), (594, 1), (618, 1), (1194, 1), (3302, 1)], [(3, 1), (17, 1), (19, 4), (20, 2), (26, 2), (31, 1), (33, 2), (35, 3), (44, 3), (53, 1), (54, 1), (55, 2), (58, 1), (62, 1), (63, 1), (66, 3), (74, 1), (77, 2), (93, 2), (100, 1), (131, 1), (133, 1), (143, 1), (145, 2), (151, 2), (158, 1), (167, 1), (189, 1), (225, 1), (308, 1), (309, 1), (331, 2), (465, 1), (466, 1), (496, 1), (548, 2), (588, 1), (594, 1), (643, 1), (708, 1), (981, 1), (1090, 1), (1107, 1), (2394, 1), (3303, 2)], [(0, 1), (12, 1), (26, 1), (27, 1), (36, 1), (45, 1), (64, 1), (66, 1), (70, 1), (77, 1), (149, 1), (563, 1), (897, 1), (948, 1), (1455, 1), (1836, 1)], [(13, 1), (23, 1), (35, 1), (152, 1), (3304, 1)], [(46, 1), (55, 1), (105, 1), (507, 1), (746, 1), (1144, 1), (1221, 1)], [(35, 1), (46, 1), (53, 1), (55, 1), (58, 1), (64, 1), (66, 2), (67, 2), (70, 2), (71, 1), (73, 1), (80, 1), (100, 1), (106, 1), (116, 1), (118, 1), (130, 1), (133, 1), (238, 1), (273, 1), (307, 1), (328, 1), (423, 1), (451, 1), (553, 1), (919, 1), (1219, 1), (1254, 1), (1404, 1), (1568, 1), (3300, 1), (3305, 1)], [(70, 1), (80, 1), (188, 1), (371, 1)], [(54, 1), (63, 1), (94, 1), (108, 1), (109, 1), (239, 1), (2382, 1)], [(35, 1), (103, 1), (138, 1), (385, 1), (3306, 1)], [(96, 1), (249, 2), (276, 1)], [(8, 1), (55, 1), (94, 1), (446, 1), (507, 1), (902, 1), (2757, 1)], [(0, 1), (23, 1), (25, 1), (35, 1), (45, 1), (66, 1), (73, 1), (74, 1), (186, 1), (451, 1), (765, 1)], [(12, 1), (24, 1), (35, 1), (46, 1), (73, 1), (115, 1), (138, 1), (171, 1), (539, 1), (832, 1), (1853, 1), (3307, 1)], [(35, 1), (45, 1), (66, 1), (94, 1), (431, 1), (434, 1), (1210, 1), (3308, 1)], [(45, 1)], [(364, 1)], [(19, 2), (26, 1), (30, 1), (35, 1), (46, 1), (48, 1), (55, 1), (66, 1), (72, 1), (98, 1), (100, 1), (101, 1), (145, 1), (170, 2), (191, 1), (277, 1), (377, 1), (563, 1), (927, 1)], [(13, 1), (16, 1), (26, 4), (28, 1), (35, 3), (36, 2), (45, 2), (53, 2), (64, 1), (66, 4), (80, 1), (94, 1), (103, 1), (106, 1), (133, 1), (145, 2), (167, 1), (170, 1), (183, 1), (189, 1), (191, 2), (261, 2), (389, 2), (416, 1), (425, 2), (432, 3), (446, 1), (504, 2), (519, 1), (574, 1), (585, 1), (649, 1), (1021, 2), (1248, 1), (1677, 1), (1707, 1), (1800, 3), (2388, 1), (2619, 1), (3309, 1)], [(23, 1), (35, 1), (36, 1), (55, 1), (72, 1), (73, 2), (130, 1), (1214, 1)], [(105, 1)], [(18, 1), (20, 1), (100, 1), (143, 1), (386, 1), (442, 1), (1001, 1)], [(31, 1), (46, 1), (94, 1), (447, 1), (451, 1), (1241, 1), (1242, 1), (1534, 1)], [(9, 1), (23, 1), (31, 1), (46, 1), (91, 1), (94, 1), (130, 1), (132, 1), (535, 1)], [(13, 1), (36, 2), (45, 1), (55, 1), (60, 1), (65, 1), (72, 1), (100, 2), (102, 1), (170, 1), (209, 1), (386, 1), (425, 1), (476, 1), (531, 1), (547, 1), (647, 1), (1286, 1), (1291, 1), (1338, 1), (1786, 1), (1928, 1)], [(13, 1), (15, 1), (276, 1), (290, 1), (1287, 1)], [(19, 1), (23, 1), (25, 1), (48, 1), (59, 1), (101, 1), (115, 1), (170, 1), (202, 1), (239, 1), (444, 1), (456, 1), (1229, 1), (3310, 1)], [(12, 2), (16, 1), (23, 1), (26, 1), (30, 1), (35, 1), (45, 1), (60, 1), (70, 1), (75, 1), (86, 1), (91, 1), (126, 1), (170, 1), (187, 1), (438, 1), (535, 1), (547, 1), (726, 1), (814, 1), (975, 1), (2188, 1), (2757, 1), (3003, 1)], [(20, 1), (26, 1), (30, 1), (55, 1), (65, 1), (312, 1), (500, 1)], [(19, 1), (44, 1), (96, 1)], [(9, 5), (12, 1), (18, 2), (20, 3), (29, 1), (30, 2), (35, 1), (55, 2), (60, 1), (73, 2), (77, 1), (91, 2), (98, 2), (101, 2), (126, 1), (128, 2), (130, 1), (138, 1), (170, 1), (179, 1), (214, 1), (278, 1), (280, 1), (311, 1), (326, 1), (361, 2), (377, 1), (447, 1), (456, 2), (726, 1)], [(9, 2), (18, 1), (27, 1), (29, 1), (31, 1), (33, 1), (68, 1), (73, 1), (77, 1), (91, 1), (96, 1), (101, 1), (130, 1), (139, 1), (202, 1), (228, 1), (476, 1), (479, 1), (496, 1), (595, 1), (711, 1), (746, 1), (776, 1), (819, 1)], [(11, 1), (35, 1), (55, 1), (66, 1), (74, 1), (75, 1), (100, 1), (285, 1), (549, 1)], [(0, 2), (3, 1), (9, 1), (35, 1), (48, 1), (66, 1), (86, 1), (91, 1), (167, 1), (170, 1), (315, 1), (354, 1), (441, 1), (444, 1), (456, 1), (998, 1), (1115, 1), (2536, 1), (2807, 1), (3311, 1), (3312, 1)], [(55, 1), (70, 1), (123, 1)], [(11, 1), (19, 1), (66, 1), (100, 1), (107, 1), (263, 1), (277, 1), (563, 1), (1073, 1)], [(13, 1), (19, 1), (21, 1), (30, 1), (63, 1), (64, 2), (75, 1), (82, 1), (97, 1), (162, 1), (210, 1), (563, 1)], [(35, 1), (55, 1), (63, 1), (66, 1), (82, 1), (142, 1), (145, 1), (153, 1), (170, 1), (189, 1), (210, 1), (249, 1), (265, 1), (825, 1), (1116, 1)], [(0, 1), (3, 1), (12, 1), (16, 1), (75, 1), (116, 1), (280, 1), (539, 1)], [(20, 1), (46, 2), (53, 1), (55, 1), (64, 1), (71, 1), (90, 1), (94, 1), (111, 1), (115, 1), (132, 1), (214, 1), (415, 1), (444, 1), (692, 1), (1006, 1)], [(13, 1), (35, 1), (45, 1), (53, 1), (63, 1), (64, 1), (66, 2), (67, 1), (71, 1), (102, 1), (103, 1), (132, 1), (145, 1), (154, 1), (179, 1), (186, 1), (197, 1), (273, 1), (377, 1), (387, 1), (514, 1), (662, 1), (665, 1), (867, 1), (882, 1), (914, 1), (2345, 1)], [(9, 1), (44, 1), (48, 2), (64, 1), (73, 2), (77, 1), (84, 1), (100, 1), (269, 1), (293, 1), (299, 1), (404, 1), (633, 1), (828, 1), (831, 1), (848, 1), (1167, 1), (1399, 1), (1575, 1), (2004, 1)], [(1, 1), (12, 1), (17, 1), (19, 2), (30, 1), (44, 1), (52, 1), (55, 1), (63, 1), (64, 1), (78, 1), (92, 1), (98, 1), (100, 1), (107, 1), (200, 1), (253, 1), (275, 1), (296, 1), (398, 1), (472, 1), (642, 1), (668, 1), (789, 1), (1025, 1), (1938, 1), (2885, 1), (3313, 1), (3314, 1), (3315, 1)], [(19, 1), (20, 1), (27, 2), (46, 1), (68, 1), (77, 1), (86, 1), (88, 1), (91, 1), (101, 1), (132, 1), (170, 1), (184, 1), (186, 1), (508, 1), (519, 1)], [(46, 1), (55, 1)], [(26, 2), (35, 1), (46, 1), (55, 2), (70, 1), (138, 1), (162, 1)], [(46, 1)], [(12, 1), (16, 1), (36, 1), (50, 1), (68, 1), (73, 1), (77, 1), (95, 1), (133, 1), (234, 1), (378, 1), (538, 1), (668, 1), (757, 1), (817, 1), (1194, 1), (1234, 1), (1327, 1), (3316, 1), (3317, 1), (3318, 2)], [(13, 1), (35, 1), (63, 1), (130, 1), (132, 1)], [(12, 1), (73, 1), (139, 1), (589, 1)], [(9, 1), (82, 1), (103, 1), (132, 1), (133, 1), (170, 1), (204, 1), (514, 1), (746, 1), (923, 1), (1140, 1)], [(11, 1), (20, 1), (26, 1), (30, 1), (50, 1), (55, 2), (58, 1), (84, 1), (100, 1), (179, 1), (253, 1), (516, 1), (528, 1), (727, 1)], [(21, 1), (35, 1), (36, 1), (43, 1), (71, 1), (138, 1), (221, 1), (624, 1), (699, 1), (3319, 1), (3320, 1)], [(9, 1), (27, 1), (35, 1), (55, 1), (100, 1), (311, 1), (312, 1), (874, 1), (1325, 1), (3321, 1), (3322, 1)], [(13, 1), (16, 1), (23, 1), (25, 1), (26, 1), (36, 1), (130, 1), (170, 1), (191, 1), (202, 1), (290, 1), (436, 1), (745, 1), (1108, 1), (3323, 1), (3324, 1)], [(12, 1), (35, 1), (66, 1), (70, 1), (72, 1), (105, 1), (130, 1), (406, 1)], [(46, 1), (60, 1)], [(46, 1)], [(4, 2), (8, 1), (17, 1), (19, 2), (44, 1), (55, 1), (78, 1), (101, 1), (107, 1), (111, 1), (135, 1), (145, 2), (169, 1), (170, 1), (180, 1), (311, 1), (365, 1), (548, 1), (586, 1), (942, 2), (957, 1), (1203, 1), (1518, 1), (1747, 1), (3325, 1), (3326, 2)], [(9, 1), (12, 1), (15, 1), (20, 1), (26, 1), (55, 2), (66, 1), (70, 1), (71, 1), (78, 1), (96, 1), (104, 1), (116, 4), (125, 1), (126, 1), (137, 1), (189, 1), (412, 2), (554, 1), (775, 1), (834, 1), (1075, 1), (1313, 1), (3327, 1), (3328, 1)], [(185, 1)], [(33, 1), (45, 1), (170, 1), (389, 1), (1886, 1)], [(82, 1), (132, 1), (746, 1), (803, 1), (1492, 1)], [(12, 1), (18, 1), (23, 1), (26, 1), (43, 1), (46, 1), (48, 1), (55, 1), (60, 1), (66, 1), (68, 1), (70, 1), (77, 1), (91, 2), (100, 1), (106, 1), (162, 1), (167, 1), (170, 1), (189, 1), (198, 1), (249, 1), (264, 1), (377, 1), (400, 1), (415, 1), (444, 1), (456, 1), (496, 1), (507, 1), (890, 1), (1121, 1), (1266, 1), (1302, 1), (1532, 1), (3329, 1)], [(46, 1), (48, 1), (132, 1), (1423, 1)], [(10, 1), (13, 2), (14, 1), (15, 1), (16, 1), (18, 1), (19, 1), (20, 1), (21, 1), (26, 1), (29, 1), (39, 1), (41, 3), (44, 1), (46, 1), (55, 1), (58, 1), (63, 1), (66, 1), (70, 1), (74, 1), (82, 1), (84, 1), (99, 1), (100, 2), (102, 1), (103, 2), (115, 2), (143, 1), (162, 1), (170, 1), (183, 1), (189, 1), (197, 1), (261, 1), (263, 1), (389, 1), (394, 1), (404, 2), (425, 1), (504, 1), (560, 1), (846, 1), (850, 2), (998, 1), (3330, 1)], [(9, 1), (12, 1), (25, 2), (36, 2), (44, 1), (73, 1), (74, 1), (75, 1), (80, 1), (101, 1), (106, 1), (107, 1), (119, 1), (179, 1), (191, 1), (195, 1), (202, 1), (253, 1), (345, 1), (476, 1), (535, 1), (536, 1), (1523, 1), (1945, 1), (3331, 1), (3332, 1)], [(46, 1), (55, 1), (101, 1), (170, 1), (507, 1)], [(21, 1), (48, 1), (137, 1), (616, 1)], [(35, 1), (82, 1), (130, 1), (132, 1), (514, 1), (803, 1), (1090, 1)], [(0, 1), (8, 1), (12, 1), (13, 2), (16, 1), (20, 1), (26, 1), (27, 1), (35, 2), (46, 1), (48, 1), (53, 2), (55, 1), (64, 1), (66, 2), (71, 1), (78, 2), (86, 1), (90, 1), (91, 2), (100, 1), (103, 1), (111, 1), (133, 1), (137, 1), (138, 1), (159, 1), (162, 2), (178, 1), (189, 1), (209, 1), (214, 1), (241, 1), (269, 1), (277, 2), (287, 2), (290, 1), (316, 1), (377, 1), (440, 1), (473, 1), (527, 1), (549, 1), (560, 1), (596, 1), (648, 2), (711, 1), (802, 1), (836, 1), (862, 1), (892, 1), (917, 1), (1055, 1), (1124, 1), (1396, 1), (1405, 1), (1691, 1), (1809, 1), (2106, 1), (2486, 1), (2536, 1), (2551, 1), (2987, 1), (3159, 1), (3333, 1), (3334, 1), (3335, 1), (3336, 1)], [(35, 1), (45, 1), (72, 1), (96, 1), (137, 1), (145, 1), (385, 1), (438, 1)], [(3, 1), (8, 1), (13, 1), (19, 4), (26, 1), (27, 1), (29, 1), (44, 2), (62, 1), (79, 1), (100, 2), (101, 1), (111, 1), (126, 1), (127, 1), (132, 1), (133, 1), (137, 1), (145, 1), (151, 1), (161, 1), (163, 1), (225, 1), (361, 1), (388, 1), (402, 1), (483, 1), (515, 1), (522, 1), (559, 1), (590, 1), (613, 1), (615, 1), (658, 1), (773, 1), (872, 1), (873, 1), (880, 2), (984, 1), (1151, 1), (1227, 1), (1251, 1), (1302, 1), (1322, 1), (1421, 1), (1484, 1), (1489, 1), (2342, 1), (2381, 1), (3337, 1)], [(13, 1), (173, 1), (178, 1)], [(45, 1), (132, 1), (170, 1), (679, 1)], [(8, 1), (46, 1), (55, 2), (102, 1), (116, 1), (137, 1), (179, 1), (214, 1), (354, 1), (442, 1), (721, 1), (828, 1), (837, 1), (1236, 1), (1412, 1), (3338, 1)], [(16, 1), (29, 1), (63, 1), (64, 1), (444, 1), (447, 1), (726, 1)], [(20, 1), (33, 2), (46, 1), (63, 1), (68, 1), (77, 1), (109, 1), (117, 1), (131, 1), (152, 1), (415, 1), (497, 1), (726, 1)], [(9, 1), (19, 1), (44, 1), (45, 1), (55, 1), (68, 1), (70, 1), (80, 1), (100, 1), (116, 1), (118, 1), (225, 1), (955, 1), (989, 1), (1173, 1), (1503, 1)], [(55, 1), (70, 1), (78, 1), (94, 1), (215, 1), (304, 1), (390, 1), (827, 1), (3339, 1)], [(116, 1), (535, 1), (3340, 1)], [(46, 1), (183, 1)], [(18, 1), (26, 1), (27, 1), (55, 1), (60, 1), (90, 1), (100, 1), (101, 1), (549, 1)], [(46, 1)], [(12, 1), (13, 1), (31, 1), (36, 1), (46, 1), (50, 1), (55, 2), (60, 1), (67, 1), (78, 1), (132, 1), (152, 1), (170, 1), (179, 1), (223, 1), (582, 1), (1144, 1), (1550, 1)], [(24, 1), (35, 1), (55, 1), (100, 1), (126, 1), (138, 1), (162, 1), (170, 1), (269, 1), (438, 1), (442, 1), (468, 1), (576, 1), (768, 1), (942, 1), (1184, 1), (1187, 1), (1860, 1), (3341, 1), (3342, 1)], [(12, 1), (13, 1), (19, 3), (30, 1), (55, 2), (68, 1), (71, 1), (77, 1), (78, 1), (100, 3), (115, 1), (143, 1), (184, 1), (202, 1), (253, 1), (371, 1), (434, 1), (442, 1), (496, 1), (549, 1), (569, 1), (616, 1), (1021, 1), (2793, 1), (3343, 1), (3344, 1), (3345, 1), (3346, 1)], [(3, 3), (5, 1), (8, 5), (9, 1), (12, 6), (13, 7), (15, 1), (19, 5), (21, 1), (23, 4), (25, 1), (26, 3), (27, 1), (28, 2), (30, 3), (31, 1), (35, 8), (36, 13), (39, 1), (41, 2), (44, 1), (45, 2), (46, 1), (48, 7), (52, 1), (53, 1), (54, 2), (55, 8), (58, 2), (59, 1), (61, 1), (63, 5), (64, 4), (65, 4), (66, 12), (67, 1), (70, 3), (71, 2), (72, 1), (73, 5), (75, 1), (79, 1), (80, 2), (86, 3), (88, 2), (91, 4), (94, 2), (98, 9), (100, 2), (101, 1), (102, 5), (103, 4), (104, 2), (106, 1), (107, 5), (111, 2), (113, 1), (115, 7), (116, 1), (126, 2), (133, 2), (137, 1), (139, 2), (149, 1), (158, 1), (159, 1), (165, 2), (170, 4), (171, 2), (178, 1), (180, 2), (186, 2), (188, 1), (189, 2), (191, 1), (194, 1), (201, 1), (202, 2), (206, 2), (208, 1), (211, 2), (215, 1), (218, 2), (223, 1), (228, 2), (243, 1), (253, 2), (257, 1), (261, 2), (269, 2), (270, 1), (273, 1), (277, 1), (280, 1), (285, 1), (298, 2), (299, 2), (312, 1), (319, 1), (354, 1), (356, 1), (377, 2), (378, 2), (382, 1), (385, 1), (387, 1), (389, 3), (400, 2), (423, 1), (438, 2), (442, 1), (444, 2), (447, 2), (452, 1), (453, 1), (464, 4), (466, 5), (473, 2), (476, 2), (523, 1), (527, 2), (531, 2), (535, 4), (539, 3), (549, 3), (557, 1), (558, 1), (559, 1), (571, 1), (576, 1), (588, 2), (598, 1), (607, 1), (622, 1), (625, 1), (636, 1), (642, 1), (648, 1), (679, 1), (682, 1), (692, 1), (706, 1), (725, 1), (741, 1), (744, 3), (755, 1), (757, 2), (763, 1), (768, 1), (775, 1), (813, 2), (814, 4), (819, 1), (821, 1), (832, 1), (834, 1), (842, 1), (853, 1), (856, 5), (871, 1), (908, 2), (910, 1), (911, 1), (926, 1), (975, 1), (976, 1), (981, 4), (984, 1), (1007, 1), (1013, 2), (1064, 1), (1106, 3), (1192, 1), (1198, 1), (1204, 1), (1248, 4), (1262, 1), (1313, 1), (1314, 1), (1426, 1), (1439, 2), (1455, 1), (1478, 1), (1503, 1), (1548, 1), (1575, 1), (1606, 1), (1686, 1), (1691, 1), (1726, 1), (1748, 1), (1786, 1), (1789, 1), (1806, 1), (1810, 2), (1959, 1), (1974, 1), (2020, 2), (2048, 1), (2064, 1), (2209, 1), (2331, 1), (2339, 1), (2407, 2), (2476, 1), (2478, 1), (2551, 1), (2703, 1), (2753, 1), (2781, 1), (2816, 1), (2827, 1), (2991, 1), (3159, 1), (3176, 1), (3347, 1), (3348, 1), (3349, 1), (3350, 1), (3351, 1), (3352, 1), (3353, 1), (3354, 1), (3355, 1), (3356, 1), (3357, 1), (3358, 1), (3359, 2), (3360, 1), (3361, 1), (3362, 1), (3363, 1), (3364, 1)], [(13, 2), (33, 1), (46, 1), (170, 1), (208, 1), (394, 1), (535, 1)], [(20, 1), (46, 1), (55, 1), (66, 1), (189, 1), (255, 1), (267, 1), (312, 1), (507, 1)], [(3, 1), (8, 1), (9, 1), (12, 1), (18, 2), (19, 1), (20, 2), (25, 1), (26, 3), (27, 2), (30, 1), (36, 1), (41, 2), (55, 4), (60, 1), (62, 1), (64, 1), (73, 1), (82, 1), (84, 1), (94, 1), (100, 3), (101, 2), (111, 1), (113, 1), (140, 1), (170, 2), (202, 1), (219, 1), (249, 1), (261, 1), (316, 1), (345, 1), (361, 1), (389, 1), (453, 1), (481, 1), (528, 2), (547, 1), (549, 1), (563, 1), (737, 1), (822, 1), (896, 1), (906, 1), (940, 1), (1007, 1), (1011, 1), (1021, 1), (1333, 1), (1349, 1), (1598, 1), (1879, 1), (1938, 1)], [(19, 1), (21, 1), (48, 1), (73, 1), (77, 1), (91, 1), (100, 1), (122, 1), (326, 1), (535, 1), (745, 1), (804, 1), (814, 1), (879, 1), (1186, 1), (1359, 1), (1628, 1), (3365, 1)], [(3, 1), (9, 1), (19, 1), (20, 1), (96, 1), (142, 1), (613, 1), (616, 1), (1364, 1)], [(31, 1), (45, 1)], [(13, 2), (33, 1), (48, 1), (186, 1), (507, 1), (992, 1), (1117, 1), (1491, 1), (1610, 1), (2893, 1), (3366, 1), (3367, 1)], [(0, 1), (3, 2), (20, 2), (24, 1), (27, 1), (36, 1), (39, 1), (55, 2), (63, 1), (71, 1), (86, 4), (91, 9), (98, 2), (111, 1), (162, 1), (170, 2), (374, 1), (384, 1), (431, 2), (466, 1), (468, 1), (547, 1), (576, 1), (592, 1), (1440, 1), (1543, 2), (3368, 1), (3369, 1), (3370, 1)], [(0, 1), (13, 1), (20, 2), (21, 2), (35, 1), (43, 1), (55, 1), (66, 1), (70, 1), (91, 1), (103, 1), (123, 1), (152, 1), (186, 1), (219, 1), (235, 1), (412, 1), (658, 1), (3272, 1), (3371, 1)], [(62, 1), (68, 1), (73, 1), (94, 1), (100, 2), (169, 1), (668, 1), (955, 1), (1111, 1)], [(96, 1)], [(13, 1), (59, 1), (104, 1), (225, 1), (272, 1), (706, 1), (752, 1), (907, 1)], [(105, 1)], [(10, 1), (16, 1), (1170, 1)], [(55, 1), (84, 1), (100, 1), (312, 1)], [(46, 1), (162, 1), (223, 1), (424, 1), (863, 1), (927, 1)], [(9, 1), (18, 1), (27, 1), (41, 1), (48, 1), (55, 1), (59, 1), (64, 2), (66, 1), (94, 1), (96, 1), (100, 2), (101, 1), (121, 2), (191, 1), (215, 1), (261, 1), (311, 2), (356, 1), (447, 1), (465, 1), (473, 1), (539, 1), (554, 1), (716, 1), (827, 1), (1020, 1), (1106, 1), (1198, 1), (1538, 1), (1928, 2), (2264, 1), (2786, 1), (2798, 1), (3372, 1), (3373, 1)], [(16, 1), (35, 1), (45, 1), (55, 1), (66, 1), (70, 1), (145, 1), (680, 1)], [(31, 1), (46, 1), (66, 1), (68, 1), (77, 1), (539, 1), (3374, 1)], [(3, 1), (12, 1), (48, 1), (64, 1), (75, 1), (80, 1), (145, 1), (183, 1), (186, 1), (198, 1), (274, 1), (822, 1), (1203, 1), (3375, 1)], [(46, 2), (133, 1), (153, 1), (167, 1), (207, 1), (447, 1), (998, 1), (1221, 1)], [(3, 1), (6, 1), (9, 1), (20, 2), (25, 1), (27, 1), (29, 1), (65, 1), (82, 1), (96, 1), (100, 1), (101, 1), (126, 1), (249, 1), (276, 1), (320, 1), (377, 1), (510, 1), (1364, 1), (3376, 1)], [(13, 1), (68, 1), (74, 1), (75, 1), (77, 1), (100, 1), (163, 1), (463, 1), (507, 1), (548, 1), (590, 1), (871, 1), (880, 1), (1159, 1), (2504, 1), (3377, 1)], [(3, 1), (6, 1), (21, 1), (103, 1), (265, 1)], [(0, 1), (31, 1), (45, 1), (158, 1), (305, 1), (535, 1), (1919, 1)], [(13, 1), (19, 1), (46, 1), (66, 1), (489, 1)], [(130, 1), (139, 1), (3378, 1)], [(9, 2), (12, 1), (20, 3), (25, 1), (27, 3), (29, 1), (36, 1), (41, 1), (45, 1), (46, 1), (64, 1), (71, 1), (73, 1), (74, 1), (86, 1), (88, 1), (99, 2), (100, 1), (133, 1), (143, 1), (158, 1), (175, 1), (207, 1), (212, 1), (253, 1), (290, 1), (305, 2), (447, 1), (459, 1), (473, 1), (475, 1), (519, 1), (578, 1), (1221, 1), (1487, 1), (2875, 1)], [(23, 1), (24, 1), (35, 1), (3379, 1)], [(27, 1), (46, 1), (55, 1), (63, 1), (64, 1), (73, 1), (100, 1), (102, 1), (103, 1), (109, 1), (115, 1), (208, 1), (249, 1), (438, 1), (447, 1), (931, 1), (950, 1), (998, 1)], [(33, 1), (35, 1), (46, 1), (72, 1), (308, 1), (309, 1)], [(29, 1), (80, 1), (96, 1), (100, 1), (524, 1), (723, 1)], [(96, 1), (101, 1), (170, 1)], [(19, 1), (66, 1), (611, 1)], [(5, 1), (30, 1), (53, 2), (66, 1), (68, 1), (77, 1), (96, 1), (130, 1), (186, 1), (491, 1), (721, 1), (1038, 1), (2140, 1)], [(107, 1), (265, 1), (437, 1), (521, 1), (582, 1)], [(3, 1), (68, 1), (77, 1), (78, 1), (80, 1), (170, 1), (191, 1), (370, 1), (585, 1), (1227, 1), (1506, 1), (2004, 1), (3380, 1)], [(27, 1), (63, 1), (64, 1), (77, 1), (99, 1), (100, 1), (163, 1), (585, 1), (831, 1), (1874, 1)], [(9, 1), (132, 1), (219, 1), (626, 1), (2401, 1)], [(46, 1), (55, 2), (64, 1), (82, 1), (115, 1), (132, 1), (143, 1), (249, 1), (1012, 1), (1429, 1), (3381, 1)], [(12, 1), (26, 1), (105, 1), (107, 1)], [(94, 1)], [(13, 1), (19, 1), (29, 1), (33, 1), (44, 1), (55, 1), (170, 1)], [(9, 1), (20, 1), (21, 1), (27, 1), (63, 1), (109, 1), (142, 1)], [(35, 1), (115, 1), (138, 1), (148, 1), (158, 1), (444, 1), (549, 1), (669, 1), (720, 1)], [(16, 1), (30, 1), (35, 1), (46, 2), (55, 3), (64, 1), (66, 1), (86, 1), (91, 1), (93, 1), (98, 1), (101, 1), (115, 1), (138, 1), (170, 2), (186, 1), (364, 1), (386, 1), (507, 1), (529, 1)], [(45, 1), (70, 1)], [(23, 1)], [(3, 1), (9, 1), (33, 1), (148, 1), (152, 1), (158, 1), (253, 1), (415, 1), (444, 1), (996, 1)], [(13, 1), (19, 1), (27, 1), (55, 1), (78, 1), (101, 1), (170, 1), (184, 1), (312, 1), (345, 1), (548, 1), (1593, 1), (1936, 1)], [(8, 2), (16, 1), (46, 1), (64, 1), (66, 1), (96, 1), (100, 2), (170, 1), (238, 1), (275, 1), (280, 1), (348, 1), (982, 1), (1200, 1), (1456, 1), (1692, 1), (2041, 1), (2269, 1), (2388, 1), (3382, 1)], [(16, 1), (63, 2), (64, 1), (66, 1), (80, 1), (189, 1), (291, 1), (385, 1), (531, 1), (1568, 1), (3383, 1)], [(46, 1), (101, 1), (132, 1), (170, 1), (211, 1), (249, 1), (354, 1)], [(19, 1), (26, 1), (68, 1), (77, 1), (278, 1)], [(20, 2), (41, 1), (77, 1), (142, 1), (290, 1), (3129, 1)], [(16, 1), (35, 1), (46, 1), (55, 1), (59, 1), (90, 1), (100, 2), (183, 1), (249, 1), (365, 1), (844, 1), (895, 1)], [(13, 1), (19, 1), (48, 1), (75, 1), (108, 1), (170, 1), (179, 1), (197, 1), (552, 1), (744, 1), (916, 1), (984, 1), (1018, 1)], [(8, 1), (9, 2), (10, 1), (23, 1), (26, 3), (33, 1), (36, 1), (68, 1), (77, 1), (86, 1), (98, 3), (131, 1), (162, 1), (181, 1), (204, 1), (444, 1), (499, 1), (535, 1), (814, 2), (1112, 1), (1170, 1), (2313, 1)], [(15, 1), (46, 1), (48, 1), (70, 1)], [(23, 1), (25, 1), (73, 1), (162, 1)], [(33, 1), (45, 1), (46, 1), (70, 1), (131, 1), (1594, 1)], [(12, 1), (387, 1), (389, 1), (608, 1), (961, 1), (1474, 1)], [(1382, 1)], [(21, 1), (35, 1), (66, 1), (94, 1), (549, 1), (2110, 1)], [(31, 1), (46, 1), (132, 1), (862, 1)], [(9, 1), (15, 1), (19, 1), (20, 1), (43, 1), (44, 1), (48, 1), (55, 1), (58, 1), (68, 1), (73, 1), (77, 1), (78, 2), (100, 2), (102, 1), (107, 1), (127, 1), (132, 1), (183, 1), (185, 1), (225, 1), (235, 1), (261, 1), (263, 1), (275, 1), (404, 2), (443, 1), (726, 1), (983, 1), (1018, 1), (1532, 1), (1593, 1), (1606, 1)], [(8, 1), (9, 2), (19, 1), (26, 2), (35, 1), (55, 1), (68, 1), (71, 1), (77, 1), (78, 1), (79, 1), (125, 1), (145, 1), (149, 1), (167, 1), (239, 1), (254, 1), (438, 1), (475, 1), (627, 1), (653, 1), (720, 1), (749, 1), (981, 1), (998, 1), (1896, 1), (1901, 1), (2712, 1), (3384, 1)], [(3, 1), (20, 2), (26, 1), (27, 1), (35, 1), (66, 1), (74, 2), (80, 1), (101, 1), (132, 1), (167, 1), (186, 1), (189, 1), (214, 1), (249, 1), (514, 1), (529, 1), (549, 1), (726, 1), (746, 1), (1144, 1), (1452, 1), (1729, 1), (1896, 1)], [(36, 1), (48, 1), (66, 1), (68, 1), (77, 1), (99, 1), (152, 1), (189, 1), (212, 1), (520, 1)], [(6, 1), (31, 1), (33, 1), (35, 1), (36, 1), (41, 1), (46, 1), (63, 1), (64, 1), (66, 2), (68, 1), (72, 1), (74, 1), (77, 1), (80, 1), (82, 1), (86, 1), (91, 1), (93, 1), (98, 1), (100, 1), (102, 1), (115, 6), (147, 1), (148, 2), (162, 2), (167, 3), (189, 2), (298, 1), (356, 1), (438, 1), (475, 1), (765, 2), (928, 1), (942, 1), (943, 1), (1211, 1), (1366, 1), (1426, 1), (1708, 1), (2197, 1), (2252, 1), (2842, 1), (3385, 1), (3386, 1), (3387, 1)], [(12, 2), (41, 1), (47, 1), (55, 1), (60, 2), (78, 1), (82, 1), (100, 1), (107, 1), (128, 1), (135, 1), (198, 1), (210, 1), (215, 1), (224, 1), (582, 1), (585, 1), (942, 1), (1003, 1), (1264, 1), (1426, 1), (2354, 1), (2891, 1), (3123, 1), (3388, 1), (3389, 1), (3390, 1), (3391, 1)], [(12, 1), (46, 1), (50, 1), (64, 1), (459, 1), (1128, 1)], [(12, 1), (44, 1), (45, 1), (48, 2), (68, 1), (73, 2), (77, 1), (184, 1), (186, 1), (371, 1), (378, 1), (514, 1), (533, 1), (539, 1), (719, 1), (765, 1)], [(132, 1), (371, 1)], [(26, 1), (60, 1), (63, 1), (64, 2), (68, 1), (77, 1), (84, 2), (107, 1), (198, 1), (210, 1), (312, 1), (488, 1), (726, 1)], [(6, 1), (46, 1)], [(11, 1), (26, 4), (30, 3), (46, 1), (55, 2), (68, 1), (70, 1), (77, 1), (82, 1), (98, 2), (99, 1), (100, 2), (101, 1), (169, 1), (170, 2), (361, 1), (365, 2), (1273, 1), (3392, 1)], [(46, 1), (73, 1), (82, 1), (138, 1), (182, 1), (862, 1), (989, 1), (2169, 1)], [(13, 1), (69, 1), (188, 1)], [(3, 1), (60, 1), (64, 1), (67, 1), (143, 1), (158, 1), (261, 1), (1229, 1), (1254, 1), (1542, 1)], [(26, 1), (46, 2), (55, 1), (68, 1), (77, 1), (115, 1), (170, 2)], [(23, 1), (26, 1), (31, 1), (88, 1)], [(29, 1), (33, 1), (46, 1), (55, 1), (132, 1)], [(46, 1)], [(9, 1), (10, 1), (54, 1), (61, 1), (67, 1), (102, 1), (121, 1)], [(64, 1)], [(10, 1), (16, 1), (94, 1), (1170, 1)], [(10, 1), (13, 2), (16, 1), (17, 1), (19, 1), (33, 2), (44, 1), (46, 1), (59, 1), (63, 1), (64, 1), (68, 2), (71, 1), (77, 2), (78, 1), (107, 1), (131, 1), (170, 1), (175, 1), (185, 1), (191, 1), (211, 1), (214, 1), (280, 1), (346, 1), (394, 1), (410, 1), (459, 1), (497, 1), (1227, 1), (1338, 1), (1620, 1), (1679, 1), (3102, 1), (3393, 1), (3394, 1), (3395, 1)], [(9, 1), (12, 1), (50, 1), (54, 1), (64, 1), (73, 1), (82, 1), (101, 1), (239, 1), (585, 1), (874, 1), (3005, 1), (3396, 1)], [(9, 1), (20, 1), (35, 1), (46, 1), (55, 3), (66, 1), (70, 1), (90, 2), (133, 1), (138, 1), (251, 1), (273, 1), (296, 1), (311, 1), (312, 1), (452, 2), (459, 1), (547, 2), (633, 1), (851, 1), (1189, 2), (3397, 1)], [(3, 1), (4, 1), (5, 1), (6, 2), (8, 2), (9, 2), (11, 1), (12, 4), (13, 1), (15, 1), (16, 1), (18, 1), (19, 1), (20, 3), (21, 3), (24, 1), (25, 1), (26, 11), (27, 2), (29, 1), (30, 2), (35, 3), (36, 3), (43, 1), (44, 4), (48, 1), (53, 1), (55, 8), (60, 2), (66, 3), (67, 1), (71, 2), (72, 1), (77, 2), (80, 1), (82, 2), (94, 2), (95, 2), (98, 9), (99, 1), (100, 4), (103, 3), (104, 1), (106, 1), (111, 3), (113, 1), (116, 3), (120, 1), (132, 1), (133, 1), (137, 2), (151, 1), (162, 1), (175, 1), (178, 1), (184, 1), (202, 2), (211, 1), (253, 1), (261, 1), (264, 1), (269, 2), (295, 1), (312, 2), (317, 1), (321, 1), (323, 2), (328, 1), (364, 1), (377, 2), (384, 1), (385, 1), (387, 1), (389, 1), (394, 1), (406, 2), (428, 1), (442, 2), (456, 1), (468, 1), (473, 1), (497, 2), (513, 2), (518, 1), (527, 2), (536, 1), (547, 1), (549, 1), (576, 1), (578, 1), (588, 1), (592, 1), (598, 1), (658, 1), (677, 1), (679, 1), (699, 1), (734, 1), (749, 1), (757, 1), (775, 1), (829, 1), (865, 1), (878, 1), (886, 1), (919, 1), (931, 1), (948, 1), (1034, 1), (1055, 1), (1080, 1), (1107, 1), (1223, 1), (1234, 1), (1298, 1), (1301, 1), (1302, 2), (1345, 1), (1356, 1), (1380, 2), (1404, 1), (1430, 1), (1455, 1), (1575, 1), (1679, 1), (1697, 1), (1836, 1), (1842, 1), (1881, 1), (2033, 2), (2057, 1), (2180, 1), (2448, 1), (2605, 1), (2995, 1), (3022, 1), (3151, 1), (3398, 1), (3399, 1), (3400, 1), (3401, 1), (3402, 1), (3403, 1), (3404, 1), (3405, 1), (3406, 1), (3407, 1), (3408, 1), (3409, 1)], [(297, 1)], [(10, 1), (14, 1), (16, 1), (19, 1), (66, 1), (224, 1)], [(26, 3), (36, 1), (58, 1), (170, 1), (180, 1), (444, 1), (464, 1), (524, 1), (673, 1), (699, 1), (852, 1), (942, 1), (1214, 1)], [(8, 1), (35, 1), (45, 2), (66, 2), (130, 1), (186, 1), (189, 1)], [(8, 1), (45, 1), (48, 1), (483, 1)], [(24, 1), (46, 1)], [(20, 1), (29, 2), (45, 1), (59, 1), (63, 1), (64, 2), (71, 2), (74, 1), (75, 1), (86, 1), (91, 1), (100, 1), (101, 1), (111, 1), (116, 1), (133, 2), (177, 2), (179, 1), (208, 1), (253, 2), (316, 1), (330, 1), (361, 1), (409, 1), (426, 1), (444, 1), (445, 1), (463, 1), (473, 1), (549, 1), (775, 1), (834, 1), (856, 1), (1169, 1), (1594, 1), (1917, 1), (2439, 1), (2604, 1), (3410, 1)], [(9, 1), (23, 2), (24, 1), (31, 1), (33, 1), (46, 1), (70, 1), (88, 2), (101, 1), (447, 1), (622, 1), (711, 1), (746, 1), (3411, 1)], [(21, 1), (35, 1), (55, 2), (60, 3), (62, 1), (66, 1), (126, 1), (138, 1), (162, 1), (249, 1), (316, 1), (370, 2), (387, 1), (1006, 1), (1044, 1), (1312, 1)], [(20, 1), (55, 1), (78, 1), (96, 1), (548, 1)], [(9, 1), (12, 1), (15, 1), (27, 1), (33, 1), (72, 1), (73, 1), (94, 2), (107, 2), (111, 1), (117, 1), (131, 2), (162, 1), (198, 1), (253, 1), (254, 1), (397, 1), (434, 1), (466, 1), (539, 1), (622, 1), (651, 1)], [(17, 1), (20, 1), (35, 1), (39, 1), (44, 1), (45, 1), (58, 2), (62, 1), (66, 1), (82, 1), (94, 1), (127, 1), (145, 1), (170, 1), (286, 1), (490, 1), (548, 1), (673, 1), (852, 1), (1073, 1), (1323, 1)], [(30, 1), (77, 1), (98, 1), (326, 1), (476, 1), (666, 1), (1108, 1), (1286, 1)], [(19, 1), (23, 1), (26, 1), (598, 1), (869, 1)], [(12, 1), (20, 1), (24, 1), (35, 1), (46, 1), (66, 1), (125, 1), (162, 1), (470, 1), (613, 1), (1251, 1), (1580, 1)], [(12, 1), (19, 1), (21, 1), (29, 1), (48, 1), (64, 1), (110, 1), (212, 1), (256, 1), (364, 1), (569, 1), (832, 1), (2971, 1)], [(55, 1), (73, 1), (103, 1), (507, 1)], [(17, 1), (18, 1), (22, 1), (26, 1), (29, 1), (35, 1), (41, 1), (44, 1), (55, 2), (59, 1), (64, 1), (65, 1), (66, 1), (68, 1), (71, 2), (73, 1), (74, 1), (77, 1), (84, 1), (90, 2), (100, 1), (133, 2), (170, 1), (207, 1), (212, 2), (293, 1), (312, 1), (377, 2), (507, 1), (549, 1), (648, 1), (1004, 1), (1114, 1)], [(68, 1), (77, 1), (132, 1), (170, 1), (225, 1), (354, 1), (499, 1), (1303, 1), (3412, 1)], [(35, 1), (66, 1), (409, 1), (576, 1), (668, 1)], [(0, 1), (24, 1), (26, 3), (27, 1), (30, 2), (36, 2), (45, 1), (64, 1), (67, 1), (96, 1), (111, 1), (116, 1), (168, 1), (181, 2), (219, 1), (285, 1), (305, 1), (377, 1), (444, 1), (450, 1), (476, 2), (547, 1), (692, 1), (908, 2), (1229, 1), (2417, 1), (3413, 1)], [(45, 1), (84, 1), (132, 1), (312, 1), (1658, 1)], [(46, 1), (132, 1)], [(45, 1)], [(33, 1), (55, 1), (70, 1), (94, 1), (132, 1), (478, 1)], [(15, 1), (19, 1), (48, 1), (96, 1), (616, 1)], [(30, 1), (35, 1), (66, 1), (745, 1), (1021, 1), (3357, 1)], [(46, 1), (70, 1)], [(16, 1), (55, 3), (64, 1), (70, 1), (100, 1), (404, 1), (451, 1), (531, 1), (549, 1), (604, 1), (1275, 1)], [(31, 1), (46, 2), (132, 1)], [(45, 1)], [(29, 1), (33, 1), (261, 1)], [(12, 3), (13, 2), (15, 1), (18, 1), (19, 1), (20, 1), (30, 1), (45, 1), (98, 1), (102, 1), (103, 1), (106, 1), (133, 1), (148, 1), (261, 1), (323, 1), (333, 1), (354, 1), (425, 1), (432, 1), (473, 1), (504, 1), (557, 3), (568, 1), (594, 1), (656, 1), (1083, 1), (1145, 1), (1670, 1), (1731, 1), (1810, 1), (3414, 1), (3415, 1)], [(0, 1), (20, 1), (29, 1), (31, 1), (33, 1), (45, 2), (55, 1), (78, 1), (86, 1), (88, 1), (91, 1), (142, 1), (209, 1), (354, 1), (514, 1), (679, 1), (1149, 1), (1153, 1), (1989, 1), (2072, 1)], [(0, 1), (3, 1), (9, 1), (12, 1), (16, 1), (20, 1), (36, 1), (44, 1), (45, 1), (48, 1), (55, 3), (63, 1), (64, 3), (65, 1), (67, 1), (73, 1), (78, 1), (80, 1), (86, 1), (93, 1), (102, 1), (103, 1), (120, 2), (132, 1), (145, 4), (170, 2), (180, 1), (191, 3), (194, 1), (211, 1), (219, 1), (223, 1), (235, 1), (253, 1), (256, 2), (314, 1), (327, 1), (328, 1), (354, 1), (378, 1), (413, 1), (454, 1), (473, 1), (522, 1), (535, 1), (539, 1), (557, 1), (604, 2), (672, 1), (721, 1), (726, 1), (727, 1), (744, 1), (751, 3), (801, 1), (814, 1), (849, 1), (908, 1), (911, 2), (976, 1), (1047, 1), (1091, 1), (1121, 2), (1133, 1), (1150, 1), (1296, 1), (1884, 1), (2058, 1), (2562, 1), (2593, 1), (2816, 1), (2901, 1), (3416, 1), (3417, 1), (3418, 1)], [(46, 1), (64, 1)], [(35, 1), (46, 1)], [(13, 1), (55, 1), (70, 1), (94, 1), (211, 1), (304, 1), (528, 1), (1274, 1), (1648, 1), (3419, 1)], [(27, 1), (33, 1), (35, 1), (66, 1), (101, 1), (103, 1), (170, 1), (189, 1), (223, 1), (285, 1), (391, 1), (510, 1), (514, 1), (528, 1), (594, 1)], [(9, 1), (31, 1), (46, 1), (73, 1), (82, 1), (111, 1), (115, 1), (162, 1), (167, 1), (170, 1), (392, 1), (582, 1), (1001, 1), (1594, 1), (2353, 1), (3420, 1), (3421, 1), (3422, 1)], [(9, 1), (133, 1), (746, 1), (922, 1), (3423, 1)], [(0, 2), (8, 1), (9, 1), (12, 1), (14, 1), (20, 1), (23, 1), (26, 2), (30, 1), (55, 1), (66, 1), (68, 1), (72, 1), (77, 1), (84, 1), (86, 2), (88, 1), (91, 3), (93, 1), (94, 1), (98, 1), (99, 1), (100, 1), (102, 2), (103, 2), (104, 1), (107, 1), (143, 1), (145, 3), (170, 1), (186, 1), (189, 1), (215, 1), (261, 1), (373, 1), (405, 1), (476, 1), (545, 1), (613, 1), (627, 1), (642, 1), (822, 1), (2780, 1), (3242, 2), (3424, 2), (3425, 1)], [(3, 1), (26, 1), (93, 1), (96, 1), (195, 1), (273, 1), (276, 1), (397, 1), (509, 1), (998, 1)], [(55, 1), (73, 1), (170, 1), (272, 1), (311, 1)], [(116, 1), (132, 1), (296, 1), (523, 1), (867, 1), (1021, 1), (1437, 1), (1677, 1), (3426, 1), (3427, 1), (3428, 1)], [(45, 1), (132, 1)], [(15, 1), (19, 1), (36, 1), (45, 1), (55, 1), (60, 2), (63, 1), (64, 2), (71, 1), (72, 2), (78, 1), (91, 2), (162, 1), (271, 1), (273, 1), (328, 1), (438, 1), (521, 1), (563, 1), (607, 1), (648, 1), (679, 1), (927, 1), (998, 1), (1352, 1), (1425, 1), (1568, 1), (1881, 1), (3206, 1), (3246, 1), (3429, 1), (3430, 1), (3431, 1)], [(45, 1), (86, 1), (1338, 1)], [(12, 1), (16, 1), (26, 1), (30, 2), (31, 1), (35, 3), (55, 3), (64, 2), (66, 2), (80, 1), (98, 1), (109, 1), (120, 1), (151, 1), (160, 1), (170, 1), (181, 1), (197, 1), (208, 1), (261, 2), (311, 1), (425, 1), (447, 1), (452, 1), (535, 1), (549, 2), (642, 1), (690, 1), (886, 1), (908, 2), (927, 1), (1005, 1), (1151, 1), (2752, 1), (3432, 1), (3433, 1)], [(10, 1), (12, 1), (14, 1), (16, 1), (73, 1), (100, 1), (102, 1), (312, 1), (345, 1), (404, 1)], [(3, 2), (12, 1), (16, 1), (35, 2), (66, 2), (73, 1), (80, 1), (94, 1), (98, 1), (170, 1), (642, 1), (810, 1), (1657, 1), (1767, 1)], [(46, 1), (132, 1)], [(46, 1)], [(3, 1), (45, 1), (67, 1), (71, 1), (90, 1), (145, 1), (180, 1), (186, 2), (189, 1), (194, 1), (253, 1), (269, 1), (270, 1), (378, 1), (473, 1), (931, 1), (1064, 1), (1087, 1), (1456, 1)], [(12, 1), (41, 1), (73, 1), (100, 3), (101, 1), (132, 1), (152, 1), (223, 2), (392, 1), (473, 1), (549, 1), (558, 1), (692, 1), (1006, 1), (1258, 1), (3304, 1), (3434, 1)], [(70, 1), (82, 1), (803, 1), (3435, 1), (3436, 1)], [(13, 1), (90, 1), (105, 1), (535, 1), (854, 1)], [(46, 1)], [(45, 1), (132, 1), (392, 1)], [(45, 1), (64, 1), (931, 1)], [(35, 1), (66, 1), (94, 1), (3437, 1)], [(12, 1), (43, 1), (46, 1), (64, 1), (622, 1), (1315, 1)], [(12, 1), (50, 1), (96, 1), (354, 1)], [(9, 1), (13, 1), (15, 1), (19, 1), (21, 1), (27, 1), (29, 1), (48, 1), (90, 1), (103, 1), (158, 1), (627, 1), (692, 1), (1133, 1), (3438, 1)], [(8, 1), (13, 2), (26, 1), (45, 1), (55, 2), (57, 1), (94, 1), (102, 1), (327, 1), (425, 1), (467, 1), (1018, 1), (1104, 1), (1381, 1), (1706, 1), (1974, 1)], [(12, 1), (43, 1), (78, 1), (96, 2), (539, 1), (1212, 1), (1518, 1), (3439, 1)], [(35, 1), (55, 1), (64, 1), (70, 1), (94, 1), (102, 1), (111, 1), (392, 1), (549, 1), (1670, 1)], [(15, 1), (26, 1), (30, 1), (55, 2), (60, 1), (71, 1), (90, 1), (103, 1), (115, 1), (167, 1), (170, 1), (215, 1), (238, 1), (386, 1), (505, 1), (720, 1), (989, 1), (1274, 2), (1344, 1), (1452, 1), (3440, 1)], [(0, 1), (26, 1), (64, 1), (70, 1), (100, 1), (105, 1), (116, 1), (397, 1), (863, 1), (1190, 1)], [(0, 1), (3, 1), (20, 1), (27, 1), (44, 1), (55, 1), (78, 1), (126, 1), (249, 1), (251, 1), (253, 1)], [(12, 1), (20, 2), (30, 1), (43, 1), (66, 1), (94, 1), (98, 1), (126, 1), (214, 1), (249, 1), (315, 1), (377, 1), (668, 1), (746, 1), (803, 1), (856, 1), (1187, 1), (1362, 1), (3441, 1)], [(402, 1), (450, 1)], [(12, 1), (13, 2), (19, 2), (35, 2), (48, 1), (55, 1), (60, 1), (66, 2), (70, 1), (123, 1), (149, 1), (170, 1), (225, 1), (280, 1), (312, 1), (328, 1), (377, 1), (404, 1), (452, 1), (538, 1), (648, 1), (848, 1), (1460, 1), (1728, 1), (2574, 1), (3442, 1), (3443, 1)], [(6, 1), (12, 3), (20, 1), (27, 1), (50, 2), (55, 3), (58, 1), (66, 1), (67, 1), (77, 1), (88, 1), (99, 1), (100, 2), (111, 1), (115, 1), (125, 1), (169, 1), (170, 1), (183, 2), (197, 1), (261, 1), (313, 1), (371, 1), (388, 1), (459, 1), (616, 1), (831, 1), (2276, 1), (2392, 2), (3444, 1), (3445, 1)], [(16, 1), (44, 1), (71, 1), (86, 1), (90, 1), (211, 1), (863, 1)], [(12, 1), (20, 1), (35, 1), (45, 1), (71, 1), (74, 1), (75, 1), (100, 1), (102, 1), (137, 1), (662, 1), (1574, 1)], [(12, 1), (46, 1), (48, 1), (248, 1), (406, 1)], [(20, 3), (23, 1), (26, 1), (30, 1), (31, 1), (54, 1), (60, 2), (90, 1), (99, 1), (103, 1), (126, 1), (175, 1), (249, 1), (293, 1), (298, 1), (444, 1), (482, 1), (568, 1), (574, 2), (755, 1), (1011, 1), (1551, 1), (1594, 1), (3446, 1), (3447, 1)], [(96, 1)], [(10, 1), (13, 1), (16, 1), (24, 1), (29, 1), (33, 1), (149, 1)], [(16, 1), (19, 1), (20, 1), (27, 1), (30, 1), (36, 1), (48, 1), (80, 2), (81, 1), (145, 1), (222, 1), (389, 1), (425, 1), (563, 1), (1116, 1), (1214, 2), (1248, 2), (1508, 1), (1727, 1), (1942, 1), (2324, 1), (3448, 1), (3449, 1)], [(64, 1), (1364, 1)], [(6, 1), (35, 1), (46, 1), (611, 1)], [(9, 1), (46, 1), (73, 1), (90, 1)], [(0, 1), (12, 1), (15, 1), (48, 1), (55, 1), (73, 1), (170, 1), (765, 1)], [(185, 1)], [(35, 1), (66, 1), (105, 1), (189, 1), (1841, 1), (2864, 1)], [(70, 1), (105, 1)], [(8, 2), (30, 1), (55, 1), (93, 1), (96, 1), (98, 1), (412, 1), (464, 1), (3261, 1)], [(55, 1), (78, 1), (94, 1), (96, 1), (108, 1)], [(4, 1), (17, 1), (18, 2), (26, 1), (45, 1), (55, 1), (64, 1), (70, 1), (71, 1), (72, 2), (93, 1), (94, 1), (109, 1), (115, 1), (122, 1), (123, 1), (133, 1), (170, 2), (208, 1), (263, 1), (269, 1), (275, 1), (370, 1), (404, 1), (425, 1), (456, 1), (482, 1), (606, 1), (732, 1), (856, 1), (857, 1), (1144, 1), (1234, 1), (1254, 1), (1859, 1), (3450, 1)], [(3, 1), (16, 1), (19, 1), (45, 1), (68, 1), (77, 1), (94, 1), (145, 1), (191, 1), (356, 1), (364, 1), (370, 1), (563, 1)], [(26, 1), (33, 1), (101, 1), (152, 1), (170, 1)], [(11, 1), (12, 1), (43, 1), (46, 1), (48, 1), (55, 1), (100, 1), (927, 1)], [(15, 1), (20, 1), (26, 1), (33, 1), (46, 1), (55, 2), (60, 1), (67, 2), (71, 1), (111, 1), (132, 2), (133, 1), (216, 1), (249, 1), (251, 1), (253, 1), (269, 1), (290, 1), (293, 1), (312, 1), (315, 1), (354, 1), (363, 1), (438, 1), (442, 1), (1051, 1), (1212, 1), (1492, 1), (1575, 1), (3451, 1), (3452, 1), (3453, 1), (3454, 1), (3455, 1), (3456, 1)], [(12, 1), (15, 1), (26, 1), (43, 1), (48, 1), (82, 1), (99, 1), (115, 1), (177, 1)], [(130, 1), (132, 1)], [(46, 1), (132, 1), (223, 1)], [(26, 1), (46, 1)], [(9, 1), (130, 1), (133, 1), (293, 1)], [(64, 1), (86, 1), (96, 1), (545, 1), (717, 1), (3457, 1)], [(16, 1), (107, 1), (216, 1), (312, 1), (3095, 1)], [(12, 1), (46, 1), (53, 1), (102, 1), (211, 1), (539, 1), (598, 1), (721, 1), (1315, 1), (3458, 1), (3459, 1)], [(19, 1), (21, 1), (26, 1), (35, 1), (46, 1), (48, 1), (66, 1), (94, 1), (145, 1), (170, 1), (404, 1)], [(26, 1), (78, 1), (126, 1), (162, 1), (191, 1), (273, 1), (280, 1), (438, 1), (1155, 1), (2843, 1)], [(13, 1), (19, 1), (55, 1), (60, 1), (73, 1), (75, 1), (82, 1), (95, 1), (100, 1), (172, 1), (210, 1), (450, 1), (677, 1), (3460, 1), (3461, 1), (3462, 1)], [(12, 1), (46, 1), (66, 1), (564, 1), (2552, 1), (3463, 1), (3464, 1)], [(0, 1), (3, 1), (12, 1), (33, 1), (35, 1), (46, 2), (50, 1), (52, 1), (55, 1), (63, 1), (64, 1), (66, 1), (67, 1), (70, 1), (88, 2), (100, 1), (102, 1), (107, 1), (131, 1), (138, 1), (204, 1), (239, 1), (277, 1), (308, 1), (309, 1), (311, 1), (314, 1), (378, 1), (470, 1), (709, 1)], [(9, 1), (12, 1), (19, 1), (20, 1), (31, 1), (35, 2), (43, 2), (46, 2), (55, 1), (64, 1), (66, 2), (73, 1), (75, 1), (78, 1), (100, 1), (107, 1), (214, 1), (293, 1), (312, 1), (354, 1), (379, 1), (447, 1), (459, 1), (549, 1), (658, 1), (811, 1), (1550, 1), (2143, 1), (3465, 1)], [(20, 1), (55, 1), (126, 1), (273, 1)], [(12, 1), (15, 1), (46, 1)], [(45, 1), (66, 1), (102, 1), (273, 1), (482, 1), (489, 1)], [(46, 1), (60, 1), (64, 1), (210, 1), (459, 1), (475, 1)], [(8, 1), (18, 2), (20, 1), (31, 1), (55, 1), (63, 1), (78, 1), (94, 1), (180, 1), (189, 1), (456, 1), (514, 1), (531, 1), (773, 1), (1001, 1), (2694, 1)], [(63, 1)], [(9, 1), (33, 2), (60, 1), (68, 1), (77, 1), (138, 1), (139, 1), (152, 1), (312, 1), (475, 1), (488, 1), (499, 1), (1059, 1), (1400, 1)], [(9, 1), (60, 1), (63, 1), (101, 1), (170, 1), (312, 1), (3466, 1)], [(9, 1), (55, 1), (115, 1)], [(13, 1), (15, 1), (36, 1), (55, 1), (64, 1), (70, 1), (73, 1), (249, 1), (473, 1), (535, 1), (717, 1), (1794, 1), (3467, 1)], [(31, 1), (45, 1), (371, 1)], [(0, 1), (11, 1), (20, 2), (26, 1), (31, 1), (45, 1), (55, 1), (60, 1), (115, 1), (167, 1), (1286, 1), (3468, 1)], [(23, 1), (73, 1), (86, 1), (88, 1), (91, 1), (162, 1), (312, 1), (444, 1)], [(12, 1), (20, 1), (27, 1), (33, 1), (35, 1), (46, 1), (50, 1), (55, 2), (60, 1), (64, 1), (100, 3), (107, 1), (131, 1), (133, 1), (191, 3), (249, 1), (276, 1), (507, 1), (527, 1), (1118, 1), (1438, 1), (1489, 1), (2142, 1), (2246, 1)], [(12, 1), (48, 1), (149, 1)], [(0, 1), (26, 1), (31, 1), (35, 1), (45, 1), (55, 2), (59, 1), (64, 1), (66, 1), (90, 1), (103, 1), (115, 1), (142, 1), (186, 1), (191, 1), (211, 1), (239, 1), (293, 1), (305, 1), (452, 1), (514, 1), (755, 1), (765, 1), (1151, 1), (1200, 1), (2758, 1)], [(46, 1), (132, 1)], [(0, 1), (9, 1), (16, 1), (17, 1), (55, 2), (59, 1), (63, 1), (64, 1), (67, 1), (73, 1), (75, 1), (78, 2), (107, 1), (133, 1), (191, 2), (209, 1), (313, 1), (314, 1), (507, 1), (548, 1), (721, 1), (775, 1), (863, 1), (1006, 1), (1221, 1), (1235, 1), (1622, 1), (1716, 1), (2705, 1), (3469, 1), (3470, 1), (3471, 1)], [(18, 2), (20, 1), (35, 1), (45, 1), (55, 1), (66, 1), (71, 2), (73, 1), (115, 1), (189, 1), (320, 1), (549, 1), (1326, 1)], [(35, 1), (46, 1), (155, 1), (170, 1), (312, 1), (691, 1), (1438, 1)], [(35, 1), (66, 1), (188, 1), (2627, 1)], [(784, 1)], [(3, 1), (9, 1), (20, 2), (41, 1), (46, 1), (55, 1), (58, 1), (71, 1), (74, 1), (103, 1), (143, 1), (464, 1), (497, 1), (680, 1), (719, 1), (1325, 1), (1548, 1), (3102, 1)], [(45, 1), (132, 1)], [(82, 1), (132, 1), (582, 1), (1090, 1)], [(45, 1), (175, 1), (717, 1), (765, 1), (834, 1), (863, 1)], [(0, 1), (3, 1), (16, 1), (21, 1), (63, 1), (64, 1), (66, 1), (102, 1)], [(50, 1), (72, 1), (100, 1), (103, 1), (216, 1), (280, 1), (427, 1), (459, 1), (1828, 1), (3472, 1), (3473, 1)], [(0, 1), (315, 1)], [(35, 1), (72, 1), (80, 1), (385, 1), (776, 1), (2232, 1)], [(46, 1), (77, 1), (831, 1), (3474, 1)], [(3, 3), (10, 1), (13, 1), (16, 1), (17, 1), (19, 3), (20, 1), (25, 1), (26, 3), (36, 1), (39, 1), (41, 2), (44, 1), (58, 1), (64, 1), (66, 1), (68, 1), (70, 1), (74, 1), (77, 1), (79, 1), (94, 2), (99, 1), (100, 1), (101, 1), (102, 3), (108, 1), (112, 1), (133, 1), (145, 3), (158, 2), (162, 2), (200, 1), (214, 1), (221, 1), (251, 1), (256, 1), (261, 2), (268, 1), (269, 1), (273, 1), (275, 2), (316, 1), (328, 2), (359, 2), (361, 1), (374, 1), (378, 1), (384, 1), (392, 1), (394, 1), (415, 1), (444, 1), (465, 1), (527, 2), (539, 1), (627, 1), (668, 2), (835, 1), (848, 1), (855, 1), (871, 1), (927, 1), (1001, 1), (1002, 1), (1007, 1), (1099, 1), (1186, 1), (1580, 1), (1904, 1), (2419, 2), (2594, 1), (3475, 1), (3476, 1), (3477, 1), (3478, 1)], [(64, 1), (989, 1)], [(9, 1), (19, 1), (46, 1), (60, 1), (86, 1), (91, 2), (101, 1), (132, 1), (147, 1), (170, 1), (312, 1), (361, 1), (382, 1), (545, 1), (3479, 1)], [(19, 2), (55, 1), (59, 1), (60, 1), (73, 3), (145, 1), (223, 1), (228, 1), (354, 1), (613, 1)], [(66, 1), (856, 1), (3480, 1)], [(19, 1), (48, 1), (613, 1), (616, 1), (1215, 1)], [(10, 1), (16, 1), (149, 1), (3057, 1)], [(55, 1), (75, 1)], [(63, 1), (64, 1), (170, 1), (280, 1), (438, 1)], [(130, 1)], [(8, 1), (12, 1), (23, 1), (26, 1), (28, 1), (31, 1), (60, 1), (75, 1), (77, 1), (82, 1), (94, 1), (102, 1), (103, 1), (111, 1), (148, 1), (249, 1), (496, 1), (976, 1), (1212, 1), (2020, 1), (2252, 1), (3481, 1), (3482, 1)], [(0, 1), (12, 1), (46, 1), (102, 1), (132, 1), (315, 1)], [(59, 1), (75, 1), (82, 1), (96, 1), (132, 1), (276, 1), (776, 1)], [(9, 1), (13, 1), (15, 1), (19, 1), (21, 1), (35, 1), (46, 1), (54, 1), (60, 1), (63, 1), (66, 1), (90, 1), (152, 1), (158, 1), (249, 1), (253, 1), (440, 1), (717, 1), (2111, 1), (2782, 1)], [(60, 1), (101, 1), (170, 1), (216, 1), (312, 1), (1864, 1)], [(45, 1), (132, 1)], [(12, 1), (13, 1), (14, 1), (55, 2), (78, 1), (116, 1), (407, 1), (871, 1), (1153, 1)], [(0, 1), (3, 1), (55, 2), (94, 1), (106, 1), (184, 1), (261, 1), (3378, 1), (3483, 1), (3484, 1)], [(18, 1), (36, 1), (101, 1), (170, 1), (476, 1), (531, 1), (547, 1), (549, 1), (576, 1), (927, 2)], [(9, 1), (19, 1), (21, 1), (26, 1), (30, 1), (44, 1), (55, 2), (60, 2), (82, 2), (98, 1), (100, 1), (120, 1), (133, 1), (170, 1), (181, 1), (205, 1), (212, 1), (253, 1), (312, 1), (354, 1), (465, 1), (513, 1), (775, 1), (1128, 1), (1702, 1), (1711, 1), (3261, 1)], [(12, 2), (19, 1), (68, 1), (77, 1), (99, 1), (101, 1), (107, 1), (198, 1), (361, 1), (482, 1), (585, 1), (588, 1), (726, 1), (873, 1), (932, 1), (3009, 1), (3485, 1), (3486, 1)], [(26, 1), (46, 1), (55, 2), (507, 1)], [(11, 1), (20, 2), (23, 1), (36, 1), (55, 1), (73, 1), (438, 1), (1212, 1), (1518, 1), (1961, 1), (3487, 1), (3488, 1), (3489, 1)], [(13, 2), (19, 1), (43, 1), (55, 1), (58, 1), (86, 1), (177, 1), (225, 1), (249, 1), (276, 1), (539, 1), (950, 1), (1151, 1), (1204, 1)], [(290, 1), (989, 1)], [(33, 1), (46, 1), (64, 1), (66, 1), (73, 1), (129, 1), (133, 1), (856, 1)], [(0, 1), (30, 1), (45, 1), (48, 1), (60, 1), (102, 1), (107, 1), (128, 1), (145, 1), (181, 1), (186, 1), (210, 1), (908, 1), (1038, 1), (1286, 1)], [(13, 1), (17, 1), (19, 1), (48, 1), (64, 2), (66, 1), (74, 1), (160, 1), (531, 2)], [(6, 1), (31, 1), (46, 2), (132, 1)], [(31, 1), (45, 2), (132, 1), (1315, 1)], [(0, 1), (23, 1), (25, 1), (26, 1), (33, 1), (65, 1), (71, 1), (131, 1), (133, 1), (145, 1), (527, 1)], [(20, 1), (21, 1), (29, 1), (103, 1), (111, 1), (132, 1), (142, 1), (606, 1), (3049, 1)], [(184, 1)], [(9, 1), (20, 1), (55, 1), (68, 1), (77, 1), (290, 1), (783, 1), (2989, 1)], [(0, 1), (3, 1), (12, 1), (21, 1), (23, 1), (31, 1), (46, 1), (48, 1), (68, 1), (77, 1), (91, 1), (100, 1), (101, 1), (102, 1), (148, 1), (208, 1), (310, 1)], [(8, 3), (18, 1), (20, 1), (26, 6), (30, 5), (35, 4), (36, 2), (39, 1), (42, 1), (48, 1), (55, 5), (57, 1), (59, 1), (60, 2), (64, 2), (65, 1), (66, 4), (70, 1), (88, 2), (94, 1), (98, 1), (102, 1), (133, 1), (145, 1), (148, 1), (170, 1), (180, 1), (184, 1), (191, 1), (197, 2), (202, 1), (220, 1), (227, 1), (235, 1), (241, 1), (255, 1), (267, 1), (320, 1), (354, 1), (371, 1), (373, 1), (385, 2), (443, 1), (456, 1), (464, 2), (528, 1), (549, 1), (556, 1), (574, 1), (586, 4), (677, 1), (691, 1), (751, 1), (765, 1), (814, 2), (821, 1), (865, 2), (919, 1), (958, 1), (1088, 1), (1214, 2), (1229, 1), (1296, 1), (1452, 1), (1496, 1), (1561, 4), (2004, 2), (2615, 1), (2777, 1), (3208, 1), (3309, 1), (3490, 2), (3491, 2), (3492, 1), (3493, 1), (3494, 1), (3495, 1), (3496, 1), (3497, 1), (3498, 2)], [(3, 1), (12, 1), (14, 1), (16, 1), (17, 1), (41, 1), (45, 1), (55, 1), (62, 1), (65, 1), (66, 1), (67, 1), (78, 1), (80, 1), (102, 1), (122, 1), (133, 1), (167, 1), (190, 1), (272, 1), (314, 2), (339, 1), (451, 1), (671, 1), (684, 1), (726, 1), (730, 1), (883, 1), (1198, 1), (1248, 1), (1670, 1), (3499, 1), (3500, 1), (3501, 1)], [(8, 1), (26, 1), (30, 1), (35, 1), (48, 2), (66, 2), (78, 1), (88, 1), (90, 1), (99, 1), (130, 1), (145, 2), (189, 1), (316, 1), (377, 1), (425, 1), (1262, 1), (1989, 2), (2072, 2), (3150, 1), (3502, 1), (3503, 1)], [(9, 1), (12, 1), (20, 1), (50, 1), (55, 2), (64, 1), (67, 1), (100, 1), (102, 1), (312, 2), (927, 1), (1610, 1), (3504, 1)], [(9, 1), (12, 1), (13, 2), (19, 2), (45, 2), (48, 1), (55, 1), (59, 1), (65, 1), (66, 1), (71, 1), (80, 2), (105, 1), (119, 1), (121, 2), (128, 1), (133, 1), (189, 1), (389, 1), (514, 1), (517, 1), (684, 1), (947, 1), (1111, 1), (1229, 1)], [(3, 1), (9, 1), (19, 2), (27, 1), (35, 3), (36, 1), (45, 2), (48, 1), (55, 2), (66, 2), (82, 1), (100, 1), (103, 1), (116, 1), (134, 1), (145, 3), (170, 1), (204, 1), (211, 1), (222, 1), (251, 1), (290, 1), (311, 1), (378, 1), (404, 1), (425, 1), (535, 1), (717, 1), (814, 1), (822, 1), (1026, 1), (1055, 1), (1214, 2), (1329, 1), (1404, 1), (3505, 1), (3506, 1)], [(16, 1), (20, 1), (60, 1), (74, 1), (75, 2), (325, 1), (1941, 1), (2049, 1)], [(20, 2), (23, 1), (26, 1), (46, 1), (55, 4), (59, 1), (63, 1), (66, 1), (70, 1), (78, 1), (99, 1), (109, 1), (111, 1), (125, 1), (191, 1), (238, 1), (239, 1), (285, 1), (290, 1), (354, 1), (374, 1), (378, 1), (404, 1), (407, 1), (549, 1), (604, 1), (627, 1), (668, 1), (717, 1), (1519, 1), (2584, 1), (2941, 1), (3507, 1), (3508, 1)], [(26, 1), (35, 1), (55, 1), (72, 1), (103, 1), (549, 1)], [(17, 1), (26, 1), (67, 1), (109, 1), (170, 1), (371, 1), (1124, 1)], [(12, 1), (15, 1), (30, 1), (35, 1), (46, 2), (53, 1), (55, 3), (64, 1), (66, 1), (71, 1), (94, 1), (96, 1), (98, 1), (100, 2), (101, 1), (116, 1), (128, 1), (138, 1), (149, 1), (170, 1), (189, 1), (202, 1), (311, 1), (365, 1), (452, 1), (528, 1), (796, 1), (3509, 1)], [(35, 1), (45, 1)], [(31, 1), (71, 1), (130, 1), (549, 1)], [(31, 1), (45, 1), (96, 1), (170, 1), (276, 1), (776, 1), (922, 1)], [(6, 1), (63, 1), (437, 1), (595, 1), (622, 1), (725, 1), (1894, 1), (2422, 1), (3510, 1)], [(9, 1), (12, 3), (18, 1), (19, 2), (45, 1), (50, 1), (71, 1), (72, 2), (73, 1), (103, 1), (107, 1), (121, 1), (132, 1), (133, 2), (178, 1), (198, 2), (210, 1), (215, 1), (219, 1), (239, 1), (256, 1), (257, 1), (261, 4), (389, 1), (465, 1), (588, 1), (699, 1), (865, 1), (982, 1), (1021, 2), (1150, 1), (1193, 1), (1214, 1), (1251, 1), (1257, 1), (2277, 1), (3511, 1), (3512, 1), (3513, 1), (3514, 1), (3515, 1), (3516, 1)], [(13, 2), (33, 1), (152, 1), (394, 1), (1108, 1)], [(19, 1), (46, 1), (145, 1)], [(46, 1)], [(8, 1), (11, 2), (13, 1), (23, 1), (55, 1), (60, 1), (107, 1), (152, 1), (179, 1), (239, 1), (507, 1), (617, 1)], [(402, 1), (848, 1)], [(8, 1), (12, 1), (17, 1), (19, 1), (20, 2), (26, 2), (29, 1), (45, 1), (48, 1), (64, 1), (71, 3), (72, 1), (91, 1), (96, 1), (100, 1), (107, 1), (111, 1), (145, 1), (147, 1), (148, 1), (161, 1), (167, 1), (169, 1), (170, 1), (191, 1), (228, 1), (275, 1), (299, 1), (316, 1), (340, 1), (504, 1), (548, 1), (591, 3), (692, 1), (717, 1), (872, 1), (878, 1), (1006, 1), (1079, 1), (1400, 1), (1430, 1), (1487, 1), (1542, 1), (2004, 1), (3335, 1), (3492, 1), (3517, 1), (3518, 1), (3519, 1), (3520, 1)], [(223, 1), (3521, 1), (3522, 1)], [(8, 1), (15, 1), (30, 1), (33, 1), (48, 1), (111, 1), (131, 1), (133, 1), (145, 1), (510, 1), (563, 1), (613, 1), (883, 1)], [(15, 1), (48, 1), (55, 1), (68, 1), (77, 1), (80, 1), (100, 1), (133, 1), (211, 1), (249, 1), (356, 1), (392, 1), (438, 1), (1221, 1), (1344, 1)], [(46, 1), (132, 1)], [(31, 1), (132, 1), (185, 1), (514, 1)], [(4, 1), (11, 1), (55, 2), (65, 1), (68, 1), (77, 1), (78, 1), (100, 1), (102, 1), (115, 1), (122, 1), (185, 1), (442, 1), (648, 1), (848, 1), (870, 1), (2000, 1), (3523, 1), (3524, 1), (3525, 1)], [(3, 1), (10, 1), (12, 2), (16, 1), (20, 1), (26, 2), (30, 1), (33, 1), (45, 1), (55, 1), (96, 2), (98, 1), (100, 2), (111, 1), (129, 1), (142, 1), (162, 2), (171, 1), (211, 1), (253, 1), (261, 1), (293, 2), (298, 1), (488, 1), (514, 1), (850, 1), (1121, 1), (1457, 2), (1769, 1)], [(9, 1), (12, 1), (16, 2), (19, 1), (20, 1), (23, 1), (25, 2), (26, 1), (39, 1), (43, 1), (44, 2), (60, 1), (67, 1), (75, 1), (94, 1), (99, 1), (107, 1), (133, 1), (285, 1), (473, 1), (498, 1), (537, 1), (737, 1), (813, 2), (1004, 1), (1034, 1), (1260, 1), (1532, 1), (1686, 1), (1837, 1), (2676, 1), (3526, 1), (3527, 1), (3528, 2), (3529, 2), (3530, 1), (3531, 1)], [(16, 1), (19, 1), (29, 1), (33, 1), (48, 1), (53, 1), (55, 1), (68, 1), (77, 1), (111, 1), (117, 1), (315, 1), (392, 1), (1274, 1), (3532, 1)], [(3, 1), (35, 1), (66, 1), (1648, 1), (2151, 2)], [(3, 1), (20, 1), (29, 1), (30, 2), (33, 1), (55, 2), (59, 1), (68, 1), (73, 4), (77, 1), (83, 1), (101, 2), (137, 1), (145, 1), (158, 1), (312, 1), (434, 1), (440, 1), (444, 1), (445, 1), (447, 1), (477, 1), (482, 2), (496, 1), (549, 1), (613, 1), (789, 1), (825, 1), (1359, 1), (1463, 2), (1487, 1), (1677, 1)], [(27, 1), (29, 1), (33, 1), (35, 1), (46, 1), (48, 1), (55, 1), (64, 2), (74, 1), (100, 1), (103, 1), (108, 1), (138, 1), (143, 1), (186, 1), (293, 1), (316, 1), (354, 1), (378, 1), (400, 1), (507, 1), (518, 1), (683, 1), (767, 1), (1212, 1), (1478, 1), (2382, 1), (2384, 1), (2386, 1), (3533, 1)], [(35, 1), (45, 1), (55, 1), (66, 1), (100, 1), (507, 1)], [(12, 1), (22, 1), (27, 1), (35, 1), (66, 2), (71, 1), (72, 1), (104, 1), (174, 1), (189, 1), (354, 1), (451, 1), (527, 1), (580, 1), (859, 1), (897, 1), (940, 1), (2354, 1)], [(46, 1), (102, 1)], [(364, 1)], [(10, 1), (16, 1), (21, 1), (41, 1), (45, 1), (48, 1), (64, 1), (80, 1), (103, 1), (179, 1), (269, 1), (275, 1), (277, 1), (531, 1), (539, 1), (560, 1), (572, 1), (598, 1), (1029, 1), (1235, 1), (3534, 1)], [(63, 1), (64, 1), (67, 1), (74, 1), (75, 1), (385, 1)], [(68, 1), (77, 1), (99, 1), (873, 1), (943, 1), (1092, 1)], [(94, 1)], [(19, 1), (48, 1), (55, 1), (58, 1), (100, 2), (137, 1), (177, 1), (211, 1), (241, 1), (539, 1), (549, 1), (1460, 1)], [(31, 1), (45, 1), (67, 1), (73, 1), (74, 1), (75, 1), (214, 1), (295, 1), (531, 1), (547, 1), (669, 1), (938, 1), (944, 1), (2415, 1)], [(55, 1), (73, 1), (130, 1), (132, 1), (147, 1), (1463, 1), (2203, 1)], [(46, 1), (132, 1), (162, 1), (392, 1)], [(0, 1), (3, 1), (20, 1), (26, 2), (48, 1), (55, 1), (100, 1), (102, 1), (133, 1), (145, 1), (311, 1), (365, 1), (527, 1)], [(12, 2), (26, 1), (33, 1), (46, 1), (64, 1), (66, 1), (129, 1), (132, 1), (133, 1), (145, 2), (290, 1), (563, 1), (883, 1)], [(45, 1), (55, 1), (63, 1), (108, 1), (166, 1), (206, 1), (476, 1), (514, 1), (976, 1)], [(31, 1), (46, 1), (53, 1), (74, 1), (101, 1), (132, 2), (548, 1), (709, 1), (725, 1), (804, 1)], [(63, 1), (70, 1), (94, 1)], [(9, 1), (41, 1), (54, 1), (82, 1), (125, 1), (133, 1), (139, 1), (238, 1), (1185, 1), (2004, 1), (2149, 1)], [(46, 1), (132, 1), (862, 1)], [(96, 1)], [(12, 1), (15, 1), (20, 1), (26, 1), (43, 1), (53, 1), (55, 1), (64, 1), (66, 1), (67, 2), (70, 1), (88, 1), (96, 1), (105, 1), (106, 1), (118, 1), (427, 1), (531, 1), (604, 1), (633, 1), (847, 1), (1702, 1)], [(46, 1)], [(8, 1), (11, 1), (23, 2), (35, 3), (36, 2), (44, 1), (55, 2), (66, 3), (71, 1), (72, 1), (73, 1), (82, 1), (88, 1), (96, 1), (103, 2), (133, 1), (186, 1), (261, 2), (273, 1), (316, 1), (374, 1), (378, 2), (442, 1), (463, 1), (482, 1), (750, 1), (757, 1), (796, 1), (1214, 1), (1399, 1), (3102, 1), (3369, 1), (3535, 1), (3536, 1)], [(0, 1), (3, 1), (12, 1), (46, 1), (64, 1), (102, 1)], [(152, 1), (249, 1), (1580, 1)], [(227, 1), (312, 1), (425, 1), (658, 1), (3537, 1), (3538, 1)], [(103, 1)], [(46, 1), (132, 1)], [(48, 1), (70, 1), (77, 1), (326, 1), (404, 1)], [(3, 2), (4, 1), (12, 2), (20, 1), (50, 2), (55, 3), (73, 1), (82, 1), (158, 1), (170, 2), (180, 1), (249, 1), (263, 1), (278, 1), (365, 1), (404, 1), (431, 1), (434, 1), (482, 1), (522, 1), (582, 1), (596, 1), (865, 2), (914, 1), (923, 1), (1539, 1), (2368, 1)], [(0, 1), (3, 1), (20, 1), (27, 1), (30, 1), (35, 1), (36, 2), (45, 1), (52, 1), (55, 2), (63, 4), (64, 4), (66, 3), (68, 2), (70, 1), (73, 1), (77, 2), (82, 1), (86, 4), (88, 2), (91, 9), (94, 3), (96, 2), (98, 1), (100, 1), (101, 1), (111, 1), (116, 1), (121, 1), (138, 1), (144, 1), (158, 1), (170, 1), (171, 1), (189, 1), (197, 1), (202, 1), (217, 1), (221, 1), (224, 1), (243, 1), (277, 1), (305, 1), (314, 2), (317, 1), (320, 1), (345, 1), (438, 1), (444, 1), (447, 2), (488, 1), (499, 1), (527, 1), (606, 1), (626, 1), (694, 1), (719, 1), (787, 1), (863, 1), (1229, 3), (1430, 1), (2042, 4), (2240, 1), (2827, 1), (3186, 1), (3539, 1), (3540, 2)], [(19, 1), (44, 1), (46, 1), (63, 1), (64, 1), (84, 1), (105, 1), (265, 1), (867, 1), (932, 1)], [(0, 1), (9, 1), (13, 1), (20, 1), (102, 1), (214, 1)], [(13, 1), (26, 1), (30, 1), (33, 1), (74, 1), (101, 1), (131, 1), (132, 1), (148, 1), (152, 1), (155, 1), (157, 1), (161, 1), (249, 1), (499, 1), (595, 1), (803, 1)], [(0, 1), (12, 1), (15, 1), (102, 1)], [(9, 1), (31, 1), (33, 1), (35, 1), (45, 1), (48, 1), (55, 1), (64, 1), (95, 1), (100, 1), (131, 1), (132, 1), (152, 1), (178, 1), (186, 1), (197, 1), (217, 2), (249, 1), (273, 1), (274, 1), (295, 1), (300, 1), (312, 1), (345, 1), (354, 1), (415, 1), (424, 1), (476, 1), (482, 1), (531, 1), (690, 1), (711, 1), (811, 1), (820, 1), (903, 1), (927, 1), (981, 1), (1361, 1), (1385, 1), (1423, 1), (3541, 1), (3542, 1)], [(4, 1), (23, 1), (63, 1), (64, 1), (71, 1), (356, 1), (444, 1), (922, 1), (1366, 1)], [(12, 1), (17, 1), (20, 1), (33, 1), (50, 1), (55, 1), (63, 1), (64, 2), (65, 1), (100, 3), (131, 1), (132, 1), (133, 1), (177, 1), (211, 1), (280, 1), (298, 1), (314, 1), (315, 1), (353, 1), (463, 1), (514, 1), (587, 1), (607, 1), (1187, 1), (1630, 1), (2604, 1), (2730, 1), (3462, 1)], [(63, 1), (80, 1), (94, 1), (109, 1)], [(46, 1), (64, 1)], [(9, 1), (20, 2), (46, 1), (62, 1), (71, 1), (74, 1), (465, 1), (721, 1), (3543, 1)], [(0, 1), (12, 1), (64, 1), (68, 1), (77, 1), (622, 1), (3544, 1)], [(6, 1), (45, 1), (82, 1), (106, 1), (989, 1)], [(9, 1), (12, 1), (13, 1), (26, 1), (48, 1), (55, 1), (64, 1), (82, 1), (96, 1), (100, 1), (145, 1), (312, 1), (468, 1), (470, 1), (1431, 1)], [(16, 1), (44, 1), (55, 1), (60, 1), (108, 1), (255, 1), (267, 1), (312, 1), (325, 1)], [(10, 1), (16, 1), (19, 1), (21, 1), (101, 1), (249, 1), (726, 1), (2863, 1)], [(73, 1), (96, 1), (100, 1), (101, 1)], [(31, 1), (46, 1), (63, 1), (64, 1)], [(12, 1), (35, 1), (55, 2), (79, 1), (84, 1), (100, 1), (102, 1), (205, 1), (371, 1), (477, 1), (497, 1), (604, 1), (883, 1), (1121, 1), (2015, 1), (2710, 1)], [(96, 1), (219, 1), (354, 1), (392, 1), (3545, 2)], [(25, 1), (29, 1), (33, 1), (99, 1), (100, 1), (499, 1)], [(13, 1), (26, 1), (33, 1), (99, 1), (152, 1), (170, 1), (3256, 1)], [(96, 1), (545, 1)], [(0, 1), (3, 1), (9, 1), (12, 3), (21, 1), (36, 1), (39, 1), (45, 1), (50, 2), (53, 1), (55, 1), (58, 1), (65, 1), (66, 1), (75, 1), (80, 1), (90, 1), (100, 1), (102, 2), (107, 1), (121, 2), (126, 1), (127, 1), (142, 1), (145, 2), (150, 1), (158, 1), (180, 1), (183, 1), (198, 1), (208, 1), (210, 1), (268, 1), (269, 1), (365, 1), (389, 1), (464, 1), (465, 1), (468, 1), (476, 1), (504, 2), (511, 1), (527, 1), (549, 1), (626, 1), (674, 1), (704, 1), (721, 1), (764, 1), (807, 1), (1371, 1), (1587, 1), (1725, 1), (2046, 1), (2168, 1), (2637, 1), (3546, 1), (3547, 1), (3548, 1), (3549, 1)], [(46, 1), (55, 1), (63, 1), (64, 1), (70, 1), (80, 1), (529, 1)], [(26, 1), (48, 1), (77, 1), (326, 1), (520, 1)], [(19, 1), (46, 1), (52, 1), (64, 2), (71, 1), (115, 1), (477, 1), (1229, 1), (1560, 1), (3550, 1)], [(33, 1), (152, 1)], [(12, 1), (33, 1), (35, 2), (39, 1), (57, 1), (66, 1), (72, 1), (96, 1), (101, 1), (161, 1), (197, 1), (361, 1), (385, 1), (497, 1), (950, 1), (1236, 1), (1381, 1), (3099, 1), (3551, 1)], [(0, 1), (10, 1), (20, 1), (26, 1), (33, 1), (55, 1), (64, 1), (68, 1), (77, 1), (144, 1), (152, 1), (166, 1), (225, 1), (496, 1), (539, 1), (850, 1), (1062, 1)], [(23, 1), (26, 1), (31, 1), (36, 1), (54, 1), (1192, 1), (3299, 1), (3552, 1)], [(23, 1), (26, 2), (35, 1), (55, 3), (94, 1), (96, 1), (100, 1), (1640, 1), (2496, 1)], [(9, 1), (12, 1), (55, 3), (59, 1), (64, 1), (66, 1), (78, 1), (171, 1), (187, 1), (214, 1), (293, 1), (394, 1), (482, 2), (726, 1), (927, 1), (960, 1), (1411, 1), (1429, 1), (1799, 1), (3553, 1)], [(45, 1), (174, 1), (514, 1), (3554, 1)], [(9, 1), (12, 1), (19, 1), (20, 1), (55, 1), (59, 1), (64, 1), (70, 1), (71, 1), (82, 1), (100, 2), (116, 1), (118, 1), (123, 1), (170, 1), (280, 1), (312, 1), (354, 1), (392, 1), (435, 1), (557, 1), (563, 1), (616, 1), (726, 1), (834, 1), (1364, 1)], [(12, 2), (19, 1), (27, 1), (43, 1), (46, 1), (64, 1), (71, 1), (88, 1), (96, 1), (101, 1), (197, 1), (228, 1), (354, 1), (361, 1), (451, 1), (613, 1), (616, 1), (1227, 1)], [(46, 1), (132, 1)], [(13, 1), (16, 1), (21, 1), (48, 1), (82, 1), (86, 1), (90, 1), (91, 1), (470, 1), (549, 1)], [(64, 1)], [(9, 1), (30, 1), (55, 1), (63, 1), (64, 1), (65, 1), (71, 2), (74, 1), (75, 1), (82, 1), (91, 2), (170, 2), (191, 1), (276, 1), (392, 1), (444, 1), (642, 1), (1202, 2), (1799, 1), (1837, 1), (1945, 1), (3555, 1), (3556, 1), (3557, 1)], [(437, 1), (725, 1)], [(30, 1), (55, 1), (64, 1), (68, 1), (73, 1), (84, 1), (99, 1), (143, 1), (170, 1), (385, 1), (473, 1), (548, 1), (569, 1), (709, 1), (955, 1), (3092, 1), (3139, 1)], [(63, 1), (64, 1)], [(0, 1), (3, 1), (535, 1), (814, 1)], [(19, 1), (35, 1), (48, 1), (130, 1), (564, 1), (616, 1)], [(13, 1), (15, 1), (48, 1), (94, 1)], [(0, 1), (3, 1), (26, 1), (55, 1), (106, 1), (115, 1), (444, 1)], [(0, 1), (16, 1), (46, 1), (102, 1), (162, 1)], [(0, 1), (18, 1), (20, 2), (26, 1), (55, 1), (106, 1), (404, 1), (451, 1), (677, 1)], [(23, 1), (26, 1), (36, 1), (55, 1), (68, 1), (77, 1), (170, 1), (311, 1)], [(10, 1), (16, 1), (52, 1), (115, 1), (1170, 1)], [(12, 1), (35, 1), (45, 1), (70, 1), (557, 1), (1286, 1), (3558, 1)], [(9, 2), (20, 1), (46, 1), (65, 1), (84, 1), (100, 1), (132, 2), (142, 1), (172, 1), (178, 1), (210, 1), (234, 1), (273, 1), (427, 1), (463, 1), (482, 3), (574, 3), (743, 1), (856, 1), (1066, 1), (1144, 1), (1234, 1), (1254, 2), (1358, 1), (1542, 1), (1574, 1), (2345, 1), (2411, 1), (2513, 1), (2638, 1), (2930, 1), (3151, 1), (3559, 1), (3560, 1), (3561, 1), (3562, 1)], [(9, 1), (10, 1), (12, 3), (14, 1), (18, 1), (19, 1), (20, 2), (33, 2), (36, 2), (46, 1), (50, 2), (53, 1), (55, 3), (63, 1), (64, 1), (66, 1), (67, 1), (68, 1), (71, 1), (72, 1), (73, 3), (75, 1), (77, 1), (101, 1), (103, 1), (107, 1), (110, 1), (111, 1), (115, 1), (131, 2), (132, 5), (133, 3), (145, 1), (169, 1), (170, 2), (178, 1), (186, 1), (197, 1), (202, 1), (206, 1), (214, 2), (215, 1), (224, 1), (239, 1), (312, 1), (348, 1), (363, 1), (378, 1), (381, 1), (387, 1), (389, 1), (405, 1), (425, 1), (442, 1), (443, 1), (475, 1), (488, 1), (496, 1), (513, 1), (548, 1), (560, 1), (607, 1), (615, 1), (630, 1), (757, 1), (817, 1), (848, 1), (890, 1), (927, 1), (982, 1), (1510, 1), (1557, 1), (1686, 1), (1841, 1), (2264, 1), (2535, 1), (3563, 1), (3564, 1)], [(31, 1), (45, 2), (132, 1)], [(19, 1), (44, 1), (100, 1), (126, 1), (127, 1), (198, 1), (280, 1), (346, 1), (447, 1), (572, 1), (831, 1), (963, 1), (1221, 1), (2468, 1), (3565, 1)], [(12, 1), (392, 1)], [(45, 1), (132, 1)], [(46, 1), (132, 1), (502, 1), (503, 1), (803, 1)], [(46, 1), (55, 1), (147, 1), (431, 1), (434, 1), (865, 1), (1007, 2)], [(3, 1), (9, 1), (16, 1), (20, 2), (26, 3), (27, 1), (31, 1), (36, 1), (44, 1), (45, 1), (53, 1), (54, 1), (55, 2), (59, 1), (63, 1), (64, 2), (70, 1), (71, 1), (77, 1), (82, 1), (86, 1), (91, 1), (94, 1), (100, 2), (107, 1), (116, 1), (125, 1), (149, 1), (206, 1), (210, 1), (214, 2), (223, 1), (249, 1), (261, 1), (269, 1), (296, 1), (353, 1), (407, 1), (421, 1), (444, 1), (452, 1), (514, 1), (522, 1), (528, 1), (668, 2), (732, 1), (907, 1), (989, 1), (1021, 2), (1136, 1), (1225, 1), (1439, 1), (1550, 1), (1575, 1), (1882, 1), (3067, 1), (3566, 1), (3567, 1)], [(9, 2), (18, 1), (20, 1), (31, 1), (93, 1), (100, 1), (101, 1), (167, 1), (305, 1), (456, 1), (720, 1), (725, 1)], [(11, 1), (18, 2), (35, 1), (53, 1), (55, 1), (70, 1), (71, 1), (78, 1), (107, 1), (170, 1), (183, 1), (211, 2), (216, 1), (365, 1), (371, 1), (423, 1), (446, 1), (528, 1), (668, 1), (1315, 1), (1779, 1), (3568, 1)], [(1664, 1)], [(0, 1), (25, 1), (27, 1), (33, 1), (53, 1), (98, 1), (99, 1), (100, 1), (101, 1), (186, 1), (261, 1), (277, 1), (365, 1), (387, 1), (415, 1), (449, 1), (528, 2), (2078, 1)], [(12, 1), (27, 1), (111, 1), (406, 1), (468, 1), (576, 1), (822, 1), (1598, 1), (3569, 1)], [(0, 1), (4, 1), (9, 1), (11, 1), (12, 1), (13, 1), (18, 1), (20, 1), (31, 1), (36, 1), (44, 1), (45, 1), (54, 1), (55, 1), (66, 2), (67, 1), (70, 2), (72, 1), (74, 1), (75, 1), (78, 1), (82, 1), (86, 1), (90, 2), (91, 1), (100, 1), (101, 2), (102, 1), (103, 1), (107, 3), (132, 1), (143, 1), (170, 1), (184, 1), (186, 1), (211, 2), (221, 1), (253, 1), (268, 1), (370, 1), (377, 1), (444, 1), (459, 1), (574, 1), (596, 1), (894, 1), (1007, 1), (1346, 1), (1581, 1), (1653, 1), (1974, 1), (2042, 1), (2388, 1), (3570, 1), (3571, 1)], [(13, 1), (16, 1), (17, 1), (18, 1), (19, 1), (20, 1), (39, 1), (44, 1), (48, 1), (55, 1), (64, 2), (73, 2), (74, 1), (107, 1), (312, 1), (353, 1), (540, 1), (549, 1), (607, 1), (2930, 1)], [(45, 1), (115, 1)], [(17, 1), (35, 1), (45, 1), (74, 1)], [(29, 1), (31, 1), (39, 1), (45, 1), (46, 1), (100, 1), (132, 1), (249, 1), (776, 1), (3397, 1)], [(23, 1), (35, 1), (36, 1), (66, 1), (88, 1), (100, 1), (138, 1), (149, 1), (328, 1), (547, 1), (673, 1), (726, 1), (3572, 1)], [(8, 1), (9, 3), (13, 1), (16, 1), (23, 1), (25, 1), (30, 1), (45, 2), (74, 1), (98, 1), (100, 1), (101, 1), (143, 1), (147, 2), (152, 3), (167, 1), (170, 2), (191, 1), (239, 1), (261, 1), (370, 1), (447, 1), (451, 1), (482, 4), (518, 1), (574, 1), (717, 1), (737, 1), (998, 1), (1116, 1), (1177, 1), (1399, 1), (1429, 1), (3573, 1)], [(33, 1), (55, 1), (100, 1), (152, 1), (223, 1)], [(122, 1), (125, 1)], [(9, 1), (13, 1), (19, 1), (20, 1), (35, 1), (55, 1), (64, 1), (66, 2), (82, 1), (100, 1), (130, 1), (132, 1), (189, 1), (263, 1), (348, 1), (499, 1), (504, 1), (510, 1), (548, 1), (560, 1), (563, 1)], [(63, 1), (64, 1)], [(19, 1), (48, 2), (58, 2), (60, 1), (77, 1), (84, 2), (88, 1), (100, 1), (107, 1), (119, 1), (133, 1), (137, 1), (174, 1), (210, 1), (211, 1), (326, 1), (371, 1), (397, 1), (404, 1), (890, 1), (1212, 1), (1233, 1), (1518, 1), (1564, 1), (2492, 1), (2585, 1), (2753, 1)], [(19, 1), (48, 1), (162, 1), (253, 1), (277, 1)], [(29, 1), (55, 1), (71, 1), (96, 2), (100, 1), (101, 1), (212, 1), (361, 1)], [(23, 1), (26, 2), (30, 1), (78, 1), (88, 1), (98, 1), (183, 1), (186, 1), (434, 1), (499, 1), (651, 1), (2313, 1), (3574, 1)], [(0, 1), (9, 1), (11, 1), (12, 1), (17, 1), (20, 1), (23, 1), (29, 1), (33, 1), (35, 1), (46, 1), (67, 1), (68, 1), (73, 2), (77, 1), (80, 1), (88, 1), (101, 1), (115, 1), (126, 1), (132, 1), (154, 1), (160, 1), (164, 1), (167, 1), (170, 1), (180, 1), (215, 1), (253, 1), (319, 2), (364, 2), (392, 1), (395, 1), (443, 1), (473, 1), (479, 1), (535, 1), (616, 2), (674, 2), (814, 1), (852, 2), (984, 1), (1111, 1), (1141, 1), (1144, 1), (1879, 1), (2047, 1), (2108, 1), (2181, 1), (2622, 1), (3150, 1), (3381, 1), (3575, 1), (3576, 1), (3577, 1)], [(91, 1), (103, 1)], [(0, 1), (3, 1), (19, 1), (26, 2), (27, 1), (30, 1), (35, 3), (44, 1), (55, 1), (66, 1), (67, 1), (77, 3), (100, 1), (101, 1), (145, 1), (181, 1), (209, 1), (273, 1), (311, 1), (326, 2), (506, 1), (549, 1), (563, 1), (690, 1), (691, 3), (725, 1), (727, 1), (765, 1), (785, 1), (848, 1), (908, 1), (1404, 1), (2215, 1), (3578, 1), (3579, 1)], [(185, 1)], [(863, 1)], [(32, 1), (74, 1), (82, 1), (91, 1), (132, 1), (170, 1), (182, 1), (185, 1)], [(35, 1), (45, 1), (66, 1)], [(45, 1), (70, 1), (71, 1), (116, 1), (298, 1), (482, 1), (499, 1), (1957, 1)], [(35, 1), (46, 1), (107, 1)], [(9, 1), (12, 2), (20, 1), (26, 2), (33, 1), (50, 1), (75, 1), (82, 1), (133, 1), (142, 1), (205, 1), (479, 1), (2817, 1)], [(15, 1), (16, 1), (23, 1), (27, 1), (36, 1), (41, 1), (46, 1), (55, 4), (60, 1), (64, 6), (68, 1), (77, 1), (82, 1), (88, 1), (90, 1), (94, 1), (102, 3), (103, 1), (111, 1), (147, 1), (170, 2), (210, 1), (328, 2), (359, 2), (434, 1), (438, 1), (447, 2), (453, 1), (459, 1), (465, 1), (496, 1), (535, 1), (549, 1), (606, 1), (610, 1), (737, 1), (814, 1), (1221, 1), (2004, 1), (2682, 1), (2949, 1), (3062, 2), (3580, 1), (3581, 1), (3582, 1), (3583, 1)], [(21, 1), (94, 1)], [(12, 1), (48, 1), (406, 1), (1423, 1)], [(0, 1), (3, 1), (12, 2), (16, 1), (21, 1), (33, 1), (35, 1), (36, 1), (43, 1), (55, 2), (60, 1), (66, 1), (70, 1), (72, 1), (96, 1), (102, 1), (123, 1), (167, 1), (446, 1), (549, 1), (1034, 1)], [(19, 1), (46, 1), (63, 1), (73, 1), (145, 1), (3584, 1)], [(3, 1), (9, 1), (19, 1), (48, 1), (60, 1), (132, 1), (145, 1), (1778, 1)], [(8, 1), (13, 1), (19, 1), (23, 1), (27, 1), (35, 1), (48, 1), (66, 1), (88, 2), (94, 1), (105, 1), (111, 1), (211, 1), (438, 2), (563, 1), (865, 1), (1286, 1), (3585, 1), (3586, 1)], [(16, 1), (21, 1), (26, 1), (39, 1), (46, 1), (48, 1), (55, 1), (58, 1), (60, 1), (66, 1), (70, 1), (82, 1), (94, 1), (106, 1), (180, 1), (189, 1), (229, 1), (253, 1), (394, 1), (464, 1), (719, 1), (3587, 1)], [(16, 1), (35, 1), (66, 1), (75, 1), (82, 1), (91, 1), (101, 1), (138, 1), (170, 1), (186, 1), (202, 1), (817, 1), (857, 1), (904, 1), (1075, 1), (2626, 1)], [(15, 1), (16, 1), (21, 1), (29, 1), (33, 1), (54, 1), (64, 1), (73, 1), (125, 1), (133, 1), (276, 1), (627, 1), (630, 1), (1385, 1), (1440, 1)], [(0, 1), (3, 1), (8, 1), (9, 1), (12, 2), (13, 1), (21, 1), (26, 2), (35, 1), (45, 2), (55, 1), (64, 1), (66, 1), (67, 2), (79, 1), (80, 1), (102, 1), (111, 1), (197, 1), (212, 1), (219, 1), (227, 1), (288, 1), (333, 1), (337, 1), (387, 1), (392, 2), (451, 1), (514, 1), (539, 1), (549, 1), (902, 1), (928, 2), (1075, 1), (1210, 1), (1229, 1), (1321, 1), (1437, 1), (2751, 1), (3093, 1), (3588, 1), (3589, 1), (3590, 1), (3591, 1)], [(23, 1), (60, 1), (67, 1), (273, 1), (312, 1), (434, 1), (482, 1)], [(25, 1), (45, 1), (211, 1)], [(20, 1), (21, 1), (31, 1), (36, 1), (48, 1), (64, 2), (68, 1), (73, 2), (77, 1), (100, 1), (121, 1), (142, 1), (194, 1), (276, 1), (836, 1), (1214, 2)], [(16, 1), (19, 1), (23, 1), (29, 1), (33, 2), (36, 3), (48, 1), (55, 1), (65, 1), (68, 1), (72, 1), (73, 4), (77, 1), (81, 1), (88, 1), (91, 1), (101, 1), (105, 1), (106, 1), (119, 1), (131, 1), (133, 3), (138, 1), (139, 2), (147, 1), (202, 3), (204, 1), (211, 1), (215, 1), (219, 1), (299, 1), (362, 1), (500, 1), (519, 1), (588, 1), (596, 1), (630, 1), (631, 1), (684, 1), (804, 1), (932, 1), (1007, 2), (1234, 2), (1469, 1), (1508, 1), (2657, 1), (3299, 1), (3592, 1), (3593, 1)], [(12, 1), (23, 1), (26, 1)], [(50, 1), (3594, 1)], [(130, 1), (132, 1)], [(19, 1), (48, 1), (66, 1), (145, 1), (298, 1), (702, 1)], [(9, 1), (26, 1), (29, 2), (30, 1), (71, 1), (77, 1), (100, 1), (145, 1), (208, 1), (211, 1), (447, 1), (522, 1), (523, 1), (549, 1), (598, 1), (613, 1), (801, 1), (817, 1), (842, 1), (959, 1), (1000, 1), (1107, 1), (1164, 1), (1203, 1), (1413, 1), (2537, 1), (3595, 1), (3596, 1), (3597, 1), (3598, 1)], [(12, 1), (392, 1)], [(9, 1), (68, 2), (77, 2), (211, 1), (447, 1), (863, 1)], [(46, 1), (595, 1)], [(14, 1), (55, 1), (63, 2), (64, 1), (68, 1), (70, 1), (77, 1), (81, 1), (118, 1), (323, 1), (328, 1), (425, 1), (832, 1)], [(35, 1), (45, 1)], [(19, 1), (35, 1), (55, 1), (68, 1), (77, 1), (130, 1), (138, 1), (186, 1), (225, 1), (354, 1), (496, 1), (549, 1)], [(249, 1), (392, 1), (549, 1)], [(20, 2), (27, 1), (35, 1), (36, 1), (41, 1), (44, 1), (55, 1), (60, 1), (94, 1), (99, 1), (138, 1), (206, 1), (223, 1), (726, 1), (820, 1), (1445, 1), (1739, 1), (1782, 1), (1928, 1)], [(0, 1), (20, 3), (23, 1), (41, 1), (46, 1), (55, 2), (70, 1), (71, 1), (82, 1), (88, 1), (93, 1), (103, 1), (111, 1), (115, 2), (132, 2), (142, 1), (143, 1), (158, 1), (162, 2), (167, 1), (211, 1), (219, 1), (253, 1), (275, 1), (316, 1), (365, 2), (389, 2), (401, 1), (444, 1), (513, 1), (539, 1), (709, 1), (829, 1), (834, 1), (1426, 1), (3599, 1)], [(8, 1), (55, 1), (63, 1), (64, 1), (79, 1), (132, 1), (215, 1), (514, 1), (549, 1), (1846, 1), (2619, 1)], [(0, 1), (12, 1), (16, 3), (20, 1), (29, 1), (30, 1), (33, 2), (41, 1), (53, 1), (55, 2), (58, 1), (59, 2), (63, 1), (66, 3), (71, 3), (73, 6), (86, 1), (91, 1), (93, 1), (133, 1), (152, 1), (170, 3), (171, 1), (186, 1), (222, 1), (280, 2), (394, 1), (405, 1), (452, 1), (505, 1), (508, 1), (511, 1), (539, 1), (560, 1), (576, 1), (609, 1), (633, 1), (717, 1), (834, 2), (856, 1), (921, 1), (1114, 1), (1193, 1), (1440, 1), (1488, 1), (1641, 1), (2435, 1), (2920, 1), (3295, 1), (3600, 1), (3601, 1), (3602, 1), (3603, 1)], [(19, 1), (36, 1), (44, 1), (45, 1), (48, 1), (54, 1), (55, 3), (59, 1), (70, 2), (71, 1), (72, 1), (73, 2), (78, 2), (139, 1), (145, 2), (186, 1), (225, 1), (298, 1), (314, 1), (371, 1), (473, 1), (613, 1), (677, 1), (834, 1), (2273, 1), (2338, 1)], [(6, 2), (26, 1), (55, 1), (73, 1), (98, 1), (312, 1), (381, 2), (475, 1), (500, 1), (632, 1), (878, 1), (2796, 1), (3604, 1)], [(8, 2), (9, 1), (10, 1), (16, 2), (24, 1), (26, 2), (30, 1), (33, 1), (50, 1), (55, 5), (59, 1), (67, 2), (68, 1), (77, 1), (94, 1), (116, 1), (137, 1), (145, 1), (191, 1), (235, 1), (304, 1), (373, 1), (453, 1), (531, 1), (549, 1), (604, 1), (658, 1), (906, 1), (931, 1), (1087, 1)], [(27, 1), (46, 1), (66, 1), (101, 1), (103, 1), (132, 1), (170, 1), (189, 1), (594, 1)], [(23, 1), (26, 1), (60, 1), (216, 1), (312, 1), (1192, 1)], [(9, 1), (45, 1), (133, 1), (549, 1), (1146, 1)], [(12, 1), (13, 1), (33, 1), (44, 1), (129, 1), (131, 1), (132, 1), (133, 1), (139, 1), (147, 1), (185, 1), (225, 1), (394, 1), (406, 1), (496, 1), (612, 1)], [(35, 1), (66, 1), (130, 1)], [(21, 1), (55, 1), (63, 1), (64, 2), (100, 1), (109, 1), (280, 1), (320, 1), (874, 1), (2562, 1), (3605, 1)], [(11, 1), (12, 1), (17, 1), (21, 1), (26, 1), (35, 1), (55, 1), (63, 1), (86, 1), (100, 1), (115, 1), (151, 1), (170, 1), (442, 1), (1509, 1), (3256, 1), (3606, 1)], [(0, 1), (3, 3), (11, 1), (12, 1), (13, 2), (16, 1), (20, 1), (21, 1), (33, 2), (35, 1), (48, 2), (55, 3), (66, 2), (68, 1), (71, 2), (73, 2), (77, 1), (90, 1), (100, 1), (102, 3), (131, 1), (139, 1), (145, 2), (186, 1), (189, 1), (247, 1), (288, 1), (377, 1), (378, 1), (473, 1), (482, 2), (496, 1), (519, 1), (549, 1), (574, 1), (751, 1), (847, 1), (861, 1), (1114, 1), (1214, 1), (1260, 1), (1273, 1), (1438, 1), (1924, 1), (3333, 1), (3607, 1)], [(12, 1), (23, 1), (35, 1), (66, 1), (91, 1), (93, 1), (128, 1), (130, 1), (138, 1), (139, 1), (547, 1), (549, 1), (717, 1), (789, 1), (1126, 1), (1215, 1)], [(10, 1), (13, 1), (16, 1), (19, 1), (21, 1), (26, 1), (88, 1), (108, 1), (139, 1), (236, 1), (238, 1), (595, 1), (606, 1), (746, 1)], [(20, 1), (55, 1), (74, 1), (101, 1), (115, 2), (126, 1), (142, 1), (275, 1), (1426, 1), (1429, 1)], [(19, 1), (26, 2), (46, 1), (55, 1), (63, 1), (68, 1), (70, 1), (72, 1), (77, 1), (102, 1), (113, 1), (116, 2), (121, 1), (142, 1), (178, 1), (249, 2), (251, 1), (662, 1), (927, 1), (1055, 1), (1221, 1), (3608, 1)], [(35, 1), (98, 1), (101, 1), (138, 1), (170, 1), (545, 1), (549, 1), (821, 1), (984, 1), (3609, 1), (3610, 1)], [(12, 2), (21, 1), (29, 1), (33, 1), (48, 1), (96, 1), (107, 1), (111, 1), (198, 1), (290, 1), (298, 1), (331, 1), (392, 1)], [(31, 1), (44, 1), (55, 1), (63, 1), (67, 1), (71, 1), (94, 1), (109, 1), (152, 2), (162, 1), (170, 1), (190, 1), (201, 1), (202, 1), (415, 1), (545, 1), (732, 1), (927, 1), (996, 1), (1412, 1), (1429, 1), (3611, 1)], [(9, 1), (11, 1), (20, 1), (25, 1), (27, 2), (55, 1), (68, 1), (73, 1), (77, 1), (88, 1), (97, 1), (100, 1), (101, 1), (137, 1), (517, 1), (1864, 1)], [(29, 1), (54, 1), (71, 1), (86, 1), (90, 1), (101, 1), (158, 1), (361, 1), (452, 1), (996, 1), (999, 1), (1185, 1), (3612, 1), (3613, 1)], [(12, 1), (23, 1), (27, 1), (35, 2), (39, 1), (46, 1), (55, 1), (66, 2), (67, 1), (88, 1), (90, 1), (100, 1), (138, 1), (166, 1), (187, 1), (276, 1)], [(9, 1), (20, 1), (35, 1), (45, 1), (101, 1), (132, 1), (170, 1), (331, 1), (394, 1), (400, 1), (542, 1), (874, 1), (1193, 1), (1603, 1), (3614, 1), (3615, 1)], [(17, 1), (27, 1), (35, 1), (55, 1), (73, 1), (94, 1), (111, 1), (170, 1), (202, 1), (204, 1), (392, 1), (404, 1), (426, 1), (549, 1), (668, 1), (716, 1), (726, 1), (1912, 1), (2296, 1), (2724, 1)], [(9, 2), (34, 1), (36, 1), (45, 1), (55, 1), (65, 1), (67, 1), (75, 2), (91, 1), (100, 1), (116, 1), (118, 1), (147, 1), (181, 1), (182, 1), (194, 1), (211, 1), (278, 1), (296, 1), (356, 1), (364, 1), (378, 1), (385, 1), (427, 1), (523, 1), (775, 2), (863, 1), (865, 1), (937, 1), (989, 1), (1087, 1), (1150, 1), (1439, 1), (1589, 1), (3616, 1), (3617, 1)], [(19, 1), (33, 1), (45, 1), (64, 1), (94, 1), (116, 1), (129, 1), (132, 1), (133, 1), (170, 1), (277, 1), (539, 1), (609, 1), (923, 1)], [(3, 1), (8, 3), (11, 1), (12, 1), (17, 1), (22, 1), (35, 1), (45, 3), (47, 1), (55, 3), (60, 1), (64, 1), (67, 1), (75, 1), (79, 1), (88, 1), (93, 1), (94, 1), (98, 1), (100, 2), (116, 1), (151, 1), (164, 1), (166, 1), (186, 1), (201, 1), (261, 1), (320, 1), (354, 1), (356, 1), (365, 1), (378, 1), (385, 1), (434, 1), (447, 1), (454, 1), (539, 1), (549, 1), (569, 1), (916, 1), (1110, 1), (1121, 1), (1175, 1), (1377, 1), (1399, 1), (1463, 1), (2324, 1), (3072, 1), (3618, 1), (3619, 1)], [(9, 1), (13, 2), (30, 1), (55, 2), (64, 1), (73, 5), (79, 1), (93, 1), (95, 1), (115, 1), (133, 1), (152, 1), (170, 3), (179, 1), (212, 1), (215, 1), (218, 2), (261, 1), (296, 1), (299, 1), (410, 1), (437, 1), (447, 1), (451, 1), (473, 1), (482, 1), (535, 1), (539, 1), (596, 1), (643, 1), (814, 1), (819, 1), (1035, 1), (1079, 1), (1117, 2), (1268, 1), (1404, 1), (1491, 2), (1929, 1), (3620, 1), (3621, 1), (3622, 1), (3623, 1)], [(26, 1), (46, 1), (53, 1), (64, 2), (100, 1), (152, 1), (744, 1), (757, 1), (863, 1), (1279, 1)], [(12, 1), (41, 1), (46, 1), (55, 2), (78, 1), (82, 1), (91, 1), (108, 2), (116, 1), (311, 1), (389, 1), (444, 1), (452, 1), (899, 1), (1589, 1), (3624, 1)], [(16, 1), (45, 1), (53, 1), (66, 1), (71, 1), (86, 1), (90, 1), (170, 1), (215, 1), (356, 1), (413, 1), (757, 1), (1799, 1), (2042, 1), (3625, 1)], [(53, 1), (55, 1), (78, 1), (95, 1), (100, 1), (107, 1), (370, 1), (1082, 1)], [(10, 1), (12, 2), (14, 1), (16, 1), (19, 3), (20, 1), (31, 1), (41, 1), (44, 1), (60, 1), (68, 2), (70, 1), (73, 4), (77, 2), (80, 1), (82, 2), (88, 1), (107, 1), (109, 1), (122, 1), (137, 1), (143, 1), (145, 1), (147, 1), (162, 2), (178, 3), (181, 1), (183, 1), (197, 1), (211, 1), (248, 1), (255, 1), (261, 1), (267, 1), (269, 1), (299, 1), (312, 1), (345, 1), (353, 1), (364, 1), (377, 1), (382, 1), (385, 1), (391, 1), (442, 1), (448, 1), (451, 1), (454, 1), (470, 1), (496, 2), (519, 1), (563, 2), (586, 3), (594, 1), (633, 1), (744, 1), (851, 1), (871, 1), (976, 1), (1018, 1), (1080, 1), (1345, 1), (1411, 1), (1435, 1), (1508, 1), (1561, 3), (1563, 1), (1593, 1), (1743, 1), (1754, 1), (1917, 1), (2118, 1), (2179, 1), (2551, 1), (3050, 1), (3626, 1), (3627, 1), (3628, 1)], [(19, 1), (20, 1), (35, 1), (55, 1), (74, 1), (86, 1), (91, 1), (94, 1), (101, 2), (115, 1), (126, 1), (138, 1), (170, 1), (370, 1), (438, 1), (477, 1), (529, 1), (539, 1), (832, 1), (874, 1), (1151, 1), (1423, 1), (1425, 1)], [(13, 1), (16, 1), (19, 2), (26, 2), (48, 1), (55, 1), (59, 1), (68, 1), (71, 1), (77, 1), (116, 1), (147, 1), (225, 1), (249, 2), (268, 1), (269, 1), (363, 1), (364, 1), (388, 1), (626, 1), (691, 1), (699, 1), (834, 1), (994, 1), (1019, 1), (1706, 1), (2712, 1), (3629, 1)], [(20, 1), (23, 1), (55, 3), (60, 1), (70, 1), (72, 1), (90, 1), (96, 2), (100, 1), (103, 1), (328, 1), (385, 1), (507, 1), (557, 3), (598, 1), (847, 1), (910, 1), (1212, 1), (1439, 1)], [(19, 1), (35, 1), (45, 1), (46, 1), (48, 1), (73, 1), (145, 1), (170, 1), (197, 1), (323, 1), (563, 1), (633, 1), (634, 1), (796, 1), (1221, 1)], [(13, 1), (16, 1), (20, 2), (35, 1), (45, 1), (46, 1), (55, 1), (60, 1), (66, 1), (73, 1), (105, 1), (126, 2), (138, 1), (186, 1), (201, 1), (249, 1), (251, 1), (504, 1), (851, 1), (1756, 1)], [(10, 1), (16, 1), (19, 1), (26, 1), (39, 1), (44, 1), (55, 1), (60, 1), (70, 1), (94, 1), (107, 1), (153, 1), (184, 1), (231, 1), (312, 1), (475, 1)], [(3, 1), (12, 1), (16, 1), (20, 1), (60, 1), (94, 2), (103, 1), (105, 1), (116, 1), (249, 1), (906, 1), (1187, 1), (1536, 1)], [(3, 1), (11, 1), (12, 2), (16, 1), (18, 1), (19, 1), (20, 1), (35, 2), (44, 1), (48, 1), (55, 1), (60, 1), (64, 1), (66, 1), (72, 1), (73, 1), (95, 1), (107, 1), (122, 1), (151, 1), (170, 1), (190, 1), (312, 1), (354, 1), (458, 1), (459, 1), (489, 1), (496, 1), (560, 1), (594, 1), (629, 1), (768, 1), (862, 1), (1148, 1), (1533, 1), (1585, 1), (1901, 1), (2238, 1), (3630, 1)], [(13, 1), (19, 1), (55, 2), (59, 1), (64, 1), (71, 1), (75, 1), (82, 1), (103, 1), (109, 1), (170, 1), (315, 1), (377, 1), (1047, 1), (1312, 2), (1438, 1), (1886, 1)], [(9, 1), (11, 1), (12, 1), (16, 3), (18, 1), (20, 1), (27, 1), (31, 2), (33, 1), (35, 4), (39, 1), (45, 1), (55, 3), (59, 1), (64, 2), (66, 4), (73, 1), (76, 1), (78, 1), (94, 1), (102, 3), (107, 1), (128, 1), (131, 1), (133, 1), (182, 1), (187, 1), (210, 1), (219, 1), (231, 1), (235, 1), (311, 1), (353, 1), (425, 1), (442, 1), (456, 1), (513, 1), (528, 1), (536, 1), (540, 1), (549, 1), (559, 1), (570, 1), (586, 1), (709, 1), (747, 1), (758, 1), (815, 1), (829, 1), (857, 2), (928, 1), (1055, 1), (1198, 1), (1333, 1), (1639, 1), (1648, 1), (1933, 1), (2115, 1), (2518, 1), (2542, 1), (2553, 1), (2812, 1), (2987, 1), (3631, 1), (3632, 1), (3633, 1), (3634, 1), (3635, 1)], [(8, 1), (10, 1), (16, 1), (19, 1), (48, 1), (53, 1), (55, 2), (72, 1), (73, 2), (79, 1), (93, 1), (100, 1), (145, 1), (158, 1), (170, 1), (232, 1), (275, 1), (314, 1), (365, 1), (473, 1), (510, 1), (604, 1), (834, 1), (848, 1), (850, 1), (931, 1), (1430, 1)], [(6, 1), (20, 2), (26, 2), (46, 1), (48, 1), (55, 1), (68, 1), (70, 1), (77, 1), (116, 2), (126, 2), (249, 1), (412, 1), (476, 2)], [(3, 1), (26, 1), (30, 1), (55, 2), (60, 1), (116, 2), (126, 2), (149, 1), (249, 1), (316, 1), (412, 1), (476, 2), (2558, 1)], [(11, 2), (12, 3), (20, 1), (36, 1), (46, 1), (54, 1), (55, 3), (60, 1), (63, 1), (64, 1), (71, 1), (73, 2), (106, 1), (107, 3), (108, 1), (111, 2), (128, 1), (147, 1), (170, 1), (198, 1), (229, 1), (239, 1), (253, 1), (261, 1), (293, 1), (314, 1), (316, 1), (482, 1), (527, 2), (528, 1), (548, 1), (602, 1), (629, 1), (648, 1), (658, 1), (742, 1), (998, 1), (1047, 1), (1302, 2), (1811, 1), (3046, 1), (3332, 1), (3636, 1), (3637, 1), (3638, 1)], [(8, 1), (9, 3), (12, 1), (23, 3), (24, 1), (25, 1), (26, 1), (30, 1), (31, 1), (68, 1), (77, 1), (98, 1), (107, 1), (165, 1), (202, 1), (364, 1), (482, 2), (497, 1), (568, 1), (583, 1), (1629, 1)], [(0, 1), (3, 1), (20, 1), (55, 1), (64, 1), (91, 1), (142, 1), (588, 1)], [(0, 1), (65, 1), (77, 1), (133, 1), (251, 1), (326, 1), (464, 1), (755, 1), (765, 1), (950, 2), (3639, 1), (3640, 1)], [(30, 1), (31, 1), (35, 1), (46, 1), (55, 1), (72, 1), (98, 1), (106, 1), (130, 1), (170, 2), (996, 1), (998, 1), (1144, 1), (3641, 1)], [(26, 1), (27, 2), (36, 1), (96, 1), (101, 1), (106, 1), (170, 1), (204, 1), (223, 1), (253, 1), (314, 1), (394, 1)], [(12, 1), (46, 1), (107, 1), (210, 1)], [(12, 2), (13, 1), (43, 1), (60, 1), (98, 1), (120, 1), (145, 1), (171, 1), (184, 1), (191, 2), (225, 1), (312, 1), (328, 1), (382, 1), (405, 1), (464, 1), (622, 1), (751, 1), (822, 1), (870, 1), (889, 1), (1095, 1), (1133, 1), (1426, 1), (1439, 1), (1853, 1), (2627, 1), (2828, 1), (3441, 1), (3642, 1), (3643, 1), (3644, 1), (3645, 1), (3646, 1), (3647, 1), (3648, 1), (3649, 2), (3650, 1), (3651, 1), (3652, 1), (3653, 1)], [(10, 1), (13, 1), (16, 1), (18, 1), (24, 1), (26, 2), (35, 1), (55, 1), (60, 1), (73, 1), (161, 1), (241, 1), (456, 1), (496, 1), (565, 1), (618, 1), (679, 1), (2304, 1), (3654, 1), (3655, 1)], [(23, 1), (25, 1), (71, 1), (90, 2), (152, 1)], [(9, 1), (26, 1), (33, 1), (55, 1), (70, 1), (88, 1), (115, 1), (268, 1), (290, 1), (409, 1), (549, 1), (595, 1), (776, 1), (1123, 1), (3245, 1)], [(9, 1), (16, 1), (55, 3), (64, 1), (70, 1), (73, 1), (414, 1), (604, 1), (744, 1)], [(6, 1), (8, 1), (13, 1), (35, 1), (46, 1), (66, 1), (70, 1), (132, 1), (241, 1), (371, 1), (499, 1), (700, 1), (1711, 1)], [(9, 1), (20, 1), (30, 1), (33, 1), (45, 1), (65, 1), (90, 1), (100, 1), (103, 1), (126, 1), (127, 1), (131, 1), (133, 1), (209, 1), (270, 2), (275, 1), (574, 1), (673, 1), (764, 2), (878, 1), (1106, 1), (2338, 1), (2679, 1)], [(8, 1), (12, 1), (13, 1), (19, 2), (20, 1), (26, 1), (27, 1), (30, 1), (33, 1), (44, 1), (55, 1), (58, 1), (59, 1), (60, 1), (62, 1), (63, 1), (64, 1), (65, 1), (68, 1), (71, 2), (77, 2), (78, 1), (95, 2), (103, 1), (106, 2), (111, 2), (126, 1), (131, 1), (137, 1), (145, 1), (148, 1), (162, 1), (170, 1), (181, 1), (197, 1), (205, 1), (249, 1), (258, 1), (261, 1), (306, 1), (340, 1), (378, 1), (385, 1), (392, 1), (410, 1), (434, 1), (523, 1), (535, 1), (541, 1), (544, 1), (598, 1), (648, 1), (666, 1), (713, 1), (781, 2), (819, 1), (834, 1), (873, 1), (914, 1), (942, 1), (1047, 1), (1144, 1), (1163, 1), (1248, 1), (1475, 1), (1587, 1), (1769, 1), (1776, 1), (2169, 1), (2359, 1), (3546, 1), (3656, 1), (3657, 1), (3658, 1)], [(13, 1), (16, 1), (21, 2), (23, 1), (29, 1), (33, 1), (36, 1), (48, 1), (54, 1), (55, 2), (63, 1), (70, 1), (73, 1), (77, 1), (147, 1), (202, 1), (364, 1), (385, 1), (438, 1), (476, 1), (831, 1), (1389, 1), (2816, 1), (3659, 1)], [(3, 1), (16, 1), (86, 1), (88, 2), (91, 1), (100, 1), (132, 2), (158, 1), (170, 1), (444, 1), (996, 1), (1440, 1), (1487, 1), (1629, 1), (1763, 1), (2757, 1)], [(4, 1), (9, 1), (12, 1), (15, 1), (19, 1), (43, 1), (74, 1), (99, 1), (101, 2), (133, 1), (143, 1), (170, 2), (177, 1), (249, 1), (256, 1), (312, 1), (377, 1), (1923, 1)], [(31, 1), (45, 1), (70, 1), (74, 1), (75, 1), (82, 1), (86, 1), (153, 1), (184, 1), (447, 1), (549, 1), (1421, 1)], [(3, 1), (9, 1), (20, 2), (26, 1), (33, 1), (48, 1), (54, 1), (55, 1), (68, 2), (77, 2), (78, 1), (99, 1), (149, 1), (167, 1), (239, 1), (726, 1), (1354, 1), (3660, 1)], [(0, 1), (9, 1), (12, 1), (25, 1), (67, 1), (102, 1), (128, 1), (145, 1), (162, 1), (313, 1), (330, 1), (1323, 1), (2217, 1)], [(12, 2), (27, 1), (43, 1), (55, 3), (64, 1), (70, 1), (86, 1), (96, 1), (104, 1), (111, 1), (115, 1), (116, 1), (145, 1), (146, 1), (162, 1), (170, 1), (182, 1), (185, 1), (191, 1), (452, 1), (514, 1), (557, 1), (775, 1), (911, 1), (1155, 1), (1174, 1), (1534, 1), (2131, 1), (3067, 1), (3611, 1), (3661, 1), (3662, 1), (3663, 1), (3664, 1)], [(16, 1), (35, 1), (45, 1), (66, 1), (75, 1), (96, 1), (102, 1), (107, 1), (186, 1), (428, 1), (489, 1), (533, 1)], [(13, 1), (19, 1), (21, 1), (31, 1), (32, 1), (48, 1), (130, 1), (132, 2), (803, 1), (1144, 1)], [(12, 1), (17, 1), (27, 1), (35, 1), (55, 1), (73, 1), (74, 1), (88, 1), (91, 1), (130, 1), (134, 1), (138, 1), (152, 1), (170, 1), (442, 1), (548, 1), (559, 1), (850, 1), (1266, 1), (1338, 1), (1440, 1), (2294, 1), (3665, 1)], [(12, 1), (16, 1), (17, 1), (48, 1), (64, 1), (94, 1), (107, 1), (210, 1), (211, 1), (215, 1), (312, 1)], [(12, 1), (20, 1), (44, 2), (84, 1), (152, 1), (170, 1), (171, 1), (261, 1), (525, 1), (726, 1), (945, 1), (1412, 1), (2378, 1), (3666, 1), (3667, 1), (3668, 1)], [(17, 1), (33, 1), (44, 1), (46, 1), (55, 1), (64, 1), (68, 1), (71, 1), (77, 1), (88, 1), (102, 1), (126, 1), (131, 1), (139, 1), (170, 1), (191, 2), (211, 1), (255, 1), (267, 1), (310, 1), (312, 1), (549, 2), (572, 2), (599, 1), (880, 2), (1283, 1), (1438, 1)], [(10, 1), (33, 1), (91, 1), (94, 1), (100, 1), (103, 1), (131, 1), (179, 1), (197, 1), (291, 1), (1463, 1)], [(13, 1), (19, 1), (22, 1), (30, 1), (33, 1), (46, 1), (55, 1), (58, 1), (66, 1), (67, 2), (98, 1), (99, 1), (101, 1), (152, 1), (170, 2), (189, 1), (465, 1), (616, 1), (2339, 1), (3169, 1)], [(9, 1), (19, 1), (55, 1), (63, 1), (64, 1), (67, 1), (68, 2), (70, 1), (77, 2), (103, 1), (118, 1), (132, 1), (138, 1), (139, 1), (292, 1), (345, 1), (378, 1), (496, 1), (497, 1), (690, 1), (709, 1), (1385, 1), (1697, 1), (1786, 1), (3669, 1), (3670, 1)], [(11, 1), (17, 1), (26, 1), (67, 1), (71, 1), (78, 1), (93, 1), (99, 1), (101, 1), (132, 4), (170, 1), (208, 1), (215, 1), (217, 3), (249, 2), (254, 4), (273, 1), (286, 1), (296, 1), (315, 1), (424, 1), (519, 1), (548, 1), (582, 2), (739, 2), (848, 2), (901, 1), (1136, 1), (1139, 1), (1221, 1), (1256, 1), (1310, 1), (1504, 1), (2253, 1), (3017, 1), (3186, 1), (3245, 1), (3396, 1), (3513, 1), (3671, 1), (3672, 1), (3673, 1), (3674, 1), (3675, 1)], [(26, 1), (63, 1), (133, 1), (162, 1), (197, 1), (243, 1), (425, 1), (444, 1), (482, 1), (690, 1), (3043, 1), (3586, 1)], [(3, 2), (4, 1), (12, 2), (13, 1), (19, 2), (21, 1), (27, 1), (35, 2), (36, 1), (41, 1), (44, 2), (45, 1), (48, 3), (64, 2), (65, 1), (66, 1), (67, 2), (68, 1), (75, 1), (77, 1), (82, 1), (100, 1), (111, 2), (143, 2), (158, 1), (179, 1), (186, 1), (195, 1), (202, 2), (206, 1), (225, 1), (269, 1), (275, 1), (280, 1), (285, 1), (298, 1), (353, 1), (397, 1), (476, 1), (496, 1), (536, 2), (583, 1), (607, 1), (848, 1), (867, 1), (925, 1), (984, 1), (1153, 1), (1229, 3), (1657, 1), (2004, 1), (2135, 1), (2197, 1), (2215, 1), (2284, 1), (2338, 1), (3676, 1), (3677, 1)], [(70, 1), (103, 1), (105, 1), (106, 1), (249, 1), (392, 1), (1011, 1), (1144, 1), (1160, 1), (3678, 1), (3679, 1)], [(13, 1), (53, 1), (72, 1), (73, 1), (96, 1), (139, 1), (170, 1), (224, 1), (290, 1), (932, 1), (1230, 1), (3680, 1)], [(9, 1), (12, 1), (16, 1), (23, 1), (27, 2), (30, 1), (36, 2), (55, 2), (63, 1), (64, 1), (68, 1), (73, 1), (77, 1), (88, 1), (91, 2), (94, 1), (95, 1), (99, 1), (186, 1), (212, 1), (377, 1), (378, 2), (387, 1), (394, 1), (452, 1), (477, 1), (528, 1), (531, 1), (633, 1), (658, 1), (677, 2), (847, 1), (895, 1), (2058, 1), (2245, 1), (3681, 1), (3682, 1), (3683, 1), (3684, 1)], [(19, 1), (23, 1), (31, 1), (46, 1), (48, 1), (68, 1), (73, 1), (88, 1), (310, 1), (483, 1), (1221, 1)], [(8, 1), (13, 1), (19, 1), (33, 1), (35, 1), (46, 1), (48, 1), (55, 1), (66, 1), (70, 1), (108, 1), (133, 1), (547, 1)], [(19, 1), (20, 1), (55, 1), (73, 1), (77, 1), (80, 1), (563, 1), (686, 1), (726, 1)], [(6, 1), (19, 1), (21, 1), (48, 1), (55, 2), (64, 1), (66, 1), (68, 1), (77, 1), (100, 1), (115, 1), (143, 1), (171, 1), (389, 1), (585, 1), (591, 1), (599, 1), (616, 1), (880, 1), (881, 1), (2078, 1), (3685, 1)], [(46, 1), (68, 1), (77, 1), (132, 1), (249, 2), (437, 1), (535, 1), (725, 1)], [(0, 1), (9, 1), (20, 1), (21, 1), (55, 3), (60, 1), (70, 1), (84, 1), (86, 1), (88, 1), (91, 1), (94, 1), (99, 1), (105, 1), (170, 3), (191, 1), (311, 1), (364, 1), (444, 1), (627, 1), (948, 1), (1565, 1), (2069, 1)], [(26, 1), (53, 1), (55, 1), (59, 1), (64, 1), (70, 1), (74, 1), (75, 1), (118, 1), (133, 1), (238, 1), (378, 1), (923, 1)], [(20, 1), (26, 1), (55, 1), (68, 1), (77, 1), (137, 1), (160, 1), (514, 1), (545, 1), (919, 1), (1221, 1), (3686, 1), (3687, 1)], [(14, 1), (16, 2), (35, 1), (54, 1), (60, 1), (70, 1), (101, 1), (148, 1), (153, 1), (169, 1), (170, 1), (234, 1), (249, 3), (254, 2), (270, 1), (274, 1), (442, 1), (447, 1), (473, 1), (495, 1), (574, 1), (633, 1), (727, 2), (746, 2), (764, 1), (1013, 1), (1255, 1), (1257, 1), (1521, 1), (1864, 1), (2013, 1), (2023, 1), (2448, 1), (3688, 1), (3689, 1)], [(19, 1), (30, 1), (46, 1), (98, 1), (107, 1), (139, 1), (142, 1), (170, 1), (253, 1), (442, 1), (447, 1), (850, 1)], [(3, 1), (48, 1), (60, 1), (68, 1), (73, 1), (77, 1), (84, 1), (99, 1), (312, 1), (497, 1), (717, 1), (983, 1), (1227, 1), (1487, 1)], [(13, 1), (26, 1), (64, 1), (68, 1), (77, 1), (88, 1), (94, 1), (152, 1), (188, 1), (293, 1), (299, 1), (692, 1), (717, 1), (2646, 1), (3690, 1)], [(18, 1), (19, 2), (23, 1), (26, 1), (29, 1), (31, 1), (33, 1), (68, 1), (77, 1), (88, 2), (90, 1), (101, 1), (145, 1), (148, 1), (170, 2), (215, 1), (228, 1), (548, 1), (549, 1), (706, 1), (817, 1), (3177, 1), (3196, 1)], [(12, 1), (46, 1), (64, 2), (132, 1), (147, 1), (191, 1), (1062, 1), (1230, 1)], [(0, 1), (3, 1), (12, 1), (19, 1), (55, 1), (75, 1), (78, 1), (102, 1), (115, 1), (158, 1), (325, 1)], [(12, 1), (13, 1), (19, 1), (43, 1), (45, 1), (71, 1), (88, 1), (99, 1), (101, 1), (148, 1), (152, 1), (170, 1), (171, 1), (216, 1), (346, 1), (450, 1), (473, 1), (591, 1), (1227, 1), (2462, 1), (3691, 1), (3692, 1), (3693, 1)], [(12, 1), (21, 2), (33, 1), (48, 1), (55, 1), (68, 1), (71, 1), (77, 1), (132, 1), (152, 1), (211, 1), (253, 1), (354, 1), (428, 1), (475, 1), (477, 1), (821, 2), (944, 1), (2662, 1), (3219, 1), (3416, 1), (3694, 1)], [(15, 1), (25, 1), (27, 1), (28, 1), (35, 1), (73, 1), (94, 1), (100, 1), (115, 1), (116, 1), (146, 1), (514, 1), (1138, 1)], [(54, 2), (61, 2), (67, 1), (104, 1), (272, 1), (1375, 1)], [(0, 1), (15, 1), (18, 1), (19, 1), (20, 1), (26, 2), (33, 1), (35, 1), (46, 1), (52, 1), (55, 2), (60, 3), (73, 1), (78, 1), (96, 1), (101, 1), (102, 1), (106, 1), (133, 1), (138, 1), (162, 1), (211, 1), (273, 1), (312, 1), (357, 1), (361, 1), (409, 1), (490, 1), (527, 1), (624, 1), (699, 1), (1583, 1), (2448, 1), (3695, 1)], [(12, 1), (14, 1), (17, 1), (19, 1), (30, 1), (46, 1), (55, 1), (62, 1), (70, 1), (71, 1), (78, 1), (94, 1), (98, 1), (120, 1), (127, 1), (132, 1), (394, 1), (449, 1), (559, 1), (818, 1), (859, 1), (931, 1), (992, 1), (1629, 1), (2812, 1), (3099, 1), (3696, 1), (3697, 1), (3698, 1)], [(8, 1), (9, 1), (30, 1), (54, 1), (55, 1), (74, 1), (94, 1), (98, 1), (239, 1), (412, 1), (482, 1)], [(19, 1), (60, 1), (66, 1), (145, 1), (290, 1), (316, 1), (386, 1), (394, 1), (406, 1), (817, 1), (1108, 1), (1357, 1)], [(10, 1), (42, 1), (67, 1), (86, 1), (91, 2), (102, 1), (122, 1), (273, 1), (298, 1), (998, 1), (1296, 1), (1438, 1), (2020, 1), (3699, 1)], [(13, 1), (19, 1), (26, 1), (35, 1), (53, 1), (59, 1), (71, 1), (96, 1), (100, 1), (138, 1), (170, 1), (488, 1), (549, 1), (585, 1), (1423, 1), (2120, 1), (3700, 1)], [(6, 1), (13, 1), (16, 1), (19, 1), (21, 1), (26, 1), (46, 1), (64, 1), (71, 1), (101, 1), (148, 1), (170, 1), (218, 1), (260, 1), (527, 1), (658, 1), (1081, 1), (1234, 1), (1430, 1), (2832, 1)], [(9, 1), (74, 1), (75, 1), (77, 1), (82, 1), (100, 1), (109, 1), (151, 1), (276, 1), (496, 1), (3701, 1)], [(9, 1), (26, 1), (35, 1), (55, 2), (66, 1), (70, 1), (74, 1), (75, 1), (82, 1), (94, 1), (96, 1), (101, 1), (123, 1), (138, 1), (189, 1), (388, 1), (549, 1), (1248, 1)], [(0, 1), (3, 1), (13, 3), (15, 1), (19, 1), (20, 2), (27, 1), (35, 3), (36, 3), (44, 1), (55, 2), (60, 1), (64, 1), (66, 2), (70, 1), (73, 1), (78, 1), (88, 1), (98, 1), (100, 2), (111, 1), (115, 2), (116, 2), (137, 1), (138, 1), (145, 3), (191, 1), (214, 1), (251, 1), (285, 1), (319, 2), (323, 1), (370, 1), (379, 1), (400, 1), (411, 1), (501, 1), (549, 1), (557, 1), (662, 2), (721, 1), (751, 1), (755, 1), (765, 1), (775, 1), (789, 1), (826, 1), (856, 1), (857, 1), (908, 1), (1068, 1), (1143, 1), (1145, 1), (1399, 1), (1404, 1), (1457, 1), (1473, 1), (1589, 1), (1748, 1), (1752, 1), (2044, 2), (2305, 1), (2614, 1), (2820, 1), (3702, 1), (3703, 3), (3704, 2), (3705, 1), (3706, 1)], [(3, 1), (12, 1), (19, 1), (23, 1), (55, 1), (60, 1), (64, 1), (78, 1), (99, 1), (102, 1), (312, 1), (365, 1), (524, 1), (1151, 1)], [(0, 1), (11, 2), (16, 1), (17, 1), (18, 3), (20, 2), (23, 1), (27, 1), (55, 5), (67, 1), (73, 5), (88, 2), (94, 1), (98, 1), (100, 2), (103, 1), (107, 1), (170, 2), (180, 2), (184, 2), (191, 1), (238, 1), (261, 1), (278, 1), (394, 1), (438, 1), (452, 1), (456, 3), (505, 2), (527, 1), (529, 1), (585, 1), (674, 1), (689, 1), (852, 2), (1119, 1), (1192, 1), (1200, 2), (1345, 1), (1440, 1), (1606, 1), (3102, 1), (3177, 1), (3579, 1), (3707, 1), (3708, 1)], [(0, 1), (13, 1), (16, 1), (26, 1), (27, 1), (35, 1), (64, 1), (70, 1), (82, 1), (86, 1), (91, 1), (202, 1), (1354, 1), (2042, 1)], [(3, 1), (9, 1), (12, 2), (16, 1), (55, 1), (64, 2), (96, 1), (107, 1), (191, 1), (1148, 1), (1229, 1)], [(9, 1), (11, 1), (15, 1), (19, 1), (20, 1), (26, 3), (29, 1), (33, 1), (35, 1), (44, 1), (60, 1), (63, 1), (64, 2), (68, 1), (71, 1), (75, 1), (77, 1), (82, 1), (102, 1), (107, 1), (198, 1), (210, 2), (225, 1), (239, 1), (275, 1), (276, 1), (280, 1), (293, 1), (377, 1), (450, 1), (527, 1), (617, 1), (1057, 1), (1691, 1), (1945, 1), (3214, 1), (3709, 1)], [(11, 1), (44, 1), (55, 1), (67, 1), (68, 1), (73, 1), (483, 1), (517, 1), (560, 1)], [(12, 1), (15, 1), (16, 1), (17, 1), (19, 1), (20, 1), (21, 1), (31, 1), (36, 1), (46, 1), (48, 1), (55, 3), (64, 1), (66, 1), (68, 1), (73, 1), (74, 1), (77, 1), (88, 1), (100, 1), (132, 1), (149, 1), (208, 1), (273, 1), (346, 1), (385, 1), (426, 1), (476, 1), (482, 1), (512, 1), (531, 1), (604, 1), (675, 1), (834, 1), (896, 1), (1021, 1), (1034, 1), (1116, 1), (1457, 1), (1508, 1), (1942, 1), (2448, 1), (2945, 1), (3383, 1)], [(0, 1), (13, 1), (20, 1), (26, 1), (30, 1), (35, 1), (64, 1), (66, 1), (71, 1), (72, 1), (86, 1), (91, 1), (101, 1), (130, 1), (133, 1), (228, 1), (574, 1), (998, 1), (1145, 1), (1177, 1), (3295, 1), (3710, 1)], [(9, 1), (41, 1), (58, 1), (63, 1), (71, 1), (74, 1), (75, 1), (82, 1), (90, 1), (100, 1), (103, 1), (104, 2), (133, 1), (162, 1), (174, 1), (191, 1), (276, 1), (298, 1), (465, 1), (717, 1), (863, 1)], [(3, 1), (13, 1), (48, 1), (53, 1), (55, 1), (59, 2), (77, 1), (88, 1), (121, 1), (138, 1), (261, 1), (312, 1), (314, 1), (598, 1), (831, 1), (847, 1), (2812, 1)], [(21, 1), (23, 1), (44, 1), (48, 1), (66, 1), (71, 1), (73, 1), (77, 1), (101, 1), (147, 1), (438, 1), (1836, 1), (3711, 1)], [(29, 2), (33, 1), (55, 2), (64, 1), (70, 1), (94, 1), (101, 1), (312, 1), (447, 1), (470, 1), (1169, 1), (1440, 1)], [(12, 1), (19, 1), (21, 1), (29, 1), (30, 1), (55, 1), (63, 1), (64, 1), (77, 1), (82, 1), (86, 1), (91, 2), (98, 1), (100, 1), (170, 1), (228, 1), (249, 1), (326, 1), (354, 1), (726, 1)], [(12, 2), (23, 1), (26, 3), (33, 1), (35, 2), (52, 1), (66, 3), (72, 1), (94, 1), (103, 1), (129, 1), (131, 1), (133, 1), (138, 1), (139, 1), (189, 1), (221, 1), (249, 1), (253, 1), (312, 1), (316, 1), (447, 1), (489, 1), (547, 1), (919, 1), (1966, 1), (3712, 1), (3713, 1)], [(5, 1), (9, 3), (12, 1), (13, 2), (20, 2), (21, 1), (26, 1), (30, 3), (35, 1), (36, 1), (55, 5), (64, 1), (66, 3), (68, 1), (70, 2), (71, 1), (73, 4), (77, 1), (80, 1), (86, 1), (94, 1), (107, 1), (116, 1), (118, 2), (123, 1), (160, 1), (183, 1), (189, 2), (202, 2), (287, 1), (301, 1), (311, 1), (314, 2), (328, 1), (357, 1), (444, 1), (517, 1), (557, 2), (594, 1), (765, 1), (846, 1), (911, 1), (918, 1), (943, 1), (1198, 1), (1286, 2), (1288, 2), (1405, 1), (1574, 1), (3672, 1), (3714, 1)], [(0, 1), (3, 3), (4, 1), (12, 2), (16, 1), (19, 2), (20, 2), (30, 1), (31, 1), (39, 1), (41, 1), (44, 3), (55, 2), (60, 1), (67, 1), (68, 1), (70, 1), (71, 1), (72, 1), (73, 1), (77, 1), (78, 1), (82, 1), (100, 1), (101, 1), (103, 2), (107, 1), (109, 1), (111, 1), (121, 1), (123, 1), (135, 1), (137, 1), (152, 1), (169, 1), (175, 1), (182, 1), (198, 1), (202, 1), (211, 1), (239, 1), (249, 1), (260, 1), (261, 1), (263, 1), (296, 1), (312, 1), (381, 2), (389, 1), (434, 1), (442, 1), (585, 1), (725, 1), (857, 1), (859, 2), (1019, 1), (1028, 1), (1174, 1), (1296, 1), (1331, 1), (1590, 1), (1724, 1), (1882, 1), (2023, 1), (2046, 1), (2446, 1), (2999, 1), (3087, 1), (3715, 1), (3716, 1), (3717, 1), (3718, 1)], [(18, 1), (24, 1), (68, 1), (73, 1), (77, 1), (100, 1), (276, 1), (299, 1), (354, 1), (404, 1), (446, 1), (456, 1), (1341, 1), (1433, 1), (3719, 1), (3720, 1)], [(45, 1), (74, 1), (77, 1), (101, 1), (143, 1), (170, 1), (208, 1), (394, 1), (560, 1)], [(35, 2), (45, 1), (91, 1), (94, 1), (160, 1), (186, 1), (197, 1), (314, 1), (549, 1), (984, 1), (1236, 1)], [(3, 1), (19, 1), (20, 1), (35, 2), (46, 1), (55, 3), (58, 1), (63, 1), (64, 1), (66, 1), (67, 1), (70, 3), (72, 1), (88, 1), (99, 1), (137, 1), (149, 1), (158, 1), (170, 1), (178, 1), (191, 1), (277, 1), (312, 1), (364, 1), (377, 1), (548, 1), (604, 1), (850, 1), (906, 1), (961, 1), (2550, 1), (3721, 1), (3722, 1)], [(3, 1), (33, 1), (35, 2), (46, 1), (53, 1), (55, 2), (59, 1), (63, 1), (70, 1), (115, 1), (131, 1), (241, 1), (312, 1), (407, 1), (433, 1), (549, 1)], [(6, 1), (12, 1), (33, 1), (35, 1), (46, 2), (66, 2), (102, 1), (129, 1), (132, 1), (293, 1), (473, 1), (549, 1)], [(16, 1), (35, 1), (44, 1), (45, 2), (55, 1), (72, 1), (118, 1), (149, 1), (169, 1), (378, 1), (549, 1), (1234, 1), (1344, 1), (3723, 1)], [(4, 1), (8, 2), (10, 1), (13, 4), (19, 2), (33, 2), (35, 1), (55, 2), (60, 1), (66, 1), (79, 1), (109, 1), (129, 1), (131, 1), (132, 1), (167, 1), (206, 1), (224, 1), (551, 1), (616, 1), (653, 1), (1005, 1), (1592, 1), (1670, 1), (2118, 1), (2246, 1), (2827, 1), (3724, 1)], [(8, 1), (12, 2), (26, 1), (29, 1), (31, 1), (32, 1), (33, 1), (36, 1), (46, 1), (55, 4), (64, 2), (66, 1), (71, 1), (73, 1), (79, 1), (227, 1), (726, 1), (789, 1), (825, 1), (834, 1), (863, 1), (1047, 1), (1457, 1), (1508, 1)], [(13, 2), (21, 1), (44, 1), (55, 1), (71, 1), (111, 1), (215, 1), (256, 1), (278, 1), (280, 1), (312, 1), (392, 1), (434, 1), (527, 1), (1088, 1), (1203, 2), (3725, 1)], [(0, 1), (19, 1), (23, 1), (31, 1), (35, 1), (44, 1), (46, 1), (88, 1), (225, 1), (389, 1), (438, 1), (616, 1), (848, 1), (1007, 1)], [(9, 1), (16, 1), (20, 1), (33, 1), (55, 2), (64, 1), (73, 2), (77, 1), (101, 1), (115, 2), (131, 1), (219, 1), (333, 1), (482, 1), (574, 1), (785, 1), (1162, 1), (1230, 1), (1679, 1), (2377, 1), (2794, 1)], [(9, 1), (19, 1), (21, 1), (46, 1), (48, 2), (73, 1), (77, 1), (121, 1), (197, 1), (256, 1), (268, 1), (269, 1), (329, 1), (378, 1), (497, 1), (668, 1), (737, 1)], [(11, 1), (13, 1), (19, 3), (26, 4), (29, 1), (30, 1), (33, 2), (44, 2), (55, 4), (58, 1), (59, 1), (68, 1), (70, 1), (71, 2), (77, 1), (82, 1), (88, 1), (99, 2), (100, 1), (102, 1), (111, 1), (115, 2), (116, 2), (135, 1), (145, 3), (147, 1), (148, 1), (167, 2), (170, 2), (216, 1), (228, 1), (263, 1), (275, 1), (331, 1), (370, 1), (386, 1), (434, 1), (452, 1), (482, 1), (504, 1), (527, 1), (569, 1), (633, 1), (706, 1), (720, 2), (849, 1), (851, 1), (865, 1), (880, 2), (942, 1), (1126, 1), (1143, 1), (1214, 4), (1242, 1), (1262, 1), (1291, 1), (1300, 1), (1323, 1), (1524, 1), (1610, 2), (1647, 1), (1653, 1), (1961, 3), (2078, 1), (2215, 1), (2447, 1), (3726, 1), (3727, 5), (3728, 1)], [(13, 2), (15, 1), (16, 1), (55, 2), (60, 1), (70, 1), (86, 1), (91, 1), (170, 2), (278, 1), (290, 1), (373, 1), (378, 1), (482, 1), (558, 1), (594, 1), (840, 1), (863, 1), (887, 1), (1298, 2), (1440, 1), (1506, 1), (1903, 1), (3729, 1), (3730, 1), (3731, 1), (3732, 1)], [(0, 1), (12, 2), (27, 1), (33, 1), (35, 1), (43, 1), (48, 1), (55, 1), (64, 1), (66, 1), (73, 1), (74, 3), (75, 1), (82, 1), (101, 2), (129, 1), (153, 1), (170, 3), (185, 1), (211, 1), (253, 1), (293, 2), (444, 1), (547, 1), (829, 1), (1114, 1), (1542, 1)], [(12, 1), (26, 1), (33, 2), (48, 1), (131, 1), (152, 1), (927, 1), (1158, 1)], [(13, 1), (15, 1), (19, 1), (33, 1), (35, 1), (46, 1), (55, 1), (66, 1), (68, 1), (69, 1), (77, 1), (138, 1), (145, 1), (170, 1), (208, 1), (477, 1), (658, 1), (679, 1), (859, 1), (1000, 1), (1620, 1), (2402, 1), (3733, 1)], [(3, 1), (26, 1), (63, 1), (64, 1), (91, 2), (94, 1), (100, 1), (130, 1), (595, 1), (630, 1), (631, 1), (717, 1), (991, 1), (998, 1)], [(3, 1), (6, 1), (9, 1), (12, 2), (19, 1), (31, 1), (36, 1), (48, 1), (73, 1), (132, 1), (167, 1), (280, 1), (388, 1), (392, 1), (491, 1), (547, 2), (548, 1), (595, 1), (739, 1), (746, 1), (842, 1), (1221, 1), (2388, 1), (2462, 1), (3734, 1)], [(20, 1), (27, 1), (30, 2), (35, 1), (55, 1), (66, 1), (94, 1), (98, 1), (102, 1), (108, 1), (109, 1), (115, 1), (116, 1), (120, 1), (143, 1), (170, 1), (211, 1), (243, 1), (357, 1), (377, 1), (414, 1), (452, 1), (557, 1), (633, 1), (662, 1), (690, 1), (765, 3), (845, 1), (1055, 1), (2275, 1)], [(9, 1), (15, 1), (16, 1), (20, 1), (21, 1), (23, 1), (26, 1), (29, 1), (30, 1), (33, 2), (35, 1), (44, 1), (45, 1), (46, 1), (54, 1), (55, 7), (59, 1), (64, 1), (66, 2), (67, 1), (70, 1), (73, 5), (74, 1), (88, 3), (93, 1), (101, 1), (115, 1), (131, 1), (153, 1), (170, 1), (175, 1), (239, 1), (327, 1), (400, 1), (401, 1), (404, 1), (416, 1), (421, 1), (425, 2), (432, 1), (452, 1), (459, 2), (489, 1), (490, 1), (505, 1), (539, 1), (554, 1), (616, 2), (675, 1), (691, 1), (743, 1), (781, 1), (819, 1), (865, 1), (884, 1), (1381, 1), (1463, 2), (1476, 1), (1538, 1), (1800, 1), (1903, 1), (2407, 1), (2908, 1), (3019, 1), (3735, 1), (3736, 1), (3737, 1), (3738, 1), (3739, 1), (3740, 1)], [(4, 1), (10, 1), (12, 2), (18, 1), (26, 2), (30, 1), (35, 3), (39, 1), (44, 2), (45, 1), (46, 2), (52, 1), (55, 3), (58, 1), (60, 1), (64, 5), (66, 4), (67, 1), (74, 1), (75, 2), (82, 2), (97, 1), (100, 2), (102, 1), (107, 1), (111, 1), (115, 1), (126, 1), (128, 1), (143, 1), (162, 3), (186, 1), (198, 2), (207, 1), (211, 1), (222, 1), (258, 1), (261, 1), (264, 1), (272, 1), (275, 1), (280, 2), (305, 1), (310, 1), (313, 1), (357, 1), (364, 1), (389, 1), (400, 1), (431, 1), (434, 1), (535, 3), (551, 1), (578, 1), (722, 1), (799, 1), (814, 3), (821, 1), (865, 1), (878, 1), (922, 1), (943, 1), (973, 1), (1020, 1), (1146, 1), (1201, 1), (1338, 1), (1366, 1), (1399, 1), (1610, 1), (1961, 2), (3075, 1), (3272, 1)], [(0, 2), (12, 1), (15, 1), (21, 1), (33, 1), (35, 1), (50, 1), (52, 1), (63, 1), (64, 1), (73, 1), (96, 1), (102, 1), (115, 1), (170, 1), (473, 1), (549, 1), (950, 1), (1286, 1), (1769, 1), (3741, 1)], [(12, 1), (13, 2), (16, 2), (18, 1), (19, 2), (27, 1), (29, 1), (30, 1), (35, 1), (36, 2), (46, 2), (55, 2), (63, 1), (71, 1), (72, 1), (73, 2), (77, 1), (86, 1), (90, 1), (91, 1), (96, 1), (101, 1), (105, 1), (121, 1), (170, 3), (200, 1), (206, 1), (269, 1), (275, 1), (290, 2), (305, 1), (384, 1), (387, 1), (470, 1), (488, 1), (507, 1), (549, 3), (560, 1), (684, 1), (717, 1), (783, 1), (831, 1), (1055, 1), (1433, 2), (1590, 1), (1917, 1), (2173, 1), (2672, 2), (3742, 1)], [(0, 1), (3, 1), (20, 1), (31, 1), (41, 1), (55, 1), (162, 1), (167, 1), (364, 1), (1404, 1)], [(0, 1), (3, 1), (11, 1), (20, 2), (24, 1), (26, 1), (28, 1), (35, 1), (42, 1), (46, 1), (58, 1), (62, 1), (66, 1), (67, 1), (74, 1), (94, 1), (127, 1), (132, 1), (133, 1), (137, 2), (138, 1), (178, 1), (186, 1), (214, 1), (275, 1), (464, 1), (467, 1), (511, 1), (547, 1), (579, 1), (764, 1), (799, 1), (1047, 1), (1325, 2)], [(0, 1), (29, 1), (33, 1), (36, 2), (44, 1), (48, 1), (54, 1), (71, 1), (77, 1), (121, 1), (125, 1), (133, 1), (137, 1), (202, 1), (214, 1), (219, 1), (482, 1), (625, 1), (831, 1), (1229, 2), (1846, 1), (2359, 1), (3099, 1), (3743, 1), (3744, 1), (3745, 1)], [(19, 1), (21, 1), (33, 1), (46, 1), (48, 2), (73, 1), (152, 1), (241, 1), (590, 1)], [(13, 1), (16, 1), (19, 1), (26, 1), (36, 2), (46, 1), (54, 1), (68, 1), (77, 1), (125, 1), (179, 1), (249, 1), (535, 1), (627, 1), (1353, 1), (2692, 1)], [(9, 1), (35, 1), (46, 1), (48, 1), (66, 1), (72, 1), (90, 1), (158, 1), (167, 1), (303, 1), (542, 1), (627, 1), (1452, 1), (1988, 1), (2153, 1)], [(13, 1), (29, 1), (45, 1), (64, 1), (96, 1), (101, 1), (103, 1), (120, 1), (170, 2), (208, 1), (212, 1), (223, 1), (243, 1), (261, 1), (407, 1), (426, 1), (447, 2), (473, 1), (482, 1), (530, 1), (606, 1), (746, 1), (922, 1), (1054, 1), (1213, 1), (1251, 2), (1391, 1), (2707, 1)], [(0, 1), (13, 1), (19, 1), (36, 1), (64, 1), (72, 1), (73, 1), (115, 1), (662, 1), (765, 1)], [(0, 1), (12, 1), (13, 1), (17, 1), (19, 3), (21, 1), (29, 1), (30, 2), (33, 1), (36, 4), (43, 1), (44, 1), (48, 3), (53, 1), (55, 4), (60, 1), (63, 1), (64, 1), (66, 1), (68, 3), (71, 1), (72, 2), (77, 3), (81, 1), (82, 1), (91, 3), (98, 2), (99, 1), (100, 1), (101, 1), (107, 1), (111, 1), (115, 2), (122, 1), (127, 1), (145, 4), (147, 1), (166, 1), (170, 1), (175, 1), (188, 1), (191, 1), (208, 2), (215, 2), (241, 2), (243, 1), (273, 1), (275, 1), (277, 2), (285, 1), (378, 1), (442, 1), (468, 1), (482, 1), (496, 1), (548, 1), (591, 1), (613, 1), (616, 2), (828, 1), (865, 1), (876, 1), (880, 1), (1130, 1), (1144, 1), (1246, 1), (1281, 1), (1445, 1), (1457, 2), (1881, 2), (2013, 1), (2341, 1), (2591, 1), (2854, 1), (3144, 1), (3746, 1), (3747, 1), (3748, 1)], [(10, 1), (11, 1), (16, 1), (20, 1), (26, 2), (55, 1), (64, 1), (68, 1), (72, 2), (77, 1), (101, 2), (147, 1), (152, 1), (161, 1), (204, 1), (361, 1), (431, 1), (434, 1), (482, 1), (821, 1), (1170, 1), (1353, 1), (1385, 1), (1490, 1), (1602, 1), (1610, 1), (3749, 1)], [(12, 1), (16, 1), (19, 1), (21, 1), (50, 1), (133, 1), (234, 1), (312, 2), (671, 1), (3750, 1)], [(10, 1), (14, 1), (16, 1), (20, 1), (36, 1), (44, 1), (48, 1), (55, 1), (63, 1), (73, 1), (77, 1), (94, 1), (108, 1), (312, 1), (519, 1), (527, 1), (3751, 1)], [(13, 2), (19, 1), (21, 1), (33, 1), (43, 2), (48, 1), (132, 1), (241, 1), (477, 1)], [(16, 1), (68, 1), (77, 1), (82, 1), (170, 1), (306, 1), (517, 1), (549, 1), (834, 1), (1862, 1)], [(3, 1), (13, 1), (17, 1), (29, 1), (35, 1), (36, 3), (41, 1), (44, 1), (45, 1), (48, 1), (55, 1), (58, 1), (59, 1), (60, 1), (65, 2), (67, 1), (71, 2), (72, 1), (73, 1), (75, 1), (76, 1), (82, 1), (103, 2), (106, 1), (119, 1), (121, 2), (133, 1), (147, 1), (162, 1), (174, 1), (179, 1), (195, 1), (215, 1), (219, 2), (224, 2), (225, 1), (228, 1), (238, 1), (239, 1), (248, 8), (252, 1), (257, 1), (261, 1), (269, 1), (275, 1), (278, 2), (312, 1), (321, 1), (389, 1), (392, 1), (397, 1), (475, 2), (527, 1), (536, 1), (539, 1), (590, 2), (598, 1), (649, 1), (692, 1), (819, 1), (829, 6), (880, 1), (882, 1), (1013, 1), (1107, 1), (1144, 1), (1227, 1), (1230, 1), (1248, 1), (1302, 1), (1324, 1), (1385, 1), (1455, 1), (1516, 1), (1570, 1), (1629, 1), (1726, 1), (1799, 1), (2172, 2), (2447, 2), (2813, 6), (2998, 1), (3333, 1), (3752, 1), (3753, 1), (3754, 1), (3755, 1), (3756, 1), (3757, 1)], [(13, 1), (21, 1), (36, 1), (96, 1), (132, 1), (144, 1), (290, 1), (496, 1), (499, 1), (524, 1), (679, 1), (803, 1)], [(9, 1), (13, 3), (20, 1), (21, 1), (26, 1), (29, 1), (33, 1), (41, 1), (48, 1), (54, 1), (55, 1), (69, 1), (88, 2), (107, 1), (148, 1), (158, 1), (217, 1), (243, 1), (314, 1), (354, 1), (371, 1), (446, 1), (606, 1), (932, 1), (2296, 1), (2614, 1)], [(11, 1), (16, 1), (19, 1), (36, 1), (44, 1), (55, 3), (64, 1), (72, 1), (91, 1), (100, 1), (127, 1), (133, 1), (143, 1), (145, 1), (191, 1), (224, 1), (238, 1), (268, 1), (269, 1), (275, 1), (296, 1), (443, 1), (505, 1), (507, 1), (527, 1), (726, 1), (1306, 1), (1418, 1), (1419, 1), (1862, 1), (3758, 1)], [(35, 2), (45, 1), (46, 1), (129, 1), (133, 1), (188, 1), (202, 1), (255, 1), (267, 1), (290, 1), (387, 1), (549, 2), (552, 1), (580, 1), (1384, 1), (2822, 1)], [(3, 1), (12, 1), (54, 1), (86, 1), (91, 2), (103, 1), (158, 2), (220, 1), (622, 1), (627, 1), (725, 1), (998, 1)], [(12, 1), (13, 1), (19, 1), (20, 3), (30, 1), (35, 1), (36, 2), (53, 1), (60, 1), (65, 1), (98, 1), (103, 1), (109, 1), (128, 1), (151, 1), (210, 1), (239, 1), (330, 1), (444, 1), (447, 1), (477, 1), (545, 1), (589, 2), (642, 1), (744, 2), (1111, 1)], [(3, 1), (8, 1), (9, 1), (36, 1), (53, 1), (55, 1), (72, 1), (80, 1), (82, 1), (88, 1), (91, 1), (94, 1), (102, 1), (103, 1), (115, 1), (116, 1), (133, 1), (154, 1), (178, 1), (191, 1), (328, 1), (377, 1), (501, 1), (668, 1), (717, 1), (775, 2), (908, 1), (942, 2), (1031, 1), (1047, 1), (1110, 1), (1150, 1), (1580, 1), (2188, 1), (3036, 1)], [(26, 2), (36, 1), (53, 2), (64, 1), (67, 1), (72, 1), (80, 1), (90, 1), (111, 1), (162, 1), (206, 1), (378, 1), (384, 1), (535, 1), (606, 1), (709, 1), (814, 1), (1228, 1)], [(3, 1), (9, 3), (20, 1), (26, 2), (30, 1), (35, 2), (46, 1), (55, 3), (66, 2), (68, 1), (70, 1), (77, 1), (94, 1), (96, 1), (98, 1), (101, 1), (106, 1), (116, 1), (118, 1), (130, 1), (133, 1), (138, 1), (186, 1), (189, 1), (293, 1), (312, 1), (361, 1), (377, 1), (378, 1), (387, 1), (475, 1), (527, 1), (548, 1), (549, 1), (560, 1), (627, 2), (649, 1), (658, 1), (1200, 1), (1786, 1), (3731, 1), (3759, 1)], [(12, 1), (13, 1), (20, 1), (27, 1), (33, 2), (35, 1), (44, 1), (64, 1), (71, 1), (101, 1), (115, 1), (117, 1), (177, 1), (290, 1), (309, 1), (387, 1), (406, 1), (522, 1), (539, 1), (545, 1), (549, 1)], [(48, 1), (68, 1), (77, 1), (86, 1), (224, 1), (444, 1), (499, 1), (997, 1), (1440, 1)], [(0, 1), (12, 1), (17, 1), (26, 1), (36, 1), (55, 2), (64, 1), (68, 1), (71, 1), (77, 1), (100, 1), (170, 2), (276, 1), (312, 1), (345, 1), (397, 1), (548, 1), (984, 1), (1302, 1), (2121, 1)], [(12, 2), (18, 1), (19, 1), (71, 1), (102, 1), (103, 1), (107, 1), (185, 1), (210, 1), (228, 1), (458, 1), (1229, 1)], [(8, 1), (36, 1), (46, 1), (55, 1), (94, 1), (100, 1), (151, 1), (249, 1), (468, 1), (807, 1), (1377, 1)], [(31, 1), (48, 1), (77, 1), (86, 1), (91, 1), (143, 1), (171, 1), (354, 1), (378, 1), (493, 1), (1047, 1), (3165, 1), (3760, 1)], [(19, 1), (30, 1), (36, 1), (44, 1), (58, 1), (60, 1), (62, 1), (66, 1), (68, 1), (77, 1), (98, 1), (126, 1), (263, 1), (286, 1), (340, 1), (434, 1), (447, 1), (726, 1), (773, 1), (1298, 1), (1301, 1), (1593, 1), (3761, 1), (3762, 1), (3763, 1)], [(10, 1), (12, 1), (16, 2), (35, 1), (43, 1), (55, 1), (364, 1), (435, 1), (476, 1), (2342, 1), (3764, 1)], [(9, 1), (12, 3), (13, 2), (26, 5), (30, 2), (42, 1), (44, 2), (48, 1), (50, 1), (53, 1), (54, 1), (64, 1), (68, 1), (71, 1), (75, 1), (77, 1), (78, 1), (90, 1), (98, 1), (103, 1), (107, 1), (125, 1), (133, 2), (137, 1), (145, 2), (146, 1), (152, 3), (162, 1), (167, 1), (191, 1), (211, 1), (223, 1), (273, 1), (317, 1), (353, 1), (388, 1), (391, 1), (406, 1), (466, 1), (540, 1), (569, 1), (607, 1), (741, 1), (842, 1), (998, 1), (1107, 1), (1177, 1), (1385, 1), (1412, 1), (1463, 1), (2759, 1), (3017, 1), (3765, 1)], [(19, 1), (68, 1), (77, 1), (127, 1), (145, 1), (170, 1), (228, 1), (280, 1), (613, 1), (1251, 1)], [(6, 1), (16, 1), (64, 1), (82, 1), (103, 1), (122, 1), (249, 1), (842, 1), (1148, 1), (1230, 1), (1492, 1), (1739, 1), (3766, 1), (3767, 1)], [(19, 1), (77, 1), (145, 1), (219, 1), (563, 1), (831, 1), (1062, 1), (3768, 1)], [(8, 1), (9, 1), (45, 1), (63, 1), (64, 1), (100, 1), (290, 1), (549, 2), (931, 1), (955, 1), (1738, 1), (2454, 1)], [(13, 1), (21, 1), (46, 2), (55, 2), (64, 1), (72, 1), (73, 1), (132, 1), (133, 1), (166, 1), (170, 1), (178, 1), (354, 1), (386, 1), (856, 1), (1055, 1)], [(0, 2), (10, 1), (12, 4), (16, 1), (26, 1), (36, 1), (43, 1), (44, 1), (45, 1), (48, 2), (66, 1), (68, 1), (71, 4), (77, 1), (82, 1), (100, 1), (107, 1), (111, 1), (170, 1), (171, 1), (293, 1), (333, 1), (354, 2), (389, 1), (397, 1), (450, 1), (482, 1), (535, 1), (560, 1), (811, 1), (931, 1), (1062, 1)], [(8, 1), (20, 1), (23, 1), (25, 1), (27, 1), (36, 1), (55, 1), (60, 1), (66, 1), (67, 1), (70, 1), (175, 1), (189, 1), (191, 1), (3769, 1)], [(6, 1), (16, 1), (26, 1), (31, 1), (55, 1), (60, 1), (64, 1), (91, 1), (312, 1), (500, 1), (527, 1), (531, 1), (535, 1), (998, 1), (2370, 1), (2730, 1)], [(0, 1), (8, 1), (11, 1), (12, 1), (19, 1), (35, 1), (55, 2), (64, 2), (66, 1), (72, 1), (80, 1), (81, 1), (88, 1), (111, 1), (123, 1), (145, 1), (186, 1), (311, 1), (476, 2), (539, 1), (549, 1), (563, 1), (832, 1), (963, 1), (3770, 1), (3771, 1)], [(9, 2), (12, 2), (13, 4), (15, 1), (16, 1), (19, 1), (21, 1), (23, 1), (26, 2), (30, 3), (35, 2), (36, 2), (39, 1), (45, 1), (48, 1), (55, 6), (63, 2), (64, 3), (66, 2), (68, 1), (70, 2), (71, 2), (72, 1), (73, 1), (77, 1), (78, 1), (79, 1), (80, 1), (81, 1), (82, 3), (94, 1), (98, 2), (100, 3), (103, 1), (104, 1), (107, 1), (109, 1), (116, 4), (120, 1), (128, 1), (146, 1), (170, 2), (179, 1), (186, 1), (191, 1), (202, 1), (206, 1), (212, 1), (214, 1), (222, 1), (223, 1), (229, 1), (249, 2), (275, 1), (280, 2), (293, 1), (317, 1), (321, 1), (328, 1), (353, 1), (368, 2), (377, 1), (385, 1), (387, 1), (426, 1), (428, 1), (445, 1), (446, 2), (465, 1), (475, 1), (531, 1), (547, 1), (548, 1), (549, 3), (556, 1), (557, 1), (604, 1), (625, 4), (629, 1), (648, 1), (649, 1), (650, 1), (658, 1), (684, 1), (690, 1), (739, 1), (749, 1), (847, 1), (960, 1), (963, 2), (984, 1), (1012, 1), (1021, 1), (1055, 2), (1075, 1), (1114, 1), (1178, 1), (1221, 1), (1229, 1), (1313, 1), (1657, 1), (2614, 1), (2746, 1), (2827, 3), (2957, 1), (3067, 2), (3168, 1), (3177, 1), (3772, 1), (3773, 1), (3774, 1), (3775, 1)], [(31, 1), (35, 1), (45, 1), (64, 1), (65, 1), (66, 1), (77, 1), (137, 1), (314, 1), (385, 1), (426, 1), (531, 1), (549, 1), (1455, 2)], [(27, 1), (36, 1), (53, 1), (60, 1), (64, 1), (65, 1), (71, 1), (145, 1), (195, 1), (215, 2), (239, 1), (298, 1), (453, 1), (536, 1), (539, 1), (569, 1), (709, 1), (869, 1)], [(26, 1), (30, 1), (98, 1), (101, 1), (185, 1), (473, 1), (726, 1), (3776, 1)], [(63, 1), (64, 1), (82, 2), (101, 1), (111, 1), (170, 1), (548, 1), (3777, 1), (3778, 1)], [(12, 1), (13, 1), (27, 1), (33, 1), (35, 1), (44, 1), (55, 1), (73, 1), (77, 1), (82, 1), (99, 1), (101, 2), (115, 1), (130, 1), (131, 1), (137, 1), (138, 1), (170, 2), (189, 1), (225, 1), (285, 1), (299, 1), (361, 1), (452, 1), (468, 1), (482, 1), (489, 1), (585, 1), (848, 1), (3378, 1), (3566, 1)], [(9, 2), (16, 1), (22, 1), (26, 1), (31, 1), (44, 1), (55, 2), (58, 1), (70, 1), (73, 2), (101, 1), (115, 1), (148, 1), (167, 1), (170, 1), (312, 1), (361, 1), (459, 1), (476, 1), (518, 1), (717, 1), (817, 1), (1248, 1), (1463, 1), (3779, 1)], [(0, 1), (3, 1), (12, 1), (19, 1), (35, 1), (59, 1), (60, 1), (66, 1), (100, 1), (102, 1), (158, 1), (387, 1), (1411, 1)], [(7, 1), (13, 1), (46, 1), (55, 1), (58, 1), (66, 1), (74, 1), (100, 2), (101, 1), (115, 1), (189, 1), (275, 1), (364, 1), (1193, 1), (1426, 1), (1429, 1), (3780, 1)], [(12, 1), (23, 1), (25, 1), (33, 1), (50, 1), (67, 1), (73, 1), (94, 1), (131, 1), (313, 1)], [(5, 1), (29, 1), (63, 2), (64, 2), (91, 1), (122, 1), (160, 1), (275, 1), (627, 1), (821, 1), (1149, 1), (1154, 1), (1169, 1), (1429, 1), (1916, 1), (1928, 1), (3467, 1), (3781, 1), (3782, 1), (3783, 1), (3784, 1)], [(9, 1), (11, 1), (20, 1), (44, 2), (60, 1), (71, 1), (73, 1), (77, 1), (115, 1), (135, 1), (137, 1), (158, 1), (170, 3), (225, 1), (280, 1), (387, 1), (394, 1), (482, 1), (507, 1), (527, 1), (597, 1), (817, 1), (836, 1), (882, 1), (1457, 1), (1510, 1), (1610, 1), (3785, 1)], [(11, 1), (35, 1), (46, 1), (55, 1), (78, 1), (138, 1), (311, 1), (564, 1), (1291, 1), (1610, 1)], [(3, 1), (8, 1), (41, 2), (46, 1), (55, 1), (60, 1), (63, 1), (70, 1), (71, 1), (82, 1), (102, 1), (109, 1), (123, 1), (136, 1), (170, 2), (185, 1), (275, 1), (345, 1), (389, 1), (392, 1), (438, 1), (468, 1), (473, 1), (475, 1), (539, 1), (650, 1), (713, 1), (1399, 1), (1426, 1), (1564, 2)], [(24, 1), (41, 1), (76, 1), (94, 1), (107, 1), (225, 1), (290, 1), (438, 1), (539, 1), (835, 1), (850, 1), (3786, 1)], [(12, 4), (23, 1), (26, 2), (30, 1), (35, 1), (36, 1), (43, 1), (53, 1), (54, 1), (59, 1), (64, 3), (65, 1), (72, 1), (82, 1), (99, 1), (126, 1), (149, 1), (170, 3), (180, 1), (208, 1), (275, 1), (280, 1), (365, 1), (378, 2), (406, 1), (452, 1), (496, 1), (499, 1), (627, 1), (679, 1), (696, 1), (847, 1), (865, 1), (919, 1), (1062, 1), (1121, 1), (1273, 1), (1421, 1), (1786, 1), (3347, 1), (3787, 1), (3788, 1), (3789, 1)], [(21, 1), (60, 1), (77, 1), (101, 1), (170, 1), (188, 1), (528, 1), (726, 1), (765, 1), (831, 1), (948, 1), (1035, 1), (2448, 1), (2518, 1)], [(0, 1), (9, 3), (12, 1), (13, 1), (21, 1), (23, 2), (26, 1), (35, 1), (36, 1), (43, 1), (45, 2), (46, 1), (48, 1), (55, 3), (59, 1), (66, 2), (71, 1), (72, 2), (80, 1), (90, 2), (91, 1), (94, 1), (98, 1), (100, 2), (103, 1), (104, 1), (145, 1), (181, 1), (183, 1), (197, 1), (223, 1), (278, 1), (316, 1), (357, 2), (384, 1), (482, 1), (489, 1), (547, 2), (560, 1), (572, 1), (588, 1), (606, 1), (629, 1), (633, 1), (751, 1), (856, 1), (908, 1), (1064, 1), (1322, 1), (1487, 1), (1776, 1), (2246, 1), (2536, 1), (3569, 1), (3731, 1), (3790, 1), (3791, 1), (3792, 2)], [(13, 1), (45, 1), (170, 1), (257, 1), (290, 1), (330, 1), (589, 1), (837, 1), (984, 1)], [(12, 1), (19, 2), (60, 1), (68, 1), (71, 1), (72, 1), (73, 2), (77, 1), (82, 2), (115, 1), (139, 1), (218, 1), (438, 1), (459, 1), (531, 2), (542, 1), (549, 1), (563, 1), (591, 1), (616, 1), (770, 1), (1047, 1), (1539, 1), (1610, 1), (1829, 1), (2072, 1), (3793, 1), (3794, 1), (3795, 1)], [(55, 1), (78, 1), (115, 1), (122, 1), (367, 1), (445, 1), (656, 1), (727, 1), (775, 1), (1034, 1), (1210, 1), (2570, 1), (3796, 1), (3797, 1), (3798, 1), (3799, 1), (3800, 1)], [(8, 1), (11, 1), (12, 1), (13, 1), (16, 3), (19, 1), (20, 1), (26, 2), (29, 1), (33, 1), (34, 1), (36, 1), (41, 2), (50, 1), (54, 1), (55, 2), (59, 2), (61, 1), (65, 1), (71, 1), (79, 1), (82, 1), (86, 1), (88, 1), (104, 1), (142, 1), (165, 1), (170, 1), (189, 1), (225, 1), (275, 1), (298, 2), (316, 1), (439, 1), (444, 1), (507, 1), (537, 1), (569, 1), (606, 1), (684, 1), (919, 1), (981, 1), (1417, 1), (1440, 1), (1455, 1), (3801, 1), (3802, 1), (3803, 1)], [(20, 1), (33, 1), (55, 1), (308, 1), (309, 1), (482, 1), (507, 1), (924, 1), (1032, 1)], [(0, 1), (12, 2), (16, 2), (20, 1), (102, 1), (298, 1), (531, 1), (1216, 1), (1842, 1), (3217, 1), (3804, 1)], [(12, 1), (15, 2), (23, 1), (43, 1), (44, 1), (46, 1), (67, 1), (73, 1), (82, 2), (110, 1), (159, 1), (167, 1), (170, 1), (210, 1), (225, 1), (285, 1), (438, 1), (447, 1), (547, 1), (588, 2), (927, 1), (991, 1), (1287, 1), (3805, 1), (3806, 1), (3807, 1)], [(9, 1), (13, 1), (16, 1), (29, 1), (31, 1), (38, 1), (48, 1), (63, 1), (65, 1), (72, 1), (73, 1), (78, 1), (183, 1), (186, 1), (330, 1), (377, 1), (385, 1), (874, 1)], [(9, 1), (12, 1), (45, 1), (46, 1), (59, 1), (64, 1), (71, 1), (102, 2), (170, 1), (191, 1), (280, 1), (607, 1)], [(9, 1), (11, 1), (12, 1), (26, 1), (33, 1), (53, 1), (59, 1), (68, 1), (77, 1), (82, 1), (93, 1), (132, 1), (133, 1), (392, 1), (531, 1), (1062, 1), (1067, 1), (1411, 1), (1751, 1)], [(0, 1), (3, 2), (10, 1), (14, 1), (16, 1), (55, 1), (71, 1), (151, 1), (167, 1), (170, 1), (191, 3), (370, 1), (691, 1), (726, 1), (927, 1), (1155, 1), (1896, 1), (3808, 1)], [(13, 1), (23, 1), (33, 1), (35, 1), (66, 1), (106, 1), (131, 1), (152, 1), (447, 1), (473, 1), (549, 2), (932, 1), (942, 1), (1187, 1)], [(55, 2), (66, 1), (73, 1), (82, 1), (88, 1), (115, 2), (180, 1), (189, 1), (197, 1), (223, 1), (298, 1), (312, 1), (500, 1), (547, 1), (1005, 1), (1279, 1)], [(23, 1), (30, 1), (36, 1), (60, 1), (71, 1), (100, 1), (348, 1), (438, 1), (525, 1), (982, 1), (1007, 1), (1686, 1)], [(9, 1), (16, 1), (18, 1), (20, 1), (26, 1), (35, 2), (46, 1), (59, 1), (64, 1), (66, 1), (71, 1), (72, 1), (81, 1), (94, 2), (96, 1), (105, 1), (107, 1), (121, 1), (189, 1), (191, 3), (214, 1), (215, 1), (216, 1), (230, 1), (276, 1), (293, 1), (298, 1), (320, 1), (328, 1), (359, 1), (473, 1), (523, 1), (598, 1), (1589, 1)], [(23, 1), (27, 1), (60, 2), (77, 1), (88, 1), (175, 1), (447, 1), (454, 1), (475, 1), (671, 1), (3809, 1), (3810, 1)], [(33, 1), (35, 2), (52, 1), (66, 1), (130, 1), (131, 1), (132, 1), (133, 1), (138, 1), (145, 1), (456, 1), (1111, 1), (1598, 1), (2536, 1)], [(29, 1), (33, 1), (46, 1), (55, 1), (77, 1), (100, 1), (160, 1), (482, 1), (578, 1), (831, 1), (3811, 1)], [(33, 1), (55, 1), (70, 2), (152, 1), (170, 1), (263, 1), (296, 1), (437, 1), (961, 1), (1275, 1), (1344, 1)], [(3, 1), (13, 2), (16, 1), (33, 1), (35, 3), (48, 1), (53, 1), (58, 1), (66, 6), (82, 1), (94, 1), (102, 1), (103, 1), (104, 1), (129, 1), (132, 2), (133, 1), (165, 1), (189, 3), (215, 2), (357, 1), (377, 1), (378, 1), (425, 1), (434, 1), (553, 1), (567, 1), (568, 1), (643, 1), (706, 1), (752, 1), (765, 1), (910, 2), (1055, 1), (1385, 1), (1509, 1), (1553, 1), (1677, 1), (2015, 1), (2444, 1), (2839, 1), (2851, 1), (3076, 1), (3537, 1), (3812, 1), (3813, 1)], [(8, 1), (9, 1), (31, 1), (46, 1), (55, 1), (67, 1), (94, 1), (100, 3), (116, 2), (507, 1), (609, 1), (1116, 1), (1225, 1), (1747, 1), (3505, 1), (3814, 1), (3815, 2)], [(0, 1), (15, 1), (20, 1), (33, 1), (36, 2), (55, 1), (68, 1), (70, 1), (77, 1), (103, 2), (115, 1), (132, 1), (133, 1), (145, 1), (186, 1), (261, 1), (290, 1), (354, 1), (478, 1), (482, 1), (773, 1), (1641, 1), (2187, 1)], [(9, 1), (19, 2), (35, 1), (44, 1), (64, 1), (66, 1), (73, 1), (80, 1), (88, 1), (129, 1), (132, 1), (145, 3), (218, 1), (256, 1), (377, 1), (438, 1), (447, 1), (576, 1), (613, 1), (932, 1), (1191, 1), (1200, 1), (2004, 1), (3150, 1), (3288, 1), (3816, 1), (3817, 1)], [(17, 1), (30, 1), (58, 1), (71, 1), (98, 1), (101, 1), (170, 1), (689, 1), (1379, 1), (2930, 1), (3818, 1), (3819, 1)], [(31, 1), (64, 1), (97, 1), (103, 1), (133, 1), (162, 1), (219, 1), (2462, 1)], [(9, 1), (12, 1), (45, 2), (66, 1), (108, 1), (132, 2), (169, 1), (473, 1), (549, 1), (927, 1)], [(19, 1), (20, 1), (27, 1), (55, 5), (63, 2), (64, 1), (68, 1), (70, 3), (71, 1), (73, 1), (74, 1), (75, 1), (77, 1), (79, 1), (100, 2), (101, 2), (106, 1), (115, 2), (116, 1), (120, 1), (133, 1), (165, 1), (170, 1), (175, 1), (234, 1), (249, 1), (311, 1), (312, 1), (331, 1), (377, 1), (446, 1), (452, 1), (473, 1), (478, 1), (482, 1), (505, 1), (519, 1), (527, 1), (549, 1), (557, 2), (568, 1), (668, 2), (689, 1), (1062, 1), (1119, 1), (1266, 1), (1313, 1), (1326, 1), (1789, 1), (1901, 1), (2137, 1), (2173, 1), (3820, 1), (3821, 1), (3822, 1)], [(0, 1), (3, 1), (9, 2), (19, 1), (35, 1), (62, 1), (63, 2), (66, 1), (72, 1), (73, 2), (77, 1), (100, 1), (125, 1), (132, 1), (145, 2), (152, 1), (175, 1), (273, 1), (392, 1), (394, 2), (476, 1), (547, 1), (559, 1), (588, 2), (631, 1), (873, 1), (876, 1), (921, 1), (1245, 2), (1329, 1), (2215, 1), (3823, 1)], [(10, 1), (11, 1), (13, 1), (19, 4), (21, 1), (26, 2), (36, 1), (41, 1), (44, 1), (48, 1), (53, 2), (55, 1), (58, 1), (62, 2), (67, 1), (68, 1), (70, 1), (71, 2), (77, 1), (82, 4), (88, 1), (111, 1), (116, 1), (121, 1), (146, 1), (148, 1), (150, 1), (158, 2), (161, 1), (170, 1), (171, 2), (175, 1), (211, 1), (216, 1), (239, 1), (314, 1), (331, 1), (354, 1), (367, 1), (392, 1), (444, 1), (473, 2), (539, 1), (571, 2), (585, 1), (591, 1), (617, 1), (695, 1), (813, 1), (1067, 2), (1170, 1), (1227, 1), (1230, 1), (1287, 1), (1346, 1), (1437, 1), (1478, 1), (2387, 1), (2396, 1), (3824, 1), (3825, 1), (3826, 1), (3827, 1), (3828, 1)], [(12, 1), (20, 1), (35, 1), (43, 1), (46, 1), (55, 1), (66, 1), (84, 1), (100, 1), (312, 1)], [(0, 1), (35, 1), (45, 1), (53, 1), (103, 1), (133, 1), (138, 1), (180, 1), (208, 1), (356, 1), (467, 1), (976, 1), (3001, 1)], [(23, 1), (35, 1), (45, 1), (74, 1), (88, 1), (103, 1), (133, 1), (180, 1), (206, 1), (208, 1), (438, 1), (459, 1), (467, 1), (690, 1), (976, 1), (1405, 1)], [(0, 1), (3, 1), (35, 1), (46, 1), (64, 1), (66, 2), (68, 1), (77, 1), (103, 1), (116, 1), (189, 1), (263, 1), (334, 1), (389, 1), (425, 1), (444, 1), (535, 1), (616, 1), (814, 1), (1470, 1), (3829, 1)], [(13, 1), (63, 1), (64, 1), (80, 1), (152, 1), (249, 1), (330, 1), (668, 1), (1187, 1)], [(12, 1), (26, 1), (31, 1), (33, 1), (45, 1), (94, 1), (108, 1), (133, 1), (137, 1), (249, 1), (334, 1), (536, 1), (1431, 1)], [(9, 3), (12, 2), (13, 1), (19, 4), (20, 4), (41, 2), (50, 2), (53, 1), (55, 3), (64, 1), (71, 1), (73, 2), (78, 1), (100, 2), (106, 1), (107, 1), (120, 1), (133, 1), (137, 1), (142, 1), (143, 1), (179, 1), (200, 1), (211, 1), (214, 1), (228, 1), (251, 1), (273, 1), (276, 1), (436, 1), (463, 1), (488, 1), (588, 1), (786, 1), (927, 1), (947, 1), (1769, 1), (3830, 1), (3831, 1)], [(62, 1), (100, 1), (108, 1), (134, 1), (137, 1), (251, 1), (397, 1), (489, 1), (863, 1), (1047, 1), (1353, 1), (3832, 1)], [(16, 1), (19, 1), (44, 1), (58, 1), (74, 1), (91, 1), (101, 1), (115, 1), (133, 1), (143, 1), (152, 1), (161, 1), (170, 1), (225, 1), (297, 1), (472, 1), (1426, 1), (1429, 1), (2478, 1)], [(0, 1), (12, 1), (20, 2), (26, 1), (52, 1), (55, 1), (94, 1), (96, 1), (102, 1), (567, 1), (1438, 1), (1598, 1), (1936, 1), (3833, 1)], [(9, 1), (15, 1), (19, 1), (30, 1), (31, 1), (33, 1), (48, 1), (52, 1), (55, 1), (59, 1), (63, 2), (66, 1), (73, 1), (78, 1), (109, 1), (132, 1), (214, 1), (345, 1), (447, 1), (927, 1), (1012, 1), (3834, 1)], [(24, 1), (35, 1), (44, 1), (46, 2), (55, 1), (88, 1), (101, 1), (132, 1), (133, 1), (223, 1), (238, 1), (479, 1), (1204, 1), (1528, 1), (1570, 1), (1828, 1)], [(9, 1), (31, 1), (45, 1), (46, 1), (64, 1), (82, 1), (101, 1), (106, 1), (111, 1), (148, 1), (152, 1), (164, 1), (253, 1), (265, 1), (413, 1), (529, 1), (548, 1), (725, 1), (746, 1), (996, 1), (3835, 1)], [(9, 1), (11, 1), (12, 1), (55, 1), (77, 1), (78, 1), (98, 1), (100, 1), (125, 1), (290, 1), (394, 1), (2684, 1)], [(12, 2), (41, 1), (43, 1), (48, 1), (55, 2), (58, 1), (66, 1), (102, 1), (103, 2), (115, 1), (127, 1), (139, 1), (147, 1), (200, 2), (280, 1), (312, 1), (389, 1), (468, 2), (504, 1), (560, 1), (610, 1), (837, 1), (1445, 1), (1745, 1), (2004, 1), (2463, 1), (3836, 1), (3837, 1)], [(12, 2), (17, 1), (44, 1), (71, 1), (101, 1), (202, 1), (225, 1), (290, 2), (874, 1)], [(0, 1), (13, 1), (30, 1), (66, 1), (70, 1), (98, 1), (170, 2), (189, 1), (547, 1), (1248, 1), (2082, 1)], [(16, 1), (23, 1), (25, 1), (55, 1), (67, 1), (73, 1), (77, 1), (102, 1), (103, 1), (115, 1), (170, 1), (831, 1)], [(12, 2), (60, 1), (64, 2), (65, 1), (66, 1), (80, 1), (100, 2), (186, 1), (195, 1), (206, 1), (280, 1), (378, 1), (531, 1), (622, 1), (744, 1), (755, 1), (848, 1), (867, 1), (1200, 1), (1275, 1), (1455, 1)], [(0, 1), (9, 1), (12, 1), (13, 1), (18, 1), (19, 2), (20, 1), (21, 1), (29, 1), (33, 2), (48, 1), (55, 1), (63, 1), (64, 1), (68, 1), (71, 1), (77, 1), (86, 2), (90, 1), (91, 1), (100, 1), (102, 2), (129, 1), (133, 1), (142, 1), (293, 1), (444, 1), (454, 1), (523, 1), (529, 1), (609, 1), (1006, 1), (1200, 1), (2251, 1), (2486, 1), (3596, 1), (3819, 1), (3838, 1), (3839, 1), (3840, 1), (3841, 1)], [(0, 1), (12, 1), (16, 1), (17, 1), (54, 1), (60, 1), (71, 1), (96, 1), (102, 1), (216, 1), (239, 1), (297, 1), (363, 1), (588, 1), (869, 1), (3842, 1)], [(10, 1), (16, 1), (60, 1), (64, 1), (107, 1), (149, 1), (167, 1), (254, 1), (414, 1), (1170, 1), (1426, 1), (3843, 1)], [(8, 1), (11, 1), (19, 2), (25, 1), (36, 1), (68, 1), (77, 1), (79, 1), (145, 1), (496, 1), (872, 1), (3106, 1), (3519, 1)], [(11, 1), (13, 1), (16, 1), (17, 1), (26, 3), (44, 1), (45, 1), (55, 2), (66, 1), (86, 1), (96, 1), (165, 1), (241, 1), (488, 1), (545, 1), (627, 1), (1012, 1), (1149, 1), (1151, 1), (2213, 1), (2568, 1), (2889, 1), (3844, 1)], [(13, 1), (55, 1), (68, 1), (77, 1), (96, 1), (98, 1), (100, 1), (102, 1), (111, 1), (170, 1), (261, 1), (365, 1), (499, 1), (528, 1), (3845, 1)], [(15, 1), (48, 1), (53, 1), (170, 2), (238, 1), (386, 1), (1559, 1), (3846, 1)], [(15, 1), (19, 4), (20, 1), (26, 2), (30, 1), (33, 2), (55, 2), (58, 1), (59, 1), (60, 1), (64, 1), (68, 1), (71, 1), (73, 1), (74, 1), (75, 1), (76, 1), (77, 2), (82, 1), (98, 1), (100, 1), (101, 2), (116, 1), (131, 1), (137, 1), (139, 2), (145, 2), (170, 1), (202, 2), (276, 1), (278, 1), (296, 1), (312, 1), (326, 1), (361, 1), (373, 1), (473, 1), (482, 1), (496, 1), (549, 1), (559, 1), (612, 2), (676, 1), (684, 1), (817, 1), (836, 1), (850, 2), (1792, 1), (1825, 1), (1937, 1), (2463, 1), (3847, 1), (3848, 1), (3849, 1)], [(23, 1), (30, 1), (31, 1), (35, 1), (45, 1), (66, 1), (73, 1), (98, 1), (221, 1), (378, 1), (438, 1), (514, 1), (529, 1), (642, 1), (692, 1), (746, 1), (1055, 1), (1329, 1), (1667, 1), (1679, 1), (3850, 1), (3851, 1)], [(46, 1), (106, 1), (133, 1), (162, 1), (253, 1), (293, 1), (942, 1), (1463, 1), (1594, 1), (3727, 1)], [(9, 1), (21, 1), (35, 1), (55, 1), (63, 1), (64, 1), (65, 1), (66, 1), (72, 1), (115, 1), (133, 1), (186, 1), (189, 1), (549, 1), (616, 1)], [(8, 1), (9, 1), (20, 2), (31, 1), (45, 1), (55, 1), (387, 1), (549, 2), (594, 1), (725, 1), (1151, 1), (1657, 1), (2462, 1)], [(19, 1), (23, 1), (36, 1), (45, 1), (54, 1), (68, 1), (71, 1), (77, 1), (91, 1), (121, 1), (132, 1), (202, 2), (476, 1), (539, 1), (594, 1), (848, 1), (1197, 1), (1423, 1), (1592, 1)], [(9, 2), (12, 1), (19, 2), (31, 1), (41, 1), (44, 1), (46, 1), (48, 2), (53, 1), (55, 1), (62, 1), (63, 1), (65, 1), (68, 1), (77, 1), (80, 1), (82, 1), (119, 1), (121, 1), (126, 1), (127, 2), (133, 2), (145, 2), (152, 1), (162, 1), (186, 1), (239, 1), (357, 1), (363, 1), (377, 1), (378, 1), (389, 1), (531, 2), (598, 1), (613, 1), (616, 1), (848, 1), (857, 1), (880, 1), (988, 1), (1137, 1), (1782, 1), (2632, 1), (3852, 1), (3853, 1)], [(33, 1), (54, 1), (55, 2), (60, 1), (115, 1), (125, 1), (170, 1), (669, 1), (890, 1)], [(12, 1), (24, 1), (28, 1), (33, 1), (35, 1), (55, 1), (63, 2), (70, 1), (109, 1), (133, 1), (222, 1), (290, 1), (293, 1), (312, 1)], [(3, 1), (20, 1), (26, 1), (45, 2), (71, 1), (88, 1), (116, 1), (137, 1), (143, 1), (148, 1), (162, 1), (249, 1), (274, 1), (296, 2), (323, 1), (361, 1), (444, 1), (482, 1), (539, 1), (746, 1), (1037, 1), (1269, 1), (1333, 1), (1709, 1), (2013, 1)], [(8, 2), (29, 1), (30, 1), (33, 2), (35, 1), (36, 1), (66, 1), (101, 1), (132, 1), (157, 1), (170, 1), (389, 1), (447, 1), (527, 1), (547, 1), (549, 1), (643, 1), (691, 1), (726, 1), (1248, 1)], [(8, 1), (9, 2), (13, 1), (19, 1), (29, 1), (30, 1), (45, 2), (53, 1), (55, 1), (60, 1), (62, 1), (67, 1), (68, 1), (77, 1), (94, 1), (102, 2), (107, 1), (214, 1), (253, 1), (438, 1), (447, 1), (482, 1), (657, 1), (942, 1), (1047, 1), (1354, 1), (1426, 1), (2026, 1)], [(19, 3), (23, 1), (25, 1), (30, 1), (33, 1), (41, 1), (44, 1), (55, 1), (58, 2), (60, 2), (72, 1), (74, 2), (82, 1), (91, 3), (98, 1), (100, 1), (101, 2), (102, 1), (115, 2), (126, 1), (167, 1), (180, 1), (197, 1), (200, 1), (202, 1), (211, 1), (215, 1), (261, 1), (285, 1), (312, 3), (434, 4), (610, 1), (882, 1), (903, 1), (1097, 1), (1117, 2), (1198, 1), (1275, 1), (1426, 1), (1455, 1), (1491, 1), (1532, 1), (1702, 1), (1754, 1), (3854, 1), (3855, 1), (3856, 1), (3857, 1), (3858, 1)], [(3, 1), (12, 1), (19, 1), (26, 1), (86, 1), (90, 1), (99, 1), (170, 1), (627, 1), (717, 1)], [(8, 1), (13, 1), (15, 1), (35, 1), (41, 1), (45, 1), (66, 1), (71, 2), (88, 1), (103, 1), (111, 2), (162, 1), (169, 1), (170, 1), (189, 1), (280, 1), (438, 1), (444, 1), (531, 1), (850, 1), (1438, 1), (2160, 1)], [(3, 1), (8, 1), (12, 2), (35, 1), (46, 1), (55, 1), (64, 1), (66, 1), (127, 1), (138, 1), (186, 1), (208, 1), (215, 2), (285, 1), (356, 1), (407, 1), (439, 1), (699, 1), (744, 1), (865, 1), (1021, 1), (1274, 1), (1298, 1)], [(16, 1), (27, 1), (28, 1), (30, 1), (35, 1), (36, 2), (45, 1), (46, 1), (63, 2), (64, 2), (67, 1), (88, 3), (91, 1), (94, 1), (98, 3), (103, 1), (129, 1), (132, 1), (137, 1), (139, 1), (186, 1), (209, 1), (290, 1), (312, 1), (365, 2), (379, 1), (444, 1), (447, 1), (478, 1), (549, 2), (587, 1), (624, 1), (643, 2), (668, 1), (699, 1), (727, 1), (926, 1), (1195, 1), (1296, 1), (1340, 1), (1440, 1), (1452, 1), (1463, 1), (1506, 1), (1697, 1), (2313, 1), (3407, 1), (3586, 1), (3693, 1), (3859, 1), (3860, 1)], [(13, 1), (21, 1), (33, 1), (55, 1), (71, 1), (162, 1), (170, 1), (215, 1), (535, 1), (585, 1), (834, 1), (884, 1), (984, 1)], [(10, 1), (12, 1), (17, 1), (19, 3), (33, 1), (58, 1), (59, 2), (71, 1), (74, 1), (102, 2), (107, 2), (127, 1), (131, 1), (132, 1), (135, 1), (145, 1), (170, 5), (198, 1), (215, 1), (275, 1), (482, 2), (513, 1), (545, 1), (803, 1), (1024, 1), (1025, 1), (1175, 1), (1194, 1), (1295, 2), (1510, 1), (2169, 1), (2515, 1), (3861, 1), (3862, 1), (3863, 1), (3864, 1), (3865, 1), (3866, 1)], [(9, 1), (10, 1), (12, 1), (13, 1), (16, 2), (17, 1), (19, 3), (26, 2), (30, 1), (31, 1), (33, 2), (35, 1), (36, 2), (44, 1), (62, 1), (65, 1), (66, 1), (68, 1), (71, 1), (75, 1), (77, 1), (91, 2), (97, 1), (98, 1), (100, 4), (101, 1), (106, 1), (107, 1), (132, 1), (135, 2), (162, 2), (191, 2), (197, 1), (202, 2), (223, 1), (249, 1), (276, 1), (293, 1), (312, 1), (337, 1), (340, 1), (364, 1), (377, 1), (447, 2), (475, 1), (496, 1), (535, 1), (547, 2), (549, 1), (563, 1), (594, 1), (595, 1), (662, 1), (684, 1), (689, 1), (726, 1), (775, 1), (791, 1), (804, 1), (872, 1), (878, 1), (1098, 1), (1125, 1), (1177, 1), (1235, 1), (1248, 1), (1302, 1), (1338, 1), (1353, 1), (1628, 1), (1792, 1), (2151, 1), (2342, 1), (2388, 1), (2506, 1), (2535, 1), (2645, 1), (3583, 1), (3867, 1), (3868, 1), (3869, 1), (3870, 1), (3871, 1), (3872, 1), (3873, 1)], [(16, 1), (46, 1), (68, 1), (77, 1), (96, 1), (132, 1), (137, 1), (278, 1), (527, 1), (857, 1), (1108, 1)], [(0, 1), (3, 1), (8, 1), (12, 1), (13, 1), (24, 1), (27, 2), (35, 1), (36, 1), (45, 1), (55, 1), (59, 1), (66, 2), (73, 4), (98, 2), (101, 1), (104, 1), (119, 1), (134, 1), (138, 2), (158, 2), (189, 1), (195, 1), (285, 1), (425, 2), (446, 1), (549, 1), (581, 1), (588, 1), (630, 1), (631, 1), (744, 1), (819, 1), (910, 1), (1021, 1), (2753, 1), (3208, 2), (3874, 1), (3875, 1)], [(12, 1), (33, 1), (35, 1), (53, 1), (59, 1), (66, 1), (71, 1), (73, 1), (82, 1), (106, 1), (132, 1), (137, 1), (165, 1), (170, 1), (318, 2), (346, 1), (496, 1), (1726, 1), (1917, 1), (2296, 2), (3196, 1), (3876, 1), (3877, 1)], [(10, 1), (14, 1), (16, 1), (19, 1), (23, 1), (25, 1), (26, 1), (27, 1), (77, 1), (145, 1), (170, 1), (218, 1), (326, 1)], [(12, 1), (19, 1), (45, 1), (60, 1), (102, 1), (107, 1), (218, 1), (312, 1), (388, 1), (392, 1), (475, 1), (1107, 1)], [(4, 1), (9, 3), (12, 1), (18, 1), (19, 1), (26, 3), (44, 1), (48, 2), (55, 2), (60, 1), (62, 1), (100, 2), (103, 2), (107, 2), (145, 1), (211, 1), (228, 1), (314, 2), (389, 1), (548, 1), (569, 1), (640, 1), (658, 1), (677, 1), (880, 1), (983, 1), (1191, 1), (2192, 1), (2515, 1), (2828, 1), (3878, 1)], [(12, 1), (28, 1), (35, 1), (45, 1), (46, 1), (53, 1), (68, 1), (73, 1), (77, 1), (94, 1), (103, 1), (111, 1), (115, 1), (132, 1), (293, 1), (354, 1), (549, 2), (870, 1), (1841, 1), (2752, 1)], [(0, 1), (19, 1), (31, 1), (35, 1), (65, 1), (66, 1), (68, 1), (73, 1), (77, 1), (88, 1), (132, 1), (138, 1), (139, 1), (186, 1), (377, 1), (427, 1), (535, 1), (814, 1), (1214, 1)], [(31, 2), (44, 1), (46, 1), (64, 1), (133, 1), (170, 1), (208, 1), (265, 1), (1218, 1), (1236, 1)], [(12, 1), (13, 2), (19, 1), (25, 1), (26, 1), (30, 1), (36, 1), (48, 1), (55, 1), (60, 1), (67, 1), (78, 1), (99, 1), (101, 1), (106, 1), (115, 2), (121, 1), (137, 1), (139, 1), (147, 1), (214, 1), (215, 1), (263, 1), (330, 1), (378, 1), (389, 1), (392, 1), (504, 1), (538, 1), (547, 2), (548, 1), (582, 1), (598, 1), (813, 1), (873, 1), (1107, 1), (1569, 1), (1726, 1), (1731, 1), (2377, 1), (3879, 1), (3880, 1)], [(12, 2), (13, 1), (20, 1), (26, 1), (48, 2), (58, 1), (133, 1), (143, 1), (149, 1), (170, 1), (219, 1), (251, 1), (305, 1), (385, 1), (394, 1), (446, 1), (730, 1), (943, 1), (1143, 1), (1187, 1)], [(19, 1), (26, 1), (31, 1), (46, 2), (48, 1), (77, 1), (228, 1), (239, 1), (293, 1), (329, 1), (354, 1)], [(8, 1), (12, 1), (15, 1), (17, 1), (19, 1), (20, 1), (33, 1), (43, 1), (44, 1), (50, 1), (60, 2), (63, 1), (71, 1), (100, 1), (103, 1), (107, 1), (109, 1), (129, 1), (145, 1), (170, 1), (175, 1), (293, 1), (1331, 1), (1426, 1), (1429, 1), (1560, 1)], [(3, 1), (12, 3), (13, 1), (19, 2), (35, 1), (44, 2), (66, 1), (67, 2), (71, 1), (73, 1), (74, 1), (75, 1), (78, 1), (100, 1), (103, 1), (107, 2), (109, 1), (117, 1), (170, 1), (171, 1), (191, 1), (211, 3), (219, 1), (312, 1), (315, 1), (316, 1), (370, 2), (394, 1), (406, 2), (473, 1), (475, 1), (476, 1), (522, 1), (863, 1), (918, 2), (969, 1), (989, 1), (1400, 1), (1426, 2), (3881, 1), (3882, 1)], [(9, 1), (12, 1), (20, 1), (46, 1), (64, 1), (100, 1), (145, 1), (214, 1), (319, 1), (353, 1), (607, 1), (689, 1), (836, 1)], [(9, 1), (24, 1), (35, 1), (36, 1), (55, 1), (73, 1), (100, 1), (106, 1), (149, 1), (167, 2), (253, 1), (254, 1), (311, 1), (354, 1), (438, 2), (535, 1), (547, 1), (692, 1), (717, 1), (720, 1), (814, 1), (1070, 1), (1296, 1), (1679, 1)], [(10, 1), (12, 1), (17, 1), (22, 1), (26, 2), (27, 1), (29, 1), (30, 1), (33, 2), (35, 1), (41, 1), (55, 1), (66, 1), (68, 1), (77, 1), (94, 1), (107, 1), (131, 1), (132, 1), (170, 3), (191, 1), (370, 1), (404, 1), (612, 1), (850, 1), (1593, 1), (3883, 1)], [(29, 1), (31, 1), (33, 1), (55, 1), (68, 1), (70, 1), (77, 1), (116, 1), (123, 1), (146, 1), (162, 1), (293, 1), (340, 1), (692, 1)], [(33, 1), (58, 1), (94, 1), (127, 1), (132, 1), (162, 1), (280, 1), (856, 1), (1254, 1), (1498, 1)], [(8, 1), (12, 1), (19, 1), (20, 1), (26, 2), (27, 1), (33, 1), (35, 1), (41, 1), (44, 1), (48, 1), (50, 1), (55, 1), (58, 2), (60, 2), (68, 1), (73, 1), (74, 1), (77, 1), (78, 1), (82, 1), (100, 2), (106, 1), (115, 2), (131, 1), (142, 1), (143, 1), (147, 1), (216, 1), (224, 1), (249, 1), (268, 1), (269, 1), (328, 1), (356, 1), (377, 1), (385, 1), (388, 1), (530, 1), (569, 2), (616, 1), (836, 2), (1019, 1), (1144, 1), (1227, 1), (1257, 1), (1324, 1), (1389, 1), (1438, 1), (1598, 1), (1931, 2), (2424, 1), (2457, 1)], [(12, 1), (19, 1), (23, 1), (26, 1), (29, 1), (54, 1), (59, 1), (63, 1), (71, 1), (82, 1), (85, 1), (88, 1), (91, 1), (107, 1), (170, 1), (239, 1), (378, 1), (516, 1), (932, 1)], [(11, 1), (12, 1), (15, 1), (19, 2), (23, 1), (25, 1), (33, 1), (44, 1), (46, 1), (48, 1), (73, 1), (78, 1), (171, 1), (208, 1), (239, 1), (256, 1), (288, 2), (389, 1), (451, 1), (613, 1), (617, 1), (717, 1), (1221, 1), (1251, 1), (1853, 1), (3323, 1), (3884, 1)], [(0, 1), (29, 1), (31, 1), (33, 1), (55, 1), (57, 1), (88, 1), (91, 1), (94, 1), (116, 1), (130, 1), (153, 1), (216, 1), (228, 1), (310, 1), (547, 1), (746, 1), (862, 1), (922, 1), (1978, 1), (2462, 1)], [(12, 1), (26, 1), (28, 1), (35, 1), (36, 1), (48, 2), (64, 1), (68, 1), (77, 1), (140, 1), (276, 1), (382, 1), (385, 1), (394, 1), (524, 1), (539, 1), (552, 1), (591, 1), (727, 1), (755, 1), (765, 1), (848, 1), (880, 1), (928, 1), (932, 1), (1302, 1), (1470, 1), (1593, 1), (3335, 1), (3885, 1), (3886, 1)], [(13, 2), (19, 1), (26, 1), (46, 1), (64, 1), (82, 1), (100, 1), (290, 1), (450, 1), (549, 1), (1221, 1), (1359, 1)], [(26, 1), (30, 1), (44, 1), (94, 1), (138, 1), (139, 1), (293, 1), (496, 1), (610, 1), (1560, 1), (1561, 1), (3887, 1)], [(9, 1), (20, 1), (25, 1), (27, 1), (45, 1), (54, 1), (84, 1), (88, 2), (101, 1), (111, 1), (115, 1), (142, 1), (158, 1), (170, 1), (185, 1), (310, 1), (316, 1), (447, 1), (545, 1), (549, 1), (568, 1), (591, 1), (1221, 2), (1841, 1), (2525, 1)], [(13, 1), (33, 1), (35, 1), (53, 1), (59, 1), (60, 1), (71, 1), (133, 1), (162, 1), (170, 1), (285, 1), (549, 1), (606, 1), (1185, 1)], [(12, 1), (13, 1), (15, 1), (23, 1), (33, 1), (35, 2), (36, 1), (46, 1), (68, 1), (73, 1), (77, 1), (111, 1), (131, 1), (170, 1), (382, 1), (539, 1), (658, 1), (679, 1), (1841, 1), (2662, 1)], [(4, 1), (12, 1), (20, 1), (39, 1), (46, 1), (100, 1), (102, 1), (103, 1), (106, 1), (143, 1), (230, 1), (231, 1), (235, 1), (354, 1), (499, 1), (821, 1)], [(13, 1), (19, 1), (23, 1), (48, 1), (88, 1), (137, 1), (438, 1), (517, 1), (1593, 1)], [(48, 1), (71, 1), (82, 1), (94, 1), (100, 1), (145, 1), (181, 1), (211, 1), (239, 1), (549, 1), (2812, 1), (3888, 1)], [(13, 1), (16, 1), (19, 1), (21, 2), (31, 1), (33, 1), (36, 1), (48, 1), (55, 2), (60, 2), (68, 1), (73, 3), (77, 1), (80, 1), (88, 1), (90, 1), (92, 1), (94, 1), (99, 1), (151, 1), (152, 1), (162, 1), (170, 1), (204, 1), (218, 1), (255, 1), (267, 1), (312, 1), (384, 1), (466, 1), (531, 1), (547, 6), (576, 1), (615, 1), (643, 2), (726, 1), (928, 2), (976, 1), (1132, 1), (1248, 1), (1487, 1), (1602, 1), (2797, 2), (3889, 1), (3890, 1), (3891, 2)], [(20, 1), (29, 1), (41, 1), (55, 1), (71, 1), (91, 2), (94, 1), (100, 1), (101, 1), (138, 1), (170, 2), (186, 1), (197, 1), (211, 1), (239, 1), (295, 1), (322, 1), (690, 1), (1145, 1), (1463, 1), (1641, 1)], [(9, 2), (16, 2), (18, 1), (20, 2), (23, 1), (35, 1), (36, 1), (45, 1), (55, 1), (66, 1), (72, 2), (73, 1), (83, 1), (86, 2), (100, 1), (101, 1), (126, 1), (214, 1), (255, 1), (267, 1), (539, 1), (549, 1), (692, 1), (743, 1), (836, 1), (997, 1), (1107, 1), (1268, 1), (1620, 1), (1659, 1), (1764, 1), (1952, 1), (3892, 1), (3893, 1)], [(20, 1), (35, 1), (46, 1), (55, 2), (70, 1), (78, 1), (100, 1), (138, 1), (286, 1), (295, 1), (312, 1), (539, 1), (549, 1), (976, 1), (1047, 1), (1593, 1), (2252, 1), (3894, 1), (3895, 1), (3896, 1), (3897, 1)], [(23, 1), (27, 1), (73, 1), (88, 1)], [(20, 1), (41, 1), (45, 1), (80, 1), (93, 1), (132, 1), (152, 1), (204, 1), (491, 1), (509, 1), (627, 1), (773, 1), (842, 1), (3240, 1), (3358, 1)], [(0, 6), (3, 1), (8, 3), (10, 2), (12, 2), (13, 2), (16, 2), (18, 1), (19, 1), (20, 3), (23, 1), (24, 1), (26, 8), (27, 2), (28, 3), (30, 4), (33, 1), (35, 16), (36, 4), (39, 3), (41, 1), (45, 2), (46, 1), (48, 2), (53, 2), (55, 3), (58, 1), (60, 8), (63, 2), (64, 4), (66, 13), (68, 1), (69, 1), (71, 1), (73, 1), (75, 1), (77, 1), (80, 1), (82, 2), (88, 3), (94, 1), (95, 1), (97, 1), (98, 9), (99, 1), (100, 1), (103, 1), (116, 2), (121, 2), (126, 2), (133, 1), (145, 4), (149, 1), (151, 1), (153, 2), (158, 2), (167, 2), (179, 2), (184, 1), (186, 2), (189, 1), (198, 1), (202, 1), (204, 1), (215, 2), (216, 1), (230, 1), (235, 2), (244, 1), (253, 2), (256, 1), (258, 1), (261, 1), (280, 1), (285, 1), (325, 1), (364, 1), (374, 1), (377, 1), (378, 1), (384, 1), (387, 3), (389, 3), (410, 1), (438, 2), (440, 1), (447, 1), (452, 1), (456, 1), (459, 1), (473, 1), (482, 2), (491, 1), (494, 1), (504, 1), (531, 1), (535, 2), (541, 2), (547, 1), (559, 1), (568, 1), (597, 1), (599, 2), (647, 1), (648, 1), (657, 1), (661, 1), (668, 1), (691, 3), (716, 1), (723, 5), (732, 1), (734, 3), (744, 1), (751, 3), (759, 1), (763, 1), (765, 5), (768, 1), (799, 1), (801, 1), (810, 1), (814, 2), (850, 1), (873, 1), (880, 1), (896, 1), (910, 3), (923, 1), (931, 1), (943, 1), (963, 1), (972, 1), (1021, 2), (1077, 1), (1080, 1), (1088, 1), (1090, 1), (1097, 1), (1106, 1), (1111, 1), (1200, 1), (1212, 1), (1214, 2), (1230, 1), (1254, 1), (1286, 1), (1301, 1), (1302, 2), (1329, 1), (1359, 1), (1380, 5), (1389, 1), (1451, 4), (1515, 1), (1518, 1), (1525, 1), (1538, 1), (1550, 1), (1553, 6), (1747, 1), (1831, 1), (1942, 1), (1943, 1), (2004, 1), (2064, 1), (2069, 1), (2215, 1), (2219, 1), (2228, 1), (2463, 1), (2690, 1), (2698, 1), (2703, 1), (3022, 2), (3050, 1), (3090, 1), (3277, 1), (3524, 1), (3705, 3), (3812, 3), (3898, 1), (3899, 2), (3900, 3), (3901, 1), (3902, 1), (3903, 1), (3904, 1), (3905, 1), (3906, 1), (3907, 1), (3908, 1), (3909, 1), (3910, 1), (3911, 1), (3912, 6), (3913, 1), (3914, 1), (3915, 1), (3916, 1), (3917, 1), (3918, 1), (3919, 1), (3920, 1), (3921, 2), (3922, 1), (3923, 1)], [(0, 1), (3, 2), (12, 1), (13, 3), (23, 1), (35, 1), (36, 2), (45, 1), (67, 1), (86, 1), (88, 2), (90, 1), (94, 1), (102, 3), (103, 1), (144, 1), (158, 1), (167, 4), (179, 2), (210, 1), (211, 1), (305, 1), (316, 1), (443, 1), (444, 1), (447, 1), (473, 1), (476, 1), (482, 1), (549, 1), (580, 1), (596, 1), (691, 1), (692, 1), (717, 1), (773, 1), (984, 1), (1383, 1), (1521, 1), (1670, 1), (1702, 1), (1923, 1), (3028, 1), (3520, 1), (3674, 1), (3924, 1), (3925, 1), (3926, 1), (3927, 1)], [(12, 1), (18, 1), (24, 1), (26, 1), (75, 1), (100, 1), (103, 1), (162, 1), (206, 1), (216, 1), (221, 2), (377, 1), (385, 1), (387, 1), (404, 1), (456, 1), (658, 1), (661, 1), (691, 1)], [(9, 1), (33, 1), (70, 1), (116, 1), (482, 1), (549, 1), (719, 1), (1031, 1), (1105, 1), (2258, 1), (3928, 1), (3929, 1)], [(12, 1), (19, 1), (21, 1), (35, 1), (39, 1), (41, 1), (55, 1), (59, 1), (60, 2), (63, 1), (66, 1), (67, 1), (69, 1), (70, 1), (71, 1), (75, 1), (94, 1), (96, 1), (99, 1), (100, 1), (102, 1), (170, 1), (191, 1), (312, 1), (353, 1), (384, 1), (386, 1), (505, 1), (1106, 1), (2234, 1), (2312, 1), (3810, 1), (3828, 1)], [(12, 1), (13, 1), (46, 1), (48, 1), (128, 1), (158, 1), (167, 1), (191, 1), (249, 1), (354, 1), (370, 1), (444, 1), (720, 1)], [(9, 2), (15, 1), (35, 1), (55, 4), (71, 2), (78, 1), (125, 1), (170, 2), (211, 1), (215, 1), (264, 1), (385, 1), (444, 1), (447, 1), (528, 1), (642, 1), (677, 1), (847, 2), (1353, 1)], [(0, 1), (9, 2), (12, 1), (19, 2), (21, 1), (26, 4), (30, 1), (44, 1), (45, 1), (48, 1), (50, 1), (53, 2), (55, 4), (60, 2), (63, 1), (64, 1), (68, 1), (70, 2), (77, 1), (98, 3), (100, 1), (143, 1), (170, 2), (171, 1), (253, 1), (278, 1), (290, 1), (296, 1), (305, 1), (314, 1), (316, 1), (356, 1), (361, 1), (377, 1), (438, 1), (464, 1), (473, 1), (585, 1), (813, 1), (829, 1), (832, 1), (1184, 1), (1193, 1), (1225, 1), (1302, 1), (1338, 1), (1535, 1), (1855, 1), (2087, 1), (3502, 2), (3505, 1), (3930, 1)], [(3, 1), (27, 1), (36, 1), (60, 1), (72, 1), (115, 1), (306, 1), (547, 1), (1286, 1), (1748, 1)], [(9, 1), (12, 1), (24, 1), (27, 1), (31, 1), (35, 1), (44, 1), (48, 2), (55, 2), (58, 1), (68, 1), (72, 1), (77, 1), (78, 1), (93, 1), (97, 1), (100, 1), (170, 1), (180, 1), (389, 1), (395, 1), (428, 1), (468, 1), (499, 1), (507, 1), (521, 1), (630, 1), (719, 2), (835, 1), (907, 1), (927, 1), (1430, 1)], [(12, 1), (25, 1), (30, 1), (33, 2), (35, 2), (46, 1), (48, 1), (66, 1), (72, 2), (73, 1), (75, 2), (98, 1), (99, 1), (101, 1), (111, 1), (115, 2), (133, 1), (139, 1), (162, 2), (167, 1), (186, 1), (325, 1), (817, 1), (1006, 1), (1426, 1), (2394, 1), (3931, 1)], [(19, 1), (23, 1), (30, 1), (48, 1), (55, 1), (68, 1), (73, 1), (77, 1), (170, 1), (338, 1), (438, 1), (520, 1), (583, 1), (1593, 1)], [(9, 1), (12, 1), (17, 2), (18, 1), (26, 1), (36, 1), (53, 1), (64, 2), (71, 1), (74, 1), (90, 1), (100, 1), (107, 1), (126, 1), (174, 1), (175, 1), (198, 1), (200, 1), (239, 1), (269, 1), (316, 1), (364, 1), (633, 1), (1090, 1), (1154, 1), (2999, 1), (3932, 1), (3933, 1)], [(13, 1), (19, 1), (20, 1), (31, 1), (46, 1), (55, 3), (63, 1), (64, 2), (67, 1), (71, 1), (91, 2), (162, 1), (170, 1), (320, 1), (354, 1), (444, 1), (475, 1), (476, 1), (726, 1), (825, 1), (1525, 1), (1538, 1), (1658, 1), (3369, 1), (3934, 1), (3935, 1), (3936, 1)], [(0, 1), (3, 1), (21, 1), (26, 1), (27, 2), (48, 1), (58, 1), (99, 1), (100, 1), (133, 1), (253, 2), (1103, 1), (1457, 1), (1816, 1)], [(8, 2), (55, 2), (116, 2), (249, 1), (328, 1), (407, 1), (426, 1)], [(11, 1), (12, 1), (17, 1), (18, 1), (21, 1), (45, 1), (48, 1), (55, 1), (71, 1), (152, 1), (442, 1), (1429, 1), (1435, 1), (1894, 1)], [(13, 1), (19, 2), (20, 2), (25, 1), (44, 1), (53, 1), (55, 1), (66, 1), (71, 1), (99, 1), (101, 1), (112, 1), (132, 1), (137, 1), (139, 1), (142, 1), (152, 1), (162, 1), (198, 1), (214, 1), (249, 1), (253, 1), (268, 1), (277, 2), (336, 1), (361, 1), (384, 1), (470, 1), (491, 1), (510, 1), (531, 1), (548, 1), (588, 1), (630, 1), (631, 1), (679, 1), (819, 1), (1067, 1), (1082, 1), (1776, 1), (3937, 1), (3938, 1)], [(9, 1), (11, 1), (17, 1), (20, 2), (26, 1), (30, 1), (33, 1), (41, 1), (50, 1), (55, 1), (98, 1), (103, 1), (131, 1), (133, 1), (145, 1), (169, 1), (191, 1), (235, 1), (239, 1), (313, 1), (361, 1), (370, 1), (452, 1), (482, 3), (617, 1), (1121, 1), (1629, 1), (2186, 1)], [(13, 2), (21, 1), (31, 1), (35, 1), (46, 2), (48, 1), (55, 1), (66, 1), (73, 1), (618, 1), (803, 1), (922, 1), (1077, 1), (1117, 1), (1491, 1), (1501, 1), (3939, 1)], [(3, 1), (18, 2), (19, 1), (21, 1), (26, 2), (31, 1), (35, 1), (36, 1), (55, 1), (62, 1), (64, 1), (65, 1), (66, 3), (71, 1), (72, 1), (96, 1), (148, 1), (162, 1), (167, 2), (189, 1), (273, 1), (276, 1), (323, 1), (361, 1), (387, 1), (456, 2), (549, 1), (598, 1), (643, 1), (650, 1), (744, 1), (1391, 1), (1629, 1)], [(19, 1), (23, 1), (33, 1), (66, 1), (73, 2), (101, 2), (197, 1), (202, 1), (348, 1), (473, 1), (539, 1), (545, 1), (616, 1), (725, 1), (890, 1), (982, 1), (1192, 1), (1227, 1), (1295, 1), (2778, 1)], [(6, 1), (12, 1), (23, 1), (31, 1), (63, 1), (179, 1), (215, 1), (230, 1), (310, 1), (312, 1), (473, 1), (524, 1), (598, 1), (749, 1), (867, 1), (1160, 1), (1452, 1), (2869, 1)], [(9, 1), (11, 1), (13, 1), (18, 2), (20, 1), (21, 1), (55, 1), (71, 1), (73, 1), (82, 1), (115, 2), (122, 1), (162, 1), (216, 1), (745, 1), (986, 2), (3940, 1)], [(12, 1), (46, 1), (122, 1), (129, 1), (132, 1), (170, 1), (406, 1), (928, 1), (986, 1), (1187, 1)], [(3, 1), (19, 3), (23, 1), (63, 1), (73, 1), (74, 1), (100, 1), (126, 1), (132, 1), (145, 2), (269, 1), (280, 1), (438, 1), (482, 1), (521, 1), (582, 1), (1007, 1), (1837, 1), (3941, 1)], [(3, 1), (46, 1), (55, 1), (70, 1), (96, 2), (132, 1), (153, 1), (186, 1), (365, 1), (377, 1), (984, 1)], [(12, 1), (15, 1), (35, 1), (46, 1), (55, 1), (66, 1), (132, 1), (188, 1)], [(46, 1), (48, 1), (68, 1), (77, 1), (82, 1), (145, 1), (170, 1), (221, 1), (307, 1), (363, 1), (364, 1), (394, 1), (625, 1), (673, 1), (689, 1), (3942, 1), (3943, 1)], [(0, 1), (12, 2), (13, 1), (16, 2), (17, 1), (19, 1), (26, 3), (30, 1), (33, 1), (36, 2), (48, 1), (64, 2), (66, 1), (68, 2), (77, 2), (86, 1), (98, 1), (100, 1), (101, 1), (103, 1), (106, 1), (107, 1), (131, 1), (186, 1), (189, 1), (202, 2), (256, 1), (261, 1), (269, 1), (361, 1), (365, 2), (387, 1), (529, 1), (548, 1), (594, 1), (762, 1), (1111, 1), (1112, 1), (1221, 2), (1726, 1), (3383, 1), (3944, 1)], [(9, 1), (30, 1), (75, 1), (81, 1), (82, 1), (98, 1), (100, 1), (102, 1), (103, 1), (528, 1), (677, 1), (768, 1), (1029, 1), (3945, 1)], [(10, 1), (16, 1), (17, 1), (19, 2), (25, 1), (26, 1), (29, 1), (36, 1), (48, 2), (55, 2), (65, 3), (72, 1), (100, 2), (127, 1), (133, 2), (139, 1), (145, 1), (170, 1), (174, 1), (259, 1), (268, 1), (269, 1), (312, 1), (442, 1), (515, 1), (531, 1), (538, 1), (872, 1), (1001, 1), (1154, 1), (2015, 1)], [(12, 1), (20, 1), (41, 1), (53, 1), (55, 3), (60, 1), (68, 1), (72, 1), (77, 1), (78, 1), (79, 1), (80, 1), (99, 1), (108, 1), (111, 1), (166, 1), (170, 1), (178, 1), (183, 1), (319, 1), (365, 2), (378, 1), (452, 1), (505, 1), (517, 1), (553, 1), (598, 1), (690, 1), (709, 1), (726, 1), (727, 1), (984, 1), (1055, 1), (1081, 1), (1430, 1), (1697, 1), (1812, 1), (2216, 1), (3946, 1), (3947, 1)], [(3, 1), (9, 1), (12, 2), (58, 1), (65, 1), (121, 1), (170, 1), (180, 1), (527, 1), (598, 1), (847, 1), (3546, 1)], [(13, 3), (16, 1), (20, 1), (35, 4), (46, 1), (66, 1), (73, 1), (97, 1), (101, 1), (103, 1), (129, 1), (130, 1), (138, 1), (162, 2), (276, 1), (285, 1), (357, 1), (482, 1), (531, 1), (549, 1), (690, 1), (691, 1), (726, 1), (786, 1), (1081, 1), (1329, 1), (2213, 1), (2598, 2)], [(19, 1), (46, 1), (55, 1), (73, 1), (78, 1), (132, 1), (583, 1), (616, 1), (725, 1), (1609, 1)], [(0, 1), (9, 1), (12, 2), (19, 1), (35, 4), (66, 1), (67, 2), (70, 1), (72, 1), (100, 1), (162, 1), (189, 1), (214, 1), (253, 1), (308, 1), (309, 1), (392, 1), (472, 1), (512, 1), (850, 1), (1019, 1), (1187, 1), (1385, 1)], [(12, 1), (45, 1), (55, 1), (102, 1), (121, 1), (132, 1), (170, 1), (314, 1), (392, 1), (527, 1)], [(9, 1), (12, 1), (13, 1), (39, 1), (55, 2), (64, 2), (100, 1), (107, 2), (378, 1), (531, 1), (536, 1), (549, 1), (609, 1), (668, 1), (757, 1), (894, 1), (989, 2), (1047, 1), (1073, 1), (1178, 1), (1179, 1), (1203, 1), (1411, 1), (1438, 1), (1608, 2), (2475, 1), (2798, 1), (3948, 1)], [(13, 1), (50, 1), (55, 3), (66, 1), (67, 1), (75, 1), (82, 1), (100, 1), (102, 1), (171, 1), (182, 1), (191, 1), (210, 1), (214, 1), (219, 1), (243, 1), (312, 1), (316, 1), (404, 1), (476, 2), (679, 1), (706, 1), (721, 1), (828, 1), (1081, 1), (3949, 1)], [(13, 1), (55, 2), (64, 1), (70, 1), (71, 1), (82, 1), (116, 1), (133, 2), (197, 1), (249, 2), (451, 1), (2161, 1)], [(9, 1), (12, 1), (16, 1), (20, 1), (21, 1), (33, 1), (35, 1), (48, 1), (55, 4), (60, 1), (63, 1), (64, 1), (66, 1), (67, 1), (71, 1), (73, 1), (106, 1), (167, 1), (191, 1), (482, 1), (514, 1), (522, 1), (549, 2), (989, 1), (1075, 1), (1106, 1), (1639, 1), (3950, 1)], [(21, 1), (46, 1), (70, 1), (133, 1), (137, 1), (249, 1), (362, 1), (473, 1), (622, 4)], [(8, 1), (9, 2), (12, 2), (17, 1), (27, 1), (33, 1), (36, 1), (50, 1), (64, 1), (75, 1), (107, 1), (111, 1), (133, 1), (165, 1), (198, 1), (211, 1), (261, 1), (312, 1), (361, 1), (364, 1), (606, 1), (829, 1), (1470, 1), (2359, 1)], [(9, 1), (13, 2), (19, 2), (36, 1), (62, 1), (73, 1), (100, 1), (132, 1), (152, 1), (170, 1), (212, 1), (217, 1), (218, 1), (331, 1), (394, 1), (459, 1), (582, 1), (726, 1), (1253, 1), (1455, 1), (3951, 1)], [(9, 1), (19, 1), (21, 1), (28, 1), (35, 1), (46, 1), (48, 1), (66, 1), (133, 1), (145, 1), (315, 1), (633, 1)], [(12, 1), (26, 1), (33, 1), (43, 1), (64, 1), (155, 1), (415, 1), (471, 1), (535, 1), (625, 1), (1364, 1), (1438, 1), (1846, 1)], [(0, 1), (12, 1), (16, 1), (26, 1), (29, 1), (36, 1), (72, 1), (119, 1), (239, 1), (547, 1)], [(3, 1), (9, 1), (13, 6), (16, 1), (19, 2), (27, 1), (35, 1), (45, 1), (46, 1), (66, 1), (73, 3), (74, 1), (100, 2), (102, 1), (111, 1), (122, 1), (129, 1), (165, 1), (209, 1), (215, 1), (219, 1), (256, 1), (269, 1), (482, 1), (539, 4), (549, 2), (598, 2), (726, 1), (749, 1), (1426, 1), (1478, 1), (1841, 1), (2864, 1)], [(0, 1), (3, 1), (9, 2), (13, 1), (17, 1), (19, 1), (21, 1), (23, 1), (29, 1), (30, 1), (35, 1), (36, 1), (44, 1), (55, 1), (66, 2), (72, 1), (73, 1), (94, 1), (101, 1), (115, 1), (121, 1), (138, 1), (148, 1), (170, 1), (210, 1), (225, 1), (277, 1), (397, 1), (438, 1), (447, 2), (549, 1), (666, 1), (679, 1), (717, 1), (727, 1), (813, 1), (919, 1), (1159, 1), (1329, 1), (1385, 1), (1463, 2), (1641, 1), (3065, 1), (3952, 1)], [(12, 2), (17, 1), (20, 1), (26, 2), (31, 2), (35, 1), (36, 1), (48, 1), (55, 1), (66, 1), (71, 1), (82, 1), (93, 1), (107, 1), (117, 1), (363, 1), (392, 1), (426, 1), (476, 1), (545, 1), (633, 1), (668, 1), (991, 1), (998, 1), (1107, 1), (1364, 1), (3079, 1), (3953, 1)], [(5, 1), (8, 1), (9, 1), (12, 1), (13, 1), (17, 1), (26, 1), (27, 1), (44, 1), (45, 1), (50, 1), (55, 3), (65, 2), (71, 1), (77, 1), (80, 1), (82, 1), (94, 1), (170, 1), (189, 1), (268, 1), (354, 1), (356, 1), (522, 1), (531, 1), (726, 1), (831, 1), (894, 1), (908, 1), (942, 1), (1114, 1), (1148, 1), (1248, 1), (3954, 1)], [(20, 1), (35, 1), (55, 1), (64, 1), (70, 1), (77, 1), (170, 1), (493, 1), (831, 1), (883, 1), (3955, 1)], [(0, 1), (36, 1), (73, 1), (103, 1), (170, 1), (255, 1), (267, 1), (510, 1), (531, 1), (1670, 2), (3906, 1), (3956, 1)], [(0, 1), (12, 3), (16, 1), (26, 3), (35, 2), (48, 1), (53, 1), (55, 1), (60, 1), (62, 1), (63, 1), (64, 2), (66, 2), (68, 1), (70, 2), (77, 1), (78, 2), (82, 1), (94, 1), (102, 2), (133, 1), (149, 1), (162, 1), (170, 1), (179, 1), (191, 3), (210, 1), (273, 1), (356, 1), (423, 1), (493, 1), (539, 2), (563, 1), (865, 1), (878, 1), (908, 1), (910, 1), (1193, 1), (1345, 1), (1439, 2), (1543, 1), (1725, 1), (2173, 1), (3486, 1), (3957, 1), (3958, 1)], [(26, 2), (59, 2), (82, 1), (103, 1), (116, 1), (150, 1), (270, 1), (428, 1), (625, 1), (627, 1), (867, 1), (2161, 1), (3959, 1)], [(3, 1), (16, 1), (31, 1), (35, 2), (55, 1), (63, 1), (66, 1), (73, 1), (78, 1), (94, 2), (100, 1), (115, 2), (151, 1), (170, 1), (211, 2), (248, 1), (447, 1), (539, 2), (819, 1), (2139, 1)], [(3, 1), (6, 1), (12, 2), (13, 1), (35, 1), (43, 1), (44, 1), (46, 1), (99, 1), (225, 1), (356, 1), (394, 1), (594, 1), (598, 1)], [(12, 1), (20, 1), (24, 1), (35, 1), (86, 1), (91, 1), (98, 1), (105, 1), (170, 2), (264, 1), (377, 1), (435, 1), (456, 1), (3323, 1)], [(12, 1), (31, 1), (43, 1), (45, 1), (48, 1), (55, 1), (70, 1), (94, 1), (105, 1), (625, 1), (3960, 1)], [(21, 1), (31, 1), (45, 1), (46, 1), (55, 1), (64, 1), (103, 1), (132, 1), (202, 1), (444, 1), (813, 1), (3961, 1)], [(13, 1), (33, 1), (44, 1), (45, 1), (63, 1), (73, 3), (77, 1), (100, 1), (109, 1), (143, 1), (152, 1), (162, 1), (482, 1), (831, 1), (881, 1)], [(16, 1), (21, 1), (60, 1), (63, 1), (66, 1), (72, 1), (73, 1), (103, 1), (169, 1), (178, 1), (186, 1), (189, 1), (348, 1)], [(9, 1), (12, 3), (13, 1), (20, 1), (21, 1), (26, 2), (27, 1), (33, 1), (45, 1), (48, 1), (55, 1), (64, 1), (66, 1), (68, 1), (71, 1), (77, 1), (101, 1), (107, 2), (111, 1), (129, 1), (133, 1), (198, 1), (209, 1), (891, 1), (1068, 1), (1398, 1), (1704, 1), (1938, 1), (3150, 1), (3962, 1)], [(9, 1), (55, 1), (64, 1), (66, 1), (73, 1), (77, 2), (88, 1), (137, 1), (145, 2), (149, 1), (160, 1), (189, 1), (215, 1), (221, 1), (310, 1), (326, 2), (482, 1), (539, 1), (549, 1), (717, 1), (725, 1), (989, 1), (2462, 1)], [(19, 1), (36, 1), (44, 2), (55, 1), (60, 1), (64, 1), (68, 1), (77, 1), (111, 1), (128, 2), (133, 1), (197, 1), (198, 1), (224, 1), (280, 2), (505, 1), (513, 1), (890, 1), (982, 1), (1327, 1), (2768, 1), (3963, 1), (3964, 1)], [(19, 1), (35, 1), (48, 1), (55, 2), (70, 1), (77, 1), (78, 1), (123, 1), (130, 1), (138, 1), (293, 1), (326, 1)], [(11, 1), (12, 1), (17, 1), (18, 1), (30, 1), (35, 1), (45, 1), (50, 1), (55, 2), (63, 1), (64, 1), (67, 1), (73, 2), (82, 1), (93, 1), (170, 1), (198, 1), (261, 1), (442, 1), (456, 1), (507, 1), (548, 1), (549, 2), (1756, 3), (2917, 1)], [(12, 1), (16, 1), (26, 1), (33, 1), (35, 2), (59, 1), (63, 1), (66, 1), (73, 1), (77, 1), (94, 1), (162, 1), (170, 1), (447, 1), (536, 1), (539, 1), (549, 1), (624, 1), (948, 1), (991, 1), (1302, 1), (1344, 1), (1411, 1), (1928, 1), (2435, 1), (2824, 1), (2999, 1), (3060, 1), (3386, 1), (3785, 1), (3965, 1), (3966, 1), (3967, 1)], [(13, 2), (19, 1), (23, 1), (41, 1), (66, 1), (82, 1), (85, 1), (122, 1), (297, 1), (316, 1), (438, 1), (770, 1), (910, 1), (919, 1), (931, 1), (1192, 1), (1538, 1), (1776, 1)], [(2, 1), (3, 1), (13, 1), (19, 1), (23, 1), (26, 1), (27, 1), (31, 1), (33, 1), (35, 1), (44, 1), (54, 1), (55, 3), (60, 1), (66, 6), (67, 1), (88, 2), (94, 1), (101, 1), (103, 1), (129, 1), (133, 1), (137, 2), (148, 1), (167, 1), (170, 1), (179, 2), (189, 4), (202, 1), (208, 1), (212, 1), (215, 1), (216, 1), (219, 1), (225, 1), (276, 2), (296, 1), (311, 1), (325, 1), (482, 1), (496, 1), (539, 1), (567, 1), (588, 1), (813, 1), (1106, 1), (1107, 1), (1187, 2), (1455, 1), (1487, 1), (1495, 1), (1513, 1), (2486, 1), (3819, 1), (3968, 1), (3969, 1)], [(12, 1), (13, 1), (19, 2), (26, 1), (41, 1), (43, 1), (48, 1), (55, 2), (58, 1), (59, 1), (62, 1), (71, 1), (77, 1), (99, 1), (100, 4), (101, 1), (107, 3), (126, 1), (132, 1), (170, 2), (198, 1), (228, 1), (255, 1), (267, 1), (272, 1), (312, 1), (321, 1), (354, 2), (482, 1), (527, 1), (633, 1), (811, 1), (1227, 1), (1503, 1), (1702, 1), (3785, 1), (3970, 1), (3971, 1)], [(26, 2), (27, 1), (36, 1), (45, 1), (65, 1), (66, 1), (70, 1), (79, 1), (90, 1), (170, 1), (189, 1), (386, 1), (404, 1), (432, 1), (444, 1), (476, 1), (478, 1), (488, 1), (535, 1), (814, 1), (937, 1), (950, 2), (989, 1), (2089, 1), (2137, 1), (2192, 1), (3972, 1), (3973, 1)], [(11, 1), (12, 1), (20, 1), (30, 1), (55, 2), (60, 2), (70, 1), (88, 1), (91, 1), (98, 1), (107, 1), (111, 1), (137, 1), (175, 1), (290, 1), (377, 2), (556, 1), (563, 1), (786, 1), (821, 1), (911, 1), (1001, 1), (1302, 1), (1670, 1), (3318, 2)], [(31, 1), (45, 1), (55, 1), (73, 1), (82, 1), (94, 1), (137, 1), (527, 1), (574, 1), (802, 1), (1630, 1), (3974, 1)], [(9, 2), (12, 5), (13, 1), (17, 2), (19, 8), (21, 2), (27, 2), (36, 1), (39, 1), (41, 1), (43, 4), (44, 5), (55, 2), (58, 1), (63, 1), (64, 2), (66, 3), (71, 5), (72, 1), (73, 5), (74, 1), (85, 1), (88, 2), (95, 1), (97, 1), (99, 3), (100, 2), (101, 1), (102, 1), (103, 1), (107, 2), (111, 1), (115, 9), (125, 1), (133, 2), (143, 1), (170, 1), (179, 1), (189, 1), (191, 1), (202, 3), (208, 1), (211, 1), (215, 3), (224, 3), (225, 1), (228, 1), (253, 1), (261, 4), (269, 1), (273, 1), (275, 1), (278, 1), (280, 1), (289, 1), (290, 1), (312, 1), (316, 1), (346, 1), (353, 1), (364, 1), (377, 1), (384, 2), (415, 1), (443, 1), (444, 1), (496, 1), (521, 1), (538, 1), (548, 1), (565, 1), (569, 2), (585, 2), (596, 2), (627, 1), (630, 2), (631, 2), (648, 3), (675, 2), (807, 1), (836, 1), (878, 1), (906, 1), (948, 2), (992, 1), (996, 1), (1021, 1), (1034, 1), (1051, 1), (1110, 1), (1136, 1), (1198, 1), (1202, 1), (1245, 1), (1248, 1), (1302, 1), (1333, 1), (1344, 1), (1362, 1), (1424, 1), (1430, 2), (1560, 3), (1754, 1), (1788, 1), (1824, 2), (1825, 1), (1841, 1), (1887, 1), (1918, 1), (1996, 1), (2078, 1), (2234, 1), (2510, 1), (2819, 1), (2869, 1), (2957, 2), (3195, 1), (3313, 1), (3659, 1), (3975, 1), (3976, 1), (3977, 1), (3978, 1), (3979, 1), (3980, 1), (3981, 1), (3982, 1), (3983, 1)], [(29, 1), (33, 1), (46, 1), (91, 1), (132, 1), (133, 1), (689, 1), (1177, 1), (1440, 1), (1943, 1)], [(0, 1), (3, 3), (8, 2), (9, 1), (11, 1), (13, 1), (15, 1), (17, 1), (18, 1), (19, 2), (20, 3), (21, 1), (30, 4), (35, 10), (36, 1), (39, 1), (44, 3), (45, 1), (47, 1), (48, 1), (53, 1), (54, 1), (55, 6), (62, 1), (64, 2), (65, 1), (66, 12), (67, 1), (68, 4), (71, 1), (73, 2), (77, 4), (82, 2), (98, 2), (100, 1), (103, 2), (105, 1), (106, 1), (133, 1), (134, 1), (138, 3), (139, 1), (145, 1), (169, 1), (170, 1), (175, 1), (181, 1), (197, 1), (221, 1), (225, 1), (251, 1), (261, 1), (264, 1), (268, 1), (323, 2), (328, 3), (354, 2), (357, 1), (377, 2), (378, 1), (384, 1), (385, 1), (434, 1), (444, 1), (447, 4), (451, 4), (456, 1), (473, 1), (489, 1), (490, 1), (496, 1), (501, 1), (507, 3), (535, 3), (549, 4), (627, 1), (636, 1), (662, 2), (668, 1), (690, 1), (706, 1), (723, 1), (726, 1), (773, 1), (811, 1), (814, 3), (832, 1), (863, 1), (865, 1), (896, 1), (908, 1), (921, 1), (963, 1), (1007, 2), (1064, 1), (1068, 1), (1081, 1), (1248, 2), (1338, 1), (1384, 1), (1438, 1), (1478, 1), (1672, 1), (1702, 2), (1776, 1), (1879, 1), (1904, 1), (1928, 1), (2015, 2), (2047, 1), (2294, 1), (2463, 1), (3051, 1), (3316, 1), (3973, 4), (3984, 1), (3985, 1)], [(0, 1), (9, 1), (20, 1), (26, 2), (44, 1), (45, 1), (46, 1), (55, 1), (66, 1), (67, 1), (68, 1), (77, 1), (102, 1), (106, 1), (111, 3), (158, 1), (189, 2), (214, 1), (224, 1), (251, 1), (275, 1), (277, 1), (290, 1), (385, 1), (548, 1), (1789, 1), (1841, 1), (3986, 1)], [(4, 1), (6, 2), (9, 1), (12, 2), (20, 3), (29, 2), (30, 3), (31, 2), (35, 2), (43, 1), (46, 4), (63, 1), (66, 1), (73, 1), (74, 2), (96, 1), (100, 1), (102, 1), (109, 1), (126, 2), (132, 4), (138, 2), (143, 2), (148, 3), (149, 1), (162, 2), (211, 1), (273, 1), (378, 1), (431, 1), (434, 1), (668, 1), (719, 1), (854, 1), (1007, 1), (1146, 2), (1200, 1), (1254, 1), (1301, 1), (1492, 1), (1521, 1), (3987, 1), (3988, 1), (3989, 1), (3990, 1), (3991, 1), (3992, 1)], [(9, 1), (15, 1), (19, 1), (21, 1), (48, 1), (58, 1), (60, 1), (68, 1), (77, 1), (100, 2), (106, 1), (133, 1), (179, 1), (253, 1), (275, 1), (371, 1), (451, 1), (468, 1), (529, 1), (595, 1), (717, 1), (1426, 1), (2004, 1)], [(12, 1), (21, 1), (35, 1), (43, 1), (45, 1), (60, 1), (72, 1), (94, 1), (107, 1), (177, 1), (475, 1)], [(0, 1), (19, 1), (26, 1), (27, 1), (30, 2), (31, 1), (55, 1), (98, 1), (100, 1), (101, 1), (102, 1), (152, 1), (170, 1), (253, 1), (312, 1), (317, 1), (331, 1), (345, 1), (627, 1), (1149, 1)], [(9, 2), (19, 2), (26, 1), (29, 2), (44, 1), (71, 1), (90, 1), (93, 1), (145, 1), (158, 1), (225, 1), (1521, 1)], [(4, 1), (13, 1), (45, 1), (64, 1), (71, 1), (90, 1), (91, 1), (93, 1), (152, 2), (161, 1), (3272, 1)], [(12, 1), (13, 2), (19, 2), (29, 1), (33, 1), (36, 2), (41, 1), (44, 1), (55, 2), (64, 1), (68, 1), (70, 1), (73, 1), (77, 1), (78, 1), (81, 1), (86, 2), (91, 1), (101, 1), (132, 1), (139, 1), (185, 1), (219, 2), (261, 1), (275, 1), (298, 1), (476, 1), (528, 1), (531, 1), (535, 1), (536, 1), (569, 1), (814, 1), (944, 1), (1324, 1), (1457, 1), (2172, 1), (2628, 1), (2635, 1), (3993, 1)], [(0, 1), (9, 1), (13, 2), (19, 1), (21, 1), (26, 1), (46, 1), (48, 1), (53, 1), (55, 4), (59, 2), (60, 1), (62, 1), (64, 1), (68, 1), (70, 1), (71, 2), (77, 1), (78, 1), (100, 2), (106, 1), (216, 1), (261, 2), (378, 1), (394, 1), (468, 1), (533, 1), (616, 1), (904, 1), (944, 1), (1002, 1), (1047, 1), (1178, 1), (1179, 1), (1312, 2), (1430, 1), (1431, 1), (1510, 1), (2448, 1), (3994, 1)], [(9, 1), (11, 1), (26, 2), (29, 1), (33, 1), (35, 1), (45, 1), (55, 1), (63, 1), (64, 1), (66, 1), (68, 1), (77, 1), (78, 1), (96, 1), (110, 1), (145, 1), (189, 1), (191, 1), (314, 1), (370, 1), (466, 1), (482, 1), (692, 1), (720, 1), (945, 1), (1248, 1), (1730, 1), (2160, 1), (2869, 1), (3846, 1), (3995, 1), (3996, 1), (3997, 1)], [(0, 2), (3, 1), (31, 1), (80, 1), (146, 1), (147, 1), (184, 1), (324, 1), (333, 1), (662, 1), (765, 1), (989, 1), (1304, 1), (1426, 1), (1677, 1), (3420, 1), (3998, 1)], [(9, 1), (20, 1), (33, 1), (44, 1), (62, 1), (66, 1), (67, 1), (71, 2), (82, 2), (84, 1), (86, 1), (91, 1), (95, 1), (100, 1), (115, 1), (126, 1), (224, 1), (230, 1), (261, 1), (273, 1), (278, 1), (345, 1), (354, 1), (374, 1), (385, 1), (588, 1), (630, 1), (791, 1), (1081, 1), (1402, 1), (1469, 1), (1574, 1), (2147, 1), (3084, 1), (3999, 1)], [(22, 1), (45, 1), (94, 1), (102, 1), (116, 1), (126, 1), (133, 1), (162, 1), (169, 1), (388, 1), (482, 1), (538, 1), (874, 1), (1175, 1), (1243, 1), (1325, 1), (1864, 1), (2195, 1), (2657, 1)], [(64, 1), (132, 1), (145, 2), (266, 1), (459, 1), (479, 1), (545, 1), (657, 1), (1204, 1), (1437, 1)], [(13, 1), (55, 2), (71, 1), (78, 1), (215, 1), (296, 1), (312, 1), (318, 1), (459, 1), (1004, 1)], [(10, 1), (14, 1), (16, 1), (19, 1), (21, 1), (33, 1), (55, 1), (71, 1), (73, 1), (77, 1), (78, 1), (100, 1), (106, 1), (111, 1), (145, 1), (179, 1), (253, 1), (356, 1), (507, 1), (539, 1), (813, 1), (831, 1), (1067, 1), (1144, 1), (1227, 1)], [(8, 1), (9, 1), (13, 1), (16, 1), (18, 1), (23, 2), (26, 1), (30, 2), (44, 2), (45, 1), (55, 2), (64, 1), (67, 1), (68, 2), (73, 1), (77, 2), (88, 1), (98, 2), (100, 1), (101, 1), (121, 1), (312, 1), (316, 1), (447, 1), (456, 1), (598, 1), (998, 1), (1353, 1), (3396, 1)], [(9, 1), (20, 1), (21, 1), (23, 1), (26, 1), (55, 1), (66, 1), (132, 1), (170, 2), (189, 1), (202, 1), (210, 1), (438, 1), (482, 1), (524, 1)], [(9, 1), (19, 1), (20, 1), (23, 1), (25, 1), (33, 2), (44, 1), (55, 1), (64, 1), (68, 1), (77, 1), (100, 1), (145, 1), (152, 1), (171, 1), (224, 1), (225, 1), (255, 1), (267, 1), (290, 1), (370, 1), (385, 1), (470, 1), (498, 1), (539, 1), (549, 1), (1144, 1), (1226, 1), (1302, 2), (1426, 1), (2339, 1), (2380, 1), (3191, 1)], [(8, 1), (17, 1), (35, 1), (45, 1), (55, 1), (63, 1), (64, 1), (67, 1), (70, 1), (72, 1), (74, 1), (100, 1), (106, 2), (170, 2), (180, 1), (276, 1), (315, 1), (446, 1), (519, 1), (674, 1), (852, 1), (878, 1), (989, 1), (1254, 2), (1438, 1), (4000, 1)], [(16, 1), (29, 1), (33, 1), (35, 1), (45, 2), (50, 1), (58, 1), (63, 1), (66, 1), (102, 1), (277, 1), (288, 1), (405, 1), (438, 1), (950, 1), (1567, 1)], [(0, 1), (3, 1), (12, 1), (26, 1), (45, 1), (55, 4), (64, 1), (70, 1), (102, 1), (108, 1), (115, 1), (170, 1), (218, 1), (243, 1), (244, 1), (255, 1), (267, 1), (311, 1), (324, 1), (327, 1), (374, 1), (452, 1), (505, 1), (507, 1), (527, 1), (557, 1), (633, 1), (745, 1), (765, 1), (926, 1), (1106, 1), (1440, 1), (3185, 1), (4001, 1)], [(13, 1), (26, 1), (33, 1), (86, 1), (101, 1), (130, 1), (131, 1), (132, 1), (133, 1), (170, 1), (273, 1), (394, 1), (482, 1), (651, 1), (662, 1), (726, 1)], [(10, 1), (12, 1), (15, 1), (16, 1), (20, 1), (26, 3), (27, 2), (33, 1), (36, 1), (43, 1), (44, 1), (48, 1), (53, 1), (55, 1), (60, 1), (63, 2), (66, 1), (67, 1), (70, 1), (94, 1), (100, 1), (131, 1), (162, 1), (214, 1), (223, 1), (290, 1), (392, 1), (482, 1), (825, 2), (1887, 1), (1995, 1), (4002, 1)], [(6, 1), (10, 2), (12, 2), (19, 2), (20, 1), (22, 1), (26, 3), (30, 2), (33, 1), (36, 1), (43, 2), (44, 1), (55, 1), (59, 1), (71, 1), (78, 1), (89, 1), (97, 1), (98, 1), (99, 1), (100, 1), (101, 1), (106, 1), (111, 2), (115, 2), (142, 1), (147, 1), (149, 1), (162, 1), (208, 1), (215, 1), (248, 1), (251, 1), (261, 1), (263, 1), (273, 1), (280, 1), (361, 1), (386, 1), (387, 1), (488, 1), (491, 1), (513, 1), (527, 1), (545, 1), (572, 1), (837, 1), (842, 1), (850, 1), (943, 1), (1034, 1), (1073, 1), (1082, 1), (1092, 1), (1426, 1), (1489, 1), (1560, 1), (1561, 1), (1793, 1), (1846, 1), (2057, 1), (2851, 1), (4003, 1), (4004, 1)], [(0, 1), (9, 1), (16, 1), (35, 1), (55, 1), (88, 1), (94, 1), (99, 1), (100, 2), (103, 1), (133, 1), (211, 1), (328, 1), (529, 1), (585, 1), (595, 1), (668, 1), (706, 1), (834, 1), (984, 1), (1130, 1), (1440, 1)], [(9, 1), (12, 1), (13, 5), (17, 1), (18, 1), (19, 2), (20, 4), (27, 1), (30, 1), (36, 2), (44, 1), (45, 1), (55, 5), (58, 1), (59, 1), (64, 4), (66, 1), (70, 2), (71, 1), (72, 1), (73, 1), (74, 2), (82, 2), (86, 1), (88, 4), (90, 2), (91, 4), (95, 1), (96, 1), (98, 2), (100, 1), (101, 1), (103, 1), (105, 2), (119, 2), (121, 2), (126, 1), (139, 1), (160, 2), (167, 1), (170, 1), (181, 1), (214, 1), (249, 1), (253, 1), (269, 1), (273, 1), (274, 1), (297, 1), (314, 1), (319, 1), (345, 1), (353, 1), (361, 2), (381, 1), (382, 1), (384, 1), (385, 1), (392, 1), (427, 1), (434, 1), (438, 1), (447, 1), (454, 1), (456, 1), (459, 2), (482, 1), (497, 1), (504, 1), (525, 1), (538, 2), (539, 2), (549, 1), (563, 1), (570, 1), (591, 1), (598, 2), (604, 1), (606, 1), (610, 1), (656, 1), (658, 1), (726, 1), (813, 1), (855, 2), (878, 1), (927, 1), (942, 1), (1107, 2), (1248, 1), (1251, 1), (1312, 1), (1473, 1), (1478, 2), (1487, 1), (1789, 1), (1790, 1), (1894, 1), (2048, 1), (2169, 1), (2236, 1), (2338, 1), (2366, 1), (2407, 2), (2660, 1), (2796, 1), (2845, 1), (3165, 1), (4005, 1), (4006, 3), (4007, 1), (4008, 3), (4009, 1), (4010, 1), (4011, 1), (4012, 1), (4013, 1), (4014, 1)], [(3, 1), (8, 1), (12, 1), (16, 1), (19, 2), (22, 1), (26, 2), (33, 2), (52, 1), (64, 1), (67, 1), (70, 1), (71, 1), (73, 1), (94, 2), (99, 1), (100, 1), (106, 1), (129, 1), (133, 1), (145, 1), (152, 1), (158, 1), (167, 1), (170, 2), (179, 1), (191, 1), (198, 1), (249, 2), (254, 1), (256, 1), (261, 1), (310, 1), (311, 1), (316, 1), (365, 1), (378, 1), (398, 1), (720, 1), (786, 1), (932, 1), (940, 1), (1021, 2), (1145, 1), (1300, 1), (1487, 1), (1972, 1), (2102, 2), (2195, 1), (2543, 1), (2751, 1), (3422, 1)], [(33, 1), (46, 1), (54, 1), (70, 1), (82, 1), (123, 1), (133, 1), (535, 1), (746, 1), (931, 1), (1001, 1), (1543, 1), (1763, 1), (4015, 1)], [(19, 1), (36, 1), (41, 1), (46, 1), (48, 1), (55, 1), (66, 2), (70, 1), (72, 1), (73, 1), (74, 2), (77, 1), (82, 1), (102, 1), (109, 1), (115, 3), (143, 1), (184, 1), (248, 1), (275, 1), (312, 1), (326, 1), (465, 1), (532, 1), (542, 1), (569, 1), (817, 1), (930, 1), (947, 1), (1227, 1), (1423, 1), (2197, 1), (2535, 1), (4016, 1)], [(10, 1), (16, 1), (21, 1), (39, 1), (60, 1), (71, 1), (91, 1), (133, 1), (135, 1), (215, 1), (231, 1), (353, 1), (475, 1), (1400, 1), (4017, 1), (4018, 1)], [(0, 1), (4, 1), (12, 2), (20, 1), (21, 1), (25, 1), (27, 1), (30, 1), (35, 1), (36, 1), (48, 2), (53, 1), (55, 2), (58, 1), (59, 2), (60, 1), (70, 2), (71, 1), (72, 1), (73, 2), (78, 1), (88, 1), (98, 1), (99, 1), (100, 1), (101, 1), (105, 1), (111, 1), (117, 1), (118, 1), (134, 1), (145, 1), (165, 1), (170, 1), (213, 1), (222, 1), (260, 1), (269, 1), (361, 1), (377, 1), (378, 3), (379, 1), (387, 1), (389, 1), (423, 1), (446, 1), (468, 1), (497, 2), (527, 2), (549, 1), (557, 1), (633, 1), (658, 1), (729, 1), (749, 1), (813, 1), (832, 1), (883, 1), (895, 1), (1215, 1), (1430, 1), (1610, 1), (1793, 1), (2057, 1), (3447, 1), (4019, 1), (4020, 1), (4021, 1)], [(0, 1), (12, 2), (13, 2), (16, 1), (18, 1), (19, 1), (30, 1), (34, 1), (35, 3), (36, 1), (41, 1), (44, 1), (55, 10), (66, 7), (69, 1), (70, 1), (72, 2), (73, 17), (80, 1), (98, 1), (100, 2), (104, 2), (107, 1), (111, 2), (113, 1), (116, 1), (130, 1), (133, 1), (137, 1), (145, 3), (158, 1), (162, 1), (170, 2), (180, 1), (189, 1), (215, 1), (296, 2), (311, 1), (314, 1), (316, 1), (323, 1), (328, 3), (356, 1), (364, 1), (377, 2), (388, 1), (409, 1), (454, 1), (488, 1), (528, 1), (531, 1), (539, 1), (554, 1), (557, 2), (560, 1), (572, 1), (585, 1), (591, 1), (598, 2), (625, 1), (626, 1), (643, 1), (673, 1), (679, 3), (702, 1), (721, 1), (751, 1), (755, 1), (765, 2), (775, 1), (821, 1), (828, 1), (857, 1), (880, 2), (908, 1), (911, 3), (927, 1), (1030, 1), (1159, 3), (1189, 1), (1215, 2), (1227, 1), (1279, 1), (1344, 1), (1380, 1), (1439, 3), (1510, 2), (1539, 1), (1578, 1), (1668, 1), (1971, 1), (2015, 1), (2057, 1), (2137, 1), (2273, 1), (2754, 1), (2755, 1), (2804, 1), (2920, 1), (3084, 1), (3102, 1), (3355, 1), (3931, 1), (4022, 1), (4023, 1), (4024, 1), (4025, 1), (4026, 1), (4027, 1)], [(12, 2), (13, 2), (16, 1), (19, 5), (21, 1), (27, 1), (46, 1), (55, 1), (60, 1), (66, 1), (68, 1), (70, 1), (71, 2), (72, 2), (77, 1), (94, 1), (103, 2), (107, 2), (111, 1), (127, 1), (132, 3), (143, 1), (145, 1), (147, 2), (148, 1), (152, 1), (175, 1), (194, 1), (269, 2), (275, 1), (338, 1), (356, 1), (468, 1), (477, 1), (478, 1), (496, 1), (515, 2), (596, 1), (616, 1), (684, 1), (749, 1), (812, 1), (829, 1), (850, 1), (976, 1), (1088, 1), (1426, 1), (1478, 1), (1513, 1), (1608, 1), (2057, 1), (2999, 1)], [(3, 1), (17, 1), (19, 1), (44, 1), (48, 2), (53, 1), (55, 1), (62, 1), (68, 1), (73, 1), (77, 1), (121, 1), (147, 1), (152, 1), (161, 1), (169, 1), (194, 1), (202, 1), (275, 1), (308, 1), (726, 1), (848, 1), (850, 1), (859, 1), (880, 1), (881, 1), (931, 1), (1740, 1), (2354, 1), (2813, 1), (3196, 1), (3694, 1), (4028, 1)], [(3, 1), (7, 1), (9, 1), (12, 4), (26, 2), (36, 1), (55, 4), (60, 2), (64, 3), (71, 1), (100, 1), (116, 1), (133, 2), (137, 1), (170, 1), (180, 2), (215, 1), (269, 1), (353, 1), (473, 1), (569, 1), (622, 1), (721, 1), (744, 1), (749, 1), (865, 1), (894, 1), (1088, 1), (1108, 1), (1273, 1), (1455, 1), (1456, 1), (2057, 1), (2346, 1), (2492, 2), (2585, 1), (3684, 1), (4029, 1), (4030, 1), (4031, 1), (4032, 1)], [(11, 1), (12, 1), (35, 1), (66, 1), (88, 1), (105, 1), (107, 1), (133, 1), (145, 1), (161, 1), (167, 1), (208, 1), (221, 1), (298, 1), (385, 1), (467, 1), (489, 1), (751, 1), (984, 1), (1260, 1), (1375, 1), (2073, 1), (2101, 1), (2552, 1), (3329, 1), (4033, 1)], [(12, 1), (15, 1), (16, 1), (21, 1), (55, 2), (59, 1), (70, 1), (73, 1), (94, 1), (102, 1), (111, 1), (144, 1), (213, 1), (219, 1), (304, 1), (316, 2), (364, 1), (377, 2), (413, 1), (447, 1), (473, 1), (557, 1), (668, 1), (847, 1), (863, 1), (1064, 1), (1074, 1), (1136, 1), (1179, 1), (1329, 1), (1860, 1), (3979, 1), (4034, 1), (4035, 1), (4036, 1)], [(20, 1), (31, 1), (33, 1), (44, 1), (46, 1), (88, 1), (131, 1), (142, 1), (152, 1), (214, 1), (261, 1), (273, 1), (298, 1), (509, 1), (547, 1), (549, 1), (588, 1), (717, 1), (719, 1), (746, 1), (886, 1), (1149, 1), (1521, 1), (4037, 1)], [(16, 2), (35, 1), (36, 1), (45, 1), (48, 1), (54, 1), (55, 1), (64, 3), (66, 1), (102, 1), (132, 1), (133, 1), (151, 1), (162, 1), (174, 1), (208, 1), (209, 1), (210, 1), (239, 1), (253, 1), (256, 1), (270, 1), (290, 1), (296, 1), (316, 1), (323, 1), (427, 1), (472, 1), (574, 2), (692, 1), (744, 1), (1066, 1), (1200, 1), (1253, 1), (1368, 1), (1651, 1), (1652, 1)], [(0, 1), (15, 1), (19, 1), (35, 1), (48, 1), (66, 1), (68, 1), (71, 1), (77, 1), (80, 1), (189, 1), (261, 1), (312, 1), (451, 1), (468, 1), (848, 1), (1035, 1)], [(0, 1), (3, 1), (11, 1), (12, 1), (13, 2), (30, 1), (35, 1), (36, 1), (46, 1), (48, 1), (53, 1), (55, 3), (64, 1), (66, 2), (67, 1), (72, 1), (73, 3), (78, 1), (82, 1), (115, 1), (116, 1), (132, 1), (133, 1), (145, 3), (166, 2), (180, 1), (181, 1), (206, 1), (232, 1), (300, 1), (328, 1), (333, 1), (354, 2), (365, 1), (377, 1), (387, 1), (394, 1), (426, 1), (482, 1), (530, 1), (549, 2), (594, 1), (662, 1), (730, 1), (751, 1), (761, 1), (812, 1), (878, 1), (984, 1), (1178, 1), (1329, 1), (1379, 1), (1404, 1), (3832, 1), (3924, 1), (4038, 1)], [(9, 1), (11, 1), (25, 1), (26, 1), (30, 1), (74, 1), (98, 1), (109, 1), (167, 1), (170, 1), (239, 1), (386, 1), (447, 1), (459, 1), (527, 1), (617, 1), (998, 1), (1478, 1)], [(4, 1), (12, 5), (18, 1), (19, 3), (20, 2), (26, 1), (29, 3), (36, 2), (43, 1), (44, 2), (45, 1), (46, 1), (59, 2), (60, 1), (62, 1), (64, 1), (66, 1), (71, 1), (72, 1), (73, 1), (80, 1), (82, 1), (86, 1), (91, 2), (100, 5), (101, 1), (121, 1), (132, 3), (147, 1), (149, 1), (198, 1), (202, 1), (204, 1), (208, 2), (215, 2), (218, 1), (219, 1), (248, 1), (253, 2), (256, 3), (261, 2), (273, 1), (275, 1), (280, 1), (285, 1), (290, 2), (312, 1), (331, 1), (357, 1), (361, 1), (370, 1), (384, 1), (403, 1), (428, 1), (442, 1), (443, 1), (447, 1), (499, 1), (522, 1), (529, 1), (536, 1), (539, 3), (540, 1), (541, 1), (549, 1), (558, 1), (596, 1), (630, 1), (633, 1), (671, 2), (716, 2), (726, 2), (744, 1), (821, 1), (822, 1), (834, 1), (836, 1), (869, 1), (890, 1), (991, 2), (1349, 1), (1402, 1), (1411, 1), (1704, 1), (1786, 2), (1881, 1), (2161, 1), (2212, 1), (2294, 1), (2360, 1), (2536, 1), (2759, 1), (3275, 1), (3416, 1), (3500, 1), (4039, 1), (4040, 1)], [(12, 3), (13, 1), (20, 3), (35, 1), (48, 1), (55, 2), (64, 1), (66, 2), (102, 2), (122, 1), (158, 1), (160, 1), (170, 1), (185, 1), (187, 1), (189, 1), (198, 1), (207, 1), (219, 1), (312, 1), (443, 1), (473, 1), (482, 2), (541, 1), (638, 1), (890, 1), (932, 1), (957, 1), (989, 1), (1025, 1), (1148, 1), (1186, 2), (1312, 1), (1725, 1), (1747, 1), (2670, 1), (2999, 1), (4041, 1)], [(21, 1), (26, 1), (35, 1), (39, 1), (41, 1), (45, 1), (46, 1), (55, 3), (64, 1), (66, 1), (100, 2), (106, 1), (115, 1), (142, 1), (143, 1), (170, 1), (249, 2), (361, 1), (479, 1), (514, 1), (706, 1), (878, 1)], [(9, 2), (12, 1), (20, 3), (33, 1), (55, 1), (64, 1), (133, 1), (214, 2), (276, 1), (384, 1), (711, 1), (842, 1), (903, 1), (1457, 1), (2553, 1)], [(13, 1), (17, 1), (18, 1), (30, 1), (33, 1), (35, 1), (46, 2), (55, 1), (66, 1), (94, 1), (98, 1), (100, 2), (102, 1), (131, 1), (133, 1), (189, 1), (211, 1), (223, 1), (254, 1), (316, 1), (389, 1), (476, 1), (539, 1), (576, 1), (726, 1), (911, 1), (3225, 1)], [(3, 1), (10, 1), (39, 1), (41, 1), (45, 1), (48, 1), (65, 1), (71, 2), (80, 2), (152, 1), (269, 1), (286, 1), (305, 1), (365, 1), (438, 1), (528, 1), (596, 1), (627, 1), (662, 1), (774, 1), (796, 1), (931, 1), (942, 1), (975, 1), (1653, 1), (1776, 1), (2056, 2), (2072, 1)], [(0, 1), (24, 1), (31, 1), (45, 2), (70, 1), (73, 2), (77, 1), (98, 2), (265, 1), (321, 1), (642, 2), (677, 1), (711, 1), (831, 1), (1151, 1), (1989, 1), (2072, 1)], [(8, 1), (9, 1), (12, 1), (17, 1), (19, 1), (20, 2), (27, 1), (33, 1), (36, 1), (45, 1), (55, 1), (60, 1), (66, 1), (68, 1), (70, 1), (77, 1), (79, 1), (86, 1), (88, 1), (91, 1), (99, 1), (100, 2), (102, 1), (104, 1), (111, 1), (128, 1), (132, 1), (214, 2), (264, 1), (286, 1), (311, 1), (315, 1), (384, 1), (443, 1), (475, 1), (482, 1), (539, 1), (576, 1), (691, 1), (1047, 1), (1228, 1), (1229, 1), (1457, 1), (1696, 1), (1826, 1), (2064, 1), (2439, 1), (4042, 1), (4043, 1), (4044, 1)], [(12, 1), (24, 1), (35, 1), (73, 2), (98, 1), (107, 1), (132, 1), (138, 1), (145, 1), (166, 1), (276, 1), (447, 1), (477, 1), (673, 1), (781, 1), (1567, 1), (1863, 1), (2402, 1), (2444, 1), (2730, 1), (4045, 1), (4046, 1), (4047, 1)], [(0, 1), (16, 1), (20, 1), (26, 1), (27, 1), (35, 3), (36, 1), (53, 1), (66, 4), (75, 1), (80, 3), (90, 1), (102, 1), (103, 1), (104, 1), (115, 1), (189, 2), (205, 1), (226, 1), (249, 1), (264, 1), (316, 1), (378, 1), (401, 1), (413, 1), (416, 1), (451, 1), (456, 1), (482, 2), (539, 1), (598, 1), (684, 1), (757, 1), (791, 1), (926, 1), (1344, 1), (1421, 1), (2371, 1), (2402, 1), (2448, 1), (3288, 1), (3534, 1), (4048, 1), (4049, 1)], [(0, 1), (45, 1), (88, 1), (90, 1), (132, 1), (149, 1), (167, 1), (254, 1), (444, 1)], [(13, 2), (30, 1), (45, 1), (64, 2), (65, 1), (66, 1), (73, 4), (80, 1), (86, 1), (190, 1), (206, 1), (223, 1), (253, 1), (273, 1), (316, 1), (394, 1), (438, 1), (535, 1), (657, 1), (720, 1), (770, 1), (779, 1), (1702, 1), (2103, 1), (2215, 2), (2712, 1), (3599, 1), (4050, 1), (4051, 1)], [(12, 1), (24, 1), (30, 1), (33, 1), (35, 2), (63, 1), (66, 1), (68, 1), (73, 1), (77, 1), (91, 1), (98, 1), (99, 1), (101, 1), (130, 1), (132, 1), (138, 2), (152, 1), (170, 1), (186, 1), (218, 1), (361, 1), (387, 1), (447, 1), (549, 1), (726, 1)], [(12, 4), (13, 1), (19, 2), (35, 1), (39, 1), (46, 1), (53, 1), (55, 3), (64, 1), (66, 3), (72, 1), (73, 2), (101, 1), (102, 2), (125, 1), (170, 1), (191, 1), (228, 1), (280, 1), (311, 1), (370, 1), (378, 1), (479, 1), (504, 1), (549, 1), (559, 1), (1075, 1), (1201, 1), (2536, 1), (2622, 1), (4052, 1)], [(9, 1), (19, 1), (31, 1), (45, 1), (96, 1), (101, 1), (132, 1), (170, 1), (253, 1), (276, 1), (278, 1), (488, 1), (1204, 1)], [(8, 2), (9, 1), (18, 2), (20, 2), (46, 1), (59, 1), (73, 1), (82, 1), (94, 1), (100, 1), (106, 1), (132, 1), (170, 1), (191, 2), (206, 1), (365, 2), (549, 1), (1006, 1), (1144, 1), (1145, 1), (1543, 1), (2120, 1), (4053, 1)], [(9, 1), (10, 1), (13, 1), (16, 1), (17, 1), (21, 1), (22, 1), (29, 1), (33, 2), (74, 1), (101, 1), (132, 1), (217, 1), (504, 1), (726, 1), (1175, 1), (1731, 1), (2971, 1)], [(4, 1), (16, 1), (35, 2), (45, 2), (55, 5), (60, 2), (63, 1), (70, 1), (84, 1), (94, 1), (138, 2), (170, 2), (221, 1), (377, 1), (507, 3), (524, 1), (557, 2), (745, 1), (765, 1), (1886, 1)], [(0, 1), (3, 1), (9, 1), (13, 1), (19, 1), (20, 1), (33, 1), (45, 1), (60, 2), (71, 1), (74, 1), (96, 1), (97, 1), (107, 1), (131, 1), (132, 2), (162, 1), (170, 2), (184, 1), (290, 1), (312, 1), (388, 1), (392, 1), (447, 1), (475, 1), (482, 2), (545, 1), (576, 1), (1007, 1), (1426, 1), (2004, 1)], [(3, 1), (12, 1), (13, 1), (35, 2), (52, 1), (63, 1), (66, 2), (70, 1), (73, 1), (115, 1), (145, 1), (189, 1), (217, 1), (239, 1), (243, 1), (253, 1), (446, 1), (473, 1), (529, 1), (668, 1), (690, 1), (691, 1), (751, 1), (841, 1), (882, 1), (894, 1), (2428, 1), (4054, 1), (4055, 1), (4056, 1)], [(10, 2), (12, 1), (14, 1), (15, 2), (16, 2), (27, 2), (45, 1), (55, 1), (65, 1), (73, 2), (82, 1), (100, 1), (115, 1), (164, 1), (170, 1), (211, 1), (215, 1), (216, 1), (365, 1), (416, 1), (465, 1), (497, 1), (514, 1), (522, 1), (523, 1), (549, 1), (588, 1), (657, 1), (768, 1), (1001, 1), (1444, 1), (4057, 1), (4058, 1)], [(9, 1), (12, 1), (20, 1), (35, 1), (46, 3), (55, 1), (70, 1), (72, 1), (73, 1), (79, 1), (82, 1), (90, 1), (98, 1), (102, 1), (132, 2), (170, 1), (178, 1), (230, 1), (235, 1), (254, 1), (261, 2), (383, 1), (384, 1), (431, 1), (434, 1), (465, 1), (535, 1), (547, 1), (622, 1), (814, 1), (1072, 1), (1291, 1), (1300, 1), (1876, 1), (2561, 1), (3407, 1), (3802, 1)], [(9, 1), (10, 1), (13, 1), (15, 1), (16, 1), (17, 1), (27, 1), (44, 2), (48, 1), (55, 1), (59, 1), (64, 2), (71, 1), (78, 1), (82, 2), (86, 1), (91, 2), (100, 1), (179, 1), (186, 1), (253, 2), (290, 1), (331, 1), (356, 1), (444, 1), (504, 1), (507, 1), (585, 1), (2004, 1), (3099, 1), (3682, 1), (3994, 1), (4059, 1)], [(13, 1), (19, 3), (30, 1), (33, 1), (35, 1), (36, 1), (55, 1), (60, 1), (64, 1), (66, 2), (73, 2), (98, 1), (115, 1), (129, 1), (133, 1), (166, 1), (170, 1), (189, 1), (215, 1), (298, 1), (312, 1), (317, 1), (377, 1), (817, 1), (1511, 1), (2179, 1)], [(0, 1), (3, 1), (9, 1), (12, 1), (43, 1), (52, 1), (73, 2), (111, 1), (171, 1), (224, 1), (488, 1), (3459, 1)], [(0, 1), (19, 1), (27, 1), (35, 1), (45, 1), (66, 1), (88, 1), (119, 1), (139, 1), (195, 1), (363, 1), (563, 1), (585, 1), (4060, 1)], [(0, 1), (10, 1), (12, 1), (16, 2), (20, 1), (33, 1), (41, 1), (44, 1), (52, 1), (60, 1), (67, 1), (71, 2), (75, 1), (82, 1), (100, 2), (102, 1), (111, 1), (148, 1), (151, 1), (152, 1), (164, 1), (222, 1), (249, 1), (252, 1), (253, 1), (261, 1), (320, 1), (406, 1), (536, 1), (549, 1), (606, 1), (1170, 1), (2650, 1), (2730, 1)], [(35, 1), (45, 1), (55, 1), (66, 1), (72, 1), (73, 1), (80, 1), (104, 1), (189, 1), (514, 1), (531, 1), (580, 1), (604, 1), (865, 1), (2930, 1)], [(13, 1), (30, 1), (31, 1), (45, 1), (73, 1), (98, 1), (145, 1), (148, 1), (152, 2), (305, 1), (425, 1), (426, 1), (692, 1), (773, 2), (1038, 1), (1200, 1), (1677, 1)], [(19, 1), (46, 1), (55, 1), (59, 1), (63, 1), (66, 1), (70, 1), (251, 1), (389, 1), (434, 1), (836, 1), (1874, 1)], [(12, 1), (13, 1), (18, 1), (30, 1), (31, 1), (33, 1), (35, 2), (43, 1), (45, 1), (52, 1), (55, 1), (91, 1), (130, 1), (138, 1), (171, 1), (186, 1), (253, 1), (261, 1), (837, 1), (1744, 1), (4061, 1)], [(3, 1), (11, 1), (13, 3), (19, 3), (20, 1), (30, 1), (41, 1), (53, 1), (59, 1), (63, 2), (64, 1), (73, 2), (84, 1), (96, 1), (98, 1), (100, 1), (120, 1), (126, 1), (133, 1), (174, 1), (225, 1), (239, 1), (249, 1), (315, 1), (385, 1), (386, 1), (409, 1), (473, 1), (475, 1), (617, 1), (2887, 1), (4062, 1)], [(13, 1), (20, 4), (26, 1), (30, 1), (35, 1), (72, 1), (78, 1), (93, 1), (94, 2), (97, 1), (98, 1), (100, 3), (126, 1), (143, 1), (194, 1), (286, 1), (316, 1), (319, 2), (339, 1), (444, 1), (482, 1), (490, 1), (504, 1), (547, 1), (549, 1), (574, 1), (626, 1), (649, 1), (719, 4), (764, 1), (789, 1), (849, 1), (850, 1), (862, 1), (874, 1), (1144, 1), (1345, 1), (2049, 1), (2717, 1), (3086, 1), (3260, 1), (3572, 1), (4063, 1), (4064, 1)], [(9, 1), (11, 1), (17, 1), (19, 2), (46, 1), (59, 1), (78, 1), (107, 1), (145, 1), (162, 1), (301, 1), (331, 1), (392, 1), (434, 1), (477, 1), (1215, 1), (3472, 1)], [(19, 1), (27, 1), (44, 1), (48, 1), (55, 1), (77, 2), (78, 1), (82, 1), (132, 1), (170, 1), (263, 1), (280, 1), (599, 1), (831, 1), (2342, 1)], [(3, 2), (9, 1), (12, 1), (20, 1), (30, 2), (31, 1), (36, 1), (43, 1), (55, 2), (64, 1), (73, 4), (82, 1), (93, 1), (98, 1), (101, 1), (103, 2), (152, 1), (170, 1), (273, 1), (377, 1), (392, 1), (415, 1), (447, 1), (545, 1), (548, 1), (549, 1), (677, 1), (726, 1), (989, 1), (1114, 1), (1200, 1), (1377, 1), (1789, 1), (2753, 1), (4065, 1)], [(12, 1), (17, 1), (18, 1), (20, 1), (23, 1), (26, 1), (36, 1), (59, 1), (71, 2), (82, 1), (90, 1), (100, 1), (103, 1), (170, 1), (275, 1), (285, 1), (381, 1), (404, 1), (569, 1), (835, 1), (856, 1), (932, 1), (1073, 1), (1254, 1)], [(26, 2), (31, 1), (33, 1), (46, 1), (58, 1), (145, 1), (180, 1), (377, 1), (432, 1), (511, 1), (706, 1), (1143, 1), (1798, 1), (1800, 1), (2444, 1), (4066, 1)], [(11, 1), (20, 1), (45, 1), (55, 1), (60, 1), (71, 1), (73, 1), (239, 1), (482, 1), (567, 1), (617, 1), (726, 1), (931, 1), (989, 1), (2209, 1)], [(5, 1), (12, 1), (13, 1), (16, 1), (31, 1), (33, 1), (46, 1), (55, 2), (78, 1), (91, 1), (102, 1), (129, 1), (132, 1), (133, 1), (197, 1), (290, 1), (293, 1), (466, 1), (496, 1), (499, 1), (549, 1)], [(13, 1), (19, 1), (46, 1), (55, 1), (73, 1), (82, 1), (100, 1), (158, 1), (179, 1), (265, 1), (275, 1), (299, 1), (598, 1), (803, 1), (850, 1), (1490, 1)], [(19, 1), (30, 1), (33, 1), (35, 1), (66, 1), (98, 1), (99, 1), (129, 1), (132, 1), (133, 1), (170, 1), (253, 1), (277, 1), (293, 1), (496, 1), (549, 1), (585, 1)], [(12, 3), (64, 1), (91, 1), (98, 1), (377, 1), (622, 1), (863, 1), (1151, 1), (1764, 1), (2753, 1), (3705, 1)], [(8, 1), (19, 1), (48, 1), (55, 1), (60, 1), (70, 1), (116, 1), (118, 1), (145, 1), (202, 1), (206, 1), (312, 1), (365, 1), (454, 1), (563, 1), (666, 1)], [(26, 1), (96, 1)], [(12, 1), (16, 1), (20, 1), (26, 2), (30, 1), (55, 1), (75, 1), (115, 2), (175, 1), (184, 1), (759, 1), (824, 1), (1560, 1)], [(13, 1), (19, 1), (45, 1), (48, 1), (55, 1), (60, 1), (115, 1), (132, 1), (243, 1), (477, 1), (539, 1)], [(0, 1), (20, 2), (31, 1), (45, 1), (46, 1), (55, 2), (64, 1), (67, 1), (71, 1), (90, 1), (103, 2), (152, 1), (387, 1), (435, 1), (482, 1), (842, 2), (942, 1), (996, 1), (1221, 1), (2619, 1), (2869, 1), (4067, 1)], [(46, 1), (58, 1), (62, 2), (70, 1), (71, 1), (100, 1), (102, 1), (116, 1), (123, 1), (183, 1), (208, 1), (249, 1), (286, 1), (459, 1), (539, 1), (807, 1), (3022, 1), (4068, 1)], [(15, 1), (16, 1), (19, 1), (21, 1), (29, 1), (41, 1), (50, 1), (60, 1), (64, 1), (66, 3), (71, 1), (73, 1), (94, 1), (99, 1), (103, 1), (133, 1), (137, 2), (145, 2), (162, 1), (179, 1), (256, 3), (261, 1), (298, 1), (330, 1), (377, 1), (443, 1), (454, 1), (541, 1), (569, 1), (585, 1), (590, 2), (602, 2), (604, 1), (880, 2), (1219, 1), (1400, 1), (1405, 1), (1917, 1), (2342, 2), (2795, 1), (2826, 1), (4069, 1)], [(9, 2), (13, 2), (19, 4), (21, 1), (23, 1), (33, 1), (36, 3), (45, 1), (55, 1), (65, 1), (66, 2), (71, 3), (72, 1), (90, 1), (152, 1), (183, 2), (214, 1), (253, 2), (268, 1), (269, 1), (280, 2), (313, 1), (392, 1), (394, 1), (442, 1), (463, 1), (473, 1), (536, 1), (548, 1), (560, 1), (598, 1), (657, 1), (878, 1), (902, 1), (1331, 1), (1364, 1), (4070, 1)], [(12, 1), (24, 1), (35, 1), (45, 1), (46, 1), (66, 1), (73, 1), (130, 1), (138, 1), (186, 1), (447, 1), (1248, 1), (1588, 1)], [(6, 2), (12, 4), (19, 1), (27, 2), (30, 1), (35, 1), (36, 1), (43, 2), (45, 1), (55, 3), (58, 1), (60, 1), (65, 1), (67, 1), (73, 1), (75, 1), (84, 1), (91, 1), (94, 2), (98, 2), (100, 1), (101, 1), (102, 1), (115, 2), (128, 1), (129, 1), (137, 1), (166, 1), (170, 2), (198, 1), (201, 1), (210, 1), (239, 1), (243, 1), (253, 1), (261, 1), (312, 3), (314, 1), (353, 1), (354, 1), (370, 1), (385, 1), (387, 1), (425, 2), (507, 2), (513, 1), (519, 2), (522, 1), (528, 1), (539, 1), (578, 1), (591, 1), (642, 1), (677, 2), (719, 1), (726, 1), (744, 1), (886, 1), (1097, 1), (1128, 1), (1444, 1), (1478, 1), (1567, 1), (1610, 1), (1743, 1), (2245, 1), (2408, 1), (2629, 1), (3043, 1), (4071, 1)], [(3, 1), (20, 1), (26, 1), (31, 1), (35, 1), (45, 1), (55, 1), (66, 1), (72, 1), (79, 1), (91, 1), (189, 1), (261, 1), (298, 1), (404, 1), (500, 1), (691, 1), (717, 1), (811, 1), (831, 1), (2757, 1), (4072, 1), (4073, 1)], [(0, 1), (19, 2), (20, 1), (24, 1), (26, 1), (48, 1), (66, 1), (68, 1), (88, 1), (142, 1), (170, 1), (189, 1), (209, 1), (496, 1), (616, 1), (817, 1), (955, 1), (1111, 1), (1329, 1), (1423, 1), (4074, 1), (4075, 1)], [(0, 1), (3, 1), (13, 2), (55, 1), (63, 1), (64, 2), (109, 1), (137, 1), (151, 1), (170, 1), (377, 1), (405, 1), (431, 1), (434, 1), (529, 1), (535, 1), (658, 1), (695, 1), (814, 1), (817, 1), (880, 1), (1248, 1), (1302, 1), (1341, 1), (1472, 1), (2004, 2), (2121, 1), (4076, 1)], [(0, 1), (12, 1), (35, 1), (46, 1), (48, 1), (58, 1), (66, 1), (77, 1), (88, 1), (102, 1), (132, 1), (263, 1), (371, 1), (2773, 1)], [(3, 1), (19, 1), (30, 1), (60, 1), (72, 1), (139, 1), (148, 1), (162, 1), (312, 1), (377, 1), (454, 1), (3095, 1), (3107, 1), (3368, 1), (4077, 1)], [(0, 1), (16, 1), (23, 1), (35, 2), (66, 2), (70, 1), (86, 1), (91, 1), (96, 1), (103, 1), (2757, 1)], [(35, 1), (44, 1), (46, 1), (55, 1), (66, 1), (78, 1), (145, 1), (261, 1), (455, 1), (461, 1), (549, 1), (613, 1), (1167, 1), (2386, 1)], [(44, 1), (45, 1), (48, 1), (53, 1), (55, 3), (68, 1), (70, 2), (75, 1), (77, 1), (94, 1), (99, 1), (100, 1), (123, 1), (149, 1), (170, 3), (179, 1), (221, 1), (225, 1), (312, 1), (345, 1), (377, 1), (385, 2), (438, 1), (473, 1), (497, 3), (554, 1), (585, 1), (673, 1), (689, 1), (1214, 1), (1472, 1), (1747, 1)], [(4, 1), (9, 3), (19, 2), (20, 2), (31, 2), (45, 1), (46, 1), (68, 1), (73, 1), (77, 1), (96, 1), (143, 1), (162, 1), (280, 1), (377, 1), (466, 1), (517, 1), (616, 1), (624, 1), (1011, 1), (1187, 1), (2543, 1)], [(15, 2), (20, 1), (23, 2), (35, 2), (44, 1), (55, 1), (59, 1), (60, 1), (64, 1), (66, 1), (73, 1), (100, 1), (101, 1), (115, 2), (116, 1), (130, 1), (158, 1), (162, 1), (518, 1), (627, 2), (661, 1), (789, 1), (1121, 1), (1438, 1), (1581, 1), (1589, 1), (2622, 1), (4078, 1)], [(9, 1), (10, 1), (12, 2), (15, 1), (16, 1), (18, 1), (19, 3), (20, 6), (21, 1), (26, 4), (28, 1), (30, 2), (36, 1), (43, 1), (44, 3), (51, 1), (54, 1), (55, 1), (59, 1), (64, 1), (71, 3), (75, 1), (88, 1), (98, 2), (100, 4), (102, 2), (107, 2), (108, 1), (116, 2), (117, 1), (126, 1), (133, 2), (145, 2), (147, 1), (148, 3), (165, 1), (170, 1), (179, 1), (182, 1), (186, 4), (188, 1), (191, 3), (194, 1), (198, 1), (224, 1), (228, 2), (231, 1), (246, 1), (263, 2), (268, 1), (269, 2), (280, 1), (321, 1), (336, 1), (348, 1), (361, 1), (374, 1), (377, 1), (389, 1), (451, 1), (463, 1), (465, 2), (468, 1), (473, 2), (482, 1), (496, 1), (519, 1), (528, 2), (538, 1), (548, 1), (559, 1), (561, 1), (588, 1), (591, 1), (612, 1), (631, 1), (662, 1), (726, 4), (736, 1), (746, 1), (747, 1), (765, 5), (799, 2), (810, 1), (817, 1), (818, 1), (826, 1), (850, 1), (904, 1), (934, 1), (968, 1), (977, 1), (982, 1), (1083, 1), (1089, 1), (1132, 1), (1202, 1), (1248, 1), (1291, 1), (1344, 2), (1399, 1), (1421, 1), (1438, 1), (1452, 1), (1513, 1), (1540, 1), (1677, 2), (1730, 2), (1770, 1), (1955, 1), (1960, 1), (1992, 1), (2089, 1), (2362, 1), (2379, 1), (2419, 1), (2475, 1), (3299, 1), (3383, 1), (3734, 1), (3767, 1), (4079, 1), (4080, 1), (4081, 1), (4082, 1), (4083, 1), (4084, 1), (4085, 1), (4086, 1), (4087, 1), (4088, 1), (4089, 1), (4090, 1), (4091, 1), (4092, 1), (4093, 1), (4094, 1), (4095, 1)], [(0, 1), (8, 1), (9, 1), (12, 2), (13, 1), (24, 2), (26, 3), (28, 1), (36, 1), (39, 1), (55, 2), (59, 1), (64, 2), (65, 1), (67, 1), (72, 1), (80, 1), (90, 1), (103, 1), (138, 1), (145, 1), (160, 1), (167, 1), (170, 1), (187, 1), (206, 2), (209, 1), (253, 1), (256, 1), (273, 1), (438, 1), (482, 1), (976, 1), (1047, 1), (1055, 1), (1214, 1), (1469, 1), (1799, 1), (2001, 1), (3001, 1), (4096, 1)], [(9, 1), (10, 1), (13, 1), (14, 1), (20, 1), (21, 1), (55, 1), (62, 1), (63, 1), (64, 2), (69, 1), (73, 3), (74, 1), (84, 1), (93, 1), (98, 1), (106, 1), (107, 2), (126, 1), (170, 1), (187, 1), (198, 1), (210, 1), (314, 1), (348, 1), (416, 1), (473, 1), (510, 1), (549, 1), (572, 1), (690, 1), (948, 1), (1307, 1), (1320, 1), (1429, 1), (2339, 1), (2698, 1), (3062, 1), (3597, 1), (4097, 1)], [(9, 1), (13, 1), (26, 1), (46, 1), (55, 1), (64, 1), (111, 1), (303, 1), (535, 1), (627, 1), (692, 1), (1077, 1), (1989, 1)], [(13, 1), (29, 1), (31, 1), (48, 1), (55, 1), (66, 1), (70, 1), (73, 2), (123, 1), (152, 1), (189, 1), (224, 1), (249, 1), (273, 1), (290, 1), (305, 1), (330, 1), (496, 1), (520, 1), (529, 1), (713, 1), (996, 1)], [(9, 1), (15, 1), (16, 1), (30, 1), (60, 1), (70, 1), (73, 1), (98, 1), (576, 1), (989, 1), (1148, 1), (2869, 1)], [(12, 1), (13, 2), (14, 2), (16, 1), (19, 2), (20, 1), (26, 2), (36, 2), (41, 1), (43, 1), (44, 1), (54, 1), (55, 3), (59, 1), (64, 3), (65, 1), (103, 1), (107, 2), (111, 1), (125, 1), (225, 1), (257, 1), (280, 1), (312, 1), (348, 1), (381, 1), (384, 1), (389, 1), (775, 1), (932, 1), (1140, 1), (2161, 1), (2167, 1), (2187, 1), (2415, 1), (2518, 1), (3604, 1), (4098, 1)], [(9, 1), (12, 1), (13, 1), (16, 1), (21, 3), (24, 1), (45, 2), (53, 1), (60, 1), (74, 1), (88, 1), (101, 1), (107, 1), (128, 1), (132, 1), (158, 1), (453, 1), (1111, 1), (2277, 1), (2458, 1)], [(19, 1), (30, 1), (36, 1), (48, 1), (55, 1), (71, 1), (73, 2), (77, 1), (80, 1), (95, 1), (98, 1), (139, 1), (162, 1), (174, 1), (397, 1), (447, 1), (476, 1), (726, 1), (831, 1), (859, 1), (927, 1), (1359, 1), (4099, 1)], [(0, 2), (3, 1), (12, 1), (19, 1), (20, 1), (33, 1), (35, 1), (44, 1), (46, 1), (55, 1), (64, 1), (82, 1), (94, 1), (102, 1), (111, 1), (131, 1), (133, 1), (197, 1), (198, 1), (298, 1), (354, 1), (356, 1), (386, 1), (438, 1), (479, 1), (489, 1), (528, 1), (535, 2), (814, 2), (1229, 1), (1628, 1), (2354, 1), (2864, 1), (4100, 1)], [(3, 1), (9, 2), (12, 2), (19, 1), (20, 2), (21, 1), (33, 1), (46, 1), (48, 1), (55, 2), (64, 2), (66, 1), (317, 1), (386, 1), (536, 1), (4101, 1), (4102, 1)], [(9, 1), (18, 1), (19, 1), (48, 1), (55, 2), (63, 2), (66, 1), (68, 1), (70, 1), (73, 1), (77, 1), (88, 1), (101, 1), (121, 1), (125, 1), (189, 1), (209, 1), (210, 1), (220, 1), (275, 1), (348, 1), (373, 1), (507, 1), (547, 1), (549, 1), (631, 1), (758, 1), (1227, 1), (2388, 1), (2437, 1), (3682, 1)], [(13, 1), (16, 3), (20, 2), (36, 1), (46, 1), (55, 3), (64, 1), (65, 2), (72, 1), (82, 1), (101, 1), (162, 1), (170, 1), (186, 1), (264, 1), (273, 1), (288, 1), (389, 1), (435, 1), (482, 1), (549, 1), (606, 1), (989, 1), (1107, 1), (1245, 1), (2287, 1), (3793, 1), (4103, 1), (4104, 1), (4105, 1)], [(9, 1), (18, 1), (19, 3), (27, 1), (39, 1), (48, 4), (52, 1), (53, 2), (67, 1), (70, 2), (71, 1), (74, 1), (111, 1), (115, 3), (116, 3), (123, 1), (170, 1), (211, 1), (277, 3), (293, 1), (354, 1), (377, 2), (401, 1), (404, 3), (456, 1), (459, 1), (468, 1), (563, 1), (567, 1), (633, 1), (1111, 1), (1229, 1), (2342, 1), (3155, 1), (4106, 1), (4107, 1), (4108, 1), (4109, 1)], [(0, 1), (11, 1), (17, 1), (19, 1), (21, 1), (26, 3), (41, 1), (48, 1), (66, 1), (68, 1), (80, 1), (93, 1), (100, 1), (145, 1), (159, 1), (189, 1), (337, 1), (549, 1), (627, 1), (633, 1), (650, 1), (991, 1), (1227, 1), (1359, 1), (1372, 1), (1404, 1), (1972, 1)], [(6, 1), (23, 1), (27, 1), (35, 1), (55, 1), (66, 1), (67, 1), (88, 1), (98, 1), (249, 1), (385, 1), (2362, 1)], [(23, 1), (27, 1), (29, 1), (35, 1), (36, 1), (46, 1), (63, 1), (64, 1), (66, 2), (71, 1), (73, 1), (90, 1), (111, 1), (189, 1), (261, 1), (345, 1), (354, 1), (482, 1), (489, 1), (519, 1), (622, 1), (706, 1), (767, 1), (882, 1), (1046, 1), (1124, 1), (1385, 1), (1469, 1), (1793, 1), (1881, 1), (1901, 1), (2089, 1), (2154, 1), (2551, 1), (2879, 1), (4078, 1), (4110, 1), (4111, 1)], [(13, 1), (20, 1), (30, 1), (41, 1), (46, 1), (53, 1), (71, 1), (73, 1), (82, 1), (98, 1), (100, 2), (104, 1), (162, 1), (170, 1), (214, 1), (394, 1), (463, 1), (598, 1)], [(0, 1), (12, 2), (13, 1), (18, 1), (20, 1), (21, 1), (26, 2), (43, 1), (46, 1), (50, 1), (58, 1), (64, 2), (66, 1), (71, 1), (90, 1), (106, 1), (121, 1), (127, 1), (132, 1), (148, 1), (249, 1), (273, 2), (293, 1), (392, 1), (488, 1), (535, 1), (627, 1), (814, 1), (932, 1), (998, 1), (1203, 1), (1302, 2), (1311, 1), (1657, 1), (1824, 2), (3810, 1), (4112, 1)], [(4, 2), (9, 1), (12, 1), (13, 1), (15, 1), (24, 1), (27, 1), (33, 1), (36, 1), (60, 1), (64, 1), (74, 1), (80, 1), (88, 1), (91, 3), (93, 1), (101, 1), (253, 1), (275, 1), (290, 1), (364, 1), (425, 1), (549, 1), (574, 1), (630, 1), (769, 1), (851, 1), (890, 1), (1315, 1), (1432, 2), (1594, 1), (2193, 1), (3395, 1), (4113, 1), (4114, 1)], [(0, 1), (10, 1), (11, 1), (12, 1), (16, 1), (19, 2), (26, 2), (35, 2), (41, 1), (43, 1), (44, 1), (45, 1), (55, 1), (59, 1), (64, 1), (66, 1), (78, 1), (100, 1), (101, 1), (105, 1), (121, 1), (133, 1), (162, 1), (182, 1), (183, 1), (215, 1), (218, 1), (224, 1), (277, 2), (280, 2), (316, 1), (377, 1), (389, 1), (392, 1), (454, 1), (465, 1), (491, 2), (539, 1), (549, 1), (572, 1), (658, 1), (730, 1), (1174, 1), (1312, 1), (1444, 1), (1598, 2), (1647, 1), (1928, 2), (2346, 2), (2359, 1), (2536, 1), (3167, 1), (4115, 1), (4116, 1)], [(0, 1), (12, 2), (17, 1), (19, 3), (27, 1), (33, 1), (41, 1), (48, 1), (71, 2), (74, 1), (100, 1), (107, 3), (111, 2), (129, 1), (145, 1), (162, 1), (219, 1), (228, 1), (264, 1), (392, 1), (414, 1), (606, 1), (662, 1), (684, 1), (708, 1), (1882, 1)], [(29, 1), (31, 1), (33, 1), (44, 1), (106, 1), (131, 1), (402, 1), (582, 1), (700, 1), (802, 1), (1144, 1), (1550, 1), (4117, 1)], [(9, 1), (13, 1), (23, 1), (27, 1), (35, 1), (42, 1), (67, 1), (76, 1), (94, 1), (109, 1), (133, 1), (137, 1), (180, 1), (211, 1), (238, 1), (438, 1), (490, 1), (719, 1), (764, 1), (1364, 1), (1828, 1), (4118, 1), (4119, 1)], [(8, 1), (12, 1), (15, 3), (16, 1), (28, 1), (29, 1), (35, 1), (53, 1), (55, 1), (71, 1), (94, 1), (102, 2), (103, 1), (147, 1), (186, 2), (307, 1), (407, 1), (447, 1), (452, 1), (489, 1), (530, 1), (598, 1), (668, 1), (765, 1), (865, 1), (931, 1), (932, 2), (1112, 1), (1212, 2), (1246, 1), (1265, 1), (1385, 1), (1457, 1), (1606, 1), (1702, 1), (2419, 2), (2904, 1), (4120, 1), (4121, 1), (4122, 1), (4123, 1)], [(3, 1), (8, 3), (12, 1), (16, 3), (19, 1), (20, 1), (53, 1), (55, 4), (106, 1), (115, 4), (125, 1), (126, 1), (132, 1), (158, 1), (162, 1), (198, 1), (208, 1), (215, 2), (217, 1), (227, 1), (238, 1), (377, 1), (385, 1), (392, 2), (428, 1), (482, 1), (658, 1), (746, 1), (776, 1), (834, 2), (847, 1), (932, 1), (1194, 1), (1445, 1), (1789, 1), (3245, 1), (4124, 1), (4125, 1)], [(11, 1), (19, 1), (20, 2), (30, 2), (31, 1), (33, 1), (34, 1), (46, 1), (55, 1), (64, 1), (68, 1), (71, 1), (73, 2), (77, 1), (90, 1), (98, 3), (100, 1), (101, 1), (131, 1), (143, 1), (148, 1), (170, 2), (175, 1), (181, 1), (191, 1), (320, 1), (354, 1), (387, 1), (404, 1), (425, 1), (545, 1), (563, 1), (677, 1), (848, 1), (908, 2), (1151, 2), (1594, 1)], [(0, 1), (12, 1), (19, 1), (23, 1), (26, 2), (29, 1), (36, 1), (44, 1), (71, 1), (72, 1), (86, 3), (88, 1), (90, 1), (91, 2), (103, 1), (159, 1), (161, 1), (202, 1), (204, 1), (215, 1), (218, 1), (298, 1), (377, 1), (400, 1), (438, 1), (466, 1), (653, 1), (702, 1), (873, 1), (927, 1), (991, 1), (1075, 1), (1122, 1), (2313, 1), (3196, 1), (3596, 1), (4126, 1)], [(12, 1), (13, 1), (16, 1), (20, 2), (46, 1), (71, 1), (77, 1), (78, 1), (91, 1), (96, 1), (102, 1), (152, 1), (235, 1), (249, 1), (253, 1), (326, 1), (379, 1), (385, 1), (404, 1), (442, 1), (470, 1), (475, 1), (482, 1), (519, 1), (548, 1), (574, 1), (624, 1), (627, 1), (873, 1), (943, 1), (1091, 1), (4127, 1)], [(12, 1), (15, 1), (29, 2), (33, 2), (35, 1), (59, 1), (63, 1), (66, 1), (70, 1), (108, 1), (121, 1), (189, 1), (208, 1), (253, 1), (315, 1), (377, 1), (425, 1), (442, 1), (496, 1), (504, 1), (539, 1), (559, 1), (832, 1), (883, 1), (969, 1), (1593, 1), (2742, 1), (4128, 1)], [(0, 1), (4, 2), (8, 1), (9, 1), (13, 2), (16, 3), (19, 2), (20, 1), (27, 3), (35, 1), (36, 1), (45, 1), (48, 2), (53, 2), (55, 2), (60, 1), (67, 1), (68, 1), (71, 2), (72, 1), (75, 1), (77, 1), (81, 1), (82, 1), (84, 1), (88, 1), (91, 1), (93, 1), (102, 1), (103, 1), (107, 2), (119, 1), (120, 1), (139, 1), (143, 1), (146, 1), (149, 1), (158, 1), (159, 1), (170, 2), (197, 1), (211, 1), (215, 1), (223, 1), (235, 1), (239, 1), (264, 1), (285, 1), (286, 1), (298, 1), (305, 1), (312, 1), (314, 1), (323, 1), (328, 1), (443, 1), (473, 1), (491, 1), (497, 1), (539, 1), (586, 1), (594, 2), (647, 1), (656, 1), (690, 1), (706, 1), (726, 1), (742, 1), (786, 1), (817, 1), (822, 1), (847, 1), (872, 1), (876, 1), (880, 1), (908, 1), (927, 1), (951, 1), (963, 1), (1006, 1), (1047, 1), (1130, 2), (1359, 1), (1539, 1), (1561, 1), (1837, 1), (2425, 1), (3084, 1), (3519, 1), (4129, 1)], [(0, 1), (3, 1), (13, 1), (16, 1), (30, 1), (65, 1), (66, 1), (73, 1), (80, 1), (100, 1), (133, 1), (147, 1), (170, 1), (189, 1), (205, 1), (222, 1), (243, 1), (261, 1), (365, 1), (406, 1), (775, 1), (867, 1), (1301, 1), (2813, 1), (3586, 1)], [(26, 1), (35, 1), (36, 1), (66, 1), (80, 1), (103, 1), (116, 1), (253, 2), (270, 1), (314, 1), (365, 1), (435, 1), (438, 1), (597, 1), (711, 1), (1144, 1), (1651, 1)], [(12, 1), (18, 1), (19, 2), (20, 1), (35, 1), (55, 1), (57, 1), (63, 1), (66, 1), (68, 1), (70, 1), (73, 1), (77, 1), (79, 1), (82, 1), (105, 1), (106, 1), (107, 1), (123, 1), (145, 1), (162, 1), (189, 1), (218, 1), (224, 1), (382, 1), (392, 1), (409, 1), (412, 1), (465, 1), (496, 1), (514, 1), (528, 1), (539, 1), (609, 1), (750, 1), (890, 1), (981, 1), (1345, 1), (1543, 1), (1594, 1), (1889, 1), (1890, 1), (2160, 1), (4130, 1), (4131, 1)], [(0, 1), (3, 1), (6, 3), (12, 1), (13, 3), (15, 1), (19, 4), (20, 3), (30, 2), (31, 1), (35, 1), (36, 1), (44, 1), (45, 1), (55, 1), (60, 4), (64, 2), (66, 1), (70, 1), (71, 3), (73, 3), (77, 3), (78, 1), (82, 1), (86, 1), (88, 1), (92, 1), (96, 1), (98, 1), (101, 1), (102, 2), (103, 2), (107, 1), (115, 2), (125, 1), (128, 1), (132, 1), (133, 1), (143, 1), (145, 2), (147, 1), (151, 1), (158, 1), (162, 2), (170, 1), (172, 2), (210, 2), (217, 2), (219, 1), (239, 1), (249, 1), (253, 1), (256, 1), (280, 1), (296, 1), (299, 1), (364, 1), (428, 1), (437, 1), (447, 2), (482, 2), (519, 1), (521, 1), (539, 1), (565, 1), (569, 2), (571, 1), (582, 1), (596, 1), (597, 1), (612, 1), (702, 1), (726, 2), (737, 1), (785, 3), (819, 2), (837, 1), (865, 1), (874, 1), (998, 1), (1011, 1), (1019, 1), (1030, 1), (1045, 1), (1062, 1), (1082, 1), (1193, 1), (1221, 1), (1229, 1), (1251, 1), (1324, 1), (1326, 1), (1389, 1), (1396, 1), (1425, 1), (1470, 1), (1487, 1), (1492, 1), (1510, 1), (1626, 1), (1776, 2), (1842, 1), (2091, 1), (2101, 1), (2152, 1), (2206, 1), (2463, 1), (2699, 1), (2826, 1), (3444, 1), (3475, 1), (3618, 1), (4132, 1), (4133, 1), (4134, 1), (4135, 1), (4136, 1), (4137, 1), (4138, 1), (4139, 1), (4140, 1), (4141, 1), (4142, 1)], [(10, 1), (16, 1), (19, 2), (20, 1), (21, 1), (24, 1), (26, 1), (30, 1), (33, 1), (35, 1), (55, 2), (66, 1), (73, 1), (106, 1), (126, 1), (145, 1), (155, 1), (157, 1), (170, 1), (228, 1), (249, 1), (253, 1), (338, 1), (373, 1), (387, 1), (616, 1), (751, 1), (1359, 1), (2046, 1), (4143, 1), (4144, 1)], [(0, 1), (19, 1), (20, 1), (30, 2), (33, 1), (36, 1), (41, 1), (64, 1), (81, 1), (88, 1), (98, 1), (143, 1), (147, 1), (152, 1), (211, 1), (239, 1), (361, 1), (387, 1), (447, 1), (451, 1), (491, 1), (514, 1), (563, 1), (630, 1), (723, 1), (2407, 1), (2679, 2)], [(9, 1), (19, 1), (20, 1), (33, 1), (63, 1), (64, 1), (68, 1), (71, 1), (77, 1), (139, 1), (142, 1), (308, 1), (309, 1), (507, 1), (612, 1), (1610, 1), (3113, 1)], [(12, 1), (13, 1), (19, 1), (20, 1), (28, 2), (29, 1), (33, 1), (41, 1), (43, 2), (73, 1), (91, 2), (119, 1), (126, 1), (137, 2), (148, 2), (158, 1), (162, 1), (167, 1), (170, 1), (177, 2), (223, 1), (241, 2), (263, 1), (276, 2), (277, 1), (298, 1), (394, 1), (477, 1), (517, 1), (527, 1), (549, 1), (560, 2), (625, 1), (626, 1), (677, 1), (720, 1), (848, 1), (969, 1), (1111, 1), (1200, 1), (1326, 1), (1352, 1), (1943, 1), (1949, 1), (2619, 1), (4145, 1)], [(12, 1), (35, 1), (73, 1), (94, 1), (138, 1), (388, 2), (841, 1), (1062, 1), (1507, 1), (4146, 1)], [(4, 1), (10, 1), (11, 4), (12, 4), (14, 1), (16, 3), (17, 2), (20, 10), (21, 1), (26, 3), (28, 1), (33, 1), (35, 1), (36, 1), (39, 3), (41, 3), (43, 1), (45, 1), (46, 1), (48, 1), (50, 1), (53, 4), (55, 5), (57, 2), (58, 1), (63, 1), (64, 6), (66, 1), (67, 2), (71, 5), (79, 1), (82, 7), (90, 1), (91, 4), (93, 2), (94, 2), (99, 3), (100, 12), (101, 2), (102, 1), (103, 1), (104, 2), (107, 6), (108, 1), (126, 2), (132, 1), (133, 1), (138, 1), (147, 2), (148, 1), (149, 1), (154, 1), (158, 1), (160, 1), (162, 1), (165, 1), (170, 3), (175, 2), (181, 1), (197, 1), (198, 3), (204, 1), (211, 1), (214, 2), (217, 1), (230, 1), (239, 1), (249, 1), (263, 1), (278, 1), (280, 2), (285, 1), (286, 1), (293, 1), (296, 1), (316, 2), (323, 1), (328, 1), (341, 1), (354, 1), (357, 1), (385, 3), (389, 1), (404, 2), (425, 1), (435, 2), (438, 1), (442, 1), (445, 1), (452, 1), (463, 1), (465, 3), (475, 1), (476, 1), (510, 1), (527, 1), (535, 1), (541, 1), (547, 1), (548, 1), (557, 1), (579, 1), (588, 2), (593, 1), (597, 1), (633, 2), (690, 1), (717, 1), (722, 1), (737, 1), (744, 2), (768, 3), (773, 1), (814, 1), (817, 2), (834, 1), (921, 1), (922, 1), (944, 1), (976, 1), (1019, 1), (1055, 1), (1061, 1), (1062, 1), (1073, 1), (1119, 2), (1134, 1), (1193, 1), (1197, 1), (1212, 1), (1225, 1), (1247, 2), (1250, 1), (1296, 1), (1427, 1), (1438, 1), (1539, 1), (1641, 1), (1648, 1), (1662, 1), (1743, 1), (1752, 1), (1760, 1), (1882, 1), (2015, 1), (2046, 1), (2057, 1), (2192, 1), (2197, 1), (2359, 1), (2463, 1), (2541, 1), (3501, 1), (3734, 1), (4147, 1), (4148, 1), (4149, 1), (4150, 1), (4151, 1), (4152, 1)], [(11, 1), (12, 1), (13, 1), (17, 1), (21, 2), (33, 1), (41, 1), (43, 1), (48, 1), (55, 1), (71, 1), (73, 1), (77, 1), (78, 1), (82, 1), (93, 2), (100, 1), (175, 1), (198, 1), (297, 1), (365, 1), (511, 1), (531, 1), (549, 1), (565, 1), (720, 1), (1631, 1), (1836, 1), (3333, 1)], [(0, 1), (3, 2), (9, 1), (18, 1), (20, 3), (35, 2), (44, 1), (45, 3), (53, 1), (55, 3), (63, 2), (64, 1), (70, 1), (73, 2), (102, 1), (103, 1), (106, 1), (118, 1), (142, 1), (239, 1), (268, 1), (428, 1), (447, 1), (499, 1), (826, 1), (1469, 1), (2041, 1), (2046, 1), (3672, 1), (4153, 1), (4154, 1)], [(0, 1), (3, 1), (35, 1), (54, 1), (63, 1), (72, 1), (73, 1), (75, 1), (82, 1), (90, 1), (167, 1), (205, 1), (210, 1), (239, 1), (348, 1), (473, 1), (692, 1), (982, 1), (1398, 1), (1670, 1), (4155, 1)], [(12, 1), (26, 2), (41, 2), (45, 1), (55, 1), (70, 1), (71, 2), (82, 1), (91, 1), (94, 1), (100, 2), (102, 1), (121, 1), (123, 1), (132, 1), (170, 2), (197, 1), (219, 1), (275, 1), (315, 1), (378, 1), (699, 1), (865, 1), (1329, 1)], [(8, 1), (18, 1), (30, 1), (35, 2), (46, 1), (66, 2), (70, 1), (78, 1), (98, 1), (101, 1), (102, 1), (116, 1), (121, 1), (123, 1), (186, 1), (238, 1), (249, 1), (361, 1), (499, 1), (829, 1), (3666, 1)], [(3, 1), (20, 1), (29, 1), (35, 1), (41, 1), (66, 1), (73, 1), (80, 1), (101, 1), (148, 1), (162, 1), (275, 1), (315, 1), (361, 1), (438, 1), (514, 1), (548, 1), (627, 1), (950, 1), (2087, 1)], [(12, 1), (17, 1), (21, 1), (26, 1), (35, 1), (44, 1), (55, 1), (63, 1), (64, 1), (66, 1), (72, 1), (78, 1), (137, 1), (170, 1), (189, 1), (473, 1), (850, 1), (1146, 1), (1229, 1), (1657, 1), (1714, 2), (3589, 1), (3591, 1), (4156, 1), (4157, 1)], [(9, 1), (17, 1), (20, 2), (62, 1), (71, 1), (90, 1), (93, 1), (94, 1), (132, 1), (133, 1), (142, 2), (145, 1), (170, 1), (180, 2), (228, 1), (229, 1), (251, 1), (253, 1), (377, 1), (473, 1), (504, 1), (511, 3), (512, 1), (559, 2), (673, 1), (678, 1), (702, 1), (746, 1), (828, 1), (856, 2), (943, 1), (998, 1), (1358, 1), (1662, 2), (2495, 1), (2811, 1), (3260, 2)], [(4, 1), (12, 1), (19, 2), (30, 1), (43, 1), (62, 1), (98, 1), (143, 1), (162, 1), (169, 1), (170, 1), (177, 1), (218, 2), (486, 1), (528, 1), (616, 2), (1610, 2)], [(12, 1), (16, 1), (23, 1), (44, 1), (55, 2), (86, 1), (100, 2), (126, 1), (1192, 1), (1402, 1), (3272, 1), (4158, 3), (4159, 1)], [(9, 1), (15, 1), (20, 1), (54, 1), (63, 1), (64, 1), (67, 1), (70, 1), (71, 1), (73, 1), (77, 1), (214, 1), (519, 1), (522, 1), (2757, 1), (4160, 1)], [(12, 1), (35, 1), (39, 1), (43, 1), (57, 1), (60, 1), (67, 1), (94, 2), (115, 1), (138, 1), (377, 1), (385, 1), (507, 1), (558, 1), (689, 1), (918, 1), (1610, 1), (2359, 1), (3420, 1), (3551, 1)], [(24, 1), (30, 1), (35, 1), (36, 1), (55, 1), (73, 1), (86, 1), (91, 1), (98, 1), (100, 1), (111, 1), (138, 1), (414, 1), (435, 1), (580, 1), (722, 1), (1670, 1), (1928, 1)], [(31, 1), (36, 1), (41, 1), (68, 1), (71, 1), (77, 1), (91, 1), (101, 1), (140, 1), (299, 1), (514, 1), (595, 1), (822, 1), (848, 1), (1739, 1), (3180, 1)], [(8, 2), (15, 2), (19, 1), (21, 1), (26, 1), (29, 1), (31, 1), (35, 2), (36, 3), (45, 1), (55, 1), (66, 3), (68, 1), (77, 1), (102, 1), (148, 1), (222, 1), (298, 1), (323, 1), (389, 1), (527, 1), (535, 1), (560, 1), (692, 1), (814, 1), (995, 1), (1229, 1)], [(12, 1), (16, 1), (38, 1), (43, 1), (63, 1), (64, 1), (72, 1), (80, 1), (121, 1), (171, 1), (255, 1), (267, 1), (296, 1), (1234, 1), (1404, 1)], [(12, 1), (20, 1), (23, 1), (25, 1), (27, 1), (50, 1), (55, 1), (71, 2), (107, 1), (170, 1), (459, 1), (482, 1), (588, 1)], [(0, 3), (3, 1), (4, 1), (8, 1), (9, 2), (12, 7), (13, 7), (16, 4), (19, 1), (20, 7), (21, 2), (25, 1), (26, 7), (30, 6), (33, 1), (35, 8), (36, 2), (41, 1), (44, 1), (45, 3), (50, 3), (53, 4), (55, 13), (58, 1), (59, 1), (60, 2), (63, 2), (66, 5), (67, 3), (68, 1), (70, 5), (71, 1), (72, 2), (77, 1), (78, 1), (79, 1), (80, 1), (91, 4), (93, 1), (94, 1), (98, 5), (99, 1), (100, 5), (102, 1), (103, 4), (111, 1), (119, 3), (125, 1), (126, 1), (131, 1), (133, 3), (138, 1), (143, 1), (144, 1), (148, 1), (149, 1), (158, 1), (170, 1), (171, 1), (175, 2), (178, 1), (186, 2), (209, 1), (219, 3), (223, 1), (227, 1), (253, 1), (263, 2), (264, 1), (269, 3), (273, 2), (307, 1), (308, 1), (312, 1), (313, 1), (337, 1), (357, 1), (365, 1), (377, 3), (378, 1), (382, 1), (387, 3), (395, 1), (425, 6), (434, 1), (446, 2), (447, 2), (452, 1), (454, 2), (473, 1), (476, 1), (482, 2), (505, 3), (507, 3), (522, 1), (531, 1), (539, 1), (547, 1), (549, 4), (556, 1), (559, 1), (568, 1), (585, 1), (598, 2), (616, 1), (674, 2), (677, 1), (684, 1), (719, 1), (744, 1), (832, 1), (836, 1), (847, 2), (878, 1), (883, 1), (904, 1), (1021, 1), (1108, 1), (1112, 1), (1148, 1), (1178, 1), (1179, 1), (1248, 1), (1273, 2), (1380, 6), (1385, 1), (1404, 2), (1478, 1), (1597, 1), (1657, 1), (1704, 1), (1777, 2), (1779, 2), (1788, 1), (1789, 1), (2057, 1), (2077, 1), (2181, 1), (2253, 2), (2338, 1), (2491, 1), (2619, 1), (2733, 1), (2930, 1), (2941, 1), (3236, 1), (3362, 2), (4161, 1), (4162, 1), (4163, 1), (4164, 1), (4165, 1), (4166, 1), (4167, 1), (4168, 2), (4169, 2)], [(9, 1), (20, 2), (36, 1), (55, 1), (91, 2), (94, 1), (97, 1), (100, 1), (101, 1), (169, 1), (184, 1), (224, 2), (404, 1), (535, 1), (630, 1), (1463, 2), (1809, 1), (4170, 1)], [(10, 1), (16, 2), (19, 2), (21, 1), (29, 1), (30, 1), (31, 1), (33, 2), (39, 1), (44, 1), (46, 2), (55, 1), (64, 1), (74, 1), (86, 2), (88, 1), (91, 2), (98, 1), (101, 1), (102, 1), (103, 1), (122, 1), (131, 1), (132, 1), (133, 1), (145, 2), (170, 1), (179, 1), (253, 2), (273, 1), (275, 1), (298, 1), (678, 1), (689, 1), (826, 1), (927, 1), (1034, 1), (1291, 1), (1548, 1), (1610, 2), (1670, 1), (1882, 1), (1961, 1), (2619, 1), (2757, 1), (4171, 1), (4172, 1)], [(29, 1), (33, 1), (55, 1), (68, 1), (70, 1), (77, 1), (78, 1), (130, 1), (145, 1), (296, 1), (427, 1), (452, 1), (482, 1), (514, 1), (604, 1), (613, 1)], [(0, 1), (9, 2), (17, 1), (19, 3), (20, 2), (22, 1), (35, 1), (55, 3), (60, 4), (66, 2), (71, 1), (73, 1), (74, 1), (75, 2), (94, 1), (98, 1), (100, 1), (102, 1), (106, 1), (143, 1), (145, 4), (151, 1), (158, 1), (169, 1), (184, 1), (186, 2), (189, 1), (191, 1), (202, 1), (236, 1), (238, 1), (253, 3), (269, 2), (290, 1), (337, 1), (370, 1), (377, 1), (402, 1), (442, 2), (466, 1), (476, 1), (482, 1), (491, 1), (496, 1), (527, 2), (528, 1), (531, 1), (535, 1), (545, 1), (580, 1), (598, 1), (744, 1), (749, 1), (770, 1), (802, 1), (813, 1), (877, 1), (878, 1), (1107, 1), (1227, 1), (1368, 1), (1413, 1), (1445, 1), (1538, 1), (1645, 1), (1677, 1), (1726, 1), (2057, 1), (2353, 1), (2734, 1), (4173, 1), (4174, 1)], [(8, 2), (13, 1), (28, 1), (35, 1), (45, 2), (67, 1), (186, 1), (211, 1), (364, 1), (377, 1), (549, 2), (616, 1), (723, 1), (773, 1), (1214, 1)], [(19, 1), (35, 1), (45, 1), (48, 1), (66, 1), (77, 1), (130, 1), (145, 1), (319, 1), (354, 1), (378, 1), (811, 1), (831, 1), (1274, 1), (1329, 1), (1593, 1), (1597, 1)], [(0, 1), (3, 2), (9, 1), (11, 1), (17, 1), (19, 4), (26, 1), (27, 1), (33, 1), (35, 2), (39, 1), (41, 1), (44, 1), (46, 1), (48, 1), (53, 1), (55, 2), (57, 1), (59, 2), (60, 1), (64, 1), (65, 3), (66, 3), (68, 2), (71, 1), (73, 3), (77, 2), (80, 1), (82, 1), (107, 1), (108, 1), (121, 1), (133, 2), (135, 1), (137, 2), (138, 1), (145, 1), (153, 1), (170, 1), (171, 1), (178, 1), (179, 1), (186, 1), (189, 1), (197, 1), (211, 3), (215, 1), (225, 1), (280, 1), (315, 1), (354, 1), (357, 1), (382, 1), (413, 1), (434, 1), (473, 1), (482, 2), (490, 1), (517, 2), (549, 2), (596, 1), (599, 1), (671, 1), (726, 2), (822, 1), (829, 1), (876, 2), (880, 2), (932, 1), (1083, 1), (1157, 1), (1167, 1), (1197, 1), (1234, 2), (1302, 1), (1354, 1), (1478, 1), (1848, 1), (2078, 1), (2466, 1), (2535, 1), (2662, 1), (2955, 1), (3513, 1), (3728, 1), (3925, 1), (4175, 1), (4176, 1), (4177, 1), (4178, 1), (4179, 1)], [(46, 1), (1279, 1)], [(12, 1), (13, 1), (24, 1), (30, 1), (33, 1), (46, 1), (64, 1), (68, 1), (71, 1), (72, 1), (73, 1), (152, 1), (515, 1), (955, 1), (2753, 1), (4180, 1)], [(4, 1), (10, 1), (13, 1), (18, 1), (20, 2), (21, 1), (26, 1), (64, 1), (82, 1), (84, 1), (93, 2), (94, 1), (96, 1), (126, 1), (133, 3), (170, 2), (179, 1), (535, 1), (545, 1), (627, 1), (671, 1), (1001, 1), (1204, 1), (1259, 1), (1714, 1), (3069, 1), (3256, 1), (4181, 1)], [(9, 1), (11, 1), (16, 1), (18, 1), (19, 2), (60, 1), (77, 1), (86, 1), (90, 1), (91, 2), (125, 1), (143, 1), (228, 1), (588, 1), (630, 1), (631, 1), (786, 1), (831, 1), (4182, 1)], [(9, 1), (13, 1), (30, 1), (58, 1), (70, 1), (73, 1), (74, 1), (82, 1), (98, 1), (118, 1), (132, 1), (133, 1), (167, 1), (263, 1), (312, 1), (447, 1), (539, 1), (627, 1), (998, 1), (1291, 1), (4183, 1), (4184, 1)], [(17, 1), (19, 1), (21, 1), (27, 1), (33, 2), (35, 1), (46, 1), (68, 2), (71, 1), (73, 3), (77, 2), (97, 1), (111, 1), (120, 2), (129, 1), (133, 1), (138, 1), (145, 2), (162, 1), (167, 1), (218, 1), (253, 1), (290, 1), (311, 1), (361, 1), (377, 1), (401, 1), (548, 1), (595, 1), (723, 1), (746, 1), (802, 1), (834, 1), (862, 1), (883, 1), (1144, 1), (1227, 1), (1758, 1), (1867, 1), (2206, 1), (2662, 1), (4185, 1), (4186, 1)], [(8, 1), (10, 1), (13, 1), (16, 1), (26, 1), (33, 1), (36, 1), (44, 1), (45, 1), (55, 1), (63, 1), (64, 1), (71, 1), (93, 1), (101, 1), (115, 1), (277, 1), (290, 1), (299, 1), (317, 1), (361, 1), (377, 1), (476, 1), (547, 1), (726, 1), (1170, 1), (1346, 1), (4187, 1)], [(0, 1), (3, 1), (9, 1), (10, 1), (11, 1), (12, 3), (13, 1), (16, 1), (19, 1), (20, 2), (36, 2), (46, 1), (50, 2), (55, 5), (59, 2), (60, 1), (67, 2), (73, 1), (78, 1), (82, 1), (93, 1), (99, 1), (106, 1), (126, 1), (132, 2), (143, 1), (167, 1), (170, 1), (179, 1), (214, 1), (256, 1), (261, 1), (384, 1), (442, 2), (717, 1), (729, 1), (1170, 1), (1221, 1), (1501, 1), (1518, 1), (2137, 1), (2219, 1), (2457, 1)], [(8, 1), (9, 1), (11, 1), (19, 1), (20, 2), (23, 1), (36, 1), (44, 1), (48, 1), (55, 1), (58, 1), (59, 1), (64, 1), (66, 3), (69, 1), (71, 1), (73, 2), (99, 1), (100, 1), (102, 2), (115, 1), (143, 1), (170, 1), (190, 1), (191, 1), (212, 1), (225, 1), (309, 1), (326, 1), (365, 1), (443, 1), (448, 1), (486, 1), (493, 1), (521, 1), (599, 1), (726, 1), (787, 1), (1021, 1), (1191, 1), (1298, 1), (1338, 1), (1359, 1), (1372, 1), (1533, 1), (1679, 1), (1917, 1), (2377, 1), (4188, 1), (4189, 1), (4190, 1)], [(13, 1), (19, 1), (35, 1), (46, 1), (48, 2), (65, 1), (66, 1), (72, 1), (116, 1), (121, 1), (133, 1), (249, 1), (261, 1), (277, 1), (385, 1), (404, 1), (557, 1), (770, 1), (822, 1), (878, 1), (911, 1), (1075, 1), (1439, 1)], [(12, 1), (30, 2), (36, 1), (43, 1), (91, 2), (101, 1), (164, 1), (170, 1), (223, 1), (296, 1), (558, 1), (560, 1), (576, 1), (3135, 1)], [(19, 1), (31, 1), (33, 1), (55, 1), (64, 1), (68, 1), (77, 1), (100, 1), (107, 1), (132, 1), (138, 1), (139, 1), (147, 1), (404, 1), (436, 1), (482, 2), (491, 1), (507, 1), (612, 1), (653, 1), (927, 2), (950, 1), (1215, 1), (1311, 1), (2698, 1)], [(11, 1), (20, 3), (55, 1), (86, 1), (91, 1), (130, 1), (273, 1), (531, 1), (588, 1), (726, 1), (801, 1), (928, 1), (1402, 1), (2252, 1)], [(30, 1), (35, 1), (36, 1), (70, 1), (72, 1), (82, 1), (85, 1), (88, 1), (145, 2), (170, 2), (239, 1), (410, 1), (462, 1), (477, 1), (613, 1), (726, 1), (948, 1), (4191, 1), (4192, 1)], [(46, 1), (59, 2), (71, 1), (77, 1), (102, 1), (126, 1), (170, 2), (231, 1), (235, 1), (275, 1), (1018, 1), (1021, 1), (1247, 1), (3566, 1)], [(9, 1), (12, 1), (20, 1), (26, 2), (31, 1), (41, 1), (43, 1), (53, 1), (59, 1), (63, 1), (70, 1), (74, 1), (75, 1), (82, 1), (84, 1), (88, 1), (96, 2), (99, 1), (100, 2), (102, 1), (105, 1), (111, 1), (115, 3), (124, 1), (126, 1), (135, 1), (148, 1), (170, 1), (261, 1), (275, 1), (305, 1), (316, 1), (325, 1), (513, 1), (516, 1), (669, 1), (709, 1), (720, 1), (763, 1), (1101, 1), (1194, 1), (1229, 1), (1384, 1), (1426, 1), (1489, 1), (1886, 1), (2614, 1), (2864, 1), (4193, 1), (4194, 1), (4195, 1), (4196, 1)], [(16, 1), (28, 1), (33, 1), (35, 2), (46, 1), (55, 2), (63, 1), (66, 3), (82, 1), (96, 1), (115, 1), (131, 1), (138, 1), (189, 2), (204, 1), (275, 1), (457, 1), (489, 1), (525, 1), (625, 1), (633, 1), (865, 1), (910, 1), (1230, 1), (1302, 1), (1391, 1), (1664, 1), (1928, 1), (3191, 1), (4179, 1)], [(9, 1), (12, 1), (16, 1), (17, 2), (20, 1), (23, 1), (27, 2), (30, 6), (31, 1), (33, 1), (34, 1), (35, 6), (36, 1), (41, 1), (44, 1), (48, 1), (50, 1), (52, 1), (55, 1), (63, 1), (65, 1), (66, 6), (70, 2), (74, 1), (81, 1), (88, 1), (94, 3), (98, 3), (100, 1), (101, 1), (130, 1), (131, 1), (133, 1), (137, 2), (138, 2), (145, 3), (152, 1), (170, 2), (179, 1), (184, 1), (186, 1), (189, 3), (278, 1), (280, 1), (290, 1), (312, 1), (316, 1), (357, 1), (377, 2), (385, 1), (389, 1), (425, 1), (428, 2), (438, 1), (447, 1), (482, 1), (514, 1), (528, 2), (539, 2), (548, 2), (549, 1), (567, 1), (609, 1), (613, 1), (633, 1), (690, 1), (691, 1), (726, 2), (747, 1), (770, 1), (773, 2), (781, 1), (895, 1), (919, 1), (948, 1), (999, 1), (1006, 1), (1007, 1), (1086, 1), (1210, 3), (1338, 1), (1487, 1), (1550, 1), (2001, 1), (2188, 1), (2192, 1), (2209, 1), (2812, 2), (3989, 1), (4197, 1), (4198, 1), (4199, 1), (4200, 1), (4201, 1)], [(0, 2), (3, 1), (9, 4), (12, 2), (13, 1), (16, 2), (18, 4), (19, 2), (20, 10), (23, 3), (27, 2), (31, 1), (33, 1), (34, 1), (35, 1), (36, 4), (39, 1), (41, 2), (44, 1), (45, 1), (48, 4), (53, 1), (55, 9), (60, 3), (62, 1), (63, 2), (71, 2), (74, 3), (78, 1), (82, 2), (85, 1), (86, 2), (88, 4), (90, 2), (91, 7), (96, 1), (97, 1), (98, 4), (100, 4), (102, 2), (103, 3), (109, 1), (111, 1), (116, 2), (126, 2), (130, 1), (132, 1), (142, 1), (143, 4), (145, 1), (146, 2), (148, 4), (159, 1), (160, 4), (162, 2), (167, 1), (170, 3), (179, 1), (181, 1), (182, 2), (189, 1), (197, 1), (210, 1), (215, 1), (219, 2), (220, 1), (254, 1), (255, 3), (267, 3), (269, 3), (273, 2), (287, 2), (299, 1), (312, 4), (316, 1), (317, 1), (328, 1), (361, 1), (377, 1), (381, 5), (382, 2), (388, 1), (424, 3), (426, 1), (438, 1), (443, 1), (444, 1), (465, 3), (466, 1), (473, 1), (475, 1), (476, 1), (482, 2), (488, 1), (502, 2), (520, 2), (530, 1), (533, 1), (535, 4), (539, 1), (547, 1), (549, 1), (553, 2), (560, 1), (592, 1), (627, 2), (632, 1), (633, 1), (643, 1), (690, 1), (720, 1), (727, 2), (734, 1), (763, 1), (773, 2), (799, 1), (803, 1), (814, 4), (818, 2), (856, 1), (911, 1), (923, 1), (932, 1), (942, 1), (970, 1), (1007, 1), (1011, 1), (1138, 1), (1139, 1), (1219, 1), (1234, 2), (1317, 1), (1344, 3), (1392, 1), (1417, 1), (1429, 2), (1437, 1), (1489, 2), (1492, 1), (1521, 1), (1786, 1), (1789, 4), (1805, 3), (1846, 1), (1882, 3), (1918, 1), (2118, 2), (2317, 1), (2339, 2), (2462, 1), (2561, 1), (2570, 1), (2619, 1), (2782, 1), (2839, 1), (2869, 1), (2940, 1), (3058, 1), (3103, 1), (3161, 1), (3249, 1), (3604, 1), (3734, 1), (3816, 1), (3985, 1), (4029, 1), (4202, 1), (4203, 1), (4204, 1), (4205, 1), (4206, 1), (4207, 1), (4208, 1), (4209, 1), (4210, 1), (4211, 1), (4212, 1), (4213, 1), (4214, 1), (4215, 1), (4216, 1), (4217, 1), (4218, 1), (4219, 1), (4220, 1), (4221, 1), (4222, 1), (4223, 1), (4224, 1), (4225, 1)], [(132, 1), (392, 1)], [(19, 1), (21, 1), (48, 1), (55, 1), (68, 1), (77, 1), (106, 1), (115, 1), (321, 1), (616, 1), (927, 1), (1126, 1), (1727, 1), (1887, 1)], [(19, 2), (46, 1), (68, 1), (77, 1), (91, 1), (98, 1), (145, 1), (170, 1), (519, 1), (1620, 1), (1894, 1), (4226, 1)], [(12, 1), (20, 1), (23, 1), (26, 1), (41, 1), (43, 1), (55, 1), (68, 1), (71, 1), (77, 1), (78, 1), (88, 1), (96, 1), (102, 1), (104, 1), (107, 1), (133, 1), (172, 1), (214, 1), (389, 1), (426, 1), (496, 1), (539, 1), (549, 1), (813, 1), (855, 1), (902, 1), (2172, 1), (4227, 1)], [(0, 1), (3, 3), (12, 1), (18, 1), (26, 1), (27, 1), (29, 1), (30, 4), (33, 1), (34, 1), (36, 1), (41, 1), (48, 2), (55, 1), (60, 1), (65, 1), (68, 1), (77, 1), (80, 1), (81, 1), (82, 2), (88, 1), (94, 1), (98, 1), (99, 1), (100, 1), (101, 1), (102, 1), (103, 2), (107, 1), (121, 1), (126, 1), (145, 1), (158, 1), (169, 1), (186, 1), (197, 1), (210, 1), (215, 1), (236, 1), (273, 1), (312, 1), (384, 1), (406, 1), (444, 1), (459, 1), (522, 1), (668, 1), (677, 2), (775, 1), (837, 1), (927, 1), (1011, 1), (1028, 1), (1488, 1), (2216, 1), (2448, 1)], [(12, 1), (19, 1), (26, 1), (55, 1), (59, 1), (70, 1), (77, 1), (100, 1), (162, 1), (225, 1), (293, 1), (312, 1), (560, 1), (831, 1), (3051, 1)], [(9, 1), (12, 1), (20, 1), (36, 1), (55, 2), (62, 1), (66, 1), (98, 1), (115, 3), (124, 1), (126, 1), (167, 1), (189, 1), (194, 1), (200, 1), (204, 1), (212, 1), (253, 1), (275, 1), (290, 1), (320, 1), (428, 1), (435, 1), (554, 1), (658, 1), (677, 1), (720, 1), (1007, 1), (1381, 1), (1535, 1), (1658, 1), (2551, 1), (2619, 1), (4228, 1), (4229, 1), (4230, 1), (4231, 1), (4232, 1)], [(9, 1), (12, 1), (20, 2), (29, 1), (50, 1), (61, 1), (67, 2), (90, 1), (91, 1), (100, 1), (162, 1), (261, 1), (313, 1), (438, 1), (533, 1), (4233, 1)], [(35, 1), (55, 1), (66, 1), (70, 1), (82, 1), (127, 1), (132, 2), (138, 1), (315, 1), (532, 1), (746, 1), (842, 1), (1266, 1), (4234, 1)], [(3, 1), (11, 1), (13, 1), (19, 1), (26, 1), (27, 1), (30, 1), (36, 1), (41, 1), (59, 1), (72, 1), (101, 1), (135, 1), (145, 1), (150, 1), (152, 1), (170, 1), (202, 1), (218, 1), (239, 1), (290, 1), (316, 1), (444, 1), (617, 1), (1229, 1), (2425, 1)], [(0, 2), (3, 1), (13, 2), (16, 1), (19, 1), (20, 2), (27, 2), (30, 1), (36, 4), (41, 1), (44, 1), (58, 2), (59, 1), (60, 1), (63, 1), (64, 2), (66, 2), (71, 1), (72, 1), (75, 1), (82, 1), (86, 2), (88, 1), (90, 2), (98, 1), (101, 1), (103, 1), (167, 2), (170, 2), (202, 1), (208, 1), (209, 1), (212, 1), (214, 1), (257, 1), (273, 1), (288, 2), (300, 1), (316, 1), (317, 2), (354, 1), (364, 1), (394, 1), (406, 1), (459, 1), (468, 1), (482, 2), (548, 1), (624, 1), (679, 1), (692, 1), (721, 1), (744, 1), (745, 1), (811, 1), (856, 1), (869, 1), (927, 3), (969, 1), (1021, 1), (1047, 1), (1073, 1), (1430, 2), (1738, 1), (1896, 2), (2082, 1), (3378, 1), (3671, 1), (3906, 1), (4235, 1), (4236, 1), (4237, 1)], [(9, 1), (46, 1), (53, 1), (55, 1), (66, 2), (73, 1), (74, 1), (170, 1), (186, 1), (202, 1), (204, 1), (459, 1), (529, 2), (549, 1), (748, 1), (757, 3), (1510, 1), (3208, 1), (4238, 1)], [(21, 1), (23, 1), (31, 1), (45, 3), (70, 1), (91, 1), (132, 1), (549, 1), (1594, 1), (2471, 1), (2759, 1), (4239, 1)], [(13, 1), (16, 1), (19, 1), (24, 2), (26, 1), (33, 1), (48, 1), (54, 1), (64, 2), (71, 1), (74, 1), (84, 1), (99, 1), (100, 1), (111, 1), (131, 1), (143, 1), (152, 1), (167, 1), (191, 2), (208, 1), (239, 1), (261, 1), (276, 2), (290, 1), (315, 1), (328, 1), (359, 1), (413, 1), (415, 1), (432, 1), (438, 1), (473, 1), (517, 1), (539, 1), (549, 1), (572, 1), (834, 1), (850, 1), (951, 1), (1021, 1), (1116, 1), (1234, 1), (1800, 1), (2023, 1), (2341, 1), (2624, 1), (4240, 1), (4241, 1), (4242, 1)], [(48, 1), (55, 1), (63, 1), (70, 1), (77, 1), (115, 1), (116, 1), (274, 1), (326, 1), (385, 1), (425, 1), (633, 1), (3672, 1)], [(96, 1), (170, 1), (386, 1), (468, 1), (1229, 1)], [(13, 1), (19, 1), (21, 1), (48, 1), (94, 1), (321, 1)], [(70, 1), (989, 1)], [(100, 1), (104, 1), (115, 1), (162, 1), (296, 1), (906, 1), (1275, 1)], [(9, 1), (33, 1), (44, 1), (55, 1), (70, 1), (116, 1), (118, 1), (123, 1), (133, 1), (183, 1), (223, 1), (595, 1), (622, 1), (746, 1), (4243, 1)], [(13, 1), (33, 1), (152, 1), (211, 1), (2619, 1)], [(3, 1), (35, 1), (53, 1), (58, 1), (62, 1), (71, 1), (80, 1), (94, 1), (314, 1), (387, 1), (465, 1), (482, 1), (547, 1), (548, 1), (588, 1), (675, 1), (699, 1), (727, 1), (1538, 1), (4244, 1)], [(84, 1), (104, 1), (179, 1), (181, 1), (197, 1), (274, 1), (296, 1), (315, 1), (1083, 1), (1651, 1)], [(9, 1), (19, 2), (35, 1), (48, 2), (66, 1), (197, 1), (298, 1), (371, 1), (944, 1), (1425, 1)]]\n"
          ]
        }
      ],
      "source": [
        "# Create a corpus suitable for LDA\n",
        "id2word = corpora.Dictionary(df)\n",
        "corpus = [id2word.doc2bow(text) for text in df]\n",
        "\n",
        "# Show corpus\n",
        "print(corpus)"
      ]
    },
    {
      "cell_type": "markdown",
      "metadata": {
        "id": "LqlgtL2QG6jm"
      },
      "source": [
        "## **Generating Coherence Scores at Various Topic Counts**"
      ]
    },
    {
      "cell_type": "code",
      "execution_count": 17,
      "metadata": {
        "id": "WUd0HSYQG6jm",
        "outputId": "142bcc4a-14fe-4891-d12c-15830cacfea1"
      },
      "outputs": [
        {
          "name": "stdout",
          "output_type": "stream",
          "text": [
            "Coherence at 1 topics: 0.5350785130605848\n",
            "Coherence at 2 topics: 0.5583939084544021\n",
            "Coherence at 3 topics: 0.5490507411699032\n",
            "Coherence at 4 topics: 0.5521714565856042\n",
            "Coherence at 5 topics: 0.5405068399386079\n",
            "Coherence at 6 topics: 0.5370670443263452\n",
            "Coherence at 7 topics: 0.5336255978123997\n",
            "Coherence at 8 topics: 0.5444334090739551\n",
            "Coherence at 9 topics: 0.5432894523918335\n",
            "Coherence at 10 topics: 0.5370438801336849\n",
            "Coherence at 11 topics: 0.5395621963582681\n",
            "Coherence at 12 topics: 0.5388566093563459\n",
            "Coherence at 13 topics: 0.5336967716437268\n",
            "Coherence at 14 topics: 0.5346301412377251\n",
            "Coherence at 15 topics: 0.5286839741555603\n"
          ]
        }
      ],
      "source": [
        "# Create list of topic counts\n",
        "topiccounts = [1,2,3,4,5,6,7,8,9,10,11,12,13,14,15]\n",
        "\n",
        "# Run LDA, testing various numbers of topics\n",
        "for topiccount in topiccounts:\n",
        "    lda_model = gensim.models.LdaMulticore(corpus = corpus,\n",
        "                                           id2word = id2word,\n",
        "                                           num_topics = topiccount,\n",
        "                                           random_state=0)\n",
        "    coherence = CoherenceModel(model=lda_model, texts = df, dictionary = id2word, coherence='c_v')\n",
        "    print(f'Coherence at {topiccount} topics: {coherence.get_coherence()}')"
      ]
    },
    {
      "cell_type": "markdown",
      "metadata": {
        "id": "RA6Pcqc1G6jm"
      },
      "source": [
        "## **Labeling Texts**"
      ]
    },
    {
      "cell_type": "code",
      "execution_count": 18,
      "metadata": {
        "id": "toNHBAYRG6jm",
        "outputId": "c6cfd176-9a12-4364-ea10-3917c645bec9"
      },
      "outputs": [
        {
          "data": {
            "text/html": [
              "<div>\n",
              "<style scoped>\n",
              "    .dataframe tbody tr th:only-of-type {\n",
              "        vertical-align: middle;\n",
              "    }\n",
              "\n",
              "    .dataframe tbody tr th {\n",
              "        vertical-align: top;\n",
              "    }\n",
              "\n",
              "    .dataframe thead th {\n",
              "        text-align: right;\n",
              "    }\n",
              "</style>\n",
              "<table border=\"1\" class=\"dataframe\">\n",
              "  <thead>\n",
              "    <tr style=\"text-align: right;\">\n",
              "      <th></th>\n",
              "      <th>0</th>\n",
              "      <th>1</th>\n",
              "    </tr>\n",
              "  </thead>\n",
              "  <tbody>\n",
              "    <tr>\n",
              "      <th>0</th>\n",
              "      <td>0.447967</td>\n",
              "      <td>0.552033</td>\n",
              "    </tr>\n",
              "    <tr>\n",
              "      <th>1</th>\n",
              "      <td>0.649862</td>\n",
              "      <td>0.350138</td>\n",
              "    </tr>\n",
              "    <tr>\n",
              "      <th>2</th>\n",
              "      <td>0.916563</td>\n",
              "      <td>0.083437</td>\n",
              "    </tr>\n",
              "    <tr>\n",
              "      <th>3</th>\n",
              "      <td>0.049511</td>\n",
              "      <td>0.950489</td>\n",
              "    </tr>\n",
              "    <tr>\n",
              "      <th>4</th>\n",
              "      <td>0.967936</td>\n",
              "      <td>0.032065</td>\n",
              "    </tr>\n",
              "  </tbody>\n",
              "</table>\n",
              "</div>"
            ],
            "text/plain": [
              "          0         1\n",
              "0  0.447967  0.552033\n",
              "1  0.649862  0.350138\n",
              "2  0.916563  0.083437\n",
              "3  0.049511  0.950489\n",
              "4  0.967936  0.032065"
            ]
          },
          "execution_count": 18,
          "metadata": {},
          "output_type": "execute_result"
        }
      ],
      "source": [
        "# Build model that creates two topics\n",
        "lda2 = gensim.models.LdaMulticore(corpus = corpus,\n",
        "                                  id2word = id2word,\n",
        "                                  num_topics = 2,\n",
        "                                  random_state=0)\n",
        "\n",
        "# Get topics\n",
        "topics = lda2.get_document_topics(corpus)\n",
        "\n",
        "# Get CSR\n",
        "alltopicscsr = gensim.matutils.corpus2csc(topics)\n",
        "\n",
        "# Convert to a numpy array\n",
        "alltopicsnumpy = alltopicscsr.T.toarray()\n",
        "\n",
        "# Convert to a dataframe\n",
        "df2 = pd.DataFrame(alltopicsnumpy)\n",
        "\n",
        "# Show dataframe\n",
        "df2.head()"
      ]
    },
    {
      "cell_type": "code",
      "execution_count": 19,
      "metadata": {
        "id": "d2YSa8hKG6js",
        "outputId": "e1202dea-b70f-43a6-b517-f4956e012012"
      },
      "outputs": [
        {
          "data": {
            "text/html": [
              "<div>\n",
              "<style scoped>\n",
              "    .dataframe tbody tr th:only-of-type {\n",
              "        vertical-align: middle;\n",
              "    }\n",
              "\n",
              "    .dataframe tbody tr th {\n",
              "        vertical-align: top;\n",
              "    }\n",
              "\n",
              "    .dataframe thead th {\n",
              "        text-align: right;\n",
              "    }\n",
              "</style>\n",
              "<table border=\"1\" class=\"dataframe\">\n",
              "  <thead>\n",
              "    <tr style=\"text-align: right;\">\n",
              "      <th></th>\n",
              "      <th>0</th>\n",
              "      <th>1</th>\n",
              "      <th>label</th>\n",
              "    </tr>\n",
              "  </thead>\n",
              "  <tbody>\n",
              "    <tr>\n",
              "      <th>0</th>\n",
              "      <td>0.447967</td>\n",
              "      <td>0.552033</td>\n",
              "      <td>1</td>\n",
              "    </tr>\n",
              "    <tr>\n",
              "      <th>1</th>\n",
              "      <td>0.649862</td>\n",
              "      <td>0.350138</td>\n",
              "      <td>0</td>\n",
              "    </tr>\n",
              "    <tr>\n",
              "      <th>2</th>\n",
              "      <td>0.916563</td>\n",
              "      <td>0.083437</td>\n",
              "      <td>0</td>\n",
              "    </tr>\n",
              "    <tr>\n",
              "      <th>3</th>\n",
              "      <td>0.049511</td>\n",
              "      <td>0.950489</td>\n",
              "      <td>1</td>\n",
              "    </tr>\n",
              "    <tr>\n",
              "      <th>4</th>\n",
              "      <td>0.967936</td>\n",
              "      <td>0.032065</td>\n",
              "      <td>0</td>\n",
              "    </tr>\n",
              "  </tbody>\n",
              "</table>\n",
              "</div>"
            ],
            "text/plain": [
              "          0         1 label\n",
              "0  0.447967  0.552033     1\n",
              "1  0.649862  0.350138     0\n",
              "2  0.916563  0.083437     0\n",
              "3  0.049511  0.950489     1\n",
              "4  0.967936  0.032065     0"
            ]
          },
          "execution_count": 19,
          "metadata": {},
          "output_type": "execute_result"
        }
      ],
      "source": [
        "# Create new column\n",
        "df2['label'] = ' '\n",
        "\n",
        "# Fill column\n",
        "df2.loc[(df2[0] > df2[1]), 'label'] = 0\n",
        "df2.loc[df2[0] < df2[1], 'label'] = 1\n",
        "df2.loc[df2[0] == df2[1], 'label'] = 2\n",
        "\n",
        "# Confirm dataframe\n",
        "df2.head()"
      ]
    },
    {
      "cell_type": "code",
      "execution_count": 20,
      "metadata": {
        "id": "DI2J1WuoG6js",
        "outputId": "8dd95384-0740-43bd-a868-6ad0ea2d07dd"
      },
      "outputs": [
        {
          "data": {
            "text/plain": [
              "label\n",
              "1    2256\n",
              "0    2122\n",
              "2       2\n",
              "Name: count, dtype: int64"
            ]
          },
          "execution_count": 20,
          "metadata": {},
          "output_type": "execute_result"
        }
      ],
      "source": [
        "# Get value counts for \"label\"\n",
        "df2['label'].value_counts()"
      ]
    },
    {
      "cell_type": "code",
      "execution_count": 21,
      "metadata": {
        "id": "uqpZmtaDG6js",
        "outputId": "8e19ef78-82d0-47c6-b15a-95ccb9c90d8f"
      },
      "outputs": [
        {
          "data": {
            "text/plain": [
              "label\n",
              "1    2258\n",
              "0    2122\n",
              "Name: count, dtype: int64"
            ]
          },
          "execution_count": 21,
          "metadata": {},
          "output_type": "execute_result"
        }
      ],
      "source": [
        "# Replace 2 with 1\n",
        "df2.loc[df2['label'] == 2, 'label'] = 1\n",
        "\n",
        "# Confirm operation\n",
        "df2['label'].value_counts()"
      ]
    },
    {
      "cell_type": "code",
      "execution_count": 22,
      "metadata": {
        "id": "xrzUYuygG6jt",
        "outputId": "2b7ae5cf-bfff-4940-d381-114bf9fc8398"
      },
      "outputs": [
        {
          "name": "stdout",
          "output_type": "stream",
          "text": [
            "<class 'pandas.core.frame.DataFrame'>\n",
            "RangeIndex: 4380 entries, 0 to 4379\n",
            "Data columns (total 3 columns):\n",
            " #   Column  Non-Null Count  Dtype  \n",
            "---  ------  --------------  -----  \n",
            " 0   0       4380 non-null   float64\n",
            " 1   1       4380 non-null   float64\n",
            " 2   label   4380 non-null   int64  \n",
            "dtypes: float64(2), int64(1)\n",
            "memory usage: 102.8 KB\n"
          ]
        }
      ],
      "source": [
        "# Convert \"label\" to int\n",
        "df2['label'] = pd.to_numeric(df2['label'])\n",
        "\n",
        "# Confirm operation\n",
        "df2.info()"
      ]
    },
    {
      "cell_type": "code",
      "execution_count": 23,
      "metadata": {
        "id": "nMnpQUMEG6jt",
        "outputId": "e64cea13-3b99-40d6-acc7-9cdba0a2ded6"
      },
      "outputs": [
        {
          "name": "stdout",
          "output_type": "stream",
          "text": [
            "<class 'pandas.core.frame.DataFrame'>\n",
            "RangeIndex: 4380 entries, 0 to 4379\n",
            "Data columns (total 2 columns):\n",
            " #   Column      Non-Null Count  Dtype \n",
            "---  ------      --------------  ----- \n",
            " 0   reviewText  4380 non-null   object\n",
            " 1   label       4380 non-null   int64 \n",
            "dtypes: int64(1), object(1)\n",
            "memory usage: 68.6+ KB\n"
          ]
        }
      ],
      "source": [
        "# Append label to texts\n",
        "df = df.to_frame()\n",
        "df.reset_index(drop=True, inplace=True)\n",
        "df['label'] = df2['label']\n",
        "\n",
        "# Confirm dataframe\n",
        "df.info()"
      ]
    },
    {
      "cell_type": "markdown",
      "metadata": {
        "id": "6jG0cZr_SKig"
      },
      "source": [
        "# **INITIAL MODEL TEST**\n",
        "Run the model with all of the words to provide a baseline."
      ]
    },
    {
      "cell_type": "markdown",
      "metadata": {
        "id": "D5Ho38e6SYr1"
      },
      "source": [
        "## **Data Splitting**"
      ]
    },
    {
      "cell_type": "code",
      "execution_count": 24,
      "metadata": {
        "id": "_eH_nSDzQFaN",
        "outputId": "76f7f489-b8e7-409f-ec4a-5c433464de32"
      },
      "outputs": [
        {
          "name": "stderr",
          "output_type": "stream",
          "text": [
            "Pandas Apply: 100%|██████████| 4380/4380 [00:00<00:00, 335115.86it/s]\n"
          ]
        }
      ],
      "source": [
        "# Join texts into strings\n",
        "df['reviewText'] = df['reviewText'].swifter.apply(lambda x: ' '.join(x))\n",
        "\n",
        "# Split the data\n",
        "Xtrain, Xtest, ytrain, ytest = train_test_split(df['reviewText'], df['label'],\n",
        "                                                test_size = 0.20,\n",
        "                                                random_state = 0)"
      ]
    },
    {
      "cell_type": "markdown",
      "metadata": {
        "id": "1UhcnJ2JS8bv"
      },
      "source": [
        "## **TF-IDF Vectorization and Data Preparations**\n",
        "TF-IDF vectorizer results are converted to Pandas dataframes to make filtering to the top x words and removing sparse words easier."
      ]
    },
    {
      "cell_type": "code",
      "execution_count": 25,
      "metadata": {
        "id": "Qp2anFlAS7qk"
      },
      "outputs": [],
      "source": [
        "# Define vectorizer\n",
        "vectorizer = tfidf(norm = None)\n",
        "\n",
        "# Vectorize Xtrain data and get feature names\n",
        "Xtrain = vectorizer.fit_transform(Xtrain)\n",
        "xtrfts = vectorizer.get_feature_names_out()\n",
        "\n",
        "# Vectorize Xtest data and get feature names\n",
        "Xtest = vectorizer.transform(Xtest)\n",
        "xtsfts = vectorizer.get_feature_names_out()\n",
        "\n",
        "# Create Pandas dataframes for the vectorized datasets\n",
        "Xtrain = pd.DataFrame.sparse.from_spmatrix(Xtrain, columns = xtrfts)\n",
        "Xtest = pd.DataFrame.sparse.from_spmatrix(Xtest, columns = xtsfts)\n",
        "\n",
        "# Convert new Pandas dataframes to dense values\n",
        "Xtrain = Xtrain.sparse.to_dense().astype(np.float64)\n",
        "Xtest = Xtest.sparse.to_dense().astype(np.float64)"
      ]
    },
    {
      "cell_type": "markdown",
      "metadata": {
        "id": "Fn4HLEjmU8K2"
      },
      "source": [
        "## **Model**"
      ]
    },
    {
      "cell_type": "code",
      "execution_count": 26,
      "metadata": {
        "id": "oJvne19QU7sa",
        "outputId": "61f3573c-50a2-463a-ce1e-aa98716c95bb"
      },
      "outputs": [
        {
          "name": "stdout",
          "output_type": "stream",
          "text": [
            "              precision    recall  f1-score   support\n",
            "\n",
            "           0       0.81      0.80      0.81       432\n",
            "           1       0.81      0.82      0.82       444\n",
            "\n",
            "    accuracy                           0.81       876\n",
            "   macro avg       0.81      0.81      0.81       876\n",
            "weighted avg       0.81      0.81      0.81       876\n",
            "\n"
          ]
        }
      ],
      "source": [
        "# Define the model to use\n",
        "mdl = MultinomialNB()\n",
        "\n",
        "# Define model run function\n",
        "def model(xtr, xts, ytr, yts):\n",
        "  mdl.fit(xtr, ytr)\n",
        "  preds = mdl.predict(xts)\n",
        "  print(classification_report(yts, preds))\n",
        "\n",
        "# Use function\n",
        "model(Xtrain, Xtest, ytrain, ytest)"
      ]
    },
    {
      "cell_type": "markdown",
      "metadata": {
        "id": "gx87iDn5YWO_"
      },
      "source": [
        "# **DOCUMENT FREQUENCY REDUCTION**"
      ]
    },
    {
      "cell_type": "code",
      "execution_count": 27,
      "metadata": {
        "colab": {
          "base_uri": "https://localhost:8080/",
          "height": 206
        },
        "id": "_pNJvS_JXz_a",
        "outputId": "6ecaa81c-2f11-453a-a6d4-d63f0b5dd54b"
      },
      "outputs": [
        {
          "data": {
            "text/html": [
              "<div>\n",
              "<style scoped>\n",
              "    .dataframe tbody tr th:only-of-type {\n",
              "        vertical-align: middle;\n",
              "    }\n",
              "\n",
              "    .dataframe tbody tr th {\n",
              "        vertical-align: top;\n",
              "    }\n",
              "\n",
              "    .dataframe thead th {\n",
              "        text-align: right;\n",
              "    }\n",
              "</style>\n",
              "<table border=\"1\" class=\"dataframe\">\n",
              "  <thead>\n",
              "    <tr style=\"text-align: right;\">\n",
              "      <th></th>\n",
              "      <th>0</th>\n",
              "    </tr>\n",
              "  </thead>\n",
              "  <tbody>\n",
              "    <tr>\n",
              "      <th>lo</th>\n",
              "      <td>2</td>\n",
              "    </tr>\n",
              "    <tr>\n",
              "      <th>ed</th>\n",
              "      <td>2</td>\n",
              "    </tr>\n",
              "    <tr>\n",
              "      <th>old</th>\n",
              "      <td>70</td>\n",
              "    </tr>\n",
              "    <tr>\n",
              "      <th>style</th>\n",
              "      <td>20</td>\n",
              "    </tr>\n",
              "    <tr>\n",
              "      <th>much</th>\n",
              "      <td>434</td>\n",
              "    </tr>\n",
              "  </tbody>\n",
              "</table>\n",
              "</div>"
            ],
            "text/plain": [
              "         0\n",
              "lo       2\n",
              "ed       2\n",
              "old     70\n",
              "style   20\n",
              "much   434"
            ]
          },
          "execution_count": 27,
          "metadata": {},
          "output_type": "execute_result"
        }
      ],
      "source": [
        "# Define a function that counts the number of documents every word occurs in\n",
        "def docs(corpus):\n",
        "  doc_count = dict()\n",
        "  for line in corpus:\n",
        "    for word in line.split():\n",
        "      if word in doc_count:\n",
        "        doc_count[word] += 1\n",
        "      else:\n",
        "        doc_count[word] = 1\n",
        "  return doc_count\n",
        "\n",
        "# Create a Pandas dataframe with the number of documents every word occurs in\n",
        "counts = docs(df['reviewText'])\n",
        "counts = pd.DataFrame.from_dict(counts, orient='index')\n",
        "counts.head()"
      ]
    },
    {
      "cell_type": "code",
      "execution_count": 28,
      "metadata": {
        "colab": {
          "base_uri": "https://localhost:8080/",
          "height": 206
        },
        "id": "zwkJplUiY9GQ",
        "outputId": "5c4be5e1-cc5c-4dc7-d038-78a87189e468"
      },
      "outputs": [
        {
          "data": {
            "text/html": [
              "<div>\n",
              "<style scoped>\n",
              "    .dataframe tbody tr th:only-of-type {\n",
              "        vertical-align: middle;\n",
              "    }\n",
              "\n",
              "    .dataframe tbody tr th {\n",
              "        vertical-align: top;\n",
              "    }\n",
              "\n",
              "    .dataframe thead th {\n",
              "        text-align: right;\n",
              "    }\n",
              "</style>\n",
              "<table border=\"1\" class=\"dataframe\">\n",
              "  <thead>\n",
              "    <tr style=\"text-align: right;\">\n",
              "      <th></th>\n",
              "      <th>index</th>\n",
              "      <th>doc_freq</th>\n",
              "    </tr>\n",
              "  </thead>\n",
              "  <tbody>\n",
              "    <tr>\n",
              "      <th>0</th>\n",
              "      <td>lo</td>\n",
              "      <td>2</td>\n",
              "    </tr>\n",
              "    <tr>\n",
              "      <th>1</th>\n",
              "      <td>ed</td>\n",
              "      <td>2</td>\n",
              "    </tr>\n",
              "    <tr>\n",
              "      <th>2</th>\n",
              "      <td>old</td>\n",
              "      <td>70</td>\n",
              "    </tr>\n",
              "    <tr>\n",
              "      <th>3</th>\n",
              "      <td>style</td>\n",
              "      <td>20</td>\n",
              "    </tr>\n",
              "    <tr>\n",
              "      <th>4</th>\n",
              "      <td>much</td>\n",
              "      <td>434</td>\n",
              "    </tr>\n",
              "  </tbody>\n",
              "</table>\n",
              "</div>"
            ],
            "text/plain": [
              "   index  doc_freq\n",
              "0     lo         2\n",
              "1     ed         2\n",
              "2    old        70\n",
              "3  style        20\n",
              "4   much       434"
            ]
          },
          "execution_count": 28,
          "metadata": {},
          "output_type": "execute_result"
        }
      ],
      "source": [
        "# Rename column and restructure dataframe\n",
        "counts = counts.rename(columns={0:'doc_freq'})\n",
        "counts = counts.reset_index()\n",
        "\n",
        "# Check dataframe\n",
        "counts.head()"
      ]
    },
    {
      "cell_type": "code",
      "execution_count": 29,
      "metadata": {
        "colab": {
          "base_uri": "https://localhost:8080/",
          "height": 206
        },
        "id": "hcga2GxDsGMJ",
        "outputId": "97feb4b5-9bea-4f5e-cb9c-26b398af992f"
      },
      "outputs": [
        {
          "data": {
            "text/html": [
              "<div>\n",
              "<style scoped>\n",
              "    .dataframe tbody tr th:only-of-type {\n",
              "        vertical-align: middle;\n",
              "    }\n",
              "\n",
              "    .dataframe tbody tr th {\n",
              "        vertical-align: top;\n",
              "    }\n",
              "\n",
              "    .dataframe thead th {\n",
              "        text-align: right;\n",
              "    }\n",
              "</style>\n",
              "<table border=\"1\" class=\"dataframe\">\n",
              "  <thead>\n",
              "    <tr style=\"text-align: right;\">\n",
              "      <th></th>\n",
              "      <th>word</th>\n",
              "      <th>doc_freq</th>\n",
              "      <th>percent</th>\n",
              "    </tr>\n",
              "  </thead>\n",
              "  <tbody>\n",
              "    <tr>\n",
              "      <th>0</th>\n",
              "      <td>lo</td>\n",
              "      <td>2</td>\n",
              "      <td>0.047114</td>\n",
              "    </tr>\n",
              "    <tr>\n",
              "      <th>1</th>\n",
              "      <td>ed</td>\n",
              "      <td>2</td>\n",
              "      <td>0.047114</td>\n",
              "    </tr>\n",
              "    <tr>\n",
              "      <th>2</th>\n",
              "      <td>old</td>\n",
              "      <td>70</td>\n",
              "      <td>1.648999</td>\n",
              "    </tr>\n",
              "    <tr>\n",
              "      <th>3</th>\n",
              "      <td>style</td>\n",
              "      <td>20</td>\n",
              "      <td>0.471143</td>\n",
              "    </tr>\n",
              "    <tr>\n",
              "      <th>4</th>\n",
              "      <td>much</td>\n",
              "      <td>434</td>\n",
              "      <td>10.223793</td>\n",
              "    </tr>\n",
              "  </tbody>\n",
              "</table>\n",
              "</div>"
            ],
            "text/plain": [
              "    word  doc_freq    percent\n",
              "0     lo         2   0.047114\n",
              "1     ed         2   0.047114\n",
              "2    old        70   1.648999\n",
              "3  style        20   0.471143\n",
              "4   much       434  10.223793"
            ]
          },
          "execution_count": 29,
          "metadata": {},
          "output_type": "execute_result"
        }
      ],
      "source": [
        "# Rename index and add percent column\n",
        "counts = counts.rename(columns={'index':'word'})\n",
        "counts['percent'] = (counts['doc_freq']/len(counts)) * 100\n",
        "\n",
        "# Confirm dataframe\n",
        "counts.head()"
      ]
    },
    {
      "cell_type": "code",
      "execution_count": 30,
      "metadata": {
        "colab": {
          "base_uri": "https://localhost:8080/",
          "height": 469
        },
        "id": "X2naDM0usxck",
        "outputId": "fa69da6d-b212-4ce4-dd11-6612f99d941e"
      },
      "outputs": [
        {
          "data": {
            "text/plain": [
              "array([[<Axes: title={'center': 'percent'}>]], dtype=object)"
            ]
          },
          "execution_count": 30,
          "metadata": {},
          "output_type": "execute_result"
        },
        {
          "data": {
            "image/png": "[encoded data removed]",
            "text/plain": [
              "<Figure size 640x480 with 1 Axes>"
            ]
          },
          "metadata": {},
          "output_type": "display_data"
        }
      ],
      "source": [
        "# Show distribution of \"percent\"\n",
        "counts.hist(column='percent', bins=100)"
      ]
    },
    {
      "cell_type": "code",
      "execution_count": 31,
      "metadata": {
        "colab": {
          "base_uri": "https://localhost:8080/"
        },
        "id": "xsCXGHaVtWVx",
        "outputId": "93866baa-a7ea-4b71-af6e-2e5206deb6e4"
      },
      "outputs": [
        {
          "name": "stdout",
          "output_type": "stream",
          "text": [
            "<class 'pandas.core.frame.DataFrame'>\n",
            "RangeIndex: 4245 entries, 0 to 4244\n",
            "Data columns (total 3 columns):\n",
            " #   Column    Non-Null Count  Dtype  \n",
            "---  ------    --------------  -----  \n",
            " 0   word      4245 non-null   object \n",
            " 1   doc_freq  4245 non-null   int64  \n",
            " 2   percent   4245 non-null   float64\n",
            "dtypes: float64(1), int64(1), object(1)\n",
            "memory usage: 99.6+ KB\n"
          ]
        }
      ],
      "source": [
        "# Get information on the dataframe\n",
        "counts.info()"
      ]
    },
    {
      "cell_type": "code",
      "execution_count": 32,
      "metadata": {
        "id": "wqtA0GwQG6jw"
      },
      "outputs": [],
      "source": [
        "# Define a filtering function for the entire dataset\n",
        "def filter_entries(words, percent):\n",
        "    valid = list(words.loc[words['percent'] > percent, 'word'])\n",
        "    data = df.explode('reviewText')\n",
        "    data = data[data['reviewText'].isin(valid)]\n",
        "    data = data.groupby(data.index).agg({'reviewText':list, 'label':'first'})\n",
        "    data.info()\n",
        "\n",
        "# Define a filtering function for the training and testing sets\n",
        "def filter_sets(words, percent, dataset):\n",
        "   valid = list(words.loc[words['percent'] > percent, 'word'])\n",
        "   wordset = set(valid) & set(dataset.columns)\n",
        "   words = list(wordset)\n",
        "   dataset = dataset[words]\n",
        "   return dataset"
      ]
    },
    {
      "cell_type": "markdown",
      "metadata": {
        "id": "wZdst-LFG6jw"
      },
      "source": [
        "## **Remove Words Occuring <=1%**"
      ]
    },
    {
      "cell_type": "code",
      "execution_count": 33,
      "metadata": {
        "id": "B-qJxA6qG6jx",
        "outputId": "fb2dd62c-dbf7-4ecb-d394-eaba2ae3a8ff"
      },
      "outputs": [
        {
          "name": "stdout",
          "output_type": "stream",
          "text": [
            "<class 'pandas.core.frame.DataFrame'>\n",
            "Index: 196 entries, 20 to 3725\n",
            "Data columns (total 2 columns):\n",
            " #   Column      Non-Null Count  Dtype \n",
            "---  ------      --------------  ----- \n",
            " 0   reviewText  196 non-null    object\n",
            " 1   label       196 non-null    int64 \n",
            "dtypes: int64(1), object(1)\n",
            "memory usage: 4.6+ KB\n"
          ]
        }
      ],
      "source": [
        "# Get info on entire dataset after removing words occurring <=1%\n",
        "filter_entries(counts, 1)"
      ]
    },
    {
      "cell_type": "code",
      "execution_count": 34,
      "metadata": {
        "id": "q2scidOVG6jx",
        "outputId": "e2d31584-05c9-48fe-8ef6-57a64dfc956f"
      },
      "outputs": [
        {
          "name": "stdout",
          "output_type": "stream",
          "text": [
            "<class 'pandas.core.frame.DataFrame'>\n",
            "RangeIndex: 3504 entries, 0 to 3503\n",
            "Columns: 3728 entries, aaaaa to zumba\n",
            "dtypes: float64(3728)\n",
            "memory usage: 99.7 MB\n",
            "\n",
            "<class 'pandas.core.frame.DataFrame'>\n",
            "RangeIndex: 3504 entries, 0 to 3503\n",
            "Columns: 272 entries, anyone to store\n",
            "dtypes: float64(272)\n",
            "memory usage: 7.3 MB\n",
            "\n",
            "<class 'pandas.core.frame.DataFrame'>\n",
            "RangeIndex: 876 entries, 0 to 875\n",
            "Columns: 3728 entries, aaaaa to zumba\n",
            "dtypes: float64(3728)\n",
            "memory usage: 24.9 MB\n",
            "\n",
            "<class 'pandas.core.frame.DataFrame'>\n",
            "RangeIndex: 876 entries, 0 to 875\n",
            "Columns: 272 entries, anyone to store\n",
            "dtypes: float64(272)\n",
            "memory usage: 1.8 MB\n"
          ]
        }
      ],
      "source": [
        "# Filter the training and testing sets\n",
        "xtr_percent_1 = filter_sets(counts, 1, Xtrain)\n",
        "xts_percent_1 = filter_sets(counts, 1, Xtest)\n",
        "\n",
        "# Confirm the dataframes\n",
        "Xtrain.info()\n",
        "print()\n",
        "xtr_percent_1.info()\n",
        "print()\n",
        "Xtest.info()\n",
        "print()\n",
        "xts_percent_1.info()"
      ]
    },
    {
      "cell_type": "code",
      "execution_count": 35,
      "metadata": {
        "id": "JLep0R-MG6jy",
        "outputId": "52af38e0-1778-48a8-9913-d3acdb49a177"
      },
      "outputs": [
        {
          "name": "stdout",
          "output_type": "stream",
          "text": [
            "              precision    recall  f1-score   support\n",
            "\n",
            "           0       0.79      0.84      0.81       432\n",
            "           1       0.83      0.79      0.81       444\n",
            "\n",
            "    accuracy                           0.81       876\n",
            "   macro avg       0.81      0.81      0.81       876\n",
            "weighted avg       0.81      0.81      0.81       876\n",
            "\n"
          ]
        }
      ],
      "source": [
        "# Run the model\n",
        "model(xtr_percent_1, xts_percent_1, ytrain, ytest)"
      ]
    },
    {
      "cell_type": "markdown",
      "metadata": {
        "id": "bCVxkyBSG6jy"
      },
      "source": [
        "## **Remove Words Occuring <=0.8%**"
      ]
    },
    {
      "cell_type": "code",
      "execution_count": 36,
      "metadata": {
        "id": "zak3Fc1bG6jy",
        "outputId": "f0229592-b7b9-4738-bb37-ced23181defb"
      },
      "outputs": [
        {
          "name": "stdout",
          "output_type": "stream",
          "text": [
            "<class 'pandas.core.frame.DataFrame'>\n",
            "Index: 197 entries, 20 to 3725\n",
            "Data columns (total 2 columns):\n",
            " #   Column      Non-Null Count  Dtype \n",
            "---  ------      --------------  ----- \n",
            " 0   reviewText  197 non-null    object\n",
            " 1   label       197 non-null    int64 \n",
            "dtypes: int64(1), object(1)\n",
            "memory usage: 4.6+ KB\n"
          ]
        }
      ],
      "source": [
        "# Get info on entire dataset after removing words occurring <=0.8%\n",
        "filter_entries(counts, 0.8)"
      ]
    },
    {
      "cell_type": "code",
      "execution_count": 37,
      "metadata": {
        "id": "nsBAc3BDG6jz",
        "outputId": "f3550da6-2efa-46e5-c8c6-fe9f2437514c"
      },
      "outputs": [
        {
          "name": "stdout",
          "output_type": "stream",
          "text": [
            "<class 'pandas.core.frame.DataFrame'>\n",
            "RangeIndex: 3504 entries, 0 to 3503\n",
            "Columns: 3728 entries, aaaaa to zumba\n",
            "dtypes: float64(3728)\n",
            "memory usage: 99.7 MB\n",
            "\n",
            "<class 'pandas.core.frame.DataFrame'>\n",
            "RangeIndex: 3504 entries, 0 to 3503\n",
            "Columns: 334 entries, anyone to store\n",
            "dtypes: float64(334)\n",
            "memory usage: 8.9 MB\n",
            "\n",
            "<class 'pandas.core.frame.DataFrame'>\n",
            "RangeIndex: 876 entries, 0 to 875\n",
            "Columns: 3728 entries, aaaaa to zumba\n",
            "dtypes: float64(3728)\n",
            "memory usage: 24.9 MB\n",
            "\n",
            "<class 'pandas.core.frame.DataFrame'>\n",
            "RangeIndex: 876 entries, 0 to 875\n",
            "Columns: 334 entries, anyone to store\n",
            "dtypes: float64(334)\n",
            "memory usage: 2.2 MB\n"
          ]
        }
      ],
      "source": [
        "# Filter the training and testing sets\n",
        "xtr_percent_8 = filter_sets(counts, 0.8, Xtrain)\n",
        "xts_percent_8 = filter_sets(counts, 0.8, Xtest)\n",
        "\n",
        "# Confirm the dataframes\n",
        "Xtrain.info()\n",
        "print()\n",
        "xtr_percent_8.info()\n",
        "print()\n",
        "Xtest.info()\n",
        "print()\n",
        "xts_percent_8.info()"
      ]
    },
    {
      "cell_type": "code",
      "execution_count": 38,
      "metadata": {
        "id": "5Q5a1-fhG6jz",
        "outputId": "7c00e03b-d64e-4ece-e269-b53f017b3963"
      },
      "outputs": [
        {
          "name": "stdout",
          "output_type": "stream",
          "text": [
            "              precision    recall  f1-score   support\n",
            "\n",
            "           0       0.82      0.85      0.83       432\n",
            "           1       0.85      0.81      0.83       444\n",
            "\n",
            "    accuracy                           0.83       876\n",
            "   macro avg       0.83      0.83      0.83       876\n",
            "weighted avg       0.83      0.83      0.83       876\n",
            "\n"
          ]
        }
      ],
      "source": [
        "# Run the model\n",
        "model(xtr_percent_8, xts_percent_8, ytrain, ytest)"
      ]
    },
    {
      "cell_type": "markdown",
      "metadata": {
        "id": "lHt9EY8iG6j0"
      },
      "source": [
        "## **Remove Words Occuring <=0.6%**"
      ]
    },
    {
      "cell_type": "code",
      "execution_count": 39,
      "metadata": {
        "id": "bAPMdIjeG6j0",
        "outputId": "aa0b30c5-d01b-435d-e500-92e3bbe3c379"
      },
      "outputs": [
        {
          "name": "stdout",
          "output_type": "stream",
          "text": [
            "<class 'pandas.core.frame.DataFrame'>\n",
            "Index: 200 entries, 20 to 3725\n",
            "Data columns (total 2 columns):\n",
            " #   Column      Non-Null Count  Dtype \n",
            "---  ------      --------------  ----- \n",
            " 0   reviewText  200 non-null    object\n",
            " 1   label       200 non-null    int64 \n",
            "dtypes: int64(1), object(1)\n",
            "memory usage: 4.7+ KB\n"
          ]
        }
      ],
      "source": [
        "# Get info on entire dataset after removing words occurring <=0.6%\n",
        "filter_entries(counts, 0.6)"
      ]
    },
    {
      "cell_type": "code",
      "execution_count": 40,
      "metadata": {
        "id": "94ZxiRaHG6j0",
        "outputId": "1213b51b-355f-4842-8cf7-89ab790ab208"
      },
      "outputs": [
        {
          "name": "stdout",
          "output_type": "stream",
          "text": [
            "<class 'pandas.core.frame.DataFrame'>\n",
            "RangeIndex: 3504 entries, 0 to 3503\n",
            "Columns: 3728 entries, aaaaa to zumba\n",
            "dtypes: float64(3728)\n",
            "memory usage: 99.7 MB\n",
            "\n",
            "<class 'pandas.core.frame.DataFrame'>\n",
            "RangeIndex: 3504 entries, 0 to 3503\n",
            "Columns: 404 entries, anyone to store\n",
            "dtypes: float64(404)\n",
            "memory usage: 10.8 MB\n",
            "\n",
            "<class 'pandas.core.frame.DataFrame'>\n",
            "RangeIndex: 876 entries, 0 to 875\n",
            "Columns: 3728 entries, aaaaa to zumba\n",
            "dtypes: float64(3728)\n",
            "memory usage: 24.9 MB\n",
            "\n",
            "<class 'pandas.core.frame.DataFrame'>\n",
            "RangeIndex: 876 entries, 0 to 875\n",
            "Columns: 404 entries, anyone to store\n",
            "dtypes: float64(404)\n",
            "memory usage: 2.7 MB\n"
          ]
        }
      ],
      "source": [
        "# Filter the training and testing sets\n",
        "xtr_percent_6 = filter_sets(counts, 0.6, Xtrain)\n",
        "xts_percent_6 = filter_sets(counts, 0.6, Xtest)\n",
        "\n",
        "# Confirm the dataframes\n",
        "Xtrain.info()\n",
        "print()\n",
        "xtr_percent_6.info()\n",
        "print()\n",
        "Xtest.info()\n",
        "print()\n",
        "xts_percent_6.info()"
      ]
    },
    {
      "cell_type": "code",
      "execution_count": 41,
      "metadata": {
        "id": "mienZlQyG6j1",
        "outputId": "f92f40e3-f901-47ef-e9ac-262ff0e469cf"
      },
      "outputs": [
        {
          "name": "stdout",
          "output_type": "stream",
          "text": [
            "              precision    recall  f1-score   support\n",
            "\n",
            "           0       0.83      0.86      0.85       432\n",
            "           1       0.86      0.83      0.85       444\n",
            "\n",
            "    accuracy                           0.85       876\n",
            "   macro avg       0.85      0.85      0.85       876\n",
            "weighted avg       0.85      0.85      0.85       876\n",
            "\n"
          ]
        }
      ],
      "source": [
        "# Run the model\n",
        "model(xtr_percent_6, xts_percent_6, ytrain, ytest)"
      ]
    },
    {
      "cell_type": "markdown",
      "metadata": {
        "id": "A_6WdtzHG6j1"
      },
      "source": [
        "## **Remove Words Occuring <=0.4%**"
      ]
    },
    {
      "cell_type": "code",
      "execution_count": 42,
      "metadata": {
        "id": "ZE9hI494G6j2",
        "outputId": "7420f321-3cb4-467e-e04c-c9b9ffda25a3"
      },
      "outputs": [
        {
          "name": "stdout",
          "output_type": "stream",
          "text": [
            "<class 'pandas.core.frame.DataFrame'>\n",
            "Index: 210 entries, 20 to 3725\n",
            "Data columns (total 2 columns):\n",
            " #   Column      Non-Null Count  Dtype \n",
            "---  ------      --------------  ----- \n",
            " 0   reviewText  210 non-null    object\n",
            " 1   label       210 non-null    int64 \n",
            "dtypes: int64(1), object(1)\n",
            "memory usage: 4.9+ KB\n"
          ]
        }
      ],
      "source": [
        "# Get info on entire dataset after removing words occurring <=0.4%\n",
        "filter_entries(counts, 0.4)"
      ]
    },
    {
      "cell_type": "code",
      "execution_count": 43,
      "metadata": {
        "id": "SPpY2n6jG6j2",
        "outputId": "9b184440-5190-44ca-899a-bea00e0437bf"
      },
      "outputs": [
        {
          "name": "stdout",
          "output_type": "stream",
          "text": [
            "<class 'pandas.core.frame.DataFrame'>\n",
            "RangeIndex: 3504 entries, 0 to 3503\n",
            "Columns: 3728 entries, aaaaa to zumba\n",
            "dtypes: float64(3728)\n",
            "memory usage: 99.7 MB\n",
            "\n",
            "<class 'pandas.core.frame.DataFrame'>\n",
            "RangeIndex: 3504 entries, 0 to 3503\n",
            "Columns: 553 entries, anyone to store\n",
            "dtypes: float64(553)\n",
            "memory usage: 14.8 MB\n",
            "\n",
            "<class 'pandas.core.frame.DataFrame'>\n",
            "RangeIndex: 876 entries, 0 to 875\n",
            "Columns: 3728 entries, aaaaa to zumba\n",
            "dtypes: float64(3728)\n",
            "memory usage: 24.9 MB\n",
            "\n",
            "<class 'pandas.core.frame.DataFrame'>\n",
            "RangeIndex: 876 entries, 0 to 875\n",
            "Columns: 553 entries, anyone to store\n",
            "dtypes: float64(553)\n",
            "memory usage: 3.7 MB\n"
          ]
        }
      ],
      "source": [
        "# Filter the training and testing sets\n",
        "xtr_percent_4 = filter_sets(counts, 0.4, Xtrain)\n",
        "xts_percent_4 = filter_sets(counts, 0.4, Xtest)\n",
        "\n",
        "# Confirm the dataframes\n",
        "Xtrain.info()\n",
        "print()\n",
        "xtr_percent_4.info()\n",
        "print()\n",
        "Xtest.info()\n",
        "print()\n",
        "xts_percent_4.info()"
      ]
    },
    {
      "cell_type": "code",
      "execution_count": 44,
      "metadata": {
        "id": "6b9stGmmG6j3",
        "outputId": "98ebef67-4d1d-4253-cac5-92cba9afb835"
      },
      "outputs": [
        {
          "name": "stdout",
          "output_type": "stream",
          "text": [
            "              precision    recall  f1-score   support\n",
            "\n",
            "           0       0.81      0.85      0.83       432\n",
            "           1       0.85      0.81      0.83       444\n",
            "\n",
            "    accuracy                           0.83       876\n",
            "   macro avg       0.83      0.83      0.83       876\n",
            "weighted avg       0.83      0.83      0.83       876\n",
            "\n"
          ]
        }
      ],
      "source": [
        "# Run the model\n",
        "model(xtr_percent_4, xts_percent_4, ytrain, ytest)"
      ]
    },
    {
      "cell_type": "markdown",
      "metadata": {
        "id": "SOGiuQpPG6j3"
      },
      "source": [
        "## **Remove Words Occuring <=0.2%**"
      ]
    },
    {
      "cell_type": "code",
      "execution_count": 45,
      "metadata": {
        "id": "Yu-Z9Ox4G6j3",
        "outputId": "91d3c62f-5646-4482-9c08-13a69480867e"
      },
      "outputs": [
        {
          "name": "stdout",
          "output_type": "stream",
          "text": [
            "<class 'pandas.core.frame.DataFrame'>\n",
            "Index: 212 entries, 20 to 3725\n",
            "Data columns (total 2 columns):\n",
            " #   Column      Non-Null Count  Dtype \n",
            "---  ------      --------------  ----- \n",
            " 0   reviewText  212 non-null    object\n",
            " 1   label       212 non-null    int64 \n",
            "dtypes: int64(1), object(1)\n",
            "memory usage: 5.0+ KB\n"
          ]
        }
      ],
      "source": [
        "# Get info on entire dataset after removing words occurring <=0.2%\n",
        "filter_entries(counts, 0.2)"
      ]
    },
    {
      "cell_type": "code",
      "execution_count": 46,
      "metadata": {
        "id": "Gz7knda5G6j3",
        "outputId": "70da9e2f-6cb4-4b91-a07c-f320fa09e5c9"
      },
      "outputs": [
        {
          "name": "stdout",
          "output_type": "stream",
          "text": [
            "<class 'pandas.core.frame.DataFrame'>\n",
            "RangeIndex: 3504 entries, 0 to 3503\n",
            "Columns: 3728 entries, aaaaa to zumba\n",
            "dtypes: float64(3728)\n",
            "memory usage: 99.7 MB\n",
            "\n",
            "<class 'pandas.core.frame.DataFrame'>\n",
            "RangeIndex: 3504 entries, 0 to 3503\n",
            "Columns: 834 entries, anyone to store\n",
            "dtypes: float64(834)\n",
            "memory usage: 22.3 MB\n",
            "\n",
            "<class 'pandas.core.frame.DataFrame'>\n",
            "RangeIndex: 876 entries, 0 to 875\n",
            "Columns: 3728 entries, aaaaa to zumba\n",
            "dtypes: float64(3728)\n",
            "memory usage: 24.9 MB\n",
            "\n",
            "<class 'pandas.core.frame.DataFrame'>\n",
            "RangeIndex: 876 entries, 0 to 875\n",
            "Columns: 834 entries, anyone to store\n",
            "dtypes: float64(834)\n",
            "memory usage: 5.6 MB\n"
          ]
        }
      ],
      "source": [
        "# Filter the training and testing sets\n",
        "xtr_percent_2 = filter_sets(counts, 0.2, Xtrain)\n",
        "xts_percent_2 = filter_sets(counts, 0.2, Xtest)\n",
        "\n",
        "# Confirm the dataframes\n",
        "Xtrain.info()\n",
        "print()\n",
        "xtr_percent_2.info()\n",
        "print()\n",
        "Xtest.info()\n",
        "print()\n",
        "xts_percent_2.info()"
      ]
    },
    {
      "cell_type": "code",
      "execution_count": 47,
      "metadata": {
        "id": "UHXAZ1T-G6j4",
        "outputId": "61d50117-a89d-4d45-a24c-169fa2558f1b"
      },
      "outputs": [
        {
          "name": "stdout",
          "output_type": "stream",
          "text": [
            "              precision    recall  f1-score   support\n",
            "\n",
            "           0       0.81      0.83      0.82       432\n",
            "           1       0.83      0.82      0.82       444\n",
            "\n",
            "    accuracy                           0.82       876\n",
            "   macro avg       0.82      0.82      0.82       876\n",
            "weighted avg       0.82      0.82      0.82       876\n",
            "\n"
          ]
        }
      ],
      "source": [
        "# Run the model\n",
        "model(xtr_percent_2, xts_percent_2, ytrain, ytest)"
      ]
    },
    {
      "cell_type": "markdown",
      "metadata": {
        "id": "sZV1Y8kvw-cB"
      },
      "source": [
        "# **TF-IDF REDUCTION**"
      ]
    },
    {
      "cell_type": "code",
      "execution_count": 48,
      "metadata": {
        "id": "CpBpx87_uGo0"
      },
      "outputs": [],
      "source": [
        "# Perform TF-IDF vectorization on all documents at once\n",
        "vectorizer = tfidf(norm=None)\n",
        "matrix = vectorizer.fit_transform(df['reviewText'])\n",
        "\n",
        "# Store features, calculate sum TF-IDF score for each word, and put them into a dataframe\n",
        "feats = vectorizer.get_feature_names_out()\n",
        "scores = matrix.sum(axis=0).A1\n",
        "tfidf_ranks = pd.DataFrame({'Word': feats, 'TF-IDF Score': scores})\n",
        "tfidf_ranks = tfidf_ranks.sort_values(by='TF-IDF Score', ascending=False)\n",
        "\n",
        "# Define a filtering function for the entire dataset\n",
        "def filter_entire(ranks, wordcount):\n",
        "  valid = list(ranks['Word'].head(wordcount))\n",
        "  data = df.explode('reviewText')\n",
        "  data = data[data['reviewText'].isin(valid)]\n",
        "  data = data.groupby(data.index).agg({'reviewText':list, 'label':'first'})\n",
        "  data.info()\n",
        "\n",
        "# Define a filtering function for the training and testing sets\n",
        "def filter_partial(ranks, wordcount, dataset):\n",
        "  valid = list(ranks['Word'].head(wordcount))\n",
        "  wordset = set(valid) & set(dataset.columns)\n",
        "  words = list(wordset)\n",
        "  dataset = dataset[words]\n",
        "  return dataset"
      ]
    },
    {
      "cell_type": "markdown",
      "metadata": {
        "id": "90DG_quMy-2g"
      },
      "source": [
        "## **272 Words**"
      ]
    },
    {
      "cell_type": "code",
      "execution_count": 49,
      "metadata": {
        "colab": {
          "base_uri": "https://localhost:8080/"
        },
        "id": "C_aYq_V5y9gL",
        "outputId": "261a5ff6-5cb4-4255-b4a5-f2b2f793a995"
      },
      "outputs": [
        {
          "name": "stdout",
          "output_type": "stream",
          "text": [
            "<class 'pandas.core.frame.DataFrame'>\n",
            "Index: 196 entries, 20 to 3725\n",
            "Data columns (total 2 columns):\n",
            " #   Column      Non-Null Count  Dtype \n",
            "---  ------      --------------  ----- \n",
            " 0   reviewText  196 non-null    object\n",
            " 1   label       196 non-null    int64 \n",
            "dtypes: int64(1), object(1)\n",
            "memory usage: 4.6+ KB\n"
          ]
        }
      ],
      "source": [
        "# Get info on entire dataset after filtering to 272 words\n",
        "filter_entire(tfidf_ranks, 272)"
      ]
    },
    {
      "cell_type": "markdown",
      "metadata": {
        "id": "nV9pkpp-03ig"
      },
      "source": [
        "Significant data loss."
      ]
    },
    {
      "cell_type": "code",
      "execution_count": 50,
      "metadata": {
        "colab": {
          "base_uri": "https://localhost:8080/"
        },
        "id": "vHN2Xlva0poz",
        "outputId": "60377b28-63ec-4be0-9e53-2779d018c70e"
      },
      "outputs": [
        {
          "name": "stdout",
          "output_type": "stream",
          "text": [
            "<class 'pandas.core.frame.DataFrame'>\n",
            "RangeIndex: 3504 entries, 0 to 3503\n",
            "Columns: 3728 entries, aaaaa to zumba\n",
            "dtypes: float64(3728)\n",
            "memory usage: 99.7 MB\n",
            "\n",
            "<class 'pandas.core.frame.DataFrame'>\n",
            "RangeIndex: 3504 entries, 0 to 3503\n",
            "Columns: 272 entries, anyone to store\n",
            "dtypes: float64(272)\n",
            "memory usage: 7.3 MB\n",
            "\n",
            "<class 'pandas.core.frame.DataFrame'>\n",
            "RangeIndex: 876 entries, 0 to 875\n",
            "Columns: 3728 entries, aaaaa to zumba\n",
            "dtypes: float64(3728)\n",
            "memory usage: 24.9 MB\n",
            "\n",
            "<class 'pandas.core.frame.DataFrame'>\n",
            "RangeIndex: 876 entries, 0 to 875\n",
            "Columns: 272 entries, anyone to store\n",
            "dtypes: float64(272)\n",
            "memory usage: 1.8 MB\n"
          ]
        }
      ],
      "source": [
        "# Filter the training and testing sets\n",
        "xtr_tfidf_272 = filter_partial(tfidf_ranks, 272, Xtrain)\n",
        "xts_tfidf_272 = filter_partial(tfidf_ranks, 272, Xtest)\n",
        "\n",
        "# Confirm the dataframes\n",
        "Xtrain.info()\n",
        "print()\n",
        "xtr_tfidf_272.info()\n",
        "print()\n",
        "Xtest.info()\n",
        "print()\n",
        "xts_tfidf_272.info()"
      ]
    },
    {
      "cell_type": "code",
      "execution_count": 51,
      "metadata": {
        "colab": {
          "base_uri": "https://localhost:8080/"
        },
        "id": "gC7GXfR_7QLd",
        "outputId": "c706b60f-c9b0-47e5-e3e3-18e26dfda063"
      },
      "outputs": [
        {
          "name": "stdout",
          "output_type": "stream",
          "text": [
            "              precision    recall  f1-score   support\n",
            "\n",
            "           0       0.79      0.84      0.81       432\n",
            "           1       0.83      0.79      0.81       444\n",
            "\n",
            "    accuracy                           0.81       876\n",
            "   macro avg       0.81      0.81      0.81       876\n",
            "weighted avg       0.81      0.81      0.81       876\n",
            "\n"
          ]
        }
      ],
      "source": [
        "# Run the model\n",
        "model(xtr_tfidf_272, xts_tfidf_272, ytrain, ytest)"
      ]
    },
    {
      "cell_type": "markdown",
      "metadata": {
        "id": "L3yJRRN_1Ekn"
      },
      "source": [
        "## **334 Words**"
      ]
    },
    {
      "cell_type": "code",
      "execution_count": 52,
      "metadata": {
        "colab": {
          "base_uri": "https://localhost:8080/"
        },
        "id": "BsiTbSnR8UUx",
        "outputId": "bfb66ac4-7bfb-4bb2-cd65-67a2814bac1d"
      },
      "outputs": [
        {
          "name": "stdout",
          "output_type": "stream",
          "text": [
            "<class 'pandas.core.frame.DataFrame'>\n",
            "Index: 197 entries, 20 to 3725\n",
            "Data columns (total 2 columns):\n",
            " #   Column      Non-Null Count  Dtype \n",
            "---  ------      --------------  ----- \n",
            " 0   reviewText  197 non-null    object\n",
            " 1   label       197 non-null    int64 \n",
            "dtypes: int64(1), object(1)\n",
            "memory usage: 4.6+ KB\n"
          ]
        }
      ],
      "source": [
        "# Get info on entire dataset after filtering to 334 words\n",
        "filter_entire(tfidf_ranks, 334)"
      ]
    },
    {
      "cell_type": "markdown",
      "metadata": {
        "id": "RAYub2AP8UVW"
      },
      "source": [
        "Significant data loss."
      ]
    },
    {
      "cell_type": "code",
      "execution_count": 53,
      "metadata": {
        "colab": {
          "base_uri": "https://localhost:8080/"
        },
        "id": "Fbmgimw38UVX",
        "outputId": "53f99fb5-bd7d-4be7-87df-5513d011423f"
      },
      "outputs": [
        {
          "name": "stdout",
          "output_type": "stream",
          "text": [
            "<class 'pandas.core.frame.DataFrame'>\n",
            "RangeIndex: 3504 entries, 0 to 3503\n",
            "Columns: 3728 entries, aaaaa to zumba\n",
            "dtypes: float64(3728)\n",
            "memory usage: 99.7 MB\n",
            "\n",
            "<class 'pandas.core.frame.DataFrame'>\n",
            "RangeIndex: 3504 entries, 0 to 3503\n",
            "Columns: 334 entries, anyone to store\n",
            "dtypes: float64(334)\n",
            "memory usage: 8.9 MB\n",
            "\n",
            "<class 'pandas.core.frame.DataFrame'>\n",
            "RangeIndex: 876 entries, 0 to 875\n",
            "Columns: 3728 entries, aaaaa to zumba\n",
            "dtypes: float64(3728)\n",
            "memory usage: 24.9 MB\n",
            "\n",
            "<class 'pandas.core.frame.DataFrame'>\n",
            "RangeIndex: 876 entries, 0 to 875\n",
            "Columns: 334 entries, anyone to store\n",
            "dtypes: float64(334)\n",
            "memory usage: 2.2 MB\n"
          ]
        }
      ],
      "source": [
        "# Filter the training and testing sets\n",
        "xtr_tfidf_334 = filter_partial(tfidf_ranks, 334, Xtrain)\n",
        "xts_tfidf_334 = filter_partial(tfidf_ranks, 334, Xtest)\n",
        "\n",
        "# Confirm the dataframes\n",
        "Xtrain.info()\n",
        "print()\n",
        "xtr_tfidf_334.info()\n",
        "print()\n",
        "Xtest.info()\n",
        "print()\n",
        "xts_tfidf_334.info()"
      ]
    },
    {
      "cell_type": "code",
      "execution_count": 54,
      "metadata": {
        "colab": {
          "base_uri": "https://localhost:8080/"
        },
        "id": "P_4zbHWy8UVY",
        "outputId": "28091e13-3a32-4c63-b075-a28eaadafb73"
      },
      "outputs": [
        {
          "name": "stdout",
          "output_type": "stream",
          "text": [
            "              precision    recall  f1-score   support\n",
            "\n",
            "           0       0.82      0.85      0.83       432\n",
            "           1       0.85      0.81      0.83       444\n",
            "\n",
            "    accuracy                           0.83       876\n",
            "   macro avg       0.83      0.83      0.83       876\n",
            "weighted avg       0.83      0.83      0.83       876\n",
            "\n"
          ]
        }
      ],
      "source": [
        "# Run the model\n",
        "model(xtr_tfidf_334, xts_tfidf_334, ytrain, ytest)"
      ]
    },
    {
      "cell_type": "markdown",
      "metadata": {
        "id": "Cswxl7Hd1gLX"
      },
      "source": [
        "## **404 Words**"
      ]
    },
    {
      "cell_type": "code",
      "execution_count": 55,
      "metadata": {
        "colab": {
          "base_uri": "https://localhost:8080/"
        },
        "id": "mU5eJkE28qR-",
        "outputId": "4dca06f9-586b-46e9-edf6-997568790399"
      },
      "outputs": [
        {
          "name": "stdout",
          "output_type": "stream",
          "text": [
            "<class 'pandas.core.frame.DataFrame'>\n",
            "Index: 200 entries, 20 to 3725\n",
            "Data columns (total 2 columns):\n",
            " #   Column      Non-Null Count  Dtype \n",
            "---  ------      --------------  ----- \n",
            " 0   reviewText  200 non-null    object\n",
            " 1   label       200 non-null    int64 \n",
            "dtypes: int64(1), object(1)\n",
            "memory usage: 4.7+ KB\n"
          ]
        }
      ],
      "source": [
        "# Get info on entire dataset after filtering to 404 words\n",
        "filter_entire(tfidf_ranks, 404)"
      ]
    },
    {
      "cell_type": "markdown",
      "metadata": {
        "id": "RPMHJ8PB8qSf"
      },
      "source": [
        "Significant data loss."
      ]
    },
    {
      "cell_type": "code",
      "execution_count": 56,
      "metadata": {
        "colab": {
          "base_uri": "https://localhost:8080/"
        },
        "id": "p00SVvtH8qSg",
        "outputId": "08496c4c-6488-488d-c66e-ea5ce6c47035"
      },
      "outputs": [
        {
          "name": "stdout",
          "output_type": "stream",
          "text": [
            "<class 'pandas.core.frame.DataFrame'>\n",
            "RangeIndex: 3504 entries, 0 to 3503\n",
            "Columns: 3728 entries, aaaaa to zumba\n",
            "dtypes: float64(3728)\n",
            "memory usage: 99.7 MB\n",
            "\n",
            "<class 'pandas.core.frame.DataFrame'>\n",
            "RangeIndex: 3504 entries, 0 to 3503\n",
            "Columns: 404 entries, anyone to store\n",
            "dtypes: float64(404)\n",
            "memory usage: 10.8 MB\n",
            "\n",
            "<class 'pandas.core.frame.DataFrame'>\n",
            "RangeIndex: 876 entries, 0 to 875\n",
            "Columns: 3728 entries, aaaaa to zumba\n",
            "dtypes: float64(3728)\n",
            "memory usage: 24.9 MB\n",
            "\n",
            "<class 'pandas.core.frame.DataFrame'>\n",
            "RangeIndex: 876 entries, 0 to 875\n",
            "Columns: 404 entries, anyone to store\n",
            "dtypes: float64(404)\n",
            "memory usage: 2.7 MB\n"
          ]
        }
      ],
      "source": [
        "# Filter the training and testing sets\n",
        "xtr_tfidf_404 = filter_partial(tfidf_ranks, 404, Xtrain)\n",
        "xts_tfidf_404 = filter_partial(tfidf_ranks, 404, Xtest)\n",
        "\n",
        "# Confirm the dataframes\n",
        "Xtrain.info()\n",
        "print()\n",
        "xtr_tfidf_404.info()\n",
        "print()\n",
        "Xtest.info()\n",
        "print()\n",
        "xts_tfidf_404.info()"
      ]
    },
    {
      "cell_type": "code",
      "execution_count": 57,
      "metadata": {
        "colab": {
          "base_uri": "https://localhost:8080/"
        },
        "id": "o2fyxn6y8qSh",
        "outputId": "74f21483-3474-43ec-ddcb-14f9ed89763a"
      },
      "outputs": [
        {
          "name": "stdout",
          "output_type": "stream",
          "text": [
            "              precision    recall  f1-score   support\n",
            "\n",
            "           0       0.83      0.86      0.84       432\n",
            "           1       0.86      0.83      0.84       444\n",
            "\n",
            "    accuracy                           0.84       876\n",
            "   macro avg       0.84      0.84      0.84       876\n",
            "weighted avg       0.84      0.84      0.84       876\n",
            "\n"
          ]
        }
      ],
      "source": [
        "# Run the model\n",
        "model(xtr_tfidf_404, xts_tfidf_404, ytrain, ytest)"
      ]
    },
    {
      "cell_type": "markdown",
      "metadata": {
        "id": "a3g7RM4G1x2q"
      },
      "source": [
        "## **553 Words**"
      ]
    },
    {
      "cell_type": "code",
      "execution_count": 58,
      "metadata": {
        "colab": {
          "base_uri": "https://localhost:8080/"
        },
        "id": "ZDGWKldr9Gps",
        "outputId": "07e8d52d-084f-484b-f747-558b03842917"
      },
      "outputs": [
        {
          "name": "stdout",
          "output_type": "stream",
          "text": [
            "<class 'pandas.core.frame.DataFrame'>\n",
            "Index: 210 entries, 20 to 3725\n",
            "Data columns (total 2 columns):\n",
            " #   Column      Non-Null Count  Dtype \n",
            "---  ------      --------------  ----- \n",
            " 0   reviewText  210 non-null    object\n",
            " 1   label       210 non-null    int64 \n",
            "dtypes: int64(1), object(1)\n",
            "memory usage: 4.9+ KB\n"
          ]
        }
      ],
      "source": [
        "# Get info on entire dataset after filtering to 553 words\n",
        "filter_entire(tfidf_ranks, 553)"
      ]
    },
    {
      "cell_type": "markdown",
      "metadata": {
        "id": "6yNO0RtO9Gpt"
      },
      "source": [
        "Significant data loss."
      ]
    },
    {
      "cell_type": "code",
      "execution_count": 59,
      "metadata": {
        "colab": {
          "base_uri": "https://localhost:8080/"
        },
        "id": "jsxSyam69Gpu",
        "outputId": "d19f1376-a6e5-48b5-cd66-194043772f10"
      },
      "outputs": [
        {
          "name": "stdout",
          "output_type": "stream",
          "text": [
            "<class 'pandas.core.frame.DataFrame'>\n",
            "RangeIndex: 3504 entries, 0 to 3503\n",
            "Columns: 3728 entries, aaaaa to zumba\n",
            "dtypes: float64(3728)\n",
            "memory usage: 99.7 MB\n",
            "\n",
            "<class 'pandas.core.frame.DataFrame'>\n",
            "RangeIndex: 3504 entries, 0 to 3503\n",
            "Columns: 553 entries, anyone to store\n",
            "dtypes: float64(553)\n",
            "memory usage: 14.8 MB\n",
            "\n",
            "<class 'pandas.core.frame.DataFrame'>\n",
            "RangeIndex: 876 entries, 0 to 875\n",
            "Columns: 3728 entries, aaaaa to zumba\n",
            "dtypes: float64(3728)\n",
            "memory usage: 24.9 MB\n",
            "\n",
            "<class 'pandas.core.frame.DataFrame'>\n",
            "RangeIndex: 876 entries, 0 to 875\n",
            "Columns: 553 entries, anyone to store\n",
            "dtypes: float64(553)\n",
            "memory usage: 3.7 MB\n"
          ]
        }
      ],
      "source": [
        "# Filter the training and testing sets\n",
        "xtr_tfidf_553 = filter_partial(tfidf_ranks, 553, Xtrain)\n",
        "xts_tfidf_553 = filter_partial(tfidf_ranks, 553, Xtest)\n",
        "\n",
        "# Confirm the dataframes\n",
        "Xtrain.info()\n",
        "print()\n",
        "xtr_tfidf_553.info()\n",
        "print()\n",
        "Xtest.info()\n",
        "print()\n",
        "xts_tfidf_553.info()"
      ]
    },
    {
      "cell_type": "code",
      "execution_count": 60,
      "metadata": {
        "colab": {
          "base_uri": "https://localhost:8080/"
        },
        "id": "NXFuIueP9Gpv",
        "outputId": "f673222e-7966-4bf8-da10-4a63f2243eba"
      },
      "outputs": [
        {
          "name": "stdout",
          "output_type": "stream",
          "text": [
            "              precision    recall  f1-score   support\n",
            "\n",
            "           0       0.82      0.85      0.83       432\n",
            "           1       0.85      0.81      0.83       444\n",
            "\n",
            "    accuracy                           0.83       876\n",
            "   macro avg       0.83      0.83      0.83       876\n",
            "weighted avg       0.83      0.83      0.83       876\n",
            "\n"
          ]
        }
      ],
      "source": [
        "# Run the model\n",
        "model(xtr_tfidf_553, xts_tfidf_553, ytrain, ytest)"
      ]
    },
    {
      "cell_type": "markdown",
      "metadata": {
        "id": "iiNOMQhj2MTZ"
      },
      "source": [
        "## **834 Words**"
      ]
    },
    {
      "cell_type": "code",
      "execution_count": 61,
      "metadata": {
        "colab": {
          "base_uri": "https://localhost:8080/"
        },
        "id": "3ypmnXJu9TGh",
        "outputId": "2ab309bc-16e4-40c5-ea99-3e4801cb7955"
      },
      "outputs": [
        {
          "name": "stdout",
          "output_type": "stream",
          "text": [
            "<class 'pandas.core.frame.DataFrame'>\n",
            "Index: 212 entries, 20 to 3725\n",
            "Data columns (total 2 columns):\n",
            " #   Column      Non-Null Count  Dtype \n",
            "---  ------      --------------  ----- \n",
            " 0   reviewText  212 non-null    object\n",
            " 1   label       212 non-null    int64 \n",
            "dtypes: int64(1), object(1)\n",
            "memory usage: 5.0+ KB\n"
          ]
        }
      ],
      "source": [
        "# Get info on entire dataset after filtering to 834 words\n",
        "filter_entire(tfidf_ranks, 834)"
      ]
    },
    {
      "cell_type": "markdown",
      "metadata": {
        "id": "4Tp0qN3q9TGj"
      },
      "source": [
        "Significant data loss."
      ]
    },
    {
      "cell_type": "code",
      "execution_count": 62,
      "metadata": {
        "colab": {
          "base_uri": "https://localhost:8080/"
        },
        "id": "1TiLVKIl9TGj",
        "outputId": "6fbbf29c-c066-43ac-f12e-89b1177e5865"
      },
      "outputs": [
        {
          "name": "stdout",
          "output_type": "stream",
          "text": [
            "<class 'pandas.core.frame.DataFrame'>\n",
            "RangeIndex: 3504 entries, 0 to 3503\n",
            "Columns: 3728 entries, aaaaa to zumba\n",
            "dtypes: float64(3728)\n",
            "memory usage: 99.7 MB\n",
            "\n",
            "<class 'pandas.core.frame.DataFrame'>\n",
            "RangeIndex: 3504 entries, 0 to 3503\n",
            "Columns: 834 entries, anyone to store\n",
            "dtypes: float64(834)\n",
            "memory usage: 22.3 MB\n",
            "\n",
            "<class 'pandas.core.frame.DataFrame'>\n",
            "RangeIndex: 876 entries, 0 to 875\n",
            "Columns: 3728 entries, aaaaa to zumba\n",
            "dtypes: float64(3728)\n",
            "memory usage: 24.9 MB\n",
            "\n",
            "<class 'pandas.core.frame.DataFrame'>\n",
            "RangeIndex: 876 entries, 0 to 875\n",
            "Columns: 834 entries, anyone to store\n",
            "dtypes: float64(834)\n",
            "memory usage: 5.6 MB\n"
          ]
        }
      ],
      "source": [
        "# Filter the training and testing sets\n",
        "xtr_tfidf_834 = filter_partial(tfidf_ranks, 834, Xtrain)\n",
        "xts_tfidf_834 = filter_partial(tfidf_ranks, 834, Xtest)\n",
        "\n",
        "# Confirm the dataframes\n",
        "Xtrain.info()\n",
        "print()\n",
        "xtr_tfidf_834.info()\n",
        "print()\n",
        "Xtest.info()\n",
        "print()\n",
        "xts_tfidf_834.info()"
      ]
    },
    {
      "cell_type": "code",
      "execution_count": 63,
      "metadata": {
        "colab": {
          "base_uri": "https://localhost:8080/"
        },
        "id": "W4sQrvIU9TGk",
        "outputId": "7f09dc96-9df2-4a3d-c2f6-0bd394b8d061"
      },
      "outputs": [
        {
          "name": "stdout",
          "output_type": "stream",
          "text": [
            "              precision    recall  f1-score   support\n",
            "\n",
            "           0       0.81      0.83      0.82       432\n",
            "           1       0.83      0.82      0.82       444\n",
            "\n",
            "    accuracy                           0.82       876\n",
            "   macro avg       0.82      0.82      0.82       876\n",
            "weighted avg       0.82      0.82      0.82       876\n",
            "\n"
          ]
        }
      ],
      "source": [
        "# Run the model\n",
        "model(xtr_tfidf_834, xts_tfidf_834, ytrain, ytest)"
      ]
    },
    {
      "cell_type": "markdown",
      "metadata": {
        "id": "KhcvpNER_fNf"
      },
      "source": [
        "# **KS TEST REDUCTION**"
      ]
    },
    {
      "cell_type": "code",
      "execution_count": 64,
      "metadata": {
        "colab": {
          "base_uri": "https://localhost:8080/",
          "height": 547
        },
        "id": "Q71GT-cL_fNh",
        "outputId": "8aa78780-1635-4de5-96d5-54849091d4d4"
      },
      "outputs": [
        {
          "data": {
            "text/html": [
              "<div>\n",
              "<style scoped>\n",
              "    .dataframe tbody tr th:only-of-type {\n",
              "        vertical-align: middle;\n",
              "    }\n",
              "\n",
              "    .dataframe tbody tr th {\n",
              "        vertical-align: top;\n",
              "    }\n",
              "\n",
              "    .dataframe thead th {\n",
              "        text-align: right;\n",
              "    }\n",
              "</style>\n",
              "<table border=\"1\" class=\"dataframe\">\n",
              "  <thead>\n",
              "    <tr style=\"text-align: right;\">\n",
              "      <th></th>\n",
              "      <th>Word</th>\n",
              "      <th>KS Score</th>\n",
              "    </tr>\n",
              "  </thead>\n",
              "  <tbody>\n",
              "    <tr>\n",
              "      <th>3624</th>\n",
              "      <td>support</td>\n",
              "      <td>0.5</td>\n",
              "    </tr>\n",
              "    <tr>\n",
              "      <th>220</th>\n",
              "      <td>arch</td>\n",
              "      <td>0.5</td>\n",
              "    </tr>\n",
              "    <tr>\n",
              "      <th>2679</th>\n",
              "      <td>pinnacle</td>\n",
              "      <td>0.5</td>\n",
              "    </tr>\n",
              "    <tr>\n",
              "      <th>2087</th>\n",
              "      <td>love</td>\n",
              "      <td>0.5</td>\n",
              "    </tr>\n",
              "    <tr>\n",
              "      <th>2751</th>\n",
              "      <td>powerstep</td>\n",
              "      <td>0.5</td>\n",
              "    </tr>\n",
              "  </tbody>\n",
              "</table>\n",
              "</div>"
            ],
            "text/plain": [
              "           Word  KS Score\n",
              "3624    support       0.5\n",
              "220        arch       0.5\n",
              "2679   pinnacle       0.5\n",
              "2087       love       0.5\n",
              "2751  powerstep       0.5"
            ]
          },
          "execution_count": 64,
          "metadata": {},
          "output_type": "execute_result"
        }
      ],
      "source": [
        "# Define Vectorizer\n",
        "vectorizer = CountVectorizer()\n",
        "\n",
        "# Vectorize the text data and convert it to a dataframe\n",
        "txt = vectorizer.fit_transform(df['reviewText'])\n",
        "count_df = pd.DataFrame(txt.toarray(), columns=vectorizer.get_feature_names_out())\n",
        "\n",
        "# Reset indeces\n",
        "count_df.reset_index(drop=True, inplace=True)\n",
        "df.reset_index(drop=True, inplace=True)\n",
        "\n",
        "# Append category labels to count_df\n",
        "count_df['label'] = df['label']\n",
        "\n",
        "# Get all unique outputs\n",
        "outputs = [0,1]\n",
        "\n",
        "# Initialize a list that will store the occurence of p-value = 1 for each word\n",
        "ksscore = []\n",
        "\n",
        "# Iterate through each word\n",
        "for word in feats:\n",
        "  # Initialize matrices\n",
        "  ks_matrix = np.zeros((len(outputs), len(outputs)))\n",
        "  p_value_matrix = np.zeros((len(outputs), len(outputs)))\n",
        "  # Iterate over outputs\n",
        "  for output1 in range(len(outputs)):\n",
        "    for output2 in range(len(outputs)):\n",
        "      # Get samples for the combination of input types\n",
        "      sample1 = count_df.loc[count_df['label'] == outputs[output1], word].values\n",
        "      sample2 = count_df.loc[count_df['label'] == outputs[output2], word].values\n",
        "      # KS test\n",
        "      ks_statistic, p_value = stats.ks_2samp(sample1, sample2)\n",
        "      # Assign KS statistic an p-value to the corresponding indices in the matrices\n",
        "      ks_matrix[output1, output2] = ks_statistic\n",
        "      # Adjust p-value using the Bonferroni correction\n",
        "      bonferroni = p_value * 1\n",
        "      # Modify Bonferroni correction\n",
        "      if bonferroni < 0.05:\n",
        "        bonferroni = 1\n",
        "      else:\n",
        "        bonferroni = 0\n",
        "      p_value_matrix[output1, output2] = bonferroni\n",
        "  # Count the occurrences of significant results after Bonferroni correction\n",
        "  score = np.count_nonzero(p_value_matrix == 1) / (len(outputs)**2)\n",
        "  ksscore.append(score)\n",
        "\n",
        "# Convert occurrence list to a dataframe\n",
        "ks_ranks = pd.DataFrame({'Word': count_df.columns, 'KS Score': ksscore})\n",
        "ks_ranks = ks_ranks.sort_values(by='KS Score', ascending=False)\n",
        "\n",
        "# Confirm dataframe\n",
        "ks_ranks.head()"
      ]
    },
    {
      "cell_type": "markdown",
      "metadata": {
        "id": "_rrD5PvFG6kD"
      },
      "source": [
        "## **272 Words**"
      ]
    },
    {
      "cell_type": "code",
      "execution_count": 65,
      "metadata": {
        "id": "uZB_kLT_G6kD",
        "outputId": "56f7fa46-1545-45e2-a38d-12ccd770a6c3"
      },
      "outputs": [
        {
          "name": "stdout",
          "output_type": "stream",
          "text": [
            "<class 'pandas.core.frame.DataFrame'>\n",
            "Index: 87 entries, 20 to 3678\n",
            "Data columns (total 2 columns):\n",
            " #   Column      Non-Null Count  Dtype \n",
            "---  ------      --------------  ----- \n",
            " 0   reviewText  87 non-null     object\n",
            " 1   label       87 non-null     int64 \n",
            "dtypes: int64(1), object(1)\n",
            "memory usage: 2.0+ KB\n"
          ]
        }
      ],
      "source": [
        "# Get info on entire dataset after filtering to 272 words\n",
        "filter_entire(ks_ranks, 272)"
      ]
    },
    {
      "cell_type": "markdown",
      "metadata": {
        "id": "p8O3yE-8G6kE"
      },
      "source": [
        "Significant data loss."
      ]
    },
    {
      "cell_type": "code",
      "execution_count": 66,
      "metadata": {
        "id": "MKDiG5dQG6kE",
        "outputId": "f8871759-2ad2-413b-edc5-5b2216da15ab"
      },
      "outputs": [
        {
          "name": "stdout",
          "output_type": "stream",
          "text": [
            "<class 'pandas.core.frame.DataFrame'>\n",
            "RangeIndex: 3504 entries, 0 to 3503\n",
            "Columns: 3728 entries, aaaaa to zumba\n",
            "dtypes: float64(3728)\n",
            "memory usage: 99.7 MB\n",
            "\n",
            "<class 'pandas.core.frame.DataFrame'>\n",
            "RangeIndex: 3504 entries, 0 to 3503\n",
            "Columns: 246 entries, quicker to pro\n",
            "dtypes: float64(246)\n",
            "memory usage: 6.6 MB\n",
            "\n",
            "<class 'pandas.core.frame.DataFrame'>\n",
            "RangeIndex: 876 entries, 0 to 875\n",
            "Columns: 3728 entries, aaaaa to zumba\n",
            "dtypes: float64(3728)\n",
            "memory usage: 24.9 MB\n",
            "\n",
            "<class 'pandas.core.frame.DataFrame'>\n",
            "RangeIndex: 876 entries, 0 to 875\n",
            "Columns: 246 entries, quicker to pro\n",
            "dtypes: float64(246)\n",
            "memory usage: 1.6 MB\n"
          ]
        }
      ],
      "source": [
        "# Filter the training and testing setsD\n",
        "xtr_ks_272 = filter_partial(ks_ranks, 272, Xtrain)\n",
        "xts_ks_272 = filter_partial(ks_ranks, 272, Xtest)\n",
        "\n",
        "# Confirm the dataframes\n",
        "Xtrain.info()\n",
        "print()\n",
        "xtr_ks_272.info()\n",
        "print()\n",
        "Xtest.info()\n",
        "print()\n",
        "xts_ks_272.info()"
      ]
    },
    {
      "cell_type": "code",
      "execution_count": 67,
      "metadata": {
        "id": "M-LYGmVMG6kE",
        "outputId": "2c776cee-95ef-4156-f205-84e75e5970cb"
      },
      "outputs": [
        {
          "name": "stdout",
          "output_type": "stream",
          "text": [
            "              precision    recall  f1-score   support\n",
            "\n",
            "           0       0.74      0.74      0.74       432\n",
            "           1       0.75      0.75      0.75       444\n",
            "\n",
            "    accuracy                           0.74       876\n",
            "   macro avg       0.74      0.74      0.74       876\n",
            "weighted avg       0.74      0.74      0.74       876\n",
            "\n"
          ]
        }
      ],
      "source": [
        "# Run the model\n",
        "model(xtr_ks_272, xts_ks_272, ytrain, ytest)"
      ]
    },
    {
      "cell_type": "markdown",
      "metadata": {
        "id": "qSY7KAE2G6kF"
      },
      "source": [
        "## **334 Words**"
      ]
    },
    {
      "cell_type": "code",
      "execution_count": 68,
      "metadata": {
        "id": "c3ZoXv48G6kF",
        "outputId": "99b62a39-744d-4141-e386-f1ff811c3956"
      },
      "outputs": [
        {
          "name": "stdout",
          "output_type": "stream",
          "text": [
            "<class 'pandas.core.frame.DataFrame'>\n",
            "Index: 88 entries, 20 to 3678\n",
            "Data columns (total 2 columns):\n",
            " #   Column      Non-Null Count  Dtype \n",
            "---  ------      --------------  ----- \n",
            " 0   reviewText  88 non-null     object\n",
            " 1   label       88 non-null     int64 \n",
            "dtypes: int64(1), object(1)\n",
            "memory usage: 2.1+ KB\n"
          ]
        }
      ],
      "source": [
        "# Get info on entire dataset after filtering to 334 words\n",
        "filter_entire(ks_ranks, 334)"
      ]
    },
    {
      "cell_type": "markdown",
      "metadata": {
        "id": "w7p9o5DZG6kF"
      },
      "source": [
        "Significant data loss."
      ]
    },
    {
      "cell_type": "code",
      "execution_count": 69,
      "metadata": {
        "id": "yoebnoWzG6kG",
        "outputId": "04171a9c-527f-4966-db13-f7e99064bf44"
      },
      "outputs": [
        {
          "name": "stdout",
          "output_type": "stream",
          "text": [
            "<class 'pandas.core.frame.DataFrame'>\n",
            "RangeIndex: 3504 entries, 0 to 3503\n",
            "Columns: 3728 entries, aaaaa to zumba\n",
            "dtypes: float64(3728)\n",
            "memory usage: 99.7 MB\n",
            "\n",
            "<class 'pandas.core.frame.DataFrame'>\n",
            "RangeIndex: 3504 entries, 0 to 3503\n",
            "Columns: 296 entries, quicker to pro\n",
            "dtypes: float64(296)\n",
            "memory usage: 7.9 MB\n",
            "\n",
            "<class 'pandas.core.frame.DataFrame'>\n",
            "RangeIndex: 876 entries, 0 to 875\n",
            "Columns: 3728 entries, aaaaa to zumba\n",
            "dtypes: float64(3728)\n",
            "memory usage: 24.9 MB\n",
            "\n",
            "<class 'pandas.core.frame.DataFrame'>\n",
            "RangeIndex: 876 entries, 0 to 875\n",
            "Columns: 296 entries, quicker to pro\n",
            "dtypes: float64(296)\n",
            "memory usage: 2.0 MB\n"
          ]
        }
      ],
      "source": [
        "# Filter the training and testing sets\n",
        "xtr_ks_334 = filter_partial(ks_ranks, 334, Xtrain)\n",
        "xts_ks_334 = filter_partial(ks_ranks, 334, Xtest)\n",
        "\n",
        "# Confirm the dataframes\n",
        "Xtrain.info()\n",
        "print()\n",
        "xtr_ks_334.info()\n",
        "print()\n",
        "Xtest.info()\n",
        "print()\n",
        "xts_ks_334.info()"
      ]
    },
    {
      "cell_type": "code",
      "execution_count": 70,
      "metadata": {
        "id": "7N5RjzvgG6kG",
        "outputId": "e7132c0c-1183-4854-c07e-6077a3ef501c"
      },
      "outputs": [
        {
          "name": "stdout",
          "output_type": "stream",
          "text": [
            "              precision    recall  f1-score   support\n",
            "\n",
            "           0       0.74      0.74      0.74       432\n",
            "           1       0.75      0.75      0.75       444\n",
            "\n",
            "    accuracy                           0.75       876\n",
            "   macro avg       0.75      0.75      0.75       876\n",
            "weighted avg       0.75      0.75      0.75       876\n",
            "\n"
          ]
        }
      ],
      "source": [
        "# Run the model\n",
        "model(xtr_ks_334, xts_ks_334, ytrain, ytest)"
      ]
    },
    {
      "cell_type": "markdown",
      "metadata": {
        "id": "t4wx-FftG6kG"
      },
      "source": [
        "## **404 Words**"
      ]
    },
    {
      "cell_type": "code",
      "execution_count": 71,
      "metadata": {
        "id": "QfVKruX-G6kH",
        "outputId": "e90a2239-7eb7-4a74-c22d-6c1fcdbfa619"
      },
      "outputs": [
        {
          "name": "stdout",
          "output_type": "stream",
          "text": [
            "<class 'pandas.core.frame.DataFrame'>\n",
            "Index: 89 entries, 20 to 3678\n",
            "Data columns (total 2 columns):\n",
            " #   Column      Non-Null Count  Dtype \n",
            "---  ------      --------------  ----- \n",
            " 0   reviewText  89 non-null     object\n",
            " 1   label       89 non-null     int64 \n",
            "dtypes: int64(1), object(1)\n",
            "memory usage: 2.1+ KB\n"
          ]
        }
      ],
      "source": [
        "# Get info on entire dataset after filtering to 404 words\n",
        "filter_entire(ks_ranks, 404)"
      ]
    },
    {
      "cell_type": "markdown",
      "metadata": {
        "id": "8LLUir_yG6kH"
      },
      "source": [
        "Significant data loss."
      ]
    },
    {
      "cell_type": "code",
      "execution_count": 72,
      "metadata": {
        "id": "LNFpm23TG6kH",
        "outputId": "70cfb0de-2c99-4034-fb65-eff5be51f26e"
      },
      "outputs": [
        {
          "name": "stdout",
          "output_type": "stream",
          "text": [
            "<class 'pandas.core.frame.DataFrame'>\n",
            "RangeIndex: 3504 entries, 0 to 3503\n",
            "Columns: 3728 entries, aaaaa to zumba\n",
            "dtypes: float64(3728)\n",
            "memory usage: 99.7 MB\n",
            "\n",
            "<class 'pandas.core.frame.DataFrame'>\n",
            "RangeIndex: 3504 entries, 0 to 3503\n",
            "Columns: 354 entries, route to runningjogging\n",
            "dtypes: float64(354)\n",
            "memory usage: 9.5 MB\n",
            "\n",
            "<class 'pandas.core.frame.DataFrame'>\n",
            "RangeIndex: 876 entries, 0 to 875\n",
            "Columns: 3728 entries, aaaaa to zumba\n",
            "dtypes: float64(3728)\n",
            "memory usage: 24.9 MB\n",
            "\n",
            "<class 'pandas.core.frame.DataFrame'>\n",
            "RangeIndex: 876 entries, 0 to 875\n",
            "Columns: 354 entries, route to runningjogging\n",
            "dtypes: float64(354)\n",
            "memory usage: 2.4 MB\n"
          ]
        }
      ],
      "source": [
        "# Filter the training and testing sets\n",
        "xtr_ks_404 = filter_partial(ks_ranks, 404, Xtrain)\n",
        "xts_ks_404 = filter_partial(ks_ranks, 404, Xtest)\n",
        "\n",
        "# Confirm the dataframes\n",
        "Xtrain.info()\n",
        "print()\n",
        "xtr_ks_404.info()\n",
        "print()\n",
        "Xtest.info()\n",
        "print()\n",
        "xts_ks_404.info()"
      ]
    },
    {
      "cell_type": "code",
      "execution_count": 73,
      "metadata": {
        "id": "_hIwtJ5nG6kH",
        "outputId": "342f64d4-e33e-4e74-b650-6fd97fb602c3"
      },
      "outputs": [
        {
          "name": "stdout",
          "output_type": "stream",
          "text": [
            "              precision    recall  f1-score   support\n",
            "\n",
            "           0       0.74      0.74      0.74       432\n",
            "           1       0.74      0.75      0.75       444\n",
            "\n",
            "    accuracy                           0.74       876\n",
            "   macro avg       0.74      0.74      0.74       876\n",
            "weighted avg       0.74      0.74      0.74       876\n"
          ]
        },
        {
          "name": "stdout",
          "output_type": "stream",
          "text": [
            "\n"
          ]
        }
      ],
      "source": [
        "# Run the model\n",
        "model(xtr_ks_404, xts_ks_404, ytrain, ytest)"
      ]
    },
    {
      "cell_type": "markdown",
      "metadata": {
        "id": "rxu39HMDG6kI"
      },
      "source": [
        "## **553 Words**"
      ]
    },
    {
      "cell_type": "code",
      "execution_count": 74,
      "metadata": {
        "id": "FyTBQsr6G6kI",
        "outputId": "c7513520-229a-4c17-e4ec-1aa12eabcb33"
      },
      "outputs": [
        {
          "name": "stdout",
          "output_type": "stream",
          "text": [
            "<class 'pandas.core.frame.DataFrame'>\n",
            "Index: 90 entries, 20 to 3678\n",
            "Data columns (total 2 columns):\n",
            " #   Column      Non-Null Count  Dtype \n",
            "---  ------      --------------  ----- \n",
            " 0   reviewText  90 non-null     object\n",
            " 1   label       90 non-null     int64 \n",
            "dtypes: int64(1), object(1)\n",
            "memory usage: 2.1+ KB\n"
          ]
        }
      ],
      "source": [
        "# Get info on entire dataset after filtering to 553 words\n",
        "filter_entire(ks_ranks, 553)"
      ]
    },
    {
      "cell_type": "markdown",
      "metadata": {
        "id": "dd-ZwG6NG6kI"
      },
      "source": [
        "Significant data loss."
      ]
    },
    {
      "cell_type": "code",
      "execution_count": 75,
      "metadata": {
        "id": "IeHMihp6G6kJ",
        "outputId": "8d80ad60-6c5f-4908-e667-7d4ce3f89479"
      },
      "outputs": [
        {
          "name": "stdout",
          "output_type": "stream",
          "text": [
            "<class 'pandas.core.frame.DataFrame'>\n",
            "RangeIndex: 3504 entries, 0 to 3503\n",
            "Columns: 3728 entries, aaaaa to zumba\n",
            "dtypes: float64(3728)\n",
            "memory usage: 99.7 MB\n",
            "\n",
            "<class 'pandas.core.frame.DataFrame'>\n",
            "RangeIndex: 3504 entries, 0 to 3503\n",
            "Columns: 482 entries, rely to runningjogging\n",
            "dtypes: float64(482)\n",
            "memory usage: 12.9 MB\n",
            "\n",
            "<class 'pandas.core.frame.DataFrame'>\n",
            "RangeIndex: 876 entries, 0 to 875\n",
            "Columns: 3728 entries, aaaaa to zumba\n",
            "dtypes: float64(3728)\n",
            "memory usage: 24.9 MB\n",
            "\n",
            "<class 'pandas.core.frame.DataFrame'>\n",
            "RangeIndex: 876 entries, 0 to 875\n",
            "Columns: 482 entries, rely to runningjogging\n",
            "dtypes: float64(482)\n",
            "memory usage: 3.2 MB\n"
          ]
        }
      ],
      "source": [
        "# Filter the training and testing sets\n",
        "xtr_ks_553 = filter_partial(ks_ranks, 553, Xtrain)\n",
        "xts_ks_553 = filter_partial(ks_ranks, 553, Xtest)\n",
        "\n",
        "# Confirm the dataframes\n",
        "Xtrain.info()\n",
        "print()\n",
        "xtr_ks_553.info()\n",
        "print()\n",
        "Xtest.info()\n",
        "print()\n",
        "xts_ks_553.info()"
      ]
    },
    {
      "cell_type": "code",
      "execution_count": 76,
      "metadata": {
        "id": "H2d39SkTG6kJ",
        "outputId": "88320fca-ba14-4f49-ef08-e9fa4ae00780"
      },
      "outputs": [
        {
          "name": "stdout",
          "output_type": "stream",
          "text": [
            "              precision    recall  f1-score   support\n",
            "\n",
            "           0       0.76      0.74      0.75       432\n",
            "           1       0.75      0.77      0.76       444\n",
            "\n",
            "    accuracy                           0.76       876\n",
            "   macro avg       0.76      0.76      0.76       876\n",
            "weighted avg       0.76      0.76      0.76       876\n",
            "\n"
          ]
        }
      ],
      "source": [
        "# Run the model\n",
        "model(xtr_ks_553, xts_ks_553, ytrain, ytest)"
      ]
    },
    {
      "cell_type": "markdown",
      "metadata": {
        "id": "apvVGkyaG6kK"
      },
      "source": [
        "## **834 Words**"
      ]
    },
    {
      "cell_type": "code",
      "execution_count": 77,
      "metadata": {
        "id": "lYabDKTYG6kK",
        "outputId": "e45c15c7-ac54-49d5-8b96-5d534a7a579c"
      },
      "outputs": [
        {
          "name": "stdout",
          "output_type": "stream",
          "text": [
            "<class 'pandas.core.frame.DataFrame'>\n",
            "Index: 92 entries, 20 to 3678\n",
            "Data columns (total 2 columns):\n",
            " #   Column      Non-Null Count  Dtype \n",
            "---  ------      --------------  ----- \n",
            " 0   reviewText  92 non-null     object\n",
            " 1   label       92 non-null     int64 \n",
            "dtypes: int64(1), object(1)\n",
            "memory usage: 2.2+ KB\n"
          ]
        }
      ],
      "source": [
        "# Get info on entire dataset after filtering to 834 words\n",
        "filter_entire(ks_ranks, 834)"
      ]
    },
    {
      "cell_type": "markdown",
      "metadata": {
        "id": "pQYWP2maG6kK"
      },
      "source": [
        "Significant data loss."
      ]
    },
    {
      "cell_type": "code",
      "execution_count": 78,
      "metadata": {
        "id": "wxAbgEkEG6kL",
        "outputId": "69298546-b993-4318-9bc5-aa8e5494916c"
      },
      "outputs": [
        {
          "name": "stdout",
          "output_type": "stream",
          "text": [
            "<class 'pandas.core.frame.DataFrame'>\n",
            "RangeIndex: 3504 entries, 0 to 3503\n",
            "Columns: 3728 entries, aaaaa to zumba\n",
            "dtypes: float64(3728)\n",
            "memory usage: 99.7 MB\n",
            "\n",
            "<class 'pandas.core.frame.DataFrame'>\n",
            "RangeIndex: 3504 entries, 0 to 3503\n",
            "Columns: 733 entries, rely to mei\n",
            "dtypes: float64(733)\n",
            "memory usage: 19.6 MB\n",
            "\n",
            "<class 'pandas.core.frame.DataFrame'>\n",
            "RangeIndex: 876 entries, 0 to 875\n",
            "Columns: 3728 entries, aaaaa to zumba\n",
            "dtypes: float64(3728)\n",
            "memory usage: 24.9 MB\n",
            "\n",
            "<class 'pandas.core.frame.DataFrame'>\n",
            "RangeIndex: 876 entries, 0 to 875\n",
            "Columns: 733 entries, rely to mei\n",
            "dtypes: float64(733)\n",
            "memory usage: 4.9 MB\n"
          ]
        }
      ],
      "source": [
        "# Filter the training and testing sets\n",
        "xtr_ks_834 = filter_partial(ks_ranks, 834, Xtrain)\n",
        "xts_ks_834 = filter_partial(ks_ranks, 834, Xtest)\n",
        "\n",
        "# Confirm the dataframes\n",
        "Xtrain.info()\n",
        "print()\n",
        "xtr_ks_834.info()\n",
        "print()\n",
        "Xtest.info()\n",
        "print()\n",
        "xts_ks_834.info()"
      ]
    },
    {
      "cell_type": "code",
      "execution_count": 79,
      "metadata": {
        "id": "iYLqw6WPG6kL",
        "outputId": "cf8458e2-ef43-41e6-e1f4-e9c7eb2196ca"
      },
      "outputs": [
        {
          "name": "stdout",
          "output_type": "stream",
          "text": [
            "              precision    recall  f1-score   support\n",
            "\n",
            "           0       0.78      0.75      0.76       432\n",
            "           1       0.76      0.79      0.78       444\n",
            "\n",
            "    accuracy                           0.77       876\n",
            "   macro avg       0.77      0.77      0.77       876\n",
            "weighted avg       0.77      0.77      0.77       876\n",
            "\n"
          ]
        }
      ],
      "source": [
        "# Run the model\n",
        "model(xtr_ks_834, xts_ks_834, ytrain, ytest)"
      ]
    },
    {
      "cell_type": "markdown",
      "metadata": {
        "id": "4OtKGhYzG6kL"
      },
      "source": [
        "# **KS TEST + TF-IDF REDUCTION**"
      ]
    },
    {
      "cell_type": "code",
      "execution_count": 80,
      "metadata": {
        "id": "XTunyprLG6kL",
        "outputId": "17618053-9704-4a0f-bd7b-a6a7f81b234b"
      },
      "outputs": [
        {
          "name": "stdout",
          "output_type": "stream",
          "text": [
            "<class 'pandas.core.frame.DataFrame'>\n",
            "RangeIndex: 4232 entries, 0 to 4231\n",
            "Data columns (total 3 columns):\n",
            " #   Column    Non-Null Count  Dtype  \n",
            "---  ------    --------------  -----  \n",
            " 0   index     4232 non-null   int64  \n",
            " 1   Word      4232 non-null   object \n",
            " 2   KS Score  4232 non-null   float64\n",
            "dtypes: float64(1), int64(1), object(1)\n",
            "memory usage: 99.3+ KB\n",
            "<class 'pandas.core.frame.DataFrame'>\n",
            "RangeIndex: 4232 entries, 0 to 4231\n",
            "Data columns (total 3 columns):\n",
            " #   Column        Non-Null Count  Dtype  \n",
            "---  ------        --------------  -----  \n",
            " 0   index         4232 non-null   int64  \n",
            " 1   Word          4232 non-null   object \n",
            " 2   TF-IDF Score  4232 non-null   float64\n",
            "dtypes: float64(1), int64(1), object(1)\n",
            "memory usage: 99.3+ KB\n"
          ]
        }
      ],
      "source": [
        "# Get ranks for KS and TF-IDF\n",
        "ks_ranks.reset_index(drop=True, inplace=True)\n",
        "ks_ranks.reset_index(inplace=True)\n",
        "tfidf_ranks.reset_index(drop=True, inplace=True)\n",
        "tfidf_ranks.reset_index(inplace=True)\n",
        "\n",
        "# Confirm dataframes\n",
        "ks_ranks.info()\n",
        "tfidf_ranks.info()"
      ]
    },
    {
      "cell_type": "code",
      "execution_count": 81,
      "metadata": {
        "id": "0167CosVG6kM",
        "outputId": "3bff4a94-adba-4d21-d0d3-24b5a855fdad"
      },
      "outputs": [
        {
          "name": "stdout",
          "output_type": "stream",
          "text": [
            "<class 'pandas.core.frame.DataFrame'>\n",
            "RangeIndex: 4232 entries, 0 to 4231\n",
            "Data columns (total 5 columns):\n",
            " #   Column        Non-Null Count  Dtype  \n",
            "---  ------        --------------  -----  \n",
            " 0   index_tfidf   4232 non-null   int64  \n",
            " 1   Word          4232 non-null   object \n",
            " 2   TF-IDF Score  4232 non-null   float64\n",
            " 3   index_ks      4232 non-null   int64  \n",
            " 4   KS Score      4232 non-null   float64\n",
            "dtypes: float64(2), int64(2), object(1)\n",
            "memory usage: 165.4+ KB\n"
          ]
        },
        {
          "data": {
            "text/html": [
              "<div>\n",
              "<style scoped>\n",
              "    .dataframe tbody tr th:only-of-type {\n",
              "        vertical-align: middle;\n",
              "    }\n",
              "\n",
              "    .dataframe tbody tr th {\n",
              "        vertical-align: top;\n",
              "    }\n",
              "\n",
              "    .dataframe thead th {\n",
              "        text-align: right;\n",
              "    }\n",
              "</style>\n",
              "<table border=\"1\" class=\"dataframe\">\n",
              "  <thead>\n",
              "    <tr style=\"text-align: right;\">\n",
              "      <th></th>\n",
              "      <th>index_tfidf</th>\n",
              "      <th>Word</th>\n",
              "      <th>TF-IDF Score</th>\n",
              "      <th>index_ks</th>\n",
              "      <th>KS Score</th>\n",
              "    </tr>\n",
              "  </thead>\n",
              "  <tbody>\n",
              "    <tr>\n",
              "      <th>0</th>\n",
              "      <td>0</td>\n",
              "      <td>shoe</td>\n",
              "      <td>4790.279701</td>\n",
              "      <td>1855</td>\n",
              "      <td>0.0</td>\n",
              "    </tr>\n",
              "    <tr>\n",
              "      <th>1</th>\n",
              "      <td>1</td>\n",
              "      <td>feet</td>\n",
              "      <td>3037.151713</td>\n",
              "      <td>5</td>\n",
              "      <td>0.5</td>\n",
              "    </tr>\n",
              "    <tr>\n",
              "      <th>2</th>\n",
              "      <td>2</td>\n",
              "      <td>support</td>\n",
              "      <td>2870.343367</td>\n",
              "      <td>0</td>\n",
              "      <td>0.5</td>\n",
              "    </tr>\n",
              "    <tr>\n",
              "      <th>3</th>\n",
              "      <td>3</td>\n",
              "      <td>arch</td>\n",
              "      <td>2788.423651</td>\n",
              "      <td>1</td>\n",
              "      <td>0.5</td>\n",
              "    </tr>\n",
              "    <tr>\n",
              "      <th>4</th>\n",
              "      <td>4</td>\n",
              "      <td>insoles</td>\n",
              "      <td>2785.654948</td>\n",
              "      <td>21</td>\n",
              "      <td>0.5</td>\n",
              "    </tr>\n",
              "  </tbody>\n",
              "</table>\n",
              "</div>"
            ],
            "text/plain": [
              "   index_tfidf     Word  TF-IDF Score  index_ks  KS Score\n",
              "0            0     shoe   4790.279701      1855       0.0\n",
              "1            1     feet   3037.151713         5       0.5\n",
              "2            2  support   2870.343367         0       0.5\n",
              "3            3     arch   2788.423651         1       0.5\n",
              "4            4  insoles   2785.654948        21       0.5"
            ]
          },
          "execution_count": 81,
          "metadata": {},
          "output_type": "execute_result"
        }
      ],
      "source": [
        "# Combine ranks into one dataframe\n",
        "mean_ranks = tfidf_ranks.merge(ks_ranks, on='Word', suffixes=('_tfidf', '_ks'))\n",
        "\n",
        "# Confirm\n",
        "mean_ranks.info()\n",
        "mean_ranks.head()"
      ]
    },
    {
      "cell_type": "code",
      "execution_count": 82,
      "metadata": {
        "id": "BfpvmEdEG6kM",
        "outputId": "45bf1587-a55a-478c-e0b3-283e760fa2da"
      },
      "outputs": [
        {
          "data": {
            "text/html": [
              "<div>\n",
              "<style scoped>\n",
              "    .dataframe tbody tr th:only-of-type {\n",
              "        vertical-align: middle;\n",
              "    }\n",
              "\n",
              "    .dataframe tbody tr th {\n",
              "        vertical-align: top;\n",
              "    }\n",
              "\n",
              "    .dataframe thead th {\n",
              "        text-align: right;\n",
              "    }\n",
              "</style>\n",
              "<table border=\"1\" class=\"dataframe\">\n",
              "  <thead>\n",
              "    <tr style=\"text-align: right;\">\n",
              "      <th></th>\n",
              "      <th>index_tfidf</th>\n",
              "      <th>Word</th>\n",
              "      <th>TF-IDF Score</th>\n",
              "      <th>index_ks</th>\n",
              "      <th>KS Score</th>\n",
              "    </tr>\n",
              "  </thead>\n",
              "  <tbody>\n",
              "    <tr>\n",
              "      <th>0</th>\n",
              "      <td>1</td>\n",
              "      <td>shoe</td>\n",
              "      <td>4790.279701</td>\n",
              "      <td>1855</td>\n",
              "      <td>0.0</td>\n",
              "    </tr>\n",
              "    <tr>\n",
              "      <th>1</th>\n",
              "      <td>2</td>\n",
              "      <td>feet</td>\n",
              "      <td>3037.151713</td>\n",
              "      <td>5</td>\n",
              "      <td>0.5</td>\n",
              "    </tr>\n",
              "    <tr>\n",
              "      <th>2</th>\n",
              "      <td>3</td>\n",
              "      <td>support</td>\n",
              "      <td>2870.343367</td>\n",
              "      <td>0</td>\n",
              "      <td>0.5</td>\n",
              "    </tr>\n",
              "    <tr>\n",
              "      <th>3</th>\n",
              "      <td>4</td>\n",
              "      <td>arch</td>\n",
              "      <td>2788.423651</td>\n",
              "      <td>1</td>\n",
              "      <td>0.5</td>\n",
              "    </tr>\n",
              "    <tr>\n",
              "      <th>4</th>\n",
              "      <td>5</td>\n",
              "      <td>insoles</td>\n",
              "      <td>2785.654948</td>\n",
              "      <td>21</td>\n",
              "      <td>0.5</td>\n",
              "    </tr>\n",
              "  </tbody>\n",
              "</table>\n",
              "</div>"
            ],
            "text/plain": [
              "   index_tfidf     Word  TF-IDF Score  index_ks  KS Score\n",
              "0            1     shoe   4790.279701      1855       0.0\n",
              "1            2     feet   3037.151713         5       0.5\n",
              "2            3  support   2870.343367         0       0.5\n",
              "3            4     arch   2788.423651         1       0.5\n",
              "4            5  insoles   2785.654948        21       0.5"
            ]
          },
          "execution_count": 82,
          "metadata": {},
          "output_type": "execute_result"
        }
      ],
      "source": [
        "# Add 1 to the ranks\n",
        "mean_ranks['index_tfidf'] = mean_ranks['index_tfidf']+1\n",
        "\n",
        "# Confirm\n",
        "mean_ranks.head()"
      ]
    },
    {
      "cell_type": "code",
      "execution_count": 83,
      "metadata": {
        "id": "dCxIblTPG6kM",
        "outputId": "9bd62275-eb2e-4da2-f4ca-22b387d5769b"
      },
      "outputs": [
        {
          "data": {
            "text/html": [
              "<div>\n",
              "<style scoped>\n",
              "    .dataframe tbody tr th:only-of-type {\n",
              "        vertical-align: middle;\n",
              "    }\n",
              "\n",
              "    .dataframe tbody tr th {\n",
              "        vertical-align: top;\n",
              "    }\n",
              "\n",
              "    .dataframe thead th {\n",
              "        text-align: right;\n",
              "    }\n",
              "</style>\n",
              "<table border=\"1\" class=\"dataframe\">\n",
              "  <thead>\n",
              "    <tr style=\"text-align: right;\">\n",
              "      <th></th>\n",
              "      <th>index_tfidf</th>\n",
              "      <th>Word</th>\n",
              "      <th>TF-IDF Score</th>\n",
              "      <th>index_ks</th>\n",
              "      <th>KS Score</th>\n",
              "      <th>mean_rank</th>\n",
              "    </tr>\n",
              "  </thead>\n",
              "  <tbody>\n",
              "    <tr>\n",
              "      <th>0</th>\n",
              "      <td>1</td>\n",
              "      <td>shoe</td>\n",
              "      <td>4790.279701</td>\n",
              "      <td>1856</td>\n",
              "      <td>0.0</td>\n",
              "      <td>928.5</td>\n",
              "    </tr>\n",
              "    <tr>\n",
              "      <th>1</th>\n",
              "      <td>2</td>\n",
              "      <td>feet</td>\n",
              "      <td>3037.151713</td>\n",
              "      <td>6</td>\n",
              "      <td>0.5</td>\n",
              "      <td>4.0</td>\n",
              "    </tr>\n",
              "    <tr>\n",
              "      <th>2</th>\n",
              "      <td>3</td>\n",
              "      <td>support</td>\n",
              "      <td>2870.343367</td>\n",
              "      <td>1</td>\n",
              "      <td>0.5</td>\n",
              "      <td>2.0</td>\n",
              "    </tr>\n",
              "    <tr>\n",
              "      <th>3</th>\n",
              "      <td>4</td>\n",
              "      <td>arch</td>\n",
              "      <td>2788.423651</td>\n",
              "      <td>2</td>\n",
              "      <td>0.5</td>\n",
              "      <td>3.0</td>\n",
              "    </tr>\n",
              "    <tr>\n",
              "      <th>4</th>\n",
              "      <td>5</td>\n",
              "      <td>insoles</td>\n",
              "      <td>2785.654948</td>\n",
              "      <td>22</td>\n",
              "      <td>0.5</td>\n",
              "      <td>13.5</td>\n",
              "    </tr>\n",
              "  </tbody>\n",
              "</table>\n",
              "</div>"
            ],
            "text/plain": [
              "   index_tfidf     Word  TF-IDF Score  index_ks  KS Score  mean_rank\n",
              "0            1     shoe   4790.279701      1856       0.0      928.5\n",
              "1            2     feet   3037.151713         6       0.5        4.0\n",
              "2            3  support   2870.343367         1       0.5        2.0\n",
              "3            4     arch   2788.423651         2       0.5        3.0\n",
              "4            5  insoles   2785.654948        22       0.5       13.5"
            ]
          },
          "execution_count": 83,
          "metadata": {},
          "output_type": "execute_result"
        }
      ],
      "source": [
        "# Add 1 to the ranks\n",
        "mean_ranks['index_ks'] = mean_ranks['index_ks']+1\n",
        "\n",
        "# Calculate mean rank\n",
        "mean_ranks['mean_rank'] = (mean_ranks['index_tfidf'] + mean_ranks['index_ks']) / 2\n",
        "\n",
        "# Confirm\n",
        "mean_ranks.head()"
      ]
    },
    {
      "cell_type": "code",
      "execution_count": 84,
      "metadata": {
        "id": "CEfA8-vzG6kN"
      },
      "outputs": [],
      "source": [
        "# Collect relevant columns and order appropriately\n",
        "mean_ranks = mean_ranks[['Word', 'mean_rank']]\n",
        "mean_ranks = mean_ranks.sort_values(by='mean_rank')"
      ]
    },
    {
      "cell_type": "markdown",
      "metadata": {
        "id": "gyshEi4SHH8F"
      },
      "source": [
        "## **272 Words**"
      ]
    },
    {
      "cell_type": "code",
      "execution_count": 85,
      "metadata": {
        "id": "leKSTvEwHH8F",
        "outputId": "56f7fa46-1545-45e2-a38d-12ccd770a6c3"
      },
      "outputs": [
        {
          "name": "stdout",
          "output_type": "stream",
          "text": [
            "<class 'pandas.core.frame.DataFrame'>\n",
            "Index: 126 entries, 20 to 3725\n",
            "Data columns (total 2 columns):\n",
            " #   Column      Non-Null Count  Dtype \n",
            "---  ------      --------------  ----- \n",
            " 0   reviewText  126 non-null    object\n",
            " 1   label       126 non-null    int64 \n",
            "dtypes: int64(1), object(1)\n",
            "memory usage: 3.0+ KB\n"
          ]
        }
      ],
      "source": [
        "# Get info on entire dataset after filtering to 272 words\n",
        "filter_entire(mean_ranks, 272)"
      ]
    },
    {
      "cell_type": "markdown",
      "metadata": {
        "id": "gR0eDHrHHH8F"
      },
      "source": [
        "Significant data loss."
      ]
    },
    {
      "cell_type": "code",
      "execution_count": 86,
      "metadata": {
        "id": "oxTaXwlhHH8F",
        "outputId": "f8871759-2ad2-413b-edc5-5b2216da15ab"
      },
      "outputs": [
        {
          "name": "stdout",
          "output_type": "stream",
          "text": [
            "<class 'pandas.core.frame.DataFrame'>\n",
            "RangeIndex: 3504 entries, 0 to 3503\n",
            "Columns: 3728 entries, aaaaa to zumba\n",
            "dtypes: float64(3728)\n",
            "memory usage: 99.7 MB\n",
            "\n",
            "<class 'pandas.core.frame.DataFrame'>\n",
            "RangeIndex: 3504 entries, 0 to 3503\n",
            "Columns: 272 entries, refund to pro\n",
            "dtypes: float64(272)\n",
            "memory usage: 7.3 MB\n",
            "\n",
            "<class 'pandas.core.frame.DataFrame'>\n",
            "RangeIndex: 876 entries, 0 to 875\n",
            "Columns: 3728 entries, aaaaa to zumba\n",
            "dtypes: float64(3728)\n",
            "memory usage: 24.9 MB\n",
            "\n",
            "<class 'pandas.core.frame.DataFrame'>\n",
            "RangeIndex: 876 entries, 0 to 875\n",
            "Columns: 272 entries, refund to pro\n",
            "dtypes: float64(272)\n",
            "memory usage: 1.8 MB\n"
          ]
        }
      ],
      "source": [
        "# Filter the training and testing setsD\n",
        "xtr_mean_272 = filter_partial(mean_ranks, 272, Xtrain)\n",
        "xts_mean_272 = filter_partial(mean_ranks, 272, Xtest)\n",
        "\n",
        "# Confirm the dataframes\n",
        "Xtrain.info()\n",
        "print()\n",
        "xtr_mean_272.info()\n",
        "print()\n",
        "Xtest.info()\n",
        "print()\n",
        "xts_mean_272.info()"
      ]
    },
    {
      "cell_type": "code",
      "execution_count": 87,
      "metadata": {
        "id": "DDnwztWWHH8G",
        "outputId": "2c776cee-95ef-4156-f205-84e75e5970cb"
      },
      "outputs": [
        {
          "name": "stdout",
          "output_type": "stream",
          "text": [
            "              precision    recall  f1-score   support\n",
            "\n",
            "           0       0.79      0.78      0.79       432\n",
            "           1       0.79      0.80      0.79       444\n",
            "\n",
            "    accuracy                           0.79       876\n",
            "   macro avg       0.79      0.79      0.79       876\n",
            "weighted avg       0.79      0.79      0.79       876\n",
            "\n"
          ]
        }
      ],
      "source": [
        "# Run the model\n",
        "model(xtr_mean_272, xts_mean_272, ytrain, ytest)"
      ]
    },
    {
      "cell_type": "markdown",
      "metadata": {
        "id": "twCfmurtHH8G"
      },
      "source": [
        "## **334 Words**"
      ]
    },
    {
      "cell_type": "code",
      "execution_count": 88,
      "metadata": {
        "id": "px_CUsezHH8G",
        "outputId": "99b62a39-744d-4141-e386-f1ff811c3956"
      },
      "outputs": [
        {
          "name": "stdout",
          "output_type": "stream",
          "text": [
            "<class 'pandas.core.frame.DataFrame'>\n",
            "Index: 129 entries, 20 to 3725\n",
            "Data columns (total 2 columns):\n",
            " #   Column      Non-Null Count  Dtype \n",
            "---  ------      --------------  ----- \n",
            " 0   reviewText  129 non-null    object\n",
            " 1   label       129 non-null    int64 \n",
            "dtypes: int64(1), object(1)\n",
            "memory usage: 3.0+ KB\n"
          ]
        }
      ],
      "source": [
        "# Get info on entire dataset after filtering to 334 words\n",
        "filter_entire(mean_ranks, 334)"
      ]
    },
    {
      "cell_type": "markdown",
      "metadata": {
        "id": "UFiYS_JMHH8G"
      },
      "source": [
        "Significant data loss."
      ]
    },
    {
      "cell_type": "code",
      "execution_count": 89,
      "metadata": {
        "id": "DEU_O9qAHH8H",
        "outputId": "04171a9c-527f-4966-db13-f7e99064bf44"
      },
      "outputs": [
        {
          "name": "stdout",
          "output_type": "stream",
          "text": [
            "<class 'pandas.core.frame.DataFrame'>\n",
            "RangeIndex: 3504 entries, 0 to 3503\n",
            "Columns: 3728 entries, aaaaa to zumba\n",
            "dtypes: float64(3728)\n",
            "memory usage: 99.7 MB\n",
            "\n",
            "<class 'pandas.core.frame.DataFrame'>\n",
            "RangeIndex: 3504 entries, 0 to 3503\n",
            "Columns: 334 entries, reason to months\n",
            "dtypes: float64(334)\n",
            "memory usage: 8.9 MB\n",
            "\n",
            "<class 'pandas.core.frame.DataFrame'>\n",
            "RangeIndex: 876 entries, 0 to 875\n",
            "Columns: 3728 entries, aaaaa to zumba\n",
            "dtypes: float64(3728)\n",
            "memory usage: 24.9 MB\n",
            "\n",
            "<class 'pandas.core.frame.DataFrame'>\n",
            "RangeIndex: 876 entries, 0 to 875\n",
            "Columns: 334 entries, reason to months\n",
            "dtypes: float64(334)\n",
            "memory usage: 2.2 MB\n"
          ]
        }
      ],
      "source": [
        "# Filter the training and testing sets\n",
        "xtr_mean_334 = filter_partial(mean_ranks, 334, Xtrain)\n",
        "xts_mean_334 = filter_partial(mean_ranks, 334, Xtest)\n",
        "\n",
        "# Confirm the dataframes\n",
        "Xtrain.info()\n",
        "print()\n",
        "xtr_mean_334.info()\n",
        "print()\n",
        "Xtest.info()\n",
        "print()\n",
        "xts_mean_334.info()"
      ]
    },
    {
      "cell_type": "code",
      "execution_count": 90,
      "metadata": {
        "id": "cYjd6d2XHH8H",
        "outputId": "e7132c0c-1183-4854-c07e-6077a3ef501c"
      },
      "outputs": [
        {
          "name": "stdout",
          "output_type": "stream",
          "text": [
            "              precision    recall  f1-score   support\n",
            "\n",
            "           0       0.79      0.78      0.79       432\n",
            "           1       0.79      0.80      0.79       444\n",
            "\n",
            "    accuracy                           0.79       876\n",
            "   macro avg       0.79      0.79      0.79       876\n",
            "weighted avg       0.79      0.79      0.79       876\n",
            "\n"
          ]
        }
      ],
      "source": [
        "# Run the model\n",
        "model(xtr_mean_334, xts_mean_334, ytrain, ytest)"
      ]
    },
    {
      "cell_type": "markdown",
      "metadata": {
        "id": "UJvaXbZXHH8H"
      },
      "source": [
        "## **404 Words**"
      ]
    },
    {
      "cell_type": "code",
      "execution_count": 91,
      "metadata": {
        "id": "JOz-bK7THH8H",
        "outputId": "e90a2239-7eb7-4a74-c22d-6c1fcdbfa619"
      },
      "outputs": [
        {
          "name": "stdout",
          "output_type": "stream",
          "text": [
            "<class 'pandas.core.frame.DataFrame'>\n",
            "Index: 130 entries, 20 to 3725\n",
            "Data columns (total 2 columns):\n",
            " #   Column      Non-Null Count  Dtype \n",
            "---  ------      --------------  ----- \n",
            " 0   reviewText  130 non-null    object\n",
            " 1   label       130 non-null    int64 \n",
            "dtypes: int64(1), object(1)\n",
            "memory usage: 3.0+ KB\n"
          ]
        }
      ],
      "source": [
        "# Get info on entire dataset after filtering to 404 words\n",
        "filter_entire(mean_ranks, 404)"
      ]
    },
    {
      "cell_type": "markdown",
      "metadata": {
        "id": "Hmz-4rfXHH8H"
      },
      "source": [
        "Significant data loss."
      ]
    },
    {
      "cell_type": "code",
      "execution_count": 92,
      "metadata": {
        "id": "D7pkg5O1HH8H",
        "outputId": "70cfb0de-2c99-4034-fb65-eff5be51f26e"
      },
      "outputs": [
        {
          "name": "stdout",
          "output_type": "stream",
          "text": [
            "<class 'pandas.core.frame.DataFrame'>\n",
            "RangeIndex: 3504 entries, 0 to 3503\n",
            "Columns: 3728 entries, aaaaa to zumba\n",
            "dtypes: float64(3728)\n",
            "memory usage: 99.7 MB\n",
            "\n",
            "<class 'pandas.core.frame.DataFrame'>\n",
            "RangeIndex: 3504 entries, 0 to 3503\n",
            "Columns: 404 entries, reason to months\n",
            "dtypes: float64(404)\n",
            "memory usage: 10.8 MB\n",
            "\n",
            "<class 'pandas.core.frame.DataFrame'>\n",
            "RangeIndex: 876 entries, 0 to 875\n",
            "Columns: 3728 entries, aaaaa to zumba\n",
            "dtypes: float64(3728)\n",
            "memory usage: 24.9 MB\n",
            "\n",
            "<class 'pandas.core.frame.DataFrame'>\n",
            "RangeIndex: 876 entries, 0 to 875\n",
            "Columns: 404 entries, reason to months\n",
            "dtypes: float64(404)\n",
            "memory usage: 2.7 MB\n"
          ]
        }
      ],
      "source": [
        "# Filter the training and testing sets\n",
        "xtr_mean_404 = filter_partial(mean_ranks, 404, Xtrain)\n",
        "xts_mean_404 = filter_partial(mean_ranks, 404, Xtest)\n",
        "\n",
        "# Confirm the dataframes\n",
        "Xtrain.info()\n",
        "print()\n",
        "xtr_mean_404.info()\n",
        "print()\n",
        "Xtest.info()\n",
        "print()\n",
        "xts_mean_404.info()"
      ]
    },
    {
      "cell_type": "code",
      "execution_count": 93,
      "metadata": {
        "id": "_K7D4G6AHH8I",
        "outputId": "342f64d4-e33e-4e74-b650-6fd97fb602c3"
      },
      "outputs": [
        {
          "name": "stdout",
          "output_type": "stream",
          "text": [
            "              precision    recall  f1-score   support\n",
            "\n",
            "           0       0.77      0.78      0.77       432\n",
            "           1       0.78      0.78      0.78       444\n",
            "\n",
            "    accuracy                           0.78       876\n",
            "   macro avg       0.78      0.78      0.78       876\n",
            "weighted avg       0.78      0.78      0.78       876\n",
            "\n"
          ]
        }
      ],
      "source": [
        "# Run the model\n",
        "model(xtr_mean_404, xts_mean_404, ytrain, ytest)"
      ]
    },
    {
      "cell_type": "markdown",
      "metadata": {
        "id": "uxidK-tNHH8I"
      },
      "source": [
        "## **553 Words**"
      ]
    },
    {
      "cell_type": "code",
      "execution_count": 94,
      "metadata": {
        "id": "HEmOdAVIHH8I",
        "outputId": "c7513520-229a-4c17-e4ec-1aa12eabcb33"
      },
      "outputs": [
        {
          "name": "stdout",
          "output_type": "stream",
          "text": [
            "<class 'pandas.core.frame.DataFrame'>\n",
            "Index: 136 entries, 20 to 3725\n",
            "Data columns (total 2 columns):\n",
            " #   Column      Non-Null Count  Dtype \n",
            "---  ------      --------------  ----- \n",
            " 0   reviewText  136 non-null    object\n",
            " 1   label       136 non-null    int64 \n",
            "dtypes: int64(1), object(1)\n",
            "memory usage: 3.2+ KB\n"
          ]
        }
      ],
      "source": [
        "# Get info on entire dataset after filtering to 553 words\n",
        "filter_entire(mean_ranks, 553)"
      ]
    },
    {
      "cell_type": "markdown",
      "metadata": {
        "id": "yBif5pLVHH8I"
      },
      "source": [
        "Significant data loss."
      ]
    },
    {
      "cell_type": "code",
      "execution_count": 95,
      "metadata": {
        "id": "4-z_EQBVHH8I",
        "outputId": "8d80ad60-6c5f-4908-e667-7d4ce3f89479"
      },
      "outputs": [
        {
          "name": "stdout",
          "output_type": "stream",
          "text": [
            "<class 'pandas.core.frame.DataFrame'>\n",
            "RangeIndex: 3504 entries, 0 to 3503\n",
            "Columns: 3728 entries, aaaaa to zumba\n",
            "dtypes: float64(3728)\n",
            "memory usage: 99.7 MB\n",
            "\n",
            "<class 'pandas.core.frame.DataFrame'>\n",
            "RangeIndex: 3504 entries, 0 to 3503\n",
            "Columns: 552 entries, reason to store\n",
            "dtypes: float64(552)\n",
            "memory usage: 14.8 MB\n",
            "\n",
            "<class 'pandas.core.frame.DataFrame'>\n",
            "RangeIndex: 876 entries, 0 to 875\n",
            "Columns: 3728 entries, aaaaa to zumba\n",
            "dtypes: float64(3728)\n",
            "memory usage: 24.9 MB\n",
            "\n",
            "<class 'pandas.core.frame.DataFrame'>\n",
            "RangeIndex: 876 entries, 0 to 875\n",
            "Columns: 552 entries, reason to store\n",
            "dtypes: float64(552)\n",
            "memory usage: 3.7 MB\n"
          ]
        }
      ],
      "source": [
        "# Filter the training and testing sets\n",
        "xtr_mean_553 = filter_partial(mean_ranks, 553, Xtrain)\n",
        "xts_mean_553 = filter_partial(mean_ranks, 553, Xtest)\n",
        "\n",
        "# Confirm the dataframes\n",
        "Xtrain.info()\n",
        "print()\n",
        "xtr_mean_553.info()\n",
        "print()\n",
        "Xtest.info()\n",
        "print()\n",
        "xts_mean_553.info()"
      ]
    },
    {
      "cell_type": "code",
      "execution_count": 96,
      "metadata": {
        "id": "qB4Jn_oBHH8I",
        "outputId": "88320fca-ba14-4f49-ef08-e9fa4ae00780"
      },
      "outputs": [
        {
          "name": "stdout",
          "output_type": "stream",
          "text": [
            "              precision    recall  f1-score   support\n",
            "\n",
            "           0       0.78      0.80      0.79       432\n",
            "           1       0.80      0.78      0.79       444\n",
            "\n",
            "    accuracy                           0.79       876\n",
            "   macro avg       0.79      0.79      0.79       876\n",
            "weighted avg       0.79      0.79      0.79       876\n",
            "\n"
          ]
        }
      ],
      "source": [
        "# Run the model\n",
        "model(xtr_mean_553, xts_mean_553, ytrain, ytest)"
      ]
    },
    {
      "cell_type": "markdown",
      "metadata": {
        "id": "0RGXbDGmHH8I"
      },
      "source": [
        "## **834 Words**"
      ]
    },
    {
      "cell_type": "code",
      "execution_count": 97,
      "metadata": {
        "id": "e_K97IdfHH8I",
        "outputId": "e45c15c7-ac54-49d5-8b96-5d534a7a579c"
      },
      "outputs": [
        {
          "name": "stdout",
          "output_type": "stream",
          "text": [
            "<class 'pandas.core.frame.DataFrame'>\n",
            "Index: 161 entries, 20 to 3725\n",
            "Data columns (total 2 columns):\n",
            " #   Column      Non-Null Count  Dtype \n",
            "---  ------      --------------  ----- \n",
            " 0   reviewText  161 non-null    object\n",
            " 1   label       161 non-null    int64 \n",
            "dtypes: int64(1), object(1)\n",
            "memory usage: 3.8+ KB\n"
          ]
        }
      ],
      "source": [
        "# Get info on entire dataset after filtering to 834 words\n",
        "filter_entire(mean_ranks, 834)"
      ]
    },
    {
      "cell_type": "markdown",
      "metadata": {
        "id": "biC2AB6iHH8J"
      },
      "source": [
        "Significant data loss."
      ]
    },
    {
      "cell_type": "code",
      "execution_count": 98,
      "metadata": {
        "id": "E6uETD6AHH8J",
        "outputId": "69298546-b993-4318-9bc5-aa8e5494916c"
      },
      "outputs": [
        {
          "name": "stdout",
          "output_type": "stream",
          "text": [
            "<class 'pandas.core.frame.DataFrame'>\n",
            "RangeIndex: 3504 entries, 0 to 3503\n",
            "Columns: 3728 entries, aaaaa to zumba\n",
            "dtypes: float64(3728)\n",
            "memory usage: 99.7 MB\n",
            "\n",
            "<class 'pandas.core.frame.DataFrame'>\n",
            "RangeIndex: 3504 entries, 0 to 3503\n",
            "Columns: 824 entries, reason to thus\n",
            "dtypes: float64(824)\n",
            "memory usage: 22.0 MB\n",
            "\n",
            "<class 'pandas.core.frame.DataFrame'>\n",
            "RangeIndex: 876 entries, 0 to 875\n",
            "Columns: 3728 entries, aaaaa to zumba\n",
            "dtypes: float64(3728)\n",
            "memory usage: 24.9 MB\n",
            "\n",
            "<class 'pandas.core.frame.DataFrame'>\n",
            "RangeIndex: 876 entries, 0 to 875\n",
            "Columns: 824 entries, reason to thus\n",
            "dtypes: float64(824)\n",
            "memory usage: 5.5 MB\n"
          ]
        }
      ],
      "source": [
        "# Filter the training and testing sets\n",
        "xtr_mean_834 = filter_partial(mean_ranks, 834, Xtrain)\n",
        "xts_mean_834 = filter_partial(mean_ranks, 834, Xtest)\n",
        "\n",
        "# Confirm the dataframes\n",
        "Xtrain.info()\n",
        "print()\n",
        "xtr_mean_834.info()\n",
        "print()\n",
        "Xtest.info()\n",
        "print()\n",
        "xts_mean_834.info()"
      ]
    },
    {
      "cell_type": "code",
      "execution_count": 99,
      "metadata": {
        "id": "quOyA_HwHH8J",
        "outputId": "cf8458e2-ef43-41e6-e1f4-e9c7eb2196ca"
      },
      "outputs": [
        {
          "name": "stdout",
          "output_type": "stream",
          "text": [
            "              precision    recall  f1-score   support\n",
            "\n",
            "           0       0.78      0.81      0.80       432\n",
            "           1       0.81      0.78      0.79       444\n",
            "\n",
            "    accuracy                           0.80       876\n",
            "   macro avg       0.80      0.80      0.80       876\n",
            "weighted avg       0.80      0.80      0.80       876\n",
            "\n"
          ]
        }
      ],
      "source": [
        "# Run the model\n",
        "model(xtr_mean_834, xts_mean_834, ytrain, ytest)"
      ]
    }
  ],
  "metadata": {
    "colab": {
      "provenance": [],
      "toc_visible": true
    },
    "kernelspec": {
      "display_name": "Python 3",
      "name": "python3"
    },
    "language_info": {
      "codemirror_mode": {
        "name": "ipython",
        "version": 3
      },
      "file_extension": ".py",
      "mimetype": "text/x-python",
      "name": "python",
      "nbconvert_exporter": "python",
      "pygments_lexer": "ipython3",
      "version": "3.11.5"
    },
    "widgets": {
      "application/vnd.jupyter.widget-state+json": {
        "0afa5bb993e74462945a2f885b675692": {
          "model_module": "@jupyter-widgets/base",
          "model_module_version": "1.2.0",
          "model_name": "LayoutModel",
          "state": {
            "_model_module": "@jupyter-widgets/base",
            "_model_module_version": "1.2.0",
            "_model_name": "LayoutModel",
            "_view_count": null,
            "_view_module": "@jupyter-widgets/base",
            "_view_module_version": "1.2.0",
            "_view_name": "LayoutView",
            "align_content": null,
            "align_items": null,
            "align_self": null,
            "border": null,
            "bottom": null,
            "display": null,
            "flex": null,
            "flex_flow": null,
            "grid_area": null,
            "grid_auto_columns": null,
            "grid_auto_flow": null,
            "grid_auto_rows": null,
            "grid_column": null,
            "grid_gap": null,
            "grid_row": null,
            "grid_template_areas": null,
            "grid_template_columns": null,
            "grid_template_rows": null,
            "height": null,
            "justify_content": null,
            "justify_items": null,
            "left": null,
            "margin": null,
            "max_height": null,
            "max_width": null,
            "min_height": null,
            "min_width": null,
            "object_fit": null,
            "object_position": null,
            "order": null,
            "overflow": null,
            "overflow_x": null,
            "overflow_y": null,
            "padding": null,
            "right": null,
            "top": null,
            "visibility": null,
            "width": null
          }
        },
        "1114adec70de4f4796c92d28670e11f9": {
          "model_module": "@jupyter-widgets/controls",
          "model_module_version": "1.5.0",
          "model_name": "FloatProgressModel",
          "state": {
            "_dom_classes": [],
            "_model_module": "@jupyter-widgets/controls",
            "_model_module_version": "1.5.0",
            "_model_name": "FloatProgressModel",
            "_view_count": null,
            "_view_module": "@jupyter-widgets/controls",
            "_view_module_version": "1.5.0",
            "_view_name": "ProgressView",
            "bar_style": "success",
            "description": "",
            "description_tooltip": null,
            "layout": "IPY_MODEL_a923f57ea7a54e8da95f3b9eab33cc1d",
            "max": 882403,
            "min": 0,
            "orientation": "horizontal",
            "style": "IPY_MODEL_4a88e0b8a7204d74b964fef496b8460e",
            "value": 882403
          }
        },
        "123c73ae1c72499696014ab5af1cafbb": {
          "model_module": "@jupyter-widgets/controls",
          "model_module_version": "1.5.0",
          "model_name": "HTMLModel",
          "state": {
            "_dom_classes": [],
            "_model_module": "@jupyter-widgets/controls",
            "_model_module_version": "1.5.0",
            "_model_name": "HTMLModel",
            "_view_count": null,
            "_view_module": "@jupyter-widgets/controls",
            "_view_module_version": "1.5.0",
            "_view_name": "HTMLView",
            "description": "",
            "description_tooltip": null,
            "layout": "IPY_MODEL_8f9f04192a75456b8f47c1cf28de95ae",
            "placeholder": "​",
            "style": "IPY_MODEL_6116d87341e74ba48e90336c65321392",
            "value": " 882403/882403 [01:07&lt;00:00, 14807.17it/s]"
          }
        },
        "180cb58c9a3241599862ed5d0be0197b": {
          "model_module": "@jupyter-widgets/base",
          "model_module_version": "1.2.0",
          "model_name": "LayoutModel",
          "state": {
            "_model_module": "@jupyter-widgets/base",
            "_model_module_version": "1.2.0",
            "_model_name": "LayoutModel",
            "_view_count": null,
            "_view_module": "@jupyter-widgets/base",
            "_view_module_version": "1.2.0",
            "_view_name": "LayoutView",
            "align_content": null,
            "align_items": null,
            "align_self": null,
            "border": null,
            "bottom": null,
            "display": null,
            "flex": null,
            "flex_flow": null,
            "grid_area": null,
            "grid_auto_columns": null,
            "grid_auto_flow": null,
            "grid_auto_rows": null,
            "grid_column": null,
            "grid_gap": null,
            "grid_row": null,
            "grid_template_areas": null,
            "grid_template_columns": null,
            "grid_template_rows": null,
            "height": null,
            "justify_content": null,
            "justify_items": null,
            "left": null,
            "margin": null,
            "max_height": null,
            "max_width": null,
            "min_height": null,
            "min_width": null,
            "object_fit": null,
            "object_position": null,
            "order": null,
            "overflow": null,
            "overflow_x": null,
            "overflow_y": null,
            "padding": null,
            "right": null,
            "top": null,
            "visibility": null,
            "width": null
          }
        },
        "18f5ea948b234e4cb01a8aa8deb81ea4": {
          "model_module": "@jupyter-widgets/controls",
          "model_module_version": "1.5.0",
          "model_name": "DescriptionStyleModel",
          "state": {
            "_model_module": "@jupyter-widgets/controls",
            "_model_module_version": "1.5.0",
            "_model_name": "DescriptionStyleModel",
            "_view_count": null,
            "_view_module": "@jupyter-widgets/base",
            "_view_module_version": "1.2.0",
            "_view_name": "StyleView",
            "description_width": ""
          }
        },
        "1ac56df948504df0b710b271fc3d7aa5": {
          "model_module": "@jupyter-widgets/base",
          "model_module_version": "1.2.0",
          "model_name": "LayoutModel",
          "state": {
            "_model_module": "@jupyter-widgets/base",
            "_model_module_version": "1.2.0",
            "_model_name": "LayoutModel",
            "_view_count": null,
            "_view_module": "@jupyter-widgets/base",
            "_view_module_version": "1.2.0",
            "_view_name": "LayoutView",
            "align_content": null,
            "align_items": null,
            "align_self": null,
            "border": null,
            "bottom": null,
            "display": null,
            "flex": null,
            "flex_flow": null,
            "grid_area": null,
            "grid_auto_columns": null,
            "grid_auto_flow": null,
            "grid_auto_rows": null,
            "grid_column": null,
            "grid_gap": null,
            "grid_row": null,
            "grid_template_areas": null,
            "grid_template_columns": null,
            "grid_template_rows": null,
            "height": null,
            "justify_content": null,
            "justify_items": null,
            "left": null,
            "margin": null,
            "max_height": null,
            "max_width": null,
            "min_height": null,
            "min_width": null,
            "object_fit": null,
            "object_position": null,
            "order": null,
            "overflow": null,
            "overflow_x": null,
            "overflow_y": null,
            "padding": null,
            "right": null,
            "top": null,
            "visibility": null,
            "width": null
          }
        },
        "1cbd3fac1c02409d96d14061f5b10b88": {
          "model_module": "@jupyter-widgets/base",
          "model_module_version": "1.2.0",
          "model_name": "LayoutModel",
          "state": {
            "_model_module": "@jupyter-widgets/base",
            "_model_module_version": "1.2.0",
            "_model_name": "LayoutModel",
            "_view_count": null,
            "_view_module": "@jupyter-widgets/base",
            "_view_module_version": "1.2.0",
            "_view_name": "LayoutView",
            "align_content": null,
            "align_items": null,
            "align_self": null,
            "border": null,
            "bottom": null,
            "display": null,
            "flex": null,
            "flex_flow": null,
            "grid_area": null,
            "grid_auto_columns": null,
            "grid_auto_flow": null,
            "grid_auto_rows": null,
            "grid_column": null,
            "grid_gap": null,
            "grid_row": null,
            "grid_template_areas": null,
            "grid_template_columns": null,
            "grid_template_rows": null,
            "height": null,
            "justify_content": null,
            "justify_items": null,
            "left": null,
            "margin": null,
            "max_height": null,
            "max_width": null,
            "min_height": null,
            "min_width": null,
            "object_fit": null,
            "object_position": null,
            "order": null,
            "overflow": null,
            "overflow_x": null,
            "overflow_y": null,
            "padding": null,
            "right": null,
            "top": null,
            "visibility": null,
            "width": null
          }
        },
        "21043fc38794453aa8382df80eadcf19": {
          "model_module": "@jupyter-widgets/controls",
          "model_module_version": "1.5.0",
          "model_name": "FloatProgressModel",
          "state": {
            "_dom_classes": [],
            "_model_module": "@jupyter-widgets/controls",
            "_model_module_version": "1.5.0",
            "_model_name": "FloatProgressModel",
            "_view_count": null,
            "_view_module": "@jupyter-widgets/controls",
            "_view_module_version": "1.5.0",
            "_view_name": "ProgressView",
            "bar_style": "success",
            "description": "",
            "description_tooltip": null,
            "layout": "IPY_MODEL_65387119632249b897fe1cdc8459b832",
            "max": 882403,
            "min": 0,
            "orientation": "horizontal",
            "style": "IPY_MODEL_de0450c5524245319fb8c5367b99b7cf",
            "value": 882403
          }
        },
        "26b4285d170448f5b2b4c54485bc7b9d": {
          "model_module": "@jupyter-widgets/controls",
          "model_module_version": "1.5.0",
          "model_name": "HTMLModel",
          "state": {
            "_dom_classes": [],
            "_model_module": "@jupyter-widgets/controls",
            "_model_module_version": "1.5.0",
            "_model_name": "HTMLModel",
            "_view_count": null,
            "_view_module": "@jupyter-widgets/controls",
            "_view_module_version": "1.5.0",
            "_view_name": "HTMLView",
            "description": "",
            "description_tooltip": null,
            "layout": "IPY_MODEL_c1725fa0f9094123a9324c2d52ccf07a",
            "placeholder": "​",
            "style": "IPY_MODEL_a3983e3c772545078688724f1c86dc15",
            "value": "Pandas Apply: 100%"
          }
        },
        "2c51b54fe291450391815bc0a179584e": {
          "model_module": "@jupyter-widgets/base",
          "model_module_version": "1.2.0",
          "model_name": "LayoutModel",
          "state": {
            "_model_module": "@jupyter-widgets/base",
            "_model_module_version": "1.2.0",
            "_model_name": "LayoutModel",
            "_view_count": null,
            "_view_module": "@jupyter-widgets/base",
            "_view_module_version": "1.2.0",
            "_view_name": "LayoutView",
            "align_content": null,
            "align_items": null,
            "align_self": null,
            "border": null,
            "bottom": null,
            "display": null,
            "flex": null,
            "flex_flow": null,
            "grid_area": null,
            "grid_auto_columns": null,
            "grid_auto_flow": null,
            "grid_auto_rows": null,
            "grid_column": null,
            "grid_gap": null,
            "grid_row": null,
            "grid_template_areas": null,
            "grid_template_columns": null,
            "grid_template_rows": null,
            "height": null,
            "justify_content": null,
            "justify_items": null,
            "left": null,
            "margin": null,
            "max_height": null,
            "max_width": null,
            "min_height": null,
            "min_width": null,
            "object_fit": null,
            "object_position": null,
            "order": null,
            "overflow": null,
            "overflow_x": null,
            "overflow_y": null,
            "padding": null,
            "right": null,
            "top": null,
            "visibility": null,
            "width": null
          }
        },
        "2d51d4cbca2e4097bad2427c4210f84f": {
          "model_module": "@jupyter-widgets/base",
          "model_module_version": "1.2.0",
          "model_name": "LayoutModel",
          "state": {
            "_model_module": "@jupyter-widgets/base",
            "_model_module_version": "1.2.0",
            "_model_name": "LayoutModel",
            "_view_count": null,
            "_view_module": "@jupyter-widgets/base",
            "_view_module_version": "1.2.0",
            "_view_name": "LayoutView",
            "align_content": null,
            "align_items": null,
            "align_self": null,
            "border": null,
            "bottom": null,
            "display": null,
            "flex": null,
            "flex_flow": null,
            "grid_area": null,
            "grid_auto_columns": null,
            "grid_auto_flow": null,
            "grid_auto_rows": null,
            "grid_column": null,
            "grid_gap": null,
            "grid_row": null,
            "grid_template_areas": null,
            "grid_template_columns": null,
            "grid_template_rows": null,
            "height": null,
            "justify_content": null,
            "justify_items": null,
            "left": null,
            "margin": null,
            "max_height": null,
            "max_width": null,
            "min_height": null,
            "min_width": null,
            "object_fit": null,
            "object_position": null,
            "order": null,
            "overflow": null,
            "overflow_x": null,
            "overflow_y": null,
            "padding": null,
            "right": null,
            "top": null,
            "visibility": null,
            "width": null
          }
        },
        "36ebd1af045b47b88bc19aa9ebf1a119": {
          "model_module": "@jupyter-widgets/controls",
          "model_module_version": "1.5.0",
          "model_name": "DescriptionStyleModel",
          "state": {
            "_model_module": "@jupyter-widgets/controls",
            "_model_module_version": "1.5.0",
            "_model_name": "DescriptionStyleModel",
            "_view_count": null,
            "_view_module": "@jupyter-widgets/base",
            "_view_module_version": "1.2.0",
            "_view_name": "StyleView",
            "description_width": ""
          }
        },
        "39f44c8a5db9462ca93114c57a3b4a72": {
          "model_module": "@jupyter-widgets/controls",
          "model_module_version": "1.5.0",
          "model_name": "DescriptionStyleModel",
          "state": {
            "_model_module": "@jupyter-widgets/controls",
            "_model_module_version": "1.5.0",
            "_model_name": "DescriptionStyleModel",
            "_view_count": null,
            "_view_module": "@jupyter-widgets/base",
            "_view_module_version": "1.2.0",
            "_view_name": "StyleView",
            "description_width": ""
          }
        },
        "3da3e8e200cd4273bcc6d9826243dae6": {
          "model_module": "@jupyter-widgets/controls",
          "model_module_version": "1.5.0",
          "model_name": "DescriptionStyleModel",
          "state": {
            "_model_module": "@jupyter-widgets/controls",
            "_model_module_version": "1.5.0",
            "_model_name": "DescriptionStyleModel",
            "_view_count": null,
            "_view_module": "@jupyter-widgets/base",
            "_view_module_version": "1.2.0",
            "_view_name": "StyleView",
            "description_width": ""
          }
        },
        "3e7c56fa9de04082af4a36bf900565a5": {
          "model_module": "@jupyter-widgets/controls",
          "model_module_version": "1.5.0",
          "model_name": "ProgressStyleModel",
          "state": {
            "_model_module": "@jupyter-widgets/controls",
            "_model_module_version": "1.5.0",
            "_model_name": "ProgressStyleModel",
            "_view_count": null,
            "_view_module": "@jupyter-widgets/base",
            "_view_module_version": "1.2.0",
            "_view_name": "StyleView",
            "bar_color": null,
            "description_width": ""
          }
        },
        "440b867d9e58498c8121e3ee5ac26094": {
          "model_module": "@jupyter-widgets/controls",
          "model_module_version": "1.5.0",
          "model_name": "HBoxModel",
          "state": {
            "_dom_classes": [],
            "_model_module": "@jupyter-widgets/controls",
            "_model_module_version": "1.5.0",
            "_model_name": "HBoxModel",
            "_view_count": null,
            "_view_module": "@jupyter-widgets/controls",
            "_view_module_version": "1.5.0",
            "_view_name": "HBoxView",
            "box_style": "",
            "children": [
              "IPY_MODEL_5136e433a02b497badf9c644402312e3",
              "IPY_MODEL_d739d93c60814afda606b3624ab1047b",
              "IPY_MODEL_4b1ffb41fbcb4841a0adf679258b23ab"
            ],
            "layout": "IPY_MODEL_a181662a1d9f4c51a0bfad9b2d782df1"
          }
        },
        "45ae689a0d034edea5f7432ada630bc4": {
          "model_module": "@jupyter-widgets/base",
          "model_module_version": "1.2.0",
          "model_name": "LayoutModel",
          "state": {
            "_model_module": "@jupyter-widgets/base",
            "_model_module_version": "1.2.0",
            "_model_name": "LayoutModel",
            "_view_count": null,
            "_view_module": "@jupyter-widgets/base",
            "_view_module_version": "1.2.0",
            "_view_name": "LayoutView",
            "align_content": null,
            "align_items": null,
            "align_self": null,
            "border": null,
            "bottom": null,
            "display": null,
            "flex": null,
            "flex_flow": null,
            "grid_area": null,
            "grid_auto_columns": null,
            "grid_auto_flow": null,
            "grid_auto_rows": null,
            "grid_column": null,
            "grid_gap": null,
            "grid_row": null,
            "grid_template_areas": null,
            "grid_template_columns": null,
            "grid_template_rows": null,
            "height": null,
            "justify_content": null,
            "justify_items": null,
            "left": null,
            "margin": null,
            "max_height": null,
            "max_width": null,
            "min_height": null,
            "min_width": null,
            "object_fit": null,
            "object_position": null,
            "order": null,
            "overflow": null,
            "overflow_x": null,
            "overflow_y": null,
            "padding": null,
            "right": null,
            "top": null,
            "visibility": null,
            "width": null
          }
        },
        "4661b62f52b14156a2819fdc058f8f7a": {
          "model_module": "@jupyter-widgets/base",
          "model_module_version": "1.2.0",
          "model_name": "LayoutModel",
          "state": {
            "_model_module": "@jupyter-widgets/base",
            "_model_module_version": "1.2.0",
            "_model_name": "LayoutModel",
            "_view_count": null,
            "_view_module": "@jupyter-widgets/base",
            "_view_module_version": "1.2.0",
            "_view_name": "LayoutView",
            "align_content": null,
            "align_items": null,
            "align_self": null,
            "border": null,
            "bottom": null,
            "display": null,
            "flex": null,
            "flex_flow": null,
            "grid_area": null,
            "grid_auto_columns": null,
            "grid_auto_flow": null,
            "grid_auto_rows": null,
            "grid_column": null,
            "grid_gap": null,
            "grid_row": null,
            "grid_template_areas": null,
            "grid_template_columns": null,
            "grid_template_rows": null,
            "height": null,
            "justify_content": null,
            "justify_items": null,
            "left": null,
            "margin": null,
            "max_height": null,
            "max_width": null,
            "min_height": null,
            "min_width": null,
            "object_fit": null,
            "object_position": null,
            "order": null,
            "overflow": null,
            "overflow_x": null,
            "overflow_y": null,
            "padding": null,
            "right": null,
            "top": null,
            "visibility": null,
            "width": null
          }
        },
        "4a88e0b8a7204d74b964fef496b8460e": {
          "model_module": "@jupyter-widgets/controls",
          "model_module_version": "1.5.0",
          "model_name": "ProgressStyleModel",
          "state": {
            "_model_module": "@jupyter-widgets/controls",
            "_model_module_version": "1.5.0",
            "_model_name": "ProgressStyleModel",
            "_view_count": null,
            "_view_module": "@jupyter-widgets/base",
            "_view_module_version": "1.2.0",
            "_view_name": "StyleView",
            "bar_color": null,
            "description_width": ""
          }
        },
        "4b1ffb41fbcb4841a0adf679258b23ab": {
          "model_module": "@jupyter-widgets/controls",
          "model_module_version": "1.5.0",
          "model_name": "HTMLModel",
          "state": {
            "_dom_classes": [],
            "_model_module": "@jupyter-widgets/controls",
            "_model_module_version": "1.5.0",
            "_model_name": "HTMLModel",
            "_view_count": null,
            "_view_module": "@jupyter-widgets/controls",
            "_view_module_version": "1.5.0",
            "_view_name": "HTMLView",
            "description": "",
            "description_tooltip": null,
            "layout": "IPY_MODEL_f4a7909ef83f4896983d0f07d897e29a",
            "placeholder": "​",
            "style": "IPY_MODEL_d40dfe2785f34cbd9c6773fe07fce7b6",
            "value": " 882403/882403 [00:19&lt;00:00, 32952.45it/s]"
          }
        },
        "511f134cf5ee4be1b860af8b0af2b2d0": {
          "model_module": "@jupyter-widgets/controls",
          "model_module_version": "1.5.0",
          "model_name": "HTMLModel",
          "state": {
            "_dom_classes": [],
            "_model_module": "@jupyter-widgets/controls",
            "_model_module_version": "1.5.0",
            "_model_name": "HTMLModel",
            "_view_count": null,
            "_view_module": "@jupyter-widgets/controls",
            "_view_module_version": "1.5.0",
            "_view_name": "HTMLView",
            "description": "",
            "description_tooltip": null,
            "layout": "IPY_MODEL_856e9bc629024d24926b745f06ced03a",
            "placeholder": "​",
            "style": "IPY_MODEL_18f5ea948b234e4cb01a8aa8deb81ea4",
            "value": " 882403/882403 [00:03&lt;00:00, 184653.51it/s]"
          }
        },
        "5136e433a02b497badf9c644402312e3": {
          "model_module": "@jupyter-widgets/controls",
          "model_module_version": "1.5.0",
          "model_name": "HTMLModel",
          "state": {
            "_dom_classes": [],
            "_model_module": "@jupyter-widgets/controls",
            "_model_module_version": "1.5.0",
            "_model_name": "HTMLModel",
            "_view_count": null,
            "_view_module": "@jupyter-widgets/controls",
            "_view_module_version": "1.5.0",
            "_view_name": "HTMLView",
            "description": "",
            "description_tooltip": null,
            "layout": "IPY_MODEL_bb02a666708d4c0996ad3c606f1147f8",
            "placeholder": "​",
            "style": "IPY_MODEL_61220a4d7a1743388a903c57554453ee",
            "value": "Pandas Apply: 100%"
          }
        },
        "53c80816e0654ea6a3d0e6acb2f901cb": {
          "model_module": "@jupyter-widgets/controls",
          "model_module_version": "1.5.0",
          "model_name": "HTMLModel",
          "state": {
            "_dom_classes": [],
            "_model_module": "@jupyter-widgets/controls",
            "_model_module_version": "1.5.0",
            "_model_name": "HTMLModel",
            "_view_count": null,
            "_view_module": "@jupyter-widgets/controls",
            "_view_module_version": "1.5.0",
            "_view_name": "HTMLView",
            "description": "",
            "description_tooltip": null,
            "layout": "IPY_MODEL_c8001c9e209548c49e3a6919b1895c49",
            "placeholder": "​",
            "style": "IPY_MODEL_39f44c8a5db9462ca93114c57a3b4a72",
            "value": "Pandas Apply: 100%"
          }
        },
        "549b232439194347a0873aa1a6aa687f": {
          "model_module": "@jupyter-widgets/controls",
          "model_module_version": "1.5.0",
          "model_name": "DescriptionStyleModel",
          "state": {
            "_model_module": "@jupyter-widgets/controls",
            "_model_module_version": "1.5.0",
            "_model_name": "DescriptionStyleModel",
            "_view_count": null,
            "_view_module": "@jupyter-widgets/base",
            "_view_module_version": "1.2.0",
            "_view_name": "StyleView",
            "description_width": ""
          }
        },
        "6116d87341e74ba48e90336c65321392": {
          "model_module": "@jupyter-widgets/controls",
          "model_module_version": "1.5.0",
          "model_name": "DescriptionStyleModel",
          "state": {
            "_model_module": "@jupyter-widgets/controls",
            "_model_module_version": "1.5.0",
            "_model_name": "DescriptionStyleModel",
            "_view_count": null,
            "_view_module": "@jupyter-widgets/base",
            "_view_module_version": "1.2.0",
            "_view_name": "StyleView",
            "description_width": ""
          }
        },
        "61220a4d7a1743388a903c57554453ee": {
          "model_module": "@jupyter-widgets/controls",
          "model_module_version": "1.5.0",
          "model_name": "DescriptionStyleModel",
          "state": {
            "_model_module": "@jupyter-widgets/controls",
            "_model_module_version": "1.5.0",
            "_model_name": "DescriptionStyleModel",
            "_view_count": null,
            "_view_module": "@jupyter-widgets/base",
            "_view_module_version": "1.2.0",
            "_view_name": "StyleView",
            "description_width": ""
          }
        },
        "63ef4f8111084666af74f73089f78f4e": {
          "model_module": "@jupyter-widgets/controls",
          "model_module_version": "1.5.0",
          "model_name": "HBoxModel",
          "state": {
            "_dom_classes": [],
            "_model_module": "@jupyter-widgets/controls",
            "_model_module_version": "1.5.0",
            "_model_name": "HBoxModel",
            "_view_count": null,
            "_view_module": "@jupyter-widgets/controls",
            "_view_module_version": "1.5.0",
            "_view_name": "HBoxView",
            "box_style": "",
            "children": [
              "IPY_MODEL_53c80816e0654ea6a3d0e6acb2f901cb",
              "IPY_MODEL_6c2b891e65714d37a779779b34aa09ed",
              "IPY_MODEL_123c73ae1c72499696014ab5af1cafbb"
            ],
            "layout": "IPY_MODEL_878d784308684b26b4196a2765a3d0b9"
          }
        },
        "65387119632249b897fe1cdc8459b832": {
          "model_module": "@jupyter-widgets/base",
          "model_module_version": "1.2.0",
          "model_name": "LayoutModel",
          "state": {
            "_model_module": "@jupyter-widgets/base",
            "_model_module_version": "1.2.0",
            "_model_name": "LayoutModel",
            "_view_count": null,
            "_view_module": "@jupyter-widgets/base",
            "_view_module_version": "1.2.0",
            "_view_name": "LayoutView",
            "align_content": null,
            "align_items": null,
            "align_self": null,
            "border": null,
            "bottom": null,
            "display": null,
            "flex": null,
            "flex_flow": null,
            "grid_area": null,
            "grid_auto_columns": null,
            "grid_auto_flow": null,
            "grid_auto_rows": null,
            "grid_column": null,
            "grid_gap": null,
            "grid_row": null,
            "grid_template_areas": null,
            "grid_template_columns": null,
            "grid_template_rows": null,
            "height": null,
            "justify_content": null,
            "justify_items": null,
            "left": null,
            "margin": null,
            "max_height": null,
            "max_width": null,
            "min_height": null,
            "min_width": null,
            "object_fit": null,
            "object_position": null,
            "order": null,
            "overflow": null,
            "overflow_x": null,
            "overflow_y": null,
            "padding": null,
            "right": null,
            "top": null,
            "visibility": null,
            "width": null
          }
        },
        "68778e907bce4e67a3d86e587241bfea": {
          "model_module": "@jupyter-widgets/controls",
          "model_module_version": "1.5.0",
          "model_name": "FloatProgressModel",
          "state": {
            "_dom_classes": [],
            "_model_module": "@jupyter-widgets/controls",
            "_model_module_version": "1.5.0",
            "_model_name": "FloatProgressModel",
            "_view_count": null,
            "_view_module": "@jupyter-widgets/controls",
            "_view_module_version": "1.5.0",
            "_view_name": "ProgressView",
            "bar_style": "success",
            "description": "",
            "description_tooltip": null,
            "layout": "IPY_MODEL_180cb58c9a3241599862ed5d0be0197b",
            "max": 882403,
            "min": 0,
            "orientation": "horizontal",
            "style": "IPY_MODEL_bf8b132a7abc4cb588d9e52760e1b0d1",
            "value": 882403
          }
        },
        "6c2b891e65714d37a779779b34aa09ed": {
          "model_module": "@jupyter-widgets/controls",
          "model_module_version": "1.5.0",
          "model_name": "FloatProgressModel",
          "state": {
            "_dom_classes": [],
            "_model_module": "@jupyter-widgets/controls",
            "_model_module_version": "1.5.0",
            "_model_name": "FloatProgressModel",
            "_view_count": null,
            "_view_module": "@jupyter-widgets/controls",
            "_view_module_version": "1.5.0",
            "_view_name": "ProgressView",
            "bar_style": "success",
            "description": "",
            "description_tooltip": null,
            "layout": "IPY_MODEL_f84abca565d340f8bb98c3a0771f9de7",
            "max": 882403,
            "min": 0,
            "orientation": "horizontal",
            "style": "IPY_MODEL_ebae845039964f908f92c08acb670cf1",
            "value": 882403
          }
        },
        "768449b55bf44583a997388feec5cb9b": {
          "model_module": "@jupyter-widgets/controls",
          "model_module_version": "1.5.0",
          "model_name": "HTMLModel",
          "state": {
            "_dom_classes": [],
            "_model_module": "@jupyter-widgets/controls",
            "_model_module_version": "1.5.0",
            "_model_name": "HTMLModel",
            "_view_count": null,
            "_view_module": "@jupyter-widgets/controls",
            "_view_module_version": "1.5.0",
            "_view_name": "HTMLView",
            "description": "",
            "description_tooltip": null,
            "layout": "IPY_MODEL_0afa5bb993e74462945a2f885b675692",
            "placeholder": "​",
            "style": "IPY_MODEL_f6250fe7e2b642c9a8833de0cf026b69",
            "value": "Pandas Apply: 100%"
          }
        },
        "78dc08bbc4c74710adbbc50eb490082d": {
          "model_module": "@jupyter-widgets/controls",
          "model_module_version": "1.5.0",
          "model_name": "DescriptionStyleModel",
          "state": {
            "_model_module": "@jupyter-widgets/controls",
            "_model_module_version": "1.5.0",
            "_model_name": "DescriptionStyleModel",
            "_view_count": null,
            "_view_module": "@jupyter-widgets/base",
            "_view_module_version": "1.2.0",
            "_view_name": "StyleView",
            "description_width": ""
          }
        },
        "7a422cbe75e54737851ee5e58ad30805": {
          "model_module": "@jupyter-widgets/controls",
          "model_module_version": "1.5.0",
          "model_name": "ProgressStyleModel",
          "state": {
            "_model_module": "@jupyter-widgets/controls",
            "_model_module_version": "1.5.0",
            "_model_name": "ProgressStyleModel",
            "_view_count": null,
            "_view_module": "@jupyter-widgets/base",
            "_view_module_version": "1.2.0",
            "_view_name": "StyleView",
            "bar_color": null,
            "description_width": ""
          }
        },
        "7e22824ab1204d0fa1b89ea0168f9657": {
          "model_module": "@jupyter-widgets/base",
          "model_module_version": "1.2.0",
          "model_name": "LayoutModel",
          "state": {
            "_model_module": "@jupyter-widgets/base",
            "_model_module_version": "1.2.0",
            "_model_name": "LayoutModel",
            "_view_count": null,
            "_view_module": "@jupyter-widgets/base",
            "_view_module_version": "1.2.0",
            "_view_name": "LayoutView",
            "align_content": null,
            "align_items": null,
            "align_self": null,
            "border": null,
            "bottom": null,
            "display": null,
            "flex": null,
            "flex_flow": null,
            "grid_area": null,
            "grid_auto_columns": null,
            "grid_auto_flow": null,
            "grid_auto_rows": null,
            "grid_column": null,
            "grid_gap": null,
            "grid_row": null,
            "grid_template_areas": null,
            "grid_template_columns": null,
            "grid_template_rows": null,
            "height": null,
            "justify_content": null,
            "justify_items": null,
            "left": null,
            "margin": null,
            "max_height": null,
            "max_width": null,
            "min_height": null,
            "min_width": null,
            "object_fit": null,
            "object_position": null,
            "order": null,
            "overflow": null,
            "overflow_x": null,
            "overflow_y": null,
            "padding": null,
            "right": null,
            "top": null,
            "visibility": null,
            "width": null
          }
        },
        "7fe26e8500744b528217bcc50a736e66": {
          "model_module": "@jupyter-widgets/base",
          "model_module_version": "1.2.0",
          "model_name": "LayoutModel",
          "state": {
            "_model_module": "@jupyter-widgets/base",
            "_model_module_version": "1.2.0",
            "_model_name": "LayoutModel",
            "_view_count": null,
            "_view_module": "@jupyter-widgets/base",
            "_view_module_version": "1.2.0",
            "_view_name": "LayoutView",
            "align_content": null,
            "align_items": null,
            "align_self": null,
            "border": null,
            "bottom": null,
            "display": null,
            "flex": null,
            "flex_flow": null,
            "grid_area": null,
            "grid_auto_columns": null,
            "grid_auto_flow": null,
            "grid_auto_rows": null,
            "grid_column": null,
            "grid_gap": null,
            "grid_row": null,
            "grid_template_areas": null,
            "grid_template_columns": null,
            "grid_template_rows": null,
            "height": null,
            "justify_content": null,
            "justify_items": null,
            "left": null,
            "margin": null,
            "max_height": null,
            "max_width": null,
            "min_height": null,
            "min_width": null,
            "object_fit": null,
            "object_position": null,
            "order": null,
            "overflow": null,
            "overflow_x": null,
            "overflow_y": null,
            "padding": null,
            "right": null,
            "top": null,
            "visibility": null,
            "width": null
          }
        },
        "8366da818b9143939c4434d149b0c001": {
          "model_module": "@jupyter-widgets/base",
          "model_module_version": "1.2.0",
          "model_name": "LayoutModel",
          "state": {
            "_model_module": "@jupyter-widgets/base",
            "_model_module_version": "1.2.0",
            "_model_name": "LayoutModel",
            "_view_count": null,
            "_view_module": "@jupyter-widgets/base",
            "_view_module_version": "1.2.0",
            "_view_name": "LayoutView",
            "align_content": null,
            "align_items": null,
            "align_self": null,
            "border": null,
            "bottom": null,
            "display": null,
            "flex": null,
            "flex_flow": null,
            "grid_area": null,
            "grid_auto_columns": null,
            "grid_auto_flow": null,
            "grid_auto_rows": null,
            "grid_column": null,
            "grid_gap": null,
            "grid_row": null,
            "grid_template_areas": null,
            "grid_template_columns": null,
            "grid_template_rows": null,
            "height": null,
            "justify_content": null,
            "justify_items": null,
            "left": null,
            "margin": null,
            "max_height": null,
            "max_width": null,
            "min_height": null,
            "min_width": null,
            "object_fit": null,
            "object_position": null,
            "order": null,
            "overflow": null,
            "overflow_x": null,
            "overflow_y": null,
            "padding": null,
            "right": null,
            "top": null,
            "visibility": null,
            "width": null
          }
        },
        "856e9bc629024d24926b745f06ced03a": {
          "model_module": "@jupyter-widgets/base",
          "model_module_version": "1.2.0",
          "model_name": "LayoutModel",
          "state": {
            "_model_module": "@jupyter-widgets/base",
            "_model_module_version": "1.2.0",
            "_model_name": "LayoutModel",
            "_view_count": null,
            "_view_module": "@jupyter-widgets/base",
            "_view_module_version": "1.2.0",
            "_view_name": "LayoutView",
            "align_content": null,
            "align_items": null,
            "align_self": null,
            "border": null,
            "bottom": null,
            "display": null,
            "flex": null,
            "flex_flow": null,
            "grid_area": null,
            "grid_auto_columns": null,
            "grid_auto_flow": null,
            "grid_auto_rows": null,
            "grid_column": null,
            "grid_gap": null,
            "grid_row": null,
            "grid_template_areas": null,
            "grid_template_columns": null,
            "grid_template_rows": null,
            "height": null,
            "justify_content": null,
            "justify_items": null,
            "left": null,
            "margin": null,
            "max_height": null,
            "max_width": null,
            "min_height": null,
            "min_width": null,
            "object_fit": null,
            "object_position": null,
            "order": null,
            "overflow": null,
            "overflow_x": null,
            "overflow_y": null,
            "padding": null,
            "right": null,
            "top": null,
            "visibility": null,
            "width": null
          }
        },
        "8692b00241154234b57c157468edaf19": {
          "model_module": "@jupyter-widgets/controls",
          "model_module_version": "1.5.0",
          "model_name": "DescriptionStyleModel",
          "state": {
            "_model_module": "@jupyter-widgets/controls",
            "_model_module_version": "1.5.0",
            "_model_name": "DescriptionStyleModel",
            "_view_count": null,
            "_view_module": "@jupyter-widgets/base",
            "_view_module_version": "1.2.0",
            "_view_name": "StyleView",
            "description_width": ""
          }
        },
        "878d784308684b26b4196a2765a3d0b9": {
          "model_module": "@jupyter-widgets/base",
          "model_module_version": "1.2.0",
          "model_name": "LayoutModel",
          "state": {
            "_model_module": "@jupyter-widgets/base",
            "_model_module_version": "1.2.0",
            "_model_name": "LayoutModel",
            "_view_count": null,
            "_view_module": "@jupyter-widgets/base",
            "_view_module_version": "1.2.0",
            "_view_name": "LayoutView",
            "align_content": null,
            "align_items": null,
            "align_self": null,
            "border": null,
            "bottom": null,
            "display": null,
            "flex": null,
            "flex_flow": null,
            "grid_area": null,
            "grid_auto_columns": null,
            "grid_auto_flow": null,
            "grid_auto_rows": null,
            "grid_column": null,
            "grid_gap": null,
            "grid_row": null,
            "grid_template_areas": null,
            "grid_template_columns": null,
            "grid_template_rows": null,
            "height": null,
            "justify_content": null,
            "justify_items": null,
            "left": null,
            "margin": null,
            "max_height": null,
            "max_width": null,
            "min_height": null,
            "min_width": null,
            "object_fit": null,
            "object_position": null,
            "order": null,
            "overflow": null,
            "overflow_x": null,
            "overflow_y": null,
            "padding": null,
            "right": null,
            "top": null,
            "visibility": null,
            "width": null
          }
        },
        "88766c982934473ab91738c7c05267d1": {
          "model_module": "@jupyter-widgets/controls",
          "model_module_version": "1.5.0",
          "model_name": "HTMLModel",
          "state": {
            "_dom_classes": [],
            "_model_module": "@jupyter-widgets/controls",
            "_model_module_version": "1.5.0",
            "_model_name": "HTMLModel",
            "_view_count": null,
            "_view_module": "@jupyter-widgets/controls",
            "_view_module_version": "1.5.0",
            "_view_name": "HTMLView",
            "description": "",
            "description_tooltip": null,
            "layout": "IPY_MODEL_2c51b54fe291450391815bc0a179584e",
            "placeholder": "​",
            "style": "IPY_MODEL_36ebd1af045b47b88bc19aa9ebf1a119",
            "value": " 882403/882403 [01:22&lt;00:00, 15123.05it/s]"
          }
        },
        "8d4745811cd84c0d8bebf62930276d1b": {
          "model_module": "@jupyter-widgets/controls",
          "model_module_version": "1.5.0",
          "model_name": "HBoxModel",
          "state": {
            "_dom_classes": [],
            "_model_module": "@jupyter-widgets/controls",
            "_model_module_version": "1.5.0",
            "_model_name": "HBoxModel",
            "_view_count": null,
            "_view_module": "@jupyter-widgets/controls",
            "_view_module_version": "1.5.0",
            "_view_name": "HBoxView",
            "box_style": "",
            "children": [
              "IPY_MODEL_ccb2d27114fc4e499d902bf79a6a1123",
              "IPY_MODEL_1114adec70de4f4796c92d28670e11f9",
              "IPY_MODEL_ecbb1e3d8e0f42b3a32dce0bfb7f4ffc"
            ],
            "layout": "IPY_MODEL_45ae689a0d034edea5f7432ada630bc4"
          }
        },
        "8f9f04192a75456b8f47c1cf28de95ae": {
          "model_module": "@jupyter-widgets/base",
          "model_module_version": "1.2.0",
          "model_name": "LayoutModel",
          "state": {
            "_model_module": "@jupyter-widgets/base",
            "_model_module_version": "1.2.0",
            "_model_name": "LayoutModel",
            "_view_count": null,
            "_view_module": "@jupyter-widgets/base",
            "_view_module_version": "1.2.0",
            "_view_name": "LayoutView",
            "align_content": null,
            "align_items": null,
            "align_self": null,
            "border": null,
            "bottom": null,
            "display": null,
            "flex": null,
            "flex_flow": null,
            "grid_area": null,
            "grid_auto_columns": null,
            "grid_auto_flow": null,
            "grid_auto_rows": null,
            "grid_column": null,
            "grid_gap": null,
            "grid_row": null,
            "grid_template_areas": null,
            "grid_template_columns": null,
            "grid_template_rows": null,
            "height": null,
            "justify_content": null,
            "justify_items": null,
            "left": null,
            "margin": null,
            "max_height": null,
            "max_width": null,
            "min_height": null,
            "min_width": null,
            "object_fit": null,
            "object_position": null,
            "order": null,
            "overflow": null,
            "overflow_x": null,
            "overflow_y": null,
            "padding": null,
            "right": null,
            "top": null,
            "visibility": null,
            "width": null
          }
        },
        "902cba575e6e40509508876d24c9d100": {
          "model_module": "@jupyter-widgets/base",
          "model_module_version": "1.2.0",
          "model_name": "LayoutModel",
          "state": {
            "_model_module": "@jupyter-widgets/base",
            "_model_module_version": "1.2.0",
            "_model_name": "LayoutModel",
            "_view_count": null,
            "_view_module": "@jupyter-widgets/base",
            "_view_module_version": "1.2.0",
            "_view_name": "LayoutView",
            "align_content": null,
            "align_items": null,
            "align_self": null,
            "border": null,
            "bottom": null,
            "display": null,
            "flex": null,
            "flex_flow": null,
            "grid_area": null,
            "grid_auto_columns": null,
            "grid_auto_flow": null,
            "grid_auto_rows": null,
            "grid_column": null,
            "grid_gap": null,
            "grid_row": null,
            "grid_template_areas": null,
            "grid_template_columns": null,
            "grid_template_rows": null,
            "height": null,
            "justify_content": null,
            "justify_items": null,
            "left": null,
            "margin": null,
            "max_height": null,
            "max_width": null,
            "min_height": null,
            "min_width": null,
            "object_fit": null,
            "object_position": null,
            "order": null,
            "overflow": null,
            "overflow_x": null,
            "overflow_y": null,
            "padding": null,
            "right": null,
            "top": null,
            "visibility": null,
            "width": null
          }
        },
        "95b68d56d37a4e50b739c96d5098b6af": {
          "model_module": "@jupyter-widgets/controls",
          "model_module_version": "1.5.0",
          "model_name": "HBoxModel",
          "state": {
            "_dom_classes": [],
            "_model_module": "@jupyter-widgets/controls",
            "_model_module_version": "1.5.0",
            "_model_name": "HBoxModel",
            "_view_count": null,
            "_view_module": "@jupyter-widgets/controls",
            "_view_module_version": "1.5.0",
            "_view_name": "HBoxView",
            "box_style": "",
            "children": [
              "IPY_MODEL_a3401c7fd4504995bcb855cf37e68364",
              "IPY_MODEL_b61bafdf577044c386aa74d4e132dd70",
              "IPY_MODEL_88766c982934473ab91738c7c05267d1"
            ],
            "layout": "IPY_MODEL_7e22824ab1204d0fa1b89ea0168f9657"
          }
        },
        "a181662a1d9f4c51a0bfad9b2d782df1": {
          "model_module": "@jupyter-widgets/base",
          "model_module_version": "1.2.0",
          "model_name": "LayoutModel",
          "state": {
            "_model_module": "@jupyter-widgets/base",
            "_model_module_version": "1.2.0",
            "_model_name": "LayoutModel",
            "_view_count": null,
            "_view_module": "@jupyter-widgets/base",
            "_view_module_version": "1.2.0",
            "_view_name": "LayoutView",
            "align_content": null,
            "align_items": null,
            "align_self": null,
            "border": null,
            "bottom": null,
            "display": null,
            "flex": null,
            "flex_flow": null,
            "grid_area": null,
            "grid_auto_columns": null,
            "grid_auto_flow": null,
            "grid_auto_rows": null,
            "grid_column": null,
            "grid_gap": null,
            "grid_row": null,
            "grid_template_areas": null,
            "grid_template_columns": null,
            "grid_template_rows": null,
            "height": null,
            "justify_content": null,
            "justify_items": null,
            "left": null,
            "margin": null,
            "max_height": null,
            "max_width": null,
            "min_height": null,
            "min_width": null,
            "object_fit": null,
            "object_position": null,
            "order": null,
            "overflow": null,
            "overflow_x": null,
            "overflow_y": null,
            "padding": null,
            "right": null,
            "top": null,
            "visibility": null,
            "width": null
          }
        },
        "a3401c7fd4504995bcb855cf37e68364": {
          "model_module": "@jupyter-widgets/controls",
          "model_module_version": "1.5.0",
          "model_name": "HTMLModel",
          "state": {
            "_dom_classes": [],
            "_model_module": "@jupyter-widgets/controls",
            "_model_module_version": "1.5.0",
            "_model_name": "HTMLModel",
            "_view_count": null,
            "_view_module": "@jupyter-widgets/controls",
            "_view_module_version": "1.5.0",
            "_view_name": "HTMLView",
            "description": "",
            "description_tooltip": null,
            "layout": "IPY_MODEL_e70995b76e2d4a799b7d30e84fb291f9",
            "placeholder": "​",
            "style": "IPY_MODEL_8692b00241154234b57c157468edaf19",
            "value": "Pandas Apply: 100%"
          }
        },
        "a3983e3c772545078688724f1c86dc15": {
          "model_module": "@jupyter-widgets/controls",
          "model_module_version": "1.5.0",
          "model_name": "DescriptionStyleModel",
          "state": {
            "_model_module": "@jupyter-widgets/controls",
            "_model_module_version": "1.5.0",
            "_model_name": "DescriptionStyleModel",
            "_view_count": null,
            "_view_module": "@jupyter-widgets/base",
            "_view_module_version": "1.2.0",
            "_view_name": "StyleView",
            "description_width": ""
          }
        },
        "a923f57ea7a54e8da95f3b9eab33cc1d": {
          "model_module": "@jupyter-widgets/base",
          "model_module_version": "1.2.0",
          "model_name": "LayoutModel",
          "state": {
            "_model_module": "@jupyter-widgets/base",
            "_model_module_version": "1.2.0",
            "_model_name": "LayoutModel",
            "_view_count": null,
            "_view_module": "@jupyter-widgets/base",
            "_view_module_version": "1.2.0",
            "_view_name": "LayoutView",
            "align_content": null,
            "align_items": null,
            "align_self": null,
            "border": null,
            "bottom": null,
            "display": null,
            "flex": null,
            "flex_flow": null,
            "grid_area": null,
            "grid_auto_columns": null,
            "grid_auto_flow": null,
            "grid_auto_rows": null,
            "grid_column": null,
            "grid_gap": null,
            "grid_row": null,
            "grid_template_areas": null,
            "grid_template_columns": null,
            "grid_template_rows": null,
            "height": null,
            "justify_content": null,
            "justify_items": null,
            "left": null,
            "margin": null,
            "max_height": null,
            "max_width": null,
            "min_height": null,
            "min_width": null,
            "object_fit": null,
            "object_position": null,
            "order": null,
            "overflow": null,
            "overflow_x": null,
            "overflow_y": null,
            "padding": null,
            "right": null,
            "top": null,
            "visibility": null,
            "width": null
          }
        },
        "ab3c80b69ad54c1e8a3b6bb7bd61d29f": {
          "model_module": "@jupyter-widgets/controls",
          "model_module_version": "1.5.0",
          "model_name": "HBoxModel",
          "state": {
            "_dom_classes": [],
            "_model_module": "@jupyter-widgets/controls",
            "_model_module_version": "1.5.0",
            "_model_name": "HBoxModel",
            "_view_count": null,
            "_view_module": "@jupyter-widgets/controls",
            "_view_module_version": "1.5.0",
            "_view_name": "HBoxView",
            "box_style": "",
            "children": [
              "IPY_MODEL_768449b55bf44583a997388feec5cb9b",
              "IPY_MODEL_21043fc38794453aa8382df80eadcf19",
              "IPY_MODEL_511f134cf5ee4be1b860af8b0af2b2d0"
            ],
            "layout": "IPY_MODEL_8366da818b9143939c4434d149b0c001"
          }
        },
        "b61bafdf577044c386aa74d4e132dd70": {
          "model_module": "@jupyter-widgets/controls",
          "model_module_version": "1.5.0",
          "model_name": "FloatProgressModel",
          "state": {
            "_dom_classes": [],
            "_model_module": "@jupyter-widgets/controls",
            "_model_module_version": "1.5.0",
            "_model_name": "FloatProgressModel",
            "_view_count": null,
            "_view_module": "@jupyter-widgets/controls",
            "_view_module_version": "1.5.0",
            "_view_name": "ProgressView",
            "bar_style": "success",
            "description": "",
            "description_tooltip": null,
            "layout": "IPY_MODEL_902cba575e6e40509508876d24c9d100",
            "max": 882403,
            "min": 0,
            "orientation": "horizontal",
            "style": "IPY_MODEL_3e7c56fa9de04082af4a36bf900565a5",
            "value": 882403
          }
        },
        "bb02a666708d4c0996ad3c606f1147f8": {
          "model_module": "@jupyter-widgets/base",
          "model_module_version": "1.2.0",
          "model_name": "LayoutModel",
          "state": {
            "_model_module": "@jupyter-widgets/base",
            "_model_module_version": "1.2.0",
            "_model_name": "LayoutModel",
            "_view_count": null,
            "_view_module": "@jupyter-widgets/base",
            "_view_module_version": "1.2.0",
            "_view_name": "LayoutView",
            "align_content": null,
            "align_items": null,
            "align_self": null,
            "border": null,
            "bottom": null,
            "display": null,
            "flex": null,
            "flex_flow": null,
            "grid_area": null,
            "grid_auto_columns": null,
            "grid_auto_flow": null,
            "grid_auto_rows": null,
            "grid_column": null,
            "grid_gap": null,
            "grid_row": null,
            "grid_template_areas": null,
            "grid_template_columns": null,
            "grid_template_rows": null,
            "height": null,
            "justify_content": null,
            "justify_items": null,
            "left": null,
            "margin": null,
            "max_height": null,
            "max_width": null,
            "min_height": null,
            "min_width": null,
            "object_fit": null,
            "object_position": null,
            "order": null,
            "overflow": null,
            "overflow_x": null,
            "overflow_y": null,
            "padding": null,
            "right": null,
            "top": null,
            "visibility": null,
            "width": null
          }
        },
        "bf8b132a7abc4cb588d9e52760e1b0d1": {
          "model_module": "@jupyter-widgets/controls",
          "model_module_version": "1.5.0",
          "model_name": "ProgressStyleModel",
          "state": {
            "_model_module": "@jupyter-widgets/controls",
            "_model_module_version": "1.5.0",
            "_model_name": "ProgressStyleModel",
            "_view_count": null,
            "_view_module": "@jupyter-widgets/base",
            "_view_module_version": "1.2.0",
            "_view_name": "StyleView",
            "bar_color": null,
            "description_width": ""
          }
        },
        "c1622f4aa04d4b2abc6168d576c9227f": {
          "model_module": "@jupyter-widgets/controls",
          "model_module_version": "1.5.0",
          "model_name": "HBoxModel",
          "state": {
            "_dom_classes": [],
            "_model_module": "@jupyter-widgets/controls",
            "_model_module_version": "1.5.0",
            "_model_name": "HBoxModel",
            "_view_count": null,
            "_view_module": "@jupyter-widgets/controls",
            "_view_module_version": "1.5.0",
            "_view_name": "HBoxView",
            "box_style": "",
            "children": [
              "IPY_MODEL_26b4285d170448f5b2b4c54485bc7b9d",
              "IPY_MODEL_68778e907bce4e67a3d86e587241bfea",
              "IPY_MODEL_f512725356d14c729091e7d7204b71f3"
            ],
            "layout": "IPY_MODEL_1ac56df948504df0b710b271fc3d7aa5"
          }
        },
        "c1725fa0f9094123a9324c2d52ccf07a": {
          "model_module": "@jupyter-widgets/base",
          "model_module_version": "1.2.0",
          "model_name": "LayoutModel",
          "state": {
            "_model_module": "@jupyter-widgets/base",
            "_model_module_version": "1.2.0",
            "_model_name": "LayoutModel",
            "_view_count": null,
            "_view_module": "@jupyter-widgets/base",
            "_view_module_version": "1.2.0",
            "_view_name": "LayoutView",
            "align_content": null,
            "align_items": null,
            "align_self": null,
            "border": null,
            "bottom": null,
            "display": null,
            "flex": null,
            "flex_flow": null,
            "grid_area": null,
            "grid_auto_columns": null,
            "grid_auto_flow": null,
            "grid_auto_rows": null,
            "grid_column": null,
            "grid_gap": null,
            "grid_row": null,
            "grid_template_areas": null,
            "grid_template_columns": null,
            "grid_template_rows": null,
            "height": null,
            "justify_content": null,
            "justify_items": null,
            "left": null,
            "margin": null,
            "max_height": null,
            "max_width": null,
            "min_height": null,
            "min_width": null,
            "object_fit": null,
            "object_position": null,
            "order": null,
            "overflow": null,
            "overflow_x": null,
            "overflow_y": null,
            "padding": null,
            "right": null,
            "top": null,
            "visibility": null,
            "width": null
          }
        },
        "c8001c9e209548c49e3a6919b1895c49": {
          "model_module": "@jupyter-widgets/base",
          "model_module_version": "1.2.0",
          "model_name": "LayoutModel",
          "state": {
            "_model_module": "@jupyter-widgets/base",
            "_model_module_version": "1.2.0",
            "_model_name": "LayoutModel",
            "_view_count": null,
            "_view_module": "@jupyter-widgets/base",
            "_view_module_version": "1.2.0",
            "_view_name": "LayoutView",
            "align_content": null,
            "align_items": null,
            "align_self": null,
            "border": null,
            "bottom": null,
            "display": null,
            "flex": null,
            "flex_flow": null,
            "grid_area": null,
            "grid_auto_columns": null,
            "grid_auto_flow": null,
            "grid_auto_rows": null,
            "grid_column": null,
            "grid_gap": null,
            "grid_row": null,
            "grid_template_areas": null,
            "grid_template_columns": null,
            "grid_template_rows": null,
            "height": null,
            "justify_content": null,
            "justify_items": null,
            "left": null,
            "margin": null,
            "max_height": null,
            "max_width": null,
            "min_height": null,
            "min_width": null,
            "object_fit": null,
            "object_position": null,
            "order": null,
            "overflow": null,
            "overflow_x": null,
            "overflow_y": null,
            "padding": null,
            "right": null,
            "top": null,
            "visibility": null,
            "width": null
          }
        },
        "ccb2d27114fc4e499d902bf79a6a1123": {
          "model_module": "@jupyter-widgets/controls",
          "model_module_version": "1.5.0",
          "model_name": "HTMLModel",
          "state": {
            "_dom_classes": [],
            "_model_module": "@jupyter-widgets/controls",
            "_model_module_version": "1.5.0",
            "_model_name": "HTMLModel",
            "_view_count": null,
            "_view_module": "@jupyter-widgets/controls",
            "_view_module_version": "1.5.0",
            "_view_name": "HTMLView",
            "description": "",
            "description_tooltip": null,
            "layout": "IPY_MODEL_4661b62f52b14156a2819fdc058f8f7a",
            "placeholder": "​",
            "style": "IPY_MODEL_78dc08bbc4c74710adbbc50eb490082d",
            "value": "Pandas Apply: 100%"
          }
        },
        "d40dfe2785f34cbd9c6773fe07fce7b6": {
          "model_module": "@jupyter-widgets/controls",
          "model_module_version": "1.5.0",
          "model_name": "DescriptionStyleModel",
          "state": {
            "_model_module": "@jupyter-widgets/controls",
            "_model_module_version": "1.5.0",
            "_model_name": "DescriptionStyleModel",
            "_view_count": null,
            "_view_module": "@jupyter-widgets/base",
            "_view_module_version": "1.2.0",
            "_view_name": "StyleView",
            "description_width": ""
          }
        },
        "d739d93c60814afda606b3624ab1047b": {
          "model_module": "@jupyter-widgets/controls",
          "model_module_version": "1.5.0",
          "model_name": "FloatProgressModel",
          "state": {
            "_dom_classes": [],
            "_model_module": "@jupyter-widgets/controls",
            "_model_module_version": "1.5.0",
            "_model_name": "FloatProgressModel",
            "_view_count": null,
            "_view_module": "@jupyter-widgets/controls",
            "_view_module_version": "1.5.0",
            "_view_name": "ProgressView",
            "bar_style": "success",
            "description": "",
            "description_tooltip": null,
            "layout": "IPY_MODEL_2d51d4cbca2e4097bad2427c4210f84f",
            "max": 882403,
            "min": 0,
            "orientation": "horizontal",
            "style": "IPY_MODEL_7a422cbe75e54737851ee5e58ad30805",
            "value": 882403
          }
        },
        "de0450c5524245319fb8c5367b99b7cf": {
          "model_module": "@jupyter-widgets/controls",
          "model_module_version": "1.5.0",
          "model_name": "ProgressStyleModel",
          "state": {
            "_model_module": "@jupyter-widgets/controls",
            "_model_module_version": "1.5.0",
            "_model_name": "ProgressStyleModel",
            "_view_count": null,
            "_view_module": "@jupyter-widgets/base",
            "_view_module_version": "1.2.0",
            "_view_name": "StyleView",
            "bar_color": null,
            "description_width": ""
          }
        },
        "e70995b76e2d4a799b7d30e84fb291f9": {
          "model_module": "@jupyter-widgets/base",
          "model_module_version": "1.2.0",
          "model_name": "LayoutModel",
          "state": {
            "_model_module": "@jupyter-widgets/base",
            "_model_module_version": "1.2.0",
            "_model_name": "LayoutModel",
            "_view_count": null,
            "_view_module": "@jupyter-widgets/base",
            "_view_module_version": "1.2.0",
            "_view_name": "LayoutView",
            "align_content": null,
            "align_items": null,
            "align_self": null,
            "border": null,
            "bottom": null,
            "display": null,
            "flex": null,
            "flex_flow": null,
            "grid_area": null,
            "grid_auto_columns": null,
            "grid_auto_flow": null,
            "grid_auto_rows": null,
            "grid_column": null,
            "grid_gap": null,
            "grid_row": null,
            "grid_template_areas": null,
            "grid_template_columns": null,
            "grid_template_rows": null,
            "height": null,
            "justify_content": null,
            "justify_items": null,
            "left": null,
            "margin": null,
            "max_height": null,
            "max_width": null,
            "min_height": null,
            "min_width": null,
            "object_fit": null,
            "object_position": null,
            "order": null,
            "overflow": null,
            "overflow_x": null,
            "overflow_y": null,
            "padding": null,
            "right": null,
            "top": null,
            "visibility": null,
            "width": null
          }
        },
        "ebae845039964f908f92c08acb670cf1": {
          "model_module": "@jupyter-widgets/controls",
          "model_module_version": "1.5.0",
          "model_name": "ProgressStyleModel",
          "state": {
            "_model_module": "@jupyter-widgets/controls",
            "_model_module_version": "1.5.0",
            "_model_name": "ProgressStyleModel",
            "_view_count": null,
            "_view_module": "@jupyter-widgets/base",
            "_view_module_version": "1.2.0",
            "_view_name": "StyleView",
            "bar_color": null,
            "description_width": ""
          }
        },
        "ecbb1e3d8e0f42b3a32dce0bfb7f4ffc": {
          "model_module": "@jupyter-widgets/controls",
          "model_module_version": "1.5.0",
          "model_name": "HTMLModel",
          "state": {
            "_dom_classes": [],
            "_model_module": "@jupyter-widgets/controls",
            "_model_module_version": "1.5.0",
            "_model_name": "HTMLModel",
            "_view_count": null,
            "_view_module": "@jupyter-widgets/controls",
            "_view_module_version": "1.5.0",
            "_view_name": "HTMLView",
            "description": "",
            "description_tooltip": null,
            "layout": "IPY_MODEL_7fe26e8500744b528217bcc50a736e66",
            "placeholder": "​",
            "style": "IPY_MODEL_549b232439194347a0873aa1a6aa687f",
            "value": " 882403/882403 [02:31&lt;00:00, 7168.65it/s]"
          }
        },
        "f4a7909ef83f4896983d0f07d897e29a": {
          "model_module": "@jupyter-widgets/base",
          "model_module_version": "1.2.0",
          "model_name": "LayoutModel",
          "state": {
            "_model_module": "@jupyter-widgets/base",
            "_model_module_version": "1.2.0",
            "_model_name": "LayoutModel",
            "_view_count": null,
            "_view_module": "@jupyter-widgets/base",
            "_view_module_version": "1.2.0",
            "_view_name": "LayoutView",
            "align_content": null,
            "align_items": null,
            "align_self": null,
            "border": null,
            "bottom": null,
            "display": null,
            "flex": null,
            "flex_flow": null,
            "grid_area": null,
            "grid_auto_columns": null,
            "grid_auto_flow": null,
            "grid_auto_rows": null,
            "grid_column": null,
            "grid_gap": null,
            "grid_row": null,
            "grid_template_areas": null,
            "grid_template_columns": null,
            "grid_template_rows": null,
            "height": null,
            "justify_content": null,
            "justify_items": null,
            "left": null,
            "margin": null,
            "max_height": null,
            "max_width": null,
            "min_height": null,
            "min_width": null,
            "object_fit": null,
            "object_position": null,
            "order": null,
            "overflow": null,
            "overflow_x": null,
            "overflow_y": null,
            "padding": null,
            "right": null,
            "top": null,
            "visibility": null,
            "width": null
          }
        },
        "f512725356d14c729091e7d7204b71f3": {
          "model_module": "@jupyter-widgets/controls",
          "model_module_version": "1.5.0",
          "model_name": "HTMLModel",
          "state": {
            "_dom_classes": [],
            "_model_module": "@jupyter-widgets/controls",
            "_model_module_version": "1.5.0",
            "_model_name": "HTMLModel",
            "_view_count": null,
            "_view_module": "@jupyter-widgets/controls",
            "_view_module_version": "1.5.0",
            "_view_name": "HTMLView",
            "description": "",
            "description_tooltip": null,
            "layout": "IPY_MODEL_1cbd3fac1c02409d96d14061f5b10b88",
            "placeholder": "​",
            "style": "IPY_MODEL_3da3e8e200cd4273bcc6d9826243dae6",
            "value": " 882403/882403 [00:17&lt;00:00, 32753.56it/s]"
          }
        },
        "f6250fe7e2b642c9a8833de0cf026b69": {
          "model_module": "@jupyter-widgets/controls",
          "model_module_version": "1.5.0",
          "model_name": "DescriptionStyleModel",
          "state": {
            "_model_module": "@jupyter-widgets/controls",
            "_model_module_version": "1.5.0",
            "_model_name": "DescriptionStyleModel",
            "_view_count": null,
            "_view_module": "@jupyter-widgets/base",
            "_view_module_version": "1.2.0",
            "_view_name": "StyleView",
            "description_width": ""
          }
        },
        "f84abca565d340f8bb98c3a0771f9de7": {
          "model_module": "@jupyter-widgets/base",
          "model_module_version": "1.2.0",
          "model_name": "LayoutModel",
          "state": {
            "_model_module": "@jupyter-widgets/base",
            "_model_module_version": "1.2.0",
            "_model_name": "LayoutModel",
            "_view_count": null,
            "_view_module": "@jupyter-widgets/base",
            "_view_module_version": "1.2.0",
            "_view_name": "LayoutView",
            "align_content": null,
            "align_items": null,
            "align_self": null,
            "border": null,
            "bottom": null,
            "display": null,
            "flex": null,
            "flex_flow": null,
            "grid_area": null,
            "grid_auto_columns": null,
            "grid_auto_flow": null,
            "grid_auto_rows": null,
            "grid_column": null,
            "grid_gap": null,
            "grid_row": null,
            "grid_template_areas": null,
            "grid_template_columns": null,
            "grid_template_rows": null,
            "height": null,
            "justify_content": null,
            "justify_items": null,
            "left": null,
            "margin": null,
            "max_height": null,
            "max_width": null,
            "min_height": null,
            "min_width": null,
            "object_fit": null,
            "object_position": null,
            "order": null,
            "overflow": null,
            "overflow_x": null,
            "overflow_y": null,
            "padding": null,
            "right": null,
            "top": null,
            "visibility": null,
            "width": null
          }
        }
      }
    }
  },
  "nbformat": 4,
  "nbformat_minor": 0
}
